{
 "cells": [
  {
   "cell_type": "markdown",
   "id": "a5dbab9c",
   "metadata": {
    "id": "a5dbab9c",
    "tags": []
   },
   "source": [
    "# Exploratory Data Analysis using cuDF\n",
    "\n",
    "#### Original Author: Meiran Peng, edited by Mitesh Patel to support 24.06\n",
    "\n",
    "cuDF is a GPU DataFrame library for loading, joining, aggregating, filtering, and otherwise manipulating data. It provides a pandas-like API, users can easily speed workflow upto ~400x (tested on specific hardware, explore detail at the end) with changing pandas.DataFrame() to cudf.DataFrame().\n",
    "\n",
    "Explore the latest [cuDF API](https://docs.rapids.ai/api/cudf/nightly/api_docs/index.html)\n",
    "\n",
    "The performance speed up as below with comparasion cuDF vs pandas on RTX A6000 GPU and AMD Ryzen Threadripper PRO 3945WX @ 4.4GHz.(Detail info at the end)\n",
    "**<p style=\"text-align: center;\">Performance Results based on test results</p>**    \n",
    "\n",
    "\n",
    "|function| GPU Time | CPU Time| GPU Speedup |\n",
    "| --- | --- | --- | --- |   \n",
    "|read|2.046443|36.500297|17.83|\n",
    "|slice|0.014068|8.297392|589.81|\n",
    "|na|0.078052|1.826956|23.40|\n",
    "|dropna|0.057089|2.866669|50.21|\n",
    "|unique|0.007049|0.218504|30.99|\n",
    "|dropduplicate|0.048152|0.300804|6.24|\n",
    "|group_sum|0.600811|4.932876|8.21|\n",
    "\n",
    "This notebook introduces how to use DataFrames and cuDF to apply basic data analysis to the [MeteoNet Dataset](https://www.kaggle.com/datasets/katerpillar/meteonet), an open weather dataset by METEO FRANCE, the nation's official meteorological service.\n",
    "  \n",
    "The dataset represents realistic data collection, including missing or invalid data. Here, we illustrate how to:\n",
    "- Loading and saving the data\n",
    "- Perform some quick checks\n",
    "- Calculate the rate of missing data    \n",
    "- Check for invalid data\n",
    "- Run a corrleation of meteorological parameters\n",
    "- Do a computation performance check\n",
    "\n",
    "At the beginning of each of these topics, guidance is provided to show which functions in cuDF are applied. We follow up with a summary to describe the information we can glean through analysis. \n"
   ]
  },
  {
   "cell_type": "markdown",
   "id": "f7e956ce-2566-455e-a11a-8ca5283ab4cb",
   "metadata": {
    "id": "f7e956ce-2566-455e-a11a-8ca5283ab4cb",
    "tags": []
   },
   "source": [
    "## Prerequisites   \n",
    "To use this notebook, [RAPIDS](https://rapids.ai/start.html) must be installed. Please review the following steps and ensure it's properly installed.\n",
    "\n",
    "### System Requirements\n",
    "All provisioned systems need to be RAPIDS capable. Here’s what's required:\n",
    "\n",
    " **GPU**: NVIDIA Volta™ or better with compute capability 7.0+\n",
    "\n",
    " **OS**: One of the following OS versions:\n",
    " - Ubuntu 20.04/22.04 or Rocky Linux 8 with gcc/++ 9.0+\n",
    " - Windows 11 using WSL2 See separate install guide \n",
    " - RHEL 7/8 support is provided through Rocky Linux 8 builds/installs\n",
    "\n",
    " **CUDA & NVIDIA Drivers**: One of the following supported versions:\n",
    " - CUDA 11.2 with Driver 470.42.01 or newer\n",
    " - CUDA 11.4 with Driver 470.42.01 or newer\n",
    " - CUDA 11.5 with Driver 495.29.05 or newer\n",
    " - CUDA 11.8 with Driver 520.61.05 or newer\n",
    " - CUDA 12.0 with Driver 525.60.13 or newer see CUDA 12 section below for notes on usage\n",
    " - CUDA 12.2 with Driver 535.86.10 or newer see CUDA 12 section below for notes on usage\n",
    "\n",
    "   \n",
    "Note: RAPIDS is tested with and officially supports the versions listed above. Newer versions of CUDA, drivers, and OS may also work with RAPIDS."
   ]
  },
  {
   "cell_type": "markdown",
   "id": "6260fc21",
   "metadata": {
    "id": "6260fc21"
   },
   "source": [
    "### Environment for RAPIDS\n",
    "You can install one of below environments for RAPIDS. Referring to [Step 2: Install Environment](https://rapids.ai/start.html), the possible environments are:\n",
    "* Conda \n",
    "* Build from source \n",
    "* PIP installation\n",
    "* Running a Docker container \n",
    "\n",
    "### Installing RAPIDS  \n",
    "There's specific ways to install RAPIDS for different environments. \n",
    "#### Conda   \n",
    "Below is the command for basic installation under Conda:\n",
    "```\n",
    "conda create -n rapids-24.06 -c rapidsai -c conda-forge -c nvidia rapids=24.06 python=3.11 cuda-version=12.2 jupyterlab\n",
    "```\n",
    "\n",
    "You can specify python version either 3.9 or 3.10, cudatoolkit version as one of 11.2, 11.4, 11.5, and 11.8.    \n",
    "\n",
    "NOTE: ```rapids=24.06``` means to install standard selection contains all following packages: _cuDF, cuML, cuGraph, cuSpatial/cuProj, cuXFilter, cuCIM_, RAFT, cuVS. You can specify the package you want to use via instead ```cudf=24.06``` as an example. \n",
    "\n",
    "For addtional installation of Dask SQL, JupyterLab, Plotly Dash, Graphistry, etc., you can add the related package name to the conda install command. Find detailed information at [Step 3: Install Rapids](https://rapids.ai/start.html).\n",
    "\n",
    "#### Docker\n",
    "RAPIDS requires both Docker CE v19.03+ and [nvidia-container-toolkit](https://github.com/NVIDIA/nvidia-container-toolkit) installed. \n",
    "\n",
    "Here's an example using a Docker container from NGC, selecting CUDA 12.2 and Ubuntu 22.04. The command does both pulling the container and running it.\n",
    "```\n",
    "docker run --gpus all --pull always --rm -it \\\n",
    "    --shm-size=1g --ulimit memlock=-1 --ulimit stack=67108864 \\\n",
    "    nvcr.io/nvidia/rapidsai/base:24.06-cuda12.2-py3.11\n",
    "```\n",
    "Check more on docker command for specific system and _Dask-SQL, CLX_ support see [Step 3: Install Rapids](https://rapids.ai/start.html)"
   ]
  },
  {
   "cell_type": "markdown",
   "id": "3b16f79b",
   "metadata": {
    "id": "3b16f79b"
   },
   "source": [
    "## Prepare the Dataset - Ground Stations\n",
    "In this section will show how to perform basic analysis on the Ground Stations Dataset from METEONET."
   ]
  },
  {
   "cell_type": "markdown",
   "id": "16dc0234",
   "metadata": {
    "id": "16dc0234",
    "tags": []
   },
   "source": [
    "### Download the Dataset\n",
    "During this first task, let's use the Northwest France ground station data. Each parameter was measured every six minutes (10 times an hour). The parameters in the data set are listed below. More detailed information is available in [this Github repo](https://meteofrance.github.io/meteonet/english/data/ground-observations/)."
   ]
  },
  {
   "cell_type": "markdown",
   "id": "d306673f",
   "metadata": {
    "id": "d306673f"
   },
   "source": [
    "**<p style=\"text-align: center;\">Metadata</p>**\n",
    "\n",
    "|Name| Description | Unit|   \n",
    "| --- | --- | --- |          \n",
    "|number_sta|ground station ID| - |   \n",
    "|lat| latitude| decimal degrees (10^-1°) |    \n",
    "|lon| longitude| decimal degrees (10^-1°) |   \n",
    "|height_sta| station height| meters(m) |    \n",
    "|date| a datetime object| format 'YYYY-MM-DD HH:mm:ss' |    "
   ]
  },
  {
   "cell_type": "markdown",
   "id": "f44b4b13-7a94-4821-aab6-9191eb804e87",
   "metadata": {
    "id": "f44b4b13-7a94-4821-aab6-9191eb804e87"
   },
   "source": [
    "**<p style=\"text-align: center;\">Meteorological Parameters</p>**\n",
    "\n",
    "|Name| Description | Unit| \n",
    "| --- | --- | --- |   \n",
    "|dd| Wind direction | degrees (°)|    \n",
    "|ff| Wind speed | m.s^-1|    \n",
    "|precip| Precipitation during the reporting period | kg.m^2|    \n",
    "|hu| Humidity | % |      \n",
    "|td| Dew point | Kelvin (K) |     \n",
    "|t| Temperature | Kelvin (K) |   \n",
    "|psl| Pressure reduced to sea level | Pascal (Pa)|"
   ]
  },
  {
   "cell_type": "markdown",
   "id": "7a5c669c-bf39-43f1-8094-0f0fe359e43d",
   "metadata": {
    "id": "7a5c669c-bf39-43f1-8094-0f0fe359e43d"
   },
   "source": [
    "With the data now described, let's download and unzip the 1.7G dataset."
   ]
  },
  {
   "cell_type": "code",
   "execution_count": 1,
   "id": "2f0c3e85",
   "metadata": {
    "id": "2f0c3e85",
    "outputId": "3f1f4996-f22b-4653-be13-4b2411332d7f"
   },
   "outputs": [
    {
     "name": "stdout",
     "output_type": "stream",
     "text": [
      "NW2018.csv found\n",
      "NW2017.csv found\n",
      "NW2016.csv found\n"
     ]
    }
   ],
   "source": [
    "# Download dataset\n",
    "# These three wget commands will download three years' worth of data\n",
    "!if [ ! -f \"NW2018.csv\" ]; then curl https://meteonet.umr-cnrm.fr/dataset/data/NW/ground_stations/NW_ground_stations_2018.tar.gz -o SE_ground_stations_2018.tar.gz; else echo \"NW2018.csv found\"; fi\n",
    "!if [ ! -f \"NW2017.csv\" ]; then curl https://meteonet.umr-cnrm.fr/dataset/data/SE/ground_stations/NW_ground_stations_2017.tar.gz -o SE_ground_stations_2017.tar.gz; else echo \"NW2017.csv found\"; fi\n",
    "!if [ ! -f \"NW2016.csv\" ]; then curl https://meteonet.umr-cnrm.fr/dataset/data/SE/ground_stations/NW_ground_stations_2016.tar.gz -o SE_ground_stations_2016.tar.gz; else echo \"NW2016.csv found\"; fi"
   ]
  },
  {
   "cell_type": "code",
   "execution_count": 2,
   "id": "97c3112d",
   "metadata": {
    "id": "97c3112d",
    "outputId": "2c6abc0b-2fab-47f9-f0a4-3da5a57f29a6"
   },
   "outputs": [],
   "source": [
    "# Unzip it in the shell\n",
    "!if [ ! -f \"NW2018.csv\" ]; then tar -xvf NW_ground_stations_2018.tar.gz && rm -f NW_ground_stations_2018.tar.gz else echo \"NW2018.csv found\"; fi\n",
    "!if [ ! -f \"NW2017.csv\" ]; then tar -xvf NW_ground_stations_2017.tar.gz && rm -f NW_ground_stations_2017.tar.gz else echo \"NW2017.csv found\"; fi\n",
    "!if [ ! -f \"NW2016.csv\" ]; then tar -xvf NW_ground_stations_2016.tar.gz && rm -f NW_ground_stations_2016.tar.gz else echo \"NW2016.csv found\"; fi"
   ]
  },
  {
   "cell_type": "code",
   "execution_count": 3,
   "id": "d83e7f99-9beb-45eb-a9b1-d73337ab3e47",
   "metadata": {
    "id": "d83e7f99-9beb-45eb-a9b1-d73337ab3e47",
    "outputId": "0f0caf14-7ffe-4d3e-ed6b-5bdd1e77f90b"
   },
   "outputs": [
    {
     "name": "stdout",
     "output_type": "stream",
     "text": [
      "1.7G -rw-r--r-- 1 mitesh mitesh 1.7G Jan 23  2020 NW2016.csv\n",
      "1.7G -rw-r--r-- 1 mitesh mitesh 1.7G Jan 23  2020 NW2017.csv\n",
      "1.7G -rw-r--r-- 1 mitesh mitesh 1.7G Jan 23  2020 NW2018.csv\n"
     ]
    }
   ],
   "source": [
    "# Are they listed?\n",
    "!ls -l -sh NW2*.csv"
   ]
  },
  {
   "cell_type": "markdown",
   "id": "f1fa599c-da22-450c-a0ce-c3c0ed947e83",
   "metadata": {
    "id": "f1fa599c-da22-450c-a0ce-c3c0ed947e83"
   },
   "source": [
    "With the dataset now in hand, let's load the data and take an initial look at the contents."
   ]
  },
  {
   "cell_type": "markdown",
   "id": "c90942fe",
   "metadata": {
    "id": "c90942fe"
   },
   "source": [
    "## Loading and Saving the data, and perform some quick checks\n",
    "\n",
    "There are some basic features of DataFrames that will make your work easier. Here are a few we'll use:\n",
    "- The dataset from the METRONET is .csv format, meaning \"comma separated values\". Therefore, the ```.read_csv()``` function can help to load the dataset to data frame format. Make special note of the \"line terminator: defined in the csv file.\n",
    "- With the help of the functions ```.head()``` and ```.tail()``` from cudf library, we can see the first and last several observations of the dataset. Very handy for working with long datasets. \n",
    "- ```.shape``` will describe the shape of the DataFrame.\n",
    "- ```.drop_duplicates()``` function drops the duplicated rows, optionally only considering a certain subset of the DataFrame's columns.\n",
    "- ```.drop()``` function drop specifc columns.\n",
    "- ```cudf.to_datetime()``` function help to convert argument to datetime dtype\n",
    "- ```.concat()``` function to concatenate DataFrames, Series, or Indices row-wise.\n",
    "- ```.to_csv()``` function help to write a dataframe to csv file format.\n",
    "\n",
    "**Note**: The following processing uses a combined dataset from years 2016, 2017, and 2018, which is about 6GB in size. If limited by the GPU's memory (out of memory error), you can load just one of the datasets to investigate how cuDF works. "
   ]
  },
  {
   "cell_type": "code",
   "execution_count": 4,
   "id": "4f6c2e66-5511-42cd-8c8f-9fdd8b94562f",
   "metadata": {},
   "outputs": [],
   "source": [
    "## load cudf.pandas kernel\n",
    "%load_ext cudf.pandas"
   ]
  },
  {
   "cell_type": "code",
   "execution_count": 5,
   "id": "4da38753",
   "metadata": {
    "id": "4da38753"
   },
   "outputs": [],
   "source": [
    "# Here's where we import the cuDF and cuPY libraries\n",
    "import pandas as pd\n",
    "import cupy as cp"
   ]
  },
  {
   "cell_type": "code",
   "execution_count": 6,
   "id": "0b010eba",
   "metadata": {
    "id": "0b010eba",
    "outputId": "62e108d1-338e-4e79-a875-7ac3cf61f764"
   },
   "outputs": [
    {
     "name": "stdout",
     "output_type": "stream",
     "text": [
      "<class 'cudf.core.dataframe.DataFrame'>\n",
      "RangeIndex: 65826837 entries, 0 to 65826836\n",
      "Data columns (total 12 columns):\n",
      " #   Column      Dtype\n",
      "---  ------      -----\n",
      " 0   number_sta  int64\n",
      " 1   lat         float64\n",
      " 2   lon         float64\n",
      " 3   height_sta  float64\n",
      " 4   date        object\n",
      " 5   dd          float64\n",
      " 6   ff          float64\n",
      " 7   precip      float64\n",
      " 8   hu          float64\n",
      " 9   td          float64\n",
      " 10  t           float64\n",
      "        object\n",
      "dtypes: float64(9), int64(1), object(2)\n",
      "memory usage: 6.5+ GB\n"
     ]
    },
    {
     "data": {
      "text/html": [
       "<pre style=\"white-space:pre;overflow-x:auto;line-height:normal;font-family:Menlo,'DejaVu Sans Mono',consolas,'Courier New',monospace\"><span style=\"font-style: italic\">                                                                                                    </span>\n",
       "<span style=\"font-style: italic\">                                     Total time elapsed: 4.327 seconds                              </span>\n",
       "<span style=\"font-style: italic\">                                   8 GPU function calls in 3.977 seconds                            </span>\n",
       "<span style=\"font-style: italic\">                                   0 CPU function calls in 0.000 seconds                            </span>\n",
       "<span style=\"font-style: italic\">                                                                                                    </span>\n",
       "<span style=\"font-style: italic\">                                                   Stats                                            </span>\n",
       "<span style=\"font-style: italic\">                                                                                                    </span>\n",
       "┏━━━━━━━━━━━━━━━━┳━━━━━━━━━━━━┳━━━━━━━━━━━━━┳━━━━━━━━━━━━━┳━━━━━━━━━━━━┳━━━━━━━━━━━━━┳━━━━━━━━━━━━━┓\n",
       "┃<span style=\"font-weight: bold\"> Function       </span>┃<span style=\"font-weight: bold\"> GPU ncalls </span>┃<span style=\"font-weight: bold\"> GPU cumtime </span>┃<span style=\"font-weight: bold\"> GPU percall </span>┃<span style=\"font-weight: bold\"> CPU ncalls </span>┃<span style=\"font-weight: bold\"> CPU cumtime </span>┃<span style=\"font-weight: bold\"> CPU percall </span>┃\n",
       "┡━━━━━━━━━━━━━━━━╇━━━━━━━━━━━━╇━━━━━━━━━━━━━╇━━━━━━━━━━━━━╇━━━━━━━━━━━━╇━━━━━━━━━━━━━╇━━━━━━━━━━━━━┩\n",
       "│ DataFrame      │ 3          │ 0.001       │ 0.000       │ 0          │ 0.000       │ 0.000       │\n",
       "│ read_csv       │ 3          │ 3.901       │ 1.300       │ 0          │ 0.000       │ 0.000       │\n",
       "│ concat         │ 1          │ 0.043       │ 0.043       │ 0          │ 0.000       │ 0.000       │\n",
       "│ DataFrame.info │ 1          │ 0.032       │ 0.032       │ 0          │ 0.000       │ 0.000       │\n",
       "└────────────────┴────────────┴─────────────┴─────────────┴────────────┴─────────────┴─────────────┘\n",
       "</pre>\n"
      ],
      "text/plain": [
       "\u001b[3m                                                                                                    \u001b[0m\n",
       "\u001b[3m                                     Total time elapsed: 4.327 seconds                              \u001b[0m\n",
       "\u001b[3m                                   8 GPU function calls in 3.977 seconds                            \u001b[0m\n",
       "\u001b[3m                                   0 CPU function calls in 0.000 seconds                            \u001b[0m\n",
       "\u001b[3m                                                                                                    \u001b[0m\n",
       "\u001b[3m                                                   Stats                                            \u001b[0m\n",
       "\u001b[3m                                                                                                    \u001b[0m\n",
       "┏━━━━━━━━━━━━━━━━┳━━━━━━━━━━━━┳━━━━━━━━━━━━━┳━━━━━━━━━━━━━┳━━━━━━━━━━━━┳━━━━━━━━━━━━━┳━━━━━━━━━━━━━┓\n",
       "┃\u001b[1m \u001b[0m\u001b[1mFunction      \u001b[0m\u001b[1m \u001b[0m┃\u001b[1m \u001b[0m\u001b[1mGPU ncalls\u001b[0m\u001b[1m \u001b[0m┃\u001b[1m \u001b[0m\u001b[1mGPU cumtime\u001b[0m\u001b[1m \u001b[0m┃\u001b[1m \u001b[0m\u001b[1mGPU percall\u001b[0m\u001b[1m \u001b[0m┃\u001b[1m \u001b[0m\u001b[1mCPU ncalls\u001b[0m\u001b[1m \u001b[0m┃\u001b[1m \u001b[0m\u001b[1mCPU cumtime\u001b[0m\u001b[1m \u001b[0m┃\u001b[1m \u001b[0m\u001b[1mCPU percall\u001b[0m\u001b[1m \u001b[0m┃\n",
       "┡━━━━━━━━━━━━━━━━╇━━━━━━━━━━━━╇━━━━━━━━━━━━━╇━━━━━━━━━━━━━╇━━━━━━━━━━━━╇━━━━━━━━━━━━━╇━━━━━━━━━━━━━┩\n",
       "│ DataFrame      │ 3          │ 0.001       │ 0.000       │ 0          │ 0.000       │ 0.000       │\n",
       "│ read_csv       │ 3          │ 3.901       │ 1.300       │ 0          │ 0.000       │ 0.000       │\n",
       "│ concat         │ 1          │ 0.043       │ 0.043       │ 0          │ 0.000       │ 0.000       │\n",
       "│ DataFrame.info │ 1          │ 0.032       │ 0.032       │ 0          │ 0.000       │ 0.000       │\n",
       "└────────────────┴────────────┴─────────────┴─────────────┴────────────┴─────────────┴─────────────┘\n"
      ]
     },
     "metadata": {},
     "output_type": "display_data"
    },
    {
     "name": "stdout",
     "output_type": "stream",
     "text": [
      "CPU times: user 1.65 s, sys: 2.51 s, total: 4.16 s\n",
      "Wall time: 4.33 s\n"
     ]
    }
   ],
   "source": [
    "%%time\n",
    "%%cudf.pandas.profile\n",
    "# Do a warm-up when benchmarking performance. Refer to the last section of code for the performance check. \n",
    "# If you get an out of memory error, you can comment out two of read_cvs lines below. Just make sure\n",
    "# to update the gdf_frames line, too, to reflect which one dataset you're keeping.\n",
    "\n",
    "# Empty DataFrame placeholders so you can select just one or two of the years of data. \n",
    "gdf_2016 = pd.DataFrame()\n",
    "gdf_2017 = pd.DataFrame()\n",
    "gdf_2018 = pd.DataFrame()\n",
    "\n",
    "# **********NOTE***********\n",
    "# Comment out one or two of these if your GPU memory is full.\n",
    "gdf_2016 = pd.read_csv('./NW2016.csv')\n",
    "gdf_2017 = pd.read_csv('./NW2017.csv')\n",
    "gdf_2018 = pd.read_csv('./NW2018.csv')\n",
    "\n",
    "gdf_frames =[gdf_2016,gdf_2017,gdf_2018]\n",
    "GS_df = pd.concat(gdf_frames,ignore_index=True)\n",
    "GS_df.info()"
   ]
  },
  {
   "cell_type": "code",
   "execution_count": 7,
   "id": "16ddbfd7-4172-492d-8315-bd0b60210412",
   "metadata": {
    "id": "16ddbfd7-4172-492d-8315-bd0b60210412",
    "outputId": "5d3fdbb4-fd73-4a50-adeb-e028093482c3"
   },
   "outputs": [
    {
     "data": {
      "text/html": [
       "<div>\n",
       "<style scoped>\n",
       "    .dataframe tbody tr th:only-of-type {\n",
       "        vertical-align: middle;\n",
       "    }\n",
       "\n",
       "    .dataframe tbody tr th {\n",
       "        vertical-align: top;\n",
       "    }\n",
       "\n",
       "    .dataframe thead th {\n",
       "        text-align: right;\n",
       "    }\n",
       "</style>\n",
       "<table border=\"1\" class=\"dataframe\">\n",
       "  <thead>\n",
       "    <tr style=\"text-align: right;\">\n",
       "      <th></th>\n",
       "      <th>number_sta</th>\n",
       "      <th>lat</th>\n",
       "      <th>lon</th>\n",
       "      <th>height_sta</th>\n",
       "      <th>date</th>\n",
       "      <th>dd</th>\n",
       "      <th>ff</th>\n",
       "      <th>precip</th>\n",
       "      <th>hu</th>\n",
       "      <th>td</th>\n",
       "      <th>t</th>\n",
       "      <th>psl\\r</th>\n",
       "    </tr>\n",
       "  </thead>\n",
       "  <tbody>\n",
       "    <tr>\n",
       "      <th>65826832</th>\n",
       "      <td>86137003</td>\n",
       "      <td>47.035</td>\n",
       "      <td>0.098</td>\n",
       "      <td>96.0</td>\n",
       "      <td>20181231 23:54</td>\n",
       "      <td>40.0</td>\n",
       "      <td>2.9</td>\n",
       "      <td>0.0</td>\n",
       "      <td>88.0</td>\n",
       "      <td>278.85</td>\n",
       "      <td>280.75</td>\n",
       "      <td>\\r</td>\n",
       "    </tr>\n",
       "    <tr>\n",
       "      <th>65826833</th>\n",
       "      <td>86165005</td>\n",
       "      <td>46.412</td>\n",
       "      <td>0.841</td>\n",
       "      <td>153.0</td>\n",
       "      <td>20181231 23:54</td>\n",
       "      <td>60.0</td>\n",
       "      <td>3.3</td>\n",
       "      <td>0.0</td>\n",
       "      <td>95.0</td>\n",
       "      <td>278.85</td>\n",
       "      <td>279.55</td>\n",
       "      <td>\\r</td>\n",
       "    </tr>\n",
       "    <tr>\n",
       "      <th>65826834</th>\n",
       "      <td>86272002</td>\n",
       "      <td>46.839</td>\n",
       "      <td>0.457</td>\n",
       "      <td>120.0</td>\n",
       "      <td>20181231 23:54</td>\n",
       "      <td>NaN</td>\n",
       "      <td>NaN</td>\n",
       "      <td>0.0</td>\n",
       "      <td>NaN</td>\n",
       "      <td>NaN</td>\n",
       "      <td>NaN</td>\n",
       "      <td>\\r</td>\n",
       "    </tr>\n",
       "    <tr>\n",
       "      <th>65826835</th>\n",
       "      <td>91200002</td>\n",
       "      <td>48.526</td>\n",
       "      <td>1.993</td>\n",
       "      <td>116.0</td>\n",
       "      <td>20181231 23:54</td>\n",
       "      <td>270.0</td>\n",
       "      <td>0.8</td>\n",
       "      <td>0.0</td>\n",
       "      <td>96.0</td>\n",
       "      <td>279.75</td>\n",
       "      <td>280.35</td>\n",
       "      <td>\\r</td>\n",
       "    </tr>\n",
       "    <tr>\n",
       "      <th>65826836</th>\n",
       "      <td>95690001</td>\n",
       "      <td>49.108</td>\n",
       "      <td>1.831</td>\n",
       "      <td>126.0</td>\n",
       "      <td>20181231 23:54</td>\n",
       "      <td>280.0</td>\n",
       "      <td>2.4</td>\n",
       "      <td>0.0</td>\n",
       "      <td>97.0</td>\n",
       "      <td>279.65</td>\n",
       "      <td>280.05</td>\n",
       "      <td>\\r</td>\n",
       "    </tr>\n",
       "  </tbody>\n",
       "</table>\n",
       "</div>"
      ],
      "text/plain": [
       "          number_sta     lat    lon  height_sta            date     dd    ff  \\\n",
       "65826832    86137003  47.035  0.098        96.0  20181231 23:54   40.0   2.9   \n",
       "65826833    86165005  46.412  0.841       153.0  20181231 23:54   60.0   3.3   \n",
       "65826834    86272002  46.839  0.457       120.0  20181231 23:54   <NA>  <NA>   \n",
       "65826835    91200002  48.526  1.993       116.0  20181231 23:54  270.0   0.8   \n",
       "65826836    95690001  49.108  1.831       126.0  20181231 23:54  280.0   2.4   \n",
       "\n",
       "          precip    hu      td       t psl\\r  \n",
       "65826832     0.0  88.0  278.85  280.75    \\r  \n",
       "65826833     0.0  95.0  278.85  279.55    \\r  \n",
       "65826834     0.0  <NA>    <NA>    <NA>    \\r  \n",
       "65826835     0.0  96.0  279.75  280.35    \\r  \n",
       "65826836     0.0  97.0  279.65  280.05    \\r  "
      ]
     },
     "execution_count": 7,
     "metadata": {},
     "output_type": "execute_result"
    }
   ],
   "source": [
    "# Here's the bottom of the dataset\n",
    "GS_df.tail()"
   ]
  },
  {
   "cell_type": "code",
   "execution_count": 8,
   "id": "6e8bad10-f17a-4ac0-a5eb-102682307b38",
   "metadata": {
    "id": "6e8bad10-f17a-4ac0-a5eb-102682307b38",
    "outputId": "edb312b4-c748-49d3-b989-6f55381ea957"
   },
   "outputs": [
    {
     "data": {
      "text/html": [
       "<pre style=\"white-space:pre;overflow-x:auto;line-height:normal;font-family:Menlo,'DejaVu Sans Mono',consolas,'Courier New',monospace\"><span style=\"font-style: italic\">                                                                                                      </span>\n",
       "<span style=\"font-style: italic\">                                      Total time elapsed: 7.915 seconds                               </span>\n",
       "<span style=\"font-style: italic\">                                    1 GPU function calls in 7.775 seconds                             </span>\n",
       "<span style=\"font-style: italic\">                                    0 CPU function calls in 0.000 seconds                             </span>\n",
       "<span style=\"font-style: italic\">                                                                                                      </span>\n",
       "<span style=\"font-style: italic\">                                                    Stats                                             </span>\n",
       "<span style=\"font-style: italic\">                                                                                                      </span>\n",
       "┏━━━━━━━━━━━━━━━━━━┳━━━━━━━━━━━━┳━━━━━━━━━━━━━┳━━━━━━━━━━━━━┳━━━━━━━━━━━━┳━━━━━━━━━━━━━┳━━━━━━━━━━━━━┓\n",
       "┃<span style=\"font-weight: bold\"> Function         </span>┃<span style=\"font-weight: bold\"> GPU ncalls </span>┃<span style=\"font-weight: bold\"> GPU cumtime </span>┃<span style=\"font-weight: bold\"> GPU percall </span>┃<span style=\"font-weight: bold\"> CPU ncalls </span>┃<span style=\"font-weight: bold\"> CPU cumtime </span>┃<span style=\"font-weight: bold\"> CPU percall </span>┃\n",
       "┡━━━━━━━━━━━━━━━━━━╇━━━━━━━━━━━━╇━━━━━━━━━━━━━╇━━━━━━━━━━━━━╇━━━━━━━━━━━━╇━━━━━━━━━━━━━╇━━━━━━━━━━━━━┩\n",
       "│ DataFrame.to_csv │ 1          │ 7.775       │ 7.775       │ 0          │ 0.000       │ 0.000       │\n",
       "└──────────────────┴────────────┴─────────────┴─────────────┴────────────┴─────────────┴─────────────┘\n",
       "</pre>\n"
      ],
      "text/plain": [
       "\u001b[3m                                                                                                      \u001b[0m\n",
       "\u001b[3m                                      Total time elapsed: 7.915 seconds                               \u001b[0m\n",
       "\u001b[3m                                    1 GPU function calls in 7.775 seconds                             \u001b[0m\n",
       "\u001b[3m                                    0 CPU function calls in 0.000 seconds                             \u001b[0m\n",
       "\u001b[3m                                                                                                      \u001b[0m\n",
       "\u001b[3m                                                    Stats                                             \u001b[0m\n",
       "\u001b[3m                                                                                                      \u001b[0m\n",
       "┏━━━━━━━━━━━━━━━━━━┳━━━━━━━━━━━━┳━━━━━━━━━━━━━┳━━━━━━━━━━━━━┳━━━━━━━━━━━━┳━━━━━━━━━━━━━┳━━━━━━━━━━━━━┓\n",
       "┃\u001b[1m \u001b[0m\u001b[1mFunction        \u001b[0m\u001b[1m \u001b[0m┃\u001b[1m \u001b[0m\u001b[1mGPU ncalls\u001b[0m\u001b[1m \u001b[0m┃\u001b[1m \u001b[0m\u001b[1mGPU cumtime\u001b[0m\u001b[1m \u001b[0m┃\u001b[1m \u001b[0m\u001b[1mGPU percall\u001b[0m\u001b[1m \u001b[0m┃\u001b[1m \u001b[0m\u001b[1mCPU ncalls\u001b[0m\u001b[1m \u001b[0m┃\u001b[1m \u001b[0m\u001b[1mCPU cumtime\u001b[0m\u001b[1m \u001b[0m┃\u001b[1m \u001b[0m\u001b[1mCPU percall\u001b[0m\u001b[1m \u001b[0m┃\n",
       "┡━━━━━━━━━━━━━━━━━━╇━━━━━━━━━━━━╇━━━━━━━━━━━━━╇━━━━━━━━━━━━━╇━━━━━━━━━━━━╇━━━━━━━━━━━━━╇━━━━━━━━━━━━━┩\n",
       "│ DataFrame.to_csv │ 1          │ 7.775       │ 7.775       │ 0          │ 0.000       │ 0.000       │\n",
       "└──────────────────┴────────────┴─────────────┴─────────────┴────────────┴─────────────┴─────────────┘\n"
      ]
     },
     "metadata": {},
     "output_type": "display_data"
    },
    {
     "name": "stdout",
     "output_type": "stream",
     "text": [
      "CPU times: user 1.19 s, sys: 6.52 s, total: 7.71 s\n",
      "Wall time: 7.92 s\n"
     ]
    }
   ],
   "source": [
    "%%time\n",
    "%%cudf.pandas.profile\n",
    "## Save the (concatenated) dataframe to csv file\n",
    "GS_df.to_csv('./NW_data.csv',index=False,chunksize=500000)"
   ]
  },
  {
   "cell_type": "markdown",
   "id": "c51d568a-c583-4f92-ab0a-4043377d2de4",
   "metadata": {
    "id": "c51d568a-c583-4f92-ab0a-4043377d2de4"
   },
   "source": [
    "Restart Kernel to release all GPU memory usage, then read the data for subsequent processing."
   ]
  },
  {
   "cell_type": "code",
   "execution_count": 9,
   "id": "8206777c-b774-4a4e-92c5-057d5e5a0433",
   "metadata": {
    "id": "8206777c-b774-4a4e-92c5-057d5e5a0433",
    "outputId": "4d5cd67d-9238-433d-8571-774909b87cb8"
   },
   "outputs": [
    {
     "data": {
      "text/plain": [
       "{'status': 'ok', 'restart': True}"
      ]
     },
     "execution_count": 9,
     "metadata": {},
     "output_type": "execute_result"
    }
   ],
   "source": [
    "## Restart Kernels previous to doing the below performance comparasions.\n",
    "import IPython\n",
    "app = IPython.Application.instance()\n",
    "app.kernel.do_shutdown(True)"
   ]
  },
  {
   "cell_type": "code",
   "execution_count": 3,
   "id": "b2085cba-bc91-42e7-b13e-70394d625010",
   "metadata": {
    "id": "b2085cba-bc91-42e7-b13e-70394d625010",
    "outputId": "97a2bd71-96e7-4546-a6d5-04caf65749fe"
   },
   "outputs": [
    {
     "name": "stdout",
     "output_type": "stream",
     "text": [
      "Fri Jul 19 16:55:24 2024       \n",
      "+-----------------------------------------------------------------------------------------+\n",
      "| NVIDIA-SMI 550.90.07              Driver Version: 550.90.07      CUDA Version: 12.4     |\n",
      "|-----------------------------------------+------------------------+----------------------+\n",
      "| GPU  Name                 Persistence-M | Bus-Id          Disp.A | Volatile Uncorr. ECC |\n",
      "| Fan  Temp   Perf          Pwr:Usage/Cap |           Memory-Usage | GPU-Util  Compute M. |\n",
      "|                                         |                        |               MIG M. |\n",
      "|=========================================+========================+======================|\n",
      "|   0  NVIDIA RTX A6000               Off |   00000000:41:00.0 Off |                  Off |\n",
      "| 30%   47C    P8             20W /  300W |     287MiB /  49140MiB |      0%      Default |\n",
      "|                                         |                        |                  N/A |\n",
      "+-----------------------------------------+------------------------+----------------------+\n",
      "|   1  NVIDIA RTX A6000               Off |   00000000:61:00.0  On |                  Off |\n",
      "| 30%   43C    P8             27W /  300W |     150MiB /  49140MiB |      0%      Default |\n",
      "|                                         |                        |                  N/A |\n",
      "+-----------------------------------------+------------------------+----------------------+\n",
      "                                                                                         \n",
      "+-----------------------------------------------------------------------------------------+\n",
      "| Processes:                                                                              |\n",
      "|  GPU   GI   CI        PID   Type   Process name                              GPU Memory |\n",
      "|        ID   ID                                                               Usage      |\n",
      "|=========================================================================================|\n",
      "|    0   N/A  N/A      3171      G   /usr/lib/xorg/Xorg                              4MiB |\n",
      "|    0   N/A  N/A    237817      C   ...h/miniconda3/envs/rapids/bin/python        270MiB |\n",
      "|    1   N/A  N/A      3171      G   /usr/lib/xorg/Xorg                            128MiB |\n",
      "|    1   N/A  N/A      3276      G   /usr/bin/gnome-shell                            8MiB |\n",
      "+-----------------------------------------------------------------------------------------+\n"
     ]
    }
   ],
   "source": [
    "# Let's make sure the GPU is visible!\n",
    "!nvidia-smi"
   ]
  },
  {
   "cell_type": "code",
   "execution_count": 4,
   "id": "563a51be",
   "metadata": {},
   "outputs": [
    {
     "name": "stdout",
     "output_type": "stream",
     "text": [
      "The cudf.pandas extension is already loaded. To reload it, use:\n",
      "  %reload_ext cudf.pandas\n"
     ]
    }
   ],
   "source": [
    "## load cudf.pandas kernel\n",
    "%load_ext cudf.pandas"
   ]
  },
  {
   "cell_type": "code",
   "execution_count": 5,
   "id": "4afe206e-28e2-4150-a2ca-ae85293cf701",
   "metadata": {
    "id": "4afe206e-28e2-4150-a2ca-ae85293cf701"
   },
   "outputs": [],
   "source": [
    "# Import the necessary packages\n",
    "# import cudf\n",
    "import cupy as cp\n",
    "import pandas as pd"
   ]
  },
  {
   "cell_type": "code",
   "execution_count": 6,
   "id": "e5fb9ce4-a9f8-48be-a4f1-f58f0e082431",
   "metadata": {
    "id": "e5fb9ce4-a9f8-48be-a4f1-f58f0e082431",
    "outputId": "d465abec-1521-446b-cfb2-17b772fa5ecc"
   },
   "outputs": [
    {
     "data": {
      "text/html": [
       "<pre style=\"white-space:pre;overflow-x:auto;line-height:normal;font-family:Menlo,'DejaVu Sans Mono',consolas,'Courier New',monospace\"><span style=\"font-style: italic\">                                                                                              </span>\n",
       "<span style=\"font-style: italic\">                                  Total time elapsed: 2.314 seconds                           </span>\n",
       "<span style=\"font-style: italic\">                                1 GPU function calls in 1.984 seconds                         </span>\n",
       "<span style=\"font-style: italic\">                                0 CPU function calls in 0.000 seconds                         </span>\n",
       "<span style=\"font-style: italic\">                                                                                              </span>\n",
       "<span style=\"font-style: italic\">                                                Stats                                         </span>\n",
       "<span style=\"font-style: italic\">                                                                                              </span>\n",
       "┏━━━━━━━━━━┳━━━━━━━━━━━━┳━━━━━━━━━━━━━┳━━━━━━━━━━━━━┳━━━━━━━━━━━━┳━━━━━━━━━━━━━┳━━━━━━━━━━━━━┓\n",
       "┃<span style=\"font-weight: bold\"> Function </span>┃<span style=\"font-weight: bold\"> GPU ncalls </span>┃<span style=\"font-weight: bold\"> GPU cumtime </span>┃<span style=\"font-weight: bold\"> GPU percall </span>┃<span style=\"font-weight: bold\"> CPU ncalls </span>┃<span style=\"font-weight: bold\"> CPU cumtime </span>┃<span style=\"font-weight: bold\"> CPU percall </span>┃\n",
       "┡━━━━━━━━━━╇━━━━━━━━━━━━╇━━━━━━━━━━━━━╇━━━━━━━━━━━━━╇━━━━━━━━━━━━╇━━━━━━━━━━━━━╇━━━━━━━━━━━━━┩\n",
       "│ read_csv │ 1          │ 1.984       │ 1.984       │ 0          │ 0.000       │ 0.000       │\n",
       "└──────────┴────────────┴─────────────┴─────────────┴────────────┴─────────────┴─────────────┘\n",
       "</pre>\n"
      ],
      "text/plain": [
       "\u001b[3m                                                                                              \u001b[0m\n",
       "\u001b[3m                                  Total time elapsed: 2.314 seconds                           \u001b[0m\n",
       "\u001b[3m                                1 GPU function calls in 1.984 seconds                         \u001b[0m\n",
       "\u001b[3m                                0 CPU function calls in 0.000 seconds                         \u001b[0m\n",
       "\u001b[3m                                                                                              \u001b[0m\n",
       "\u001b[3m                                                Stats                                         \u001b[0m\n",
       "\u001b[3m                                                                                              \u001b[0m\n",
       "┏━━━━━━━━━━┳━━━━━━━━━━━━┳━━━━━━━━━━━━━┳━━━━━━━━━━━━━┳━━━━━━━━━━━━┳━━━━━━━━━━━━━┳━━━━━━━━━━━━━┓\n",
       "┃\u001b[1m \u001b[0m\u001b[1mFunction\u001b[0m\u001b[1m \u001b[0m┃\u001b[1m \u001b[0m\u001b[1mGPU ncalls\u001b[0m\u001b[1m \u001b[0m┃\u001b[1m \u001b[0m\u001b[1mGPU cumtime\u001b[0m\u001b[1m \u001b[0m┃\u001b[1m \u001b[0m\u001b[1mGPU percall\u001b[0m\u001b[1m \u001b[0m┃\u001b[1m \u001b[0m\u001b[1mCPU ncalls\u001b[0m\u001b[1m \u001b[0m┃\u001b[1m \u001b[0m\u001b[1mCPU cumtime\u001b[0m\u001b[1m \u001b[0m┃\u001b[1m \u001b[0m\u001b[1mCPU percall\u001b[0m\u001b[1m \u001b[0m┃\n",
       "┡━━━━━━━━━━╇━━━━━━━━━━━━╇━━━━━━━━━━━━━╇━━━━━━━━━━━━━╇━━━━━━━━━━━━╇━━━━━━━━━━━━━╇━━━━━━━━━━━━━┩\n",
       "│ read_csv │ 1          │ 1.984       │ 1.984       │ 0          │ 0.000       │ 0.000       │\n",
       "└──────────┴────────────┴─────────────┴─────────────┴────────────┴─────────────┴─────────────┘\n"
      ]
     },
     "metadata": {},
     "output_type": "display_data"
    },
    {
     "name": "stdout",
     "output_type": "stream",
     "text": [
      "CPU times: user 1.77 s, sys: 614 ms, total: 2.39 s\n",
      "Wall time: 2.38 s\n"
     ]
    }
   ],
   "source": [
    "%%time\n",
    "%%cudf.pandas.profile\n",
    "# Let's read in the dataset, which is in CSV format with newlines as the terminator.\n",
    "# And let's also keep track of the time elapsed to do so (the first line of the cell).\n",
    "\n",
    "GS_df = pd.read_csv('./NW_data.csv',lineterminator='\\n')"
   ]
  },
  {
   "cell_type": "code",
   "execution_count": 7,
   "id": "4daca401-1678-432e-bb60-73754dd80a07",
   "metadata": {
    "id": "4daca401-1678-432e-bb60-73754dd80a07",
    "outputId": "cf78d9c6-2c9e-420e-a89c-a9f7b2386030"
   },
   "outputs": [
    {
     "name": "stdout",
     "output_type": "stream",
     "text": [
      "<class 'cudf.core.dataframe.DataFrame'>\n",
      "RangeIndex: 65826837 entries, 0 to 65826836\n",
      "Data columns (total 12 columns):\n",
      " #   Column      Dtype\n",
      "---  ------      -----\n",
      " 0   number_sta  int64\n",
      " 1   lat         float64\n",
      " 2   lon         float64\n",
      " 3   height_sta  float64\n",
      " 4   date        datetime64[ns]\n",
      " 5   dd          float64\n",
      " 6   ff          float64\n",
      " 7   precip      float64\n",
      " 8   hu          float64\n",
      " 9   td          float64\n",
      " 10  t           float64\n",
      " 11  psl         float64\n",
      "dtypes: datetime64[ns](1), float64(10), int64(1)\n",
      "memory usage: 5.9 GB\n"
     ]
    }
   ],
   "source": [
    "# change the date column to datetime dtype, see the DataFrame info\n",
    "GS_df['date'] = pd.to_datetime(GS_df['date'])\n",
    "GS_df.info()"
   ]
  },
  {
   "cell_type": "code",
   "execution_count": 8,
   "id": "651d2261-b7ff-4458-884b-bb7d6cdd0a17",
   "metadata": {
    "id": "651d2261-b7ff-4458-884b-bb7d6cdd0a17",
    "outputId": "0e3cd52d-ce15-41f4-e298-d370248e04df"
   },
   "outputs": [
    {
     "data": {
      "text/html": [
       "<div>\n",
       "<style scoped>\n",
       "    .dataframe tbody tr th:only-of-type {\n",
       "        vertical-align: middle;\n",
       "    }\n",
       "\n",
       "    .dataframe tbody tr th {\n",
       "        vertical-align: top;\n",
       "    }\n",
       "\n",
       "    .dataframe thead th {\n",
       "        text-align: right;\n",
       "    }\n",
       "</style>\n",
       "<table border=\"1\" class=\"dataframe\">\n",
       "  <thead>\n",
       "    <tr style=\"text-align: right;\">\n",
       "      <th></th>\n",
       "      <th>number_sta</th>\n",
       "      <th>lat</th>\n",
       "      <th>lon</th>\n",
       "      <th>height_sta</th>\n",
       "      <th>date</th>\n",
       "      <th>dd</th>\n",
       "      <th>ff</th>\n",
       "      <th>precip</th>\n",
       "      <th>hu</th>\n",
       "      <th>td</th>\n",
       "      <th>t</th>\n",
       "      <th>psl</th>\n",
       "    </tr>\n",
       "  </thead>\n",
       "  <tbody>\n",
       "    <tr>\n",
       "      <th>0</th>\n",
       "      <td>14066001</td>\n",
       "      <td>49.33</td>\n",
       "      <td>-0.43</td>\n",
       "      <td>2.0</td>\n",
       "      <td>2016-01-01</td>\n",
       "      <td>210.0</td>\n",
       "      <td>4.4</td>\n",
       "      <td>0.0</td>\n",
       "      <td>91.0</td>\n",
       "      <td>278.45</td>\n",
       "      <td>279.85</td>\n",
       "      <td>NaN</td>\n",
       "    </tr>\n",
       "    <tr>\n",
       "      <th>1</th>\n",
       "      <td>14126001</td>\n",
       "      <td>49.15</td>\n",
       "      <td>0.04</td>\n",
       "      <td>125.0</td>\n",
       "      <td>2016-01-01</td>\n",
       "      <td>NaN</td>\n",
       "      <td>NaN</td>\n",
       "      <td>0.0</td>\n",
       "      <td>99.0</td>\n",
       "      <td>278.35</td>\n",
       "      <td>278.45</td>\n",
       "      <td>NaN</td>\n",
       "    </tr>\n",
       "    <tr>\n",
       "      <th>2</th>\n",
       "      <td>14137001</td>\n",
       "      <td>49.18</td>\n",
       "      <td>-0.46</td>\n",
       "      <td>67.0</td>\n",
       "      <td>2016-01-01</td>\n",
       "      <td>220.0</td>\n",
       "      <td>0.6</td>\n",
       "      <td>0.0</td>\n",
       "      <td>92.0</td>\n",
       "      <td>276.45</td>\n",
       "      <td>277.65</td>\n",
       "      <td>102360.0</td>\n",
       "    </tr>\n",
       "    <tr>\n",
       "      <th>3</th>\n",
       "      <td>14216001</td>\n",
       "      <td>48.93</td>\n",
       "      <td>-0.15</td>\n",
       "      <td>155.0</td>\n",
       "      <td>2016-01-01</td>\n",
       "      <td>220.0</td>\n",
       "      <td>1.9</td>\n",
       "      <td>0.0</td>\n",
       "      <td>95.0</td>\n",
       "      <td>278.25</td>\n",
       "      <td>278.95</td>\n",
       "      <td>NaN</td>\n",
       "    </tr>\n",
       "    <tr>\n",
       "      <th>4</th>\n",
       "      <td>14296001</td>\n",
       "      <td>48.80</td>\n",
       "      <td>-1.03</td>\n",
       "      <td>339.0</td>\n",
       "      <td>2016-01-01</td>\n",
       "      <td>NaN</td>\n",
       "      <td>NaN</td>\n",
       "      <td>0.0</td>\n",
       "      <td>NaN</td>\n",
       "      <td>NaN</td>\n",
       "      <td>278.35</td>\n",
       "      <td>NaN</td>\n",
       "    </tr>\n",
       "  </tbody>\n",
       "</table>\n",
       "</div>"
      ],
      "text/plain": [
       "   number_sta    lat   lon  height_sta       date     dd    ff  precip    hu  \\\n",
       "0    14066001  49.33 -0.43         2.0 2016-01-01  210.0   4.4     0.0  91.0   \n",
       "1    14126001  49.15  0.04       125.0 2016-01-01   <NA>  <NA>     0.0  99.0   \n",
       "2    14137001  49.18 -0.46        67.0 2016-01-01  220.0   0.6     0.0  92.0   \n",
       "3    14216001  48.93 -0.15       155.0 2016-01-01  220.0   1.9     0.0  95.0   \n",
       "4    14296001  48.80 -1.03       339.0 2016-01-01   <NA>  <NA>     0.0  <NA>   \n",
       "\n",
       "       td       t       psl  \n",
       "0  278.45  279.85      <NA>  \n",
       "1  278.35  278.45      <NA>  \n",
       "2  276.45  277.65  102360.0  \n",
       "3  278.25  278.95      <NA>  \n",
       "4    <NA>  278.35      <NA>  "
      ]
     },
     "execution_count": 8,
     "metadata": {},
     "output_type": "execute_result"
    }
   ],
   "source": [
    "# Display the first five rows of the DataFrame to examine details\n",
    "GS_df.head()"
   ]
  },
  {
   "cell_type": "code",
   "execution_count": 9,
   "id": "62cce57a",
   "metadata": {
    "id": "62cce57a",
    "outputId": "dacacaf3-8542-44d6-af03-c1803094f665"
   },
   "outputs": [
    {
     "data": {
      "text/plain": [
       "(65826837, 12)"
      ]
     },
     "execution_count": 9,
     "metadata": {},
     "output_type": "execute_result"
    }
   ],
   "source": [
    "# Checking the DataFrame's dimensions. Millions of rows by 12 columns.\n",
    "GS_df.shape"
   ]
  },
  {
   "cell_type": "code",
   "execution_count": 10,
   "id": "909862c9",
   "metadata": {
    "id": "909862c9",
    "outputId": "6b24a941-405a-42ce-8fb6-5b5b6832801d"
   },
   "outputs": [
    {
     "name": "stdout",
     "output_type": "stream",
     "text": [
      "<class 'cudf.core.dataframe.DataFrame'>\n",
      "RangeIndex: 65826837 entries, 0 to 65826836\n",
      "Data columns (total 12 columns):\n",
      " #   Column      Dtype\n",
      "---  ------      -----\n",
      " 0   number_sta  int64\n",
      " 1   lat         float64\n",
      " 2   lon         float64\n",
      " 3   height_sta  float64\n",
      " 4   date        datetime64[ns]\n",
      " 5   dd          float64\n",
      " 6   ff          float64\n",
      " 7   precip      float64\n",
      " 8   hu          float64\n",
      " 9   td          float64\n",
      " 10  t           float64\n",
      " 11  psl         float64\n",
      "dtypes: datetime64[ns](1), float64(10), int64(1)\n",
      "memory usage: 5.9 GB\n"
     ]
    }
   ],
   "source": [
    "# We can further examine the characteristics of a DataFrame using .info().\n",
    "# This will show, for instance, the datatype of each column and the total GPU memory it occupies.\n",
    "GS_df.info()"
   ]
  },
  {
   "cell_type": "code",
   "execution_count": 11,
   "id": "c26d9052",
   "metadata": {
    "id": "c26d9052",
    "outputId": "6a89f23e-a59a-43bf-f1af-b7b20cc42cd1"
   },
   "outputs": [
    {
     "data": {
      "text/plain": [
       "287"
      ]
     },
     "execution_count": 11,
     "metadata": {},
     "output_type": "execute_result"
    }
   ],
   "source": [
    "# DataFrames simplify data cleaning, such as dropping duplicates entries for a column.\n",
    "# In this case, we want to just keep unique ground station rows to check how many ground stations are monitored\n",
    "unique_stat_info = GS_df.drop_duplicates(subset=['number_sta'])\n",
    "unique_stat_info.shape[0]"
   ]
  },
  {
   "cell_type": "markdown",
   "id": "658f0e93",
   "metadata": {
    "id": "658f0e93"
   },
   "source": [
    "### Summary\n",
    "- The dataset series is aligned to the dataset metadata: number_sta, lat, lon, height_sta, date, dd, ff, etc.\n",
    "- There are 65826837 records from the ground stations into the total dataset occupying 12 columns.\n",
    "- There are 287 ground stations observed in this dataset."
   ]
  },
  {
   "cell_type": "markdown",
   "id": "ea8b352c",
   "metadata": {
    "id": "ea8b352c",
    "tags": []
   },
   "source": [
    "## Calculate the rate of missing data     "
   ]
  },
  {
   "cell_type": "markdown",
   "id": "79466012",
   "metadata": {
    "id": "79466012"
   },
   "source": [
    "Now we can further analyze the data, using a few handy DataFrame methods:\n",
    "- With the help of ```.nunique()``` function, count the number of distinct elements in \"number_sta\" column \n",
    "- Using ```.str.contains()```, select the items with specific sub string\n",
    "- The ```.to_numeric()``` function converts its argument into a numerical type\n",
    "- The ```.diff()``` function returns a new DataFrame containing the results of difference between rows (default is difference with the previous row)\n",
    "- The ```.min()``` function returns the minimum values in the DataFrame.\n",
    "- Also, we use ```%%time``` as the first line of cells to display the time elapsed running the code."
   ]
  },
  {
   "cell_type": "code",
   "execution_count": 12,
   "id": "262917d5",
   "metadata": {
    "id": "262917d5",
    "outputId": "eb22676b-714c-4926-9b9d-8ba72ad58db2"
   },
   "outputs": [
    {
     "name": "stdout",
     "output_type": "stream",
     "text": [
      "The full dataset is composed of 287 unique weather stations.\n",
      "CPU times: user 4.78 ms, sys: 0 ns, total: 4.78 ms\n",
      "Wall time: 4.7 ms\n"
     ]
    }
   ],
   "source": [
    "%%time\n",
    "# How many weather stations are covered in this dataset? \n",
    "# Call nunique() to count the distinct elements along a specified axis.\n",
    "\n",
    "number_stations = GS_df['number_sta'].nunique()\n",
    "print(\"The full dataset is composed of {} unique weather stations.\".format(GS_df['number_sta'].nunique()))"
   ]
  },
  {
   "cell_type": "code",
   "execution_count": 13,
   "id": "38a0c6ab-c39b-4de9-b136-deba0ecd397e",
   "metadata": {
    "id": "38a0c6ab-c39b-4de9-b136-deba0ecd397e",
    "outputId": "dce9157d-b4ad-4fd7-b86a-5f7810a1ea16"
   },
   "outputs": [
    {
     "name": "stdout",
     "output_type": "stream",
     "text": [
      "The data is recorded every 6.0 minutes\n",
      "CPU times: user 12.3 ms, sys: 16 ms, total: 28.3 ms\n",
      "Wall time: 27.2 ms\n"
     ]
    }
   ],
   "source": [
    "%%time\n",
    "## Investigate the the frequency of one specific station's data\n",
    "## date column is datestime dtype, diff() function will calculate the delta time \n",
    "## TimedeltaProperties.seconds can help to get the delta seconds between each record, divide by 60 seconds to see the minutes difference.\n",
    "delta_mins = GS_df['date'].diff().dt.seconds.max()/60\n",
    "print(f\"The data is recorded every {delta_mins} minutes\")"
   ]
  },
  {
   "cell_type": "markdown",
   "id": "534446af",
   "metadata": {
    "id": "534446af"
   },
   "source": [
    "The dataset including 287 unique stations, with 10 records per hour (record every 6 minutes), so the amount of data recorded shall be    \n",
    "```\n",
    "287 x 10 x 24 x 365 x 3 = 75,423,600 values in memory\n",
    "```\n",
    "\n",
    "Knowing this, we can calculate the missing record rate."
   ]
  },
  {
   "cell_type": "code",
   "execution_count": 14,
   "id": "3cffcf84",
   "metadata": {
    "id": "3cffcf84",
    "outputId": "4c0966f1-9d64-4203-ea65-aaee9581258a"
   },
   "outputs": [
    {
     "name": "stdout",
     "output_type": "stream",
     "text": [
      "Percentage of missing records of the NW dataset is: 12.7%\n",
      "Theoretical total number of values in dataset is: 75423600\n"
     ]
    }
   ],
   "source": [
    "# Theoretical number of records is... \n",
    "theoretical_nb_records = number_stations * (60 / delta_mins) * 365 * 3 * 24 \n",
    "actual_nb_of_rows = GS_df.shape[0]\n",
    "missing_record_ratio = 1 - (actual_nb_of_rows/theoretical_nb_records)\n",
    "print(\"Percentage of missing records of the NW dataset is: {:.1f}%\".format(missing_record_ratio * 100))\n",
    "print(\"Theoretical total number of values in dataset is: {:d}\".format(int(theoretical_nb_records)))"
   ]
  },
  {
   "cell_type": "markdown",
   "id": "3dbaa45e",
   "metadata": {
    "id": "3dbaa45e"
   },
   "source": [
    "### Summary  \n",
    "The dataset is composed of weather phenomena recordings of **287 unique ground statitions** in the Northwest of France during the year 2016, 2017 and 2018. The record is monitored every 6 minutes including wind direction, wind speed, humidity, temperature and pressure, etc. \n",
    "- The theoretical number of records is 75423600 \n",
    "- Actual number of items in the dataset is 65826837\n",
    "- There are missing records during the monitoring period at a percentage of during the year 2016 to 2018."
   ]
  },
  {
   "cell_type": "markdown",
   "id": "65a3cae4",
   "metadata": {
    "id": "65a3cae4"
   },
   "source": [
    "## Check for invalid data"
   ]
  },
  {
   "cell_type": "markdown",
   "id": "fc4b08b2",
   "metadata": {
    "id": "fc4b08b2"
   },
   "source": [
    "Next, we check for invalid data, such as handling NA values, as well as by calculating columnar sums. We'll use:\n",
    "- ```.isna()``` to create a new DataFrame with boolean values to mark the NA item with boolean True.\n",
    "- ```.sum()``` to find the sum value of each series.\n",
    "- ```.slice()``` to cut the date string to show only the month.\n",
    "- ```.index``` function of Series, to find which series have NA values.\n",
    "- ```.to_frame()```  to convert Series into a DataFrame.\n",
    "- ```.reset_index()``` to reset the index of the DataFrame.\n",
    "\n",
    "Overall, we can use these functions to check if there is NA data, and then total up the NA data for each category by month to see which months have the most missing records. (Note that NA data includes types such as None, numpy.NaN, '', and numpy.inf.)"
   ]
  },
  {
   "cell_type": "code",
   "execution_count": 15,
   "id": "03989fad",
   "metadata": {
    "id": "03989fad",
    "outputId": "e40d9ae4-fdcd-445a-ae15-55a0ae785780"
   },
   "outputs": [
    {
     "data": {
      "text/plain": [
       "Index(['dd', 'ff', 'precip', 'hu', 'td', 't', 'psl'], dtype='object')"
      ]
     },
     "execution_count": 15,
     "metadata": {},
     "output_type": "execute_result"
    }
   ],
   "source": [
    "# Let's focus on Find which items have NA value(s) during year 2018\n",
    "NA_sum = GS_df[GS_df['date'].dt.year==2018].isna().sum()\n",
    "NA_data = NA_sum[NA_sum>0]\n",
    "NA_data.index"
   ]
  },
  {
   "cell_type": "code",
   "execution_count": 16,
   "id": "9293dc9f",
   "metadata": {
    "id": "9293dc9f",
    "outputId": "9e04897f-7bd8-4fc7-fb7b-3582151bbd4a"
   },
   "outputs": [
    {
     "data": {
      "text/plain": [
       "dd         8605703\n",
       "ff         8598613\n",
       "precip     1279127\n",
       "hu         8783452\n",
       "td         8786154\n",
       "t          2893694\n",
       "psl       17621180\n",
       "dtype: int64"
      ]
     },
     "execution_count": 16,
     "metadata": {},
     "output_type": "execute_result"
    }
   ],
   "source": [
    "NA_data"
   ]
  },
  {
   "cell_type": "code",
   "execution_count": 17,
   "id": "14e3d81f",
   "metadata": {
    "id": "14e3d81f",
    "outputId": "81ea7ae3-3d9d-411e-822e-ab55bbaa2b03"
   },
   "outputs": [
    {
     "name": "stdout",
     "output_type": "stream",
     "text": [
      "CPU times: user 5.27 ms, sys: 789 µs, total: 6.06 ms\n",
      "Wall time: 4.79 ms\n"
     ]
    },
    {
     "data": {
      "text/html": [
       "<div>\n",
       "<style scoped>\n",
       "    .dataframe tbody tr th:only-of-type {\n",
       "        vertical-align: middle;\n",
       "    }\n",
       "\n",
       "    .dataframe tbody tr th {\n",
       "        vertical-align: top;\n",
       "    }\n",
       "\n",
       "    .dataframe thead th {\n",
       "        text-align: right;\n",
       "    }\n",
       "</style>\n",
       "<table border=\"1\" class=\"dataframe\">\n",
       "  <thead>\n",
       "    <tr style=\"text-align: right;\">\n",
       "      <th></th>\n",
       "      <th>number_sta</th>\n",
       "      <th>lat</th>\n",
       "      <th>lon</th>\n",
       "      <th>height_sta</th>\n",
       "      <th>date</th>\n",
       "      <th>dd</th>\n",
       "      <th>ff</th>\n",
       "      <th>precip</th>\n",
       "      <th>hu</th>\n",
       "      <th>td</th>\n",
       "      <th>t</th>\n",
       "      <th>psl</th>\n",
       "      <th>month</th>\n",
       "      <th>year</th>\n",
       "    </tr>\n",
       "  </thead>\n",
       "  <tbody>\n",
       "    <tr>\n",
       "      <th>0</th>\n",
       "      <td>14066001</td>\n",
       "      <td>49.33</td>\n",
       "      <td>-0.43</td>\n",
       "      <td>2.0</td>\n",
       "      <td>2016-01-01</td>\n",
       "      <td>210.0</td>\n",
       "      <td>4.4</td>\n",
       "      <td>0.0</td>\n",
       "      <td>91.0</td>\n",
       "      <td>278.45</td>\n",
       "      <td>279.85</td>\n",
       "      <td>NaN</td>\n",
       "      <td>1</td>\n",
       "      <td>2016</td>\n",
       "    </tr>\n",
       "    <tr>\n",
       "      <th>1</th>\n",
       "      <td>14126001</td>\n",
       "      <td>49.15</td>\n",
       "      <td>0.04</td>\n",
       "      <td>125.0</td>\n",
       "      <td>2016-01-01</td>\n",
       "      <td>NaN</td>\n",
       "      <td>NaN</td>\n",
       "      <td>0.0</td>\n",
       "      <td>99.0</td>\n",
       "      <td>278.35</td>\n",
       "      <td>278.45</td>\n",
       "      <td>NaN</td>\n",
       "      <td>1</td>\n",
       "      <td>2016</td>\n",
       "    </tr>\n",
       "    <tr>\n",
       "      <th>2</th>\n",
       "      <td>14137001</td>\n",
       "      <td>49.18</td>\n",
       "      <td>-0.46</td>\n",
       "      <td>67.0</td>\n",
       "      <td>2016-01-01</td>\n",
       "      <td>220.0</td>\n",
       "      <td>0.6</td>\n",
       "      <td>0.0</td>\n",
       "      <td>92.0</td>\n",
       "      <td>276.45</td>\n",
       "      <td>277.65</td>\n",
       "      <td>102360.0</td>\n",
       "      <td>1</td>\n",
       "      <td>2016</td>\n",
       "    </tr>\n",
       "    <tr>\n",
       "      <th>3</th>\n",
       "      <td>14216001</td>\n",
       "      <td>48.93</td>\n",
       "      <td>-0.15</td>\n",
       "      <td>155.0</td>\n",
       "      <td>2016-01-01</td>\n",
       "      <td>220.0</td>\n",
       "      <td>1.9</td>\n",
       "      <td>0.0</td>\n",
       "      <td>95.0</td>\n",
       "      <td>278.25</td>\n",
       "      <td>278.95</td>\n",
       "      <td>NaN</td>\n",
       "      <td>1</td>\n",
       "      <td>2016</td>\n",
       "    </tr>\n",
       "    <tr>\n",
       "      <th>4</th>\n",
       "      <td>14296001</td>\n",
       "      <td>48.80</td>\n",
       "      <td>-1.03</td>\n",
       "      <td>339.0</td>\n",
       "      <td>2016-01-01</td>\n",
       "      <td>NaN</td>\n",
       "      <td>NaN</td>\n",
       "      <td>0.0</td>\n",
       "      <td>NaN</td>\n",
       "      <td>NaN</td>\n",
       "      <td>278.35</td>\n",
       "      <td>NaN</td>\n",
       "      <td>1</td>\n",
       "      <td>2016</td>\n",
       "    </tr>\n",
       "  </tbody>\n",
       "</table>\n",
       "</div>"
      ],
      "text/plain": [
       "   number_sta    lat   lon  height_sta       date     dd    ff  precip    hu  \\\n",
       "0    14066001  49.33 -0.43         2.0 2016-01-01  210.0   4.4     0.0  91.0   \n",
       "1    14126001  49.15  0.04       125.0 2016-01-01   <NA>  <NA>     0.0  99.0   \n",
       "2    14137001  49.18 -0.46        67.0 2016-01-01  220.0   0.6     0.0  92.0   \n",
       "3    14216001  48.93 -0.15       155.0 2016-01-01  220.0   1.9     0.0  95.0   \n",
       "4    14296001  48.80 -1.03       339.0 2016-01-01   <NA>  <NA>     0.0  <NA>   \n",
       "\n",
       "       td       t       psl  month  year  \n",
       "0  278.45  279.85      <NA>      1  2016  \n",
       "1  278.35  278.45      <NA>      1  2016  \n",
       "2  276.45  277.65  102360.0      1  2016  \n",
       "3  278.25  278.95      <NA>      1  2016  \n",
       "4    <NA>  278.35      <NA>      1  2016  "
      ]
     },
     "execution_count": 17,
     "metadata": {},
     "output_type": "execute_result"
    }
   ],
   "source": [
    "%%time\n",
    "# Let's slice the date format to select only the month\n",
    "GS_df[\"month\"] = GS_df[\"date\"].dt.month\n",
    "GS_df[\"year\"] = GS_df[\"date\"].dt.year\n",
    "GS_df.head()"
   ]
  },
  {
   "cell_type": "code",
   "execution_count": 18,
   "id": "11334919",
   "metadata": {
    "id": "11334919"
   },
   "outputs": [
    {
     "data": {
      "text/html": [
       "<pre style=\"white-space:pre;overflow-x:auto;line-height:normal;font-family:Menlo,'DejaVu Sans Mono',consolas,'Courier New',monospace\"><span style=\"font-style: italic\">                                                                                                           </span>\n",
       "<span style=\"font-style: italic\">                                         Total time elapsed: 0.622 seconds                                 </span>\n",
       "<span style=\"font-style: italic\">                                       9 GPU function calls in 0.540 seconds                               </span>\n",
       "<span style=\"font-style: italic\">                                       0 CPU function calls in 0.000 seconds                               </span>\n",
       "<span style=\"font-style: italic\">                                                                                                           </span>\n",
       "<span style=\"font-style: italic\">                                                       Stats                                               </span>\n",
       "<span style=\"font-style: italic\">                                                                                                           </span>\n",
       "┏━━━━━━━━━━━━━━━━━━━━━━━┳━━━━━━━━━━━━┳━━━━━━━━━━━━━┳━━━━━━━━━━━━━┳━━━━━━━━━━━━┳━━━━━━━━━━━━━┳━━━━━━━━━━━━━┓\n",
       "┃<span style=\"font-weight: bold\"> Function              </span>┃<span style=\"font-weight: bold\"> GPU ncalls </span>┃<span style=\"font-weight: bold\"> GPU cumtime </span>┃<span style=\"font-weight: bold\"> GPU percall </span>┃<span style=\"font-weight: bold\"> CPU ncalls </span>┃<span style=\"font-weight: bold\"> CPU cumtime </span>┃<span style=\"font-weight: bold\"> CPU percall </span>┃\n",
       "┡━━━━━━━━━━━━━━━━━━━━━━━╇━━━━━━━━━━━━╇━━━━━━━━━━━━━╇━━━━━━━━━━━━━╇━━━━━━━━━━━━╇━━━━━━━━━━━━━╇━━━━━━━━━━━━━┩\n",
       "│ DataFrame             │ 1          │ 0.485       │ 0.485       │ 0          │ 0.000       │ 0.000       │\n",
       "│ DataFrame.isna        │ 1          │ 0.037       │ 0.037       │ 0          │ 0.000       │ 0.000       │\n",
       "│ DataFrame.__getitem__ │ 4          │ 0.015       │ 0.004       │ 0          │ 0.000       │ 0.000       │\n",
       "│ DataFrame.__setitem__ │ 2          │ 0.002       │ 0.001       │ 0          │ 0.000       │ 0.000       │\n",
       "│ Series.__eq__         │ 1          │ 0.001       │ 0.001       │ 0          │ 0.000       │ 0.000       │\n",
       "└───────────────────────┴────────────┴─────────────┴─────────────┴────────────┴─────────────┴─────────────┘\n",
       "</pre>\n"
      ],
      "text/plain": [
       "\u001b[3m                                                                                                           \u001b[0m\n",
       "\u001b[3m                                         Total time elapsed: 0.622 seconds                                 \u001b[0m\n",
       "\u001b[3m                                       9 GPU function calls in 0.540 seconds                               \u001b[0m\n",
       "\u001b[3m                                       0 CPU function calls in 0.000 seconds                               \u001b[0m\n",
       "\u001b[3m                                                                                                           \u001b[0m\n",
       "\u001b[3m                                                       Stats                                               \u001b[0m\n",
       "\u001b[3m                                                                                                           \u001b[0m\n",
       "┏━━━━━━━━━━━━━━━━━━━━━━━┳━━━━━━━━━━━━┳━━━━━━━━━━━━━┳━━━━━━━━━━━━━┳━━━━━━━━━━━━┳━━━━━━━━━━━━━┳━━━━━━━━━━━━━┓\n",
       "┃\u001b[1m \u001b[0m\u001b[1mFunction             \u001b[0m\u001b[1m \u001b[0m┃\u001b[1m \u001b[0m\u001b[1mGPU ncalls\u001b[0m\u001b[1m \u001b[0m┃\u001b[1m \u001b[0m\u001b[1mGPU cumtime\u001b[0m\u001b[1m \u001b[0m┃\u001b[1m \u001b[0m\u001b[1mGPU percall\u001b[0m\u001b[1m \u001b[0m┃\u001b[1m \u001b[0m\u001b[1mCPU ncalls\u001b[0m\u001b[1m \u001b[0m┃\u001b[1m \u001b[0m\u001b[1mCPU cumtime\u001b[0m\u001b[1m \u001b[0m┃\u001b[1m \u001b[0m\u001b[1mCPU percall\u001b[0m\u001b[1m \u001b[0m┃\n",
       "┡━━━━━━━━━━━━━━━━━━━━━━━╇━━━━━━━━━━━━╇━━━━━━━━━━━━━╇━━━━━━━━━━━━━╇━━━━━━━━━━━━╇━━━━━━━━━━━━━╇━━━━━━━━━━━━━┩\n",
       "│ DataFrame             │ 1          │ 0.485       │ 0.485       │ 0          │ 0.000       │ 0.000       │\n",
       "│ DataFrame.isna        │ 1          │ 0.037       │ 0.037       │ 0          │ 0.000       │ 0.000       │\n",
       "│ DataFrame.__getitem__ │ 4          │ 0.015       │ 0.004       │ 0          │ 0.000       │ 0.000       │\n",
       "│ DataFrame.__setitem__ │ 2          │ 0.002       │ 0.001       │ 0          │ 0.000       │ 0.000       │\n",
       "│ Series.__eq__         │ 1          │ 0.001       │ 0.001       │ 0          │ 0.000       │ 0.000       │\n",
       "└───────────────────────┴────────────┴─────────────┴─────────────┴────────────┴─────────────┴─────────────┘\n"
      ]
     },
     "metadata": {},
     "output_type": "display_data"
    }
   ],
   "source": [
    "%%cudf.pandas.profile\n",
    "# Let's only analyze the NA columns with dates in them during year 2018\n",
    "NA_column = pd.DataFrame(GS_df,columns=NA_data.index).isna()\n",
    "NA_column[\"month\"]=GS_df[\"month\"]\n",
    "NA_column[\"year\"]=GS_df[\"year\"]\n",
    "NA_column = NA_column[NA_column['year']==2018]"
   ]
  },
  {
   "cell_type": "code",
   "execution_count": 19,
   "id": "9555780d-7729-40b9-839c-5b954799e111",
   "metadata": {
    "id": "9555780d-7729-40b9-839c-5b954799e111",
    "outputId": "89c9d2fc-e88f-4315-a096-b4582f16ac23"
   },
   "outputs": [
    {
     "name": "stdout",
     "output_type": "stream",
     "text": [
      "<class 'cudf.core.dataframe.DataFrame'>\n",
      "Index: 22034571 entries, 43792266 to 65826836\n",
      "Data columns (total 9 columns):\n",
      " #   Column  Dtype\n",
      "---  ------  -----\n",
      " 0   dd      bool\n",
      " 1   ff      bool\n",
      " 2   precip  bool\n",
      " 3   hu      bool\n",
      " 4   td      bool\n",
      " 5   t       bool\n",
      " 6   psl     bool\n",
      " 7   month   int16\n",
      " 8   year    int16\n",
      "dtypes: bool(7), int16(2)\n",
      "memory usage: 399.3 MB\n"
     ]
    }
   ],
   "source": [
    "NA_column.info()"
   ]
  },
  {
   "cell_type": "code",
   "execution_count": 20,
   "id": "a6cef21f-3896-4f0b-b755-603ba9177458",
   "metadata": {
    "id": "a6cef21f-3896-4f0b-b755-603ba9177458",
    "outputId": "e510925b-2bcb-4915-b86f-17f0bd2b3382"
   },
   "outputs": [
    {
     "data": {
      "text/html": [
       "<div>\n",
       "<style scoped>\n",
       "    .dataframe tbody tr th:only-of-type {\n",
       "        vertical-align: middle;\n",
       "    }\n",
       "\n",
       "    .dataframe tbody tr th {\n",
       "        vertical-align: top;\n",
       "    }\n",
       "\n",
       "    .dataframe thead th {\n",
       "        text-align: right;\n",
       "    }\n",
       "</style>\n",
       "<table border=\"1\" class=\"dataframe\">\n",
       "  <thead>\n",
       "    <tr style=\"text-align: right;\">\n",
       "      <th></th>\n",
       "      <th>month</th>\n",
       "      <th>dd</th>\n",
       "      <th>ff</th>\n",
       "      <th>precip</th>\n",
       "      <th>hu</th>\n",
       "      <th>td</th>\n",
       "      <th>t</th>\n",
       "      <th>psl</th>\n",
       "    </tr>\n",
       "  </thead>\n",
       "  <tbody>\n",
       "    <tr>\n",
       "      <th>0</th>\n",
       "      <td>1</td>\n",
       "      <td>704384</td>\n",
       "      <td>703030</td>\n",
       "      <td>101402</td>\n",
       "      <td>721584</td>\n",
       "      <td>722345</td>\n",
       "      <td>242430</td>\n",
       "      <td>1461872</td>\n",
       "    </tr>\n",
       "    <tr>\n",
       "      <th>1</th>\n",
       "      <td>2</td>\n",
       "      <td>636406</td>\n",
       "      <td>636114</td>\n",
       "      <td>92062</td>\n",
       "      <td>650117</td>\n",
       "      <td>651227</td>\n",
       "      <td>224703</td>\n",
       "      <td>1329865</td>\n",
       "    </tr>\n",
       "    <tr>\n",
       "      <th>2</th>\n",
       "      <td>3</td>\n",
       "      <td>708710</td>\n",
       "      <td>708008</td>\n",
       "      <td>102324</td>\n",
       "      <td>726449</td>\n",
       "      <td>726476</td>\n",
       "      <td>248646</td>\n",
       "      <td>1474683</td>\n",
       "    </tr>\n",
       "    <tr>\n",
       "      <th>3</th>\n",
       "      <td>4</td>\n",
       "      <td>687953</td>\n",
       "      <td>686884</td>\n",
       "      <td>107086</td>\n",
       "      <td>708769</td>\n",
       "      <td>709227</td>\n",
       "      <td>245753</td>\n",
       "      <td>1432213</td>\n",
       "    </tr>\n",
       "    <tr>\n",
       "      <th>4</th>\n",
       "      <td>5</td>\n",
       "      <td>721118</td>\n",
       "      <td>720603</td>\n",
       "      <td>107630</td>\n",
       "      <td>742137</td>\n",
       "      <td>742504</td>\n",
       "      <td>258661</td>\n",
       "      <td>1489728</td>\n",
       "    </tr>\n",
       "    <tr>\n",
       "      <th>5</th>\n",
       "      <td>6</td>\n",
       "      <td>689394</td>\n",
       "      <td>688701</td>\n",
       "      <td>109634</td>\n",
       "      <td>708939</td>\n",
       "      <td>708951</td>\n",
       "      <td>247578</td>\n",
       "      <td>1430580</td>\n",
       "    </tr>\n",
       "    <tr>\n",
       "      <th>6</th>\n",
       "      <td>7</td>\n",
       "      <td>719556</td>\n",
       "      <td>719325</td>\n",
       "      <td>111958</td>\n",
       "      <td>738818</td>\n",
       "      <td>739053</td>\n",
       "      <td>250513</td>\n",
       "      <td>1485952</td>\n",
       "    </tr>\n",
       "    <tr>\n",
       "      <th>7</th>\n",
       "      <td>8</td>\n",
       "      <td>722750</td>\n",
       "      <td>722723</td>\n",
       "      <td>107515</td>\n",
       "      <td>749206</td>\n",
       "      <td>749225</td>\n",
       "      <td>251985</td>\n",
       "      <td>1497920</td>\n",
       "    </tr>\n",
       "    <tr>\n",
       "      <th>8</th>\n",
       "      <td>9</td>\n",
       "      <td>705047</td>\n",
       "      <td>703453</td>\n",
       "      <td>108238</td>\n",
       "      <td>720628</td>\n",
       "      <td>720653</td>\n",
       "      <td>242374</td>\n",
       "      <td>1444152</td>\n",
       "    </tr>\n",
       "    <tr>\n",
       "      <th>9</th>\n",
       "      <td>10</td>\n",
       "      <td>734415</td>\n",
       "      <td>734411</td>\n",
       "      <td>109960</td>\n",
       "      <td>735582</td>\n",
       "      <td>735617</td>\n",
       "      <td>237221</td>\n",
       "      <td>1497323</td>\n",
       "    </tr>\n",
       "    <tr>\n",
       "      <th>10</th>\n",
       "      <td>11</td>\n",
       "      <td>744409</td>\n",
       "      <td>744406</td>\n",
       "      <td>107011</td>\n",
       "      <td>752149</td>\n",
       "      <td>751551</td>\n",
       "      <td>220865</td>\n",
       "      <td>1486738</td>\n",
       "    </tr>\n",
       "    <tr>\n",
       "      <th>11</th>\n",
       "      <td>12</td>\n",
       "      <td>831561</td>\n",
       "      <td>830955</td>\n",
       "      <td>114307</td>\n",
       "      <td>829074</td>\n",
       "      <td>829325</td>\n",
       "      <td>222965</td>\n",
       "      <td>1590154</td>\n",
       "    </tr>\n",
       "  </tbody>\n",
       "</table>\n",
       "</div>"
      ],
      "text/plain": [
       "    month      dd      ff  precip      hu      td       t      psl\n",
       "0       1  704384  703030  101402  721584  722345  242430  1461872\n",
       "1       2  636406  636114   92062  650117  651227  224703  1329865\n",
       "2       3  708710  708008  102324  726449  726476  248646  1474683\n",
       "3       4  687953  686884  107086  708769  709227  245753  1432213\n",
       "4       5  721118  720603  107630  742137  742504  258661  1489728\n",
       "5       6  689394  688701  109634  708939  708951  247578  1430580\n",
       "6       7  719556  719325  111958  738818  739053  250513  1485952\n",
       "7       8  722750  722723  107515  749206  749225  251985  1497920\n",
       "8       9  705047  703453  108238  720628  720653  242374  1444152\n",
       "9      10  734415  734411  109960  735582  735617  237221  1497323\n",
       "10     11  744409  744406  107011  752149  751551  220865  1486738\n",
       "11     12  831561  830955  114307  829074  829325  222965  1590154"
      ]
     },
     "execution_count": 20,
     "metadata": {},
     "output_type": "execute_result"
    }
   ],
   "source": [
    "# We can group the data by month and then calculate the the sum of the NA data for each month.\n",
    "# Note, reset_index() is used to set the group month as a Series, or it will be deleted as the index.\n",
    "NA_column\n",
    "NA_data_month = NA_column.groupby(\"month\",sort=True).sum().reset_index().drop(columns=['year'])\n",
    "NA_data_month"
   ]
  },
  {
   "cell_type": "code",
   "execution_count": 21,
   "id": "f966ce05",
   "metadata": {
    "id": "f966ce05",
    "outputId": "325798ac-0785-47ad-b5d8-f5c8e5ab63d5"
   },
   "outputs": [
    {
     "name": "stdout",
     "output_type": "stream",
     "text": [
      "<class 'cudf.core.dataframe.DataFrame'>\n",
      "RangeIndex: 12 entries, 0 to 11\n",
      "Data columns (total 8 columns):\n",
      " #   Column  Non-Null Count  Dtype\n",
      "---  ------  --------------  -----\n",
      " 0   month   12 non-null     int16\n",
      " 1   dd      12 non-null     int64\n",
      " 2   ff      12 non-null     int64\n",
      " 3   precip  12 non-null     int64\n",
      " 4   hu      12 non-null     int64\n",
      " 5   td      12 non-null     int64\n",
      " 6   t       12 non-null     int64\n",
      " 7   psl     12 non-null     int64\n",
      "dtypes: int16(1), int64(7)\n",
      "memory usage: 696.0 bytes\n"
     ]
    }
   ],
   "source": [
    "NA_data_month.info()"
   ]
  },
  {
   "cell_type": "markdown",
   "id": "28cc2b01",
   "metadata": {
    "id": "28cc2b01"
   },
   "source": [
    "### Summary:\n",
    "- There are invalid data values in the monitored records year 2018.\n",
    "- Seven meteorological parameters are monitored, all of which have some invalid data.\n",
    "- Compared within all the categories, the precip (precipitation during the reporting period) and t (temperature) have lower numbers of NA occurances. \n",
    "- The psl (pressure at sea level) parameter has the largest number of invaid data with 17621180.\n",
    "- For the other 4 meteorological parameters, there is no significant difference, as the NA data for them are all within 8000000 - 9000000.\n",
    "- Examining the NA value distribution across the whole year, there is no signicant difference to suggest that there is one month with much more invalid data than the others."
   ]
  },
  {
   "cell_type": "markdown",
   "id": "346dcec0",
   "metadata": {
    "id": "346dcec0"
   },
   "source": [
    "## Run a corrleation of meteorological parameters \n",
    "We can apply a correlation analysis to figure out the correlation between meterological parameters. Removing correlated items may help us train a regression model, for instance. These DataFrame methods will help us:\n",
    "- ```.corr()``` can be applied to compute the correlation matrix of a DataFrame, but only on a numeric matrix containing no NA data.\n",
    "- ```.dropna()``` drop rows (or columns) containing NA data from a column (or rows), espeically hand for  dataset cleaning tasks.\n",
    "- ```.drop()``` removes specific columns in the DataFrame."
   ]
  },
  {
   "cell_type": "code",
   "execution_count": 22,
   "id": "b7340af2",
   "metadata": {
    "id": "b7340af2",
    "outputId": "39a46cda-19fc-42b8-9202-af77788e3a91"
   },
   "outputs": [
    {
     "name": "stdout",
     "output_type": "stream",
     "text": [
      "CPU times: user 1 µs, sys: 0 ns, total: 1 µs\n",
      "Wall time: 3.58 µs\n"
     ]
    },
    {
     "data": {
      "text/html": [
       "<div>\n",
       "<style scoped>\n",
       "    .dataframe tbody tr th:only-of-type {\n",
       "        vertical-align: middle;\n",
       "    }\n",
       "\n",
       "    .dataframe tbody tr th {\n",
       "        vertical-align: top;\n",
       "    }\n",
       "\n",
       "    .dataframe thead th {\n",
       "        text-align: right;\n",
       "    }\n",
       "</style>\n",
       "<table border=\"1\" class=\"dataframe\">\n",
       "  <thead>\n",
       "    <tr style=\"text-align: right;\">\n",
       "      <th></th>\n",
       "      <th>dd</th>\n",
       "      <th>ff</th>\n",
       "      <th>precip</th>\n",
       "      <th>hu</th>\n",
       "      <th>td</th>\n",
       "      <th>t</th>\n",
       "      <th>psl</th>\n",
       "    </tr>\n",
       "  </thead>\n",
       "  <tbody>\n",
       "    <tr>\n",
       "      <th>dd</th>\n",
       "      <td>1.0</td>\n",
       "      <td>NaN</td>\n",
       "      <td>NaN</td>\n",
       "      <td>NaN</td>\n",
       "      <td>NaN</td>\n",
       "      <td>NaN</td>\n",
       "      <td>NaN</td>\n",
       "    </tr>\n",
       "    <tr>\n",
       "      <th>ff</th>\n",
       "      <td>NaN</td>\n",
       "      <td>1.0</td>\n",
       "      <td>NaN</td>\n",
       "      <td>NaN</td>\n",
       "      <td>NaN</td>\n",
       "      <td>NaN</td>\n",
       "      <td>NaN</td>\n",
       "    </tr>\n",
       "    <tr>\n",
       "      <th>precip</th>\n",
       "      <td>NaN</td>\n",
       "      <td>NaN</td>\n",
       "      <td>1.0</td>\n",
       "      <td>NaN</td>\n",
       "      <td>NaN</td>\n",
       "      <td>NaN</td>\n",
       "      <td>NaN</td>\n",
       "    </tr>\n",
       "    <tr>\n",
       "      <th>hu</th>\n",
       "      <td>NaN</td>\n",
       "      <td>NaN</td>\n",
       "      <td>NaN</td>\n",
       "      <td>1.0</td>\n",
       "      <td>NaN</td>\n",
       "      <td>NaN</td>\n",
       "      <td>NaN</td>\n",
       "    </tr>\n",
       "    <tr>\n",
       "      <th>td</th>\n",
       "      <td>NaN</td>\n",
       "      <td>NaN</td>\n",
       "      <td>NaN</td>\n",
       "      <td>NaN</td>\n",
       "      <td>1.000000</td>\n",
       "      <td>0.840558</td>\n",
       "      <td>NaN</td>\n",
       "    </tr>\n",
       "    <tr>\n",
       "      <th>t</th>\n",
       "      <td>NaN</td>\n",
       "      <td>NaN</td>\n",
       "      <td>NaN</td>\n",
       "      <td>NaN</td>\n",
       "      <td>0.840558</td>\n",
       "      <td>1.000000</td>\n",
       "      <td>NaN</td>\n",
       "    </tr>\n",
       "    <tr>\n",
       "      <th>psl</th>\n",
       "      <td>NaN</td>\n",
       "      <td>NaN</td>\n",
       "      <td>NaN</td>\n",
       "      <td>NaN</td>\n",
       "      <td>NaN</td>\n",
       "      <td>NaN</td>\n",
       "      <td>1.0</td>\n",
       "    </tr>\n",
       "  </tbody>\n",
       "</table>\n",
       "</div>"
      ],
      "text/plain": [
       "          dd    ff precip    hu           td            t   psl\n",
       "dd       1.0  <NA>   <NA>  <NA>         <NA>         <NA>  <NA>\n",
       "ff      <NA>   1.0   <NA>  <NA>         <NA>         <NA>  <NA>\n",
       "precip  <NA>  <NA>    1.0  <NA>         <NA>         <NA>  <NA>\n",
       "hu      <NA>  <NA>   <NA>   1.0         <NA>         <NA>  <NA>\n",
       "td      <NA>  <NA>   <NA>  <NA>          1.0  0.840558357  <NA>\n",
       "t       <NA>  <NA>   <NA>  <NA>  0.840558357          1.0  <NA>\n",
       "psl     <NA>  <NA>   <NA>  <NA>         <NA>         <NA>   1.0"
      ]
     },
     "execution_count": 22,
     "metadata": {},
     "output_type": "execute_result"
    }
   ],
   "source": [
    "%time\n",
    "\n",
    "# Let's only analyze meteorological columns\n",
    "Meteo_series = ['dd', 'ff', 'precip' ,'hu', 'td', 't', 'psl']\n",
    "Meteo_df = pd.DataFrame(GS_df,columns=Meteo_series)\n",
    "Meteo_corr = Meteo_df.dropna().corr()\n",
    "\n",
    "# And let's check the items with correlation value > 0.7 \n",
    "Meteo_corr[Meteo_corr>0.7]"
   ]
  },
  {
   "cell_type": "code",
   "execution_count": 23,
   "id": "6be44aa0",
   "metadata": {
    "id": "6be44aa0",
    "outputId": "01cb7fe8-5b1f-4871-e5f3-ffb381a8b8d9"
   },
   "outputs": [
    {
     "data": {
      "text/html": [
       "<div>\n",
       "<style scoped>\n",
       "    .dataframe tbody tr th:only-of-type {\n",
       "        vertical-align: middle;\n",
       "    }\n",
       "\n",
       "    .dataframe tbody tr th {\n",
       "        vertical-align: top;\n",
       "    }\n",
       "\n",
       "    .dataframe thead th {\n",
       "        text-align: right;\n",
       "    }\n",
       "</style>\n",
       "<table border=\"1\" class=\"dataframe\">\n",
       "  <thead>\n",
       "    <tr style=\"text-align: right;\">\n",
       "      <th></th>\n",
       "      <th>dd</th>\n",
       "      <th>ff</th>\n",
       "      <th>precip</th>\n",
       "      <th>hu</th>\n",
       "      <th>t</th>\n",
       "      <th>psl</th>\n",
       "    </tr>\n",
       "  </thead>\n",
       "  <tbody>\n",
       "    <tr>\n",
       "      <th>0</th>\n",
       "      <td>210.0</td>\n",
       "      <td>4.4</td>\n",
       "      <td>0.0</td>\n",
       "      <td>91.0</td>\n",
       "      <td>279.85</td>\n",
       "      <td>NaN</td>\n",
       "    </tr>\n",
       "    <tr>\n",
       "      <th>1</th>\n",
       "      <td>NaN</td>\n",
       "      <td>NaN</td>\n",
       "      <td>0.0</td>\n",
       "      <td>99.0</td>\n",
       "      <td>278.45</td>\n",
       "      <td>NaN</td>\n",
       "    </tr>\n",
       "    <tr>\n",
       "      <th>2</th>\n",
       "      <td>220.0</td>\n",
       "      <td>0.6</td>\n",
       "      <td>0.0</td>\n",
       "      <td>92.0</td>\n",
       "      <td>277.65</td>\n",
       "      <td>102360.0</td>\n",
       "    </tr>\n",
       "    <tr>\n",
       "      <th>3</th>\n",
       "      <td>220.0</td>\n",
       "      <td>1.9</td>\n",
       "      <td>0.0</td>\n",
       "      <td>95.0</td>\n",
       "      <td>278.95</td>\n",
       "      <td>NaN</td>\n",
       "    </tr>\n",
       "    <tr>\n",
       "      <th>4</th>\n",
       "      <td>NaN</td>\n",
       "      <td>NaN</td>\n",
       "      <td>0.0</td>\n",
       "      <td>NaN</td>\n",
       "      <td>278.35</td>\n",
       "      <td>NaN</td>\n",
       "    </tr>\n",
       "  </tbody>\n",
       "</table>\n",
       "</div>"
      ],
      "text/plain": [
       "      dd    ff  precip    hu       t       psl\n",
       "0  210.0   4.4     0.0  91.0  279.85      <NA>\n",
       "1   <NA>  <NA>     0.0  99.0  278.45      <NA>\n",
       "2  220.0   0.6     0.0  92.0  277.65  102360.0\n",
       "3  220.0   1.9     0.0  95.0  278.95      <NA>\n",
       "4   <NA>  <NA>     0.0  <NA>  278.35      <NA>"
      ]
     },
     "execution_count": 23,
     "metadata": {},
     "output_type": "execute_result"
    }
   ],
   "source": [
    "# %time\n",
    "Meteo_df_less = Meteo_df.drop(columns=['td'])\n",
    "Meteo_df_less.head()"
   ]
  },
  {
   "cell_type": "markdown",
   "id": "60dedafa",
   "metadata": {
    "id": "60dedafa"
   },
   "source": [
    "### Summary:\n",
    "- Apply ```.corr()``` method to analyze the relationship within the meteological parameters.\n",
    "- There is strong correlation between td (dew point) and t (temperature)\n",
    "- Based on that information, either td or t colomns shall be removed to improve a linear regression model. \n",
    "- Use the ```.drop()``` method to remove the td columns for downstream tasks. "
   ]
  },
  {
   "cell_type": "markdown",
   "id": "a3ef59f5",
   "metadata": {
    "id": "a3ef59f5"
   },
   "source": [
    "## Accelerated Computing Performance Check\n",
    "\n",
    "This section covers the performance of a handful of typical functions used in this notebook, comparing between Pandas (CPU) and cuDF (GPU) with minimum code change with pd(pandas) -> cudf. You can adopt the code below to compare the performance improvement on your local machine. \n",
    "\n",
    "Test machine information:\n",
    "- **GPU**: NVIDIA RTX A6000   \n",
    "- **CPU**: Intel(R) Xeon(R) Silver 4110 CPU @ 2.10GHz \n",
    "- **RAPIDS**: Rapids 24.06 with CUDA 12.2\n",
    "\n",
    "**<p style=\"text-align: center;\">Performance Results based on test results</p>**\n",
    "\n",
    "\n",
    "|function| GPU Time | CPU Time| GPU Speedup |\n",
    "| --- | --- | --- | --- |   \n",
    "|read|2.046443|36.500297|17.83|\n",
    "|slice|0.014068|8.297392|589.81|\n",
    "|na|0.078052|1.826956|23.40|\n",
    "|dropna|0.057089|2.866669|50.21|\n",
    "|unique|0.007049|0.218504|30.99|\n",
    "|dropduplicate|0.048152|0.300804|6.24|\n",
    "|group_sum|0.600811|4.932876|8.21|"
   ]
  },
  {
   "cell_type": "code",
   "execution_count": 24,
   "id": "920f53fa-514f-4af0-8c0d-29561cebf23d",
   "metadata": {
    "id": "920f53fa-514f-4af0-8c0d-29561cebf23d",
    "outputId": "305da41b-86bc-4893-9281-5093210eca52"
   },
   "outputs": [
    {
     "data": {
      "text/plain": [
       "{'status': 'ok', 'restart': True}"
      ]
     },
     "execution_count": 24,
     "metadata": {},
     "output_type": "execute_result"
    }
   ],
   "source": [
    "## Restart Kernels previous to do below performance comparasion\n",
    "import IPython\n",
    "app = IPython.Application.instance()\n",
    "app.kernel.do_shutdown(True)"
   ]
  },
  {
   "cell_type": "code",
   "execution_count": 1,
   "id": "730ea285-8c27-4139-ae6a-c730f6116a0f",
   "metadata": {
    "id": "730ea285-8c27-4139-ae6a-c730f6116a0f",
    "outputId": "81a1174c-83c1-4ef4-9f70-0158b9768649"
   },
   "outputs": [
    {
     "name": "stdout",
     "output_type": "stream",
     "text": [
      "Fri Jul 19 16:55:54 2024       \n",
      "+-----------------------------------------------------------------------------------------+\n",
      "| NVIDIA-SMI 550.90.07              Driver Version: 550.90.07      CUDA Version: 12.4     |\n",
      "|-----------------------------------------+------------------------+----------------------+\n",
      "| GPU  Name                 Persistence-M | Bus-Id          Disp.A | Volatile Uncorr. ECC |\n",
      "| Fan  Temp   Perf          Pwr:Usage/Cap |           Memory-Usage | GPU-Util  Compute M. |\n",
      "|                                         |                        |               MIG M. |\n",
      "|=========================================+========================+======================|\n",
      "|   0  NVIDIA RTX A6000               Off |   00000000:41:00.0 Off |                  Off |\n",
      "| 30%   50C    P8             23W /  300W |     287MiB /  49140MiB |      0%      Default |\n",
      "|                                         |                        |                  N/A |\n",
      "+-----------------------------------------+------------------------+----------------------+\n",
      "|   1  NVIDIA RTX A6000               Off |   00000000:61:00.0  On |                  Off |\n",
      "| 30%   42C    P8             21W /  300W |     150MiB /  49140MiB |      0%      Default |\n",
      "|                                         |                        |                  N/A |\n",
      "+-----------------------------------------+------------------------+----------------------+\n",
      "                                                                                         \n",
      "+-----------------------------------------------------------------------------------------+\n",
      "| Processes:                                                                              |\n",
      "|  GPU   GI   CI        PID   Type   Process name                              GPU Memory |\n",
      "|        ID   ID                                                               Usage      |\n",
      "|=========================================================================================|\n",
      "|    0   N/A  N/A      3171      G   /usr/lib/xorg/Xorg                              4MiB |\n",
      "|    0   N/A  N/A    237817      C   ...h/miniconda3/envs/rapids/bin/python        270MiB |\n",
      "|    1   N/A  N/A      3171      G   /usr/lib/xorg/Xorg                            128MiB |\n",
      "|    1   N/A  N/A      3276      G   /usr/bin/gnome-shell                            8MiB |\n",
      "+-----------------------------------------------------------------------------------------+\n"
     ]
    }
   ],
   "source": [
    "!nvidia-smi"
   ]
  },
  {
   "cell_type": "code",
   "execution_count": 2,
   "id": "f760ad1f",
   "metadata": {
    "id": "f760ad1f"
   },
   "outputs": [],
   "source": [
    "import numpy as np\n",
    "import pandas as pd\n",
    "import cupy as cp\n",
    "from timeit import default_timer as timer"
   ]
  },
  {
   "cell_type": "code",
   "execution_count": 3,
   "id": "18b85a61",
   "metadata": {},
   "outputs": [],
   "source": [
    "def computeAnalytics(file_path):\n",
    "    start_t = timer()\n",
    "    data_pd = pd.read_csv(file_path)\n",
    "    read_time = timer() - start_t\n",
    "\n",
    "    # Slicing function\n",
    "    start_t = timer()\n",
    "    data_pd_month_s = data_pd[\"date\"].str.slice(4,6)\n",
    "    slice_time = timer() - start_t\n",
    "\n",
    "    data_pd_month=data_pd\n",
    "    data_pd_month[\"date\"]=data_pd_month_s\n",
    "\n",
    "    # NA data check\n",
    "    start_t = timer()\n",
    "    NA_sum = data_pd.isna().sum()\n",
    "    NA_data_pd = NA_sum[NA_sum>0]\n",
    "    na_time = timer() - start_t\n",
    "\n",
    "    # drop na \n",
    "    start_t = timer()\n",
    "    data_pd.dropna()\n",
    "    dropna_time = timer() - start_t\n",
    "\n",
    "    # unique data check\n",
    "    start_t = timer()\n",
    "    number_stations = data_pd['number_sta'].nunique()\n",
    "    unique_time = timer() - start_t\n",
    "\n",
    "    # drop_duplicates\n",
    "    start_t = timer()\n",
    "    unique_stat_info = data_pd.drop_duplicates(subset=['number_sta'])\n",
    "    dropdu_time = timer() - start_t\n",
    "\n",
    "    # group and sum timer\n",
    "    start_t = timer()\n",
    "    NA_column_pd = pd.DataFrame(data_pd_month,columns=NA_data_pd.index).isna()\n",
    "    NA_column_pd[\"month\"]=data_pd_month[\"date\"]\n",
    "    # group the data by month, and then calculate the the sum of the NA data for each month\n",
    "    # reset_index() is used to set the group month as a Series, or it will be deleted as index\n",
    "    NA_data_pd_month = NA_column_pd.groupby(\"month\",sort=True).sum().reset_index()\n",
    "    group_sum_time = timer() - start_t\n",
    "\n",
    "    return read_time, slice_time, na_time, dropna_time, unique_time, dropdu_time, group_sum_time"
   ]
  },
  {
   "cell_type": "code",
   "execution_count": 4,
   "id": "24b24ca8",
   "metadata": {},
   "outputs": [],
   "source": [
    "\n",
    "# Run analysis on CPU\n",
    "read_cpu_time,slice_cpu_time,na_cpu_time,dropna_cpu_time,unique_cpu_time,dropdu_cpu_time,group_sum_cpu_time = computeAnalytics('./NW_data.csv')\n"
   ]
  },
  {
   "cell_type": "code",
   "execution_count": 5,
   "id": "f4ef6f43",
   "metadata": {},
   "outputs": [],
   "source": [
    "## load cudf.pandas kernel\n",
    "%load_ext cudf.pandas"
   ]
  },
  {
   "cell_type": "code",
   "execution_count": 6,
   "id": "af0bf839-cb44-4ecc-aa14-30102f434f09",
   "metadata": {},
   "outputs": [],
   "source": [
    "import numpy as np\n",
    "import pandas as pd\n",
    "import cupy as cp\n",
    "from timeit import default_timer as timer"
   ]
  },
  {
   "cell_type": "code",
   "execution_count": 7,
   "id": "55edcd62",
   "metadata": {},
   "outputs": [
    {
     "data": {
      "text/html": [
       "<pre style=\"white-space:pre;overflow-x:auto;line-height:normal;font-family:Menlo,'DejaVu Sans Mono',consolas,'Courier New',monospace\"><span style=\"font-style: italic\">                                                                                                               </span>\n",
       "<span style=\"font-style: italic\">                                           Total time elapsed: 4.692 seconds                                   </span>\n",
       "<span style=\"font-style: italic\">                                        19 GPU function calls in 4.406 seconds                                 </span>\n",
       "<span style=\"font-style: italic\">                                         0 CPU function calls in 0.000 seconds                                 </span>\n",
       "<span style=\"font-style: italic\">                                                                                                               </span>\n",
       "<span style=\"font-style: italic\">                                                         Stats                                                 </span>\n",
       "<span style=\"font-style: italic\">                                                                                                               </span>\n",
       "┏━━━━━━━━━━━━━━━━━━━━━━━━━━━┳━━━━━━━━━━━━┳━━━━━━━━━━━━━┳━━━━━━━━━━━━━┳━━━━━━━━━━━━┳━━━━━━━━━━━━━┳━━━━━━━━━━━━━┓\n",
       "┃<span style=\"font-weight: bold\"> Function                  </span>┃<span style=\"font-weight: bold\"> GPU ncalls </span>┃<span style=\"font-weight: bold\"> GPU cumtime </span>┃<span style=\"font-weight: bold\"> GPU percall </span>┃<span style=\"font-weight: bold\"> CPU ncalls </span>┃<span style=\"font-weight: bold\"> CPU cumtime </span>┃<span style=\"font-weight: bold\"> CPU percall </span>┃\n",
       "┡━━━━━━━━━━━━━━━━━━━━━━━━━━━╇━━━━━━━━━━━━╇━━━━━━━━━━━━━╇━━━━━━━━━━━━━╇━━━━━━━━━━━━╇━━━━━━━━━━━━━╇━━━━━━━━━━━━━┩\n",
       "│ read_csv                  │ 1          │ 3.573       │ 3.573       │ 0          │ 0.000       │ 0.000       │\n",
       "│ DataFrame.__getitem__     │ 3          │ 0.001       │ 0.000       │ 0          │ 0.000       │ 0.000       │\n",
       "│ StringMethods.slice       │ 1          │ 0.021       │ 0.021       │ 0          │ 0.000       │ 0.000       │\n",
       "│ DataFrame.__setitem__     │ 2          │ 0.003       │ 0.001       │ 0          │ 0.000       │ 0.000       │\n",
       "│ DataFrame.isna            │ 2          │ 0.092       │ 0.046       │ 0          │ 0.000       │ 0.000       │\n",
       "│ DataFrame.sum             │ 1          │ 0.016       │ 0.016       │ 0          │ 0.000       │ 0.000       │\n",
       "│ Series.__gt__             │ 1          │ 0.002       │ 0.002       │ 0          │ 0.000       │ 0.000       │\n",
       "│ Series.__getitem__        │ 1          │ 0.007       │ 0.007       │ 0          │ 0.000       │ 0.000       │\n",
       "│ DataFrame.dropna          │ 1          │ 0.056       │ 0.056       │ 0          │ 0.000       │ 0.000       │\n",
       "│ Series.nunique            │ 1          │ 0.008       │ 0.008       │ 0          │ 0.000       │ 0.000       │\n",
       "│ DataFrame.drop_duplicates │ 1          │ 0.049       │ 0.049       │ 0          │ 0.000       │ 0.000       │\n",
       "│ DataFrame                 │ 1          │ 0.471       │ 0.471       │ 0          │ 0.000       │ 0.000       │\n",
       "│ DataFrame.groupby         │ 1          │ 0.000       │ 0.000       │ 0          │ 0.000       │ 0.000       │\n",
       "│ DataFrameGroupBy.sum      │ 1          │ 0.105       │ 0.105       │ 0          │ 0.000       │ 0.000       │\n",
       "│ DataFrame.reset_index     │ 1          │ 0.001       │ 0.001       │ 0          │ 0.000       │ 0.000       │\n",
       "└───────────────────────────┴────────────┴─────────────┴─────────────┴────────────┴─────────────┴─────────────┘\n",
       "</pre>\n"
      ],
      "text/plain": [
       "\u001b[3m                                                                                                               \u001b[0m\n",
       "\u001b[3m                                           Total time elapsed: 4.692 seconds                                   \u001b[0m\n",
       "\u001b[3m                                        19 GPU function calls in 4.406 seconds                                 \u001b[0m\n",
       "\u001b[3m                                         0 CPU function calls in 0.000 seconds                                 \u001b[0m\n",
       "\u001b[3m                                                                                                               \u001b[0m\n",
       "\u001b[3m                                                         Stats                                                 \u001b[0m\n",
       "\u001b[3m                                                                                                               \u001b[0m\n",
       "┏━━━━━━━━━━━━━━━━━━━━━━━━━━━┳━━━━━━━━━━━━┳━━━━━━━━━━━━━┳━━━━━━━━━━━━━┳━━━━━━━━━━━━┳━━━━━━━━━━━━━┳━━━━━━━━━━━━━┓\n",
       "┃\u001b[1m \u001b[0m\u001b[1mFunction                 \u001b[0m\u001b[1m \u001b[0m┃\u001b[1m \u001b[0m\u001b[1mGPU ncalls\u001b[0m\u001b[1m \u001b[0m┃\u001b[1m \u001b[0m\u001b[1mGPU cumtime\u001b[0m\u001b[1m \u001b[0m┃\u001b[1m \u001b[0m\u001b[1mGPU percall\u001b[0m\u001b[1m \u001b[0m┃\u001b[1m \u001b[0m\u001b[1mCPU ncalls\u001b[0m\u001b[1m \u001b[0m┃\u001b[1m \u001b[0m\u001b[1mCPU cumtime\u001b[0m\u001b[1m \u001b[0m┃\u001b[1m \u001b[0m\u001b[1mCPU percall\u001b[0m\u001b[1m \u001b[0m┃\n",
       "┡━━━━━━━━━━━━━━━━━━━━━━━━━━━╇━━━━━━━━━━━━╇━━━━━━━━━━━━━╇━━━━━━━━━━━━━╇━━━━━━━━━━━━╇━━━━━━━━━━━━━╇━━━━━━━━━━━━━┩\n",
       "│ read_csv                  │ 1          │ 3.573       │ 3.573       │ 0          │ 0.000       │ 0.000       │\n",
       "│ DataFrame.__getitem__     │ 3          │ 0.001       │ 0.000       │ 0          │ 0.000       │ 0.000       │\n",
       "│ StringMethods.slice       │ 1          │ 0.021       │ 0.021       │ 0          │ 0.000       │ 0.000       │\n",
       "│ DataFrame.__setitem__     │ 2          │ 0.003       │ 0.001       │ 0          │ 0.000       │ 0.000       │\n",
       "│ DataFrame.isna            │ 2          │ 0.092       │ 0.046       │ 0          │ 0.000       │ 0.000       │\n",
       "│ DataFrame.sum             │ 1          │ 0.016       │ 0.016       │ 0          │ 0.000       │ 0.000       │\n",
       "│ Series.__gt__             │ 1          │ 0.002       │ 0.002       │ 0          │ 0.000       │ 0.000       │\n",
       "│ Series.__getitem__        │ 1          │ 0.007       │ 0.007       │ 0          │ 0.000       │ 0.000       │\n",
       "│ DataFrame.dropna          │ 1          │ 0.056       │ 0.056       │ 0          │ 0.000       │ 0.000       │\n",
       "│ Series.nunique            │ 1          │ 0.008       │ 0.008       │ 0          │ 0.000       │ 0.000       │\n",
       "│ DataFrame.drop_duplicates │ 1          │ 0.049       │ 0.049       │ 0          │ 0.000       │ 0.000       │\n",
       "│ DataFrame                 │ 1          │ 0.471       │ 0.471       │ 0          │ 0.000       │ 0.000       │\n",
       "│ DataFrame.groupby         │ 1          │ 0.000       │ 0.000       │ 0          │ 0.000       │ 0.000       │\n",
       "│ DataFrameGroupBy.sum      │ 1          │ 0.105       │ 0.105       │ 0          │ 0.000       │ 0.000       │\n",
       "│ DataFrame.reset_index     │ 1          │ 0.001       │ 0.001       │ 0          │ 0.000       │ 0.000       │\n",
       "└───────────────────────────┴────────────┴─────────────┴─────────────┴────────────┴─────────────┴─────────────┘\n"
      ]
     },
     "metadata": {},
     "output_type": "display_data"
    }
   ],
   "source": [
    " %%cudf.pandas.profile\n",
    "# Run for GPU\n",
    "read_gpu_time,slice_gpu_time,na_gpu_time,dropna_gpu_time,unique_gpu_time,dropdu_gpu_time,group_sum_gpu_time = computeAnalytics('./NW_data.csv')"
   ]
  },
  {
   "cell_type": "code",
   "execution_count": 8,
   "id": "37a6c1c1-5d9b-4a5b-84b2-d85c29540f41",
   "metadata": {},
   "outputs": [
    {
     "data": {
      "text/html": [
       "<div>\n",
       "<style scoped>\n",
       "    .dataframe tbody tr th:only-of-type {\n",
       "        vertical-align: middle;\n",
       "    }\n",
       "\n",
       "    .dataframe tbody tr th {\n",
       "        vertical-align: top;\n",
       "    }\n",
       "\n",
       "    .dataframe thead th {\n",
       "        text-align: right;\n",
       "    }\n",
       "</style>\n",
       "<table border=\"1\" class=\"dataframe\">\n",
       "  <thead>\n",
       "    <tr style=\"text-align: right;\">\n",
       "      <th></th>\n",
       "      <th>function</th>\n",
       "      <th>time_gpu</th>\n",
       "      <th>time_cpu</th>\n",
       "      <th>speedup</th>\n",
       "    </tr>\n",
       "  </thead>\n",
       "  <tbody>\n",
       "    <tr>\n",
       "      <th>0</th>\n",
       "      <td>read</td>\n",
       "      <td>3.573566</td>\n",
       "      <td>53.416235</td>\n",
       "      <td>14.947601</td>\n",
       "    </tr>\n",
       "    <tr>\n",
       "      <th>1</th>\n",
       "      <td>slice</td>\n",
       "      <td>0.023217</td>\n",
       "      <td>8.494310</td>\n",
       "      <td>365.871404</td>\n",
       "    </tr>\n",
       "    <tr>\n",
       "      <th>2</th>\n",
       "      <td>na</td>\n",
       "      <td>0.084238</td>\n",
       "      <td>2.015948</td>\n",
       "      <td>23.931468</td>\n",
       "    </tr>\n",
       "    <tr>\n",
       "      <th>3</th>\n",
       "      <td>dropna</td>\n",
       "      <td>0.058740</td>\n",
       "      <td>2.852879</td>\n",
       "      <td>48.568179</td>\n",
       "    </tr>\n",
       "    <tr>\n",
       "      <th>4</th>\n",
       "      <td>unique</td>\n",
       "      <td>0.009121</td>\n",
       "      <td>0.224486</td>\n",
       "      <td>24.613098</td>\n",
       "    </tr>\n",
       "    <tr>\n",
       "      <th>5</th>\n",
       "      <td>dropduplicate</td>\n",
       "      <td>0.049458</td>\n",
       "      <td>0.307427</td>\n",
       "      <td>6.215934</td>\n",
       "    </tr>\n",
       "    <tr>\n",
       "      <th>6</th>\n",
       "      <td>group_sum</td>\n",
       "      <td>0.620302</td>\n",
       "      <td>4.907235</td>\n",
       "      <td>7.911041</td>\n",
       "    </tr>\n",
       "  </tbody>\n",
       "</table>\n",
       "</div>"
      ],
      "text/plain": [
       "        function  time_gpu   time_cpu     speedup\n",
       "0           read  3.573566  53.416235   14.947601\n",
       "1          slice  0.023217   8.494310  365.871404\n",
       "2             na  0.084238   2.015948   23.931468\n",
       "3         dropna  0.058740   2.852879   48.568179\n",
       "4         unique  0.009121   0.224486   24.613098\n",
       "5  dropduplicate  0.049458   0.307427    6.215934\n",
       "6      group_sum  0.620302   4.907235    7.911041"
      ]
     },
     "execution_count": 8,
     "metadata": {},
     "output_type": "execute_result"
    }
   ],
   "source": [
    "# Build the performance table (as another DataFrame, of course!).\n",
    "performance_df = pd.DataFrame()\n",
    "performance_df['function'] = ['read','slice','na','dropna','unique','dropduplicate','group_sum']\n",
    "performance_df['time_gpu']=[read_gpu_time,slice_gpu_time,na_gpu_time,dropna_gpu_time,unique_gpu_time,dropdu_gpu_time,group_sum_gpu_time]\n",
    "performance_df['time_cpu']=[read_cpu_time,slice_cpu_time,na_cpu_time,dropna_cpu_time,unique_cpu_time,dropdu_cpu_time,group_sum_cpu_time]\n",
    "performance_df['speedup']=performance_df['time_cpu']/performance_df['time_gpu']\n",
    "performance_df"
   ]
  },
  {
   "cell_type": "markdown",
   "id": "b8c674f8-5906-4289-8d6a-08dbb23821d5",
   "metadata": {
    "id": "b8c674f8-5906-4289-8d6a-08dbb23821d5"
   },
   "source": [
    "## Conclusion"
   ]
  },
  {
   "cell_type": "markdown",
   "id": "51e6ac9d-dede-4499-9510-67255875fdb9",
   "metadata": {
    "id": "51e6ac9d-dede-4499-9510-67255875fdb9"
   },
   "source": [
    "In this notebook, we applied GPU acclerated DataFrame computation through the use of RAPIDS, cuDF, and cuPY. We demonstrated data loading methods, data cleaning techniques, an application of cuXfilter for data analysis, and finally how to derive performance values versus CPU-only computation on the same dataset."
   ]
  },
  {
   "cell_type": "markdown",
   "id": "5a83a4e5",
   "metadata": {
    "id": "5a83a4e5"
   },
   "source": [
    "### Citation\n",
    "- Gwennaëlle Larvor, Léa Berthomier, Vincent Chabot, Brice Le Pape, Bruno Pradel, Lior Perez. MeteoNet, an open reference weather dataset by METEO FRANCE, 2020 [dataset link](https://www.kaggle.com/datasets/katerpillar/meteonet)    \n"
   ]
  }
 ],
 "metadata": {
  "colab": {
   "provenance": []
  },
  "kernelspec": {
   "display_name": "Python 3 (ipykernel)",
   "language": "python",
   "name": "python3"
  },
  "language_info": {
   "codemirror_mode": {
    "name": "ipython",
    "version": 3
   },
   "file_extension": ".py",
   "mimetype": "text/x-python",
   "name": "python",
   "nbconvert_exporter": "python",
   "pygments_lexer": "ipython3",
   "version": "3.9.19"
  }
 },
 "nbformat": 4,
 "nbformat_minor": 5
}
