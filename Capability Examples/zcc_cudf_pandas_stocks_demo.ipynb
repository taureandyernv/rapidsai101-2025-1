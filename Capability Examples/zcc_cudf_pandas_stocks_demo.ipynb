{
 "cells": [
  {
   "cell_type": "markdown",
   "metadata": {
    "id": "kcF9ZWvjSybR"
   },
   "source": [
    "# Introduction\n",
    "\n",
    "cuDF is a Python GPU DataFrame library (built on the Apache Arrow columnar memory format) for loading, joining, aggregating, filtering, and otherwise manipulating tabular data using a DataFrame style API in the style of pandas.\n",
    "\n",
    "cuDF includes a pandas accelerator mode (`cudf.pandas`), enabling you to accelerate your pandas workflows without requiring any code change.\n",
    "\n",
    "This notebook highlights the impact of GPU-acceleration for common operations and analytical questions analyzing a real-world dataset of stock prices.\n",
    "\n",
    "For a deeper introduction and insight into how things work under the hood, we encourage you to run the [10 Minutes to RAPIDS cuDF's pandas accelerator mode notebook](https://nvda.ws/rapids-cudf) or visit https://rapids.ai/cudf-pandas/."
   ]
  },
  {
   "cell_type": "markdown",
   "metadata": {
    "id": "SH_h6ci1Sx0u"
   },
   "source": [
    "# ⚠️ Verify your setup\n",
    "\n",
    "First, we'll verify that you are running with an NVIDIA GPU."
   ]
  },
  {
   "cell_type": "code",
   "execution_count": 1,
   "metadata": {
    "colab": {
     "base_uri": "https://localhost:8080/"
    },
    "id": "Y2vPCtXcCvUR",
    "outputId": "e8fbe51e-64c3-4c2c-820b-52490cc0ee4a"
   },
   "outputs": [
    {
     "name": "stdout",
     "output_type": "stream",
     "text": [
      "Thu May  8 22:46:01 2025       \n",
      "+-----------------------------------------------------------------------------------------+\n",
      "| NVIDIA-SMI 570.124.06             Driver Version: 570.124.06     CUDA Version: 12.8     |\n",
      "|-----------------------------------------+------------------------+----------------------+\n",
      "| GPU  Name                 Persistence-M | Bus-Id          Disp.A | Volatile Uncorr. ECC |\n",
      "| Fan  Temp   Perf          Pwr:Usage/Cap |           Memory-Usage | GPU-Util  Compute M. |\n",
      "|                                         |                        |               MIG M. |\n",
      "|=========================================+========================+======================|\n",
      "|   0  NVIDIA H100 PCIe               Off |   00000000:01:00.0 Off |                    0 |\n",
      "| N/A   57C    P0             95W /  310W |   38367MiB /  81559MiB |      0%      Default |\n",
      "|                                         |                        |             Disabled |\n",
      "+-----------------------------------------+------------------------+----------------------+\n",
      "                                                                                         \n",
      "+-----------------------------------------------------------------------------------------+\n",
      "| Processes:                                                                              |\n",
      "|  GPU   GI   CI              PID   Type   Process name                        GPU Memory |\n",
      "|        ID   ID                                                               Usage      |\n",
      "|=========================================================================================|\n",
      "+-----------------------------------------------------------------------------------------+\n"
     ]
    }
   ],
   "source": [
    "!nvidia-smi  # this should display information about available GPUs"
   ]
  },
  {
   "cell_type": "markdown",
   "metadata": {
    "id": "lv0guwQAcpgX"
   },
   "source": [
    "# Download the data\n",
    "\n",
    "The data we'll be working with is a subset of the [USA 514 Stocks Prices NASDAQ NYSE dataset](https://www.kaggle.com/datasets/olegshpagin/usa-stocks-prices-ohlcv) from Kaggle.\n",
    "\n",
    "We'll start by downloading the dataset from NVIDIA's Public Google Cloud Storage bucket to provide faster download speeds to Colab.  This should take under 30 seconds."
   ]
  },
  {
   "cell_type": "code",
   "execution_count": 2,
   "metadata": {
    "colab": {
     "base_uri": "https://localhost:8080/"
    },
    "id": "WmOguzNUcw4F",
    "outputId": "dbe56095-403b-4527-8809-472c0561d403"
   },
   "outputs": [],
   "source": [
    "#!if [ ! -f \"usa_stocks_30m.parquet\" ]; then curl https://storage.googleapis.com/rapidsai/colab-data/usa_stocks_30m.parquet -o usa_stocks_30m.parquet; else echo \"usa_stocks_30m.parquet found\"; fi"
   ]
  },
  {
   "cell_type": "code",
   "execution_count": 3,
   "metadata": {},
   "outputs": [
    {
     "name": "stdout",
     "output_type": "stream",
     "text": [
      "creating data directory\n",
      "creating stocks data directory\n"
     ]
    }
   ],
   "source": [
    "import os \n",
    "import urllib.request\n",
    "top_dir = \"./data/\"\n",
    "if not os.path.exists(top_dir):\n",
    "    print('creating data directory')\n",
    "    os.system('mkdir ./data')\n",
    "data_dir = './data/stocks/'\n",
    "if not os.path.exists(data_dir):\n",
    "    print('creating stocks data directory')\n",
    "    os.system('mkdir ./data/stocks/')"
   ]
  },
  {
   "cell_type": "code",
   "execution_count": 4,
   "metadata": {},
   "outputs": [
    {
     "name": "stdout",
     "output_type": "stream",
     "text": [
      "Downloading https://storage.googleapis.com/rapidsai/colab-data/usa_stocks_30m.parquet to ./data/stocks/usa_stocks_30m.parquet\n"
     ]
    }
   ],
   "source": [
    "base_url = 'https://storage.googleapis.com/rapidsai/colab-data/'\n",
    "fn = 'usa_stocks_30m.parquet'\n",
    "\n",
    "if not os.path.isfile(data_dir+fn):\n",
    "    print(f'Downloading {base_url+fn} to {data_dir+fn}')\n",
    "    urllib.request.urlretrieve(base_url+fn, data_dir+fn)"
   ]
  },
  {
   "cell_type": "markdown",
   "metadata": {
    "id": "Pq01z9FvJjxR"
   },
   "source": [
    "# Analysis using Standard Pandas\n",
    "\n"
   ]
  },
  {
   "cell_type": "code",
   "execution_count": 5,
   "metadata": {
    "id": "rZ2Ac34yIqe8"
   },
   "outputs": [],
   "source": [
    "import pandas as pd"
   ]
  },
  {
   "cell_type": "code",
   "execution_count": 6,
   "metadata": {
    "colab": {
     "base_uri": "https://localhost:8080/"
    },
    "id": "QrbZubaGJmv5",
    "outputId": "fd5e8f27-cdd4-44c4-fe58-8bb9238bb561"
   },
   "outputs": [
    {
     "name": "stdout",
     "output_type": "stream",
     "text": [
      "CPU times: user 4.04 s, sys: 2.16 s, total: 6.2 s\n",
      "Wall time: 1.42 s\n",
      "<class 'pandas.core.frame.DataFrame'>\n",
      "Index: 36087094 entries, 0 to 36919\n",
      "Data columns (total 7 columns):\n",
      " #   Column    Dtype         \n",
      "---  ------    -----         \n",
      " 0   datetime  datetime64[ms]\n",
      " 1   open      float64       \n",
      " 2   high      float64       \n",
      " 3   low       float64       \n",
      " 4   close     float64       \n",
      " 5   volume    int64         \n",
      " 6   ticker    object        \n",
      "dtypes: datetime64[ms](1), float64(4), int64(1), object(1)\n",
      "memory usage: 2.2+ GB\n"
     ]
    }
   ],
   "source": [
    "%time df = pd.read_parquet(data_dir+fn) # ./data/stocks/usa_stocks_30m.parquet\n",
    "df.info()"
   ]
  },
  {
   "cell_type": "code",
   "execution_count": 7,
   "metadata": {
    "colab": {
     "base_uri": "https://localhost:8080/",
     "height": 206
    },
    "id": "_JGCNEbQfjOQ",
    "outputId": "7bdaea5d-20c9-4439-e8cd-3d81f4e073be"
   },
   "outputs": [
    {
     "data": {
      "text/html": [
       "<div>\n",
       "<style scoped>\n",
       "    .dataframe tbody tr th:only-of-type {\n",
       "        vertical-align: middle;\n",
       "    }\n",
       "\n",
       "    .dataframe tbody tr th {\n",
       "        vertical-align: top;\n",
       "    }\n",
       "\n",
       "    .dataframe thead th {\n",
       "        text-align: right;\n",
       "    }\n",
       "</style>\n",
       "<table border=\"1\" class=\"dataframe\">\n",
       "  <thead>\n",
       "    <tr style=\"text-align: right;\">\n",
       "      <th></th>\n",
       "      <th>datetime</th>\n",
       "      <th>open</th>\n",
       "      <th>high</th>\n",
       "      <th>low</th>\n",
       "      <th>close</th>\n",
       "      <th>volume</th>\n",
       "      <th>ticker</th>\n",
       "    </tr>\n",
       "  </thead>\n",
       "  <tbody>\n",
       "    <tr>\n",
       "      <th>0</th>\n",
       "      <td>1999-11-18 17:00:00</td>\n",
       "      <td>45.56</td>\n",
       "      <td>50.00</td>\n",
       "      <td>45.50</td>\n",
       "      <td>46.00</td>\n",
       "      <td>9275000</td>\n",
       "      <td>A</td>\n",
       "    </tr>\n",
       "    <tr>\n",
       "      <th>1</th>\n",
       "      <td>1999-11-18 17:30:00</td>\n",
       "      <td>46.00</td>\n",
       "      <td>47.69</td>\n",
       "      <td>45.82</td>\n",
       "      <td>46.57</td>\n",
       "      <td>3200900</td>\n",
       "      <td>A</td>\n",
       "    </tr>\n",
       "    <tr>\n",
       "      <th>2</th>\n",
       "      <td>1999-11-18 18:00:00</td>\n",
       "      <td>46.56</td>\n",
       "      <td>46.63</td>\n",
       "      <td>41.00</td>\n",
       "      <td>41.00</td>\n",
       "      <td>3830500</td>\n",
       "      <td>A</td>\n",
       "    </tr>\n",
       "    <tr>\n",
       "      <th>3</th>\n",
       "      <td>1999-11-18 18:30:00</td>\n",
       "      <td>41.00</td>\n",
       "      <td>43.38</td>\n",
       "      <td>40.37</td>\n",
       "      <td>42.38</td>\n",
       "      <td>3688600</td>\n",
       "      <td>A</td>\n",
       "    </tr>\n",
       "    <tr>\n",
       "      <th>4</th>\n",
       "      <td>1999-11-18 19:00:00</td>\n",
       "      <td>42.31</td>\n",
       "      <td>42.44</td>\n",
       "      <td>41.56</td>\n",
       "      <td>41.69</td>\n",
       "      <td>1584300</td>\n",
       "      <td>A</td>\n",
       "    </tr>\n",
       "  </tbody>\n",
       "</table>\n",
       "</div>"
      ],
      "text/plain": [
       "             datetime   open   high    low  close   volume ticker\n",
       "0 1999-11-18 17:00:00  45.56  50.00  45.50  46.00  9275000      A\n",
       "1 1999-11-18 17:30:00  46.00  47.69  45.82  46.57  3200900      A\n",
       "2 1999-11-18 18:00:00  46.56  46.63  41.00  41.00  3830500      A\n",
       "3 1999-11-18 18:30:00  41.00  43.38  40.37  42.38  3688600      A\n",
       "4 1999-11-18 19:00:00  42.31  42.44  41.56  41.69  1584300      A"
      ]
     },
     "execution_count": 7,
     "metadata": {},
     "output_type": "execute_result"
    }
   ],
   "source": [
    "df.head()"
   ]
  },
  {
   "cell_type": "markdown",
   "metadata": {
    "id": "SXAyFbEQfVBX"
   },
   "source": [
    "We've got about 36M rows and 7 columns, covering stock price and trading-related attributes (`open`, `close`, etc.) for various companies (`ticker`) at what looks like 30 minute intervals.\n",
    "\n",
    "Let's look at the more detailed summary statistics for the the numeric data."
   ]
  },
  {
   "cell_type": "markdown",
   "metadata": {
    "id": "SHfPsuqtN09j"
   },
   "source": [
    "To fit this analysis on Colab's free tier without running out of the 12GB of CPU memory, we'll only use the first 18 million rows of this dataset. If you'd like to process the full dataset, you can [sign up a Colab Pro account](https://colab.research.google.com/signup)!\n"
   ]
  },
  {
   "cell_type": "code",
   "execution_count": 8,
   "metadata": {
    "id": "IlKNHgyONzrk"
   },
   "outputs": [],
   "source": [
    "df = df.iloc[:18000000]"
   ]
  },
  {
   "cell_type": "code",
   "execution_count": 9,
   "metadata": {
    "colab": {
     "base_uri": "https://localhost:8080/",
     "height": 336
    },
    "id": "DqqjcfcfJnvy",
    "outputId": "2592a7f6-8777-4515-9737-4e0c48228dc8"
   },
   "outputs": [
    {
     "name": "stdout",
     "output_type": "stream",
     "text": [
      "CPU times: user 2.4 s, sys: 157 ms, total: 2.56 s\n",
      "Wall time: 2.56 s\n"
     ]
    },
    {
     "data": {
      "text/html": [
       "<div>\n",
       "<style scoped>\n",
       "    .dataframe tbody tr th:only-of-type {\n",
       "        vertical-align: middle;\n",
       "    }\n",
       "\n",
       "    .dataframe tbody tr th {\n",
       "        vertical-align: top;\n",
       "    }\n",
       "\n",
       "    .dataframe thead th {\n",
       "        text-align: right;\n",
       "    }\n",
       "</style>\n",
       "<table border=\"1\" class=\"dataframe\">\n",
       "  <thead>\n",
       "    <tr style=\"text-align: right;\">\n",
       "      <th></th>\n",
       "      <th>datetime</th>\n",
       "      <th>open</th>\n",
       "      <th>high</th>\n",
       "      <th>low</th>\n",
       "      <th>close</th>\n",
       "      <th>volume</th>\n",
       "    </tr>\n",
       "  </thead>\n",
       "  <tbody>\n",
       "    <tr>\n",
       "      <th>count</th>\n",
       "      <td>18000000</td>\n",
       "      <td>1.800000e+07</td>\n",
       "      <td>1.800000e+07</td>\n",
       "      <td>1.800000e+07</td>\n",
       "      <td>1.800000e+07</td>\n",
       "      <td>1.800000e+07</td>\n",
       "    </tr>\n",
       "    <tr>\n",
       "      <th>mean</th>\n",
       "      <td>2012-07-01 06:57:04.401000</td>\n",
       "      <td>8.588868e+01</td>\n",
       "      <td>8.613226e+01</td>\n",
       "      <td>8.564169e+01</td>\n",
       "      <td>8.588910e+01</td>\n",
       "      <td>3.816898e+05</td>\n",
       "    </tr>\n",
       "    <tr>\n",
       "      <th>min</th>\n",
       "      <td>1998-01-02 16:30:00</td>\n",
       "      <td>1.200000e-01</td>\n",
       "      <td>1.200000e-01</td>\n",
       "      <td>0.000000e+00</td>\n",
       "      <td>1.200000e-01</td>\n",
       "      <td>0.000000e+00</td>\n",
       "    </tr>\n",
       "    <tr>\n",
       "      <th>25%</th>\n",
       "      <td>2006-07-06 22:00:00</td>\n",
       "      <td>3.318000e+01</td>\n",
       "      <td>3.328000e+01</td>\n",
       "      <td>3.306000e+01</td>\n",
       "      <td>3.318000e+01</td>\n",
       "      <td>2.928900e+04</td>\n",
       "    </tr>\n",
       "    <tr>\n",
       "      <th>50%</th>\n",
       "      <td>2013-01-17 19:30:00</td>\n",
       "      <td>5.324000e+01</td>\n",
       "      <td>5.340000e+01</td>\n",
       "      <td>5.308000e+01</td>\n",
       "      <td>5.324000e+01</td>\n",
       "      <td>8.060000e+04</td>\n",
       "    </tr>\n",
       "    <tr>\n",
       "      <th>75%</th>\n",
       "      <td>2018-11-19 18:00:00</td>\n",
       "      <td>9.010000e+01</td>\n",
       "      <td>9.035000e+01</td>\n",
       "      <td>8.987000e+01</td>\n",
       "      <td>9.010000e+01</td>\n",
       "      <td>2.250070e+05</td>\n",
       "    </tr>\n",
       "    <tr>\n",
       "      <th>max</th>\n",
       "      <td>2024-03-13 23:00:00</td>\n",
       "      <td>3.906580e+03</td>\n",
       "      <td>3.918000e+03</td>\n",
       "      <td>3.903850e+03</td>\n",
       "      <td>3.904240e+03</td>\n",
       "      <td>7.465168e+08</td>\n",
       "    </tr>\n",
       "    <tr>\n",
       "      <th>std</th>\n",
       "      <td>NaN</td>\n",
       "      <td>1.406006e+02</td>\n",
       "      <td>1.409601e+02</td>\n",
       "      <td>1.402315e+02</td>\n",
       "      <td>1.405988e+02</td>\n",
       "      <td>1.933480e+06</td>\n",
       "    </tr>\n",
       "  </tbody>\n",
       "</table>\n",
       "</div>"
      ],
      "text/plain": [
       "                         datetime          open          high           low  \\\n",
       "count                    18000000  1.800000e+07  1.800000e+07  1.800000e+07   \n",
       "mean   2012-07-01 06:57:04.401000  8.588868e+01  8.613226e+01  8.564169e+01   \n",
       "min           1998-01-02 16:30:00  1.200000e-01  1.200000e-01  0.000000e+00   \n",
       "25%           2006-07-06 22:00:00  3.318000e+01  3.328000e+01  3.306000e+01   \n",
       "50%           2013-01-17 19:30:00  5.324000e+01  5.340000e+01  5.308000e+01   \n",
       "75%           2018-11-19 18:00:00  9.010000e+01  9.035000e+01  8.987000e+01   \n",
       "max           2024-03-13 23:00:00  3.906580e+03  3.918000e+03  3.903850e+03   \n",
       "std                           NaN  1.406006e+02  1.409601e+02  1.402315e+02   \n",
       "\n",
       "              close        volume  \n",
       "count  1.800000e+07  1.800000e+07  \n",
       "mean   8.588910e+01  3.816898e+05  \n",
       "min    1.200000e-01  0.000000e+00  \n",
       "25%    3.318000e+01  2.928900e+04  \n",
       "50%    5.324000e+01  8.060000e+04  \n",
       "75%    9.010000e+01  2.250070e+05  \n",
       "max    3.904240e+03  7.465168e+08  \n",
       "std    1.405988e+02  1.933480e+06  "
      ]
     },
     "execution_count": 9,
     "metadata": {},
     "output_type": "execute_result"
    }
   ],
   "source": [
    "%time df.describe()"
   ]
  },
  {
   "cell_type": "markdown",
   "metadata": {
    "id": "iuatY3BFJzPO"
   },
   "source": [
    "A little slow, but it gets the job done.\n",
    "\n",
    "Most of the price-related columns look well behaved with no crazy outliers based on the max values. Volume has a high variance, but that makes sense as some stocks will be traded **much** more often than others. We've also got a wide time range in this data, spanning 1998 to 2024.\n",
    "\n",
    "The time-range information feels important. This is per-stock data, so some stocks will have \"entered\" the dataset at different times. We should really group by each ticker for our analysis.\n",
    "\n",
    "To start, we can investigate the time periods for various stocks in the data."
   ]
  },
  {
   "cell_type": "code",
   "execution_count": 10,
   "metadata": {
    "colab": {
     "base_uri": "https://localhost:8080/",
     "height": 522
    },
    "id": "b0tMz4nuJva6",
    "outputId": "ff9c37b8-bbc8-4178-c1bc-ce5951e7df31"
   },
   "outputs": [
    {
     "name": "stdout",
     "output_type": "stream",
     "text": [
      "CPU times: user 944 ms, sys: 121 ms, total: 1.07 s\n",
      "Wall time: 1.06 s\n"
     ]
    },
    {
     "data": {
      "text/html": [
       "<div>\n",
       "<style scoped>\n",
       "    .dataframe tbody tr th:only-of-type {\n",
       "        vertical-align: middle;\n",
       "    }\n",
       "\n",
       "    .dataframe tbody tr th {\n",
       "        vertical-align: top;\n",
       "    }\n",
       "\n",
       "    .dataframe thead tr th {\n",
       "        text-align: left;\n",
       "    }\n",
       "\n",
       "    .dataframe thead tr:last-of-type th {\n",
       "        text-align: right;\n",
       "    }\n",
       "</style>\n",
       "<table border=\"1\" class=\"dataframe\">\n",
       "  <thead>\n",
       "    <tr>\n",
       "      <th></th>\n",
       "      <th colspan=\"3\" halign=\"left\">datetime</th>\n",
       "    </tr>\n",
       "    <tr>\n",
       "      <th></th>\n",
       "      <th>min</th>\n",
       "      <th>max</th>\n",
       "      <th>count</th>\n",
       "    </tr>\n",
       "    <tr>\n",
       "      <th>ticker</th>\n",
       "      <th></th>\n",
       "      <th></th>\n",
       "      <th></th>\n",
       "    </tr>\n",
       "  </thead>\n",
       "  <tbody>\n",
       "    <tr>\n",
       "      <th>A</th>\n",
       "      <td>1999-11-18 17:00:00</td>\n",
       "      <td>2024-03-13 23:00:00</td>\n",
       "      <td>79922</td>\n",
       "    </tr>\n",
       "    <tr>\n",
       "      <th>AAL</th>\n",
       "      <td>2013-12-09 16:30:00</td>\n",
       "      <td>2024-03-13 23:00:00</td>\n",
       "      <td>34174</td>\n",
       "    </tr>\n",
       "    <tr>\n",
       "      <th>AAPL</th>\n",
       "      <td>1998-01-02 16:30:00</td>\n",
       "      <td>2024-03-13 23:00:00</td>\n",
       "      <td>86218</td>\n",
       "    </tr>\n",
       "    <tr>\n",
       "      <th>ABBV</th>\n",
       "      <td>2013-01-02 16:30:00</td>\n",
       "      <td>2024-03-13 23:00:00</td>\n",
       "      <td>36770</td>\n",
       "    </tr>\n",
       "    <tr>\n",
       "      <th>ABNB</th>\n",
       "      <td>2020-12-10 20:30:00</td>\n",
       "      <td>2024-03-13 23:00:00</td>\n",
       "      <td>11274</td>\n",
       "    </tr>\n",
       "    <tr>\n",
       "      <th>...</th>\n",
       "      <td>...</td>\n",
       "      <td>...</td>\n",
       "      <td>...</td>\n",
       "    </tr>\n",
       "    <tr>\n",
       "      <th>IVZ</th>\n",
       "      <td>2007-05-24 16:30:00</td>\n",
       "      <td>2024-03-13 23:00:00</td>\n",
       "      <td>55490</td>\n",
       "    </tr>\n",
       "    <tr>\n",
       "      <th>J</th>\n",
       "      <td>2007-05-02 21:00:00</td>\n",
       "      <td>2024-03-13 23:00:00</td>\n",
       "      <td>55672</td>\n",
       "    </tr>\n",
       "    <tr>\n",
       "      <th>JBHT</th>\n",
       "      <td>1998-01-02 16:30:00</td>\n",
       "      <td>2024-03-13 22:30:00</td>\n",
       "      <td>85498</td>\n",
       "    </tr>\n",
       "    <tr>\n",
       "      <th>JBL</th>\n",
       "      <td>1998-05-05 16:30:00</td>\n",
       "      <td>2024-03-13 23:00:00</td>\n",
       "      <td>84976</td>\n",
       "    </tr>\n",
       "    <tr>\n",
       "      <th>JCI</th>\n",
       "      <td>1998-01-02 16:30:00</td>\n",
       "      <td>2003-02-20 19:00:00</td>\n",
       "      <td>16693</td>\n",
       "    </tr>\n",
       "  </tbody>\n",
       "</table>\n",
       "<p>264 rows × 3 columns</p>\n",
       "</div>"
      ],
      "text/plain": [
       "                  datetime                           \n",
       "                       min                 max  count\n",
       "ticker                                               \n",
       "A      1999-11-18 17:00:00 2024-03-13 23:00:00  79922\n",
       "AAL    2013-12-09 16:30:00 2024-03-13 23:00:00  34174\n",
       "AAPL   1998-01-02 16:30:00 2024-03-13 23:00:00  86218\n",
       "ABBV   2013-01-02 16:30:00 2024-03-13 23:00:00  36770\n",
       "ABNB   2020-12-10 20:30:00 2024-03-13 23:00:00  11274\n",
       "...                    ...                 ...    ...\n",
       "IVZ    2007-05-24 16:30:00 2024-03-13 23:00:00  55490\n",
       "J      2007-05-02 21:00:00 2024-03-13 23:00:00  55672\n",
       "JBHT   1998-01-02 16:30:00 2024-03-13 22:30:00  85498\n",
       "JBL    1998-05-05 16:30:00 2024-03-13 23:00:00  84976\n",
       "JCI    1998-01-02 16:30:00 2003-02-20 19:00:00  16693\n",
       "\n",
       "[264 rows x 3 columns]"
      ]
     },
     "execution_count": 10,
     "metadata": {},
     "output_type": "execute_result"
    }
   ],
   "source": [
    "%time df.groupby(\"ticker\").agg({\"datetime\": [\"min\", \"max\", \"count\"]})"
   ]
  },
  {
   "cell_type": "markdown",
   "metadata": {
    "id": "JznDAW8tKOtg"
   },
   "source": [
    "As expected, there's a pretty significant difference across stocks. Since this determines how many records exist for each ticker, we'll need to take that into account for future analysis.\n",
    "\n",
    "One way to do that is to use the time periods as part of any grouping or rolling window analysis we do on this data. For example, we can look at the minimum and maximum of each stock ticker at various time frequencies to understand trends."
   ]
  },
  {
   "cell_type": "code",
   "execution_count": 11,
   "metadata": {
    "colab": {
     "base_uri": "https://localhost:8080/",
     "height": 522
    },
    "id": "HZzNnYcfJ-nR",
    "outputId": "67760552-e809-4e28-8ede-d317aa91480b"
   },
   "outputs": [
    {
     "name": "stdout",
     "output_type": "stream",
     "text": [
      "CPU times: user 2.32 s, sys: 264 ms, total: 2.59 s\n",
      "Wall time: 2.59 s\n"
     ]
    },
    {
     "data": {
      "text/html": [
       "<div>\n",
       "<style scoped>\n",
       "    .dataframe tbody tr th:only-of-type {\n",
       "        vertical-align: middle;\n",
       "    }\n",
       "\n",
       "    .dataframe tbody tr th {\n",
       "        vertical-align: top;\n",
       "    }\n",
       "\n",
       "    .dataframe thead tr th {\n",
       "        text-align: left;\n",
       "    }\n",
       "\n",
       "    .dataframe thead tr:last-of-type th {\n",
       "        text-align: right;\n",
       "    }\n",
       "</style>\n",
       "<table border=\"1\" class=\"dataframe\">\n",
       "  <thead>\n",
       "    <tr>\n",
       "      <th></th>\n",
       "      <th></th>\n",
       "      <th></th>\n",
       "      <th colspan=\"2\" halign=\"left\">close</th>\n",
       "    </tr>\n",
       "    <tr>\n",
       "      <th></th>\n",
       "      <th></th>\n",
       "      <th></th>\n",
       "      <th>min</th>\n",
       "      <th>max</th>\n",
       "    </tr>\n",
       "    <tr>\n",
       "      <th>ticker</th>\n",
       "      <th>year</th>\n",
       "      <th>week</th>\n",
       "      <th></th>\n",
       "      <th></th>\n",
       "    </tr>\n",
       "  </thead>\n",
       "  <tbody>\n",
       "    <tr>\n",
       "      <th rowspan=\"5\" valign=\"top\">A</th>\n",
       "      <th rowspan=\"5\" valign=\"top\">1999</th>\n",
       "      <th>46</th>\n",
       "      <td>40.06</td>\n",
       "      <td>46.57</td>\n",
       "    </tr>\n",
       "    <tr>\n",
       "      <th>47</th>\n",
       "      <td>40.07</td>\n",
       "      <td>43.07</td>\n",
       "    </tr>\n",
       "    <tr>\n",
       "      <th>48</th>\n",
       "      <td>41.00</td>\n",
       "      <td>45.56</td>\n",
       "    </tr>\n",
       "    <tr>\n",
       "      <th>49</th>\n",
       "      <td>44.56</td>\n",
       "      <td>46.32</td>\n",
       "    </tr>\n",
       "    <tr>\n",
       "      <th>50</th>\n",
       "      <td>41.06</td>\n",
       "      <td>46.88</td>\n",
       "    </tr>\n",
       "    <tr>\n",
       "      <th>...</th>\n",
       "      <th>...</th>\n",
       "      <th>...</th>\n",
       "      <td>...</td>\n",
       "      <td>...</td>\n",
       "    </tr>\n",
       "    <tr>\n",
       "      <th rowspan=\"5\" valign=\"top\">JCI</th>\n",
       "      <th rowspan=\"5\" valign=\"top\">2003</th>\n",
       "      <th>4</th>\n",
       "      <td>79.10</td>\n",
       "      <td>81.13</td>\n",
       "    </tr>\n",
       "    <tr>\n",
       "      <th>5</th>\n",
       "      <td>78.86</td>\n",
       "      <td>80.98</td>\n",
       "    </tr>\n",
       "    <tr>\n",
       "      <th>6</th>\n",
       "      <td>79.95</td>\n",
       "      <td>81.51</td>\n",
       "    </tr>\n",
       "    <tr>\n",
       "      <th>7</th>\n",
       "      <td>77.72</td>\n",
       "      <td>81.33</td>\n",
       "    </tr>\n",
       "    <tr>\n",
       "      <th>8</th>\n",
       "      <td>79.09</td>\n",
       "      <td>80.87</td>\n",
       "    </tr>\n",
       "  </tbody>\n",
       "</table>\n",
       "<p>286642 rows × 2 columns</p>\n",
       "</div>"
      ],
      "text/plain": [
       "                  close       \n",
       "                    min    max\n",
       "ticker year week              \n",
       "A      1999 46    40.06  46.57\n",
       "            47    40.07  43.07\n",
       "            48    41.00  45.56\n",
       "            49    44.56  46.32\n",
       "            50    41.06  46.88\n",
       "...                 ...    ...\n",
       "JCI    2003 4     79.10  81.13\n",
       "            5     78.86  80.98\n",
       "            6     79.95  81.51\n",
       "            7     77.72  81.33\n",
       "            8     79.09  80.87\n",
       "\n",
       "[286642 rows x 2 columns]"
      ]
     },
     "execution_count": 11,
     "metadata": {},
     "output_type": "execute_result"
    }
   ],
   "source": [
    "%%time\n",
    "df[[\"year\", \"week\", \"day\"]] = df.datetime.dt.isocalendar()\n",
    "df.groupby([\"ticker\", \"year\", \"week\"]).agg({\"close\": [\"min\", \"max\"]})"
   ]
  },
  {
   "cell_type": "markdown",
   "metadata": {
    "id": "aXEYOj-BLfXP"
   },
   "source": [
    "Okay, that was a little slow, but it's manageable. We can easily aggregate the data up to weekly values and investigate further.\n",
    "\n",
    "But what if we want to ask slightly more complex questions?\n",
    "\n",
    "## More complex analysis\n",
    "\n",
    "\n",
    "Let's say we want the daily rolling average of all of these values for each stock. With this, we could investigate how each 30 minute interval compares to the rolling average over the course of a day.\n",
    "\n",
    "In this **specific** demo dataset, we have exactly one record per 30 minutes, so we could use a fixed window size of 12 (12 periods per market day). But in practice, we often have messy data with inconsistent time frequencies -- not to mention some missing or duplicated data. Fixed time windows can potentially corrupt our analysis.\n",
    "\n",
    "Fortunately, solving this problem is actually pretty easy with pandas. We can use a fixed **time window** per ticker rather than fixed number of records.\n",
    "\n",
    "Unfortunately, it's **pretty** slow."
   ]
  },
  {
   "cell_type": "code",
   "execution_count": 12,
   "metadata": {
    "colab": {
     "base_uri": "https://localhost:8080/",
     "height": 241
    },
    "id": "42wbyIdaLh8w",
    "outputId": "1931ebc7-dff4-45bb-fef7-815dddc8bde8"
   },
   "outputs": [
    {
     "name": "stdout",
     "output_type": "stream",
     "text": [
      "CPU times: user 21.5 s, sys: 1.46 s, total: 22.9 s\n",
      "Wall time: 23 s\n"
     ]
    },
    {
     "data": {
      "text/html": [
       "<div>\n",
       "<style scoped>\n",
       "    .dataframe tbody tr th:only-of-type {\n",
       "        vertical-align: middle;\n",
       "    }\n",
       "\n",
       "    .dataframe tbody tr th {\n",
       "        vertical-align: top;\n",
       "    }\n",
       "\n",
       "    .dataframe thead th {\n",
       "        text-align: right;\n",
       "    }\n",
       "</style>\n",
       "<table border=\"1\" class=\"dataframe\">\n",
       "  <thead>\n",
       "    <tr style=\"text-align: right;\">\n",
       "      <th></th>\n",
       "      <th>ticker</th>\n",
       "      <th>datetime</th>\n",
       "      <th>open</th>\n",
       "      <th>high</th>\n",
       "      <th>low</th>\n",
       "      <th>close</th>\n",
       "      <th>volume</th>\n",
       "      <th>year</th>\n",
       "      <th>week</th>\n",
       "      <th>day</th>\n",
       "    </tr>\n",
       "  </thead>\n",
       "  <tbody>\n",
       "    <tr>\n",
       "      <th>0</th>\n",
       "      <td>A</td>\n",
       "      <td>1999-11-18 17:00:00</td>\n",
       "      <td>45.560</td>\n",
       "      <td>50.000000</td>\n",
       "      <td>45.500000</td>\n",
       "      <td>46.000000</td>\n",
       "      <td>9.275000e+06</td>\n",
       "      <td>1999.0</td>\n",
       "      <td>46.0</td>\n",
       "      <td>4.0</td>\n",
       "    </tr>\n",
       "    <tr>\n",
       "      <th>1</th>\n",
       "      <td>A</td>\n",
       "      <td>1999-11-18 17:30:00</td>\n",
       "      <td>45.780</td>\n",
       "      <td>48.845000</td>\n",
       "      <td>45.660000</td>\n",
       "      <td>46.285000</td>\n",
       "      <td>6.237950e+06</td>\n",
       "      <td>1999.0</td>\n",
       "      <td>46.0</td>\n",
       "      <td>4.0</td>\n",
       "    </tr>\n",
       "    <tr>\n",
       "      <th>2</th>\n",
       "      <td>A</td>\n",
       "      <td>1999-11-18 18:00:00</td>\n",
       "      <td>46.040</td>\n",
       "      <td>48.106667</td>\n",
       "      <td>44.106667</td>\n",
       "      <td>44.523333</td>\n",
       "      <td>5.435467e+06</td>\n",
       "      <td>1999.0</td>\n",
       "      <td>46.0</td>\n",
       "      <td>4.0</td>\n",
       "    </tr>\n",
       "    <tr>\n",
       "      <th>3</th>\n",
       "      <td>A</td>\n",
       "      <td>1999-11-18 18:30:00</td>\n",
       "      <td>44.780</td>\n",
       "      <td>46.925000</td>\n",
       "      <td>43.172500</td>\n",
       "      <td>43.987500</td>\n",
       "      <td>4.998750e+06</td>\n",
       "      <td>1999.0</td>\n",
       "      <td>46.0</td>\n",
       "      <td>4.0</td>\n",
       "    </tr>\n",
       "    <tr>\n",
       "      <th>4</th>\n",
       "      <td>A</td>\n",
       "      <td>1999-11-18 19:00:00</td>\n",
       "      <td>44.286</td>\n",
       "      <td>46.028000</td>\n",
       "      <td>42.850000</td>\n",
       "      <td>43.528000</td>\n",
       "      <td>4.315860e+06</td>\n",
       "      <td>1999.0</td>\n",
       "      <td>46.0</td>\n",
       "      <td>4.0</td>\n",
       "    </tr>\n",
       "  </tbody>\n",
       "</table>\n",
       "</div>"
      ],
      "text/plain": [
       "  ticker            datetime    open       high        low      close  \\\n",
       "0      A 1999-11-18 17:00:00  45.560  50.000000  45.500000  46.000000   \n",
       "1      A 1999-11-18 17:30:00  45.780  48.845000  45.660000  46.285000   \n",
       "2      A 1999-11-18 18:00:00  46.040  48.106667  44.106667  44.523333   \n",
       "3      A 1999-11-18 18:30:00  44.780  46.925000  43.172500  43.987500   \n",
       "4      A 1999-11-18 19:00:00  44.286  46.028000  42.850000  43.528000   \n",
       "\n",
       "         volume    year  week  day  \n",
       "0  9.275000e+06  1999.0  46.0  4.0  \n",
       "1  6.237950e+06  1999.0  46.0  4.0  \n",
       "2  5.435467e+06  1999.0  46.0  4.0  \n",
       "3  4.998750e+06  1999.0  46.0  4.0  \n",
       "4  4.315860e+06  1999.0  46.0  4.0  "
      ]
     },
     "execution_count": 12,
     "metadata": {},
     "output_type": "execute_result"
    }
   ],
   "source": [
    "%time result = df.set_index(\"datetime\").sort_index().groupby(\"ticker\").rolling(\"1D\").mean().reset_index()\n",
    "result.head()"
   ]
  },
  {
   "cell_type": "markdown",
   "metadata": {
    "id": "7iuGSOSEgJZy"
   },
   "source": [
    "**About** a 20 to 30 seconds just for a single question. That's not ideal.  Especially for what comes next.\n",
    "\n",
    "Now that we have an average price per day, let's do this again to get the Simple Moving Averages (SMA) usually used in stock analysis.  We'll first do the 50 Day SMA and then the 200 Day SMA."
   ]
  },
  {
   "cell_type": "code",
   "execution_count": 13,
   "metadata": {
    "colab": {
     "base_uri": "https://localhost:8080/",
     "height": 241
    },
    "id": "K1rexa2_gCTW",
    "outputId": "2e265b6d-eba3-42ea-ff13-a6d2cbbdbd90"
   },
   "outputs": [
    {
     "name": "stdout",
     "output_type": "stream",
     "text": [
      "CPU times: user 21.7 s, sys: 1.37 s, total: 23.1 s\n",
      "Wall time: 23.2 s\n"
     ]
    },
    {
     "data": {
      "text/html": [
       "<div>\n",
       "<style scoped>\n",
       "    .dataframe tbody tr th:only-of-type {\n",
       "        vertical-align: middle;\n",
       "    }\n",
       "\n",
       "    .dataframe tbody tr th {\n",
       "        vertical-align: top;\n",
       "    }\n",
       "\n",
       "    .dataframe thead th {\n",
       "        text-align: right;\n",
       "    }\n",
       "</style>\n",
       "<table border=\"1\" class=\"dataframe\">\n",
       "  <thead>\n",
       "    <tr style=\"text-align: right;\">\n",
       "      <th></th>\n",
       "      <th>ticker</th>\n",
       "      <th>datetime</th>\n",
       "      <th>open</th>\n",
       "      <th>high</th>\n",
       "      <th>low</th>\n",
       "      <th>close</th>\n",
       "      <th>volume</th>\n",
       "      <th>year</th>\n",
       "      <th>week</th>\n",
       "      <th>day</th>\n",
       "    </tr>\n",
       "  </thead>\n",
       "  <tbody>\n",
       "    <tr>\n",
       "      <th>0</th>\n",
       "      <td>A</td>\n",
       "      <td>1999-11-18 17:00:00</td>\n",
       "      <td>45.560</td>\n",
       "      <td>50.000000</td>\n",
       "      <td>45.500000</td>\n",
       "      <td>46.000000</td>\n",
       "      <td>9.275000e+06</td>\n",
       "      <td>1999.0</td>\n",
       "      <td>46.0</td>\n",
       "      <td>4.0</td>\n",
       "    </tr>\n",
       "    <tr>\n",
       "      <th>1</th>\n",
       "      <td>A</td>\n",
       "      <td>1999-11-18 17:30:00</td>\n",
       "      <td>45.780</td>\n",
       "      <td>48.845000</td>\n",
       "      <td>45.660000</td>\n",
       "      <td>46.285000</td>\n",
       "      <td>6.237950e+06</td>\n",
       "      <td>1999.0</td>\n",
       "      <td>46.0</td>\n",
       "      <td>4.0</td>\n",
       "    </tr>\n",
       "    <tr>\n",
       "      <th>2</th>\n",
       "      <td>A</td>\n",
       "      <td>1999-11-18 18:00:00</td>\n",
       "      <td>46.040</td>\n",
       "      <td>48.106667</td>\n",
       "      <td>44.106667</td>\n",
       "      <td>44.523333</td>\n",
       "      <td>5.435467e+06</td>\n",
       "      <td>1999.0</td>\n",
       "      <td>46.0</td>\n",
       "      <td>4.0</td>\n",
       "    </tr>\n",
       "    <tr>\n",
       "      <th>3</th>\n",
       "      <td>A</td>\n",
       "      <td>1999-11-18 18:30:00</td>\n",
       "      <td>44.780</td>\n",
       "      <td>46.925000</td>\n",
       "      <td>43.172500</td>\n",
       "      <td>43.987500</td>\n",
       "      <td>4.998750e+06</td>\n",
       "      <td>1999.0</td>\n",
       "      <td>46.0</td>\n",
       "      <td>4.0</td>\n",
       "    </tr>\n",
       "    <tr>\n",
       "      <th>4</th>\n",
       "      <td>A</td>\n",
       "      <td>1999-11-18 19:00:00</td>\n",
       "      <td>44.286</td>\n",
       "      <td>46.028000</td>\n",
       "      <td>42.850000</td>\n",
       "      <td>43.528000</td>\n",
       "      <td>4.315860e+06</td>\n",
       "      <td>1999.0</td>\n",
       "      <td>46.0</td>\n",
       "      <td>4.0</td>\n",
       "    </tr>\n",
       "  </tbody>\n",
       "</table>\n",
       "</div>"
      ],
      "text/plain": [
       "  ticker            datetime    open       high        low      close  \\\n",
       "0      A 1999-11-18 17:00:00  45.560  50.000000  45.500000  46.000000   \n",
       "1      A 1999-11-18 17:30:00  45.780  48.845000  45.660000  46.285000   \n",
       "2      A 1999-11-18 18:00:00  46.040  48.106667  44.106667  44.523333   \n",
       "3      A 1999-11-18 18:30:00  44.780  46.925000  43.172500  43.987500   \n",
       "4      A 1999-11-18 19:00:00  44.286  46.028000  42.850000  43.528000   \n",
       "\n",
       "         volume    year  week  day  \n",
       "0  9.275000e+06  1999.0  46.0  4.0  \n",
       "1  6.237950e+06  1999.0  46.0  4.0  \n",
       "2  5.435467e+06  1999.0  46.0  4.0  \n",
       "3  4.998750e+06  1999.0  46.0  4.0  \n",
       "4  4.315860e+06  1999.0  46.0  4.0  "
      ]
     },
     "execution_count": 13,
     "metadata": {},
     "output_type": "execute_result"
    }
   ],
   "source": [
    "%time fiftyDay = df.set_index(\"datetime\").sort_index().groupby(\"ticker\").rolling(\"50D\").mean().reset_index()\n",
    "fiftyDay.head()"
   ]
  },
  {
   "cell_type": "code",
   "execution_count": 14,
   "metadata": {
    "colab": {
     "base_uri": "https://localhost:8080/",
     "height": 241
    },
    "id": "-iyZercThFBb",
    "outputId": "e80b6224-0d74-4d68-a396-0b0c3de04346"
   },
   "outputs": [
    {
     "name": "stdout",
     "output_type": "stream",
     "text": [
      "CPU times: user 21.7 s, sys: 1.34 s, total: 23 s\n",
      "Wall time: 23 s\n"
     ]
    },
    {
     "data": {
      "text/html": [
       "<div>\n",
       "<style scoped>\n",
       "    .dataframe tbody tr th:only-of-type {\n",
       "        vertical-align: middle;\n",
       "    }\n",
       "\n",
       "    .dataframe tbody tr th {\n",
       "        vertical-align: top;\n",
       "    }\n",
       "\n",
       "    .dataframe thead th {\n",
       "        text-align: right;\n",
       "    }\n",
       "</style>\n",
       "<table border=\"1\" class=\"dataframe\">\n",
       "  <thead>\n",
       "    <tr style=\"text-align: right;\">\n",
       "      <th></th>\n",
       "      <th>ticker</th>\n",
       "      <th>datetime</th>\n",
       "      <th>open</th>\n",
       "      <th>high</th>\n",
       "      <th>low</th>\n",
       "      <th>close</th>\n",
       "      <th>volume</th>\n",
       "      <th>year</th>\n",
       "      <th>week</th>\n",
       "      <th>day</th>\n",
       "    </tr>\n",
       "  </thead>\n",
       "  <tbody>\n",
       "    <tr>\n",
       "      <th>0</th>\n",
       "      <td>A</td>\n",
       "      <td>1999-11-18 17:00:00</td>\n",
       "      <td>45.560</td>\n",
       "      <td>50.000000</td>\n",
       "      <td>45.500000</td>\n",
       "      <td>46.000000</td>\n",
       "      <td>9.275000e+06</td>\n",
       "      <td>1999.0</td>\n",
       "      <td>46.0</td>\n",
       "      <td>4.0</td>\n",
       "    </tr>\n",
       "    <tr>\n",
       "      <th>1</th>\n",
       "      <td>A</td>\n",
       "      <td>1999-11-18 17:30:00</td>\n",
       "      <td>45.780</td>\n",
       "      <td>48.845000</td>\n",
       "      <td>45.660000</td>\n",
       "      <td>46.285000</td>\n",
       "      <td>6.237950e+06</td>\n",
       "      <td>1999.0</td>\n",
       "      <td>46.0</td>\n",
       "      <td>4.0</td>\n",
       "    </tr>\n",
       "    <tr>\n",
       "      <th>2</th>\n",
       "      <td>A</td>\n",
       "      <td>1999-11-18 18:00:00</td>\n",
       "      <td>46.040</td>\n",
       "      <td>48.106667</td>\n",
       "      <td>44.106667</td>\n",
       "      <td>44.523333</td>\n",
       "      <td>5.435467e+06</td>\n",
       "      <td>1999.0</td>\n",
       "      <td>46.0</td>\n",
       "      <td>4.0</td>\n",
       "    </tr>\n",
       "    <tr>\n",
       "      <th>3</th>\n",
       "      <td>A</td>\n",
       "      <td>1999-11-18 18:30:00</td>\n",
       "      <td>44.780</td>\n",
       "      <td>46.925000</td>\n",
       "      <td>43.172500</td>\n",
       "      <td>43.987500</td>\n",
       "      <td>4.998750e+06</td>\n",
       "      <td>1999.0</td>\n",
       "      <td>46.0</td>\n",
       "      <td>4.0</td>\n",
       "    </tr>\n",
       "    <tr>\n",
       "      <th>4</th>\n",
       "      <td>A</td>\n",
       "      <td>1999-11-18 19:00:00</td>\n",
       "      <td>44.286</td>\n",
       "      <td>46.028000</td>\n",
       "      <td>42.850000</td>\n",
       "      <td>43.528000</td>\n",
       "      <td>4.315860e+06</td>\n",
       "      <td>1999.0</td>\n",
       "      <td>46.0</td>\n",
       "      <td>4.0</td>\n",
       "    </tr>\n",
       "  </tbody>\n",
       "</table>\n",
       "</div>"
      ],
      "text/plain": [
       "  ticker            datetime    open       high        low      close  \\\n",
       "0      A 1999-11-18 17:00:00  45.560  50.000000  45.500000  46.000000   \n",
       "1      A 1999-11-18 17:30:00  45.780  48.845000  45.660000  46.285000   \n",
       "2      A 1999-11-18 18:00:00  46.040  48.106667  44.106667  44.523333   \n",
       "3      A 1999-11-18 18:30:00  44.780  46.925000  43.172500  43.987500   \n",
       "4      A 1999-11-18 19:00:00  44.286  46.028000  42.850000  43.528000   \n",
       "\n",
       "         volume    year  week  day  \n",
       "0  9.275000e+06  1999.0  46.0  4.0  \n",
       "1  6.237950e+06  1999.0  46.0  4.0  \n",
       "2  5.435467e+06  1999.0  46.0  4.0  \n",
       "3  4.998750e+06  1999.0  46.0  4.0  \n",
       "4  4.315860e+06  1999.0  46.0  4.0  "
      ]
     },
     "execution_count": 14,
     "metadata": {},
     "output_type": "execute_result"
    }
   ],
   "source": [
    "%time twoHunDay = df.set_index(\"datetime\").sort_index().groupby(\"ticker\").rolling(\"200D\").mean().reset_index()\n",
    "twoHunDay.head()"
   ]
  },
  {
   "cell_type": "markdown",
   "metadata": {
    "id": "9YQj8Kg1LlCs"
   },
   "source": [
    "This took just about a minute and a half to get to just about where you can plot.  \n",
    "\n",
    "Perfect time to switch to cudf.pandas. Let's do that and then run the **same code**."
   ]
  },
  {
   "cell_type": "markdown",
   "metadata": {
    "id": "s4CC8LjKiJds"
   },
   "source": [
    "# Analysis with cuDF Pandas\n",
    "\n",
    "Typically, you should load the `cudf.pandas` extension as the first step in your notebook, before importing any modules. Here, we explicitly restart the kernel to simulate that behavior."
   ]
  },
  {
   "cell_type": "code",
   "execution_count": 15,
   "metadata": {
    "colab": {
     "base_uri": "https://localhost:8080/"
    },
    "id": "i17g7UlLPXHc",
    "outputId": "bd36f97c-e9c0-41b1-8f00-9886c79753e1"
   },
   "outputs": [
    {
     "data": {
      "text/plain": [
       "<module 'pandas' (ModuleAccelerator(fast=cudf, slow=pandas))>"
      ]
     },
     "execution_count": 15,
     "metadata": {},
     "output_type": "execute_result"
    }
   ],
   "source": [
    "%load_ext cudf.pandas\n",
    "import importlib\n",
    "import pandas as pd\n",
    "importlib.reload(pd)"
   ]
  },
  {
   "cell_type": "markdown",
   "metadata": {
    "id": "rwqZKmGhiYXY"
   },
   "source": [
    "We'll run the same code as above to get a feel what GPU-acceleration brings to pandas workflows."
   ]
  },
  {
   "cell_type": "code",
   "execution_count": 16,
   "metadata": {
    "colab": {
     "base_uri": "https://localhost:8080/"
    },
    "id": "ci2waUePPhuo",
    "outputId": "2a859dbe-9b29-4cab-a28a-0027536f0acd"
   },
   "outputs": [
    {
     "name": "stdout",
     "output_type": "stream",
     "text": [
      "CPU times: user 341 ms, sys: 266 ms, total: 608 ms\n",
      "Wall time: 363 ms\n",
      "<class 'cudf.core.dataframe.DataFrame'>\n",
      "Index: 36087094 entries, 0 to 36919\n",
      "Data columns (total 7 columns):\n",
      " #   Column    Dtype\n",
      "---  ------    -----\n",
      " 0   datetime  datetime64[ms]\n",
      " 1   open      float64\n",
      " 2   high      float64\n",
      " 3   low       float64\n",
      " 4   close     float64\n",
      " 5   volume    int64\n",
      " 6   ticker    object\n",
      "dtypes: datetime64[ms](1), float64(4), int64(1), object(1)\n",
      "memory usage: 2.1+ GB\n"
     ]
    }
   ],
   "source": [
    "%time df = pd.read_parquet(data_dir+fn)\n",
    "df.info()"
   ]
  },
  {
   "cell_type": "code",
   "execution_count": 17,
   "metadata": {
    "colab": {
     "base_uri": "https://localhost:8080/",
     "height": 206
    },
    "id": "BvQrz_ImiiLp",
    "outputId": "a4d804db-31a5-47de-eb15-e188edebcf16"
   },
   "outputs": [
    {
     "data": {
      "text/html": [
       "<div>\n",
       "<style scoped>\n",
       "    .dataframe tbody tr th:only-of-type {\n",
       "        vertical-align: middle;\n",
       "    }\n",
       "\n",
       "    .dataframe tbody tr th {\n",
       "        vertical-align: top;\n",
       "    }\n",
       "\n",
       "    .dataframe thead th {\n",
       "        text-align: right;\n",
       "    }\n",
       "</style>\n",
       "<table border=\"1\" class=\"dataframe\">\n",
       "  <thead>\n",
       "    <tr style=\"text-align: right;\">\n",
       "      <th></th>\n",
       "      <th>datetime</th>\n",
       "      <th>open</th>\n",
       "      <th>high</th>\n",
       "      <th>low</th>\n",
       "      <th>close</th>\n",
       "      <th>volume</th>\n",
       "      <th>ticker</th>\n",
       "    </tr>\n",
       "  </thead>\n",
       "  <tbody>\n",
       "    <tr>\n",
       "      <th>0</th>\n",
       "      <td>1999-11-18 17:00:00</td>\n",
       "      <td>45.56</td>\n",
       "      <td>50.00</td>\n",
       "      <td>45.50</td>\n",
       "      <td>46.00</td>\n",
       "      <td>9275000</td>\n",
       "      <td>A</td>\n",
       "    </tr>\n",
       "    <tr>\n",
       "      <th>1</th>\n",
       "      <td>1999-11-18 17:30:00</td>\n",
       "      <td>46.00</td>\n",
       "      <td>47.69</td>\n",
       "      <td>45.82</td>\n",
       "      <td>46.57</td>\n",
       "      <td>3200900</td>\n",
       "      <td>A</td>\n",
       "    </tr>\n",
       "    <tr>\n",
       "      <th>2</th>\n",
       "      <td>1999-11-18 18:00:00</td>\n",
       "      <td>46.56</td>\n",
       "      <td>46.63</td>\n",
       "      <td>41.00</td>\n",
       "      <td>41.00</td>\n",
       "      <td>3830500</td>\n",
       "      <td>A</td>\n",
       "    </tr>\n",
       "    <tr>\n",
       "      <th>3</th>\n",
       "      <td>1999-11-18 18:30:00</td>\n",
       "      <td>41.00</td>\n",
       "      <td>43.38</td>\n",
       "      <td>40.37</td>\n",
       "      <td>42.38</td>\n",
       "      <td>3688600</td>\n",
       "      <td>A</td>\n",
       "    </tr>\n",
       "    <tr>\n",
       "      <th>4</th>\n",
       "      <td>1999-11-18 19:00:00</td>\n",
       "      <td>42.31</td>\n",
       "      <td>42.44</td>\n",
       "      <td>41.56</td>\n",
       "      <td>41.69</td>\n",
       "      <td>1584300</td>\n",
       "      <td>A</td>\n",
       "    </tr>\n",
       "  </tbody>\n",
       "</table>\n",
       "</div>"
      ],
      "text/plain": [
       "             datetime   open   high    low  close   volume ticker\n",
       "0 1999-11-18 17:00:00  45.56  50.00  45.50  46.00  9275000      A\n",
       "1 1999-11-18 17:30:00  46.00  47.69  45.82  46.57  3200900      A\n",
       "2 1999-11-18 18:00:00  46.56  46.63  41.00  41.00  3830500      A\n",
       "3 1999-11-18 18:30:00  41.00  43.38  40.37  42.38  3688600      A\n",
       "4 1999-11-18 19:00:00  42.31  42.44  41.56  41.69  1584300      A"
      ]
     },
     "execution_count": 17,
     "metadata": {},
     "output_type": "execute_result"
    }
   ],
   "source": [
    "df.head()"
   ]
  },
  {
   "cell_type": "markdown",
   "metadata": {
    "id": "BL5N9mYUil2u"
   },
   "source": [
    "Let's look at the more detailed summary statistics for the the numeric data like we did before."
   ]
  },
  {
   "cell_type": "code",
   "execution_count": 18,
   "metadata": {
    "colab": {
     "base_uri": "https://localhost:8080/"
    },
    "id": "vwzmxbzLjQ9B",
    "outputId": "3a68612b-b905-45d7-9abc-9bc978cc7226"
   },
   "outputs": [
    {
     "data": {
      "text/plain": [
       "(18000000, 7)"
      ]
     },
     "execution_count": 18,
     "metadata": {},
     "output_type": "execute_result"
    }
   ],
   "source": [
    "df = df.iloc[:18000000]\n",
    "df.shape"
   ]
  },
  {
   "cell_type": "code",
   "execution_count": 19,
   "metadata": {
    "colab": {
     "base_uri": "https://localhost:8080/",
     "height": 336
    },
    "id": "JXl-zPKQijwp",
    "outputId": "203f7abc-32d9-45b5-e7a1-e2649a9f4a92"
   },
   "outputs": [
    {
     "name": "stdout",
     "output_type": "stream",
     "text": [
      "CPU times: user 3.11 s, sys: 400 ms, total: 3.51 s\n",
      "Wall time: 3.51 s\n"
     ]
    },
    {
     "data": {
      "text/html": [
       "<div>\n",
       "<style scoped>\n",
       "    .dataframe tbody tr th:only-of-type {\n",
       "        vertical-align: middle;\n",
       "    }\n",
       "\n",
       "    .dataframe tbody tr th {\n",
       "        vertical-align: top;\n",
       "    }\n",
       "\n",
       "    .dataframe thead th {\n",
       "        text-align: right;\n",
       "    }\n",
       "</style>\n",
       "<table border=\"1\" class=\"dataframe\">\n",
       "  <thead>\n",
       "    <tr style=\"text-align: right;\">\n",
       "      <th></th>\n",
       "      <th>datetime</th>\n",
       "      <th>open</th>\n",
       "      <th>high</th>\n",
       "      <th>low</th>\n",
       "      <th>close</th>\n",
       "      <th>volume</th>\n",
       "    </tr>\n",
       "  </thead>\n",
       "  <tbody>\n",
       "    <tr>\n",
       "      <th>count</th>\n",
       "      <td>18000000</td>\n",
       "      <td>1.800000e+07</td>\n",
       "      <td>1.800000e+07</td>\n",
       "      <td>1.800000e+07</td>\n",
       "      <td>1.800000e+07</td>\n",
       "      <td>1.800000e+07</td>\n",
       "    </tr>\n",
       "    <tr>\n",
       "      <th>mean</th>\n",
       "      <td>2012-07-01 06:57:04.401000</td>\n",
       "      <td>8.588868e+01</td>\n",
       "      <td>8.613226e+01</td>\n",
       "      <td>8.564169e+01</td>\n",
       "      <td>8.588910e+01</td>\n",
       "      <td>3.816898e+05</td>\n",
       "    </tr>\n",
       "    <tr>\n",
       "      <th>min</th>\n",
       "      <td>1998-01-02 16:30:00</td>\n",
       "      <td>1.200000e-01</td>\n",
       "      <td>1.200000e-01</td>\n",
       "      <td>0.000000e+00</td>\n",
       "      <td>1.200000e-01</td>\n",
       "      <td>0.000000e+00</td>\n",
       "    </tr>\n",
       "    <tr>\n",
       "      <th>25%</th>\n",
       "      <td>2006-07-06 22:00:00</td>\n",
       "      <td>3.318000e+01</td>\n",
       "      <td>3.328000e+01</td>\n",
       "      <td>3.306000e+01</td>\n",
       "      <td>3.318000e+01</td>\n",
       "      <td>2.928900e+04</td>\n",
       "    </tr>\n",
       "    <tr>\n",
       "      <th>50%</th>\n",
       "      <td>2013-01-17 19:30:00</td>\n",
       "      <td>5.324000e+01</td>\n",
       "      <td>5.340000e+01</td>\n",
       "      <td>5.308000e+01</td>\n",
       "      <td>5.324000e+01</td>\n",
       "      <td>8.060000e+04</td>\n",
       "    </tr>\n",
       "    <tr>\n",
       "      <th>75%</th>\n",
       "      <td>2018-11-19 18:00:00</td>\n",
       "      <td>9.010000e+01</td>\n",
       "      <td>9.035000e+01</td>\n",
       "      <td>8.987000e+01</td>\n",
       "      <td>9.010000e+01</td>\n",
       "      <td>2.250070e+05</td>\n",
       "    </tr>\n",
       "    <tr>\n",
       "      <th>max</th>\n",
       "      <td>2024-03-13 23:00:00</td>\n",
       "      <td>3.906580e+03</td>\n",
       "      <td>3.918000e+03</td>\n",
       "      <td>3.903850e+03</td>\n",
       "      <td>3.904240e+03</td>\n",
       "      <td>7.465168e+08</td>\n",
       "    </tr>\n",
       "    <tr>\n",
       "      <th>std</th>\n",
       "      <td>NaN</td>\n",
       "      <td>1.406006e+02</td>\n",
       "      <td>1.409601e+02</td>\n",
       "      <td>1.402315e+02</td>\n",
       "      <td>1.405988e+02</td>\n",
       "      <td>1.933480e+06</td>\n",
       "    </tr>\n",
       "  </tbody>\n",
       "</table>\n",
       "</div>"
      ],
      "text/plain": [
       "                         datetime          open          high           low  \\\n",
       "count                    18000000  1.800000e+07  1.800000e+07  1.800000e+07   \n",
       "mean   2012-07-01 06:57:04.401000  8.588868e+01  8.613226e+01  8.564169e+01   \n",
       "min           1998-01-02 16:30:00  1.200000e-01  1.200000e-01  0.000000e+00   \n",
       "25%           2006-07-06 22:00:00  3.318000e+01  3.328000e+01  3.306000e+01   \n",
       "50%           2013-01-17 19:30:00  5.324000e+01  5.340000e+01  5.308000e+01   \n",
       "75%           2018-11-19 18:00:00  9.010000e+01  9.035000e+01  8.987000e+01   \n",
       "max           2024-03-13 23:00:00  3.906580e+03  3.918000e+03  3.903850e+03   \n",
       "std                           NaN  1.406006e+02  1.409601e+02  1.402315e+02   \n",
       "\n",
       "              close        volume  \n",
       "count  1.800000e+07  1.800000e+07  \n",
       "mean   8.588910e+01  3.816898e+05  \n",
       "min    1.200000e-01  0.000000e+00  \n",
       "25%    3.318000e+01  2.928900e+04  \n",
       "50%    5.324000e+01  8.060000e+04  \n",
       "75%    9.010000e+01  2.250070e+05  \n",
       "max    3.904240e+03  7.465168e+08  \n",
       "std    1.405988e+02  1.933480e+06  "
      ]
     },
     "execution_count": 19,
     "metadata": {},
     "output_type": "execute_result"
    }
   ],
   "source": [
    "%time df.describe()"
   ]
  },
  {
   "cell_type": "markdown",
   "metadata": {
    "id": "szqehmcfi-BY"
   },
   "source": [
    "First things first, we can see that results are the same, even though we're now using the GPU. Great.\n",
    "\n",
    "Second, that was much quicker, even with a little overhead from this being my first GPU-accelerated operation on the data.\n",
    "\n",
    "Let's do the groupby aggregations."
   ]
  },
  {
   "cell_type": "code",
   "execution_count": 20,
   "metadata": {
    "colab": {
     "base_uri": "https://localhost:8080/",
     "height": 522
    },
    "id": "lh2h5u_FRv75",
    "outputId": "b345e193-cf23-4f2c-9720-c87d9eafe60e"
   },
   "outputs": [
    {
     "name": "stdout",
     "output_type": "stream",
     "text": [
      "CPU times: user 5.93 s, sys: 288 ms, total: 6.22 s\n",
      "Wall time: 6.22 s\n"
     ]
    },
    {
     "data": {
      "text/html": [
       "<div>\n",
       "<style scoped>\n",
       "    .dataframe tbody tr th:only-of-type {\n",
       "        vertical-align: middle;\n",
       "    }\n",
       "\n",
       "    .dataframe tbody tr th {\n",
       "        vertical-align: top;\n",
       "    }\n",
       "\n",
       "    .dataframe thead tr th {\n",
       "        text-align: left;\n",
       "    }\n",
       "\n",
       "    .dataframe thead tr:last-of-type th {\n",
       "        text-align: right;\n",
       "    }\n",
       "</style>\n",
       "<table border=\"1\" class=\"dataframe\">\n",
       "  <thead>\n",
       "    <tr>\n",
       "      <th></th>\n",
       "      <th colspan=\"3\" halign=\"left\">datetime</th>\n",
       "    </tr>\n",
       "    <tr>\n",
       "      <th></th>\n",
       "      <th>min</th>\n",
       "      <th>max</th>\n",
       "      <th>count</th>\n",
       "    </tr>\n",
       "    <tr>\n",
       "      <th>ticker</th>\n",
       "      <th></th>\n",
       "      <th></th>\n",
       "      <th></th>\n",
       "    </tr>\n",
       "  </thead>\n",
       "  <tbody>\n",
       "    <tr>\n",
       "      <th>A</th>\n",
       "      <td>1999-11-18 17:00:00</td>\n",
       "      <td>2024-03-13 23:00:00</td>\n",
       "      <td>79922</td>\n",
       "    </tr>\n",
       "    <tr>\n",
       "      <th>AAL</th>\n",
       "      <td>2013-12-09 16:30:00</td>\n",
       "      <td>2024-03-13 23:00:00</td>\n",
       "      <td>34174</td>\n",
       "    </tr>\n",
       "    <tr>\n",
       "      <th>AAPL</th>\n",
       "      <td>1998-01-02 16:30:00</td>\n",
       "      <td>2024-03-13 23:00:00</td>\n",
       "      <td>86218</td>\n",
       "    </tr>\n",
       "    <tr>\n",
       "      <th>ABBV</th>\n",
       "      <td>2013-01-02 16:30:00</td>\n",
       "      <td>2024-03-13 23:00:00</td>\n",
       "      <td>36770</td>\n",
       "    </tr>\n",
       "    <tr>\n",
       "      <th>ABNB</th>\n",
       "      <td>2020-12-10 20:30:00</td>\n",
       "      <td>2024-03-13 23:00:00</td>\n",
       "      <td>11274</td>\n",
       "    </tr>\n",
       "    <tr>\n",
       "      <th>...</th>\n",
       "      <td>...</td>\n",
       "      <td>...</td>\n",
       "      <td>...</td>\n",
       "    </tr>\n",
       "    <tr>\n",
       "      <th>IVZ</th>\n",
       "      <td>2007-05-24 16:30:00</td>\n",
       "      <td>2024-03-13 23:00:00</td>\n",
       "      <td>55490</td>\n",
       "    </tr>\n",
       "    <tr>\n",
       "      <th>J</th>\n",
       "      <td>2007-05-02 21:00:00</td>\n",
       "      <td>2024-03-13 23:00:00</td>\n",
       "      <td>55672</td>\n",
       "    </tr>\n",
       "    <tr>\n",
       "      <th>JBHT</th>\n",
       "      <td>1998-01-02 16:30:00</td>\n",
       "      <td>2024-03-13 22:30:00</td>\n",
       "      <td>85498</td>\n",
       "    </tr>\n",
       "    <tr>\n",
       "      <th>JBL</th>\n",
       "      <td>1998-05-05 16:30:00</td>\n",
       "      <td>2024-03-13 23:00:00</td>\n",
       "      <td>84976</td>\n",
       "    </tr>\n",
       "    <tr>\n",
       "      <th>JCI</th>\n",
       "      <td>1998-01-02 16:30:00</td>\n",
       "      <td>2003-02-20 19:00:00</td>\n",
       "      <td>16693</td>\n",
       "    </tr>\n",
       "  </tbody>\n",
       "</table>\n",
       "<p>264 rows × 3 columns</p>\n",
       "</div>"
      ],
      "text/plain": [
       "                  datetime                           \n",
       "                       min                 max  count\n",
       "ticker                                               \n",
       "A      1999-11-18 17:00:00 2024-03-13 23:00:00  79922\n",
       "AAL    2013-12-09 16:30:00 2024-03-13 23:00:00  34174\n",
       "AAPL   1998-01-02 16:30:00 2024-03-13 23:00:00  86218\n",
       "ABBV   2013-01-02 16:30:00 2024-03-13 23:00:00  36770\n",
       "ABNB   2020-12-10 20:30:00 2024-03-13 23:00:00  11274\n",
       "...                    ...                 ...    ...\n",
       "IVZ    2007-05-24 16:30:00 2024-03-13 23:00:00  55490\n",
       "J      2007-05-02 21:00:00 2024-03-13 23:00:00  55672\n",
       "JBHT   1998-01-02 16:30:00 2024-03-13 22:30:00  85498\n",
       "JBL    1998-05-05 16:30:00 2024-03-13 23:00:00  84976\n",
       "JCI    1998-01-02 16:30:00 2003-02-20 19:00:00  16693\n",
       "\n",
       "[264 rows x 3 columns]"
      ]
     },
     "execution_count": 20,
     "metadata": {},
     "output_type": "execute_result"
    }
   ],
   "source": [
    "%time df.groupby(\"ticker\").agg({\"datetime\": [\"min\", \"max\", \"count\"]})"
   ]
  },
  {
   "cell_type": "code",
   "execution_count": 21,
   "metadata": {
    "colab": {
     "base_uri": "https://localhost:8080/",
     "height": 522
    },
    "id": "pSCoyXtoR2Kb",
    "outputId": "d3d4c428-bcdd-49c7-9d6b-8824ca7e077b"
   },
   "outputs": [
    {
     "name": "stdout",
     "output_type": "stream",
     "text": [
      "CPU times: user 38.8 ms, sys: 23.9 ms, total: 62.7 ms\n",
      "Wall time: 52.2 ms\n"
     ]
    },
    {
     "data": {
      "text/html": [
       "<div>\n",
       "<style scoped>\n",
       "    .dataframe tbody tr th:only-of-type {\n",
       "        vertical-align: middle;\n",
       "    }\n",
       "\n",
       "    .dataframe tbody tr th {\n",
       "        vertical-align: top;\n",
       "    }\n",
       "\n",
       "    .dataframe thead tr th {\n",
       "        text-align: left;\n",
       "    }\n",
       "\n",
       "    .dataframe thead tr:last-of-type th {\n",
       "        text-align: right;\n",
       "    }\n",
       "</style>\n",
       "<table border=\"1\" class=\"dataframe\">\n",
       "  <thead>\n",
       "    <tr>\n",
       "      <th></th>\n",
       "      <th></th>\n",
       "      <th></th>\n",
       "      <th colspan=\"2\" halign=\"left\">close</th>\n",
       "    </tr>\n",
       "    <tr>\n",
       "      <th></th>\n",
       "      <th></th>\n",
       "      <th></th>\n",
       "      <th>min</th>\n",
       "      <th>max</th>\n",
       "    </tr>\n",
       "    <tr>\n",
       "      <th>ticker</th>\n",
       "      <th>year</th>\n",
       "      <th>week</th>\n",
       "      <th></th>\n",
       "      <th></th>\n",
       "    </tr>\n",
       "  </thead>\n",
       "  <tbody>\n",
       "    <tr>\n",
       "      <th rowspan=\"5\" valign=\"top\">A</th>\n",
       "      <th rowspan=\"5\" valign=\"top\">1999</th>\n",
       "      <th>46</th>\n",
       "      <td>40.06</td>\n",
       "      <td>46.57</td>\n",
       "    </tr>\n",
       "    <tr>\n",
       "      <th>47</th>\n",
       "      <td>40.07</td>\n",
       "      <td>43.07</td>\n",
       "    </tr>\n",
       "    <tr>\n",
       "      <th>48</th>\n",
       "      <td>41.00</td>\n",
       "      <td>45.56</td>\n",
       "    </tr>\n",
       "    <tr>\n",
       "      <th>49</th>\n",
       "      <td>44.56</td>\n",
       "      <td>46.32</td>\n",
       "    </tr>\n",
       "    <tr>\n",
       "      <th>50</th>\n",
       "      <td>41.06</td>\n",
       "      <td>46.88</td>\n",
       "    </tr>\n",
       "    <tr>\n",
       "      <th>...</th>\n",
       "      <th>...</th>\n",
       "      <th>...</th>\n",
       "      <td>...</td>\n",
       "      <td>...</td>\n",
       "    </tr>\n",
       "    <tr>\n",
       "      <th rowspan=\"5\" valign=\"top\">JCI</th>\n",
       "      <th rowspan=\"5\" valign=\"top\">2003</th>\n",
       "      <th>4</th>\n",
       "      <td>79.10</td>\n",
       "      <td>81.13</td>\n",
       "    </tr>\n",
       "    <tr>\n",
       "      <th>5</th>\n",
       "      <td>78.86</td>\n",
       "      <td>80.98</td>\n",
       "    </tr>\n",
       "    <tr>\n",
       "      <th>6</th>\n",
       "      <td>79.95</td>\n",
       "      <td>81.51</td>\n",
       "    </tr>\n",
       "    <tr>\n",
       "      <th>7</th>\n",
       "      <td>77.72</td>\n",
       "      <td>81.33</td>\n",
       "    </tr>\n",
       "    <tr>\n",
       "      <th>8</th>\n",
       "      <td>79.09</td>\n",
       "      <td>80.87</td>\n",
       "    </tr>\n",
       "  </tbody>\n",
       "</table>\n",
       "<p>286642 rows × 2 columns</p>\n",
       "</div>"
      ],
      "text/plain": [
       "                  close       \n",
       "                    min    max\n",
       "ticker year week              \n",
       "A      1999 46    40.06  46.57\n",
       "            47    40.07  43.07\n",
       "            48    41.00  45.56\n",
       "            49    44.56  46.32\n",
       "            50    41.06  46.88\n",
       "...                 ...    ...\n",
       "JCI    2003 4     79.10  81.13\n",
       "            5     78.86  80.98\n",
       "            6     79.95  81.51\n",
       "            7     77.72  81.33\n",
       "            8     79.09  80.87\n",
       "\n",
       "[286642 rows x 2 columns]"
      ]
     },
     "execution_count": 21,
     "metadata": {},
     "output_type": "execute_result"
    }
   ],
   "source": [
    "%%time\n",
    "df[[\"year\", \"week\", \"day\"]] = df.datetime.dt.isocalendar()\n",
    "df.groupby([\"ticker\", \"year\", \"week\"]).agg({\"close\": [\"min\", \"max\"]})"
   ]
  },
  {
   "cell_type": "markdown",
   "metadata": {
    "id": "mQF_atfBSBTz"
   },
   "source": [
    "20-50x faster with the same code. Nice!\n",
    "\n",
    "Let's do the long-running groupby rolling operation."
   ]
  },
  {
   "cell_type": "code",
   "execution_count": 22,
   "metadata": {
    "colab": {
     "base_uri": "https://localhost:8080/",
     "height": 241
    },
    "id": "bbRTBWNYR8et",
    "outputId": "909e4fc8-25d4-496a-b45d-4577115ef766"
   },
   "outputs": [
    {
     "name": "stdout",
     "output_type": "stream",
     "text": [
      "CPU times: user 397 ms, sys: 109 ms, total: 506 ms\n",
      "Wall time: 486 ms\n"
     ]
    },
    {
     "data": {
      "text/html": [
       "<div>\n",
       "<style scoped>\n",
       "    .dataframe tbody tr th:only-of-type {\n",
       "        vertical-align: middle;\n",
       "    }\n",
       "\n",
       "    .dataframe tbody tr th {\n",
       "        vertical-align: top;\n",
       "    }\n",
       "\n",
       "    .dataframe thead th {\n",
       "        text-align: right;\n",
       "    }\n",
       "</style>\n",
       "<table border=\"1\" class=\"dataframe\">\n",
       "  <thead>\n",
       "    <tr style=\"text-align: right;\">\n",
       "      <th></th>\n",
       "      <th>ticker</th>\n",
       "      <th>datetime</th>\n",
       "      <th>open</th>\n",
       "      <th>high</th>\n",
       "      <th>low</th>\n",
       "      <th>close</th>\n",
       "      <th>volume</th>\n",
       "      <th>year</th>\n",
       "      <th>week</th>\n",
       "      <th>day</th>\n",
       "    </tr>\n",
       "  </thead>\n",
       "  <tbody>\n",
       "    <tr>\n",
       "      <th>0</th>\n",
       "      <td>A</td>\n",
       "      <td>1999-11-18 17:00:00</td>\n",
       "      <td>45.560</td>\n",
       "      <td>50.000000</td>\n",
       "      <td>45.500000</td>\n",
       "      <td>46.000000</td>\n",
       "      <td>9.275000e+06</td>\n",
       "      <td>1999.0</td>\n",
       "      <td>46.0</td>\n",
       "      <td>4.0</td>\n",
       "    </tr>\n",
       "    <tr>\n",
       "      <th>1</th>\n",
       "      <td>A</td>\n",
       "      <td>1999-11-18 17:30:00</td>\n",
       "      <td>45.780</td>\n",
       "      <td>48.845000</td>\n",
       "      <td>45.660000</td>\n",
       "      <td>46.285000</td>\n",
       "      <td>6.237950e+06</td>\n",
       "      <td>1999.0</td>\n",
       "      <td>46.0</td>\n",
       "      <td>4.0</td>\n",
       "    </tr>\n",
       "    <tr>\n",
       "      <th>2</th>\n",
       "      <td>A</td>\n",
       "      <td>1999-11-18 18:00:00</td>\n",
       "      <td>46.040</td>\n",
       "      <td>48.106667</td>\n",
       "      <td>44.106667</td>\n",
       "      <td>44.523333</td>\n",
       "      <td>5.435467e+06</td>\n",
       "      <td>1999.0</td>\n",
       "      <td>46.0</td>\n",
       "      <td>4.0</td>\n",
       "    </tr>\n",
       "    <tr>\n",
       "      <th>3</th>\n",
       "      <td>A</td>\n",
       "      <td>1999-11-18 18:30:00</td>\n",
       "      <td>44.780</td>\n",
       "      <td>46.925000</td>\n",
       "      <td>43.172500</td>\n",
       "      <td>43.987500</td>\n",
       "      <td>4.998750e+06</td>\n",
       "      <td>1999.0</td>\n",
       "      <td>46.0</td>\n",
       "      <td>4.0</td>\n",
       "    </tr>\n",
       "    <tr>\n",
       "      <th>4</th>\n",
       "      <td>A</td>\n",
       "      <td>1999-11-18 19:00:00</td>\n",
       "      <td>44.286</td>\n",
       "      <td>46.028000</td>\n",
       "      <td>42.850000</td>\n",
       "      <td>43.528000</td>\n",
       "      <td>4.315860e+06</td>\n",
       "      <td>1999.0</td>\n",
       "      <td>46.0</td>\n",
       "      <td>4.0</td>\n",
       "    </tr>\n",
       "  </tbody>\n",
       "</table>\n",
       "</div>"
      ],
      "text/plain": [
       "  ticker            datetime    open       high        low      close  \\\n",
       "0      A 1999-11-18 17:00:00  45.560  50.000000  45.500000  46.000000   \n",
       "1      A 1999-11-18 17:30:00  45.780  48.845000  45.660000  46.285000   \n",
       "2      A 1999-11-18 18:00:00  46.040  48.106667  44.106667  44.523333   \n",
       "3      A 1999-11-18 18:30:00  44.780  46.925000  43.172500  43.987500   \n",
       "4      A 1999-11-18 19:00:00  44.286  46.028000  42.850000  43.528000   \n",
       "\n",
       "         volume    year  week  day  \n",
       "0  9.275000e+06  1999.0  46.0  4.0  \n",
       "1  6.237950e+06  1999.0  46.0  4.0  \n",
       "2  5.435467e+06  1999.0  46.0  4.0  \n",
       "3  4.998750e+06  1999.0  46.0  4.0  \n",
       "4  4.315860e+06  1999.0  46.0  4.0  "
      ]
     },
     "execution_count": 22,
     "metadata": {},
     "output_type": "execute_result"
    }
   ],
   "source": [
    "%time result = df.set_index(\"datetime\").sort_index().groupby(\"ticker\").rolling(\"1D\").mean().reset_index()\n",
    "result.head()"
   ]
  },
  {
   "cell_type": "markdown",
   "metadata": {
    "id": "iDG9Iz0gSJB4"
   },
   "source": [
    "Nice! 25+ seconds down to about < 2 seconds.\n",
    "\n",
    "Let's finish off those SMAs.  While we do that, let's profile the activity so you can see where the CPU and GPU\n",
    "\n",
    "We've only used pandas so far, and things have worked smoothly.\n",
    "\n",
    "But workflows often use multiple libraries, many of which are designed to accept pandas inputs. Fortunately, cudf.pandas works here, too."
   ]
  },
  {
   "cell_type": "code",
   "execution_count": 23,
   "metadata": {
    "colab": {
     "base_uri": "https://localhost:8080/",
     "height": 241
    },
    "id": "3PxHzWi1DFFJ",
    "outputId": "540473bc-9b24-46c6-b4ac-35a0e1e37eeb"
   },
   "outputs": [
    {
     "name": "stdout",
     "output_type": "stream",
     "text": [
      "CPU times: user 127 ms, sys: 44.1 ms, total: 171 ms\n",
      "Wall time: 153 ms\n"
     ]
    },
    {
     "data": {
      "text/html": [
       "<div>\n",
       "<style scoped>\n",
       "    .dataframe tbody tr th:only-of-type {\n",
       "        vertical-align: middle;\n",
       "    }\n",
       "\n",
       "    .dataframe tbody tr th {\n",
       "        vertical-align: top;\n",
       "    }\n",
       "\n",
       "    .dataframe thead th {\n",
       "        text-align: right;\n",
       "    }\n",
       "</style>\n",
       "<table border=\"1\" class=\"dataframe\">\n",
       "  <thead>\n",
       "    <tr style=\"text-align: right;\">\n",
       "      <th></th>\n",
       "      <th>ticker</th>\n",
       "      <th>datetime</th>\n",
       "      <th>open</th>\n",
       "      <th>high</th>\n",
       "      <th>low</th>\n",
       "      <th>close</th>\n",
       "      <th>volume</th>\n",
       "      <th>year</th>\n",
       "      <th>week</th>\n",
       "      <th>day</th>\n",
       "    </tr>\n",
       "  </thead>\n",
       "  <tbody>\n",
       "    <tr>\n",
       "      <th>0</th>\n",
       "      <td>A</td>\n",
       "      <td>1999-11-18 17:00:00</td>\n",
       "      <td>45.560</td>\n",
       "      <td>50.000000</td>\n",
       "      <td>45.500000</td>\n",
       "      <td>46.000000</td>\n",
       "      <td>9.275000e+06</td>\n",
       "      <td>1999.0</td>\n",
       "      <td>46.0</td>\n",
       "      <td>4.0</td>\n",
       "    </tr>\n",
       "    <tr>\n",
       "      <th>1</th>\n",
       "      <td>A</td>\n",
       "      <td>1999-11-18 17:30:00</td>\n",
       "      <td>45.780</td>\n",
       "      <td>48.845000</td>\n",
       "      <td>45.660000</td>\n",
       "      <td>46.285000</td>\n",
       "      <td>6.237950e+06</td>\n",
       "      <td>1999.0</td>\n",
       "      <td>46.0</td>\n",
       "      <td>4.0</td>\n",
       "    </tr>\n",
       "    <tr>\n",
       "      <th>2</th>\n",
       "      <td>A</td>\n",
       "      <td>1999-11-18 18:00:00</td>\n",
       "      <td>46.040</td>\n",
       "      <td>48.106667</td>\n",
       "      <td>44.106667</td>\n",
       "      <td>44.523333</td>\n",
       "      <td>5.435467e+06</td>\n",
       "      <td>1999.0</td>\n",
       "      <td>46.0</td>\n",
       "      <td>4.0</td>\n",
       "    </tr>\n",
       "    <tr>\n",
       "      <th>3</th>\n",
       "      <td>A</td>\n",
       "      <td>1999-11-18 18:30:00</td>\n",
       "      <td>44.780</td>\n",
       "      <td>46.925000</td>\n",
       "      <td>43.172500</td>\n",
       "      <td>43.987500</td>\n",
       "      <td>4.998750e+06</td>\n",
       "      <td>1999.0</td>\n",
       "      <td>46.0</td>\n",
       "      <td>4.0</td>\n",
       "    </tr>\n",
       "    <tr>\n",
       "      <th>4</th>\n",
       "      <td>A</td>\n",
       "      <td>1999-11-18 19:00:00</td>\n",
       "      <td>44.286</td>\n",
       "      <td>46.028000</td>\n",
       "      <td>42.850000</td>\n",
       "      <td>43.528000</td>\n",
       "      <td>4.315860e+06</td>\n",
       "      <td>1999.0</td>\n",
       "      <td>46.0</td>\n",
       "      <td>4.0</td>\n",
       "    </tr>\n",
       "  </tbody>\n",
       "</table>\n",
       "</div>"
      ],
      "text/plain": [
       "  ticker            datetime    open       high        low      close  \\\n",
       "0      A 1999-11-18 17:00:00  45.560  50.000000  45.500000  46.000000   \n",
       "1      A 1999-11-18 17:30:00  45.780  48.845000  45.660000  46.285000   \n",
       "2      A 1999-11-18 18:00:00  46.040  48.106667  44.106667  44.523333   \n",
       "3      A 1999-11-18 18:30:00  44.780  46.925000  43.172500  43.987500   \n",
       "4      A 1999-11-18 19:00:00  44.286  46.028000  42.850000  43.528000   \n",
       "\n",
       "         volume    year  week  day  \n",
       "0  9.275000e+06  1999.0  46.0  4.0  \n",
       "1  6.237950e+06  1999.0  46.0  4.0  \n",
       "2  5.435467e+06  1999.0  46.0  4.0  \n",
       "3  4.998750e+06  1999.0  46.0  4.0  \n",
       "4  4.315860e+06  1999.0  46.0  4.0  "
      ]
     },
     "execution_count": 23,
     "metadata": {},
     "output_type": "execute_result"
    }
   ],
   "source": [
    "%time fiftyDay = df.set_index(\"datetime\").sort_index().groupby(\"ticker\").rolling(\"50D\").mean().reset_index()\n",
    "fiftyDay.head()"
   ]
  },
  {
   "cell_type": "code",
   "execution_count": 24,
   "metadata": {
    "colab": {
     "base_uri": "https://localhost:8080/",
     "height": 241
    },
    "id": "it2UxeC_Pko0",
    "outputId": "6a505b35-ac20-4fc2-d464-887a71149b4a"
   },
   "outputs": [
    {
     "name": "stdout",
     "output_type": "stream",
     "text": [
      "CPU times: user 252 ms, sys: 42.8 ms, total: 295 ms\n",
      "Wall time: 276 ms\n"
     ]
    },
    {
     "data": {
      "text/html": [
       "<div>\n",
       "<style scoped>\n",
       "    .dataframe tbody tr th:only-of-type {\n",
       "        vertical-align: middle;\n",
       "    }\n",
       "\n",
       "    .dataframe tbody tr th {\n",
       "        vertical-align: top;\n",
       "    }\n",
       "\n",
       "    .dataframe thead th {\n",
       "        text-align: right;\n",
       "    }\n",
       "</style>\n",
       "<table border=\"1\" class=\"dataframe\">\n",
       "  <thead>\n",
       "    <tr style=\"text-align: right;\">\n",
       "      <th></th>\n",
       "      <th>ticker</th>\n",
       "      <th>datetime</th>\n",
       "      <th>open</th>\n",
       "      <th>high</th>\n",
       "      <th>low</th>\n",
       "      <th>close</th>\n",
       "      <th>volume</th>\n",
       "      <th>year</th>\n",
       "      <th>week</th>\n",
       "      <th>day</th>\n",
       "    </tr>\n",
       "  </thead>\n",
       "  <tbody>\n",
       "    <tr>\n",
       "      <th>0</th>\n",
       "      <td>A</td>\n",
       "      <td>1999-11-18 17:00:00</td>\n",
       "      <td>45.560</td>\n",
       "      <td>50.000000</td>\n",
       "      <td>45.500000</td>\n",
       "      <td>46.000000</td>\n",
       "      <td>9.275000e+06</td>\n",
       "      <td>1999.0</td>\n",
       "      <td>46.0</td>\n",
       "      <td>4.0</td>\n",
       "    </tr>\n",
       "    <tr>\n",
       "      <th>1</th>\n",
       "      <td>A</td>\n",
       "      <td>1999-11-18 17:30:00</td>\n",
       "      <td>45.780</td>\n",
       "      <td>48.845000</td>\n",
       "      <td>45.660000</td>\n",
       "      <td>46.285000</td>\n",
       "      <td>6.237950e+06</td>\n",
       "      <td>1999.0</td>\n",
       "      <td>46.0</td>\n",
       "      <td>4.0</td>\n",
       "    </tr>\n",
       "    <tr>\n",
       "      <th>2</th>\n",
       "      <td>A</td>\n",
       "      <td>1999-11-18 18:00:00</td>\n",
       "      <td>46.040</td>\n",
       "      <td>48.106667</td>\n",
       "      <td>44.106667</td>\n",
       "      <td>44.523333</td>\n",
       "      <td>5.435467e+06</td>\n",
       "      <td>1999.0</td>\n",
       "      <td>46.0</td>\n",
       "      <td>4.0</td>\n",
       "    </tr>\n",
       "    <tr>\n",
       "      <th>3</th>\n",
       "      <td>A</td>\n",
       "      <td>1999-11-18 18:30:00</td>\n",
       "      <td>44.780</td>\n",
       "      <td>46.925000</td>\n",
       "      <td>43.172500</td>\n",
       "      <td>43.987500</td>\n",
       "      <td>4.998750e+06</td>\n",
       "      <td>1999.0</td>\n",
       "      <td>46.0</td>\n",
       "      <td>4.0</td>\n",
       "    </tr>\n",
       "    <tr>\n",
       "      <th>4</th>\n",
       "      <td>A</td>\n",
       "      <td>1999-11-18 19:00:00</td>\n",
       "      <td>44.286</td>\n",
       "      <td>46.028000</td>\n",
       "      <td>42.850000</td>\n",
       "      <td>43.528000</td>\n",
       "      <td>4.315860e+06</td>\n",
       "      <td>1999.0</td>\n",
       "      <td>46.0</td>\n",
       "      <td>4.0</td>\n",
       "    </tr>\n",
       "  </tbody>\n",
       "</table>\n",
       "</div>"
      ],
      "text/plain": [
       "  ticker            datetime    open       high        low      close  \\\n",
       "0      A 1999-11-18 17:00:00  45.560  50.000000  45.500000  46.000000   \n",
       "1      A 1999-11-18 17:30:00  45.780  48.845000  45.660000  46.285000   \n",
       "2      A 1999-11-18 18:00:00  46.040  48.106667  44.106667  44.523333   \n",
       "3      A 1999-11-18 18:30:00  44.780  46.925000  43.172500  43.987500   \n",
       "4      A 1999-11-18 19:00:00  44.286  46.028000  42.850000  43.528000   \n",
       "\n",
       "         volume    year  week  day  \n",
       "0  9.275000e+06  1999.0  46.0  4.0  \n",
       "1  6.237950e+06  1999.0  46.0  4.0  \n",
       "2  5.435467e+06  1999.0  46.0  4.0  \n",
       "3  4.998750e+06  1999.0  46.0  4.0  \n",
       "4  4.315860e+06  1999.0  46.0  4.0  "
      ]
     },
     "execution_count": 24,
     "metadata": {},
     "output_type": "execute_result"
    }
   ],
   "source": [
    "%time twoHunDay = df.set_index(\"datetime\").sort_index().groupby(\"ticker\").rolling(\"200D\").mean().reset_index()\n",
    "twoHunDay.head()"
   ]
  },
  {
   "cell_type": "markdown",
   "metadata": {
    "id": "ZpUGGkXMg8WJ"
   },
   "source": [
    "Awesome, `cudf.pandas` got the same workflow done in about 10 seconds!\n",
    "\n",
    "It is also important to understand that this speed difference increases as you add all the cells and increase complexity.  To do all a 200 Day SMA on all 36M cells will take **<12 seconds** on a the T4 using `cuDF.pandas` and well over a minute on CPU."
   ]
  },
  {
   "cell_type": "markdown",
   "metadata": {
    "id": "RHWsDYuSaAmX"
   },
   "source": [
    "## Using third-party libraries with cudf.pandas\n",
    "\n",
    "\n",
    "When using cudf.pandas, you can pass pandas objects to third-party libraries just like you would when using regular Pandas.\n",
    "\n",
    "For example, we can pass this dataset to the visualization library plotnine and plot the yearly average closing price of the ticker `GOOG`.  Let's join the results of our groupbys above, form the data so that `plotnine` can ingest it, and chart this data out!"
   ]
  },
  {
   "cell_type": "code",
   "execution_count": 25,
   "metadata": {
    "id": "-0GIHLKSWqEf"
   },
   "outputs": [],
   "source": [
    "result = result.join(fiftyDay, rsuffix='_50')\n",
    "result = result.join(twoHunDay, rsuffix='_200')"
   ]
  },
  {
   "cell_type": "code",
   "execution_count": 26,
   "metadata": {
    "colab": {
     "base_uri": "https://localhost:8080/",
     "height": 429
    },
    "id": "GkUJTsI8XQzO",
    "outputId": "65f9751a-e25f-4938-b3d2-0976e150039a"
   },
   "outputs": [
    {
     "data": {
      "text/html": [
       "<div>\n",
       "<style scoped>\n",
       "    .dataframe tbody tr th:only-of-type {\n",
       "        vertical-align: middle;\n",
       "    }\n",
       "\n",
       "    .dataframe tbody tr th {\n",
       "        vertical-align: top;\n",
       "    }\n",
       "\n",
       "    .dataframe thead th {\n",
       "        text-align: right;\n",
       "    }\n",
       "</style>\n",
       "<table border=\"1\" class=\"dataframe\">\n",
       "  <thead>\n",
       "    <tr style=\"text-align: right;\">\n",
       "      <th></th>\n",
       "      <th>ticker</th>\n",
       "      <th>datetime</th>\n",
       "      <th>open</th>\n",
       "      <th>high</th>\n",
       "      <th>low</th>\n",
       "      <th>close</th>\n",
       "      <th>volume</th>\n",
       "      <th>year</th>\n",
       "      <th>week</th>\n",
       "      <th>day</th>\n",
       "      <th>...</th>\n",
       "      <th>ticker_200</th>\n",
       "      <th>datetime_200</th>\n",
       "      <th>open_200</th>\n",
       "      <th>high_200</th>\n",
       "      <th>low_200</th>\n",
       "      <th>close_200</th>\n",
       "      <th>volume_200</th>\n",
       "      <th>year_200</th>\n",
       "      <th>week_200</th>\n",
       "      <th>day_200</th>\n",
       "    </tr>\n",
       "  </thead>\n",
       "  <tbody>\n",
       "    <tr>\n",
       "      <th>0</th>\n",
       "      <td>A</td>\n",
       "      <td>1999-11-18 17:00:00</td>\n",
       "      <td>45.560</td>\n",
       "      <td>50.000000</td>\n",
       "      <td>45.500000</td>\n",
       "      <td>46.000000</td>\n",
       "      <td>9.275000e+06</td>\n",
       "      <td>1999.0</td>\n",
       "      <td>46.0</td>\n",
       "      <td>4.0</td>\n",
       "      <td>...</td>\n",
       "      <td>A</td>\n",
       "      <td>1999-11-18 17:00:00</td>\n",
       "      <td>45.560</td>\n",
       "      <td>50.000000</td>\n",
       "      <td>45.500000</td>\n",
       "      <td>46.000000</td>\n",
       "      <td>9.275000e+06</td>\n",
       "      <td>1999.0</td>\n",
       "      <td>46.0</td>\n",
       "      <td>4.0</td>\n",
       "    </tr>\n",
       "    <tr>\n",
       "      <th>1</th>\n",
       "      <td>A</td>\n",
       "      <td>1999-11-18 17:30:00</td>\n",
       "      <td>45.780</td>\n",
       "      <td>48.845000</td>\n",
       "      <td>45.660000</td>\n",
       "      <td>46.285000</td>\n",
       "      <td>6.237950e+06</td>\n",
       "      <td>1999.0</td>\n",
       "      <td>46.0</td>\n",
       "      <td>4.0</td>\n",
       "      <td>...</td>\n",
       "      <td>A</td>\n",
       "      <td>1999-11-18 17:30:00</td>\n",
       "      <td>45.780</td>\n",
       "      <td>48.845000</td>\n",
       "      <td>45.660000</td>\n",
       "      <td>46.285000</td>\n",
       "      <td>6.237950e+06</td>\n",
       "      <td>1999.0</td>\n",
       "      <td>46.0</td>\n",
       "      <td>4.0</td>\n",
       "    </tr>\n",
       "    <tr>\n",
       "      <th>2</th>\n",
       "      <td>A</td>\n",
       "      <td>1999-11-18 18:00:00</td>\n",
       "      <td>46.040</td>\n",
       "      <td>48.106667</td>\n",
       "      <td>44.106667</td>\n",
       "      <td>44.523333</td>\n",
       "      <td>5.435467e+06</td>\n",
       "      <td>1999.0</td>\n",
       "      <td>46.0</td>\n",
       "      <td>4.0</td>\n",
       "      <td>...</td>\n",
       "      <td>A</td>\n",
       "      <td>1999-11-18 18:00:00</td>\n",
       "      <td>46.040</td>\n",
       "      <td>48.106667</td>\n",
       "      <td>44.106667</td>\n",
       "      <td>44.523333</td>\n",
       "      <td>5.435467e+06</td>\n",
       "      <td>1999.0</td>\n",
       "      <td>46.0</td>\n",
       "      <td>4.0</td>\n",
       "    </tr>\n",
       "    <tr>\n",
       "      <th>3</th>\n",
       "      <td>A</td>\n",
       "      <td>1999-11-18 18:30:00</td>\n",
       "      <td>44.780</td>\n",
       "      <td>46.925000</td>\n",
       "      <td>43.172500</td>\n",
       "      <td>43.987500</td>\n",
       "      <td>4.998750e+06</td>\n",
       "      <td>1999.0</td>\n",
       "      <td>46.0</td>\n",
       "      <td>4.0</td>\n",
       "      <td>...</td>\n",
       "      <td>A</td>\n",
       "      <td>1999-11-18 18:30:00</td>\n",
       "      <td>44.780</td>\n",
       "      <td>46.925000</td>\n",
       "      <td>43.172500</td>\n",
       "      <td>43.987500</td>\n",
       "      <td>4.998750e+06</td>\n",
       "      <td>1999.0</td>\n",
       "      <td>46.0</td>\n",
       "      <td>4.0</td>\n",
       "    </tr>\n",
       "    <tr>\n",
       "      <th>4</th>\n",
       "      <td>A</td>\n",
       "      <td>1999-11-18 19:00:00</td>\n",
       "      <td>44.286</td>\n",
       "      <td>46.028000</td>\n",
       "      <td>42.850000</td>\n",
       "      <td>43.528000</td>\n",
       "      <td>4.315860e+06</td>\n",
       "      <td>1999.0</td>\n",
       "      <td>46.0</td>\n",
       "      <td>4.0</td>\n",
       "      <td>...</td>\n",
       "      <td>A</td>\n",
       "      <td>1999-11-18 19:00:00</td>\n",
       "      <td>44.286</td>\n",
       "      <td>46.028000</td>\n",
       "      <td>42.850000</td>\n",
       "      <td>43.528000</td>\n",
       "      <td>4.315860e+06</td>\n",
       "      <td>1999.0</td>\n",
       "      <td>46.0</td>\n",
       "      <td>4.0</td>\n",
       "    </tr>\n",
       "  </tbody>\n",
       "</table>\n",
       "<p>5 rows × 30 columns</p>\n",
       "</div>"
      ],
      "text/plain": [
       "  ticker            datetime    open       high        low      close  \\\n",
       "0      A 1999-11-18 17:00:00  45.560  50.000000  45.500000  46.000000   \n",
       "1      A 1999-11-18 17:30:00  45.780  48.845000  45.660000  46.285000   \n",
       "2      A 1999-11-18 18:00:00  46.040  48.106667  44.106667  44.523333   \n",
       "3      A 1999-11-18 18:30:00  44.780  46.925000  43.172500  43.987500   \n",
       "4      A 1999-11-18 19:00:00  44.286  46.028000  42.850000  43.528000   \n",
       "\n",
       "         volume    year  week  day  ... ticker_200        datetime_200  \\\n",
       "0  9.275000e+06  1999.0  46.0  4.0  ...          A 1999-11-18 17:00:00   \n",
       "1  6.237950e+06  1999.0  46.0  4.0  ...          A 1999-11-18 17:30:00   \n",
       "2  5.435467e+06  1999.0  46.0  4.0  ...          A 1999-11-18 18:00:00   \n",
       "3  4.998750e+06  1999.0  46.0  4.0  ...          A 1999-11-18 18:30:00   \n",
       "4  4.315860e+06  1999.0  46.0  4.0  ...          A 1999-11-18 19:00:00   \n",
       "\n",
       "  open_200   high_200    low_200  close_200    volume_200  year_200  week_200  \\\n",
       "0   45.560  50.000000  45.500000  46.000000  9.275000e+06    1999.0      46.0   \n",
       "1   45.780  48.845000  45.660000  46.285000  6.237950e+06    1999.0      46.0   \n",
       "2   46.040  48.106667  44.106667  44.523333  5.435467e+06    1999.0      46.0   \n",
       "3   44.780  46.925000  43.172500  43.987500  4.998750e+06    1999.0      46.0   \n",
       "4   44.286  46.028000  42.850000  43.528000  4.315860e+06    1999.0      46.0   \n",
       "\n",
       "   day_200  \n",
       "0      4.0  \n",
       "1      4.0  \n",
       "2      4.0  \n",
       "3      4.0  \n",
       "4      4.0  \n",
       "\n",
       "[5 rows x 30 columns]"
      ]
     },
     "execution_count": 26,
     "metadata": {},
     "output_type": "execute_result"
    }
   ],
   "source": [
    "result.head()"
   ]
  },
  {
   "cell_type": "code",
   "execution_count": 27,
   "metadata": {
    "colab": {
     "base_uri": "https://localhost:8080/",
     "height": 429
    },
    "id": "vA_i-TY5Yqy3",
    "outputId": "f0ee9ebc-feb1-479c-e5af-b96469584b95"
   },
   "outputs": [
    {
     "data": {
      "text/html": [
       "<div>\n",
       "<style scoped>\n",
       "    .dataframe tbody tr th:only-of-type {\n",
       "        vertical-align: middle;\n",
       "    }\n",
       "\n",
       "    .dataframe tbody tr th {\n",
       "        vertical-align: top;\n",
       "    }\n",
       "\n",
       "    .dataframe thead th {\n",
       "        text-align: right;\n",
       "    }\n",
       "</style>\n",
       "<table border=\"1\" class=\"dataframe\">\n",
       "  <thead>\n",
       "    <tr style=\"text-align: right;\">\n",
       "      <th></th>\n",
       "      <th>ticker</th>\n",
       "      <th>datetime</th>\n",
       "      <th>open</th>\n",
       "      <th>high</th>\n",
       "      <th>low</th>\n",
       "      <th>close</th>\n",
       "      <th>volume</th>\n",
       "      <th>year</th>\n",
       "      <th>week</th>\n",
       "      <th>day</th>\n",
       "      <th>...</th>\n",
       "      <th>ticker_200</th>\n",
       "      <th>datetime_200</th>\n",
       "      <th>open_200</th>\n",
       "      <th>high_200</th>\n",
       "      <th>low_200</th>\n",
       "      <th>close_200</th>\n",
       "      <th>volume_200</th>\n",
       "      <th>year_200</th>\n",
       "      <th>week_200</th>\n",
       "      <th>day_200</th>\n",
       "    </tr>\n",
       "  </thead>\n",
       "  <tbody>\n",
       "    <tr>\n",
       "      <th>14484061</th>\n",
       "      <td>GOOG</td>\n",
       "      <td>2014-03-27 16:30:00</td>\n",
       "      <td>28.300000</td>\n",
       "      <td>28.300000</td>\n",
       "      <td>27.650000</td>\n",
       "      <td>27.990</td>\n",
       "      <td>10000.000000</td>\n",
       "      <td>2014.0</td>\n",
       "      <td>13.0</td>\n",
       "      <td>4.0</td>\n",
       "      <td>...</td>\n",
       "      <td>GOOG</td>\n",
       "      <td>2014-03-27 16:30:00</td>\n",
       "      <td>28.300000</td>\n",
       "      <td>28.300000</td>\n",
       "      <td>27.650000</td>\n",
       "      <td>27.990</td>\n",
       "      <td>10000.000000</td>\n",
       "      <td>2014.0</td>\n",
       "      <td>13.0</td>\n",
       "      <td>4.0</td>\n",
       "    </tr>\n",
       "    <tr>\n",
       "      <th>14484062</th>\n",
       "      <td>GOOG</td>\n",
       "      <td>2014-03-27 17:00:00</td>\n",
       "      <td>28.185000</td>\n",
       "      <td>28.230000</td>\n",
       "      <td>27.855000</td>\n",
       "      <td>28.075</td>\n",
       "      <td>16000.000000</td>\n",
       "      <td>2014.0</td>\n",
       "      <td>13.0</td>\n",
       "      <td>4.0</td>\n",
       "      <td>...</td>\n",
       "      <td>GOOG</td>\n",
       "      <td>2014-03-27 17:00:00</td>\n",
       "      <td>28.185000</td>\n",
       "      <td>28.230000</td>\n",
       "      <td>27.855000</td>\n",
       "      <td>28.075</td>\n",
       "      <td>16000.000000</td>\n",
       "      <td>2014.0</td>\n",
       "      <td>13.0</td>\n",
       "      <td>4.0</td>\n",
       "    </tr>\n",
       "    <tr>\n",
       "      <th>14484063</th>\n",
       "      <td>GOOG</td>\n",
       "      <td>2014-03-27 17:30:00</td>\n",
       "      <td>28.143333</td>\n",
       "      <td>28.173333</td>\n",
       "      <td>27.923333</td>\n",
       "      <td>28.070</td>\n",
       "      <td>11333.333333</td>\n",
       "      <td>2014.0</td>\n",
       "      <td>13.0</td>\n",
       "      <td>4.0</td>\n",
       "      <td>...</td>\n",
       "      <td>GOOG</td>\n",
       "      <td>2014-03-27 17:30:00</td>\n",
       "      <td>28.143333</td>\n",
       "      <td>28.173333</td>\n",
       "      <td>27.923333</td>\n",
       "      <td>28.070</td>\n",
       "      <td>11333.333333</td>\n",
       "      <td>2014.0</td>\n",
       "      <td>13.0</td>\n",
       "      <td>4.0</td>\n",
       "    </tr>\n",
       "    <tr>\n",
       "      <th>14484064</th>\n",
       "      <td>GOOG</td>\n",
       "      <td>2014-03-27 18:00:00</td>\n",
       "      <td>28.130000</td>\n",
       "      <td>28.152500</td>\n",
       "      <td>27.940000</td>\n",
       "      <td>28.050</td>\n",
       "      <td>9500.000000</td>\n",
       "      <td>2014.0</td>\n",
       "      <td>13.0</td>\n",
       "      <td>4.0</td>\n",
       "      <td>...</td>\n",
       "      <td>GOOG</td>\n",
       "      <td>2014-03-27 18:00:00</td>\n",
       "      <td>28.130000</td>\n",
       "      <td>28.152500</td>\n",
       "      <td>27.940000</td>\n",
       "      <td>28.050</td>\n",
       "      <td>9500.000000</td>\n",
       "      <td>2014.0</td>\n",
       "      <td>13.0</td>\n",
       "      <td>4.0</td>\n",
       "    </tr>\n",
       "    <tr>\n",
       "      <th>14484065</th>\n",
       "      <td>GOOG</td>\n",
       "      <td>2014-03-27 18:30:00</td>\n",
       "      <td>28.066000</td>\n",
       "      <td>28.084000</td>\n",
       "      <td>27.880000</td>\n",
       "      <td>27.968</td>\n",
       "      <td>14000.000000</td>\n",
       "      <td>2014.0</td>\n",
       "      <td>13.0</td>\n",
       "      <td>4.0</td>\n",
       "      <td>...</td>\n",
       "      <td>GOOG</td>\n",
       "      <td>2014-03-27 18:30:00</td>\n",
       "      <td>28.066000</td>\n",
       "      <td>28.084000</td>\n",
       "      <td>27.880000</td>\n",
       "      <td>27.968</td>\n",
       "      <td>14000.000000</td>\n",
       "      <td>2014.0</td>\n",
       "      <td>13.0</td>\n",
       "      <td>4.0</td>\n",
       "    </tr>\n",
       "  </tbody>\n",
       "</table>\n",
       "<p>5 rows × 30 columns</p>\n",
       "</div>"
      ],
      "text/plain": [
       "         ticker            datetime       open       high        low   close  \\\n",
       "14484061   GOOG 2014-03-27 16:30:00  28.300000  28.300000  27.650000  27.990   \n",
       "14484062   GOOG 2014-03-27 17:00:00  28.185000  28.230000  27.855000  28.075   \n",
       "14484063   GOOG 2014-03-27 17:30:00  28.143333  28.173333  27.923333  28.070   \n",
       "14484064   GOOG 2014-03-27 18:00:00  28.130000  28.152500  27.940000  28.050   \n",
       "14484065   GOOG 2014-03-27 18:30:00  28.066000  28.084000  27.880000  27.968   \n",
       "\n",
       "                volume    year  week  day  ... ticker_200        datetime_200  \\\n",
       "14484061  10000.000000  2014.0  13.0  4.0  ...       GOOG 2014-03-27 16:30:00   \n",
       "14484062  16000.000000  2014.0  13.0  4.0  ...       GOOG 2014-03-27 17:00:00   \n",
       "14484063  11333.333333  2014.0  13.0  4.0  ...       GOOG 2014-03-27 17:30:00   \n",
       "14484064   9500.000000  2014.0  13.0  4.0  ...       GOOG 2014-03-27 18:00:00   \n",
       "14484065  14000.000000  2014.0  13.0  4.0  ...       GOOG 2014-03-27 18:30:00   \n",
       "\n",
       "           open_200   high_200    low_200  close_200    volume_200  year_200  \\\n",
       "14484061  28.300000  28.300000  27.650000     27.990  10000.000000    2014.0   \n",
       "14484062  28.185000  28.230000  27.855000     28.075  16000.000000    2014.0   \n",
       "14484063  28.143333  28.173333  27.923333     28.070  11333.333333    2014.0   \n",
       "14484064  28.130000  28.152500  27.940000     28.050   9500.000000    2014.0   \n",
       "14484065  28.066000  28.084000  27.880000     27.968  14000.000000    2014.0   \n",
       "\n",
       "          week_200  day_200  \n",
       "14484061      13.0      4.0  \n",
       "14484062      13.0      4.0  \n",
       "14484063      13.0      4.0  \n",
       "14484064      13.0      4.0  \n",
       "14484065      13.0      4.0  \n",
       "\n",
       "[5 rows x 30 columns]"
      ]
     },
     "execution_count": 27,
     "metadata": {},
     "output_type": "execute_result"
    }
   ],
   "source": [
    "goog_closing_value = result.loc[result.ticker == \"GOOG\"]\n",
    "goog_closing_value.head()"
   ]
  },
  {
   "cell_type": "code",
   "execution_count": 28,
   "metadata": {
    "colab": {
     "base_uri": "https://localhost:8080/",
     "height": 206
    },
    "id": "ecmO09tFZOiE",
    "outputId": "17df5cc5-b930-4e28-d97f-579d7fe13b4e"
   },
   "outputs": [
    {
     "data": {
      "text/html": [
       "<div>\n",
       "<style scoped>\n",
       "    .dataframe tbody tr th:only-of-type {\n",
       "        vertical-align: middle;\n",
       "    }\n",
       "\n",
       "    .dataframe tbody tr th {\n",
       "        vertical-align: top;\n",
       "    }\n",
       "\n",
       "    .dataframe thead th {\n",
       "        text-align: right;\n",
       "    }\n",
       "</style>\n",
       "<table border=\"1\" class=\"dataframe\">\n",
       "  <thead>\n",
       "    <tr style=\"text-align: right;\">\n",
       "      <th></th>\n",
       "      <th>datetime</th>\n",
       "      <th>SMA</th>\n",
       "      <th>price</th>\n",
       "    </tr>\n",
       "  </thead>\n",
       "  <tbody>\n",
       "    <tr>\n",
       "      <th>0</th>\n",
       "      <td>2014-03-27 16:30:00</td>\n",
       "      <td>close</td>\n",
       "      <td>27.990</td>\n",
       "    </tr>\n",
       "    <tr>\n",
       "      <th>1</th>\n",
       "      <td>2014-03-27 17:00:00</td>\n",
       "      <td>close</td>\n",
       "      <td>28.075</td>\n",
       "    </tr>\n",
       "    <tr>\n",
       "      <th>2</th>\n",
       "      <td>2014-03-27 17:30:00</td>\n",
       "      <td>close</td>\n",
       "      <td>28.070</td>\n",
       "    </tr>\n",
       "    <tr>\n",
       "      <th>3</th>\n",
       "      <td>2014-03-27 18:00:00</td>\n",
       "      <td>close</td>\n",
       "      <td>28.050</td>\n",
       "    </tr>\n",
       "    <tr>\n",
       "      <th>4</th>\n",
       "      <td>2014-03-27 18:30:00</td>\n",
       "      <td>close</td>\n",
       "      <td>27.968</td>\n",
       "    </tr>\n",
       "  </tbody>\n",
       "</table>\n",
       "</div>"
      ],
      "text/plain": [
       "             datetime    SMA   price\n",
       "0 2014-03-27 16:30:00  close  27.990\n",
       "1 2014-03-27 17:00:00  close  28.075\n",
       "2 2014-03-27 17:30:00  close  28.070\n",
       "3 2014-03-27 18:00:00  close  28.050\n",
       "4 2014-03-27 18:30:00  close  27.968"
      ]
     },
     "execution_count": 28,
     "metadata": {},
     "output_type": "execute_result"
    }
   ],
   "source": [
    "goog_closing_value_p9 = goog_closing_value.melt(\n",
    "    id_vars=\"datetime\",\n",
    "    value_vars=[\"close\", \"close_50\", \"close_200\"],\n",
    "    var_name=\"SMA\",\n",
    "    value_name=\"price\"\n",
    ").dropna()\n",
    "\n",
    "goog_closing_value_p9.head()"
   ]
  },
  {
   "cell_type": "markdown",
   "metadata": {
    "id": "YXxlTG4HbBTD"
   },
   "source": [
    "Now let's bring in `plotnine` and visually analyze the stock and it's performance versus the 50 and 200 day moving averages!"
   ]
  },
  {
   "cell_type": "code",
   "execution_count": 30,
   "metadata": {
    "id": "iDuSN_KmakTn"
   },
   "outputs": [
    {
     "name": "stdout",
     "output_type": "stream",
     "text": [
      "Collecting plotnine\n",
      "  Downloading plotnine-0.14.5-py3-none-any.whl.metadata (9.3 kB)\n",
      "Requirement already satisfied: matplotlib>=3.8.0 in /opt/conda/lib/python3.12/site-packages (from plotnine) (3.10.1)\n",
      "Requirement already satisfied: pandas>=2.2.0 in /opt/conda/lib/python3.12/site-packages (from plotnine) (2.2.3)\n",
      "Collecting mizani~=0.13.0 (from plotnine)\n",
      "  Downloading mizani-0.13.5-py3-none-any.whl.metadata (4.8 kB)\n",
      "Requirement already satisfied: numpy>=1.23.5 in /opt/conda/lib/python3.12/site-packages (from plotnine) (2.0.2)\n",
      "Requirement already satisfied: scipy>=1.8.0 in /opt/conda/lib/python3.12/site-packages (from plotnine) (1.15.2)\n",
      "Requirement already satisfied: statsmodels>=0.14.0 in /opt/conda/lib/python3.12/site-packages (from plotnine) (0.14.4)\n",
      "Requirement already satisfied: contourpy>=1.0.1 in /opt/conda/lib/python3.12/site-packages (from matplotlib>=3.8.0->plotnine) (1.3.1)\n",
      "Requirement already satisfied: cycler>=0.10 in /opt/conda/lib/python3.12/site-packages (from matplotlib>=3.8.0->plotnine) (0.12.1)\n",
      "Requirement already satisfied: fonttools>=4.22.0 in /opt/conda/lib/python3.12/site-packages (from matplotlib>=3.8.0->plotnine) (4.57.0)\n",
      "Requirement already satisfied: kiwisolver>=1.3.1 in /opt/conda/lib/python3.12/site-packages (from matplotlib>=3.8.0->plotnine) (1.4.8)\n",
      "Requirement already satisfied: packaging>=20.0 in /opt/conda/lib/python3.12/site-packages (from matplotlib>=3.8.0->plotnine) (24.2)\n",
      "Requirement already satisfied: pillow>=8 in /opt/conda/lib/python3.12/site-packages (from matplotlib>=3.8.0->plotnine) (11.1.0)\n",
      "Requirement already satisfied: pyparsing>=2.3.1 in /opt/conda/lib/python3.12/site-packages (from matplotlib>=3.8.0->plotnine) (3.2.3)\n",
      "Requirement already satisfied: python-dateutil>=2.7 in /opt/conda/lib/python3.12/site-packages (from matplotlib>=3.8.0->plotnine) (2.9.0.post0)\n",
      "Requirement already satisfied: pytz>=2020.1 in /opt/conda/lib/python3.12/site-packages (from pandas>=2.2.0->plotnine) (2024.1)\n",
      "Requirement already satisfied: tzdata>=2022.7 in /opt/conda/lib/python3.12/site-packages (from pandas>=2.2.0->plotnine) (2025.2)\n",
      "Requirement already satisfied: patsy>=0.5.6 in /opt/conda/lib/python3.12/site-packages (from statsmodels>=0.14.0->plotnine) (1.0.1)\n",
      "Requirement already satisfied: six>=1.5 in /opt/conda/lib/python3.12/site-packages (from python-dateutil>=2.7->matplotlib>=3.8.0->plotnine) (1.17.0)\n",
      "Downloading plotnine-0.14.5-py3-none-any.whl (1.3 MB)\n",
      "\u001b[2K   \u001b[90m━━━━━━━━━━━━━━━━━━━━━━━━━━━━━━━━━━━━━━━━\u001b[0m \u001b[32m1.3/1.3 MB\u001b[0m \u001b[31m61.1 MB/s\u001b[0m eta \u001b[36m0:00:00\u001b[0m\n",
      "\u001b[?25hDownloading mizani-0.13.5-py3-none-any.whl (127 kB)\n",
      "Installing collected packages: mizani, plotnine\n",
      "Successfully installed mizani-0.13.5 plotnine-0.14.5\n",
      "\u001b[33mWARNING: Running pip as the 'root' user can result in broken permissions and conflicting behaviour with the system package manager, possibly rendering your system unusable. It is recommended to use a virtual environment instead: https://pip.pypa.io/warnings/venv. Use the --root-user-action option if you know what you are doing and want to suppress this warning.\u001b[0m\u001b[33m\n",
      "\u001b[0m"
     ]
    }
   ],
   "source": [
    "try:\n",
    "    from plotnine import *\n",
    "except:\n",
    "    !pip install plotnine\n",
    "    from plotnine import *"
   ]
  },
  {
   "cell_type": "code",
   "execution_count": 31,
   "metadata": {
    "colab": {
     "base_uri": "https://localhost:8080/",
     "height": 588
    },
    "id": "EtUNRJsDYmF-",
    "outputId": "4ed1ef9d-ecd9-44af-b0fa-b511602c2057"
   },
   "outputs": [
    {
     "name": "stderr",
     "output_type": "stream",
     "text": [
      "/opt/conda/lib/python3.12/site-packages/mizani/breaks.py:448: FutureWarning: Passing the width as the parameter has been deprecated and will not work in a future version. Use breaks_date(width=\"4 years\")\n",
      "/opt/conda/lib/python3.12/site-packages/cudf/core/indexed_frame.py:3632: UserWarning: GPU-accelerated mergesort is currently not supported, defaulting to quicksort.\n",
      "/opt/conda/lib/python3.12/site-packages/cudf/core/indexed_frame.py:3632: UserWarning: GPU-accelerated mergesort is currently not supported, defaulting to quicksort.\n"
     ]
    },
    {
     "data": {
      "image/png": "[encoded data removed]"
     },
     "metadata": {
      "image/png": {
       "height": 480,
       "width": 640
      }
     },
     "output_type": "display_data"
    }
   ],
   "source": [
    "# Gallery, lines\n",
    "(\n",
    "    ggplot(goog_closing_value_p9, aes(x=\"datetime\", y=\"price\", color=\"SMA\"))\n",
    "    + geom_line()\n",
    "    # Styling\n",
    "    + scale_x_datetime(date_breaks=\"1 year\", date_labels=\"%Y\")\n",
    "    + theme_538()\n",
    ")"
   ]
  },
  {
   "cell_type": "markdown",
   "metadata": {
    "id": "J-rHjLf4YWNc"
   },
   "source": [
    "# Summary"
   ]
  },
  {
   "cell_type": "markdown",
   "metadata": {
    "id": "RikEB9oiYWDS"
   },
   "source": [
    "With `cudf.pandas`, you can keep using pandas as your primary dataframe library if you enjoy using it but want faster performance. When things start to get a little slow, just load the `cudf.pandas` and run your existing code on a GPU!\n",
    "\n",
    "If you like Google Colab and want to get peak cudf.pandas performance to process even larger datasets, Google Colab's paid tier includes both L4 and A100 GPUs (in addition to the T4 GPU this demo notebook is using).\n",
    "\n",
    "To learn more about cudf.pandas, we encourage you to visit [rapids.ai/cudf-pandas](https://rapids.ai/cudf-pandas)."
   ]
  },
  {
   "cell_type": "code",
   "execution_count": null,
   "metadata": {
    "id": "h3O4hmE0YZoy"
   },
   "outputs": [],
   "source": []
  }
 ],
 "metadata": {
  "accelerator": "GPU",
  "colab": {
   "gpuType": "T4",
   "provenance": []
  },
  "kernelspec": {
   "display_name": "Python 3 (ipykernel)",
   "language": "python",
   "name": "python3"
  },
  "language_info": {
   "codemirror_mode": {
    "name": "ipython",
    "version": 3
   },
   "file_extension": ".py",
   "mimetype": "text/x-python",
   "name": "python",
   "nbconvert_exporter": "python",
   "pygments_lexer": "ipython3",
   "version": "3.12.9"
  }
 },
 "nbformat": 4,
 "nbformat_minor": 4
}
