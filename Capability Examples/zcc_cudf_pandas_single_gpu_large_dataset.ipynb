{
  "cells": [
    {
      "cell_type": "markdown",
      "metadata": {
        "id": "dAZWB7_Jc0pi"
      },
      "source": [
        "# Processing of large datasets (near GPU Memory size) with cuDF pandas Accelerator Mode  \n",
        "<a href=\"https://github.com/rapidsai/cudf\">cuDF</a> is a Python GPU DataFrame library (built on the Apache Arrow columnar memory format) for loading, joining, aggregating, filtering, and otherwise manipulating tabular data using a DataFrame style API in the style of pandas.\n",
        "\n",
        "cuDF now provides a <a href=\"https://rapids.ai/cudf-pandas/\">pandas accelerator mode</a> (`cudf.pandas`), allowing you to bring accelerated computing to your pandas workflows without requiring any code change.\n",
        "\n",
        "This notebook demonstrates how the memory management automation added to `cudf.pandas`accelerates processing of much larger datasets. Now, `cudf.pandas` uses a managed memory pool by default which allows it to process datasets larger than the memory of the GPU it is running on. Managed memory prefetching is also enabled by default to improve memory access performance. For more information on CUDA Unified Memory (managed memory), performance, and prefetching, see this <a href=\"https://developer.nvidia.com/blog/improving-gpu-memory-oversubscription-performance/\">NVIDIA Developer blog post</a>"
      ]
    },
    {
      "cell_type": "markdown",
      "metadata": {
        "id": "NRbuGsOAc0pj"
      },
      "source": [
        "# ⚠️ Verify your setup\n",
        "\n",
        "First, we'll verify that you are running with an NVIDIA GPU."
      ]
    },
    {
      "cell_type": "code",
      "execution_count": 1,
      "metadata": {
        "id": "tBGVTXfdc0pk",
        "outputId": "ab6ca977-b60b-43ef-bdc1-a311e95ec1d1",
        "colab": {
          "base_uri": "https://localhost:8080/"
        }
      },
      "outputs": [
        {
          "output_type": "stream",
          "name": "stdout",
          "text": [
            "Thu Aug  8 04:25:32 2024       \n",
            "+---------------------------------------------------------------------------------------+\n",
            "| NVIDIA-SMI 535.104.05             Driver Version: 535.104.05   CUDA Version: 12.2     |\n",
            "|-----------------------------------------+----------------------+----------------------+\n",
            "| GPU  Name                 Persistence-M | Bus-Id        Disp.A | Volatile Uncorr. ECC |\n",
            "| Fan  Temp   Perf          Pwr:Usage/Cap |         Memory-Usage | GPU-Util  Compute M. |\n",
            "|                                         |                      |               MIG M. |\n",
            "|=========================================+======================+======================|\n",
            "|   0  Tesla T4                       Off | 00000000:00:04.0 Off |                    0 |\n",
            "| N/A   46C    P8              10W /  70W |      0MiB / 15360MiB |      0%      Default |\n",
            "|                                         |                      |                  N/A |\n",
            "+-----------------------------------------+----------------------+----------------------+\n",
            "                                                                                         \n",
            "+---------------------------------------------------------------------------------------+\n",
            "| Processes:                                                                            |\n",
            "|  GPU   GI   CI        PID   Type   Process name                            GPU Memory |\n",
            "|        ID   ID                                                             Usage      |\n",
            "|=======================================================================================|\n",
            "|  No running processes found                                                           |\n",
            "+---------------------------------------------------------------------------------------+\n"
          ]
        }
      ],
      "source": [
        "!nvidia-smi"
      ]
    },
    {
      "cell_type": "markdown",
      "metadata": {
        "id": "mAn9A6YFc0pk"
      },
      "source": [
        "# Download the data"
      ]
    },
    {
      "cell_type": "markdown",
      "metadata": {
        "id": "f38u00Xpc0pk"
      },
      "source": [
        "The data we will be working with lists approximately 90 million transactions with relatively higher illicit (HI) activity.\n",
        "\n",
        "We're downloading a curated copy of Kaggle dataset titled <a ref=\"https://www.kaggle.com/datasets/ealtman2019/ibm-transactions-for-anti-money-laundering-aml?select=HI-Large_Trans.csv\"> IBM Anti-Money Laundering Dataset </a> from a GCP bucket hosted by NVIDIA to provide faster download speeds. We'll start by downloading the data. This should take about a minute.\n",
        "\n",
        "**Data License and Terms** <br>\n",
        "As this dataset originates from a Kaggle dataset, it's governed by that dataset's license and terms of use, which is the `Community Data License Agreement – Sharing, Version 1.0`, review here: https://cdla.dev/sharing-1-0/.\n",
        "\n",
        "**Are there restrictions on how I can use this data? </br>**\n",
        "For each dataset the user elects to use, the user is responsible for checking if the dataset license is fit for the intended purpose."
      ]
    },
    {
      "cell_type": "code",
      "source": [
        "%%time\n",
        "# from the bucket using gsutil command line tool-\n",
        "!gsutil cp gs://rapidsai/pno-oom-demo/HI-Large_Trans_reduced.parquet /content/"
      ],
      "metadata": {
        "id": "mJOr1Y-F9aoa",
        "outputId": "981843b6-42d7-420b-dbe7-90c66249e718",
        "colab": {
          "base_uri": "https://localhost:8080/"
        }
      },
      "execution_count": 2,
      "outputs": [
        {
          "output_type": "stream",
          "name": "stdout",
          "text": [
            "Copying gs://rapidsai/pno-oom-demo/HI-Large_Trans_reduced.parquet...\n",
            "/ [0 files][    0.0 B/  2.5 GiB]                                                \r==> NOTE: You are downloading one or more large file(s), which would\n",
            "run significantly faster if you enabled sliced object downloads. This\n",
            "feature is enabled by default but requires that compiled crcmod be\n",
            "installed (see \"gsutil help crcmod\").\n",
            "\n",
            "\\ [1 files][  2.5 GiB/  2.5 GiB]   50.3 MiB/s                                   \n",
            "Operation completed over 1 objects/2.5 GiB.                                      \n",
            "CPU times: user 285 ms, sys: 58.4 ms, total: 343 ms\n",
            "Wall time: 31.8 s\n"
          ]
        }
      ]
    },
    {
      "cell_type": "code",
      "execution_count": 3,
      "metadata": {
        "id": "xZK6p3kVc0pl"
      },
      "outputs": [],
      "source": [
        "import pandas as pd\n",
        "import numpy as np"
      ]
    },
    {
      "cell_type": "markdown",
      "metadata": {
        "id": "Bf9Xh5hVc0pl"
      },
      "source": [
        "# Analysis using Standard Pandas"
      ]
    },
    {
      "cell_type": "markdown",
      "source": [
        "Let's load the parquet dataset first-"
      ],
      "metadata": {
        "id": "JXze0xqkfws5"
      }
    },
    {
      "cell_type": "code",
      "execution_count": 4,
      "metadata": {
        "id": "VG-IrfOxc0pl",
        "outputId": "4f06a760-55ad-4302-f587-fb58c708a10d",
        "colab": {
          "base_uri": "https://localhost:8080/"
        }
      },
      "outputs": [
        {
          "output_type": "stream",
          "name": "stdout",
          "text": [
            "<class 'pandas.core.frame.DataFrame'>\n",
            "RangeIndex: 89851114 entries, 0 to 89851113\n",
            "Data columns (total 6 columns):\n",
            " #   Column            Dtype  \n",
            "---  ------            -----  \n",
            " 0   Timestamp         object \n",
            " 1   From Bank         int64  \n",
            " 2   To Bank           int64  \n",
            " 3   Amount Received   float64\n",
            " 4   Payment Currency  object \n",
            " 5   Is Laundering     int64  \n",
            "dtypes: float64(1), int64(3), object(2)\n",
            "memory usage: 4.0+ GB\n",
            "CPU times: user 14.9 s, sys: 8.49 s, total: 23.4 s\n",
            "Wall time: 16.3 s\n"
          ]
        }
      ],
      "source": [
        "%%time\n",
        "df_transactions = pd.read_parquet('HI-Large_Trans_reduced.parquet', columns = ['Timestamp','From Bank','To Bank','Amount Received',\n",
        "                                                                               'Payment Currency','Is Laundering'])\n",
        "df_transactions.info()"
      ]
    },
    {
      "cell_type": "markdown",
      "metadata": {
        "id": "vCsjhVL0c0pl"
      },
      "source": [
        "Transaction table contains account details, transaction details, and a flag for laundering."
      ]
    },
    {
      "cell_type": "code",
      "execution_count": 5,
      "metadata": {
        "id": "fWOItvsyc0pl",
        "outputId": "96548aef-1a00-41be-f2bc-2c357230475a",
        "colab": {
          "base_uri": "https://localhost:8080/",
          "height": 206
        }
      },
      "outputs": [
        {
          "output_type": "execute_result",
          "data": {
            "text/plain": [
              "          Timestamp  From Bank  To Bank  Amount Received Payment Currency  \\\n",
              "0  2022/08/01 00:02       3196     3196          7739.29        US Dollar   \n",
              "1  2022/08/01 00:03       1208       20      73966883.00        US Dollar   \n",
              "2  2022/08/01 00:27       3203     3203         13284.41        US Dollar   \n",
              "3  2022/08/01 00:09       1208     1208             7.66        US Dollar   \n",
              "4  2022/08/01 00:06       1208     1208             4.86        US Dollar   \n",
              "\n",
              "   Is Laundering  \n",
              "0              0  \n",
              "1              0  \n",
              "2              0  \n",
              "3              0  \n",
              "4              0  "
            ],
            "text/html": [
              "\n",
              "  <div id=\"df-b640f973-5ddc-4198-9521-b18d3cca222b\" class=\"colab-df-container\">\n",
              "    <div>\n",
              "<style scoped>\n",
              "    .dataframe tbody tr th:only-of-type {\n",
              "        vertical-align: middle;\n",
              "    }\n",
              "\n",
              "    .dataframe tbody tr th {\n",
              "        vertical-align: top;\n",
              "    }\n",
              "\n",
              "    .dataframe thead th {\n",
              "        text-align: right;\n",
              "    }\n",
              "</style>\n",
              "<table border=\"1\" class=\"dataframe\">\n",
              "  <thead>\n",
              "    <tr style=\"text-align: right;\">\n",
              "      <th></th>\n",
              "      <th>Timestamp</th>\n",
              "      <th>From Bank</th>\n",
              "      <th>To Bank</th>\n",
              "      <th>Amount Received</th>\n",
              "      <th>Payment Currency</th>\n",
              "      <th>Is Laundering</th>\n",
              "    </tr>\n",
              "  </thead>\n",
              "  <tbody>\n",
              "    <tr>\n",
              "      <th>0</th>\n",
              "      <td>2022/08/01 00:02</td>\n",
              "      <td>3196</td>\n",
              "      <td>3196</td>\n",
              "      <td>7739.29</td>\n",
              "      <td>US Dollar</td>\n",
              "      <td>0</td>\n",
              "    </tr>\n",
              "    <tr>\n",
              "      <th>1</th>\n",
              "      <td>2022/08/01 00:03</td>\n",
              "      <td>1208</td>\n",
              "      <td>20</td>\n",
              "      <td>73966883.00</td>\n",
              "      <td>US Dollar</td>\n",
              "      <td>0</td>\n",
              "    </tr>\n",
              "    <tr>\n",
              "      <th>2</th>\n",
              "      <td>2022/08/01 00:27</td>\n",
              "      <td>3203</td>\n",
              "      <td>3203</td>\n",
              "      <td>13284.41</td>\n",
              "      <td>US Dollar</td>\n",
              "      <td>0</td>\n",
              "    </tr>\n",
              "    <tr>\n",
              "      <th>3</th>\n",
              "      <td>2022/08/01 00:09</td>\n",
              "      <td>1208</td>\n",
              "      <td>1208</td>\n",
              "      <td>7.66</td>\n",
              "      <td>US Dollar</td>\n",
              "      <td>0</td>\n",
              "    </tr>\n",
              "    <tr>\n",
              "      <th>4</th>\n",
              "      <td>2022/08/01 00:06</td>\n",
              "      <td>1208</td>\n",
              "      <td>1208</td>\n",
              "      <td>4.86</td>\n",
              "      <td>US Dollar</td>\n",
              "      <td>0</td>\n",
              "    </tr>\n",
              "  </tbody>\n",
              "</table>\n",
              "</div>\n",
              "    <div class=\"colab-df-buttons\">\n",
              "\n",
              "  <div class=\"colab-df-container\">\n",
              "    <button class=\"colab-df-convert\" onclick=\"convertToInteractive('df-b640f973-5ddc-4198-9521-b18d3cca222b')\"\n",
              "            title=\"Convert this dataframe to an interactive table.\"\n",
              "            style=\"display:none;\">\n",
              "\n",
              "  <svg xmlns=\"http://www.w3.org/2000/svg\" height=\"24px\" viewBox=\"0 -960 960 960\">\n",
              "    <path d=\"M120-120v-720h720v720H120Zm60-500h600v-160H180v160Zm220 220h160v-160H400v160Zm0 220h160v-160H400v160ZM180-400h160v-160H180v160Zm440 0h160v-160H620v160ZM180-180h160v-160H180v160Zm440 0h160v-160H620v160Z\"/>\n",
              "  </svg>\n",
              "    </button>\n",
              "\n",
              "  <style>\n",
              "    .colab-df-container {\n",
              "      display:flex;\n",
              "      gap: 12px;\n",
              "    }\n",
              "\n",
              "    .colab-df-convert {\n",
              "      background-color: #E8F0FE;\n",
              "      border: none;\n",
              "      border-radius: 50%;\n",
              "      cursor: pointer;\n",
              "      display: none;\n",
              "      fill: #1967D2;\n",
              "      height: 32px;\n",
              "      padding: 0 0 0 0;\n",
              "      width: 32px;\n",
              "    }\n",
              "\n",
              "    .colab-df-convert:hover {\n",
              "      background-color: #E2EBFA;\n",
              "      box-shadow: 0px 1px 2px rgba(60, 64, 67, 0.3), 0px 1px 3px 1px rgba(60, 64, 67, 0.15);\n",
              "      fill: #174EA6;\n",
              "    }\n",
              "\n",
              "    .colab-df-buttons div {\n",
              "      margin-bottom: 4px;\n",
              "    }\n",
              "\n",
              "    [theme=dark] .colab-df-convert {\n",
              "      background-color: #3B4455;\n",
              "      fill: #D2E3FC;\n",
              "    }\n",
              "\n",
              "    [theme=dark] .colab-df-convert:hover {\n",
              "      background-color: #434B5C;\n",
              "      box-shadow: 0px 1px 3px 1px rgba(0, 0, 0, 0.15);\n",
              "      filter: drop-shadow(0px 1px 2px rgba(0, 0, 0, 0.3));\n",
              "      fill: #FFFFFF;\n",
              "    }\n",
              "  </style>\n",
              "\n",
              "    <script>\n",
              "      const buttonEl =\n",
              "        document.querySelector('#df-b640f973-5ddc-4198-9521-b18d3cca222b button.colab-df-convert');\n",
              "      buttonEl.style.display =\n",
              "        google.colab.kernel.accessAllowed ? 'block' : 'none';\n",
              "\n",
              "      async function convertToInteractive(key) {\n",
              "        const element = document.querySelector('#df-b640f973-5ddc-4198-9521-b18d3cca222b');\n",
              "        const dataTable =\n",
              "          await google.colab.kernel.invokeFunction('convertToInteractive',\n",
              "                                                    [key], {});\n",
              "        if (!dataTable) return;\n",
              "\n",
              "        const docLinkHtml = 'Like what you see? Visit the ' +\n",
              "          '<a target=\"_blank\" href=https://colab.research.google.com/notebooks/data_table.ipynb>data table notebook</a>'\n",
              "          + ' to learn more about interactive tables.';\n",
              "        element.innerHTML = '';\n",
              "        dataTable['output_type'] = 'display_data';\n",
              "        await google.colab.output.renderOutput(dataTable, element);\n",
              "        const docLink = document.createElement('div');\n",
              "        docLink.innerHTML = docLinkHtml;\n",
              "        element.appendChild(docLink);\n",
              "      }\n",
              "    </script>\n",
              "  </div>\n",
              "\n",
              "\n",
              "<div id=\"df-0fe44462-ca22-4d13-b2fa-c3c46b7b2b42\">\n",
              "  <button class=\"colab-df-quickchart\" onclick=\"quickchart('df-0fe44462-ca22-4d13-b2fa-c3c46b7b2b42')\"\n",
              "            title=\"Suggest charts\"\n",
              "            style=\"display:none;\">\n",
              "\n",
              "<svg xmlns=\"http://www.w3.org/2000/svg\" height=\"24px\"viewBox=\"0 0 24 24\"\n",
              "     width=\"24px\">\n",
              "    <g>\n",
              "        <path d=\"M19 3H5c-1.1 0-2 .9-2 2v14c0 1.1.9 2 2 2h14c1.1 0 2-.9 2-2V5c0-1.1-.9-2-2-2zM9 17H7v-7h2v7zm4 0h-2V7h2v10zm4 0h-2v-4h2v4z\"/>\n",
              "    </g>\n",
              "</svg>\n",
              "  </button>\n",
              "\n",
              "<style>\n",
              "  .colab-df-quickchart {\n",
              "      --bg-color: #E8F0FE;\n",
              "      --fill-color: #1967D2;\n",
              "      --hover-bg-color: #E2EBFA;\n",
              "      --hover-fill-color: #174EA6;\n",
              "      --disabled-fill-color: #AAA;\n",
              "      --disabled-bg-color: #DDD;\n",
              "  }\n",
              "\n",
              "  [theme=dark] .colab-df-quickchart {\n",
              "      --bg-color: #3B4455;\n",
              "      --fill-color: #D2E3FC;\n",
              "      --hover-bg-color: #434B5C;\n",
              "      --hover-fill-color: #FFFFFF;\n",
              "      --disabled-bg-color: #3B4455;\n",
              "      --disabled-fill-color: #666;\n",
              "  }\n",
              "\n",
              "  .colab-df-quickchart {\n",
              "    background-color: var(--bg-color);\n",
              "    border: none;\n",
              "    border-radius: 50%;\n",
              "    cursor: pointer;\n",
              "    display: none;\n",
              "    fill: var(--fill-color);\n",
              "    height: 32px;\n",
              "    padding: 0;\n",
              "    width: 32px;\n",
              "  }\n",
              "\n",
              "  .colab-df-quickchart:hover {\n",
              "    background-color: var(--hover-bg-color);\n",
              "    box-shadow: 0 1px 2px rgba(60, 64, 67, 0.3), 0 1px 3px 1px rgba(60, 64, 67, 0.15);\n",
              "    fill: var(--button-hover-fill-color);\n",
              "  }\n",
              "\n",
              "  .colab-df-quickchart-complete:disabled,\n",
              "  .colab-df-quickchart-complete:disabled:hover {\n",
              "    background-color: var(--disabled-bg-color);\n",
              "    fill: var(--disabled-fill-color);\n",
              "    box-shadow: none;\n",
              "  }\n",
              "\n",
              "  .colab-df-spinner {\n",
              "    border: 2px solid var(--fill-color);\n",
              "    border-color: transparent;\n",
              "    border-bottom-color: var(--fill-color);\n",
              "    animation:\n",
              "      spin 1s steps(1) infinite;\n",
              "  }\n",
              "\n",
              "  @keyframes spin {\n",
              "    0% {\n",
              "      border-color: transparent;\n",
              "      border-bottom-color: var(--fill-color);\n",
              "      border-left-color: var(--fill-color);\n",
              "    }\n",
              "    20% {\n",
              "      border-color: transparent;\n",
              "      border-left-color: var(--fill-color);\n",
              "      border-top-color: var(--fill-color);\n",
              "    }\n",
              "    30% {\n",
              "      border-color: transparent;\n",
              "      border-left-color: var(--fill-color);\n",
              "      border-top-color: var(--fill-color);\n",
              "      border-right-color: var(--fill-color);\n",
              "    }\n",
              "    40% {\n",
              "      border-color: transparent;\n",
              "      border-right-color: var(--fill-color);\n",
              "      border-top-color: var(--fill-color);\n",
              "    }\n",
              "    60% {\n",
              "      border-color: transparent;\n",
              "      border-right-color: var(--fill-color);\n",
              "    }\n",
              "    80% {\n",
              "      border-color: transparent;\n",
              "      border-right-color: var(--fill-color);\n",
              "      border-bottom-color: var(--fill-color);\n",
              "    }\n",
              "    90% {\n",
              "      border-color: transparent;\n",
              "      border-bottom-color: var(--fill-color);\n",
              "    }\n",
              "  }\n",
              "</style>\n",
              "\n",
              "  <script>\n",
              "    async function quickchart(key) {\n",
              "      const quickchartButtonEl =\n",
              "        document.querySelector('#' + key + ' button');\n",
              "      quickchartButtonEl.disabled = true;  // To prevent multiple clicks.\n",
              "      quickchartButtonEl.classList.add('colab-df-spinner');\n",
              "      try {\n",
              "        const charts = await google.colab.kernel.invokeFunction(\n",
              "            'suggestCharts', [key], {});\n",
              "      } catch (error) {\n",
              "        console.error('Error during call to suggestCharts:', error);\n",
              "      }\n",
              "      quickchartButtonEl.classList.remove('colab-df-spinner');\n",
              "      quickchartButtonEl.classList.add('colab-df-quickchart-complete');\n",
              "    }\n",
              "    (() => {\n",
              "      let quickchartButtonEl =\n",
              "        document.querySelector('#df-0fe44462-ca22-4d13-b2fa-c3c46b7b2b42 button');\n",
              "      quickchartButtonEl.style.display =\n",
              "        google.colab.kernel.accessAllowed ? 'block' : 'none';\n",
              "    })();\n",
              "  </script>\n",
              "</div>\n",
              "\n",
              "    </div>\n",
              "  </div>\n"
            ],
            "application/vnd.google.colaboratory.intrinsic+json": {
              "type": "dataframe",
              "variable_name": "df_transactions"
            }
          },
          "metadata": {},
          "execution_count": 5
        }
      ],
      "source": [
        "df_transactions.head()"
      ]
    },
    {
      "cell_type": "markdown",
      "metadata": {
        "id": "zFnbKhDDc0pl"
      },
      "source": [
        "## Which banks have the most money laundering related transactions?"
      ]
    },
    {
      "cell_type": "code",
      "execution_count": 6,
      "metadata": {
        "id": "BUOz-gFvc0pm",
        "outputId": "8967c5c9-0aad-4cbd-ba31-0623b89ffc25",
        "colab": {
          "base_uri": "https://localhost:8080/",
          "height": 430
        }
      },
      "outputs": [
        {
          "output_type": "stream",
          "name": "stdout",
          "text": [
            "CPU times: user 22.4 s, sys: 4.63 s, total: 27.1 s\n",
            "Wall time: 27.2 s\n"
          ]
        },
        {
          "output_type": "execute_result",
          "data": {
            "text/plain": [
              "                                    Amount Received  Is Laundering\n",
              "From Bank To Bank Payment Currency                                \n",
              "4011      4011    US Dollar            2.287563e+13              1\n",
              "18824     18824   US Dollar            1.181472e+13              3\n",
              "18184     4       Rupee                5.257959e+12              1\n",
              "221118    221118  US Dollar            4.857862e+12              1\n",
              "214853    214853  US Dollar            1.908466e+12              1\n",
              "28781     28781   US Dollar            1.458829e+12              1\n",
              "2310      2310    US Dollar            1.359950e+12              8\n",
              "70        137768  Yen                  1.216654e+12              9\n",
              "5763      5763    US Dollar            1.087834e+12              2\n",
              "76        27      Rupee                1.017549e+12              4"
            ],
            "text/html": [
              "\n",
              "  <div id=\"df-11028f79-5829-45d8-9827-59f63f5d9e2e\" class=\"colab-df-container\">\n",
              "    <div>\n",
              "<style scoped>\n",
              "    .dataframe tbody tr th:only-of-type {\n",
              "        vertical-align: middle;\n",
              "    }\n",
              "\n",
              "    .dataframe tbody tr th {\n",
              "        vertical-align: top;\n",
              "    }\n",
              "\n",
              "    .dataframe thead th {\n",
              "        text-align: right;\n",
              "    }\n",
              "</style>\n",
              "<table border=\"1\" class=\"dataframe\">\n",
              "  <thead>\n",
              "    <tr style=\"text-align: right;\">\n",
              "      <th></th>\n",
              "      <th></th>\n",
              "      <th></th>\n",
              "      <th>Amount Received</th>\n",
              "      <th>Is Laundering</th>\n",
              "    </tr>\n",
              "    <tr>\n",
              "      <th>From Bank</th>\n",
              "      <th>To Bank</th>\n",
              "      <th>Payment Currency</th>\n",
              "      <th></th>\n",
              "      <th></th>\n",
              "    </tr>\n",
              "  </thead>\n",
              "  <tbody>\n",
              "    <tr>\n",
              "      <th>4011</th>\n",
              "      <th>4011</th>\n",
              "      <th>US Dollar</th>\n",
              "      <td>2.287563e+13</td>\n",
              "      <td>1</td>\n",
              "    </tr>\n",
              "    <tr>\n",
              "      <th>18824</th>\n",
              "      <th>18824</th>\n",
              "      <th>US Dollar</th>\n",
              "      <td>1.181472e+13</td>\n",
              "      <td>3</td>\n",
              "    </tr>\n",
              "    <tr>\n",
              "      <th>18184</th>\n",
              "      <th>4</th>\n",
              "      <th>Rupee</th>\n",
              "      <td>5.257959e+12</td>\n",
              "      <td>1</td>\n",
              "    </tr>\n",
              "    <tr>\n",
              "      <th>221118</th>\n",
              "      <th>221118</th>\n",
              "      <th>US Dollar</th>\n",
              "      <td>4.857862e+12</td>\n",
              "      <td>1</td>\n",
              "    </tr>\n",
              "    <tr>\n",
              "      <th>214853</th>\n",
              "      <th>214853</th>\n",
              "      <th>US Dollar</th>\n",
              "      <td>1.908466e+12</td>\n",
              "      <td>1</td>\n",
              "    </tr>\n",
              "    <tr>\n",
              "      <th>28781</th>\n",
              "      <th>28781</th>\n",
              "      <th>US Dollar</th>\n",
              "      <td>1.458829e+12</td>\n",
              "      <td>1</td>\n",
              "    </tr>\n",
              "    <tr>\n",
              "      <th>2310</th>\n",
              "      <th>2310</th>\n",
              "      <th>US Dollar</th>\n",
              "      <td>1.359950e+12</td>\n",
              "      <td>8</td>\n",
              "    </tr>\n",
              "    <tr>\n",
              "      <th>70</th>\n",
              "      <th>137768</th>\n",
              "      <th>Yen</th>\n",
              "      <td>1.216654e+12</td>\n",
              "      <td>9</td>\n",
              "    </tr>\n",
              "    <tr>\n",
              "      <th>5763</th>\n",
              "      <th>5763</th>\n",
              "      <th>US Dollar</th>\n",
              "      <td>1.087834e+12</td>\n",
              "      <td>2</td>\n",
              "    </tr>\n",
              "    <tr>\n",
              "      <th>76</th>\n",
              "      <th>27</th>\n",
              "      <th>Rupee</th>\n",
              "      <td>1.017549e+12</td>\n",
              "      <td>4</td>\n",
              "    </tr>\n",
              "  </tbody>\n",
              "</table>\n",
              "</div>\n",
              "    <div class=\"colab-df-buttons\">\n",
              "\n",
              "  <div class=\"colab-df-container\">\n",
              "    <button class=\"colab-df-convert\" onclick=\"convertToInteractive('df-11028f79-5829-45d8-9827-59f63f5d9e2e')\"\n",
              "            title=\"Convert this dataframe to an interactive table.\"\n",
              "            style=\"display:none;\">\n",
              "\n",
              "  <svg xmlns=\"http://www.w3.org/2000/svg\" height=\"24px\" viewBox=\"0 -960 960 960\">\n",
              "    <path d=\"M120-120v-720h720v720H120Zm60-500h600v-160H180v160Zm220 220h160v-160H400v160Zm0 220h160v-160H400v160ZM180-400h160v-160H180v160Zm440 0h160v-160H620v160ZM180-180h160v-160H180v160Zm440 0h160v-160H620v160Z\"/>\n",
              "  </svg>\n",
              "    </button>\n",
              "\n",
              "  <style>\n",
              "    .colab-df-container {\n",
              "      display:flex;\n",
              "      gap: 12px;\n",
              "    }\n",
              "\n",
              "    .colab-df-convert {\n",
              "      background-color: #E8F0FE;\n",
              "      border: none;\n",
              "      border-radius: 50%;\n",
              "      cursor: pointer;\n",
              "      display: none;\n",
              "      fill: #1967D2;\n",
              "      height: 32px;\n",
              "      padding: 0 0 0 0;\n",
              "      width: 32px;\n",
              "    }\n",
              "\n",
              "    .colab-df-convert:hover {\n",
              "      background-color: #E2EBFA;\n",
              "      box-shadow: 0px 1px 2px rgba(60, 64, 67, 0.3), 0px 1px 3px 1px rgba(60, 64, 67, 0.15);\n",
              "      fill: #174EA6;\n",
              "    }\n",
              "\n",
              "    .colab-df-buttons div {\n",
              "      margin-bottom: 4px;\n",
              "    }\n",
              "\n",
              "    [theme=dark] .colab-df-convert {\n",
              "      background-color: #3B4455;\n",
              "      fill: #D2E3FC;\n",
              "    }\n",
              "\n",
              "    [theme=dark] .colab-df-convert:hover {\n",
              "      background-color: #434B5C;\n",
              "      box-shadow: 0px 1px 3px 1px rgba(0, 0, 0, 0.15);\n",
              "      filter: drop-shadow(0px 1px 2px rgba(0, 0, 0, 0.3));\n",
              "      fill: #FFFFFF;\n",
              "    }\n",
              "  </style>\n",
              "\n",
              "    <script>\n",
              "      const buttonEl =\n",
              "        document.querySelector('#df-11028f79-5829-45d8-9827-59f63f5d9e2e button.colab-df-convert');\n",
              "      buttonEl.style.display =\n",
              "        google.colab.kernel.accessAllowed ? 'block' : 'none';\n",
              "\n",
              "      async function convertToInteractive(key) {\n",
              "        const element = document.querySelector('#df-11028f79-5829-45d8-9827-59f63f5d9e2e');\n",
              "        const dataTable =\n",
              "          await google.colab.kernel.invokeFunction('convertToInteractive',\n",
              "                                                    [key], {});\n",
              "        if (!dataTable) return;\n",
              "\n",
              "        const docLinkHtml = 'Like what you see? Visit the ' +\n",
              "          '<a target=\"_blank\" href=https://colab.research.google.com/notebooks/data_table.ipynb>data table notebook</a>'\n",
              "          + ' to learn more about interactive tables.';\n",
              "        element.innerHTML = '';\n",
              "        dataTable['output_type'] = 'display_data';\n",
              "        await google.colab.output.renderOutput(dataTable, element);\n",
              "        const docLink = document.createElement('div');\n",
              "        docLink.innerHTML = docLinkHtml;\n",
              "        element.appendChild(docLink);\n",
              "      }\n",
              "    </script>\n",
              "  </div>\n",
              "\n",
              "\n",
              "<div id=\"df-22826d2c-c799-4a2d-9085-2eb8f806dcab\">\n",
              "  <button class=\"colab-df-quickchart\" onclick=\"quickchart('df-22826d2c-c799-4a2d-9085-2eb8f806dcab')\"\n",
              "            title=\"Suggest charts\"\n",
              "            style=\"display:none;\">\n",
              "\n",
              "<svg xmlns=\"http://www.w3.org/2000/svg\" height=\"24px\"viewBox=\"0 0 24 24\"\n",
              "     width=\"24px\">\n",
              "    <g>\n",
              "        <path d=\"M19 3H5c-1.1 0-2 .9-2 2v14c0 1.1.9 2 2 2h14c1.1 0 2-.9 2-2V5c0-1.1-.9-2-2-2zM9 17H7v-7h2v7zm4 0h-2V7h2v10zm4 0h-2v-4h2v4z\"/>\n",
              "    </g>\n",
              "</svg>\n",
              "  </button>\n",
              "\n",
              "<style>\n",
              "  .colab-df-quickchart {\n",
              "      --bg-color: #E8F0FE;\n",
              "      --fill-color: #1967D2;\n",
              "      --hover-bg-color: #E2EBFA;\n",
              "      --hover-fill-color: #174EA6;\n",
              "      --disabled-fill-color: #AAA;\n",
              "      --disabled-bg-color: #DDD;\n",
              "  }\n",
              "\n",
              "  [theme=dark] .colab-df-quickchart {\n",
              "      --bg-color: #3B4455;\n",
              "      --fill-color: #D2E3FC;\n",
              "      --hover-bg-color: #434B5C;\n",
              "      --hover-fill-color: #FFFFFF;\n",
              "      --disabled-bg-color: #3B4455;\n",
              "      --disabled-fill-color: #666;\n",
              "  }\n",
              "\n",
              "  .colab-df-quickchart {\n",
              "    background-color: var(--bg-color);\n",
              "    border: none;\n",
              "    border-radius: 50%;\n",
              "    cursor: pointer;\n",
              "    display: none;\n",
              "    fill: var(--fill-color);\n",
              "    height: 32px;\n",
              "    padding: 0;\n",
              "    width: 32px;\n",
              "  }\n",
              "\n",
              "  .colab-df-quickchart:hover {\n",
              "    background-color: var(--hover-bg-color);\n",
              "    box-shadow: 0 1px 2px rgba(60, 64, 67, 0.3), 0 1px 3px 1px rgba(60, 64, 67, 0.15);\n",
              "    fill: var(--button-hover-fill-color);\n",
              "  }\n",
              "\n",
              "  .colab-df-quickchart-complete:disabled,\n",
              "  .colab-df-quickchart-complete:disabled:hover {\n",
              "    background-color: var(--disabled-bg-color);\n",
              "    fill: var(--disabled-fill-color);\n",
              "    box-shadow: none;\n",
              "  }\n",
              "\n",
              "  .colab-df-spinner {\n",
              "    border: 2px solid var(--fill-color);\n",
              "    border-color: transparent;\n",
              "    border-bottom-color: var(--fill-color);\n",
              "    animation:\n",
              "      spin 1s steps(1) infinite;\n",
              "  }\n",
              "\n",
              "  @keyframes spin {\n",
              "    0% {\n",
              "      border-color: transparent;\n",
              "      border-bottom-color: var(--fill-color);\n",
              "      border-left-color: var(--fill-color);\n",
              "    }\n",
              "    20% {\n",
              "      border-color: transparent;\n",
              "      border-left-color: var(--fill-color);\n",
              "      border-top-color: var(--fill-color);\n",
              "    }\n",
              "    30% {\n",
              "      border-color: transparent;\n",
              "      border-left-color: var(--fill-color);\n",
              "      border-top-color: var(--fill-color);\n",
              "      border-right-color: var(--fill-color);\n",
              "    }\n",
              "    40% {\n",
              "      border-color: transparent;\n",
              "      border-right-color: var(--fill-color);\n",
              "      border-top-color: var(--fill-color);\n",
              "    }\n",
              "    60% {\n",
              "      border-color: transparent;\n",
              "      border-right-color: var(--fill-color);\n",
              "    }\n",
              "    80% {\n",
              "      border-color: transparent;\n",
              "      border-right-color: var(--fill-color);\n",
              "      border-bottom-color: var(--fill-color);\n",
              "    }\n",
              "    90% {\n",
              "      border-color: transparent;\n",
              "      border-bottom-color: var(--fill-color);\n",
              "    }\n",
              "  }\n",
              "</style>\n",
              "\n",
              "  <script>\n",
              "    async function quickchart(key) {\n",
              "      const quickchartButtonEl =\n",
              "        document.querySelector('#' + key + ' button');\n",
              "      quickchartButtonEl.disabled = true;  // To prevent multiple clicks.\n",
              "      quickchartButtonEl.classList.add('colab-df-spinner');\n",
              "      try {\n",
              "        const charts = await google.colab.kernel.invokeFunction(\n",
              "            'suggestCharts', [key], {});\n",
              "      } catch (error) {\n",
              "        console.error('Error during call to suggestCharts:', error);\n",
              "      }\n",
              "      quickchartButtonEl.classList.remove('colab-df-spinner');\n",
              "      quickchartButtonEl.classList.add('colab-df-quickchart-complete');\n",
              "    }\n",
              "    (() => {\n",
              "      let quickchartButtonEl =\n",
              "        document.querySelector('#df-22826d2c-c799-4a2d-9085-2eb8f806dcab button');\n",
              "      quickchartButtonEl.style.display =\n",
              "        google.colab.kernel.accessAllowed ? 'block' : 'none';\n",
              "    })();\n",
              "  </script>\n",
              "</div>\n",
              "\n",
              "    </div>\n",
              "  </div>\n"
            ],
            "application/vnd.google.colaboratory.intrinsic+json": {
              "type": "dataframe",
              "summary": "{\n  \"name\": \"get_ipython()\",\n  \"rows\": 10,\n  \"fields\": [\n    {\n      \"column\": \"Amount Received\",\n      \"properties\": {\n        \"dtype\": \"number\",\n        \"std\": 7040169703651.326,\n        \"min\": 1017549045492.07,\n        \"max\": 22875625499927.65,\n        \"num_unique_values\": 10,\n        \"samples\": [\n          1087834475443.85,\n          11814721526353.781,\n          1458828582562.3801\n        ],\n        \"semantic_type\": \"\",\n        \"description\": \"\"\n      }\n    },\n    {\n      \"column\": \"Is Laundering\",\n      \"properties\": {\n        \"dtype\": \"number\",\n        \"std\": 3,\n        \"min\": 1,\n        \"max\": 9,\n        \"num_unique_values\": 6,\n        \"samples\": [\n          1,\n          3,\n          4\n        ],\n        \"semantic_type\": \"\",\n        \"description\": \"\"\n      }\n    }\n  ]\n}"
            }
          },
          "metadata": {},
          "execution_count": 6
        }
      ],
      "source": [
        "%%time\n",
        "# Aggregate-\n",
        "result=df_transactions.groupby(\n",
        "    [\"From Bank\",\"To Bank\",\"Payment Currency\"]).agg({\"Amount Received\":\"sum\",\"Is Laundering\":\"sum\"})\n",
        "\n",
        "filtered_result = result[result[\"Is Laundering\"] > 0].sort_values(by=\"Amount Received\", ascending=False)\n",
        "filtered_result.head(10)"
      ]
    },
    {
      "cell_type": "markdown",
      "metadata": {
        "id": "5k1EbrFRc0pm"
      },
      "source": [
        "It's interesting to see that most money laundering happen within (to and from) the same bank.\n",
        "\n",
        "Also, 30 seconds is too long for a simple aggregation!"
      ]
    },
    {
      "cell_type": "markdown",
      "metadata": {
        "id": "4bJd8a7gc0pm"
      },
      "source": [
        "## Which locations are most highly correlated with money laundering related transaction?"
      ]
    },
    {
      "cell_type": "markdown",
      "metadata": {
        "id": "LTlOmSwbc0pm"
      },
      "source": [
        "It is helpful to understand the locations that have the most money laundering related activity to take appropriate steps.\n",
        "\n",
        "For this, we will merge the location dataset with transaction dataset."
      ]
    },
    {
      "cell_type": "markdown",
      "source": [
        "Let's load the location dataset first -"
      ],
      "metadata": {
        "id": "J2Zm67ylunat"
      }
    },
    {
      "cell_type": "code",
      "source": [
        "!gsutil cp gs://rapidsai/pno-oom-demo/account_locations.parquet /content/"
      ],
      "metadata": {
        "id": "tznAhPI7yBxa",
        "outputId": "0eed3ba9-d83b-4e6f-ac1a-75421d55e586",
        "colab": {
          "base_uri": "https://localhost:8080/"
        }
      },
      "execution_count": 7,
      "outputs": [
        {
          "output_type": "stream",
          "name": "stdout",
          "text": [
            "Copying gs://rapidsai/pno-oom-demo/account_locations.parquet...\n",
            "/ [0 files][    0.0 B/  1.5 MiB]                                                \r/ [1 files][  1.5 MiB/  1.5 MiB]                                                \r\n",
            "Operation completed over 1 objects/1.5 MiB.                                      \n"
          ]
        }
      ]
    },
    {
      "cell_type": "code",
      "execution_count": 8,
      "metadata": {
        "id": "O3-zKnuic0pm",
        "outputId": "2061fcc7-424c-4d31-c7e2-eeb6db15e6e3",
        "colab": {
          "base_uri": "https://localhost:8080/"
        }
      },
      "outputs": [
        {
          "output_type": "stream",
          "name": "stdout",
          "text": [
            "<class 'pandas.core.frame.DataFrame'>\n",
            "RangeIndex: 116329 entries, 0 to 116328\n",
            "Data columns (total 3 columns):\n",
            " #   Column      Non-Null Count   Dtype \n",
            "---  ------      --------------   ----- \n",
            " 0   Unnamed: 0  116329 non-null  int64 \n",
            " 1   From Bank   116329 non-null  int64 \n",
            " 2   location    116329 non-null  object\n",
            "dtypes: int64(2), object(1)\n",
            "memory usage: 2.7+ MB\n",
            "CPU times: user 35.9 ms, sys: 4.34 ms, total: 40.3 ms\n",
            "Wall time: 29.8 ms\n"
          ]
        }
      ],
      "source": [
        "%%time\n",
        "df_location = pd.read_parquet('/content/account_locations.parquet')\n",
        "df_location.info()"
      ]
    },
    {
      "cell_type": "markdown",
      "source": [
        "Merging the transaction data with the account locations on `From Bank` column which contains the account number.\n",
        "\n",
        "\n",
        "\n"
      ],
      "metadata": {
        "id": "M6D4IBmoutpH"
      }
    },
    {
      "cell_type": "code",
      "execution_count": 9,
      "metadata": {
        "id": "_fgXvOqgc0pm",
        "colab": {
          "base_uri": "https://localhost:8080/"
        },
        "outputId": "80f0418d-8782-4cda-9b18-d9d6385727c4"
      },
      "outputs": [
        {
          "output_type": "stream",
          "name": "stdout",
          "text": [
            "CPU times: user 4.95 s, sys: 2.13 s, total: 7.08 s\n",
            "Wall time: 7.08 s\n"
          ]
        }
      ],
      "source": [
        "%%time\n",
        "df_merged = df_transactions.iloc[1:int(len(df_transactions)/2)].merge(\n",
        "    df_location, how='left', on='From Bank')"
      ]
    },
    {
      "cell_type": "markdown",
      "source": [
        "Note we are using a different length of the transaactions dataset because the merge on the full dataset exhausts the full system memory and crashes the session.\n",
        "\n",
        "We see that each operation is taking around 10 to 30 seconds to run with pandas."
      ],
      "metadata": {
        "id": "TvhyKoriu5xb"
      }
    },
    {
      "cell_type": "code",
      "execution_count": 10,
      "metadata": {
        "id": "qThkg08uc0pm",
        "outputId": "50526040-559b-4d86-b304-b40c4aa5c644",
        "colab": {
          "base_uri": "https://localhost:8080/",
          "height": 430
        }
      },
      "outputs": [
        {
          "output_type": "stream",
          "name": "stdout",
          "text": [
            "CPU times: user 3.8 s, sys: 666 ms, total: 4.46 s\n",
            "Wall time: 4.49 s\n"
          ]
        },
        {
          "output_type": "execute_result",
          "data": {
            "text/plain": [
              "              Amount Received  Is Laundering\n",
              "location                                    \n",
              "San Antonio      4.877528e+13           5960\n",
              "Los Angeles      4.397943e+13           5284\n",
              "Dallas           4.297125e+13           5181\n",
              "San Jose         3.172923e+13           4640\n",
              "Philadelphia     2.596176e+13          10669\n",
              "Chicago          1.926709e+13           4100\n",
              "Phoenix          1.625138e+13           5107\n",
              "San Diego        1.317739e+13           4131\n",
              "Houston          1.184604e+13           3977\n",
              "New York         1.144082e+13           4827"
            ],
            "text/html": [
              "\n",
              "  <div id=\"df-d7c3bcbe-1d82-4ae0-8eba-2eba29ebfdf5\" class=\"colab-df-container\">\n",
              "    <div>\n",
              "<style scoped>\n",
              "    .dataframe tbody tr th:only-of-type {\n",
              "        vertical-align: middle;\n",
              "    }\n",
              "\n",
              "    .dataframe tbody tr th {\n",
              "        vertical-align: top;\n",
              "    }\n",
              "\n",
              "    .dataframe thead th {\n",
              "        text-align: right;\n",
              "    }\n",
              "</style>\n",
              "<table border=\"1\" class=\"dataframe\">\n",
              "  <thead>\n",
              "    <tr style=\"text-align: right;\">\n",
              "      <th></th>\n",
              "      <th>Amount Received</th>\n",
              "      <th>Is Laundering</th>\n",
              "    </tr>\n",
              "    <tr>\n",
              "      <th>location</th>\n",
              "      <th></th>\n",
              "      <th></th>\n",
              "    </tr>\n",
              "  </thead>\n",
              "  <tbody>\n",
              "    <tr>\n",
              "      <th>San Antonio</th>\n",
              "      <td>4.877528e+13</td>\n",
              "      <td>5960</td>\n",
              "    </tr>\n",
              "    <tr>\n",
              "      <th>Los Angeles</th>\n",
              "      <td>4.397943e+13</td>\n",
              "      <td>5284</td>\n",
              "    </tr>\n",
              "    <tr>\n",
              "      <th>Dallas</th>\n",
              "      <td>4.297125e+13</td>\n",
              "      <td>5181</td>\n",
              "    </tr>\n",
              "    <tr>\n",
              "      <th>San Jose</th>\n",
              "      <td>3.172923e+13</td>\n",
              "      <td>4640</td>\n",
              "    </tr>\n",
              "    <tr>\n",
              "      <th>Philadelphia</th>\n",
              "      <td>2.596176e+13</td>\n",
              "      <td>10669</td>\n",
              "    </tr>\n",
              "    <tr>\n",
              "      <th>Chicago</th>\n",
              "      <td>1.926709e+13</td>\n",
              "      <td>4100</td>\n",
              "    </tr>\n",
              "    <tr>\n",
              "      <th>Phoenix</th>\n",
              "      <td>1.625138e+13</td>\n",
              "      <td>5107</td>\n",
              "    </tr>\n",
              "    <tr>\n",
              "      <th>San Diego</th>\n",
              "      <td>1.317739e+13</td>\n",
              "      <td>4131</td>\n",
              "    </tr>\n",
              "    <tr>\n",
              "      <th>Houston</th>\n",
              "      <td>1.184604e+13</td>\n",
              "      <td>3977</td>\n",
              "    </tr>\n",
              "    <tr>\n",
              "      <th>New York</th>\n",
              "      <td>1.144082e+13</td>\n",
              "      <td>4827</td>\n",
              "    </tr>\n",
              "  </tbody>\n",
              "</table>\n",
              "</div>\n",
              "    <div class=\"colab-df-buttons\">\n",
              "\n",
              "  <div class=\"colab-df-container\">\n",
              "    <button class=\"colab-df-convert\" onclick=\"convertToInteractive('df-d7c3bcbe-1d82-4ae0-8eba-2eba29ebfdf5')\"\n",
              "            title=\"Convert this dataframe to an interactive table.\"\n",
              "            style=\"display:none;\">\n",
              "\n",
              "  <svg xmlns=\"http://www.w3.org/2000/svg\" height=\"24px\" viewBox=\"0 -960 960 960\">\n",
              "    <path d=\"M120-120v-720h720v720H120Zm60-500h600v-160H180v160Zm220 220h160v-160H400v160Zm0 220h160v-160H400v160ZM180-400h160v-160H180v160Zm440 0h160v-160H620v160ZM180-180h160v-160H180v160Zm440 0h160v-160H620v160Z\"/>\n",
              "  </svg>\n",
              "    </button>\n",
              "\n",
              "  <style>\n",
              "    .colab-df-container {\n",
              "      display:flex;\n",
              "      gap: 12px;\n",
              "    }\n",
              "\n",
              "    .colab-df-convert {\n",
              "      background-color: #E8F0FE;\n",
              "      border: none;\n",
              "      border-radius: 50%;\n",
              "      cursor: pointer;\n",
              "      display: none;\n",
              "      fill: #1967D2;\n",
              "      height: 32px;\n",
              "      padding: 0 0 0 0;\n",
              "      width: 32px;\n",
              "    }\n",
              "\n",
              "    .colab-df-convert:hover {\n",
              "      background-color: #E2EBFA;\n",
              "      box-shadow: 0px 1px 2px rgba(60, 64, 67, 0.3), 0px 1px 3px 1px rgba(60, 64, 67, 0.15);\n",
              "      fill: #174EA6;\n",
              "    }\n",
              "\n",
              "    .colab-df-buttons div {\n",
              "      margin-bottom: 4px;\n",
              "    }\n",
              "\n",
              "    [theme=dark] .colab-df-convert {\n",
              "      background-color: #3B4455;\n",
              "      fill: #D2E3FC;\n",
              "    }\n",
              "\n",
              "    [theme=dark] .colab-df-convert:hover {\n",
              "      background-color: #434B5C;\n",
              "      box-shadow: 0px 1px 3px 1px rgba(0, 0, 0, 0.15);\n",
              "      filter: drop-shadow(0px 1px 2px rgba(0, 0, 0, 0.3));\n",
              "      fill: #FFFFFF;\n",
              "    }\n",
              "  </style>\n",
              "\n",
              "    <script>\n",
              "      const buttonEl =\n",
              "        document.querySelector('#df-d7c3bcbe-1d82-4ae0-8eba-2eba29ebfdf5 button.colab-df-convert');\n",
              "      buttonEl.style.display =\n",
              "        google.colab.kernel.accessAllowed ? 'block' : 'none';\n",
              "\n",
              "      async function convertToInteractive(key) {\n",
              "        const element = document.querySelector('#df-d7c3bcbe-1d82-4ae0-8eba-2eba29ebfdf5');\n",
              "        const dataTable =\n",
              "          await google.colab.kernel.invokeFunction('convertToInteractive',\n",
              "                                                    [key], {});\n",
              "        if (!dataTable) return;\n",
              "\n",
              "        const docLinkHtml = 'Like what you see? Visit the ' +\n",
              "          '<a target=\"_blank\" href=https://colab.research.google.com/notebooks/data_table.ipynb>data table notebook</a>'\n",
              "          + ' to learn more about interactive tables.';\n",
              "        element.innerHTML = '';\n",
              "        dataTable['output_type'] = 'display_data';\n",
              "        await google.colab.output.renderOutput(dataTable, element);\n",
              "        const docLink = document.createElement('div');\n",
              "        docLink.innerHTML = docLinkHtml;\n",
              "        element.appendChild(docLink);\n",
              "      }\n",
              "    </script>\n",
              "  </div>\n",
              "\n",
              "\n",
              "<div id=\"df-399d4792-01d9-40a7-b1f0-b697a81a32f7\">\n",
              "  <button class=\"colab-df-quickchart\" onclick=\"quickchart('df-399d4792-01d9-40a7-b1f0-b697a81a32f7')\"\n",
              "            title=\"Suggest charts\"\n",
              "            style=\"display:none;\">\n",
              "\n",
              "<svg xmlns=\"http://www.w3.org/2000/svg\" height=\"24px\"viewBox=\"0 0 24 24\"\n",
              "     width=\"24px\">\n",
              "    <g>\n",
              "        <path d=\"M19 3H5c-1.1 0-2 .9-2 2v14c0 1.1.9 2 2 2h14c1.1 0 2-.9 2-2V5c0-1.1-.9-2-2-2zM9 17H7v-7h2v7zm4 0h-2V7h2v10zm4 0h-2v-4h2v4z\"/>\n",
              "    </g>\n",
              "</svg>\n",
              "  </button>\n",
              "\n",
              "<style>\n",
              "  .colab-df-quickchart {\n",
              "      --bg-color: #E8F0FE;\n",
              "      --fill-color: #1967D2;\n",
              "      --hover-bg-color: #E2EBFA;\n",
              "      --hover-fill-color: #174EA6;\n",
              "      --disabled-fill-color: #AAA;\n",
              "      --disabled-bg-color: #DDD;\n",
              "  }\n",
              "\n",
              "  [theme=dark] .colab-df-quickchart {\n",
              "      --bg-color: #3B4455;\n",
              "      --fill-color: #D2E3FC;\n",
              "      --hover-bg-color: #434B5C;\n",
              "      --hover-fill-color: #FFFFFF;\n",
              "      --disabled-bg-color: #3B4455;\n",
              "      --disabled-fill-color: #666;\n",
              "  }\n",
              "\n",
              "  .colab-df-quickchart {\n",
              "    background-color: var(--bg-color);\n",
              "    border: none;\n",
              "    border-radius: 50%;\n",
              "    cursor: pointer;\n",
              "    display: none;\n",
              "    fill: var(--fill-color);\n",
              "    height: 32px;\n",
              "    padding: 0;\n",
              "    width: 32px;\n",
              "  }\n",
              "\n",
              "  .colab-df-quickchart:hover {\n",
              "    background-color: var(--hover-bg-color);\n",
              "    box-shadow: 0 1px 2px rgba(60, 64, 67, 0.3), 0 1px 3px 1px rgba(60, 64, 67, 0.15);\n",
              "    fill: var(--button-hover-fill-color);\n",
              "  }\n",
              "\n",
              "  .colab-df-quickchart-complete:disabled,\n",
              "  .colab-df-quickchart-complete:disabled:hover {\n",
              "    background-color: var(--disabled-bg-color);\n",
              "    fill: var(--disabled-fill-color);\n",
              "    box-shadow: none;\n",
              "  }\n",
              "\n",
              "  .colab-df-spinner {\n",
              "    border: 2px solid var(--fill-color);\n",
              "    border-color: transparent;\n",
              "    border-bottom-color: var(--fill-color);\n",
              "    animation:\n",
              "      spin 1s steps(1) infinite;\n",
              "  }\n",
              "\n",
              "  @keyframes spin {\n",
              "    0% {\n",
              "      border-color: transparent;\n",
              "      border-bottom-color: var(--fill-color);\n",
              "      border-left-color: var(--fill-color);\n",
              "    }\n",
              "    20% {\n",
              "      border-color: transparent;\n",
              "      border-left-color: var(--fill-color);\n",
              "      border-top-color: var(--fill-color);\n",
              "    }\n",
              "    30% {\n",
              "      border-color: transparent;\n",
              "      border-left-color: var(--fill-color);\n",
              "      border-top-color: var(--fill-color);\n",
              "      border-right-color: var(--fill-color);\n",
              "    }\n",
              "    40% {\n",
              "      border-color: transparent;\n",
              "      border-right-color: var(--fill-color);\n",
              "      border-top-color: var(--fill-color);\n",
              "    }\n",
              "    60% {\n",
              "      border-color: transparent;\n",
              "      border-right-color: var(--fill-color);\n",
              "    }\n",
              "    80% {\n",
              "      border-color: transparent;\n",
              "      border-right-color: var(--fill-color);\n",
              "      border-bottom-color: var(--fill-color);\n",
              "    }\n",
              "    90% {\n",
              "      border-color: transparent;\n",
              "      border-bottom-color: var(--fill-color);\n",
              "    }\n",
              "  }\n",
              "</style>\n",
              "\n",
              "  <script>\n",
              "    async function quickchart(key) {\n",
              "      const quickchartButtonEl =\n",
              "        document.querySelector('#' + key + ' button');\n",
              "      quickchartButtonEl.disabled = true;  // To prevent multiple clicks.\n",
              "      quickchartButtonEl.classList.add('colab-df-spinner');\n",
              "      try {\n",
              "        const charts = await google.colab.kernel.invokeFunction(\n",
              "            'suggestCharts', [key], {});\n",
              "      } catch (error) {\n",
              "        console.error('Error during call to suggestCharts:', error);\n",
              "      }\n",
              "      quickchartButtonEl.classList.remove('colab-df-spinner');\n",
              "      quickchartButtonEl.classList.add('colab-df-quickchart-complete');\n",
              "    }\n",
              "    (() => {\n",
              "      let quickchartButtonEl =\n",
              "        document.querySelector('#df-399d4792-01d9-40a7-b1f0-b697a81a32f7 button');\n",
              "      quickchartButtonEl.style.display =\n",
              "        google.colab.kernel.accessAllowed ? 'block' : 'none';\n",
              "    })();\n",
              "  </script>\n",
              "</div>\n",
              "\n",
              "    </div>\n",
              "  </div>\n"
            ],
            "application/vnd.google.colaboratory.intrinsic+json": {
              "type": "dataframe",
              "summary": "{\n  \"name\": \"get_ipython()\",\n  \"rows\": 10,\n  \"fields\": [\n    {\n      \"column\": \"location\",\n      \"properties\": {\n        \"dtype\": \"string\",\n        \"num_unique_values\": 10,\n        \"samples\": [\n          \"Houston\",\n          \"Los Angeles\",\n          \"Chicago\"\n        ],\n        \"semantic_type\": \"\",\n        \"description\": \"\"\n      }\n    },\n    {\n      \"column\": \"Amount Received\",\n      \"properties\": {\n        \"dtype\": \"number\",\n        \"std\": 14441444787094.566,\n        \"min\": 11440818787150.314,\n        \"max\": 48775275998889.766,\n        \"num_unique_values\": 10,\n        \"samples\": [\n          11846035027993.281,\n          43979429395904.62,\n          19267086777143.758\n        ],\n        \"semantic_type\": \"\",\n        \"description\": \"\"\n      }\n    },\n    {\n      \"column\": \"Is Laundering\",\n      \"properties\": {\n        \"dtype\": \"number\",\n        \"std\": 1956,\n        \"min\": 3977,\n        \"max\": 10669,\n        \"num_unique_values\": 10,\n        \"samples\": [\n          3977,\n          5284,\n          4100\n        ],\n        \"semantic_type\": \"\",\n        \"description\": \"\"\n      }\n    }\n  ]\n}"
            }
          },
          "metadata": {},
          "execution_count": 10
        }
      ],
      "source": [
        "%%time\n",
        "# Aggregate-\n",
        "result=df_merged.groupby(\n",
        "    [\"location\"]).agg({\"Amount Received\":\"sum\",\"Is Laundering\":\"sum\"})\n",
        "\n",
        "filtered_result = result[result[\"Is Laundering\"] > 0 ].sort_values(by=\"Amount Received\", ascending=False)\n",
        "filtered_result.head(10)"
      ]
    },
    {
      "cell_type": "markdown",
      "metadata": {
        "id": "7omFYRJwc0pm"
      },
      "source": [
        "Note: This is based on mock data.\n",
        "\n",
        "Banks in `San Antonio` and `Dallas` have the most transactions associated with money laundering."
      ]
    },
    {
      "cell_type": "markdown",
      "metadata": {
        "id": "DRHE_kO5c0pm"
      },
      "source": [
        "# Analysis with `cudf.pandas`"
      ]
    },
    {
      "cell_type": "code",
      "source": [
        "# Restart notebook-\n",
        "get_ipython().kernel.do_shutdown(restart=True)"
      ],
      "metadata": {
        "id": "D3QTdzOMMx9L",
        "outputId": "3b6852b5-7409-4412-faef-f06be374e4f7",
        "colab": {
          "base_uri": "https://localhost:8080/"
        }
      },
      "execution_count": 6,
      "outputs": [
        {
          "output_type": "execute_result",
          "data": {
            "text/plain": [
              "{'status': 'ok', 'restart': True}"
            ]
          },
          "metadata": {},
          "execution_count": 6
        }
      ]
    },
    {
      "cell_type": "markdown",
      "metadata": {
        "id": "CacbskS1c0pm"
      },
      "source": [
        "Let's first install cuDF's latest version-"
      ]
    },
    {
      "cell_type": "code",
      "source": [
        "!pip install --extra-index-url=https://pypi.nvidia.com cudf-cu12==24.8.*"
      ],
      "metadata": {
        "id": "9N1JFQJoRb97"
      },
      "execution_count": null,
      "outputs": []
    },
    {
      "cell_type": "markdown",
      "metadata": {
        "id": "NCRTrSghc0pm"
      },
      "source": [
        "Typically, you should load the `cudf.pandas` extension as the first step in your notebook, before importing any modules. Here, we explicitly restart the kernel to simulate that behavior.\n",
        "\n",
        "Note: We just added the `%load_ext` and the rest of the code remains the same."
      ]
    },
    {
      "cell_type": "code",
      "execution_count": 2,
      "metadata": {
        "id": "ymNyC4Htc0pm"
      },
      "outputs": [],
      "source": [
        "%load_ext cudf.pandas"
      ]
    },
    {
      "cell_type": "markdown",
      "metadata": {
        "id": "JqSMliefc0pm"
      },
      "source": [
        "Before we load data, lets use the `rmm` library to make sure we are tracking GPU utilization. We just wrap a `StatisticsResourceAdaptor` on our memory resource to see what our memory allocations were for the upcoming operations.\n"
      ]
    },
    {
      "cell_type": "code",
      "execution_count": 3,
      "metadata": {
        "id": "LDcrxWskc0pm"
      },
      "outputs": [],
      "source": [
        "import rmm\n",
        "stats_mr = rmm.mr.StatisticsResourceAdaptor(\n",
        "    rmm.mr.get_current_device_resource())\n",
        "rmm.mr.set_current_device_resource(stats_mr)"
      ]
    },
    {
      "cell_type": "markdown",
      "metadata": {
        "id": "-cQpEQPLc0pm"
      },
      "source": [
        " Let's use the rmm library to track GPU memory usage."
      ]
    },
    {
      "cell_type": "code",
      "execution_count": 4,
      "metadata": {
        "id": "AWY0QQuec0pm"
      },
      "outputs": [],
      "source": [
        "import pandas as pd"
      ]
    },
    {
      "cell_type": "markdown",
      "metadata": {
        "id": "Y3E14g2cc0pm"
      },
      "source": [
        "We'll run the same code as above to get a feel what GPU-acceleration brings to pandas workflows!"
      ]
    },
    {
      "cell_type": "code",
      "execution_count": 5,
      "metadata": {
        "id": "LVpS5-Cpc0pm",
        "outputId": "07b6835c-3c04-439f-af1c-338381711af5",
        "colab": {
          "base_uri": "https://localhost:8080/",
          "height": 608
        }
      },
      "outputs": [
        {
          "output_type": "stream",
          "name": "stderr",
          "text": [
            "\n",
            "PYDEV DEBUGGER WARNING:\n",
            "sys.settrace() should not be used when the debugger is being used.\n",
            "This may cause the debugger to stop working correctly.\n",
            "If this is needed, please check: \n",
            "http://pydev.blogspot.com/2007/06/why-cant-pydev-debugger-work-with.html\n",
            "to see how to restore the debug tracing back correctly.\n",
            "Call Location:\n",
            "  File \"/usr/local/lib/python3.10/dist-packages/cudf/pandas/profiler.py\", line 97, in __enter__\n",
            "    sys.settrace(self._tracefunc)\n",
            "\n",
            "\n",
            "PYDEV DEBUGGER WARNING:\n",
            "sys.settrace() should not be used when the debugger is being used.\n",
            "This may cause the debugger to stop working correctly.\n",
            "If this is needed, please check: \n",
            "http://pydev.blogspot.com/2007/06/why-cant-pydev-debugger-work-with.html\n",
            "to see how to restore the debug tracing back correctly.\n",
            "Call Location:\n",
            "  File \"/usr/local/lib/python3.10/dist-packages/cudf/pandas/profiler.py\", line 116, in __exit__\n",
            "    sys.settrace(self._oldtrace)\n",
            "\n"
          ]
        },
        {
          "output_type": "display_data",
          "data": {
            "text/plain": [
              "\u001b[3m                                                                                                  \u001b[0m\n",
              "\u001b[3m                                    Total time elapsed: 3.278 seconds                             \u001b[0m\n",
              "\u001b[3m                                  1 GPU function calls in 2.948 seconds                           \u001b[0m\n",
              "\u001b[3m                                  0 CPU function calls in 0.000 seconds                           \u001b[0m\n",
              "\u001b[3m                                                                                                  \u001b[0m\n",
              "\u001b[3m                                                  Stats                                           \u001b[0m\n",
              "\u001b[3m                                                                                                  \u001b[0m\n",
              "┏━━━━━━━━━━━━━━┳━━━━━━━━━━━━┳━━━━━━━━━━━━━┳━━━━━━━━━━━━━┳━━━━━━━━━━━━┳━━━━━━━━━━━━━┳━━━━━━━━━━━━━┓\n",
              "┃\u001b[1m \u001b[0m\u001b[1mFunction    \u001b[0m\u001b[1m \u001b[0m┃\u001b[1m \u001b[0m\u001b[1mGPU ncalls\u001b[0m\u001b[1m \u001b[0m┃\u001b[1m \u001b[0m\u001b[1mGPU cumtime\u001b[0m\u001b[1m \u001b[0m┃\u001b[1m \u001b[0m\u001b[1mGPU percall\u001b[0m\u001b[1m \u001b[0m┃\u001b[1m \u001b[0m\u001b[1mCPU ncalls\u001b[0m\u001b[1m \u001b[0m┃\u001b[1m \u001b[0m\u001b[1mCPU cumtime\u001b[0m\u001b[1m \u001b[0m┃\u001b[1m \u001b[0m\u001b[1mCPU percall\u001b[0m\u001b[1m \u001b[0m┃\n",
              "┡━━━━━━━━━━━━━━╇━━━━━━━━━━━━╇━━━━━━━━━━━━━╇━━━━━━━━━━━━━╇━━━━━━━━━━━━╇━━━━━━━━━━━━━╇━━━━━━━━━━━━━┩\n",
              "│ read_parquet │ 1          │ 2.948       │ 2.948       │ 0          │ 0.000       │ 0.000       │\n",
              "└──────────────┴────────────┴─────────────┴─────────────┴────────────┴─────────────┴─────────────┘\n"
            ],
            "text/html": [
              "<pre style=\"white-space:pre;overflow-x:auto;line-height:normal;font-family:Menlo,'DejaVu Sans Mono',consolas,'Courier New',monospace\"><span style=\"font-style: italic\">                                                                                                  </span>\n",
              "<span style=\"font-style: italic\">                                    Total time elapsed: 3.278 seconds                             </span>\n",
              "<span style=\"font-style: italic\">                                  1 GPU function calls in 2.948 seconds                           </span>\n",
              "<span style=\"font-style: italic\">                                  0 CPU function calls in 0.000 seconds                           </span>\n",
              "<span style=\"font-style: italic\">                                                                                                  </span>\n",
              "<span style=\"font-style: italic\">                                                  Stats                                           </span>\n",
              "<span style=\"font-style: italic\">                                                                                                  </span>\n",
              "┏━━━━━━━━━━━━━━┳━━━━━━━━━━━━┳━━━━━━━━━━━━━┳━━━━━━━━━━━━━┳━━━━━━━━━━━━┳━━━━━━━━━━━━━┳━━━━━━━━━━━━━┓\n",
              "┃<span style=\"font-weight: bold\"> Function     </span>┃<span style=\"font-weight: bold\"> GPU ncalls </span>┃<span style=\"font-weight: bold\"> GPU cumtime </span>┃<span style=\"font-weight: bold\"> GPU percall </span>┃<span style=\"font-weight: bold\"> CPU ncalls </span>┃<span style=\"font-weight: bold\"> CPU cumtime </span>┃<span style=\"font-weight: bold\"> CPU percall </span>┃\n",
              "┡━━━━━━━━━━━━━━╇━━━━━━━━━━━━╇━━━━━━━━━━━━━╇━━━━━━━━━━━━━╇━━━━━━━━━━━━╇━━━━━━━━━━━━━╇━━━━━━━━━━━━━┩\n",
              "│ read_parquet │ 1          │ 2.948       │ 2.948       │ 0          │ 0.000       │ 0.000       │\n",
              "└──────────────┴────────────┴─────────────┴─────────────┴────────────┴─────────────┴─────────────┘\n",
              "</pre>\n"
            ]
          },
          "metadata": {}
        }
      ],
      "source": [
        "%%cudf.pandas.profile\n",
        "df_transactions = pd.read_parquet('HI-Large_Trans_reduced.parquet')"
      ]
    },
    {
      "cell_type": "code",
      "execution_count": 6,
      "metadata": {
        "id": "YVRWxqz5c0pp",
        "outputId": "bc7f6249-d0c6-46b8-d8db-26c76d2db1fe",
        "colab": {
          "base_uri": "https://localhost:8080/",
          "height": 491
        }
      },
      "outputs": [
        {
          "output_type": "stream",
          "name": "stdout",
          "text": [
            "CPU times: user 2.77 s, sys: 2.06 s, total: 4.83 s\n",
            "Wall time: 6.05 s\n"
          ]
        },
        {
          "output_type": "execute_result",
          "data": {
            "text/plain": [
              "                             Amount Received\n",
              "From Bank Payment Currency                  \n",
              "0         Australian Dollar     2.593470e+05\n",
              "          Bitcoin               1.236489e+03\n",
              "          Brazil Real           6.402262e+08\n",
              "          Canadian Dollar       4.724067e+05\n",
              "          Euro                  7.410547e+09\n",
              "...                                      ...\n",
              "3225441   Bitcoin               1.981200e-02\n",
              "3225444   Bitcoin               4.904000e-02\n",
              "3225451   US Dollar             2.820300e+02\n",
              "3225454   US Dollar             3.459300e+03\n",
              "3225455   Bitcoin               2.543745e+00\n",
              "\n",
              "[144488 rows x 1 columns]"
            ],
            "text/html": [
              "\n",
              "  <div id=\"df-eae61e00-fb1a-457c-87e5-ae3d6be874ca\" class=\"colab-df-container\">\n",
              "    <div>\n",
              "<style scoped>\n",
              "    .dataframe tbody tr th:only-of-type {\n",
              "        vertical-align: middle;\n",
              "    }\n",
              "\n",
              "    .dataframe tbody tr th {\n",
              "        vertical-align: top;\n",
              "    }\n",
              "\n",
              "    .dataframe thead th {\n",
              "        text-align: right;\n",
              "    }\n",
              "</style>\n",
              "<table border=\"1\" class=\"dataframe\">\n",
              "  <thead>\n",
              "    <tr style=\"text-align: right;\">\n",
              "      <th></th>\n",
              "      <th></th>\n",
              "      <th>Amount Received</th>\n",
              "    </tr>\n",
              "    <tr>\n",
              "      <th>From Bank</th>\n",
              "      <th>Payment Currency</th>\n",
              "      <th></th>\n",
              "    </tr>\n",
              "  </thead>\n",
              "  <tbody>\n",
              "    <tr>\n",
              "      <th rowspan=\"5\" valign=\"top\">0</th>\n",
              "      <th>Australian Dollar</th>\n",
              "      <td>2.593470e+05</td>\n",
              "    </tr>\n",
              "    <tr>\n",
              "      <th>Bitcoin</th>\n",
              "      <td>1.236489e+03</td>\n",
              "    </tr>\n",
              "    <tr>\n",
              "      <th>Brazil Real</th>\n",
              "      <td>6.402262e+08</td>\n",
              "    </tr>\n",
              "    <tr>\n",
              "      <th>Canadian Dollar</th>\n",
              "      <td>4.724067e+05</td>\n",
              "    </tr>\n",
              "    <tr>\n",
              "      <th>Euro</th>\n",
              "      <td>7.410547e+09</td>\n",
              "    </tr>\n",
              "    <tr>\n",
              "      <th>...</th>\n",
              "      <th>...</th>\n",
              "      <td>...</td>\n",
              "    </tr>\n",
              "    <tr>\n",
              "      <th>3225441</th>\n",
              "      <th>Bitcoin</th>\n",
              "      <td>1.981200e-02</td>\n",
              "    </tr>\n",
              "    <tr>\n",
              "      <th>3225444</th>\n",
              "      <th>Bitcoin</th>\n",
              "      <td>4.904000e-02</td>\n",
              "    </tr>\n",
              "    <tr>\n",
              "      <th>3225451</th>\n",
              "      <th>US Dollar</th>\n",
              "      <td>2.820300e+02</td>\n",
              "    </tr>\n",
              "    <tr>\n",
              "      <th>3225454</th>\n",
              "      <th>US Dollar</th>\n",
              "      <td>3.459300e+03</td>\n",
              "    </tr>\n",
              "    <tr>\n",
              "      <th>3225455</th>\n",
              "      <th>Bitcoin</th>\n",
              "      <td>2.543745e+00</td>\n",
              "    </tr>\n",
              "  </tbody>\n",
              "</table>\n",
              "<p>144488 rows × 1 columns</p>\n",
              "</div>\n",
              "    <div class=\"colab-df-buttons\">\n",
              "\n",
              "  <div class=\"colab-df-container\">\n",
              "    <button class=\"colab-df-convert\" onclick=\"convertToInteractive('df-eae61e00-fb1a-457c-87e5-ae3d6be874ca')\"\n",
              "            title=\"Convert this dataframe to an interactive table.\"\n",
              "            style=\"display:none;\">\n",
              "\n",
              "  <svg xmlns=\"http://www.w3.org/2000/svg\" height=\"24px\" viewBox=\"0 -960 960 960\">\n",
              "    <path d=\"M120-120v-720h720v720H120Zm60-500h600v-160H180v160Zm220 220h160v-160H400v160Zm0 220h160v-160H400v160ZM180-400h160v-160H180v160Zm440 0h160v-160H620v160ZM180-180h160v-160H180v160Zm440 0h160v-160H620v160Z\"/>\n",
              "  </svg>\n",
              "    </button>\n",
              "\n",
              "  <style>\n",
              "    .colab-df-container {\n",
              "      display:flex;\n",
              "      gap: 12px;\n",
              "    }\n",
              "\n",
              "    .colab-df-convert {\n",
              "      background-color: #E8F0FE;\n",
              "      border: none;\n",
              "      border-radius: 50%;\n",
              "      cursor: pointer;\n",
              "      display: none;\n",
              "      fill: #1967D2;\n",
              "      height: 32px;\n",
              "      padding: 0 0 0 0;\n",
              "      width: 32px;\n",
              "    }\n",
              "\n",
              "    .colab-df-convert:hover {\n",
              "      background-color: #E2EBFA;\n",
              "      box-shadow: 0px 1px 2px rgba(60, 64, 67, 0.3), 0px 1px 3px 1px rgba(60, 64, 67, 0.15);\n",
              "      fill: #174EA6;\n",
              "    }\n",
              "\n",
              "    .colab-df-buttons div {\n",
              "      margin-bottom: 4px;\n",
              "    }\n",
              "\n",
              "    [theme=dark] .colab-df-convert {\n",
              "      background-color: #3B4455;\n",
              "      fill: #D2E3FC;\n",
              "    }\n",
              "\n",
              "    [theme=dark] .colab-df-convert:hover {\n",
              "      background-color: #434B5C;\n",
              "      box-shadow: 0px 1px 3px 1px rgba(0, 0, 0, 0.15);\n",
              "      filter: drop-shadow(0px 1px 2px rgba(0, 0, 0, 0.3));\n",
              "      fill: #FFFFFF;\n",
              "    }\n",
              "  </style>\n",
              "\n",
              "    <script>\n",
              "      const buttonEl =\n",
              "        document.querySelector('#df-eae61e00-fb1a-457c-87e5-ae3d6be874ca button.colab-df-convert');\n",
              "      buttonEl.style.display =\n",
              "        google.colab.kernel.accessAllowed ? 'block' : 'none';\n",
              "\n",
              "      async function convertToInteractive(key) {\n",
              "        const element = document.querySelector('#df-eae61e00-fb1a-457c-87e5-ae3d6be874ca');\n",
              "        const dataTable =\n",
              "          await google.colab.kernel.invokeFunction('convertToInteractive',\n",
              "                                                    [key], {});\n",
              "        if (!dataTable) return;\n",
              "\n",
              "        const docLinkHtml = 'Like what you see? Visit the ' +\n",
              "          '<a target=\"_blank\" href=https://colab.research.google.com/notebooks/data_table.ipynb>data table notebook</a>'\n",
              "          + ' to learn more about interactive tables.';\n",
              "        element.innerHTML = '';\n",
              "        dataTable['output_type'] = 'display_data';\n",
              "        await google.colab.output.renderOutput(dataTable, element);\n",
              "        const docLink = document.createElement('div');\n",
              "        docLink.innerHTML = docLinkHtml;\n",
              "        element.appendChild(docLink);\n",
              "      }\n",
              "    </script>\n",
              "  </div>\n",
              "\n",
              "\n",
              "<div id=\"df-0092cf12-62e8-4a00-9283-ab642a23bfda\">\n",
              "  <button class=\"colab-df-quickchart\" onclick=\"quickchart('df-0092cf12-62e8-4a00-9283-ab642a23bfda')\"\n",
              "            title=\"Suggest charts\"\n",
              "            style=\"display:none;\">\n",
              "\n",
              "<svg xmlns=\"http://www.w3.org/2000/svg\" height=\"24px\"viewBox=\"0 0 24 24\"\n",
              "     width=\"24px\">\n",
              "    <g>\n",
              "        <path d=\"M19 3H5c-1.1 0-2 .9-2 2v14c0 1.1.9 2 2 2h14c1.1 0 2-.9 2-2V5c0-1.1-.9-2-2-2zM9 17H7v-7h2v7zm4 0h-2V7h2v10zm4 0h-2v-4h2v4z\"/>\n",
              "    </g>\n",
              "</svg>\n",
              "  </button>\n",
              "\n",
              "<style>\n",
              "  .colab-df-quickchart {\n",
              "      --bg-color: #E8F0FE;\n",
              "      --fill-color: #1967D2;\n",
              "      --hover-bg-color: #E2EBFA;\n",
              "      --hover-fill-color: #174EA6;\n",
              "      --disabled-fill-color: #AAA;\n",
              "      --disabled-bg-color: #DDD;\n",
              "  }\n",
              "\n",
              "  [theme=dark] .colab-df-quickchart {\n",
              "      --bg-color: #3B4455;\n",
              "      --fill-color: #D2E3FC;\n",
              "      --hover-bg-color: #434B5C;\n",
              "      --hover-fill-color: #FFFFFF;\n",
              "      --disabled-bg-color: #3B4455;\n",
              "      --disabled-fill-color: #666;\n",
              "  }\n",
              "\n",
              "  .colab-df-quickchart {\n",
              "    background-color: var(--bg-color);\n",
              "    border: none;\n",
              "    border-radius: 50%;\n",
              "    cursor: pointer;\n",
              "    display: none;\n",
              "    fill: var(--fill-color);\n",
              "    height: 32px;\n",
              "    padding: 0;\n",
              "    width: 32px;\n",
              "  }\n",
              "\n",
              "  .colab-df-quickchart:hover {\n",
              "    background-color: var(--hover-bg-color);\n",
              "    box-shadow: 0 1px 2px rgba(60, 64, 67, 0.3), 0 1px 3px 1px rgba(60, 64, 67, 0.15);\n",
              "    fill: var(--button-hover-fill-color);\n",
              "  }\n",
              "\n",
              "  .colab-df-quickchart-complete:disabled,\n",
              "  .colab-df-quickchart-complete:disabled:hover {\n",
              "    background-color: var(--disabled-bg-color);\n",
              "    fill: var(--disabled-fill-color);\n",
              "    box-shadow: none;\n",
              "  }\n",
              "\n",
              "  .colab-df-spinner {\n",
              "    border: 2px solid var(--fill-color);\n",
              "    border-color: transparent;\n",
              "    border-bottom-color: var(--fill-color);\n",
              "    animation:\n",
              "      spin 1s steps(1) infinite;\n",
              "  }\n",
              "\n",
              "  @keyframes spin {\n",
              "    0% {\n",
              "      border-color: transparent;\n",
              "      border-bottom-color: var(--fill-color);\n",
              "      border-left-color: var(--fill-color);\n",
              "    }\n",
              "    20% {\n",
              "      border-color: transparent;\n",
              "      border-left-color: var(--fill-color);\n",
              "      border-top-color: var(--fill-color);\n",
              "    }\n",
              "    30% {\n",
              "      border-color: transparent;\n",
              "      border-left-color: var(--fill-color);\n",
              "      border-top-color: var(--fill-color);\n",
              "      border-right-color: var(--fill-color);\n",
              "    }\n",
              "    40% {\n",
              "      border-color: transparent;\n",
              "      border-right-color: var(--fill-color);\n",
              "      border-top-color: var(--fill-color);\n",
              "    }\n",
              "    60% {\n",
              "      border-color: transparent;\n",
              "      border-right-color: var(--fill-color);\n",
              "    }\n",
              "    80% {\n",
              "      border-color: transparent;\n",
              "      border-right-color: var(--fill-color);\n",
              "      border-bottom-color: var(--fill-color);\n",
              "    }\n",
              "    90% {\n",
              "      border-color: transparent;\n",
              "      border-bottom-color: var(--fill-color);\n",
              "    }\n",
              "  }\n",
              "</style>\n",
              "\n",
              "  <script>\n",
              "    async function quickchart(key) {\n",
              "      const quickchartButtonEl =\n",
              "        document.querySelector('#' + key + ' button');\n",
              "      quickchartButtonEl.disabled = true;  // To prevent multiple clicks.\n",
              "      quickchartButtonEl.classList.add('colab-df-spinner');\n",
              "      try {\n",
              "        const charts = await google.colab.kernel.invokeFunction(\n",
              "            'suggestCharts', [key], {});\n",
              "      } catch (error) {\n",
              "        console.error('Error during call to suggestCharts:', error);\n",
              "      }\n",
              "      quickchartButtonEl.classList.remove('colab-df-spinner');\n",
              "      quickchartButtonEl.classList.add('colab-df-quickchart-complete');\n",
              "    }\n",
              "    (() => {\n",
              "      let quickchartButtonEl =\n",
              "        document.querySelector('#df-0092cf12-62e8-4a00-9283-ab642a23bfda button');\n",
              "      quickchartButtonEl.style.display =\n",
              "        google.colab.kernel.accessAllowed ? 'block' : 'none';\n",
              "    })();\n",
              "  </script>\n",
              "</div>\n",
              "\n",
              "    </div>\n",
              "  </div>\n"
            ],
            "application/vnd.google.colaboratory.intrinsic+json": {
              "type": "dataframe"
            }
          },
          "metadata": {},
          "execution_count": 6
        }
      ],
      "source": [
        "%%time\n",
        "# Aggregate-\n",
        "df_transactions[[\"From Bank\",\"Payment Currency\",\"Amount Received\"]].groupby(\n",
        "    [\"From Bank\",\"Payment Currency\"]).agg({\"Amount Received\":\"sum\"})"
      ]
    },
    {
      "cell_type": "markdown",
      "source": [
        "This was much faster than before! We were able to get the processing time down for `groupby` operation by 5x.\n"
      ],
      "metadata": {
        "id": "HqW3CGimEr5z"
      }
    },
    {
      "cell_type": "markdown",
      "source": [
        "# Can we really handle workloads larger than GPU memory?"
      ],
      "metadata": {
        "id": "thB4qD-GEkkU"
      }
    },
    {
      "cell_type": "code",
      "source": [
        "print(f\"Total memory usage {round(stats_mr.allocation_counts.current_bytes/(1024**3),0)} GB\")"
      ],
      "metadata": {
        "colab": {
          "base_uri": "https://localhost:8080/"
        },
        "id": "7MHXCxpABkLK",
        "outputId": "11a5cb0a-47cd-4e87-beb5-f72718ca6275"
      },
      "execution_count": 7,
      "outputs": [
        {
          "output_type": "stream",
          "name": "stdout",
          "text": [
            "Total memory usage 10.0 GB\n"
          ]
        }
      ]
    },
    {
      "cell_type": "code",
      "source": [
        "print(f\"Peak memory usage {round(stats_mr.allocation_counts.peak_bytes/(1024**3),0)} GB\")"
      ],
      "metadata": {
        "colab": {
          "base_uri": "https://localhost:8080/"
        },
        "id": "hubsPpBJBn0o",
        "outputId": "e04185a1-d4a2-407e-a576-be3e7aad45da"
      },
      "execution_count": 8,
      "outputs": [
        {
          "output_type": "stream",
          "name": "stdout",
          "text": [
            "Peak memory usage 17.0 GB\n"
          ]
        }
      ]
    },
    {
      "cell_type": "markdown",
      "source": [
        "It's interesting to see that peak memory usage was higher than the GPU memory (16 GB) and yet we saw speedups from 5 minutes to around 30 seconds. It is because of the ability to process larger than GPU memory workloads with `cudf.pandas`.\n"
      ],
      "metadata": {
        "id": "MjUGfB-LB1Bf"
      }
    },
    {
      "cell_type": "markdown",
      "metadata": {
        "id": "ONrRVX0Wc0pp"
      },
      "source": [
        "We are seeing speedups for large datasets with `cudf.pandas` without changing even a single line of pandas code! This can be attributed to better memory management attributed to managed memory pool and prefetching concepts we explained in the beginning of the notebook. see this <a href=\"https://developer.nvidia.com/blog/improving-gpu-memory-oversubscription-performance/\">NVIDIA Developer blog post</a> for more details.\n",
        "\n",
        "## But what happens if we switch off managed memory feature?"
      ]
    },
    {
      "cell_type": "code",
      "execution_count": 9,
      "metadata": {
        "id": "vho_1hKoc0pp",
        "outputId": "e60cf6ce-09a7-4804-e97c-1e7be06f94b0",
        "colab": {
          "base_uri": "https://localhost:8080/"
        }
      },
      "outputs": [
        {
          "output_type": "execute_result",
          "data": {
            "text/plain": [
              "{'status': 'ok', 'restart': True}"
            ]
          },
          "metadata": {},
          "execution_count": 9
        }
      ],
      "source": [
        "# Restart notebook-\n",
        "get_ipython().kernel.do_shutdown(restart=True)"
      ]
    },
    {
      "cell_type": "markdown",
      "metadata": {
        "id": "WQxP4KcTc0pp"
      },
      "source": [
        "`cudf.pandas` provides an environment variable `CUDF_PANDAS_RMM_MODE` that you can set to `cuda` to turn off managed memory. For more details see, https://docs.rapids.ai/api/cudf/stable/cudf_pandas/how-it-works/ ."
      ]
    },
    {
      "cell_type": "code",
      "execution_count": null,
      "metadata": {
        "id": "K3DfOnGYc0pp"
      },
      "outputs": [],
      "source": [
        "%env CUDF_PANDAS_RMM_MODE=cuda\n",
        "\n",
        "import os\n",
        "# Step 3: Verify the environment variable\n",
        "print(os.environ['CUDF_PANDAS_RMM_MODE'])"
      ]
    },
    {
      "cell_type": "code",
      "execution_count": 2,
      "metadata": {
        "id": "iP24Y-o_c0pq"
      },
      "outputs": [],
      "source": [
        "%load_ext cudf.pandas\n",
        "import pandas as pd"
      ]
    },
    {
      "cell_type": "markdown",
      "source": [
        "**WARNING**: Executing the below cell would crash your colab session due to system memory constraints -- managed memory prevented that in the previous run"
      ],
      "metadata": {
        "id": "GlAcwWy2AvP0"
      }
    },
    {
      "cell_type": "code",
      "source": [
        "%%cudf.pandas.profile\n",
        "df_transactions = pd.read_parquet('/content/HI-Large_Trans_reduced.parquet')"
      ],
      "metadata": {
        "id": "YZNgAhUhAlxT"
      },
      "execution_count": null,
      "outputs": []
    },
    {
      "cell_type": "markdown",
      "source": [
        "Note: The above cell would crash your colab session on a free tier because\n",
        "\n",
        "1. Without managed memory GPU couldn't load the entire dataset, leading to `out of memory` issues\n",
        "2. The execution falls back to CPU gracefully\n",
        "3. CPU memory limit of 12.7 GB (on free tier) couldn't handle a 10 GB dataset because of higher peak memory requirements.\n",
        "\n",
        "This didn't happen in earlier execution of `cudf.pandas` with managed memory (set by default). Seamless execution between CPU and GPU through managed memory comes to resue!"
      ],
      "metadata": {
        "id": "s757FrXbAx06"
      }
    },
    {
      "cell_type": "markdown",
      "metadata": {
        "id": "kd_WhHatc0pq"
      },
      "source": [
        "# Summary\n",
        "\n",
        "With cudf.pandas, you can keep using pandas as your primary dataframe library. When things start to get a little slow, just load the `cudf.pandas` extension and enjoy the incredible speedups.\n",
        "\n",
        "If you like Google Colab and want to get peak `cudf.pandas` performance to process even larger datasets, Google Colab's paid tier includes both L4 and A100 GPUs (in addition to the T4 GPU this demo notebook is using).\n",
        "\n",
        "To learn more about cudf.pandas, we encourage you to visit https://rapids.ai/cudf-pandas."
      ]
    },
    {
      "cell_type": "markdown",
      "metadata": {
        "id": "qOxggW08c0pq"
      },
      "source": [
        "# Do you have any feedback for us?"
      ]
    },
    {
      "cell_type": "markdown",
      "metadata": {
        "id": "qyBcLnUtc0pq"
      },
      "source": [
        "Fill this quick survey <a href=\"https://www.surveymonkey.com/r/TX3QQQR\">HERE</a>\n",
        "\n",
        "Raise an issue on our github repo <a href=\"https://github.com/rapidsai/cudf/issues\">HERE</a>"
      ]
    }
  ],
  "metadata": {
    "kernelspec": {
      "display_name": "Python 3",
      "name": "python3"
    },
    "language_info": {
      "name": "python"
    },
    "colab": {
      "provenance": [],
      "gpuType": "T4"
    },
    "accelerator": "GPU"
  },
  "nbformat": 4,
  "nbformat_minor": 0
}
