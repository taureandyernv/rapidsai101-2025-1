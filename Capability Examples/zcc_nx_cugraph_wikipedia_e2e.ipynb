{
 "cells": [
  {
   "cell_type": "markdown",
   "metadata": {
    "id": "x7aMYrwpiDyz"
   },
   "source": [
    "# End-to-End Demo\n",
    "## Running Pagerank on Wikipedia With vs. Without `nx-cugraph`\n",
    "\n",
    "This notebook demonstrates a zero code change, end-to-end workflow using `cudf.pandas` and `nx-cugraph`.\n",
    "\n",
    "Please see the [System Requirements](https://docs.rapids.ai/api/cugraph/stable/nx_cugraph/installation/#system-requirements) in order to run this notebook."
   ]
  },
  {
   "cell_type": "code",
   "execution_count": 1,
   "metadata": {
    "colab": {
     "base_uri": "https://localhost:8080/"
    },
    "id": "caioaKAHiDy3",
    "outputId": "9b4dfc51-8d75-4386-9296-5bdf3790c5bc"
   },
   "outputs": [
    {
     "name": "stdout",
     "output_type": "stream",
     "text": [
      "env: NX_CUGRAPH_AUTOCONFIG=True\n"
     ]
    }
   ],
   "source": [
    "# Uncomment these two lines to enable GPU acceleration\n",
    "# The rest of the code stays the same!\n",
    "\n",
    "%load_ext cudf.pandas\n",
    "%env NX_CUGRAPH_AUTOCONFIG=True"
   ]
  },
  {
   "cell_type": "code",
   "execution_count": 2,
   "metadata": {
    "id": "fQsXbML0NDDh"
   },
   "outputs": [],
   "source": [
    "import pandas as pd\n",
    "import networkx as nx"
   ]
  },
  {
   "cell_type": "markdown",
   "metadata": {
    "id": "6FwLpFboiDy5"
   },
   "source": [
    "Downloading the data"
   ]
  },
  {
   "cell_type": "code",
   "execution_count": 3,
   "metadata": {
    "id": "VTZysiOqOr3H"
   },
   "outputs": [],
   "source": [
    "import gzip\n",
    "import shutil\n",
    "import urllib.request\n",
    "from pathlib import Path\n",
    "\n",
    "# Get the data\n",
    "def download_datafile(url, file_path):\n",
    "    compressed_path = file_path + \".gz\"\n",
    "\n",
    "    if not Path(file_path).exists():\n",
    "        print(f\"File not found. Downloading from {url}...\")\n",
    "        urllib.request.urlretrieve(url, compressed_path)\n",
    "\n",
    "        print(f\"\\tDownloaded to {compressed_path}. Unzipping...\")\n",
    "        with gzip.open(compressed_path, 'rb') as f_in, open(file_path, 'wb') as f_out:\n",
    "            shutil.copyfileobj(f_in, f_out)\n",
    "\n",
    "        print(\"Done.\")\n",
    "    else:\n",
    "        print(f\"File already exists at {file_path}. Skipping download\")"
   ]
  },
  {
   "cell_type": "code",
   "execution_count": 4,
   "metadata": {},
   "outputs": [
    {
     "name": "stdout",
     "output_type": "stream",
     "text": [
      "creating wiki data directory\n"
     ]
    }
   ],
   "source": [
    "import os \n",
    "import urllib.request\n",
    "top_dir = \"./data/\"\n",
    "if not os.path.exists(top_dir):\n",
    "    print('creating data directory')\n",
    "    os.system('mkdir ./data')\n",
    "data_dir = './data/wiki/'\n",
    "if not os.path.exists(data_dir):\n",
    "    print('creating wiki data directory')\n",
    "    os.system('mkdir ./data/wiki/')"
   ]
  },
  {
   "cell_type": "code",
   "execution_count": 5,
   "metadata": {
    "colab": {
     "base_uri": "https://localhost:8080/"
    },
    "id": "71o3rsvRiDy6",
    "outputId": "5b76fd27-1fe8-4bfb-99a7-746ba040db69"
   },
   "outputs": [
    {
     "name": "stdout",
     "output_type": "stream",
     "text": [
      "File not found. Downloading from https://data.rapids.ai/cugraph/benchmark/enwiki-20240620-nodeids.csv.gz...\n",
      "\tDownloaded to ./data/wiki/enwiki-20240620-nodeids.csv.gz. Unzipping...\n",
      "Done.\n",
      "File not found. Downloading from https://data.rapids.ai/cugraph/benchmark/enwiki-20240620-edges.csv.gz...\n",
      "\tDownloaded to ./data/wiki/enwiki-20240620-edges.csv.gz. Unzipping...\n",
      "Done.\n"
     ]
    }
   ],
   "source": [
    "nodedata_url=\"https://data.rapids.ai/cugraph/benchmark/enwiki-20240620-nodeids.csv.gz\"\n",
    "nodedata_path = data_dir+\"enwiki-20240620-nodeids.csv\"\n",
    "download_datafile(nodedata_url, nodedata_path)\n",
    "\n",
    "edgelist_url=\"https://data.rapids.ai/cugraph/benchmark/enwiki-20240620-edges.csv.gz\"\n",
    "edgelist_path = data_dir+\"enwiki-20240620-edges.csv\"\n",
    "download_datafile(edgelist_url, edgelist_path)"
   ]
  },
  {
   "cell_type": "markdown",
   "metadata": {
    "id": "7mHFaMtdO3_Z"
   },
   "source": [
    "The dataset used in this script falls under the Creative Common Attribution-ShareAlike 4.0 International (CC BY-SA 4.0) License, available at https://creativecommons.org/licenses/by-sa/4.0/legalcode.en"
   ]
  },
  {
   "cell_type": "markdown",
   "metadata": {
    "id": "1NsIwM02iDy7"
   },
   "source": [
    "Timed end-to-end code"
   ]
  },
  {
   "cell_type": "code",
   "execution_count": 6,
   "metadata": {
    "colab": {
     "base_uri": "https://localhost:8080/"
    },
    "id": "qLM-hdWZiDy7",
    "outputId": "2cec80bf-fae5-44b8-f57c-f58b7b994e97"
   },
   "outputs": [
    {
     "name": "stdout",
     "output_type": "stream",
     "text": [
      "CPU times: user 3.17 s, sys: 1.8 s, total: 4.97 s\n",
      "Wall time: 2.32 s\n"
     ]
    }
   ],
   "source": [
    "%%time\n",
    "\n",
    "# Read the Wikipedia Connectivity data from `edgelist_path`\n",
    "edgelist_df = pd.read_csv(\n",
    "    edgelist_path,\n",
    "    sep=\" \",\n",
    "    names=[\"src\", \"dst\"],\n",
    "    dtype=\"int32\",\n",
    ")"
   ]
  },
  {
   "cell_type": "code",
   "execution_count": 7,
   "metadata": {
    "colab": {
     "base_uri": "https://localhost:8080/"
    },
    "id": "8UIsAc1MmjIS",
    "outputId": "c99bc050-bed4-4e83-d7b0-c4cb9ca6189f"
   },
   "outputs": [
    {
     "name": "stdout",
     "output_type": "stream",
     "text": [
      "CPU times: user 471 ms, sys: 314 ms, total: 785 ms\n",
      "Wall time: 293 ms\n"
     ]
    }
   ],
   "source": [
    "%%time\n",
    "\n",
    "# Read the Wikipedia Page metadata from `nodedata_path`\n",
    "nodedata_df = pd.read_csv(\n",
    "    nodedata_path,\n",
    "    sep=\"\\t\",\n",
    "    names=[\"nodeid\", \"title\"],\n",
    "    dtype={\"nodeid\": \"int32\", \"title\": \"str\"},\n",
    ")"
   ]
  },
  {
   "cell_type": "code",
   "execution_count": 8,
   "metadata": {
    "id": "IcqAvqCImmTr"
   },
   "outputs": [
    {
     "name": "stdout",
     "output_type": "stream",
     "text": [
      "CPU times: user 6.25 s, sys: 3.2 s, total: 9.45 s\n",
      "Wall time: 9.44 s\n"
     ]
    }
   ],
   "source": [
    "%%time\n",
    "\n",
    "# Create a NetworkX graph from the connectivity info\n",
    "G = nx.from_pandas_edgelist(\n",
    "    edgelist_df,\n",
    "    source=\"src\",\n",
    "    target=\"dst\",\n",
    "    create_using=nx.DiGraph,\n",
    ")"
   ]
  },
  {
   "cell_type": "code",
   "execution_count": 9,
   "metadata": {
    "id": "ufhSlz1WmtQg"
   },
   "outputs": [
    {
     "name": "stdout",
     "output_type": "stream",
     "text": [
      "CPU times: user 5.15 s, sys: 1.81 s, total: 6.95 s\n",
      "Wall time: 6.94 s\n"
     ]
    }
   ],
   "source": [
    "%%time\n",
    "\n",
    "# Run pagerank on NetworkX\n",
    "nx_pr_vals = nx.pagerank(G)"
   ]
  },
  {
   "cell_type": "code",
   "execution_count": 10,
   "metadata": {
    "id": "fjFFGFISmu2V"
   },
   "outputs": [
    {
     "name": "stdout",
     "output_type": "stream",
     "text": [
      "CPU times: user 3.65 s, sys: 436 ms, total: 4.09 s\n",
      "Wall time: 4.09 s\n"
     ]
    }
   ],
   "source": [
    "%%time\n",
    "\n",
    "# Create a DataFrame containing the results\n",
    "pagerank_df = pd.DataFrame({\n",
    "    \"nodeid\": nx_pr_vals.keys(),\n",
    "    \"pagerank\": nx_pr_vals.values()\n",
    "})"
   ]
  },
  {
   "cell_type": "code",
   "execution_count": 11,
   "metadata": {
    "id": "QB0fooRwmv8T"
   },
   "outputs": [
    {
     "name": "stdout",
     "output_type": "stream",
     "text": [
      "CPU times: user 1min 11s, sys: 10.6 s, total: 1min 22s\n",
      "Wall time: 1min 22s\n"
     ]
    },
    {
     "data": {
      "text/html": [
       "<div>\n",
       "<style scoped>\n",
       "    .dataframe tbody tr th:only-of-type {\n",
       "        vertical-align: middle;\n",
       "    }\n",
       "\n",
       "    .dataframe tbody tr th {\n",
       "        vertical-align: top;\n",
       "    }\n",
       "\n",
       "    .dataframe thead th {\n",
       "        text-align: right;\n",
       "    }\n",
       "</style>\n",
       "<table border=\"1\" class=\"dataframe\">\n",
       "  <thead>\n",
       "    <tr style=\"text-align: right;\">\n",
       "      <th></th>\n",
       "      <th>nodeid</th>\n",
       "      <th>title</th>\n",
       "      <th>pagerank</th>\n",
       "    </tr>\n",
       "  </thead>\n",
       "  <tbody>\n",
       "    <tr>\n",
       "      <th>5387</th>\n",
       "      <td>5993</td>\n",
       "      <td>\"'Category:Living people'\"</td>\n",
       "      <td>0.001056</td>\n",
       "    </tr>\n",
       "    <tr>\n",
       "      <th>11549889</th>\n",
       "      <td>14054455</td>\n",
       "      <td>\"'en:User:COIBot#Blacklist'\"</td>\n",
       "      <td>0.000815</td>\n",
       "    </tr>\n",
       "    <tr>\n",
       "      <th>11549893</th>\n",
       "      <td>14054459</td>\n",
       "      <td>\"'en:User:COIBot#Monitor list'\"</td>\n",
       "      <td>0.000730</td>\n",
       "    </tr>\n",
       "    <tr>\n",
       "      <th>2757876</th>\n",
       "      <td>3424753</td>\n",
       "      <td>\"'Wikipedia:Deletion review'\"</td>\n",
       "      <td>0.000707</td>\n",
       "    </tr>\n",
       "    <tr>\n",
       "      <th>11549892</th>\n",
       "      <td>14054458</td>\n",
       "      <td>\"'en:User:COIBot#Whitelist'\"</td>\n",
       "      <td>0.000695</td>\n",
       "    </tr>\n",
       "    <tr>\n",
       "      <th>11549891</th>\n",
       "      <td>14054457</td>\n",
       "      <td>\"'en:User:COIBot#Monitorlist'\"</td>\n",
       "      <td>0.000695</td>\n",
       "    </tr>\n",
       "    <tr>\n",
       "      <th>11549890</th>\n",
       "      <td>14054456</td>\n",
       "      <td>\"'en:User:COIBot#Domainredlist'\"</td>\n",
       "      <td>0.000695</td>\n",
       "    </tr>\n",
       "    <tr>\n",
       "      <th>3848948</th>\n",
       "      <td>4812183</td>\n",
       "      <td>\"'Wikipedia:Articles for deletion/PAGENAME (2n...</td>\n",
       "      <td>0.000616</td>\n",
       "    </tr>\n",
       "    <tr>\n",
       "      <th>411173</th>\n",
       "      <td>490251</td>\n",
       "      <td>\"'Help:Talk pages'\"</td>\n",
       "      <td>0.000336</td>\n",
       "    </tr>\n",
       "    <tr>\n",
       "      <th>70301</th>\n",
       "      <td>81293</td>\n",
       "      <td>\"'List of sovereign states'\"</td>\n",
       "      <td>0.000319</td>\n",
       "    </tr>\n",
       "    <tr>\n",
       "      <th>544</th>\n",
       "      <td>608</td>\n",
       "      <td>\"'United States'\"</td>\n",
       "      <td>0.000266</td>\n",
       "    </tr>\n",
       "    <tr>\n",
       "      <th>38070</th>\n",
       "      <td>44213</td>\n",
       "      <td>\"'moth'\"</td>\n",
       "      <td>0.000211</td>\n",
       "    </tr>\n",
       "    <tr>\n",
       "      <th>225369</th>\n",
       "      <td>265759</td>\n",
       "      <td>\"'Category:Year of birth missing (living peopl...</td>\n",
       "      <td>0.000201</td>\n",
       "    </tr>\n",
       "    <tr>\n",
       "      <th>8932</th>\n",
       "      <td>10222</td>\n",
       "      <td>\"'France'\"</td>\n",
       "      <td>0.000182</td>\n",
       "    </tr>\n",
       "    <tr>\n",
       "      <th>3171712</th>\n",
       "      <td>3953634</td>\n",
       "      <td>\"'Category:Non-free images of film posters'\"</td>\n",
       "      <td>0.000157</td>\n",
       "    </tr>\n",
       "    <tr>\n",
       "      <th>8588</th>\n",
       "      <td>9827</td>\n",
       "      <td>\"'India'\"</td>\n",
       "      <td>0.000153</td>\n",
       "    </tr>\n",
       "    <tr>\n",
       "      <th>907</th>\n",
       "      <td>1042</td>\n",
       "      <td>\"'National Register of Historic Places'\"</td>\n",
       "      <td>0.000128</td>\n",
       "    </tr>\n",
       "    <tr>\n",
       "      <th>1527316</th>\n",
       "      <td>1885052</td>\n",
       "      <td>\"'WP:GNG'\"</td>\n",
       "      <td>0.000126</td>\n",
       "    </tr>\n",
       "    <tr>\n",
       "      <th>15764</th>\n",
       "      <td>17984</td>\n",
       "      <td>\"'Germany'\"</td>\n",
       "      <td>0.000125</td>\n",
       "    </tr>\n",
       "    <tr>\n",
       "      <th>146</th>\n",
       "      <td>156</td>\n",
       "      <td>\"'World War II'\"</td>\n",
       "      <td>0.000124</td>\n",
       "    </tr>\n",
       "    <tr>\n",
       "      <th>779</th>\n",
       "      <td>909</td>\n",
       "      <td>\"'U.S. state'\"</td>\n",
       "      <td>0.000124</td>\n",
       "    </tr>\n",
       "    <tr>\n",
       "      <th>10190</th>\n",
       "      <td>11706</td>\n",
       "      <td>\"'Iran'\"</td>\n",
       "      <td>0.000123</td>\n",
       "    </tr>\n",
       "    <tr>\n",
       "      <th>247854</th>\n",
       "      <td>293016</td>\n",
       "      <td>\"'village'\"</td>\n",
       "      <td>0.000123</td>\n",
       "    </tr>\n",
       "    <tr>\n",
       "      <th>16050280</th>\n",
       "      <td>18944968</td>\n",
       "      <td>\"'Wikipedia:Sockpuppet investigations/SPI/Guid...</td>\n",
       "      <td>0.000114</td>\n",
       "    </tr>\n",
       "    <tr>\n",
       "      <th>13651</th>\n",
       "      <td>15622</td>\n",
       "      <td>\"'Russia'\"</td>\n",
       "      <td>0.000113</td>\n",
       "    </tr>\n",
       "  </tbody>\n",
       "</table>\n",
       "</div>"
      ],
      "text/plain": [
       "            nodeid                                              title  \\\n",
       "5387          5993                         \"'Category:Living people'\"   \n",
       "11549889  14054455                       \"'en:User:COIBot#Blacklist'\"   \n",
       "11549893  14054459                    \"'en:User:COIBot#Monitor list'\"   \n",
       "2757876    3424753                      \"'Wikipedia:Deletion review'\"   \n",
       "11549892  14054458                       \"'en:User:COIBot#Whitelist'\"   \n",
       "11549891  14054457                     \"'en:User:COIBot#Monitorlist'\"   \n",
       "11549890  14054456                   \"'en:User:COIBot#Domainredlist'\"   \n",
       "3848948    4812183  \"'Wikipedia:Articles for deletion/PAGENAME (2n...   \n",
       "411173      490251                                \"'Help:Talk pages'\"   \n",
       "70301        81293                       \"'List of sovereign states'\"   \n",
       "544            608                                  \"'United States'\"   \n",
       "38070        44213                                           \"'moth'\"   \n",
       "225369      265759  \"'Category:Year of birth missing (living peopl...   \n",
       "8932         10222                                         \"'France'\"   \n",
       "3171712    3953634       \"'Category:Non-free images of film posters'\"   \n",
       "8588          9827                                          \"'India'\"   \n",
       "907           1042           \"'National Register of Historic Places'\"   \n",
       "1527316    1885052                                         \"'WP:GNG'\"   \n",
       "15764        17984                                        \"'Germany'\"   \n",
       "146            156                                   \"'World War II'\"   \n",
       "779            909                                     \"'U.S. state'\"   \n",
       "10190        11706                                           \"'Iran'\"   \n",
       "247854      293016                                        \"'village'\"   \n",
       "16050280  18944968  \"'Wikipedia:Sockpuppet investigations/SPI/Guid...   \n",
       "13651        15622                                         \"'Russia'\"   \n",
       "\n",
       "          pagerank  \n",
       "5387      0.001056  \n",
       "11549889  0.000815  \n",
       "11549893  0.000730  \n",
       "2757876   0.000707  \n",
       "11549892  0.000695  \n",
       "11549891  0.000695  \n",
       "11549890  0.000695  \n",
       "3848948   0.000616  \n",
       "411173    0.000336  \n",
       "70301     0.000319  \n",
       "544       0.000266  \n",
       "38070     0.000211  \n",
       "225369    0.000201  \n",
       "8932      0.000182  \n",
       "3171712   0.000157  \n",
       "8588      0.000153  \n",
       "907       0.000128  \n",
       "1527316   0.000126  \n",
       "15764     0.000125  \n",
       "146       0.000124  \n",
       "779       0.000124  \n",
       "10190     0.000123  \n",
       "247854    0.000123  \n",
       "16050280  0.000114  \n",
       "13651     0.000113  "
      ]
     },
     "execution_count": 11,
     "metadata": {},
     "output_type": "execute_result"
    }
   ],
   "source": [
    "%%time\n",
    "# Add NetworkX results to `nodedata` as new columns\n",
    "nodedata_df = nodedata_df.merge(pagerank_df, how=\"left\", on=\"nodeid\")\n",
    "\n",
    "# Here the top 25 pages based on pagerank value\n",
    "nodedata_df.sort_values(by=\"pagerank\", ascending=False).head(25)"
   ]
  }
 ],
 "metadata": {
  "accelerator": "GPU",
  "colab": {
   "gpuType": "A100",
   "machine_shape": "hm",
   "provenance": []
  },
  "kernelspec": {
   "display_name": "Python 3 (ipykernel)",
   "language": "python",
   "name": "python3"
  },
  "language_info": {
   "codemirror_mode": {
    "name": "ipython",
    "version": 3
   },
   "file_extension": ".py",
   "mimetype": "text/x-python",
   "name": "python",
   "nbconvert_exporter": "python",
   "pygments_lexer": "ipython3",
   "version": "3.12.9"
  }
 },
 "nbformat": 4,
 "nbformat_minor": 4
}
