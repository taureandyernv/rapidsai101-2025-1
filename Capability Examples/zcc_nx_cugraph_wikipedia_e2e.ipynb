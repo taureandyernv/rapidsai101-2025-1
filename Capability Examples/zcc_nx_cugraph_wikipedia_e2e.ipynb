{
  "cells": [
    {
      "cell_type": "markdown",
      "metadata": {
        "id": "x7aMYrwpiDyz"
      },
      "source": [
        "# End-to-End Demo\n",
        "## Running Pagerank on Wikipedia With vs. Without `nx-cugraph`\n",
        "\n",
        "This notebook demonstrates a zero code change, end-to-end workflow using `cudf.pandas` and `nx-cugraph`.\n",
        "\n",
        "Please see the [System Requirements](https://docs.rapids.ai/api/cugraph/stable/nx_cugraph/installation/#system-requirements) in order to run this notebook."
      ]
    },
    {
      "cell_type": "code",
      "execution_count": null,
      "metadata": {
        "colab": {
          "base_uri": "https://localhost:8080/"
        },
        "id": "caioaKAHiDy3",
        "outputId": "9b4dfc51-8d75-4386-9296-5bdf3790c5bc"
      },
      "outputs": [],
      "source": [
        "# Uncomment these two lines to enable GPU acceleration\n",
        "# The rest of the code stays the same!\n",
        "\n",
        "%load_ext cudf.pandas\n",
        "%env NX_CUGRAPH_AUTOCONFIG=True"
      ]
    },
    {
      "cell_type": "code",
      "execution_count": 2,
      "metadata": {
        "id": "fQsXbML0NDDh"
      },
      "outputs": [],
      "source": [
        "import pandas as pd\n",
        "import networkx as nx"
      ]
    },
    {
      "cell_type": "markdown",
      "metadata": {
        "id": "6FwLpFboiDy5"
      },
      "source": [
        "Downloading the data"
      ]
    },
    {
      "cell_type": "code",
      "execution_count": 5,
      "metadata": {
        "id": "VTZysiOqOr3H"
      },
      "outputs": [],
      "source": [
        "import gzip\n",
        "import shutil\n",
        "import urllib.request\n",
        "from pathlib import Path\n",
        "\n",
        "# Get the data\n",
        "def download_datafile(url, file_path):\n",
        "    compressed_path = file_path + \".gz\"\n",
        "\n",
        "    if not Path(file_path).exists():\n",
        "        print(f\"File not found. Downloading from {url}...\")\n",
        "        urllib.request.urlretrieve(url, compressed_path)\n",
        "\n",
        "        print(f\"\\tDownloaded to {compressed_path}. Unzipping...\")\n",
        "        with gzip.open(compressed_path, 'rb') as f_in, open(file_path, 'wb') as f_out:\n",
        "            shutil.copyfileobj(f_in, f_out)\n",
        "\n",
        "        print(\"Done.\")\n",
        "    else:\n",
        "        print(f\"File already exists at {file_path}. Skipping download\")"
      ]
    },
    {
      "cell_type": "code",
      "execution_count": null,
      "metadata": {
        "colab": {
          "base_uri": "https://localhost:8080/"
        },
        "id": "71o3rsvRiDy6",
        "outputId": "5b76fd27-1fe8-4bfb-99a7-746ba040db69"
      },
      "outputs": [],
      "source": [
        "nodedata_url=\"https://data.rapids.ai/cugraph/benchmark/enwiki-20240620-nodeids.csv.gz\"\n",
        "nodedata_path = \"enwiki-20240620-nodeids.csv\"\n",
        "download_datafile(nodedata_url, nodedata_path)\n",
        "\n",
        "edgelist_url=\"https://data.rapids.ai/cugraph/benchmark/enwiki-20240620-edges.csv.gz\"\n",
        "edgelist_path = \"enwiki-20240620-edges.csv\"\n",
        "download_datafile(edgelist_url, edgelist_path)"
      ]
    },
    {
      "cell_type": "markdown",
      "metadata": {
        "id": "7mHFaMtdO3_Z"
      },
      "source": [
        "The dataset used in this script falls under the Creative Common Attribution-ShareAlike 4.0 International (CC BY-SA 4.0) License, available at https://creativecommons.org/licenses/by-sa/4.0/legalcode.en"
      ]
    },
    {
      "cell_type": "markdown",
      "metadata": {
        "id": "1NsIwM02iDy7"
      },
      "source": [
        "Timed end-to-end code"
      ]
    },
    {
      "cell_type": "code",
      "execution_count": null,
      "metadata": {
        "colab": {
          "base_uri": "https://localhost:8080/"
        },
        "id": "qLM-hdWZiDy7",
        "outputId": "2cec80bf-fae5-44b8-f57c-f58b7b994e97"
      },
      "outputs": [],
      "source": [
        "%%time\n",
        "\n",
        "# Read the Wikipedia Connectivity data from `edgelist_path`\n",
        "edgelist_df = pd.read_csv(\n",
        "    edgelist_path,\n",
        "    sep=\" \",\n",
        "    names=[\"src\", \"dst\"],\n",
        "    dtype=\"int32\",\n",
        ")"
      ]
    },
    {
      "cell_type": "code",
      "execution_count": null,
      "metadata": {
        "colab": {
          "base_uri": "https://localhost:8080/"
        },
        "id": "8UIsAc1MmjIS",
        "outputId": "c99bc050-bed4-4e83-d7b0-c4cb9ca6189f"
      },
      "outputs": [],
      "source": [
        "%%time\n",
        "\n",
        "# Read the Wikipedia Page metadata from `nodedata_path`\n",
        "nodedata_df = pd.read_csv(\n",
        "    nodedata_path,\n",
        "    sep=\"\\t\",\n",
        "    names=[\"nodeid\", \"title\"],\n",
        "    dtype={\"nodeid\": \"int32\", \"title\": \"str\"},\n",
        ")"
      ]
    },
    {
      "cell_type": "code",
      "execution_count": null,
      "metadata": {
        "id": "IcqAvqCImmTr"
      },
      "outputs": [],
      "source": [
        "%%time\n",
        "\n",
        "# Create a NetworkX graph from the connectivity info\n",
        "G = nx.from_pandas_edgelist(\n",
        "    edgelist_df,\n",
        "    source=\"src\",\n",
        "    target=\"dst\",\n",
        "    create_using=nx.DiGraph,\n",
        ")"
      ]
    },
    {
      "cell_type": "code",
      "execution_count": null,
      "metadata": {
        "id": "ufhSlz1WmtQg"
      },
      "outputs": [],
      "source": [
        "%%time\n",
        "\n",
        "# Run pagerank on NetworkX\n",
        "nx_pr_vals = nx.pagerank(G)"
      ]
    },
    {
      "cell_type": "code",
      "execution_count": null,
      "metadata": {
        "id": "fjFFGFISmu2V"
      },
      "outputs": [],
      "source": [
        "%%time\n",
        "\n",
        "# Create a DataFrame containing the results\n",
        "pagerank_df = pd.DataFrame({\n",
        "    \"nodeid\": nx_pr_vals.keys(),\n",
        "    \"pagerank\": nx_pr_vals.values()\n",
        "})"
      ]
    },
    {
      "cell_type": "code",
      "execution_count": null,
      "metadata": {
        "id": "QB0fooRwmv8T"
      },
      "outputs": [],
      "source": [
        "%%time\n",
        "# Add NetworkX results to `nodedata` as new columns\n",
        "nodedata_df = nodedata_df.merge(pagerank_df, how=\"left\", on=\"nodeid\")\n",
        "\n",
        "# Here the top 25 pages based on pagerank value\n",
        "nodedata_df.sort_values(by=\"pagerank\", ascending=False).head(25)"
      ]
    }
  ],
  "metadata": {
    "accelerator": "GPU",
    "colab": {
      "gpuType": "A100",
      "machine_shape": "hm",
      "provenance": []
    },
    "kernelspec": {
      "display_name": "Python 3",
      "name": "python3"
    },
    "language_info": {
      "codemirror_mode": {
        "name": "ipython",
        "version": 3
      },
      "file_extension": ".py",
      "mimetype": "text/x-python",
      "name": "python",
      "nbconvert_exporter": "python",
      "pygments_lexer": "ipython3",
      "version": "3.11.9"
    }
  },
  "nbformat": 4,
  "nbformat_minor": 0
}
