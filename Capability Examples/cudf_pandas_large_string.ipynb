{
 "cells": [
  {
   "cell_type": "markdown",
   "id": "84635d55-68a2-468b-ac09-9029ebdab55f",
   "metadata": {
    "id": "84635d55-68a2-468b-ac09-9029ebdab55f"
   },
   "source": [
    "# Accelerating large string data processing with cudf pandas accelerator mode (cudf.pandas)\n",
    "<a href=\"https://github.com/rapidsai/cudf\">cuDF</a> is a Python GPU DataFrame library (built on the Apache Arrow columnar memory format) for loading, joining, aggregating, filtering, and otherwise manipulating tabular data using a DataFrame style API in the style of pandas.\n",
    "\n",
    "cuDF now provides a <a href=\"https://rapids.ai/cudf-pandas/\">pandas accelerator mode</a> (`cudf.pandas`), allowing you to bring accelerated computing to your pandas workflows without requiring any code change.\n",
    "\n",
    "This notebook demonstrates how cuDF pandas accelerator mode can help accelerate processing of datasets with large string fields (4 GB+) processing by simply adding a `%load_ext` command. We have introduced this feature as part of our Rapids 24.08 release."
   ]
  },
  {
   "cell_type": "markdown",
   "id": "bb8fe7ab-c055-40e9-897d-c62c72f28a16",
   "metadata": {
    "id": "bb8fe7ab-c055-40e9-897d-c62c72f28a16"
   },
   "source": [
    "# ⚠️ Verify your setup\n",
    "\n",
    "First, we'll verify that you are running with an NVIDIA GPU."
   ]
  },
  {
   "cell_type": "code",
   "execution_count": 1,
   "id": "a88b8586-cfdd-4d31-9b4d-9be8508f7ba0",
   "metadata": {
    "colab": {
     "base_uri": "https://localhost:8080/"
    },
    "id": "a88b8586-cfdd-4d31-9b4d-9be8508f7ba0",
    "outputId": "18525b64-b34b-40e3-ed3a-1ad56ae794b5"
   },
   "outputs": [
    {
     "name": "stdout",
     "output_type": "stream",
     "text": [
      "Fri May 16 18:20:29 2025       \n",
      "+-----------------------------------------------------------------------------------------+\n",
      "| NVIDIA-SMI 570.124.06             Driver Version: 570.124.06     CUDA Version: 12.8     |\n",
      "|-----------------------------------------+------------------------+----------------------+\n",
      "| GPU  Name                 Persistence-M | Bus-Id          Disp.A | Volatile Uncorr. ECC |\n",
      "| Fan  Temp   Perf          Pwr:Usage/Cap |           Memory-Usage | GPU-Util  Compute M. |\n",
      "|                                         |                        |               MIG M. |\n",
      "|=========================================+========================+======================|\n",
      "|   0  NVIDIA H100 PCIe               Off |   00000000:01:00.0 Off |                    0 |\n",
      "| N/A   44C    P0             48W /  310W |       4MiB /  81559MiB |      0%      Default |\n",
      "|                                         |                        |             Disabled |\n",
      "+-----------------------------------------+------------------------+----------------------+\n",
      "                                                                                         \n",
      "+-----------------------------------------------------------------------------------------+\n",
      "| Processes:                                                                              |\n",
      "|  GPU   GI   CI              PID   Type   Process name                        GPU Memory |\n",
      "|        ID   ID                                                               Usage      |\n",
      "|=========================================================================================|\n",
      "|  No running processes found                                                             |\n",
      "+-----------------------------------------------------------------------------------------+\n"
     ]
    }
   ],
   "source": [
    "!nvidia-smi  # this should display information about available GPUs"
   ]
  },
  {
   "cell_type": "markdown",
   "id": "5cd58071-4371-428b-8a02-9cd66e6cb91f",
   "metadata": {
    "id": "5cd58071-4371-428b-8a02-9cd66e6cb91f"
   },
   "source": [
    "# Download the data"
   ]
  },
  {
   "cell_type": "markdown",
   "id": "9eb67713-7cf4-415a-bce7-ff4695862faa",
   "metadata": {
    "id": "9eb67713-7cf4-415a-bce7-ff4695862faa"
   },
   "source": [
    "The data we'll be working with summarizes job postings data that a developer working at a job listing firm might analyze to understand posting trends.\n",
    "\n",
    "We're downloading a curated copy of this Kaggle dataset [https://www.kaggle.com/datasets/asaniczka/1-3m-linkedin-jobs-and-skills-2024/data?select=job_summary.csv] directly from the kaggle API. We'll start by downloading the data. This should take about 1-2 minutes.\n",
    "\n",
    "**Data License and Terms** <br>\n",
    "As this dataset originates from a Kaggle dataset, it's governed by that dataset's license and terms of use, which is the Open Data Commons license. Review here: https://opendatacommons.org/licenses/by/1-0/index.html . For each dataset an user elects to use, the user is responsible for checking if the dataset license is fit for the intended purpose.\n",
    "\n",
    "**Are there restrictions on how I can use this data? </br>**\n",
    "For each dataset an user elects to use, the user is responsible for checking if the dataset license is fit for the intended purpose.\n",
    "\n"
   ]
  },
  {
   "cell_type": "code",
   "execution_count": 2,
   "id": "530b8ec0-fb0d-4670-968e-198d31e2070a",
   "metadata": {},
   "outputs": [
    {
     "name": "stdout",
     "output_type": "stream",
     "text": [
      "creating data directory\n",
      "creating linkedin data directory\n"
     ]
    }
   ],
   "source": [
    "import os \n",
    "import urllib.request\n",
    "top_dir = \"./data/\"\n",
    "if not os.path.exists(top_dir):\n",
    "    print('creating data directory')\n",
    "    os.system('mkdir ./data')\n",
    "data_dir = './data/linkedin/'\n",
    "if not os.path.exists(data_dir):\n",
    "    print('creating linkedin data directory')\n",
    "    os.system('mkdir ./data/linkedin/')"
   ]
  },
  {
   "cell_type": "code",
   "execution_count": 3,
   "id": "3efacb3c-5f3d-4ff0-b32a-76bbb80b5f74",
   "metadata": {
    "colab": {
     "base_uri": "https://localhost:8080/"
    },
    "id": "3efacb3c-5f3d-4ff0-b32a-76bbb80b5f74",
    "outputId": "5fe4a878-cf57-44f9-e40e-ed413035b150"
   },
   "outputs": [],
   "source": [
    "# Download the dataset through kaggle API\n",
    "if os.path.exists(\"./data/linkedin/linkedin_job_postings.csv\"):\n",
    "    print(\"LinkedIn files found\")\n",
    "else:\n",
    "    \n",
    "    try:\n",
    "        import kagglehub\n",
    "    except:\n",
    "        !pip install kagglehub\n",
    "        import kagglehub\n",
    "    \n",
    "    # Download latest version\n",
    "    path = kagglehub.dataset_download(\"asaniczka/1-3m-linkedin-jobs-and-skills-2024\")\n",
    "    \n",
    "    # If you had problems wsith a previous download attempt, or the data, uncomment this line\n",
    "    #path = kagglehub.dataset_download(\"asaniczka/1-3m-linkedin-jobs-and-skills-2024\", force_download=True)\n",
    "    \n",
    "    # move the files over\n",
    "    !mv /root/.cache/kagglehub/datasets/asaniczka/1-3m-linkedin-jobs-and-skills-2024/versions/2/job_skills.csv ./data/linkedin\n",
    "    !mv /root/.cache/kagglehub/datasets/asaniczka/1-3m-linkedin-jobs-and-skills-2024/versions/2/job_summary.csv ./data/linkedin\n",
    "    !mv /root/.cache/kagglehub/datasets/asaniczka/1-3m-linkedin-jobs-and-skills-2024/versions/2/linkedin_job_postings.csv ./data/linkedin"
   ]
  },
  {
   "cell_type": "markdown",
   "id": "26cbf10b-a540-4346-938d-0abbdc0d4524",
   "metadata": {
    "id": "26cbf10b-a540-4346-938d-0abbdc0d4524"
   },
   "source": [
    "# Analysis using Standard Pandas\n",
    "\n",
    "First, let's use Pandas to read in some columns of the dataset:"
   ]
  },
  {
   "cell_type": "code",
   "execution_count": 4,
   "id": "af373e43-3815-4c90-a5ef-9a32f76a908c",
   "metadata": {
    "id": "af373e43-3815-4c90-a5ef-9a32f76a908c"
   },
   "outputs": [],
   "source": [
    "import pandas as pd"
   ]
  },
  {
   "cell_type": "markdown",
   "id": "314fbc21-a62f-442e-bb75-432cdd7e2e71",
   "metadata": {
    "id": "314fbc21-a62f-442e-bb75-432cdd7e2e71"
   },
   "source": [
    "**Job Summary Dataset** (Dataset-1) : This dataset contains job summaries for each job link."
   ]
  },
  {
   "cell_type": "code",
   "execution_count": 5,
   "id": "db3ed82c-0d80-4044-98f8-1e61b5548c9d",
   "metadata": {
    "colab": {
     "base_uri": "https://localhost:8080/"
    },
    "id": "db3ed82c-0d80-4044-98f8-1e61b5548c9d",
    "outputId": "56e28ee1-2a27-4bd2-832e-16594876403e"
   },
   "outputs": [
    {
     "name": "stdout",
     "output_type": "stream",
     "text": [
      "Dataset Size (in GB): 8.16\n",
      "CPU times: user 1min 6s, sys: 7.72 s, total: 1min 13s\n",
      "Wall time: 1min 57s\n"
     ]
    }
   ],
   "source": [
    "%%time\n",
    "job_summary_df = pd.read_csv(\"./data/linkedin/job_summary.csv\")\n",
    "print(\"Dataset Size (in GB):\",round(job_summary_df.memory_usage(\n",
    "    deep=True).sum()/(1024**3),2))"
   ]
  },
  {
   "cell_type": "markdown",
   "id": "3b2dc7e9-bf6e-4566-abd5-e64530614279",
   "metadata": {
    "id": "3b2dc7e9-bf6e-4566-abd5-e64530614279"
   },
   "source": [
    "This **8 GB (in-memory)** dataset took around 1 minute to load!\n",
    "\n",
    "Let's examine the dataset entries along with their memory footprint and character length."
   ]
  },
  {
   "cell_type": "code",
   "execution_count": 6,
   "id": "888f3aaa-8ceb-4370-aabf-78f65b18c3b0",
   "metadata": {
    "colab": {
     "base_uri": "https://localhost:8080/",
     "height": 206
    },
    "id": "888f3aaa-8ceb-4370-aabf-78f65b18c3b0",
    "outputId": "edc93fd8-6a9a-4579-b7cb-f4d88056cf7b"
   },
   "outputs": [
    {
     "data": {
      "text/html": [
       "<div>\n",
       "<style scoped>\n",
       "    .dataframe tbody tr th:only-of-type {\n",
       "        vertical-align: middle;\n",
       "    }\n",
       "\n",
       "    .dataframe tbody tr th {\n",
       "        vertical-align: top;\n",
       "    }\n",
       "\n",
       "    .dataframe thead th {\n",
       "        text-align: right;\n",
       "    }\n",
       "</style>\n",
       "<table border=\"1\" class=\"dataframe\">\n",
       "  <thead>\n",
       "    <tr style=\"text-align: right;\">\n",
       "      <th></th>\n",
       "      <th>job_link</th>\n",
       "      <th>job_summary</th>\n",
       "    </tr>\n",
       "  </thead>\n",
       "  <tbody>\n",
       "    <tr>\n",
       "      <th>0</th>\n",
       "      <td>https://www.linkedin.com/jobs/view/restaurant-...</td>\n",
       "      <td>Rock N Roll Sushi is hiring a Restaurant Manag...</td>\n",
       "    </tr>\n",
       "    <tr>\n",
       "      <th>1</th>\n",
       "      <td>https://www.linkedin.com/jobs/view/med-surg-re...</td>\n",
       "      <td>Schedule\\n: PRN is required minimum 12 hours p...</td>\n",
       "    </tr>\n",
       "    <tr>\n",
       "      <th>2</th>\n",
       "      <td>https://www.linkedin.com/jobs/view/registered-...</td>\n",
       "      <td>Description\\nIntroduction\\nAre you looking for...</td>\n",
       "    </tr>\n",
       "    <tr>\n",
       "      <th>3</th>\n",
       "      <td>https://uk.linkedin.com/jobs/view/commercial-a...</td>\n",
       "      <td>Commercial account executive\\nSheffield\\nFull ...</td>\n",
       "    </tr>\n",
       "    <tr>\n",
       "      <th>4</th>\n",
       "      <td>https://www.linkedin.com/jobs/view/store-manag...</td>\n",
       "      <td>Address:\\nUSA-CT-Newington-44 Fenn Road\\nStore...</td>\n",
       "    </tr>\n",
       "  </tbody>\n",
       "</table>\n",
       "</div>"
      ],
      "text/plain": [
       "                                            job_link  \\\n",
       "0  https://www.linkedin.com/jobs/view/restaurant-...   \n",
       "1  https://www.linkedin.com/jobs/view/med-surg-re...   \n",
       "2  https://www.linkedin.com/jobs/view/registered-...   \n",
       "3  https://uk.linkedin.com/jobs/view/commercial-a...   \n",
       "4  https://www.linkedin.com/jobs/view/store-manag...   \n",
       "\n",
       "                                         job_summary  \n",
       "0  Rock N Roll Sushi is hiring a Restaurant Manag...  \n",
       "1  Schedule\\n: PRN is required minimum 12 hours p...  \n",
       "2  Description\\nIntroduction\\nAre you looking for...  \n",
       "3  Commercial account executive\\nSheffield\\nFull ...  \n",
       "4  Address:\\nUSA-CT-Newington-44 Fenn Road\\nStore...  "
      ]
     },
     "execution_count": 6,
     "metadata": {},
     "output_type": "execute_result"
    }
   ],
   "source": [
    "job_summary_df.head()"
   ]
  },
  {
   "cell_type": "markdown",
   "id": "7f0a7b95-c8b2-4e35-86d5-ce888c7242fe",
   "metadata": {
    "id": "7f0a7b95-c8b2-4e35-86d5-ce888c7242fe"
   },
   "source": [
    "The dataset contains job summaries from various job listings.\n",
    "\n",
    "The `job_summary` column is particularly large, occupying **5 GB in size with a total of 5 billion characters**."
   ]
  },
  {
   "cell_type": "code",
   "execution_count": 7,
   "id": "61cd04b6-fdfd-4c80-9d32-c1e78bf2f292",
   "metadata": {
    "colab": {
     "base_uri": "https://localhost:8080/"
    },
    "id": "61cd04b6-fdfd-4c80-9d32-c1e78bf2f292",
    "outputId": "e01347cb-b067-4af6-ce7b-4986bb0e110b"
   },
   "outputs": [
    {
     "name": "stdout",
     "output_type": "stream",
     "text": [
      "`job_summary` column size (in GB): 8.0 \n",
      " `job_summary` column number of characters (in Bn): 4.95\n"
     ]
    }
   ],
   "source": [
    "# Calculate memory usage of each column in GB\n",
    "memory_usage_bytes = job_summary_df.memory_usage(deep=True)\n",
    "memory_usage_gb = memory_usage_bytes / (1024 ** 3)\n",
    "\n",
    "print(\"`job_summary` column size (in GB):\", round(memory_usage_gb['job_summary'],1),\n",
    "     \"\\n\",\"`job_summary` column number of characters (in Bn):\",\n",
    "      round(job_summary_df['job_summary'].str.len().sum()/(10**9),2))"
   ]
  },
  {
   "cell_type": "markdown",
   "id": "4fa298f0-e735-42fa-a6ce-935df7ec9dcb",
   "metadata": {
    "id": "4fa298f0-e735-42fa-a6ce-935df7ec9dcb"
   },
   "source": [
    "**Job Skills Dataset** (Dataset-2): This dataset contains a mapping between job links and the skill tags associated with the link."
   ]
  },
  {
   "cell_type": "code",
   "execution_count": 8,
   "id": "8fd3a366-c3ff-4d03-8c3e-7701b6ac16cd",
   "metadata": {
    "colab": {
     "base_uri": "https://localhost:8080/"
    },
    "id": "8fd3a366-c3ff-4d03-8c3e-7701b6ac16cd",
    "outputId": "63247501-d8b1-4d89-fa7e-bb6d09fce7ae"
   },
   "outputs": [
    {
     "name": "stdout",
     "output_type": "stream",
     "text": [
      "<class 'pandas.core.frame.DataFrame'>\n",
      "RangeIndex: 1296381 entries, 0 to 1296380\n",
      "Data columns (total 2 columns):\n",
      " #   Column      Non-Null Count    Dtype \n",
      "---  ------      --------------    ----- \n",
      " 0   job_link    1296381 non-null  object\n",
      " 1   job_skills  1294296 non-null  object\n",
      "dtypes: object(2)\n",
      "memory usage: 19.8+ MB\n",
      "CPU times: user 10.4 s, sys: 944 ms, total: 11.3 s\n",
      "Wall time: 17 s\n"
     ]
    }
   ],
   "source": [
    "%%time\n",
    "job_skills_df = pd.read_csv(\"./data/linkedin/job_skills.csv\")\n",
    "job_skills_df.info()"
   ]
  },
  {
   "cell_type": "code",
   "execution_count": 9,
   "id": "aa3e6236-048d-4f1a-b1a8-f94356e2e93a",
   "metadata": {
    "colab": {
     "base_uri": "https://localhost:8080/",
     "height": 206
    },
    "id": "aa3e6236-048d-4f1a-b1a8-f94356e2e93a",
    "outputId": "e997196d-10aa-4ca1-850f-9bee868a15c8"
   },
   "outputs": [
    {
     "data": {
      "text/html": [
       "<div>\n",
       "<style scoped>\n",
       "    .dataframe tbody tr th:only-of-type {\n",
       "        vertical-align: middle;\n",
       "    }\n",
       "\n",
       "    .dataframe tbody tr th {\n",
       "        vertical-align: top;\n",
       "    }\n",
       "\n",
       "    .dataframe thead th {\n",
       "        text-align: right;\n",
       "    }\n",
       "</style>\n",
       "<table border=\"1\" class=\"dataframe\">\n",
       "  <thead>\n",
       "    <tr style=\"text-align: right;\">\n",
       "      <th></th>\n",
       "      <th>job_link</th>\n",
       "      <th>job_skills</th>\n",
       "    </tr>\n",
       "  </thead>\n",
       "  <tbody>\n",
       "    <tr>\n",
       "      <th>0</th>\n",
       "      <td>https://www.linkedin.com/jobs/view/housekeeper...</td>\n",
       "      <td>Building Custodial Services, Cleaning, Janitor...</td>\n",
       "    </tr>\n",
       "    <tr>\n",
       "      <th>1</th>\n",
       "      <td>https://www.linkedin.com/jobs/view/assistant-g...</td>\n",
       "      <td>Customer service, Restaurant management, Food ...</td>\n",
       "    </tr>\n",
       "    <tr>\n",
       "      <th>2</th>\n",
       "      <td>https://www.linkedin.com/jobs/view/school-base...</td>\n",
       "      <td>Applied Behavior Analysis (ABA), Data analysis...</td>\n",
       "    </tr>\n",
       "    <tr>\n",
       "      <th>3</th>\n",
       "      <td>https://www.linkedin.com/jobs/view/electrical-...</td>\n",
       "      <td>Electrical Engineering, Project Controls, Sche...</td>\n",
       "    </tr>\n",
       "    <tr>\n",
       "      <th>4</th>\n",
       "      <td>https://www.linkedin.com/jobs/view/electrical-...</td>\n",
       "      <td>Electrical Assembly, Point to point wiring, St...</td>\n",
       "    </tr>\n",
       "  </tbody>\n",
       "</table>\n",
       "</div>"
      ],
      "text/plain": [
       "                                            job_link  \\\n",
       "0  https://www.linkedin.com/jobs/view/housekeeper...   \n",
       "1  https://www.linkedin.com/jobs/view/assistant-g...   \n",
       "2  https://www.linkedin.com/jobs/view/school-base...   \n",
       "3  https://www.linkedin.com/jobs/view/electrical-...   \n",
       "4  https://www.linkedin.com/jobs/view/electrical-...   \n",
       "\n",
       "                                          job_skills  \n",
       "0  Building Custodial Services, Cleaning, Janitor...  \n",
       "1  Customer service, Restaurant management, Food ...  \n",
       "2  Applied Behavior Analysis (ABA), Data analysis...  \n",
       "3  Electrical Engineering, Project Controls, Sche...  \n",
       "4  Electrical Assembly, Point to point wiring, St...  "
      ]
     },
     "execution_count": 9,
     "metadata": {},
     "output_type": "execute_result"
    }
   ],
   "source": [
    "job_skills_df.head()"
   ]
  },
  {
   "cell_type": "markdown",
   "id": "e8667bd9-cc6d-4e75-8d4f-c47d7756c3d0",
   "metadata": {
    "id": "e8667bd9-cc6d-4e75-8d4f-c47d7756c3d0"
   },
   "source": [
    "**Job Postings Dataset** (Dataset - 3): This contains demographic and other work related details for each job posting."
   ]
  },
  {
   "cell_type": "code",
   "execution_count": 10,
   "id": "399ce5b4-e38c-49ac-b6fd-c572169f933b",
   "metadata": {
    "colab": {
     "base_uri": "https://localhost:8080/"
    },
    "id": "399ce5b4-e38c-49ac-b6fd-c572169f933b",
    "outputId": "47bc2020-7939-4d53-9701-1c9072ad8d06"
   },
   "outputs": [
    {
     "name": "stdout",
     "output_type": "stream",
     "text": [
      "<class 'pandas.core.frame.DataFrame'>\n",
      "RangeIndex: 1348454 entries, 0 to 1348453\n",
      "Data columns (total 14 columns):\n",
      " #   Column               Non-Null Count    Dtype \n",
      "---  ------               --------------    ----- \n",
      " 0   job_link             1348454 non-null  object\n",
      " 1   last_processed_time  1348454 non-null  object\n",
      " 2   got_summary          1348454 non-null  object\n",
      " 3   got_ner              1348454 non-null  object\n",
      " 4   is_being_worked      1348454 non-null  object\n",
      " 5   job_title            1348454 non-null  object\n",
      " 6   company              1348443 non-null  object\n",
      " 7   job_location         1348435 non-null  object\n",
      " 8   first_seen           1348454 non-null  object\n",
      " 9   search_city          1348454 non-null  object\n",
      " 10  search_country       1348454 non-null  object\n",
      " 11  search_position      1348454 non-null  object\n",
      " 12  job_level            1348454 non-null  object\n",
      " 13  job_type             1348454 non-null  object\n",
      "dtypes: object(14)\n",
      "memory usage: 144.0+ MB\n",
      "CPU times: user 8.22 s, sys: 643 ms, total: 8.87 s\n",
      "Wall time: 12.3 s\n"
     ]
    }
   ],
   "source": [
    "%%time\n",
    "job_postings_df = pd.read_csv(\"./data/linkedin/linkedin_job_postings.csv\")\n",
    "job_postings_df.info()"
   ]
  },
  {
   "cell_type": "code",
   "execution_count": 11,
   "id": "15b54b6f-24bf-4152-a2e5-55e14acd6060",
   "metadata": {
    "colab": {
     "base_uri": "https://localhost:8080/",
     "height": 293
    },
    "id": "15b54b6f-24bf-4152-a2e5-55e14acd6060",
    "outputId": "b48f3e0f-c292-4d11-bc53-0cc68b740cb0"
   },
   "outputs": [
    {
     "data": {
      "text/html": [
       "<div>\n",
       "<style scoped>\n",
       "    .dataframe tbody tr th:only-of-type {\n",
       "        vertical-align: middle;\n",
       "    }\n",
       "\n",
       "    .dataframe tbody tr th {\n",
       "        vertical-align: top;\n",
       "    }\n",
       "\n",
       "    .dataframe thead th {\n",
       "        text-align: right;\n",
       "    }\n",
       "</style>\n",
       "<table border=\"1\" class=\"dataframe\">\n",
       "  <thead>\n",
       "    <tr style=\"text-align: right;\">\n",
       "      <th></th>\n",
       "      <th>job_link</th>\n",
       "      <th>last_processed_time</th>\n",
       "      <th>got_summary</th>\n",
       "      <th>got_ner</th>\n",
       "      <th>is_being_worked</th>\n",
       "      <th>job_title</th>\n",
       "      <th>company</th>\n",
       "      <th>job_location</th>\n",
       "      <th>first_seen</th>\n",
       "      <th>search_city</th>\n",
       "      <th>search_country</th>\n",
       "      <th>search_position</th>\n",
       "      <th>job_level</th>\n",
       "      <th>job_type</th>\n",
       "    </tr>\n",
       "  </thead>\n",
       "  <tbody>\n",
       "    <tr>\n",
       "      <th>0</th>\n",
       "      <td>https://www.linkedin.com/jobs/view/account-exe...</td>\n",
       "      <td>2024-01-21 07:12:29.00256+00</td>\n",
       "      <td>t</td>\n",
       "      <td>t</td>\n",
       "      <td>f</td>\n",
       "      <td>Account Executive - Dispensing (NorCal/Norther...</td>\n",
       "      <td>BD</td>\n",
       "      <td>San Diego, CA</td>\n",
       "      <td>2024-01-15</td>\n",
       "      <td>Coronado</td>\n",
       "      <td>United States</td>\n",
       "      <td>Color Maker</td>\n",
       "      <td>Mid senior</td>\n",
       "      <td>Onsite</td>\n",
       "    </tr>\n",
       "    <tr>\n",
       "      <th>1</th>\n",
       "      <td>https://www.linkedin.com/jobs/view/registered-...</td>\n",
       "      <td>2024-01-21 07:39:58.88137+00</td>\n",
       "      <td>t</td>\n",
       "      <td>t</td>\n",
       "      <td>f</td>\n",
       "      <td>Registered Nurse - RN Care Manager</td>\n",
       "      <td>Trinity Health MI</td>\n",
       "      <td>Norton Shores, MI</td>\n",
       "      <td>2024-01-14</td>\n",
       "      <td>Grand Haven</td>\n",
       "      <td>United States</td>\n",
       "      <td>Director Nursing Service</td>\n",
       "      <td>Mid senior</td>\n",
       "      <td>Onsite</td>\n",
       "    </tr>\n",
       "    <tr>\n",
       "      <th>2</th>\n",
       "      <td>https://www.linkedin.com/jobs/view/restaurant-...</td>\n",
       "      <td>2024-01-21 07:40:00.251126+00</td>\n",
       "      <td>t</td>\n",
       "      <td>t</td>\n",
       "      <td>f</td>\n",
       "      <td>RESTAURANT SUPERVISOR - THE FORKLIFT</td>\n",
       "      <td>Wasatch Adaptive Sports</td>\n",
       "      <td>Sandy, UT</td>\n",
       "      <td>2024-01-14</td>\n",
       "      <td>Tooele</td>\n",
       "      <td>United States</td>\n",
       "      <td>Stand-In</td>\n",
       "      <td>Mid senior</td>\n",
       "      <td>Onsite</td>\n",
       "    </tr>\n",
       "    <tr>\n",
       "      <th>3</th>\n",
       "      <td>https://www.linkedin.com/jobs/view/independent...</td>\n",
       "      <td>2024-01-21 07:40:00.308133+00</td>\n",
       "      <td>t</td>\n",
       "      <td>t</td>\n",
       "      <td>f</td>\n",
       "      <td>Independent Real Estate Agent</td>\n",
       "      <td>Howard Hanna | Rand Realty</td>\n",
       "      <td>Englewood Cliffs, NJ</td>\n",
       "      <td>2024-01-16</td>\n",
       "      <td>Pinehurst</td>\n",
       "      <td>United States</td>\n",
       "      <td>Real-Estate Clerk</td>\n",
       "      <td>Mid senior</td>\n",
       "      <td>Onsite</td>\n",
       "    </tr>\n",
       "    <tr>\n",
       "      <th>4</th>\n",
       "      <td>https://www.linkedin.com/jobs/view/group-unit-...</td>\n",
       "      <td>2024-01-19 09:45:09.215838+00</td>\n",
       "      <td>f</td>\n",
       "      <td>f</td>\n",
       "      <td>f</td>\n",
       "      <td>Group/Unit Supervisor (Systems Support Manager...</td>\n",
       "      <td>IRS, Office of Chief Counsel</td>\n",
       "      <td>Chamblee, GA</td>\n",
       "      <td>2024-01-17</td>\n",
       "      <td>Gadsden</td>\n",
       "      <td>United States</td>\n",
       "      <td>Supervisor Travel-Information Center</td>\n",
       "      <td>Mid senior</td>\n",
       "      <td>Onsite</td>\n",
       "    </tr>\n",
       "  </tbody>\n",
       "</table>\n",
       "</div>"
      ],
      "text/plain": [
       "                                            job_link  \\\n",
       "0  https://www.linkedin.com/jobs/view/account-exe...   \n",
       "1  https://www.linkedin.com/jobs/view/registered-...   \n",
       "2  https://www.linkedin.com/jobs/view/restaurant-...   \n",
       "3  https://www.linkedin.com/jobs/view/independent...   \n",
       "4  https://www.linkedin.com/jobs/view/group-unit-...   \n",
       "\n",
       "             last_processed_time got_summary got_ner is_being_worked  \\\n",
       "0   2024-01-21 07:12:29.00256+00           t       t               f   \n",
       "1   2024-01-21 07:39:58.88137+00           t       t               f   \n",
       "2  2024-01-21 07:40:00.251126+00           t       t               f   \n",
       "3  2024-01-21 07:40:00.308133+00           t       t               f   \n",
       "4  2024-01-19 09:45:09.215838+00           f       f               f   \n",
       "\n",
       "                                           job_title  \\\n",
       "0  Account Executive - Dispensing (NorCal/Norther...   \n",
       "1                 Registered Nurse - RN Care Manager   \n",
       "2               RESTAURANT SUPERVISOR - THE FORKLIFT   \n",
       "3                      Independent Real Estate Agent   \n",
       "4  Group/Unit Supervisor (Systems Support Manager...   \n",
       "\n",
       "                        company          job_location  first_seen  \\\n",
       "0                            BD         San Diego, CA  2024-01-15   \n",
       "1             Trinity Health MI     Norton Shores, MI  2024-01-14   \n",
       "2       Wasatch Adaptive Sports             Sandy, UT  2024-01-14   \n",
       "3    Howard Hanna | Rand Realty  Englewood Cliffs, NJ  2024-01-16   \n",
       "4  IRS, Office of Chief Counsel          Chamblee, GA  2024-01-17   \n",
       "\n",
       "   search_city search_country                       search_position  \\\n",
       "0     Coronado  United States                           Color Maker   \n",
       "1  Grand Haven  United States              Director Nursing Service   \n",
       "2       Tooele  United States                              Stand-In   \n",
       "3    Pinehurst  United States                     Real-Estate Clerk   \n",
       "4      Gadsden  United States  Supervisor Travel-Information Center   \n",
       "\n",
       "    job_level job_type  \n",
       "0  Mid senior   Onsite  \n",
       "1  Mid senior   Onsite  \n",
       "2  Mid senior   Onsite  \n",
       "3  Mid senior   Onsite  \n",
       "4  Mid senior   Onsite  "
      ]
     },
     "execution_count": 11,
     "metadata": {},
     "output_type": "execute_result"
    }
   ],
   "source": [
    "job_postings_df.head()"
   ]
  },
  {
   "cell_type": "markdown",
   "id": "a43b86e1-1e64-4d4d-a07e-29066c5d362d",
   "metadata": {
    "id": "a43b86e1-1e64-4d4d-a07e-29066c5d362d"
   },
   "source": [
    "## Q. Which companies and roles have extremely long job summary?"
   ]
  },
  {
   "cell_type": "markdown",
   "id": "29befdfc-6794-4abc-9694-e8b702995063",
   "metadata": {
    "id": "29befdfc-6794-4abc-9694-e8b702995063"
   },
   "source": [
    "Long job summaries can be challenging to read, but they are essential for certain roles requiring specific subject matter expertise. It would be interesting to identify which job roles and companies have extremely long summaries.\n",
    "\n",
    "Let's determine the length of each job summary using the `.str.len()` method in pandas:"
   ]
  },
  {
   "cell_type": "code",
   "execution_count": 12,
   "id": "fabc85fa-7e61-45f2-8716-8c6dcf4d18b1",
   "metadata": {
    "id": "fabc85fa-7e61-45f2-8716-8c6dcf4d18b1"
   },
   "outputs": [],
   "source": [
    "#Calculate Length of job summary -"
   ]
  },
  {
   "cell_type": "code",
   "execution_count": 13,
   "id": "bdeb75d0-baa1-401e-b1e3-69edd42fb43f",
   "metadata": {
    "colab": {
     "base_uri": "https://localhost:8080/",
     "height": 276
    },
    "id": "bdeb75d0-baa1-401e-b1e3-69edd42fb43f",
    "outputId": "4072ceb5-e48c-44d3-df8e-c10f4cd7d549"
   },
   "outputs": [
    {
     "name": "stdout",
     "output_type": "stream",
     "text": [
      "CPU times: user 665 ms, sys: 12.3 ms, total: 678 ms\n",
      "Wall time: 677 ms\n"
     ]
    },
    {
     "data": {
      "text/plain": [
       "0     957\n",
       "1    3816\n",
       "2    5314\n",
       "3    2774\n",
       "4    2749\n",
       "Name: summary_length, dtype: int64"
      ]
     },
     "execution_count": 13,
     "metadata": {},
     "output_type": "execute_result"
    }
   ],
   "source": [
    "%%time\n",
    "job_summary_df['summary_length'] = job_summary_df['job_summary'].str.len()\n",
    "job_summary_df['summary_length'].head()"
   ]
  },
  {
   "cell_type": "markdown",
   "id": "4652afd0-4776-46a3-ae1e-93a2b56a0ae0",
   "metadata": {
    "id": "4652afd0-4776-46a3-ae1e-93a2b56a0ae0"
   },
   "source": [
    "To identify job roles and companies with the longest job summaries, we need to merge the two datasets using the `job_link` column."
   ]
  },
  {
   "cell_type": "code",
   "execution_count": 14,
   "id": "32baa2d2-b18b-403e-af22-d5b37f5ae508",
   "metadata": {
    "colab": {
     "base_uri": "https://localhost:8080/"
    },
    "id": "32baa2d2-b18b-403e-af22-d5b37f5ae508",
    "outputId": "e788f796-3a96-458c-ef28-bfacce14b5ea"
   },
   "outputs": [
    {
     "name": "stdout",
     "output_type": "stream",
     "text": [
      "CPU times: user 1.7 s, sys: 42.4 ms, total: 1.75 s\n",
      "Wall time: 1.75 s\n"
     ]
    }
   ],
   "source": [
    "%%time\n",
    "df_merged=pd.merge(job_postings_df, job_summary_df, how=\"left\", on=\"job_link\")"
   ]
  },
  {
   "cell_type": "markdown",
   "id": "0e475852-55b3-40ff-9fbd-c66c243cc227",
   "metadata": {
    "id": "0e475852-55b3-40ff-9fbd-c66c243cc227"
   },
   "source": [
    "Lets finally look at the `job_tile` and `company` with the maximum job summary length through data aggregation."
   ]
  },
  {
   "cell_type": "code",
   "execution_count": 15,
   "id": "a757c781-41a3-4c2b-937e-8dc3f4a72331",
   "metadata": {
    "colab": {
     "base_uri": "https://localhost:8080/",
     "height": 490
    },
    "id": "a757c781-41a3-4c2b-937e-8dc3f4a72331",
    "outputId": "b58a4159-6f7e-4243-82e0-b859c2faffff"
   },
   "outputs": [
    {
     "name": "stdout",
     "output_type": "stream",
     "text": [
      "CPU times: user 2.03 s, sys: 5.82 ms, total: 2.03 s\n",
      "Wall time: 2.03 s\n"
     ]
    },
    {
     "data": {
      "text/html": [
       "<div>\n",
       "<style scoped>\n",
       "    .dataframe tbody tr th:only-of-type {\n",
       "        vertical-align: middle;\n",
       "    }\n",
       "\n",
       "    .dataframe tbody tr th {\n",
       "        vertical-align: top;\n",
       "    }\n",
       "\n",
       "    .dataframe thead th {\n",
       "        text-align: right;\n",
       "    }\n",
       "</style>\n",
       "<table border=\"1\" class=\"dataframe\">\n",
       "  <thead>\n",
       "    <tr style=\"text-align: right;\">\n",
       "      <th></th>\n",
       "      <th></th>\n",
       "      <th>summary_length</th>\n",
       "    </tr>\n",
       "    <tr>\n",
       "      <th>company</th>\n",
       "      <th>job_title</th>\n",
       "      <th></th>\n",
       "    </tr>\n",
       "  </thead>\n",
       "  <tbody>\n",
       "    <tr>\n",
       "      <th>ClickJobs.io</th>\n",
       "      <th>Adolescent Behavioral Health Therapist - Substance Use Specialty (Entry Senior Level) Psychiatry</th>\n",
       "      <td>23748.0</td>\n",
       "    </tr>\n",
       "    <tr>\n",
       "      <th>Mt. San Antonio College</th>\n",
       "      <th>Chief, Police and Campus Safety</th>\n",
       "      <td>22998.0</td>\n",
       "    </tr>\n",
       "    <tr>\n",
       "      <th>CareerBeacon</th>\n",
       "      <th>Airside/Groundside Project Manager [Halifax International Airport Authority]</th>\n",
       "      <td>22938.0</td>\n",
       "    </tr>\n",
       "    <tr>\n",
       "      <th>Tacoma Community College</th>\n",
       "      <th>Anthropology Professor - Part-time</th>\n",
       "      <td>22790.0</td>\n",
       "    </tr>\n",
       "    <tr>\n",
       "      <th>IRS, Office of Chief Counsel</th>\n",
       "      <th>Program Analyst (12-Month Roster)</th>\n",
       "      <td>22774.0</td>\n",
       "    </tr>\n",
       "    <tr>\n",
       "      <th>...</th>\n",
       "      <th>...</th>\n",
       "      <td>...</td>\n",
       "    </tr>\n",
       "    <tr>\n",
       "      <th rowspan=\"4\" valign=\"top\">鴻海精密工業股份有限公司</th>\n",
       "      <th>HR Specialist - Payroll &amp; Benefit</th>\n",
       "      <td>0.0</td>\n",
       "    </tr>\n",
       "    <tr>\n",
       "      <th>Material Planner</th>\n",
       "      <td>0.0</td>\n",
       "    </tr>\n",
       "    <tr>\n",
       "      <th>RFQ Specialist</th>\n",
       "      <td>0.0</td>\n",
       "    </tr>\n",
       "    <tr>\n",
       "      <th>Supply Chain Program Manager</th>\n",
       "      <td>0.0</td>\n",
       "    </tr>\n",
       "    <tr>\n",
       "      <th>🌟Daniel-Scott Recruitment Ltd🌟</th>\n",
       "      <th>IT Manager</th>\n",
       "      <td>0.0</td>\n",
       "    </tr>\n",
       "  </tbody>\n",
       "</table>\n",
       "<p>801276 rows × 1 columns</p>\n",
       "</div>"
      ],
      "text/plain": [
       "                                                                                   summary_length\n",
       "company                        job_title                                                         \n",
       "ClickJobs.io                   Adolescent Behavioral Health Therapist - Substa...         23748.0\n",
       "Mt. San Antonio College        Chief, Police and Campus Safety                            22998.0\n",
       "CareerBeacon                   Airside/Groundside Project Manager [Halifax Int...         22938.0\n",
       "Tacoma Community College       Anthropology Professor - Part-time                         22790.0\n",
       "IRS, Office of Chief Counsel   Program Analyst (12-Month Roster)                          22774.0\n",
       "...                                                                                           ...\n",
       "鴻海精密工業股份有限公司                   HR Specialist - Payroll & Benefit                              0.0\n",
       "                               Material Planner                                               0.0\n",
       "                               RFQ Specialist                                                 0.0\n",
       "                               Supply Chain Program Manager                                   0.0\n",
       "🌟Daniel-Scott Recruitment Ltd🌟 IT Manager                                                     0.0\n",
       "\n",
       "[801276 rows x 1 columns]"
      ]
     },
     "execution_count": 15,
     "metadata": {},
     "output_type": "execute_result"
    }
   ],
   "source": [
    "%%time\n",
    "df_merged.groupby(['company',\"job_title\"]).agg({\n",
    "    \"summary_length\":\"mean\"}).sort_values(by='summary_length', ascending = False).fillna(0)"
   ]
  },
  {
   "cell_type": "markdown",
   "id": "784389e3-2ece-4f29-a9f4-025be7a6a20b",
   "metadata": {
    "id": "784389e3-2ece-4f29-a9f4-025be7a6a20b"
   },
   "source": [
    "We see that some specialized jobs like `Adoloscent Behavioural Therapist`, & `Airside Project Manager` have longer summary length."
   ]
  },
  {
   "cell_type": "markdown",
   "id": "94cbb978-3d18-461f-b430-8936d58ae542",
   "metadata": {
    "id": "94cbb978-3d18-461f-b430-8936d58ae542"
   },
   "source": [
    "## Q. How does the length of job summary varies by location?"
   ]
  },
  {
   "cell_type": "markdown",
   "id": "352346b6-b4f5-4da2-8d03-81f9d1f3d447",
   "metadata": {
    "id": "352346b6-b4f5-4da2-8d03-81f9d1f3d447"
   },
   "source": [
    "Why stop here?\n",
    "\n",
    "Another interesting trend would be to see whether job summary length changes with location. Hopefully, the role requirements shouldn't be biased by the location."
   ]
  },
  {
   "cell_type": "code",
   "execution_count": 16,
   "id": "2851c556-a4e3-47a0-bacc-be9368e5e876",
   "metadata": {
    "colab": {
     "base_uri": "https://localhost:8080/",
     "height": 458
    },
    "id": "2851c556-a4e3-47a0-bacc-be9368e5e876",
    "outputId": "b960649c-e50d-4688-958f-0eaf3c2409c2"
   },
   "outputs": [
    {
     "name": "stdout",
     "output_type": "stream",
     "text": [
      "CPU times: user 3.98 s, sys: 11.6 ms, total: 3.99 s\n",
      "Wall time: 4 s\n"
     ]
    },
    {
     "data": {
      "text/html": [
       "<div>\n",
       "<style scoped>\n",
       "    .dataframe tbody tr th:only-of-type {\n",
       "        vertical-align: middle;\n",
       "    }\n",
       "\n",
       "    .dataframe tbody tr th {\n",
       "        vertical-align: top;\n",
       "    }\n",
       "\n",
       "    .dataframe thead th {\n",
       "        text-align: right;\n",
       "    }\n",
       "</style>\n",
       "<table border=\"1\" class=\"dataframe\">\n",
       "  <thead>\n",
       "    <tr style=\"text-align: right;\">\n",
       "      <th></th>\n",
       "      <th>job_title</th>\n",
       "      <th>job_location</th>\n",
       "      <th>summary_length</th>\n",
       "    </tr>\n",
       "  </thead>\n",
       "  <tbody>\n",
       "    <tr>\n",
       "      <th>0</th>\n",
       "      <td>🔥Nurse Manager, Patient Services - Operating Room</td>\n",
       "      <td>Lake George, NY</td>\n",
       "      <td>7342.0</td>\n",
       "    </tr>\n",
       "    <tr>\n",
       "      <th>1</th>\n",
       "      <td>🔥Behavioral Health RN 3 12s</td>\n",
       "      <td>Glens Falls, NY</td>\n",
       "      <td>2787.0</td>\n",
       "    </tr>\n",
       "    <tr>\n",
       "      <th>2</th>\n",
       "      <td>🔥 Surgical Technologist - Evenings</td>\n",
       "      <td>Lake George, NY</td>\n",
       "      <td>2920.0</td>\n",
       "    </tr>\n",
       "    <tr>\n",
       "      <th>3</th>\n",
       "      <td>🔥 Physician Practice Clinical Lead RN</td>\n",
       "      <td>Saratoga Springs, NY</td>\n",
       "      <td>2945.0</td>\n",
       "    </tr>\n",
       "    <tr>\n",
       "      <th>4</th>\n",
       "      <td>🔥 Physican Practice LPN - Green</td>\n",
       "      <td>Lake George, NY</td>\n",
       "      <td>2969.0</td>\n",
       "    </tr>\n",
       "    <tr>\n",
       "      <th>...</th>\n",
       "      <td>...</td>\n",
       "      <td>...</td>\n",
       "      <td>...</td>\n",
       "    </tr>\n",
       "    <tr>\n",
       "      <th>1104106</th>\n",
       "      <td>\"Attorney\" (Gov Appt/Non-Merit) Jobs</td>\n",
       "      <td>Kentucky, United States</td>\n",
       "      <td>2427.0</td>\n",
       "    </tr>\n",
       "    <tr>\n",
       "      <th>1104107</th>\n",
       "      <td>\"Accountant\"</td>\n",
       "      <td>Shavano Park, TX</td>\n",
       "      <td>1497.0</td>\n",
       "    </tr>\n",
       "    <tr>\n",
       "      <th>1104108</th>\n",
       "      <td>\"Accountant\"</td>\n",
       "      <td>Basking Ridge, NJ</td>\n",
       "      <td>1073.0</td>\n",
       "    </tr>\n",
       "    <tr>\n",
       "      <th>1104109</th>\n",
       "      <td>\"Accountant\"</td>\n",
       "      <td>Austin, TX</td>\n",
       "      <td>1993.0</td>\n",
       "    </tr>\n",
       "    <tr>\n",
       "      <th>1104110</th>\n",
       "      <td>\"A\" Softball Coach - Central Middle School</td>\n",
       "      <td>East Corinth, ME</td>\n",
       "      <td>718.0</td>\n",
       "    </tr>\n",
       "  </tbody>\n",
       "</table>\n",
       "<p>1104111 rows × 3 columns</p>\n",
       "</div>"
      ],
      "text/plain": [
       "                                                 job_title  \\\n",
       "0        🔥Nurse Manager, Patient Services - Operating Room   \n",
       "1                              🔥Behavioral Health RN 3 12s   \n",
       "2                       🔥 Surgical Technologist - Evenings   \n",
       "3                    🔥 Physician Practice Clinical Lead RN   \n",
       "4                          🔥 Physican Practice LPN - Green   \n",
       "...                                                    ...   \n",
       "1104106               \"Attorney\" (Gov Appt/Non-Merit) Jobs   \n",
       "1104107                                       \"Accountant\"   \n",
       "1104108                                       \"Accountant\"   \n",
       "1104109                                       \"Accountant\"   \n",
       "1104110         \"A\" Softball Coach - Central Middle School   \n",
       "\n",
       "                    job_location  summary_length  \n",
       "0                Lake George, NY          7342.0  \n",
       "1                Glens Falls, NY          2787.0  \n",
       "2                Lake George, NY          2920.0  \n",
       "3           Saratoga Springs, NY          2945.0  \n",
       "4                Lake George, NY          2969.0  \n",
       "...                          ...             ...  \n",
       "1104106  Kentucky, United States          2427.0  \n",
       "1104107         Shavano Park, TX          1497.0  \n",
       "1104108        Basking Ridge, NJ          1073.0  \n",
       "1104109               Austin, TX          1993.0  \n",
       "1104110         East Corinth, ME           718.0  \n",
       "\n",
       "[1104111 rows x 3 columns]"
      ]
     },
     "execution_count": 16,
     "metadata": {},
     "output_type": "execute_result"
    }
   ],
   "source": [
    "%%time\n",
    "# Group by company, job_title, and month, and calculate the mean of summary_length\n",
    "grouped_df = df_merged.groupby(['job_title', 'job_location']).agg({'summary_length': 'mean'})\n",
    "\n",
    "# Reset index to sort by job_title and month\n",
    "grouped_df = grouped_df.reset_index()\n",
    "\n",
    "# Sort by job_title and month\n",
    "sorted_df = grouped_df.sort_values(by=['job_title', 'job_location','summary_length'],\n",
    "                                   ascending=False).reset_index(drop=True).fillna(0)\n",
    "sorted_df"
   ]
  },
  {
   "cell_type": "markdown",
   "id": "90d2cd50-f58f-4703-9df9-5e229ab1bd77",
   "metadata": {
    "id": "90d2cd50-f58f-4703-9df9-5e229ab1bd77"
   },
   "source": [
    "Let's analyze the job role `LEAD SALES ASSOCIATE-FT` to see if the job summary changes with its postings across different locations."
   ]
  },
  {
   "cell_type": "code",
   "execution_count": 17,
   "id": "9d1d4e3b-8551-488d-864a-d94059959941",
   "metadata": {
    "id": "9d1d4e3b-8551-488d-864a-d94059959941"
   },
   "outputs": [],
   "source": [
    "# isolating records for the specific job role across various location\n",
    "job_title_acc=sorted_df[sorted_df['job_title'] == 'LEAD SALES ASSOCIATE-FT'].reset_index(\n",
    "    drop=True)[1:15]"
   ]
  },
  {
   "cell_type": "code",
   "execution_count": 18,
   "id": "9f31c1f5-e6a0-4195-8972-f33e0889ae66",
   "metadata": {
    "colab": {
     "base_uri": "https://localhost:8080/",
     "height": 357
    },
    "id": "9f31c1f5-e6a0-4195-8972-f33e0889ae66",
    "outputId": "b8eaf685-6c8f-4f2d-8eae-1943d6b8e3cc",
    "scrolled": true
   },
   "outputs": [
    {
     "data": {
      "image/png": "[encoded data removed]",
      "text/plain": [
       "<Figure size 700x350 with 1 Axes>"
      ]
     },
     "metadata": {},
     "output_type": "display_data"
    }
   ],
   "source": [
    "import pandas as pd\n",
    "import matplotlib.pyplot as plt\n",
    "\n",
    "plt.figure(figsize=(7, 3.5))\n",
    "plt.barh(job_title_acc['job_location'],job_title_acc['summary_length'], color='skyblue')\n",
    "plt.xlabel('Summary Length')\n",
    "plt.ylabel('Job Title')\n",
    "plt.title('job summary length (Lead Sales Associate) role across cities')\n",
    "plt.gca().invert_yaxis()  # To display the highest values at the top\n",
    "plt.tight_layout()\n",
    "plt.show()"
   ]
  },
  {
   "cell_type": "markdown",
   "id": "614f1ffc-72bf-46a7-9b0a-999ddbb0060a",
   "metadata": {
    "id": "614f1ffc-72bf-46a7-9b0a-999ddbb0060a"
   },
   "source": [
    "The `Lead Sales Associate` role has similar job summary lengths across various cities, indicating that job requirements for this role remain consistent regardless of location."
   ]
  },
  {
   "cell_type": "markdown",
   "id": "2__ZMVe6LaBJ",
   "metadata": {
    "id": "2__ZMVe6LaBJ"
   },
   "source": [
    "# Analysis with cuDF Pandas"
   ]
  },
  {
   "cell_type": "markdown",
   "id": "38aee6bb-46d8-4a2f-b0d5-daf86b12356a",
   "metadata": {
    "id": "38aee6bb-46d8-4a2f-b0d5-daf86b12356a"
   },
   "source": [
    "Typically, you should load the `cudf.pandas` extension as the first step in your notebook, before importing any modules. Here, we explicitly restart the kernel to simulate that behavior."
   ]
  },
  {
   "cell_type": "markdown",
   "id": "18cc766c-5631-49ec-bb1e-f566763b2e13",
   "metadata": {
    "id": "18cc766c-5631-49ec-bb1e-f566763b2e13"
   },
   "source": [
    "Note: We just added the `%load-ext` and reloaded pandas.  The rest of the code remains the same."
   ]
  },
  {
   "cell_type": "code",
   "execution_count": 19,
   "id": "eadb8d77-cb45-4c7c-ae9f-77e47a4f29b3",
   "metadata": {
    "id": "eadb8d77-cb45-4c7c-ae9f-77e47a4f29b3"
   },
   "outputs": [
    {
     "data": {
      "text/plain": [
       "<module 'pandas' (ModuleAccelerator(fast=cudf, slow=pandas))>"
      ]
     },
     "execution_count": 19,
     "metadata": {},
     "output_type": "execute_result"
    }
   ],
   "source": [
    "%load_ext cudf.pandas\n",
    "import importlib\n",
    "import pandas as pd\n",
    "importlib.reload(pd)"
   ]
  },
  {
   "cell_type": "markdown",
   "id": "196268f2-6169-4ed7-a9e6-db9078caa6ab",
   "metadata": {
    "id": "196268f2-6169-4ed7-a9e6-db9078caa6ab"
   },
   "source": [
    "We'll run the same code as above to get a feel what GPU-acceleration brings to pandas workflows."
   ]
  },
  {
   "cell_type": "code",
   "execution_count": 20,
   "id": "ae3b6a16-ff72-4421-b43c-06c33f57ec12",
   "metadata": {
    "colab": {
     "base_uri": "https://localhost:8080/"
    },
    "id": "ae3b6a16-ff72-4421-b43c-06c33f57ec12",
    "outputId": "656acbf7-078f-42b3-832d-ad4e84e01c70"
   },
   "outputs": [
    {
     "name": "stdout",
     "output_type": "stream",
     "text": [
      "CPU times: user 46 s, sys: 4.42 s, total: 50.4 s\n",
      "Wall time: 49.1 s\n",
      "Dataset Size (in GB): 4.76\n"
     ]
    }
   ],
   "source": [
    "%time job_summary_df = pd.read_csv(\"./data/linkedin/job_summary.csv\")\n",
    "print(\"Dataset Size (in GB):\",round(job_summary_df.memory_usage(\n",
    "    deep=True).sum()/(1024**3),2))"
   ]
  },
  {
   "cell_type": "markdown",
   "id": "01c506e1-f135-4afb-8fc7-23e72c05d73c",
   "metadata": {
    "id": "01c506e1-f135-4afb-8fc7-23e72c05d73c"
   },
   "source": [
    "The same dataset takes about around 1.5 minutes to load with pandas. That's around **5x speedup** with no changes to the code!"
   ]
  },
  {
   "cell_type": "markdown",
   "id": "d9d0a0e1-1d74-494d-bd12-b829f11eeede",
   "metadata": {
    "id": "d9d0a0e1-1d74-494d-bd12-b829f11eeede"
   },
   "source": [
    "Let's load the remaining two datasets as well:"
   ]
  },
  {
   "cell_type": "code",
   "execution_count": 21,
   "id": "12e4cf7e-8824-4822-9d30-46b81ba2acd7",
   "metadata": {
    "colab": {
     "base_uri": "https://localhost:8080/"
    },
    "id": "12e4cf7e-8824-4822-9d30-46b81ba2acd7",
    "outputId": "5ca1be17-09e3-40ab-928b-82176bf597bf"
   },
   "outputs": [
    {
     "name": "stdout",
     "output_type": "stream",
     "text": [
      "CPU times: user 12.8 s, sys: 663 ms, total: 13.4 s\n",
      "Wall time: 13.2 s\n"
     ]
    }
   ],
   "source": [
    "%%time\n",
    "job_skills_df = pd.read_csv(\"./data/linkedin/job_skills.csv\")\n",
    "job_postings_df = pd.read_csv(\"./data/linkedin/linkedin_job_postings.csv\")"
   ]
  },
  {
   "cell_type": "code",
   "execution_count": 22,
   "id": "13c8f9da-121f-4311-8a79-274425363e5e",
   "metadata": {
    "colab": {
     "base_uri": "https://localhost:8080/",
     "height": 276
    },
    "id": "13c8f9da-121f-4311-8a79-274425363e5e",
    "outputId": "a73599c1-05b2-4f56-a190-c69c017bb330"
   },
   "outputs": [
    {
     "name": "stdout",
     "output_type": "stream",
     "text": [
      "CPU times: user 7.59 ms, sys: 7.56 ms, total: 15.2 ms\n",
      "Wall time: 14.4 ms\n"
     ]
    },
    {
     "data": {
      "text/plain": [
       "0     957\n",
       "1    3816\n",
       "2    5314\n",
       "3    2774\n",
       "4    2749\n",
       "Name: summary_length, dtype: int32"
      ]
     },
     "execution_count": 22,
     "metadata": {},
     "output_type": "execute_result"
    }
   ],
   "source": [
    "%%time\n",
    "job_summary_df['summary_length'] = job_summary_df['job_summary'].str.len()\n",
    "job_summary_df['summary_length'].head()"
   ]
  },
  {
   "cell_type": "markdown",
   "id": "67b68792-5c64-4ebd-9d80-cf6ff55baeef",
   "metadata": {
    "id": "67b68792-5c64-4ebd-9d80-cf6ff55baeef"
   },
   "source": [
    "That was lightning fast! We went from around 10+ (with pandas) to a few milliseconds."
   ]
  },
  {
   "cell_type": "code",
   "execution_count": 23,
   "id": "31e1cc84-debb-4da7-bc20-5c7139f786f7",
   "metadata": {
    "colab": {
     "base_uri": "https://localhost:8080/",
     "height": 504
    },
    "id": "31e1cc84-debb-4da7-bc20-5c7139f786f7",
    "outputId": "2d89fc49-7e5b-41db-c25b-441d54480711"
   },
   "outputs": [
    {
     "name": "stdout",
     "output_type": "stream",
     "text": [
      "CPU times: user 11.2 s, sys: 784 ms, total: 12 s\n",
      "Wall time: 12 s\n"
     ]
    },
    {
     "data": {
      "text/html": [
       "<div>\n",
       "<style scoped>\n",
       "    .dataframe tbody tr th:only-of-type {\n",
       "        vertical-align: middle;\n",
       "    }\n",
       "\n",
       "    .dataframe tbody tr th {\n",
       "        vertical-align: top;\n",
       "    }\n",
       "\n",
       "    .dataframe thead th {\n",
       "        text-align: right;\n",
       "    }\n",
       "</style>\n",
       "<table border=\"1\" class=\"dataframe\">\n",
       "  <thead>\n",
       "    <tr style=\"text-align: right;\">\n",
       "      <th></th>\n",
       "      <th>job_link</th>\n",
       "      <th>last_processed_time</th>\n",
       "      <th>got_summary</th>\n",
       "      <th>got_ner</th>\n",
       "      <th>is_being_worked</th>\n",
       "      <th>job_title</th>\n",
       "      <th>company</th>\n",
       "      <th>job_location</th>\n",
       "      <th>first_seen</th>\n",
       "      <th>search_city</th>\n",
       "      <th>search_country</th>\n",
       "      <th>search_position</th>\n",
       "      <th>job_level</th>\n",
       "      <th>job_type</th>\n",
       "      <th>job_summary</th>\n",
       "      <th>summary_length</th>\n",
       "    </tr>\n",
       "  </thead>\n",
       "  <tbody>\n",
       "    <tr>\n",
       "      <th>0</th>\n",
       "      <td>https://www.linkedin.com/jobs/view/account-exe...</td>\n",
       "      <td>2024-01-21 07:12:29.00256+00</td>\n",
       "      <td>t</td>\n",
       "      <td>t</td>\n",
       "      <td>f</td>\n",
       "      <td>Account Executive - Dispensing (NorCal/Norther...</td>\n",
       "      <td>BD</td>\n",
       "      <td>San Diego, CA</td>\n",
       "      <td>2024-01-15</td>\n",
       "      <td>Coronado</td>\n",
       "      <td>United States</td>\n",
       "      <td>Color Maker</td>\n",
       "      <td>Mid senior</td>\n",
       "      <td>Onsite</td>\n",
       "      <td>Responsibilities\\nJob Description Summary\\nJob...</td>\n",
       "      <td>4602.0</td>\n",
       "    </tr>\n",
       "    <tr>\n",
       "      <th>1</th>\n",
       "      <td>https://www.linkedin.com/jobs/view/registered-...</td>\n",
       "      <td>2024-01-21 07:39:58.88137+00</td>\n",
       "      <td>t</td>\n",
       "      <td>t</td>\n",
       "      <td>f</td>\n",
       "      <td>Registered Nurse - RN Care Manager</td>\n",
       "      <td>Trinity Health MI</td>\n",
       "      <td>Norton Shores, MI</td>\n",
       "      <td>2024-01-14</td>\n",
       "      <td>Grand Haven</td>\n",
       "      <td>United States</td>\n",
       "      <td>Director Nursing Service</td>\n",
       "      <td>Mid senior</td>\n",
       "      <td>Onsite</td>\n",
       "      <td>Employment Type:\\nFull time\\nShift:\\nDescripti...</td>\n",
       "      <td>2950.0</td>\n",
       "    </tr>\n",
       "    <tr>\n",
       "      <th>2</th>\n",
       "      <td>https://www.linkedin.com/jobs/view/restaurant-...</td>\n",
       "      <td>2024-01-21 07:40:00.251126+00</td>\n",
       "      <td>t</td>\n",
       "      <td>t</td>\n",
       "      <td>f</td>\n",
       "      <td>RESTAURANT SUPERVISOR - THE FORKLIFT</td>\n",
       "      <td>Wasatch Adaptive Sports</td>\n",
       "      <td>Sandy, UT</td>\n",
       "      <td>2024-01-14</td>\n",
       "      <td>Tooele</td>\n",
       "      <td>United States</td>\n",
       "      <td>Stand-In</td>\n",
       "      <td>Mid senior</td>\n",
       "      <td>Onsite</td>\n",
       "      <td>Job Details\\nDescription\\nWhat You'll Do\\nAs a...</td>\n",
       "      <td>4571.0</td>\n",
       "    </tr>\n",
       "    <tr>\n",
       "      <th>3</th>\n",
       "      <td>https://www.linkedin.com/jobs/view/independent...</td>\n",
       "      <td>2024-01-21 07:40:00.308133+00</td>\n",
       "      <td>t</td>\n",
       "      <td>t</td>\n",
       "      <td>f</td>\n",
       "      <td>Independent Real Estate Agent</td>\n",
       "      <td>Howard Hanna | Rand Realty</td>\n",
       "      <td>Englewood Cliffs, NJ</td>\n",
       "      <td>2024-01-16</td>\n",
       "      <td>Pinehurst</td>\n",
       "      <td>United States</td>\n",
       "      <td>Real-Estate Clerk</td>\n",
       "      <td>Mid senior</td>\n",
       "      <td>Onsite</td>\n",
       "      <td>Who We Are\\nRand Realty is a family-owned brok...</td>\n",
       "      <td>3944.0</td>\n",
       "    </tr>\n",
       "    <tr>\n",
       "      <th>4</th>\n",
       "      <td>https://www.linkedin.com/jobs/view/group-unit-...</td>\n",
       "      <td>2024-01-19 09:45:09.215838+00</td>\n",
       "      <td>f</td>\n",
       "      <td>f</td>\n",
       "      <td>f</td>\n",
       "      <td>Group/Unit Supervisor (Systems Support Manager...</td>\n",
       "      <td>IRS, Office of Chief Counsel</td>\n",
       "      <td>Chamblee, GA</td>\n",
       "      <td>2024-01-17</td>\n",
       "      <td>Gadsden</td>\n",
       "      <td>United States</td>\n",
       "      <td>Supervisor Travel-Information Center</td>\n",
       "      <td>Mid senior</td>\n",
       "      <td>Onsite</td>\n",
       "      <td>NaN</td>\n",
       "      <td>NaN</td>\n",
       "    </tr>\n",
       "  </tbody>\n",
       "</table>\n",
       "</div>"
      ],
      "text/plain": [
       "                                            job_link  \\\n",
       "0  https://www.linkedin.com/jobs/view/account-exe...   \n",
       "1  https://www.linkedin.com/jobs/view/registered-...   \n",
       "2  https://www.linkedin.com/jobs/view/restaurant-...   \n",
       "3  https://www.linkedin.com/jobs/view/independent...   \n",
       "4  https://www.linkedin.com/jobs/view/group-unit-...   \n",
       "\n",
       "             last_processed_time got_summary got_ner is_being_worked  \\\n",
       "0   2024-01-21 07:12:29.00256+00           t       t               f   \n",
       "1   2024-01-21 07:39:58.88137+00           t       t               f   \n",
       "2  2024-01-21 07:40:00.251126+00           t       t               f   \n",
       "3  2024-01-21 07:40:00.308133+00           t       t               f   \n",
       "4  2024-01-19 09:45:09.215838+00           f       f               f   \n",
       "\n",
       "                                           job_title  \\\n",
       "0  Account Executive - Dispensing (NorCal/Norther...   \n",
       "1                 Registered Nurse - RN Care Manager   \n",
       "2               RESTAURANT SUPERVISOR - THE FORKLIFT   \n",
       "3                      Independent Real Estate Agent   \n",
       "4  Group/Unit Supervisor (Systems Support Manager...   \n",
       "\n",
       "                        company          job_location  first_seen  \\\n",
       "0                            BD         San Diego, CA  2024-01-15   \n",
       "1             Trinity Health MI     Norton Shores, MI  2024-01-14   \n",
       "2       Wasatch Adaptive Sports             Sandy, UT  2024-01-14   \n",
       "3    Howard Hanna | Rand Realty  Englewood Cliffs, NJ  2024-01-16   \n",
       "4  IRS, Office of Chief Counsel          Chamblee, GA  2024-01-17   \n",
       "\n",
       "   search_city search_country                       search_position  \\\n",
       "0     Coronado  United States                           Color Maker   \n",
       "1  Grand Haven  United States              Director Nursing Service   \n",
       "2       Tooele  United States                              Stand-In   \n",
       "3    Pinehurst  United States                     Real-Estate Clerk   \n",
       "4      Gadsden  United States  Supervisor Travel-Information Center   \n",
       "\n",
       "    job_level job_type                                        job_summary  \\\n",
       "0  Mid senior   Onsite  Responsibilities\\nJob Description Summary\\nJob...   \n",
       "1  Mid senior   Onsite  Employment Type:\\nFull time\\nShift:\\nDescripti...   \n",
       "2  Mid senior   Onsite  Job Details\\nDescription\\nWhat You'll Do\\nAs a...   \n",
       "3  Mid senior   Onsite  Who We Are\\nRand Realty is a family-owned brok...   \n",
       "4  Mid senior   Onsite                                                NaN   \n",
       "\n",
       "   summary_length  \n",
       "0          4602.0  \n",
       "1          2950.0  \n",
       "2          4571.0  \n",
       "3          3944.0  \n",
       "4             NaN  "
      ]
     },
     "execution_count": 23,
     "metadata": {},
     "output_type": "execute_result"
    }
   ],
   "source": [
    "%%time\n",
    "df_merged=pd.merge(job_postings_df, job_summary_df, how=\"left\", on=\"job_link\")\n",
    "df_merged.head()"
   ]
  },
  {
   "cell_type": "code",
   "execution_count": 24,
   "id": "0160a559-2b17-40a6-ad9d-34ce746236d0",
   "metadata": {
    "colab": {
     "base_uri": "https://localhost:8080/",
     "height": 490
    },
    "id": "0160a559-2b17-40a6-ad9d-34ce746236d0",
    "outputId": "e397c28b-a90d-42d2-8a9a-4c6260c45b38"
   },
   "outputs": [
    {
     "name": "stdout",
     "output_type": "stream",
     "text": [
      "CPU times: user 8.06 s, sys: 360 ms, total: 8.42 s\n",
      "Wall time: 8.45 s\n"
     ]
    },
    {
     "data": {
      "text/html": [
       "<div>\n",
       "<style scoped>\n",
       "    .dataframe tbody tr th:only-of-type {\n",
       "        vertical-align: middle;\n",
       "    }\n",
       "\n",
       "    .dataframe tbody tr th {\n",
       "        vertical-align: top;\n",
       "    }\n",
       "\n",
       "    .dataframe thead th {\n",
       "        text-align: right;\n",
       "    }\n",
       "</style>\n",
       "<table border=\"1\" class=\"dataframe\">\n",
       "  <thead>\n",
       "    <tr style=\"text-align: right;\">\n",
       "      <th></th>\n",
       "      <th></th>\n",
       "      <th>summary_length</th>\n",
       "    </tr>\n",
       "    <tr>\n",
       "      <th>company</th>\n",
       "      <th>job_title</th>\n",
       "      <th></th>\n",
       "    </tr>\n",
       "  </thead>\n",
       "  <tbody>\n",
       "    <tr>\n",
       "      <th>ClickJobs.io</th>\n",
       "      <th>Adolescent Behavioral Health Therapist - Substance Use Specialty (Entry Senior Level) Psychiatry</th>\n",
       "      <td>23748.0</td>\n",
       "    </tr>\n",
       "    <tr>\n",
       "      <th>Mt. San Antonio College</th>\n",
       "      <th>Chief, Police and Campus Safety</th>\n",
       "      <td>22998.0</td>\n",
       "    </tr>\n",
       "    <tr>\n",
       "      <th>CareerBeacon</th>\n",
       "      <th>Airside/Groundside Project Manager [Halifax International Airport Authority]</th>\n",
       "      <td>22938.0</td>\n",
       "    </tr>\n",
       "    <tr>\n",
       "      <th>Tacoma Community College</th>\n",
       "      <th>Anthropology Professor - Part-time</th>\n",
       "      <td>22790.0</td>\n",
       "    </tr>\n",
       "    <tr>\n",
       "      <th>IRS, Office of Chief Counsel</th>\n",
       "      <th>Program Analyst (12-Month Roster)</th>\n",
       "      <td>22774.0</td>\n",
       "    </tr>\n",
       "    <tr>\n",
       "      <th>...</th>\n",
       "      <th>...</th>\n",
       "      <td>...</td>\n",
       "    </tr>\n",
       "    <tr>\n",
       "      <th rowspan=\"4\" valign=\"top\">鴻海精密工業股份有限公司</th>\n",
       "      <th>HR Specialist - Payroll &amp; Benefit</th>\n",
       "      <td>0.0</td>\n",
       "    </tr>\n",
       "    <tr>\n",
       "      <th>Material Planner</th>\n",
       "      <td>0.0</td>\n",
       "    </tr>\n",
       "    <tr>\n",
       "      <th>RFQ Specialist</th>\n",
       "      <td>0.0</td>\n",
       "    </tr>\n",
       "    <tr>\n",
       "      <th>Supply Chain Program Manager</th>\n",
       "      <td>0.0</td>\n",
       "    </tr>\n",
       "    <tr>\n",
       "      <th>🌟Daniel-Scott Recruitment Ltd🌟</th>\n",
       "      <th>IT Manager</th>\n",
       "      <td>0.0</td>\n",
       "    </tr>\n",
       "  </tbody>\n",
       "</table>\n",
       "<p>801276 rows × 1 columns</p>\n",
       "</div>"
      ],
      "text/plain": [
       "                                                                                   summary_length\n",
       "company                        job_title                                                         \n",
       "ClickJobs.io                   Adolescent Behavioral Health Therapist - Substa...         23748.0\n",
       "Mt. San Antonio College        Chief, Police and Campus Safety                            22998.0\n",
       "CareerBeacon                   Airside/Groundside Project Manager [Halifax Int...         22938.0\n",
       "Tacoma Community College       Anthropology Professor - Part-time                         22790.0\n",
       "IRS, Office of Chief Counsel   Program Analyst (12-Month Roster)                          22774.0\n",
       "...                                                                                           ...\n",
       "鴻海精密工業股份有限公司                   HR Specialist - Payroll & Benefit                              0.0\n",
       "                               Material Planner                                               0.0\n",
       "                               RFQ Specialist                                                 0.0\n",
       "                               Supply Chain Program Manager                                   0.0\n",
       "🌟Daniel-Scott Recruitment Ltd🌟 IT Manager                                                     0.0\n",
       "\n",
       "[801276 rows x 1 columns]"
      ]
     },
     "execution_count": 24,
     "metadata": {},
     "output_type": "execute_result"
    }
   ],
   "source": [
    "%%time\n",
    "df_merged.groupby(['company',\"job_title\"]).agg({\n",
    "    \"summary_length\":\"mean\"}).sort_values(by='summary_length', ascending = False).fillna(0)"
   ]
  },
  {
   "cell_type": "markdown",
   "id": "IME4urGYQ3qS",
   "metadata": {
    "id": "IME4urGYQ3qS"
   },
   "source": [
    "We went down from around 5 seconds to less than a second here. This is in line with our speedups on other operations!"
   ]
  },
  {
   "cell_type": "code",
   "execution_count": 25,
   "id": "adc00726-f151-41f4-8731-a1ce1f83eea2",
   "metadata": {
    "colab": {
     "base_uri": "https://localhost:8080/",
     "height": 458
    },
    "id": "adc00726-f151-41f4-8731-a1ce1f83eea2",
    "outputId": "46423696-b167-4ffe-bb3b-9de7f3e6d668"
   },
   "outputs": [
    {
     "name": "stdout",
     "output_type": "stream",
     "text": [
      "CPU times: user 7.99 s, sys: 368 ms, total: 8.36 s\n",
      "Wall time: 8.37 s\n"
     ]
    },
    {
     "data": {
      "text/html": [
       "<div>\n",
       "<style scoped>\n",
       "    .dataframe tbody tr th:only-of-type {\n",
       "        vertical-align: middle;\n",
       "    }\n",
       "\n",
       "    .dataframe tbody tr th {\n",
       "        vertical-align: top;\n",
       "    }\n",
       "\n",
       "    .dataframe thead th {\n",
       "        text-align: right;\n",
       "    }\n",
       "</style>\n",
       "<table border=\"1\" class=\"dataframe\">\n",
       "  <thead>\n",
       "    <tr style=\"text-align: right;\">\n",
       "      <th></th>\n",
       "      <th>job_title</th>\n",
       "      <th>job_location</th>\n",
       "      <th>summary_length</th>\n",
       "    </tr>\n",
       "  </thead>\n",
       "  <tbody>\n",
       "    <tr>\n",
       "      <th>0</th>\n",
       "      <td>🔥Nurse Manager, Patient Services - Operating Room</td>\n",
       "      <td>Lake George, NY</td>\n",
       "      <td>7342.0</td>\n",
       "    </tr>\n",
       "    <tr>\n",
       "      <th>1</th>\n",
       "      <td>🔥Behavioral Health RN 3 12s</td>\n",
       "      <td>Glens Falls, NY</td>\n",
       "      <td>2787.0</td>\n",
       "    </tr>\n",
       "    <tr>\n",
       "      <th>2</th>\n",
       "      <td>🔥 Surgical Technologist - Evenings</td>\n",
       "      <td>Lake George, NY</td>\n",
       "      <td>2920.0</td>\n",
       "    </tr>\n",
       "    <tr>\n",
       "      <th>3</th>\n",
       "      <td>🔥 Physician Practice Clinical Lead RN</td>\n",
       "      <td>Saratoga Springs, NY</td>\n",
       "      <td>2945.0</td>\n",
       "    </tr>\n",
       "    <tr>\n",
       "      <th>4</th>\n",
       "      <td>🔥 Physican Practice LPN - Green</td>\n",
       "      <td>Lake George, NY</td>\n",
       "      <td>2969.0</td>\n",
       "    </tr>\n",
       "    <tr>\n",
       "      <th>...</th>\n",
       "      <td>...</td>\n",
       "      <td>...</td>\n",
       "      <td>...</td>\n",
       "    </tr>\n",
       "    <tr>\n",
       "      <th>1104106</th>\n",
       "      <td>\"Attorney\" (Gov Appt/Non-Merit) Jobs</td>\n",
       "      <td>Kentucky, United States</td>\n",
       "      <td>2427.0</td>\n",
       "    </tr>\n",
       "    <tr>\n",
       "      <th>1104107</th>\n",
       "      <td>\"Accountant\"</td>\n",
       "      <td>Shavano Park, TX</td>\n",
       "      <td>1497.0</td>\n",
       "    </tr>\n",
       "    <tr>\n",
       "      <th>1104108</th>\n",
       "      <td>\"Accountant\"</td>\n",
       "      <td>Basking Ridge, NJ</td>\n",
       "      <td>1073.0</td>\n",
       "    </tr>\n",
       "    <tr>\n",
       "      <th>1104109</th>\n",
       "      <td>\"Accountant\"</td>\n",
       "      <td>Austin, TX</td>\n",
       "      <td>1993.0</td>\n",
       "    </tr>\n",
       "    <tr>\n",
       "      <th>1104110</th>\n",
       "      <td>\"A\" Softball Coach - Central Middle School</td>\n",
       "      <td>East Corinth, ME</td>\n",
       "      <td>718.0</td>\n",
       "    </tr>\n",
       "  </tbody>\n",
       "</table>\n",
       "<p>1104111 rows × 3 columns</p>\n",
       "</div>"
      ],
      "text/plain": [
       "                                                 job_title  \\\n",
       "0        🔥Nurse Manager, Patient Services - Operating Room   \n",
       "1                              🔥Behavioral Health RN 3 12s   \n",
       "2                       🔥 Surgical Technologist - Evenings   \n",
       "3                    🔥 Physician Practice Clinical Lead RN   \n",
       "4                          🔥 Physican Practice LPN - Green   \n",
       "...                                                    ...   \n",
       "1104106               \"Attorney\" (Gov Appt/Non-Merit) Jobs   \n",
       "1104107                                       \"Accountant\"   \n",
       "1104108                                       \"Accountant\"   \n",
       "1104109                                       \"Accountant\"   \n",
       "1104110         \"A\" Softball Coach - Central Middle School   \n",
       "\n",
       "                    job_location  summary_length  \n",
       "0                Lake George, NY          7342.0  \n",
       "1                Glens Falls, NY          2787.0  \n",
       "2                Lake George, NY          2920.0  \n",
       "3           Saratoga Springs, NY          2945.0  \n",
       "4                Lake George, NY          2969.0  \n",
       "...                          ...             ...  \n",
       "1104106  Kentucky, United States          2427.0  \n",
       "1104107         Shavano Park, TX          1497.0  \n",
       "1104108        Basking Ridge, NJ          1073.0  \n",
       "1104109               Austin, TX          1993.0  \n",
       "1104110         East Corinth, ME           718.0  \n",
       "\n",
       "[1104111 rows x 3 columns]"
      ]
     },
     "execution_count": 25,
     "metadata": {},
     "output_type": "execute_result"
    }
   ],
   "source": [
    "%%time\n",
    "# Group by company, job_title, and month, and calculate the mean of summary_length\n",
    "grouped_df = df_merged.groupby(['job_title', 'job_location']).agg({'summary_length': 'mean'})\n",
    "\n",
    "# Reset index to sort by job_title and month\n",
    "grouped_df = grouped_df.reset_index()\n",
    "\n",
    "# Sort by job_title and month\n",
    "sorted_df = grouped_df.sort_values(by=['job_title', 'job_location','summary_length'],\n",
    "                                   ascending=False).reset_index(drop=True).fillna(0)\n",
    "sorted_df"
   ]
  },
  {
   "cell_type": "markdown",
   "id": "08c97b81-64c5-48fb-8fe0-d36789cf3deb",
   "metadata": {
    "id": "08c97b81-64c5-48fb-8fe0-d36789cf3deb"
   },
   "source": [
    "The acceleration is consistently 10x+ for complex aggregations and sorting that involve multiple columns."
   ]
  },
  {
   "cell_type": "markdown",
   "id": "9bcc719b-666a-4bc9-97d6-16f448b5c707",
   "metadata": {
    "id": "9bcc719b-666a-4bc9-97d6-16f448b5c707"
   },
   "source": [
    "# Summary\n",
    "\n",
    "With cudf.pandas, you can keep using pandas as your primary dataframe library. When things start to get a little slow, just load the `cudf.pandas` extension and enjoy the incredible speedups.\n",
    "\n",
    "If you like Google Colab and want to get peak `cudf.pandas` performance to process even larger datasets, Google Colab's paid tier includes both L4 and A100 GPUs (in addition to the T4 GPU this demo notebook is using).\n",
    "\n",
    "To learn more about cudf.pandas, we encourage you to visit https://rapids.ai/cudf-pandas."
   ]
  },
  {
   "cell_type": "markdown",
   "id": "76bfe45d-dee5-435a-86ce-e3c945692a40",
   "metadata": {
    "id": "76bfe45d-dee5-435a-86ce-e3c945692a40"
   },
   "source": [
    "# Do you have any feedback for us?"
   ]
  },
  {
   "cell_type": "markdown",
   "id": "0d5ad763-961a-453b-ab65-f95c4b8c78df",
   "metadata": {
    "id": "0d5ad763-961a-453b-ab65-f95c4b8c78df"
   },
   "source": [
    "Fill this quick survey <a href=\"https://www.surveymonkey.com/r/TX3QQQR\">HERE</a>\n",
    "\n",
    "Raise an issue on our github repo <a href=\"https://github.com/rapidsai/cudf/issues\">HERE</a>"
   ]
  }
 ],
 "metadata": {
  "accelerator": "GPU",
  "colab": {
   "gpuType": "T4",
   "provenance": []
  },
  "kernelspec": {
   "display_name": "Python 3 (ipykernel)",
   "language": "python",
   "name": "python3"
  },
  "language_info": {
   "codemirror_mode": {
    "name": "ipython",
    "version": 3
   },
   "file_extension": ".py",
   "mimetype": "text/x-python",
   "name": "python",
   "nbconvert_exporter": "python",
   "pygments_lexer": "ipython3",
   "version": "3.12.9"
  }
 },
 "nbformat": 4,
 "nbformat_minor": 5
}
