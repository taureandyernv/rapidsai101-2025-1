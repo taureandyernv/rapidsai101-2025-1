{
 "cells": [
  {
   "cell_type": "markdown",
   "id": "e3d373d0",
   "metadata": {
    "colab_type": "text",
    "id": "view-in-github"
   },
   "source": [
    "<a href=\"https://colab.research.google.com/github/singhmanas1/showcase/blob/feat%2Fpolars_demo_revised/polars_demo_revised/accelerated_data_processing_examples/polars_gpu_engine_demo.ipynb\" target=\"_parent\"><img src=\"https://colab.research.google.com/assets/colab-badge.svg\" alt=\"Open In Colab\"/></a>"
   ]
  },
  {
   "cell_type": "markdown",
   "id": "3ee31ce0-49be-4f82-ab61-4d7f830ddca7",
   "metadata": {
    "id": "3ee31ce0-49be-4f82-ab61-4d7f830ddca7"
   },
   "source": [
    "## Introduction to the Polars GPU Engine\n",
    "\n",
    "Polars is a popular single machine DataFrame library powered by an OLAP Query Engine. Beginning in the v1.3 release, Polars can now leverage NVIDIA GPUs for even higher performance through its GPU engine (powered by RAPIDS cuDF).\n",
    "\n",
    "Designed to make processing 10-100+ GBs of data feel interactive with just a single GPU, this new engine is built directly into the Polars Lazy API – just pass <font color=\"#76B900\">**engine=\"gpu\"**</font> to the `collect` operation.\n",
    "\n",
    "The GPU engine fully utilizes the Polars optimizer to ensure efficient execution and minimal memory usage, is compatible with the ecosystem of tools built for Polars, and has graceful CPU fallback for unsupported queries.\n",
    "\n",
    "This notebook is a short introduction to the Polars GPU engine, powered by cuDF."
   ]
  },
  {
   "cell_type": "code",
   "execution_count": 1,
   "id": "06582ce0-5db4-46e6-8ced-1e65f97e54b1",
   "metadata": {
    "colab": {
     "base_uri": "https://localhost:8080/"
    },
    "id": "06582ce0-5db4-46e6-8ced-1e65f97e54b1",
    "outputId": "2d1b4473-b69a-4dcb-cb29-312c579c9664"
   },
   "outputs": [
    {
     "name": "stdout",
     "output_type": "stream",
     "text": [
      "Thu May  8 21:18:33 2025       \n",
      "+-----------------------------------------------------------------------------------------+\n",
      "| NVIDIA-SMI 570.124.06             Driver Version: 570.124.06     CUDA Version: 12.8     |\n",
      "|-----------------------------------------+------------------------+----------------------+\n",
      "| GPU  Name                 Persistence-M | Bus-Id          Disp.A | Volatile Uncorr. ECC |\n",
      "| Fan  Temp   Perf          Pwr:Usage/Cap |           Memory-Usage | GPU-Util  Compute M. |\n",
      "|                                         |                        |               MIG M. |\n",
      "|=========================================+========================+======================|\n",
      "|   0  NVIDIA H100 PCIe               Off |   00000000:01:00.0 Off |                    0 |\n",
      "| N/A   53C    P0             89W /  310W |    4559MiB /  81559MiB |      0%      Default |\n"
     ]
    }
   ],
   "source": [
    "!nvidia-smi | head"
   ]
  },
  {
   "cell_type": "code",
   "execution_count": 2,
   "id": "91244434-bf27-4c54-8e02-deb0215e4c66",
   "metadata": {
    "colab": {
     "base_uri": "https://localhost:8080/"
    },
    "id": "91244434-bf27-4c54-8e02-deb0215e4c66",
    "outputId": "65d64d72-fe9f-41a3-e30b-87ecf5c3a5ee"
   },
   "outputs": [
    {
     "name": "stdout",
     "output_type": "stream",
     "text": [
      "Model name:                           Neoverse-N1\n",
      "Model:                                1\n",
      "Socket(s):                            -\n"
     ]
    }
   ],
   "source": [
    "!lscpu | grep -E \"Model|Socket\""
   ]
  },
  {
   "cell_type": "markdown",
   "id": "W_-gtW5OFaXw",
   "metadata": {
    "id": "W_-gtW5OFaXw"
   },
   "source": [
    "# Setup"
   ]
  },
  {
   "cell_type": "markdown",
   "id": "TabS5fiHG0dG",
   "metadata": {
    "id": "TabS5fiHG0dG"
   },
   "source": [
    "## Installing the Polars GPU Engine in other Systems\n",
    "\n",
    "Install Polars with GPU Engine by using a feature flag in the standard pip install command  `pip install polars[gpu] --extra-index-url=https://pypi.nvidia.com`.\n",
    "\n",
    "If you already have polars and need to update it, you can add the `-U` flag...\n",
    "`!pip install -U polars[gpu] --extra-index-url=https://pypi.nvidia.com`\n",
    "\n",
    "...BUT the system you are currently on doesn't need it"
   ]
  },
  {
   "cell_type": "markdown",
   "id": "VennSeDTFf6W",
   "metadata": {
    "id": "VennSeDTFf6W"
   },
   "source": [
    "# Install Other Important Dependencies\n",
    "To use the built-in data visualization capabilities of Polars, you'll need to install a few additional dependencies.  We'll also install pynvml to help us determine which dataset size to use."
   ]
  },
  {
   "cell_type": "code",
   "execution_count": 3,
   "id": "FkCyRc9ufSWS",
   "metadata": {
    "id": "FkCyRc9ufSWS"
   },
   "outputs": [
    {
     "name": "stdout",
     "output_type": "stream",
     "text": [
      "Requirement already satisfied: hvplot in /opt/conda/lib/python3.12/site-packages (0.11.3)\n",
      "Requirement already satisfied: jupyter_bokeh in /opt/conda/lib/python3.12/site-packages (4.0.5)\n",
      "Requirement already satisfied: holoviews in /opt/conda/lib/python3.12/site-packages (1.20.2)\n",
      "Requirement already satisfied: pynvml in /opt/conda/lib/python3.12/site-packages (12.0.0)\n",
      "Requirement already satisfied: bokeh>=3.1 in /opt/conda/lib/python3.12/site-packages (from hvplot) (3.6.3)\n",
      "Requirement already satisfied: colorcet>=2 in /opt/conda/lib/python3.12/site-packages (from hvplot) (3.1.0)\n",
      "Requirement already satisfied: numpy>=1.21 in /opt/conda/lib/python3.12/site-packages (from hvplot) (2.0.2)\n",
      "Requirement already satisfied: packaging in /opt/conda/lib/python3.12/site-packages (from hvplot) (24.2)\n",
      "Requirement already satisfied: pandas>=1.3 in /opt/conda/lib/python3.12/site-packages (from hvplot) (2.2.3)\n",
      "Requirement already satisfied: panel>=1.0 in /opt/conda/lib/python3.12/site-packages (from hvplot) (1.6.2)\n",
      "Requirement already satisfied: param<3.0,>=1.12.0 in /opt/conda/lib/python3.12/site-packages (from hvplot) (2.2.0)\n",
      "Requirement already satisfied: ipywidgets==8.* in /opt/conda/lib/python3.12/site-packages (from jupyter_bokeh) (8.1.6)\n",
      "Requirement already satisfied: Jinja2>=2.9 in /opt/conda/lib/python3.12/site-packages (from bokeh>=3.1->hvplot) (3.1.6)\n",
      "Requirement already satisfied: contourpy>=1.2 in /opt/conda/lib/python3.12/site-packages (from bokeh>=3.1->hvplot) (1.3.1)\n",
      "Requirement already satisfied: pillow>=7.1.0 in /opt/conda/lib/python3.12/site-packages (from bokeh>=3.1->hvplot) (11.1.0)\n",
      "Requirement already satisfied: PyYAML>=3.10 in /opt/conda/lib/python3.12/site-packages (from bokeh>=3.1->hvplot) (6.0.2)\n",
      "Requirement already satisfied: tornado>=6.2 in /opt/conda/lib/python3.12/site-packages (from bokeh>=3.1->hvplot) (6.4.2)\n",
      "Requirement already satisfied: xyzservices>=2021.09.1 in /opt/conda/lib/python3.12/site-packages (from bokeh>=3.1->hvplot) (2025.1.0)\n",
      "Requirement already satisfied: comm>=0.1.3 in /opt/conda/lib/python3.12/site-packages (from ipywidgets==8.*->jupyter_bokeh) (0.2.2)\n",
      "Requirement already satisfied: ipython>=6.1.0 in /opt/conda/lib/python3.12/site-packages (from ipywidgets==8.*->jupyter_bokeh) (9.1.0)\n",
      "Requirement already satisfied: traitlets>=4.3.1 in /opt/conda/lib/python3.12/site-packages (from ipywidgets==8.*->jupyter_bokeh) (5.14.3)\n",
      "Requirement already satisfied: widgetsnbextension~=4.0.14 in /opt/conda/lib/python3.12/site-packages (from ipywidgets==8.*->jupyter_bokeh) (4.0.14)\n",
      "Requirement already satisfied: jupyterlab_widgets~=3.0.14 in /opt/conda/lib/python3.12/site-packages (from ipywidgets==8.*->jupyter_bokeh) (3.0.14)\n",
      "Requirement already satisfied: pyviz-comms>=2.1 in /opt/conda/lib/python3.12/site-packages (from holoviews) (3.0.4)\n",
      "Requirement already satisfied: nvidia-ml-py<13.0.0a0,>=12.0.0 in /opt/conda/lib/python3.12/site-packages (from pynvml) (12.570.86)\n",
      "Requirement already satisfied: python-dateutil>=2.8.2 in /opt/conda/lib/python3.12/site-packages (from pandas>=1.3->hvplot) (2.9.0.post0)\n",
      "Requirement already satisfied: pytz>=2020.1 in /opt/conda/lib/python3.12/site-packages (from pandas>=1.3->hvplot) (2024.1)\n",
      "Requirement already satisfied: tzdata>=2022.7 in /opt/conda/lib/python3.12/site-packages (from pandas>=1.3->hvplot) (2025.2)\n",
      "Requirement already satisfied: bleach in /opt/conda/lib/python3.12/site-packages (from panel>=1.0->hvplot) (6.2.0)\n",
      "Requirement already satisfied: linkify-it-py in /opt/conda/lib/python3.12/site-packages (from panel>=1.0->hvplot) (2.0.3)\n",
      "Requirement already satisfied: markdown in /opt/conda/lib/python3.12/site-packages (from panel>=1.0->hvplot) (3.6)\n",
      "Requirement already satisfied: markdown-it-py in /opt/conda/lib/python3.12/site-packages (from panel>=1.0->hvplot) (3.0.0)\n",
      "Requirement already satisfied: mdit-py-plugins in /opt/conda/lib/python3.12/site-packages (from panel>=1.0->hvplot) (0.4.2)\n",
      "Requirement already satisfied: requests in /opt/conda/lib/python3.12/site-packages (from panel>=1.0->hvplot) (2.32.3)\n",
      "Requirement already satisfied: tqdm in /opt/conda/lib/python3.12/site-packages (from panel>=1.0->hvplot) (4.67.1)\n",
      "Requirement already satisfied: typing-extensions in /opt/conda/lib/python3.12/site-packages (from panel>=1.0->hvplot) (4.13.2)\n",
      "Requirement already satisfied: decorator in /opt/conda/lib/python3.12/site-packages (from ipython>=6.1.0->ipywidgets==8.*->jupyter_bokeh) (5.2.1)\n",
      "Requirement already satisfied: ipython-pygments-lexers in /opt/conda/lib/python3.12/site-packages (from ipython>=6.1.0->ipywidgets==8.*->jupyter_bokeh) (1.1.1)\n",
      "Requirement already satisfied: jedi>=0.16 in /opt/conda/lib/python3.12/site-packages (from ipython>=6.1.0->ipywidgets==8.*->jupyter_bokeh) (0.19.2)\n",
      "Requirement already satisfied: matplotlib-inline in /opt/conda/lib/python3.12/site-packages (from ipython>=6.1.0->ipywidgets==8.*->jupyter_bokeh) (0.1.7)\n",
      "Requirement already satisfied: pexpect>4.3 in /opt/conda/lib/python3.12/site-packages (from ipython>=6.1.0->ipywidgets==8.*->jupyter_bokeh) (4.9.0)\n",
      "Requirement already satisfied: prompt_toolkit<3.1.0,>=3.0.41 in /opt/conda/lib/python3.12/site-packages (from ipython>=6.1.0->ipywidgets==8.*->jupyter_bokeh) (3.0.50)\n",
      "Requirement already satisfied: pygments>=2.4.0 in /opt/conda/lib/python3.12/site-packages (from ipython>=6.1.0->ipywidgets==8.*->jupyter_bokeh) (2.19.1)\n",
      "Requirement already satisfied: stack_data in /opt/conda/lib/python3.12/site-packages (from ipython>=6.1.0->ipywidgets==8.*->jupyter_bokeh) (0.6.3)\n",
      "Requirement already satisfied: MarkupSafe>=2.0 in /opt/conda/lib/python3.12/site-packages (from Jinja2>=2.9->bokeh>=3.1->hvplot) (3.0.2)\n",
      "Requirement already satisfied: six>=1.5 in /opt/conda/lib/python3.12/site-packages (from python-dateutil>=2.8.2->pandas>=1.3->hvplot) (1.17.0)\n",
      "Requirement already satisfied: webencodings in /opt/conda/lib/python3.12/site-packages (from bleach->panel>=1.0->hvplot) (0.5.1)\n",
      "Requirement already satisfied: uc-micro-py in /opt/conda/lib/python3.12/site-packages (from linkify-it-py->panel>=1.0->hvplot) (1.0.3)\n",
      "Requirement already satisfied: mdurl~=0.1 in /opt/conda/lib/python3.12/site-packages (from markdown-it-py->panel>=1.0->hvplot) (0.1.2)\n",
      "Requirement already satisfied: charset_normalizer<4,>=2 in /opt/conda/lib/python3.12/site-packages (from requests->panel>=1.0->hvplot) (3.4.1)\n",
      "Requirement already satisfied: idna<4,>=2.5 in /opt/conda/lib/python3.12/site-packages (from requests->panel>=1.0->hvplot) (3.10)\n",
      "Requirement already satisfied: urllib3<3,>=1.21.1 in /opt/conda/lib/python3.12/site-packages (from requests->panel>=1.0->hvplot) (2.3.0)\n",
      "Requirement already satisfied: certifi>=2017.4.17 in /opt/conda/lib/python3.12/site-packages (from requests->panel>=1.0->hvplot) (2025.1.31)\n",
      "Requirement already satisfied: parso<0.9.0,>=0.8.4 in /opt/conda/lib/python3.12/site-packages (from jedi>=0.16->ipython>=6.1.0->ipywidgets==8.*->jupyter_bokeh) (0.8.4)\n",
      "Requirement already satisfied: ptyprocess>=0.5 in /opt/conda/lib/python3.12/site-packages (from pexpect>4.3->ipython>=6.1.0->ipywidgets==8.*->jupyter_bokeh) (0.7.0)\n",
      "Requirement already satisfied: wcwidth in /opt/conda/lib/python3.12/site-packages (from prompt_toolkit<3.1.0,>=3.0.41->ipython>=6.1.0->ipywidgets==8.*->jupyter_bokeh) (0.2.13)\n",
      "Requirement already satisfied: executing>=1.2.0 in /opt/conda/lib/python3.12/site-packages (from stack_data->ipython>=6.1.0->ipywidgets==8.*->jupyter_bokeh) (2.1.0)\n",
      "Requirement already satisfied: asttokens>=2.1.0 in /opt/conda/lib/python3.12/site-packages (from stack_data->ipython>=6.1.0->ipywidgets==8.*->jupyter_bokeh) (3.0.0)\n",
      "Requirement already satisfied: pure_eval in /opt/conda/lib/python3.12/site-packages (from stack_data->ipython>=6.1.0->ipywidgets==8.*->jupyter_bokeh) (0.2.3)\n",
      "\u001b[33mWARNING: Running pip as the 'root' user can result in broken permissions and conflicting behaviour with the system package manager, possibly rendering your system unusable. It is recommended to use a virtual environment instead: https://pip.pypa.io/warnings/venv. Use the --root-user-action option if you know what you are doing and want to suppress this warning.\u001b[0m\u001b[33m\n",
      "\u001b[0m"
     ]
    }
   ],
   "source": [
    "!pip install hvplot jupyter_bokeh holoviews pynvml"
   ]
  },
  {
   "cell_type": "markdown",
   "id": "420f36d3-b9c6-43b1-bdd7-a18ede3a1330",
   "metadata": {
    "id": "420f36d3-b9c6-43b1-bdd7-a18ede3a1330"
   },
   "source": [
    "## Download the Data\n",
    "\n",
    "We'll be working with a roughly 22GB dataset of [simulated financial transactions from Kaggle](https://www.kaggle.com/datasets/conorsully1/simulated-transactions) by default. If you're running this notebook on Google Colab using the T4 GPU in the Colab free tier, we'll download a smaller version of this dataset (about 20% of the size) to fit on the relatively weaker CPU and GPU.\n",
    "\n",
    "We're downloading a copy of this dataset from a GCS bucket hosted by NVIDIA to provide faster download speeds. We'll start by downloading the data. This should take about 30 seconds."
   ]
  },
  {
   "cell_type": "code",
   "execution_count": 4,
   "id": "cea57483-1979-4715-a5c8-c48bc8f63667",
   "metadata": {
    "colab": {
     "base_uri": "https://localhost:8080/"
    },
    "id": "cea57483-1979-4715-a5c8-c48bc8f63667",
    "outputId": "3249af8e-7fa0-48f8-addd-c38a0c08543f"
   },
   "outputs": [],
   "source": [
    "import pynvml\n",
    "import os \n",
    "import urllib.request\n",
    "pynvml.nvmlInit()\n",
    "pynvml.nvmlDeviceGetName(pynvml.nvmlDeviceGetHandleByIndex(0))\n",
    "mem = pynvml.nvmlDeviceGetMemoryInfo(pynvml.nvmlDeviceGetHandleByIndex(0))\n",
    "mem = mem.total/1e9\n",
    "\n",
    "top_dir = \"./data/\"\n",
    "if not os.path.exists(top_dir):\n",
    "    print('creating data directory')\n",
    "    os.system('mkdir ./data')\n",
    "data_dir = './data/financials/'\n",
    "if not os.path.exists(data_dir):\n",
    "    print('creating financials data directory')\n",
    "    os.system('mkdir ./data/financials/')\n",
    "    \n"
   ]
  },
  {
   "cell_type": "code",
   "execution_count": 5,
   "id": "925aa7af-6cfb-4d6b-89ac-40b322932847",
   "metadata": {},
   "outputs": [],
   "source": [
    "base_url = 'https://storage.googleapis.com/rapidsai/polars-demo/'\n",
    "fn = 'transactions.parquet'\n",
    "\n",
    "if mem < 24: # For smaller GPUs\n",
    "    dl = 'transactions-t4-20.parquet'\n",
    "    \n",
    "    if not os.path.isfile(data_dir+fn):\n",
    "        print(f'Downloading {base_url+dl} to {data_dir+dl}')\n",
    "        urllib.request.urlretrieve(base_url+dl, data_dir+dl)\n",
    "        print(f'Renaming {dl} to {fn}')\n",
    "        os.rename(data_dir+dl, data_dir+fn)\n",
    "else: # For larger GPUs\n",
    "    if not os.path.isfile(data_dir+fn):\n",
    "        print(f'Downloading {base_url+fn} to {data_dir+fn}')\n",
    "        urllib.request.urlretrieve(base_url+fn, data_dir+fn)\n",
    "\n",
    "rd = 'rainfall_data_2010_2020.csv'\n",
    "if not os.path.isfile(data_dir+rd):\n",
    "    print(f'Downloading {base_url+rd} to {data_dir+rd}')\n",
    "    urllib.request.urlretrieve(base_url+rd, data_dir+rd)"
   ]
  },
  {
   "cell_type": "markdown",
   "id": "c642c436-05cf-472a-833e-4c8872bdd269",
   "metadata": {
    "id": "c642c436-05cf-472a-833e-4c8872bdd269"
   },
   "source": [
    "## Data License and Terms\n",
    "As this dataset originates from Kaggle, it's governed by a Kaggle dataset-specific license and terms of use.\n",
    "\n",
    "> ### CC0 1.0 Universal\n",
    "> **No Copyright**\n",
    "\n",
    ">The person who associated a work with this deed has dedicated the work to the public domain by waiving all of his or her rights to the work worldwide under copyright law, including all related and neighboring rights, to the extent allowed by law.\n",
    "You can copy, modify, distribute and perform the work, even for commercial purposes, all without asking permission. See Other Information below.\n",
    "\n",
    "> **Other Information**\n",
    "\n",
    ">In no way are the patent or trademark rights of any person affected by CC0, nor are the rights that other persons may have in the work or in how the work is used, such as publicity or privacy rights.\n",
    "Unless expressly stated otherwise, the person who associated a work with this deed makes no warranties about the work, and disclaims liability for all uses of the work, to the fullest extent permitted by applicable law.\n",
    "When using or citing the work, you should not imply endorsement by the author or the affirmer.\n"
   ]
  },
  {
   "cell_type": "markdown",
   "id": "a07de20a-ef6f-40fe-ab00-8a11e9c4f1e3",
   "metadata": {
    "id": "a07de20a-ef6f-40fe-ab00-8a11e9c4f1e3"
   },
   "source": [
    "# Getting Started"
   ]
  },
  {
   "cell_type": "markdown",
   "id": "ea333c53-6402-43d6-b196-91d7e199b315",
   "metadata": {
    "id": "ea333c53-6402-43d6-b196-91d7e199b315"
   },
   "source": [
    "With this dataset, we expect to see some meaningful performance benefits using NVIDIA GPUs for computationally heavy queries and limited benefits for basic queries that are primarily bottlenecked by reading data.\n",
    "\n",
    "To begin, let's use Polars to read the parquet file and look at the schema and first few rows."
   ]
  },
  {
   "cell_type": "code",
   "execution_count": 6,
   "id": "eb8364ee-3db7-40ae-80bd-76572c4e41ff",
   "metadata": {
    "id": "eb8364ee-3db7-40ae-80bd-76572c4e41ff",
    "tags": []
   },
   "outputs": [
    {
     "data": {
      "text/html": [
       "<script type=\"esms-options\">{\"shimMode\": true}</script><style>*[data-root-id],\n",
       "*[data-root-id] > * {\n",
       "  box-sizing: border-box;\n",
       "  font-family: var(--jp-ui-font-family);\n",
       "  font-size: var(--jp-ui-font-size1);\n",
       "  color: var(--vscode-editor-foreground, var(--jp-ui-font-color1));\n",
       "}\n",
       "\n",
       "/* Override VSCode background color */\n",
       ".cell-output-ipywidget-background:has(\n",
       "    > .cell-output-ipywidget-background > .lm-Widget > *[data-root-id]\n",
       "  ),\n",
       ".cell-output-ipywidget-background:has(> .lm-Widget > *[data-root-id]) {\n",
       "  background-color: transparent !important;\n",
       "}\n",
       "</style>"
      ]
     },
     "metadata": {},
     "output_type": "display_data"
    },
    {
     "data": {
      "application/javascript": [
       "(function(root) {\n",
       "  function now() {\n",
       "    return new Date();\n",
       "  }\n",
       "\n",
       "  const force = true;\n",
       "  const py_version = '3.6.3'.replace('rc', '-rc.').replace('.dev', '-dev.');\n",
       "  const reloading = false;\n",
       "  const Bokeh = root.Bokeh;\n",
       "\n",
       "  // Set a timeout for this load but only if we are not already initializing\n",
       "  if (typeof (root._bokeh_timeout) === \"undefined\" || (force || !root._bokeh_is_initializing)) {\n",
       "    root._bokeh_timeout = Date.now() + 5000;\n",
       "    root._bokeh_failed_load = false;\n",
       "  }\n",
       "\n",
       "  function run_callbacks() {\n",
       "    try {\n",
       "      root._bokeh_onload_callbacks.forEach(function(callback) {\n",
       "        if (callback != null)\n",
       "          callback();\n",
       "      });\n",
       "    } finally {\n",
       "      delete root._bokeh_onload_callbacks;\n",
       "    }\n",
       "    console.debug(\"Bokeh: all callbacks have finished\");\n",
       "  }\n",
       "\n",
       "  function load_libs(css_urls, js_urls, js_modules, js_exports, callback) {\n",
       "    if (css_urls == null) css_urls = [];\n",
       "    if (js_urls == null) js_urls = [];\n",
       "    if (js_modules == null) js_modules = [];\n",
       "    if (js_exports == null) js_exports = {};\n",
       "\n",
       "    root._bokeh_onload_callbacks.push(callback);\n",
       "\n",
       "    if (root._bokeh_is_loading > 0) {\n",
       "      // Don't load bokeh if it is still initializing\n",
       "      console.debug(\"Bokeh: BokehJS is being loaded, scheduling callback at\", now());\n",
       "      return null;\n",
       "    } else if (js_urls.length === 0 && js_modules.length === 0 && Object.keys(js_exports).length === 0) {\n",
       "      // There is nothing to load\n",
       "      run_callbacks();\n",
       "      return null;\n",
       "    }\n",
       "\n",
       "    function on_load() {\n",
       "      root._bokeh_is_loading--;\n",
       "      if (root._bokeh_is_loading === 0) {\n",
       "        console.debug(\"Bokeh: all BokehJS libraries/stylesheets loaded\");\n",
       "        run_callbacks()\n",
       "      }\n",
       "    }\n",
       "    window._bokeh_on_load = on_load\n",
       "\n",
       "    function on_error(e) {\n",
       "      const src_el = e.srcElement\n",
       "      console.error(\"failed to load \" + (src_el.href || src_el.src));\n",
       "    }\n",
       "\n",
       "    const skip = [];\n",
       "    if (window.requirejs) {\n",
       "      window.requirejs.config({'packages': {}, 'paths': {}, 'shim': {}});\n",
       "      root._bokeh_is_loading = css_urls.length + 0;\n",
       "    } else {\n",
       "      root._bokeh_is_loading = css_urls.length + js_urls.length + js_modules.length + Object.keys(js_exports).length;\n",
       "    }\n",
       "\n",
       "    const existing_stylesheets = []\n",
       "    const links = document.getElementsByTagName('link')\n",
       "    for (let i = 0; i < links.length; i++) {\n",
       "      const link = links[i]\n",
       "      if (link.href != null) {\n",
       "        existing_stylesheets.push(link.href)\n",
       "      }\n",
       "    }\n",
       "    for (let i = 0; i < css_urls.length; i++) {\n",
       "      const url = css_urls[i];\n",
       "      const escaped = encodeURI(url)\n",
       "      if (existing_stylesheets.indexOf(escaped) !== -1) {\n",
       "        on_load()\n",
       "        continue;\n",
       "      }\n",
       "      const element = document.createElement(\"link\");\n",
       "      element.onload = on_load;\n",
       "      element.onerror = on_error;\n",
       "      element.rel = \"stylesheet\";\n",
       "      element.type = \"text/css\";\n",
       "      element.href = url;\n",
       "      console.debug(\"Bokeh: injecting link tag for BokehJS stylesheet: \", url);\n",
       "      document.body.appendChild(element);\n",
       "    }    var existing_scripts = []\n",
       "    const scripts = document.getElementsByTagName('script')\n",
       "    for (let i = 0; i < scripts.length; i++) {\n",
       "      var script = scripts[i]\n",
       "      if (script.src != null) {\n",
       "        existing_scripts.push(script.src)\n",
       "      }\n",
       "    }\n",
       "    for (let i = 0; i < js_urls.length; i++) {\n",
       "      const url = js_urls[i];\n",
       "      const escaped = encodeURI(url)\n",
       "      if (skip.indexOf(escaped) !== -1 || existing_scripts.indexOf(escaped) !== -1) {\n",
       "        if (!window.requirejs) {\n",
       "          on_load();\n",
       "        }\n",
       "        continue;\n",
       "      }\n",
       "      const element = document.createElement('script');\n",
       "      element.onload = on_load;\n",
       "      element.onerror = on_error;\n",
       "      element.async = false;\n",
       "      element.src = url;\n",
       "      console.debug(\"Bokeh: injecting script tag for BokehJS library: \", url);\n",
       "      document.head.appendChild(element);\n",
       "    }\n",
       "    for (let i = 0; i < js_modules.length; i++) {\n",
       "      const url = js_modules[i];\n",
       "      const escaped = encodeURI(url)\n",
       "      if (skip.indexOf(escaped) !== -1 || existing_scripts.indexOf(escaped) !== -1) {\n",
       "        if (!window.requirejs) {\n",
       "          on_load();\n",
       "        }\n",
       "        continue;\n",
       "      }\n",
       "      var element = document.createElement('script');\n",
       "      element.onload = on_load;\n",
       "      element.onerror = on_error;\n",
       "      element.async = false;\n",
       "      element.src = url;\n",
       "      element.type = \"module\";\n",
       "      console.debug(\"Bokeh: injecting script tag for BokehJS library: \", url);\n",
       "      document.head.appendChild(element);\n",
       "    }\n",
       "    for (const name in js_exports) {\n",
       "      const url = js_exports[name];\n",
       "      const escaped = encodeURI(url)\n",
       "      if (skip.indexOf(escaped) >= 0 || root[name] != null) {\n",
       "        if (!window.requirejs) {\n",
       "          on_load();\n",
       "        }\n",
       "        continue;\n",
       "      }\n",
       "      var element = document.createElement('script');\n",
       "      element.onerror = on_error;\n",
       "      element.async = false;\n",
       "      element.type = \"module\";\n",
       "      console.debug(\"Bokeh: injecting script tag for BokehJS library: \", url);\n",
       "      element.textContent = `\n",
       "      import ${name} from \"${url}\"\n",
       "      window.${name} = ${name}\n",
       "      window._bokeh_on_load()\n",
       "      `\n",
       "      document.head.appendChild(element);\n",
       "    }\n",
       "    if (!js_urls.length && !js_modules.length) {\n",
       "      on_load()\n",
       "    }\n",
       "  };\n",
       "\n",
       "  function inject_raw_css(css) {\n",
       "    const element = document.createElement(\"style\");\n",
       "    element.appendChild(document.createTextNode(css));\n",
       "    document.body.appendChild(element);\n",
       "  }\n",
       "\n",
       "  const js_urls = [\"https://cdn.holoviz.org/panel/1.6.2/dist/bundled/reactiveesm/es-module-shims@^1.10.0/dist/es-module-shims.min.js\", \"https://cdn.bokeh.org/bokeh/release/bokeh-3.6.3.min.js\", \"https://cdn.bokeh.org/bokeh/release/bokeh-gl-3.6.3.min.js\", \"https://cdn.bokeh.org/bokeh/release/bokeh-widgets-3.6.3.min.js\", \"https://cdn.bokeh.org/bokeh/release/bokeh-tables-3.6.3.min.js\", \"https://cdn.holoviz.org/panel/1.6.2/dist/panel.min.js\"];\n",
       "  const js_modules = [];\n",
       "  const js_exports = {};\n",
       "  const css_urls = [];\n",
       "  const inline_js = [    function(Bokeh) {\n",
       "      Bokeh.set_log_level(\"info\");\n",
       "    },\n",
       "function(Bokeh) {} // ensure no trailing comma for IE\n",
       "  ];\n",
       "\n",
       "  function run_inline_js() {\n",
       "    if ((root.Bokeh !== undefined) || (force === true)) {\n",
       "      for (let i = 0; i < inline_js.length; i++) {\n",
       "        try {\n",
       "          inline_js[i].call(root, root.Bokeh);\n",
       "        } catch(e) {\n",
       "          if (!reloading) {\n",
       "            throw e;\n",
       "          }\n",
       "        }\n",
       "      }\n",
       "      // Cache old bokeh versions\n",
       "      if (Bokeh != undefined && !reloading) {\n",
       "        var NewBokeh = root.Bokeh;\n",
       "        if (Bokeh.versions === undefined) {\n",
       "          Bokeh.versions = new Map();\n",
       "        }\n",
       "        if (NewBokeh.version !== Bokeh.version) {\n",
       "          Bokeh.versions.set(NewBokeh.version, NewBokeh)\n",
       "        }\n",
       "        root.Bokeh = Bokeh;\n",
       "      }\n",
       "    } else if (Date.now() < root._bokeh_timeout) {\n",
       "      setTimeout(run_inline_js, 100);\n",
       "    } else if (!root._bokeh_failed_load) {\n",
       "      console.log(\"Bokeh: BokehJS failed to load within specified timeout.\");\n",
       "      root._bokeh_failed_load = true;\n",
       "    }\n",
       "    root._bokeh_is_initializing = false\n",
       "  }\n",
       "\n",
       "  function load_or_wait() {\n",
       "    // Implement a backoff loop that tries to ensure we do not load multiple\n",
       "    // versions of Bokeh and its dependencies at the same time.\n",
       "    // In recent versions we use the root._bokeh_is_initializing flag\n",
       "    // to determine whether there is an ongoing attempt to initialize\n",
       "    // bokeh, however for backward compatibility we also try to ensure\n",
       "    // that we do not start loading a newer (Panel>=1.0 and Bokeh>3) version\n",
       "    // before older versions are fully initialized.\n",
       "    if (root._bokeh_is_initializing && Date.now() > root._bokeh_timeout) {\n",
       "      // If the timeout and bokeh was not successfully loaded we reset\n",
       "      // everything and try loading again\n",
       "      root._bokeh_timeout = Date.now() + 5000;\n",
       "      root._bokeh_is_initializing = false;\n",
       "      root._bokeh_onload_callbacks = undefined;\n",
       "      root._bokeh_is_loading = 0\n",
       "      console.log(\"Bokeh: BokehJS was loaded multiple times but one version failed to initialize.\");\n",
       "      load_or_wait();\n",
       "    } else if (root._bokeh_is_initializing || (typeof root._bokeh_is_initializing === \"undefined\" && root._bokeh_onload_callbacks !== undefined)) {\n",
       "      setTimeout(load_or_wait, 100);\n",
       "    } else {\n",
       "      root._bokeh_is_initializing = true\n",
       "      root._bokeh_onload_callbacks = []\n",
       "      const bokeh_loaded = root.Bokeh != null && (root.Bokeh.version === py_version || (root.Bokeh.versions !== undefined && root.Bokeh.versions.has(py_version)));\n",
       "      if (!reloading && !bokeh_loaded) {\n",
       "        if (root.Bokeh) {\n",
       "          root.Bokeh = undefined;\n",
       "        }\n",
       "        console.debug(\"Bokeh: BokehJS not loaded, scheduling load and callback at\", now());\n",
       "      }\n",
       "      load_libs(css_urls, js_urls, js_modules, js_exports, function() {\n",
       "        console.debug(\"Bokeh: BokehJS plotting callback run at\", now());\n",
       "        run_inline_js();\n",
       "      });\n",
       "    }\n",
       "  }\n",
       "  // Give older versions of the autoload script a head-start to ensure\n",
       "  // they initialize before we start loading newer version.\n",
       "  setTimeout(load_or_wait, 100)\n",
       "}(window));"
      ],
      "application/vnd.holoviews_load.v0+json": "(function(root) {\n  function now() {\n    return new Date();\n  }\n\n  const force = true;\n  const py_version = '3.6.3'.replace('rc', '-rc.').replace('.dev', '-dev.');\n  const reloading = false;\n  const Bokeh = root.Bokeh;\n\n  // Set a timeout for this load but only if we are not already initializing\n  if (typeof (root._bokeh_timeout) === \"undefined\" || (force || !root._bokeh_is_initializing)) {\n    root._bokeh_timeout = Date.now() + 5000;\n    root._bokeh_failed_load = false;\n  }\n\n  function run_callbacks() {\n    try {\n      root._bokeh_onload_callbacks.forEach(function(callback) {\n        if (callback != null)\n          callback();\n      });\n    } finally {\n      delete root._bokeh_onload_callbacks;\n    }\n    console.debug(\"Bokeh: all callbacks have finished\");\n  }\n\n  function load_libs(css_urls, js_urls, js_modules, js_exports, callback) {\n    if (css_urls == null) css_urls = [];\n    if (js_urls == null) js_urls = [];\n    if (js_modules == null) js_modules = [];\n    if (js_exports == null) js_exports = {};\n\n    root._bokeh_onload_callbacks.push(callback);\n\n    if (root._bokeh_is_loading > 0) {\n      // Don't load bokeh if it is still initializing\n      console.debug(\"Bokeh: BokehJS is being loaded, scheduling callback at\", now());\n      return null;\n    } else if (js_urls.length === 0 && js_modules.length === 0 && Object.keys(js_exports).length === 0) {\n      // There is nothing to load\n      run_callbacks();\n      return null;\n    }\n\n    function on_load() {\n      root._bokeh_is_loading--;\n      if (root._bokeh_is_loading === 0) {\n        console.debug(\"Bokeh: all BokehJS libraries/stylesheets loaded\");\n        run_callbacks()\n      }\n    }\n    window._bokeh_on_load = on_load\n\n    function on_error(e) {\n      const src_el = e.srcElement\n      console.error(\"failed to load \" + (src_el.href || src_el.src));\n    }\n\n    const skip = [];\n    if (window.requirejs) {\n      window.requirejs.config({'packages': {}, 'paths': {}, 'shim': {}});\n      root._bokeh_is_loading = css_urls.length + 0;\n    } else {\n      root._bokeh_is_loading = css_urls.length + js_urls.length + js_modules.length + Object.keys(js_exports).length;\n    }\n\n    const existing_stylesheets = []\n    const links = document.getElementsByTagName('link')\n    for (let i = 0; i < links.length; i++) {\n      const link = links[i]\n      if (link.href != null) {\n        existing_stylesheets.push(link.href)\n      }\n    }\n    for (let i = 0; i < css_urls.length; i++) {\n      const url = css_urls[i];\n      const escaped = encodeURI(url)\n      if (existing_stylesheets.indexOf(escaped) !== -1) {\n        on_load()\n        continue;\n      }\n      const element = document.createElement(\"link\");\n      element.onload = on_load;\n      element.onerror = on_error;\n      element.rel = \"stylesheet\";\n      element.type = \"text/css\";\n      element.href = url;\n      console.debug(\"Bokeh: injecting link tag for BokehJS stylesheet: \", url);\n      document.body.appendChild(element);\n    }    var existing_scripts = []\n    const scripts = document.getElementsByTagName('script')\n    for (let i = 0; i < scripts.length; i++) {\n      var script = scripts[i]\n      if (script.src != null) {\n        existing_scripts.push(script.src)\n      }\n    }\n    for (let i = 0; i < js_urls.length; i++) {\n      const url = js_urls[i];\n      const escaped = encodeURI(url)\n      if (skip.indexOf(escaped) !== -1 || existing_scripts.indexOf(escaped) !== -1) {\n        if (!window.requirejs) {\n          on_load();\n        }\n        continue;\n      }\n      const element = document.createElement('script');\n      element.onload = on_load;\n      element.onerror = on_error;\n      element.async = false;\n      element.src = url;\n      console.debug(\"Bokeh: injecting script tag for BokehJS library: \", url);\n      document.head.appendChild(element);\n    }\n    for (let i = 0; i < js_modules.length; i++) {\n      const url = js_modules[i];\n      const escaped = encodeURI(url)\n      if (skip.indexOf(escaped) !== -1 || existing_scripts.indexOf(escaped) !== -1) {\n        if (!window.requirejs) {\n          on_load();\n        }\n        continue;\n      }\n      var element = document.createElement('script');\n      element.onload = on_load;\n      element.onerror = on_error;\n      element.async = false;\n      element.src = url;\n      element.type = \"module\";\n      console.debug(\"Bokeh: injecting script tag for BokehJS library: \", url);\n      document.head.appendChild(element);\n    }\n    for (const name in js_exports) {\n      const url = js_exports[name];\n      const escaped = encodeURI(url)\n      if (skip.indexOf(escaped) >= 0 || root[name] != null) {\n        if (!window.requirejs) {\n          on_load();\n        }\n        continue;\n      }\n      var element = document.createElement('script');\n      element.onerror = on_error;\n      element.async = false;\n      element.type = \"module\";\n      console.debug(\"Bokeh: injecting script tag for BokehJS library: \", url);\n      element.textContent = `\n      import ${name} from \"${url}\"\n      window.${name} = ${name}\n      window._bokeh_on_load()\n      `\n      document.head.appendChild(element);\n    }\n    if (!js_urls.length && !js_modules.length) {\n      on_load()\n    }\n  };\n\n  function inject_raw_css(css) {\n    const element = document.createElement(\"style\");\n    element.appendChild(document.createTextNode(css));\n    document.body.appendChild(element);\n  }\n\n  const js_urls = [\"https://cdn.holoviz.org/panel/1.6.2/dist/bundled/reactiveesm/es-module-shims@^1.10.0/dist/es-module-shims.min.js\", \"https://cdn.bokeh.org/bokeh/release/bokeh-3.6.3.min.js\", \"https://cdn.bokeh.org/bokeh/release/bokeh-gl-3.6.3.min.js\", \"https://cdn.bokeh.org/bokeh/release/bokeh-widgets-3.6.3.min.js\", \"https://cdn.bokeh.org/bokeh/release/bokeh-tables-3.6.3.min.js\", \"https://cdn.holoviz.org/panel/1.6.2/dist/panel.min.js\"];\n  const js_modules = [];\n  const js_exports = {};\n  const css_urls = [];\n  const inline_js = [    function(Bokeh) {\n      Bokeh.set_log_level(\"info\");\n    },\nfunction(Bokeh) {} // ensure no trailing comma for IE\n  ];\n\n  function run_inline_js() {\n    if ((root.Bokeh !== undefined) || (force === true)) {\n      for (let i = 0; i < inline_js.length; i++) {\n        try {\n          inline_js[i].call(root, root.Bokeh);\n        } catch(e) {\n          if (!reloading) {\n            throw e;\n          }\n        }\n      }\n      // Cache old bokeh versions\n      if (Bokeh != undefined && !reloading) {\n        var NewBokeh = root.Bokeh;\n        if (Bokeh.versions === undefined) {\n          Bokeh.versions = new Map();\n        }\n        if (NewBokeh.version !== Bokeh.version) {\n          Bokeh.versions.set(NewBokeh.version, NewBokeh)\n        }\n        root.Bokeh = Bokeh;\n      }\n    } else if (Date.now() < root._bokeh_timeout) {\n      setTimeout(run_inline_js, 100);\n    } else if (!root._bokeh_failed_load) {\n      console.log(\"Bokeh: BokehJS failed to load within specified timeout.\");\n      root._bokeh_failed_load = true;\n    }\n    root._bokeh_is_initializing = false\n  }\n\n  function load_or_wait() {\n    // Implement a backoff loop that tries to ensure we do not load multiple\n    // versions of Bokeh and its dependencies at the same time.\n    // In recent versions we use the root._bokeh_is_initializing flag\n    // to determine whether there is an ongoing attempt to initialize\n    // bokeh, however for backward compatibility we also try to ensure\n    // that we do not start loading a newer (Panel>=1.0 and Bokeh>3) version\n    // before older versions are fully initialized.\n    if (root._bokeh_is_initializing && Date.now() > root._bokeh_timeout) {\n      // If the timeout and bokeh was not successfully loaded we reset\n      // everything and try loading again\n      root._bokeh_timeout = Date.now() + 5000;\n      root._bokeh_is_initializing = false;\n      root._bokeh_onload_callbacks = undefined;\n      root._bokeh_is_loading = 0\n      console.log(\"Bokeh: BokehJS was loaded multiple times but one version failed to initialize.\");\n      load_or_wait();\n    } else if (root._bokeh_is_initializing || (typeof root._bokeh_is_initializing === \"undefined\" && root._bokeh_onload_callbacks !== undefined)) {\n      setTimeout(load_or_wait, 100);\n    } else {\n      root._bokeh_is_initializing = true\n      root._bokeh_onload_callbacks = []\n      const bokeh_loaded = root.Bokeh != null && (root.Bokeh.version === py_version || (root.Bokeh.versions !== undefined && root.Bokeh.versions.has(py_version)));\n      if (!reloading && !bokeh_loaded) {\n        if (root.Bokeh) {\n          root.Bokeh = undefined;\n        }\n        console.debug(\"Bokeh: BokehJS not loaded, scheduling load and callback at\", now());\n      }\n      load_libs(css_urls, js_urls, js_modules, js_exports, function() {\n        console.debug(\"Bokeh: BokehJS plotting callback run at\", now());\n        run_inline_js();\n      });\n    }\n  }\n  // Give older versions of the autoload script a head-start to ensure\n  // they initialize before we start loading newer version.\n  setTimeout(load_or_wait, 100)\n}(window));"
     },
     "metadata": {},
     "output_type": "display_data"
    },
    {
     "data": {
      "application/javascript": [
       "\n",
       "if ((window.PyViz === undefined) || (window.PyViz instanceof HTMLElement)) {\n",
       "  window.PyViz = {comms: {}, comm_status:{}, kernels:{}, receivers: {}, plot_index: []}\n",
       "}\n",
       "\n",
       "\n",
       "    function JupyterCommManager() {\n",
       "    }\n",
       "\n",
       "    JupyterCommManager.prototype.register_target = function(plot_id, comm_id, msg_handler) {\n",
       "      if (window.comm_manager || ((window.Jupyter !== undefined) && (Jupyter.notebook.kernel != null))) {\n",
       "        var comm_manager = window.comm_manager || Jupyter.notebook.kernel.comm_manager;\n",
       "        comm_manager.register_target(comm_id, function(comm) {\n",
       "          comm.on_msg(msg_handler);\n",
       "        });\n",
       "      } else if ((plot_id in window.PyViz.kernels) && (window.PyViz.kernels[plot_id])) {\n",
       "        window.PyViz.kernels[plot_id].registerCommTarget(comm_id, function(comm) {\n",
       "          comm.onMsg = msg_handler;\n",
       "        });\n",
       "      } else if (typeof google != 'undefined' && google.colab.kernel != null) {\n",
       "        google.colab.kernel.comms.registerTarget(comm_id, (comm) => {\n",
       "          var messages = comm.messages[Symbol.asyncIterator]();\n",
       "          function processIteratorResult(result) {\n",
       "            var message = result.value;\n",
       "            console.log(message)\n",
       "            var content = {data: message.data, comm_id};\n",
       "            var buffers = []\n",
       "            for (var buffer of message.buffers || []) {\n",
       "              buffers.push(new DataView(buffer))\n",
       "            }\n",
       "            var metadata = message.metadata || {};\n",
       "            var msg = {content, buffers, metadata}\n",
       "            msg_handler(msg);\n",
       "            return messages.next().then(processIteratorResult);\n",
       "          }\n",
       "          return messages.next().then(processIteratorResult);\n",
       "        })\n",
       "      }\n",
       "    }\n",
       "\n",
       "    JupyterCommManager.prototype.get_client_comm = function(plot_id, comm_id, msg_handler) {\n",
       "      if (comm_id in window.PyViz.comms) {\n",
       "        return window.PyViz.comms[comm_id];\n",
       "      } else if (window.comm_manager || ((window.Jupyter !== undefined) && (Jupyter.notebook.kernel != null))) {\n",
       "        var comm_manager = window.comm_manager || Jupyter.notebook.kernel.comm_manager;\n",
       "        var comm = comm_manager.new_comm(comm_id, {}, {}, {}, comm_id);\n",
       "        if (msg_handler) {\n",
       "          comm.on_msg(msg_handler);\n",
       "        }\n",
       "      } else if ((plot_id in window.PyViz.kernels) && (window.PyViz.kernels[plot_id])) {\n",
       "        var comm = window.PyViz.kernels[plot_id].connectToComm(comm_id);\n",
       "        comm.open();\n",
       "        if (msg_handler) {\n",
       "          comm.onMsg = msg_handler;\n",
       "        }\n",
       "      } else if (typeof google != 'undefined' && google.colab.kernel != null) {\n",
       "        var comm_promise = google.colab.kernel.comms.open(comm_id)\n",
       "        comm_promise.then((comm) => {\n",
       "          window.PyViz.comms[comm_id] = comm;\n",
       "          if (msg_handler) {\n",
       "            var messages = comm.messages[Symbol.asyncIterator]();\n",
       "            function processIteratorResult(result) {\n",
       "              var message = result.value;\n",
       "              var content = {data: message.data};\n",
       "              var metadata = message.metadata || {comm_id};\n",
       "              var msg = {content, metadata}\n",
       "              msg_handler(msg);\n",
       "              return messages.next().then(processIteratorResult);\n",
       "            }\n",
       "            return messages.next().then(processIteratorResult);\n",
       "          }\n",
       "        })\n",
       "        var sendClosure = (data, metadata, buffers, disposeOnDone) => {\n",
       "          return comm_promise.then((comm) => {\n",
       "            comm.send(data, metadata, buffers, disposeOnDone);\n",
       "          });\n",
       "        };\n",
       "        var comm = {\n",
       "          send: sendClosure\n",
       "        };\n",
       "      }\n",
       "      window.PyViz.comms[comm_id] = comm;\n",
       "      return comm;\n",
       "    }\n",
       "    window.PyViz.comm_manager = new JupyterCommManager();\n",
       "    \n",
       "\n",
       "\n",
       "var JS_MIME_TYPE = 'application/javascript';\n",
       "var HTML_MIME_TYPE = 'text/html';\n",
       "var EXEC_MIME_TYPE = 'application/vnd.holoviews_exec.v0+json';\n",
       "var CLASS_NAME = 'output';\n",
       "\n",
       "/**\n",
       " * Render data to the DOM node\n",
       " */\n",
       "function render(props, node) {\n",
       "  var div = document.createElement(\"div\");\n",
       "  var script = document.createElement(\"script\");\n",
       "  node.appendChild(div);\n",
       "  node.appendChild(script);\n",
       "}\n",
       "\n",
       "/**\n",
       " * Handle when a new output is added\n",
       " */\n",
       "function handle_add_output(event, handle) {\n",
       "  var output_area = handle.output_area;\n",
       "  var output = handle.output;\n",
       "  if ((output.data == undefined) || (!output.data.hasOwnProperty(EXEC_MIME_TYPE))) {\n",
       "    return\n",
       "  }\n",
       "  var id = output.metadata[EXEC_MIME_TYPE][\"id\"];\n",
       "  var toinsert = output_area.element.find(\".\" + CLASS_NAME.split(' ')[0]);\n",
       "  if (id !== undefined) {\n",
       "    var nchildren = toinsert.length;\n",
       "    var html_node = toinsert[nchildren-1].children[0];\n",
       "    html_node.innerHTML = output.data[HTML_MIME_TYPE];\n",
       "    var scripts = [];\n",
       "    var nodelist = html_node.querySelectorAll(\"script\");\n",
       "    for (var i in nodelist) {\n",
       "      if (nodelist.hasOwnProperty(i)) {\n",
       "        scripts.push(nodelist[i])\n",
       "      }\n",
       "    }\n",
       "\n",
       "    scripts.forEach( function (oldScript) {\n",
       "      var newScript = document.createElement(\"script\");\n",
       "      var attrs = [];\n",
       "      var nodemap = oldScript.attributes;\n",
       "      for (var j in nodemap) {\n",
       "        if (nodemap.hasOwnProperty(j)) {\n",
       "          attrs.push(nodemap[j])\n",
       "        }\n",
       "      }\n",
       "      attrs.forEach(function(attr) { newScript.setAttribute(attr.name, attr.value) });\n",
       "      newScript.appendChild(document.createTextNode(oldScript.innerHTML));\n",
       "      oldScript.parentNode.replaceChild(newScript, oldScript);\n",
       "    });\n",
       "    if (JS_MIME_TYPE in output.data) {\n",
       "      toinsert[nchildren-1].children[1].textContent = output.data[JS_MIME_TYPE];\n",
       "    }\n",
       "    output_area._hv_plot_id = id;\n",
       "    if ((window.Bokeh !== undefined) && (id in Bokeh.index)) {\n",
       "      window.PyViz.plot_index[id] = Bokeh.index[id];\n",
       "    } else {\n",
       "      window.PyViz.plot_index[id] = null;\n",
       "    }\n",
       "  } else if (output.metadata[EXEC_MIME_TYPE][\"server_id\"] !== undefined) {\n",
       "    var bk_div = document.createElement(\"div\");\n",
       "    bk_div.innerHTML = output.data[HTML_MIME_TYPE];\n",
       "    var script_attrs = bk_div.children[0].attributes;\n",
       "    for (var i = 0; i < script_attrs.length; i++) {\n",
       "      toinsert[toinsert.length - 1].childNodes[1].setAttribute(script_attrs[i].name, script_attrs[i].value);\n",
       "    }\n",
       "    // store reference to server id on output_area\n",
       "    output_area._bokeh_server_id = output.metadata[EXEC_MIME_TYPE][\"server_id\"];\n",
       "  }\n",
       "}\n",
       "\n",
       "/**\n",
       " * Handle when an output is cleared or removed\n",
       " */\n",
       "function handle_clear_output(event, handle) {\n",
       "  var id = handle.cell.output_area._hv_plot_id;\n",
       "  var server_id = handle.cell.output_area._bokeh_server_id;\n",
       "  if (((id === undefined) || !(id in PyViz.plot_index)) && (server_id !== undefined)) { return; }\n",
       "  var comm = window.PyViz.comm_manager.get_client_comm(\"hv-extension-comm\", \"hv-extension-comm\", function () {});\n",
       "  if (server_id !== null) {\n",
       "    comm.send({event_type: 'server_delete', 'id': server_id});\n",
       "    return;\n",
       "  } else if (comm !== null) {\n",
       "    comm.send({event_type: 'delete', 'id': id});\n",
       "  }\n",
       "  delete PyViz.plot_index[id];\n",
       "  if ((window.Bokeh !== undefined) & (id in window.Bokeh.index)) {\n",
       "    var doc = window.Bokeh.index[id].model.document\n",
       "    doc.clear();\n",
       "    const i = window.Bokeh.documents.indexOf(doc);\n",
       "    if (i > -1) {\n",
       "      window.Bokeh.documents.splice(i, 1);\n",
       "    }\n",
       "  }\n",
       "}\n",
       "\n",
       "/**\n",
       " * Handle kernel restart event\n",
       " */\n",
       "function handle_kernel_cleanup(event, handle) {\n",
       "  delete PyViz.comms[\"hv-extension-comm\"];\n",
       "  window.PyViz.plot_index = {}\n",
       "}\n",
       "\n",
       "/**\n",
       " * Handle update_display_data messages\n",
       " */\n",
       "function handle_update_output(event, handle) {\n",
       "  handle_clear_output(event, {cell: {output_area: handle.output_area}})\n",
       "  handle_add_output(event, handle)\n",
       "}\n",
       "\n",
       "function register_renderer(events, OutputArea) {\n",
       "  function append_mime(data, metadata, element) {\n",
       "    // create a DOM node to render to\n",
       "    var toinsert = this.create_output_subarea(\n",
       "    metadata,\n",
       "    CLASS_NAME,\n",
       "    EXEC_MIME_TYPE\n",
       "    );\n",
       "    this.keyboard_manager.register_events(toinsert);\n",
       "    // Render to node\n",
       "    var props = {data: data, metadata: metadata[EXEC_MIME_TYPE]};\n",
       "    render(props, toinsert[0]);\n",
       "    element.append(toinsert);\n",
       "    return toinsert\n",
       "  }\n",
       "\n",
       "  events.on('output_added.OutputArea', handle_add_output);\n",
       "  events.on('output_updated.OutputArea', handle_update_output);\n",
       "  events.on('clear_output.CodeCell', handle_clear_output);\n",
       "  events.on('delete.Cell', handle_clear_output);\n",
       "  events.on('kernel_ready.Kernel', handle_kernel_cleanup);\n",
       "\n",
       "  OutputArea.prototype.register_mime_type(EXEC_MIME_TYPE, append_mime, {\n",
       "    safe: true,\n",
       "    index: 0\n",
       "  });\n",
       "}\n",
       "\n",
       "if (window.Jupyter !== undefined) {\n",
       "  try {\n",
       "    var events = require('base/js/events');\n",
       "    var OutputArea = require('notebook/js/outputarea').OutputArea;\n",
       "    if (OutputArea.prototype.mime_types().indexOf(EXEC_MIME_TYPE) == -1) {\n",
       "      register_renderer(events, OutputArea);\n",
       "    }\n",
       "  } catch(err) {\n",
       "  }\n",
       "}\n"
      ],
      "application/vnd.holoviews_load.v0+json": "\nif ((window.PyViz === undefined) || (window.PyViz instanceof HTMLElement)) {\n  window.PyViz = {comms: {}, comm_status:{}, kernels:{}, receivers: {}, plot_index: []}\n}\n\n\n    function JupyterCommManager() {\n    }\n\n    JupyterCommManager.prototype.register_target = function(plot_id, comm_id, msg_handler) {\n      if (window.comm_manager || ((window.Jupyter !== undefined) && (Jupyter.notebook.kernel != null))) {\n        var comm_manager = window.comm_manager || Jupyter.notebook.kernel.comm_manager;\n        comm_manager.register_target(comm_id, function(comm) {\n          comm.on_msg(msg_handler);\n        });\n      } else if ((plot_id in window.PyViz.kernels) && (window.PyViz.kernels[plot_id])) {\n        window.PyViz.kernels[plot_id].registerCommTarget(comm_id, function(comm) {\n          comm.onMsg = msg_handler;\n        });\n      } else if (typeof google != 'undefined' && google.colab.kernel != null) {\n        google.colab.kernel.comms.registerTarget(comm_id, (comm) => {\n          var messages = comm.messages[Symbol.asyncIterator]();\n          function processIteratorResult(result) {\n            var message = result.value;\n            console.log(message)\n            var content = {data: message.data, comm_id};\n            var buffers = []\n            for (var buffer of message.buffers || []) {\n              buffers.push(new DataView(buffer))\n            }\n            var metadata = message.metadata || {};\n            var msg = {content, buffers, metadata}\n            msg_handler(msg);\n            return messages.next().then(processIteratorResult);\n          }\n          return messages.next().then(processIteratorResult);\n        })\n      }\n    }\n\n    JupyterCommManager.prototype.get_client_comm = function(plot_id, comm_id, msg_handler) {\n      if (comm_id in window.PyViz.comms) {\n        return window.PyViz.comms[comm_id];\n      } else if (window.comm_manager || ((window.Jupyter !== undefined) && (Jupyter.notebook.kernel != null))) {\n        var comm_manager = window.comm_manager || Jupyter.notebook.kernel.comm_manager;\n        var comm = comm_manager.new_comm(comm_id, {}, {}, {}, comm_id);\n        if (msg_handler) {\n          comm.on_msg(msg_handler);\n        }\n      } else if ((plot_id in window.PyViz.kernels) && (window.PyViz.kernels[plot_id])) {\n        var comm = window.PyViz.kernels[plot_id].connectToComm(comm_id);\n        comm.open();\n        if (msg_handler) {\n          comm.onMsg = msg_handler;\n        }\n      } else if (typeof google != 'undefined' && google.colab.kernel != null) {\n        var comm_promise = google.colab.kernel.comms.open(comm_id)\n        comm_promise.then((comm) => {\n          window.PyViz.comms[comm_id] = comm;\n          if (msg_handler) {\n            var messages = comm.messages[Symbol.asyncIterator]();\n            function processIteratorResult(result) {\n              var message = result.value;\n              var content = {data: message.data};\n              var metadata = message.metadata || {comm_id};\n              var msg = {content, metadata}\n              msg_handler(msg);\n              return messages.next().then(processIteratorResult);\n            }\n            return messages.next().then(processIteratorResult);\n          }\n        })\n        var sendClosure = (data, metadata, buffers, disposeOnDone) => {\n          return comm_promise.then((comm) => {\n            comm.send(data, metadata, buffers, disposeOnDone);\n          });\n        };\n        var comm = {\n          send: sendClosure\n        };\n      }\n      window.PyViz.comms[comm_id] = comm;\n      return comm;\n    }\n    window.PyViz.comm_manager = new JupyterCommManager();\n    \n\n\nvar JS_MIME_TYPE = 'application/javascript';\nvar HTML_MIME_TYPE = 'text/html';\nvar EXEC_MIME_TYPE = 'application/vnd.holoviews_exec.v0+json';\nvar CLASS_NAME = 'output';\n\n/**\n * Render data to the DOM node\n */\nfunction render(props, node) {\n  var div = document.createElement(\"div\");\n  var script = document.createElement(\"script\");\n  node.appendChild(div);\n  node.appendChild(script);\n}\n\n/**\n * Handle when a new output is added\n */\nfunction handle_add_output(event, handle) {\n  var output_area = handle.output_area;\n  var output = handle.output;\n  if ((output.data == undefined) || (!output.data.hasOwnProperty(EXEC_MIME_TYPE))) {\n    return\n  }\n  var id = output.metadata[EXEC_MIME_TYPE][\"id\"];\n  var toinsert = output_area.element.find(\".\" + CLASS_NAME.split(' ')[0]);\n  if (id !== undefined) {\n    var nchildren = toinsert.length;\n    var html_node = toinsert[nchildren-1].children[0];\n    html_node.innerHTML = output.data[HTML_MIME_TYPE];\n    var scripts = [];\n    var nodelist = html_node.querySelectorAll(\"script\");\n    for (var i in nodelist) {\n      if (nodelist.hasOwnProperty(i)) {\n        scripts.push(nodelist[i])\n      }\n    }\n\n    scripts.forEach( function (oldScript) {\n      var newScript = document.createElement(\"script\");\n      var attrs = [];\n      var nodemap = oldScript.attributes;\n      for (var j in nodemap) {\n        if (nodemap.hasOwnProperty(j)) {\n          attrs.push(nodemap[j])\n        }\n      }\n      attrs.forEach(function(attr) { newScript.setAttribute(attr.name, attr.value) });\n      newScript.appendChild(document.createTextNode(oldScript.innerHTML));\n      oldScript.parentNode.replaceChild(newScript, oldScript);\n    });\n    if (JS_MIME_TYPE in output.data) {\n      toinsert[nchildren-1].children[1].textContent = output.data[JS_MIME_TYPE];\n    }\n    output_area._hv_plot_id = id;\n    if ((window.Bokeh !== undefined) && (id in Bokeh.index)) {\n      window.PyViz.plot_index[id] = Bokeh.index[id];\n    } else {\n      window.PyViz.plot_index[id] = null;\n    }\n  } else if (output.metadata[EXEC_MIME_TYPE][\"server_id\"] !== undefined) {\n    var bk_div = document.createElement(\"div\");\n    bk_div.innerHTML = output.data[HTML_MIME_TYPE];\n    var script_attrs = bk_div.children[0].attributes;\n    for (var i = 0; i < script_attrs.length; i++) {\n      toinsert[toinsert.length - 1].childNodes[1].setAttribute(script_attrs[i].name, script_attrs[i].value);\n    }\n    // store reference to server id on output_area\n    output_area._bokeh_server_id = output.metadata[EXEC_MIME_TYPE][\"server_id\"];\n  }\n}\n\n/**\n * Handle when an output is cleared or removed\n */\nfunction handle_clear_output(event, handle) {\n  var id = handle.cell.output_area._hv_plot_id;\n  var server_id = handle.cell.output_area._bokeh_server_id;\n  if (((id === undefined) || !(id in PyViz.plot_index)) && (server_id !== undefined)) { return; }\n  var comm = window.PyViz.comm_manager.get_client_comm(\"hv-extension-comm\", \"hv-extension-comm\", function () {});\n  if (server_id !== null) {\n    comm.send({event_type: 'server_delete', 'id': server_id});\n    return;\n  } else if (comm !== null) {\n    comm.send({event_type: 'delete', 'id': id});\n  }\n  delete PyViz.plot_index[id];\n  if ((window.Bokeh !== undefined) & (id in window.Bokeh.index)) {\n    var doc = window.Bokeh.index[id].model.document\n    doc.clear();\n    const i = window.Bokeh.documents.indexOf(doc);\n    if (i > -1) {\n      window.Bokeh.documents.splice(i, 1);\n    }\n  }\n}\n\n/**\n * Handle kernel restart event\n */\nfunction handle_kernel_cleanup(event, handle) {\n  delete PyViz.comms[\"hv-extension-comm\"];\n  window.PyViz.plot_index = {}\n}\n\n/**\n * Handle update_display_data messages\n */\nfunction handle_update_output(event, handle) {\n  handle_clear_output(event, {cell: {output_area: handle.output_area}})\n  handle_add_output(event, handle)\n}\n\nfunction register_renderer(events, OutputArea) {\n  function append_mime(data, metadata, element) {\n    // create a DOM node to render to\n    var toinsert = this.create_output_subarea(\n    metadata,\n    CLASS_NAME,\n    EXEC_MIME_TYPE\n    );\n    this.keyboard_manager.register_events(toinsert);\n    // Render to node\n    var props = {data: data, metadata: metadata[EXEC_MIME_TYPE]};\n    render(props, toinsert[0]);\n    element.append(toinsert);\n    return toinsert\n  }\n\n  events.on('output_added.OutputArea', handle_add_output);\n  events.on('output_updated.OutputArea', handle_update_output);\n  events.on('clear_output.CodeCell', handle_clear_output);\n  events.on('delete.Cell', handle_clear_output);\n  events.on('kernel_ready.Kernel', handle_kernel_cleanup);\n\n  OutputArea.prototype.register_mime_type(EXEC_MIME_TYPE, append_mime, {\n    safe: true,\n    index: 0\n  });\n}\n\nif (window.Jupyter !== undefined) {\n  try {\n    var events = require('base/js/events');\n    var OutputArea = require('notebook/js/outputarea').OutputArea;\n    if (OutputArea.prototype.mime_types().indexOf(EXEC_MIME_TYPE) == -1) {\n      register_renderer(events, OutputArea);\n    }\n  } catch(err) {\n  }\n}\n"
     },
     "metadata": {},
     "output_type": "display_data"
    },
    {
     "data": {
      "application/vnd.holoviews_exec.v0+json": "",
      "text/html": [
       "<div id='f1d0a06d-c174-4635-a963-df8daaebfadb'>\n",
       "  <div id=\"d09b97ce-b6c2-4a67-a866-032b63f976c5\" data-root-id=\"f1d0a06d-c174-4635-a963-df8daaebfadb\" style=\"display: contents;\"></div>\n",
       "</div>\n",
       "<script type=\"application/javascript\">(function(root) {\n",
       "  var docs_json = {\"053d05f4-7909-40e3-b79e-d5c8289b7412\":{\"version\":\"3.6.3\",\"title\":\"Bokeh Application\",\"roots\":[{\"type\":\"object\",\"name\":\"panel.models.browser.BrowserInfo\",\"id\":\"f1d0a06d-c174-4635-a963-df8daaebfadb\"},{\"type\":\"object\",\"name\":\"panel.models.comm_manager.CommManager\",\"id\":\"3ded40eb-bd0f-4b0e-b9d3-5369717717ab\",\"attributes\":{\"plot_id\":\"f1d0a06d-c174-4635-a963-df8daaebfadb\",\"comm_id\":\"bd21d88492fd44249ac6a86f466d3a71\",\"client_comm_id\":\"bc6586a462ad45b69ede64fe04b2e24d\"}}],\"defs\":[{\"type\":\"model\",\"name\":\"ReactiveHTML1\"},{\"type\":\"model\",\"name\":\"FlexBox1\",\"properties\":[{\"name\":\"align_content\",\"kind\":\"Any\",\"default\":\"flex-start\"},{\"name\":\"align_items\",\"kind\":\"Any\",\"default\":\"flex-start\"},{\"name\":\"flex_direction\",\"kind\":\"Any\",\"default\":\"row\"},{\"name\":\"flex_wrap\",\"kind\":\"Any\",\"default\":\"wrap\"},{\"name\":\"gap\",\"kind\":\"Any\",\"default\":\"\"},{\"name\":\"justify_content\",\"kind\":\"Any\",\"default\":\"flex-start\"}]},{\"type\":\"model\",\"name\":\"FloatPanel1\",\"properties\":[{\"name\":\"config\",\"kind\":\"Any\",\"default\":{\"type\":\"map\"}},{\"name\":\"contained\",\"kind\":\"Any\",\"default\":true},{\"name\":\"position\",\"kind\":\"Any\",\"default\":\"right-top\"},{\"name\":\"offsetx\",\"kind\":\"Any\",\"default\":null},{\"name\":\"offsety\",\"kind\":\"Any\",\"default\":null},{\"name\":\"theme\",\"kind\":\"Any\",\"default\":\"primary\"},{\"name\":\"status\",\"kind\":\"Any\",\"default\":\"normalized\"}]},{\"type\":\"model\",\"name\":\"GridStack1\",\"properties\":[{\"name\":\"ncols\",\"kind\":\"Any\",\"default\":null},{\"name\":\"nrows\",\"kind\":\"Any\",\"default\":null},{\"name\":\"allow_resize\",\"kind\":\"Any\",\"default\":true},{\"name\":\"allow_drag\",\"kind\":\"Any\",\"default\":true},{\"name\":\"state\",\"kind\":\"Any\",\"default\":[]}]},{\"type\":\"model\",\"name\":\"drag1\",\"properties\":[{\"name\":\"slider_width\",\"kind\":\"Any\",\"default\":5},{\"name\":\"slider_color\",\"kind\":\"Any\",\"default\":\"black\"},{\"name\":\"value\",\"kind\":\"Any\",\"default\":50}]},{\"type\":\"model\",\"name\":\"click1\",\"properties\":[{\"name\":\"terminal_output\",\"kind\":\"Any\",\"default\":\"\"},{\"name\":\"debug_name\",\"kind\":\"Any\",\"default\":\"\"},{\"name\":\"clears\",\"kind\":\"Any\",\"default\":0}]},{\"type\":\"model\",\"name\":\"FastWrapper1\",\"properties\":[{\"name\":\"object\",\"kind\":\"Any\",\"default\":null},{\"name\":\"style\",\"kind\":\"Any\",\"default\":null}]},{\"type\":\"model\",\"name\":\"NotificationArea1\",\"properties\":[{\"name\":\"js_events\",\"kind\":\"Any\",\"default\":{\"type\":\"map\"}},{\"name\":\"max_notifications\",\"kind\":\"Any\",\"default\":5},{\"name\":\"notifications\",\"kind\":\"Any\",\"default\":[]},{\"name\":\"position\",\"kind\":\"Any\",\"default\":\"bottom-right\"},{\"name\":\"_clear\",\"kind\":\"Any\",\"default\":0},{\"name\":\"types\",\"kind\":\"Any\",\"default\":[{\"type\":\"map\",\"entries\":[[\"type\",\"warning\"],[\"background\",\"#ffc107\"],[\"icon\",{\"type\":\"map\",\"entries\":[[\"className\",\"fas fa-exclamation-triangle\"],[\"tagName\",\"i\"],[\"color\",\"white\"]]}]]},{\"type\":\"map\",\"entries\":[[\"type\",\"info\"],[\"background\",\"#007bff\"],[\"icon\",{\"type\":\"map\",\"entries\":[[\"className\",\"fas fa-info-circle\"],[\"tagName\",\"i\"],[\"color\",\"white\"]]}]]}]}]},{\"type\":\"model\",\"name\":\"Notification\",\"properties\":[{\"name\":\"background\",\"kind\":\"Any\",\"default\":null},{\"name\":\"duration\",\"kind\":\"Any\",\"default\":3000},{\"name\":\"icon\",\"kind\":\"Any\",\"default\":null},{\"name\":\"message\",\"kind\":\"Any\",\"default\":\"\"},{\"name\":\"notification_type\",\"kind\":\"Any\",\"default\":null},{\"name\":\"_rendered\",\"kind\":\"Any\",\"default\":false},{\"name\":\"_destroyed\",\"kind\":\"Any\",\"default\":false}]},{\"type\":\"model\",\"name\":\"TemplateActions1\",\"properties\":[{\"name\":\"open_modal\",\"kind\":\"Any\",\"default\":0},{\"name\":\"close_modal\",\"kind\":\"Any\",\"default\":0}]},{\"type\":\"model\",\"name\":\"BootstrapTemplateActions1\",\"properties\":[{\"name\":\"open_modal\",\"kind\":\"Any\",\"default\":0},{\"name\":\"close_modal\",\"kind\":\"Any\",\"default\":0}]},{\"type\":\"model\",\"name\":\"TemplateEditor1\",\"properties\":[{\"name\":\"layout\",\"kind\":\"Any\",\"default\":[]}]},{\"type\":\"model\",\"name\":\"MaterialTemplateActions1\",\"properties\":[{\"name\":\"open_modal\",\"kind\":\"Any\",\"default\":0},{\"name\":\"close_modal\",\"kind\":\"Any\",\"default\":0}]},{\"type\":\"model\",\"name\":\"ReactiveESM1\",\"properties\":[{\"name\":\"esm_constants\",\"kind\":\"Any\",\"default\":{\"type\":\"map\"}}]},{\"type\":\"model\",\"name\":\"JSComponent1\",\"properties\":[{\"name\":\"esm_constants\",\"kind\":\"Any\",\"default\":{\"type\":\"map\"}}]},{\"type\":\"model\",\"name\":\"ReactComponent1\",\"properties\":[{\"name\":\"esm_constants\",\"kind\":\"Any\",\"default\":{\"type\":\"map\"}}]},{\"type\":\"model\",\"name\":\"AnyWidgetComponent1\",\"properties\":[{\"name\":\"esm_constants\",\"kind\":\"Any\",\"default\":{\"type\":\"map\"}}]},{\"type\":\"model\",\"name\":\"request_value1\",\"properties\":[{\"name\":\"fill\",\"kind\":\"Any\",\"default\":\"none\"},{\"name\":\"_synced\",\"kind\":\"Any\",\"default\":null},{\"name\":\"_request_sync\",\"kind\":\"Any\",\"default\":0}]}]}};\n",
       "  var render_items = [{\"docid\":\"053d05f4-7909-40e3-b79e-d5c8289b7412\",\"roots\":{\"f1d0a06d-c174-4635-a963-df8daaebfadb\":\"d09b97ce-b6c2-4a67-a866-032b63f976c5\"},\"root_ids\":[\"f1d0a06d-c174-4635-a963-df8daaebfadb\"]}];\n",
       "  var docs = Object.values(docs_json)\n",
       "  if (!docs) {\n",
       "    return\n",
       "  }\n",
       "  const py_version = docs[0].version.replace('rc', '-rc.').replace('.dev', '-dev.')\n",
       "  async function embed_document(root) {\n",
       "    var Bokeh = get_bokeh(root)\n",
       "    await Bokeh.embed.embed_items_notebook(docs_json, render_items);\n",
       "    for (const render_item of render_items) {\n",
       "      for (const root_id of render_item.root_ids) {\n",
       "\tconst id_el = document.getElementById(root_id)\n",
       "\tif (id_el.children.length && id_el.children[0].hasAttribute('data-root-id')) {\n",
       "\t  const root_el = id_el.children[0]\n",
       "\t  root_el.id = root_el.id + '-rendered'\n",
       "\t  for (const child of root_el.children) {\n",
       "            // Ensure JupyterLab does not capture keyboard shortcuts\n",
       "            // see: https://jupyterlab.readthedocs.io/en/4.1.x/extension/notebook.html#keyboard-interaction-model\n",
       "\t    child.setAttribute('data-lm-suppress-shortcuts', 'true')\n",
       "\t  }\n",
       "\t}\n",
       "      }\n",
       "    }\n",
       "  }\n",
       "  function get_bokeh(root) {\n",
       "    if (root.Bokeh === undefined) {\n",
       "      return null\n",
       "    } else if (root.Bokeh.version !== py_version) {\n",
       "      if (root.Bokeh.versions === undefined || !root.Bokeh.versions.has(py_version)) {\n",
       "\treturn null\n",
       "      }\n",
       "      return root.Bokeh.versions.get(py_version);\n",
       "    } else if (root.Bokeh.version === py_version) {\n",
       "      return root.Bokeh\n",
       "    }\n",
       "    return null\n",
       "  }\n",
       "  function is_loaded(root) {\n",
       "    var Bokeh = get_bokeh(root)\n",
       "    return (Bokeh != null && Bokeh.Panel !== undefined)\n",
       "  }\n",
       "  if (is_loaded(root)) {\n",
       "    embed_document(root);\n",
       "  } else {\n",
       "    var attempts = 0;\n",
       "    var timer = setInterval(function(root) {\n",
       "      if (is_loaded(root)) {\n",
       "        clearInterval(timer);\n",
       "        embed_document(root);\n",
       "      } else if (document.readyState == \"complete\") {\n",
       "        attempts++;\n",
       "        if (attempts > 200) {\n",
       "          clearInterval(timer);\n",
       "\t  var Bokeh = get_bokeh(root)\n",
       "\t  if (Bokeh == null || Bokeh.Panel == null) {\n",
       "            console.warn(\"Panel: ERROR: Unable to run Panel code because Bokeh or Panel library is missing\");\n",
       "\t  } else {\n",
       "\t    console.warn(\"Panel: WARNING: Attempting to render but not all required libraries could be resolved.\")\n",
       "\t    embed_document(root)\n",
       "\t  }\n",
       "        }\n",
       "      }\n",
       "    }, 25, root)\n",
       "  }\n",
       "})(window);</script>"
      ]
     },
     "metadata": {
      "application/vnd.holoviews_exec.v0+json": {
       "id": "f1d0a06d-c174-4635-a963-df8daaebfadb"
      }
     },
     "output_type": "display_data"
    }
   ],
   "source": [
    "import polars as pl\n",
    "import hvplot.polars # Using the hvplot as the plotting backend\n",
    "from polars.testing import assert_frame_equal"
   ]
  },
  {
   "cell_type": "code",
   "execution_count": 7,
   "id": "isB8fVBAqqDJ",
   "metadata": {
    "colab": {
     "base_uri": "https://localhost:8080/",
     "height": 35
    },
    "id": "isB8fVBAqqDJ",
    "outputId": "eeb9ea0f-997b-4896-c5f7-1d7a6ef3c5ce"
   },
   "outputs": [
    {
     "data": {
      "text/plain": [
       "'1.24.0'"
      ]
     },
     "execution_count": 7,
     "metadata": {},
     "output_type": "execute_result"
    }
   ],
   "source": [
    "pl.__version__"
   ]
  },
  {
   "cell_type": "code",
   "execution_count": 8,
   "id": "a04f58fd-3df5-44ee-9a59-67d5c5146b08",
   "metadata": {
    "id": "a04f58fd-3df5-44ee-9a59-67d5c5146b08",
    "tags": []
   },
   "outputs": [],
   "source": [
    "transactions = pl.scan_parquet(data_dir+fn) # ./data/financials/transactions.parquet"
   ]
  },
  {
   "cell_type": "code",
   "execution_count": 9,
   "id": "271b5f7f-612d-4ee3-ab6c-8539bc36a8a0",
   "metadata": {
    "colab": {
     "base_uri": "https://localhost:8080/"
    },
    "id": "271b5f7f-612d-4ee3-ab6c-8539bc36a8a0",
    "outputId": "d5d58fce-8704-48b8-f986-d8fdbb1e7551",
    "tags": []
   },
   "outputs": [
    {
     "data": {
      "text/plain": [
       "Schema([('CUST_ID', String),\n",
       "        ('START_DATE', Date),\n",
       "        ('END_DATE', Date),\n",
       "        ('TRANS_ID', String),\n",
       "        ('DATE', Date),\n",
       "        ('YEAR', Int64),\n",
       "        ('MONTH', Int64),\n",
       "        ('DAY', Int64),\n",
       "        ('EXP_TYPE', String),\n",
       "        ('AMOUNT', Float64)])"
      ]
     },
     "execution_count": 9,
     "metadata": {},
     "output_type": "execute_result"
    }
   ],
   "source": [
    "transactions.collect_schema()"
   ]
  },
  {
   "cell_type": "code",
   "execution_count": 10,
   "id": "86b44c08-a229-41b3-8e22-59f03eee68fd",
   "metadata": {
    "colab": {
     "base_uri": "https://localhost:8080/",
     "height": 255
    },
    "id": "86b44c08-a229-41b3-8e22-59f03eee68fd",
    "outputId": "8e3bade3-71af-4cba-8a6d-101cf8c83b7b"
   },
   "outputs": [
    {
     "data": {
      "text/html": [
       "<div><style>\n",
       ".dataframe > thead > tr,\n",
       ".dataframe > tbody > tr {\n",
       "  text-align: right;\n",
       "  white-space: pre-wrap;\n",
       "}\n",
       "</style>\n",
       "<small>shape: (5, 10)</small><table border=\"1\" class=\"dataframe\"><thead><tr><th>CUST_ID</th><th>START_DATE</th><th>END_DATE</th><th>TRANS_ID</th><th>DATE</th><th>YEAR</th><th>MONTH</th><th>DAY</th><th>EXP_TYPE</th><th>AMOUNT</th></tr><tr><td>str</td><td>date</td><td>date</td><td>str</td><td>date</td><td>i64</td><td>i64</td><td>i64</td><td>str</td><td>f64</td></tr></thead><tbody><tr><td>&quot;CI6XLYUMQK&quot;</td><td>2015-05-01</td><td>null</td><td>&quot;T8I9ZB5A6X90UG8&quot;</td><td>2015-09-11</td><td>2015</td><td>9</td><td>11</td><td>&quot;Motor/Travel&quot;</td><td>20.27</td></tr><tr><td>&quot;CI6XLYUMQK&quot;</td><td>2015-05-01</td><td>null</td><td>&quot;TZ4JSLS7SC7FO9H&quot;</td><td>2017-02-08</td><td>2017</td><td>2</td><td>8</td><td>&quot;Motor/Travel&quot;</td><td>12.85</td></tr><tr><td>&quot;CI6XLYUMQK&quot;</td><td>2015-05-01</td><td>null</td><td>&quot;TTUKRDDJ6B6F42H&quot;</td><td>2015-08-01</td><td>2015</td><td>8</td><td>1</td><td>&quot;Housing&quot;</td><td>383.8</td></tr><tr><td>&quot;CI6XLYUMQK&quot;</td><td>2015-05-01</td><td>null</td><td>&quot;TDUHFRUKGPPI6HD&quot;</td><td>2019-03-16</td><td>2019</td><td>3</td><td>16</td><td>&quot;Entertainment&quot;</td><td>5.72</td></tr><tr><td>&quot;CI6XLYUMQK&quot;</td><td>2015-05-01</td><td>null</td><td>&quot;T0JBZHBMSVRFMMD&quot;</td><td>2015-05-15</td><td>2015</td><td>5</td><td>15</td><td>&quot;Entertainment&quot;</td><td>11.06</td></tr></tbody></table></div>"
      ],
      "text/plain": [
       "shape: (5, 10)\n",
       "┌────────────┬────────────┬──────────┬─────────────────┬───┬───────┬─────┬───────────────┬────────┐\n",
       "│ CUST_ID    ┆ START_DATE ┆ END_DATE ┆ TRANS_ID        ┆ … ┆ MONTH ┆ DAY ┆ EXP_TYPE      ┆ AMOUNT │\n",
       "│ ---        ┆ ---        ┆ ---      ┆ ---             ┆   ┆ ---   ┆ --- ┆ ---           ┆ ---    │\n",
       "│ str        ┆ date       ┆ date     ┆ str             ┆   ┆ i64   ┆ i64 ┆ str           ┆ f64    │\n",
       "╞════════════╪════════════╪══════════╪═════════════════╪═══╪═══════╪═════╪═══════════════╪════════╡\n",
       "│ CI6XLYUMQK ┆ 2015-05-01 ┆ null     ┆ T8I9ZB5A6X90UG8 ┆ … ┆ 9     ┆ 11  ┆ Motor/Travel  ┆ 20.27  │\n",
       "│ CI6XLYUMQK ┆ 2015-05-01 ┆ null     ┆ TZ4JSLS7SC7FO9H ┆ … ┆ 2     ┆ 8   ┆ Motor/Travel  ┆ 12.85  │\n",
       "│ CI6XLYUMQK ┆ 2015-05-01 ┆ null     ┆ TTUKRDDJ6B6F42H ┆ … ┆ 8     ┆ 1   ┆ Housing       ┆ 383.8  │\n",
       "│ CI6XLYUMQK ┆ 2015-05-01 ┆ null     ┆ TDUHFRUKGPPI6HD ┆ … ┆ 3     ┆ 16  ┆ Entertainment ┆ 5.72   │\n",
       "│ CI6XLYUMQK ┆ 2015-05-01 ┆ null     ┆ T0JBZHBMSVRFMMD ┆ … ┆ 5     ┆ 15  ┆ Entertainment ┆ 11.06  │\n",
       "└────────────┴────────────┴──────────┴─────────────────┴───┴───────┴─────┴───────────────┴────────┘"
      ]
     },
     "execution_count": 10,
     "metadata": {},
     "output_type": "execute_result"
    }
   ],
   "source": [
    "transactions.head(5).collect()"
   ]
  },
  {
   "cell_type": "markdown",
   "id": "fa5da5a9-4ca5-473b-a99f-b5ef4711e70e",
   "metadata": {
    "id": "fa5da5a9-4ca5-473b-a99f-b5ef4711e70e"
   },
   "source": [
    "This dataset has a mix of data types (strings, dates, integers, and floats), some missing values, and it looks like the dates were actually parsed as strings. We'll need to handle that during some of our analysis."
   ]
  },
  {
   "cell_type": "markdown",
   "id": "bfc44e41-191c-4cee-8d99-29a47d5f3b78",
   "metadata": {
    "id": "bfc44e41-191c-4cee-8d99-29a47d5f3b78"
   },
   "source": [
    "# Our first GPU operation: Total aggregate transaction amount"
   ]
  },
  {
   "cell_type": "markdown",
   "id": "551e3232-b815-4b96-8f49-343f6ce07af9",
   "metadata": {
    "id": "551e3232-b815-4b96-8f49-343f6ce07af9"
   },
   "source": [
    "With Polars, to calculate the total spending in of all transactions we simply `sum` the `AMOUNT` column:"
   ]
  },
  {
   "cell_type": "code",
   "execution_count": 11,
   "id": "f4960ea1-a1fd-4af9-a08b-2dc6210117af",
   "metadata": {
    "colab": {
     "base_uri": "https://localhost:8080/",
     "height": 129
    },
    "id": "f4960ea1-a1fd-4af9-a08b-2dc6210117af",
    "outputId": "4f82827f-2f1a-4e81-f4f2-220ffcdc93ba",
    "tags": []
   },
   "outputs": [
    {
     "data": {
      "text/html": [
       "<div><style>\n",
       ".dataframe > thead > tr,\n",
       ".dataframe > tbody > tr {\n",
       "  text-align: right;\n",
       "  white-space: pre-wrap;\n",
       "}\n",
       "</style>\n",
       "<small>shape: (1, 1)</small><table border=\"1\" class=\"dataframe\"><thead><tr><th>AMOUNT</th></tr><tr><td>f64</td></tr></thead><tbody><tr><td>2.1367e10</td></tr></tbody></table></div>"
      ],
      "text/plain": [
       "shape: (1, 1)\n",
       "┌───────────┐\n",
       "│ AMOUNT    │\n",
       "│ ---       │\n",
       "│ f64       │\n",
       "╞═══════════╡\n",
       "│ 2.1367e10 │\n",
       "└───────────┘"
      ]
     },
     "execution_count": 11,
     "metadata": {},
     "output_type": "execute_result"
    }
   ],
   "source": [
    "transactions.select(pl.col(\"AMOUNT\").sum()).collect()"
   ]
  },
  {
   "cell_type": "markdown",
   "id": "fd4a8068-5e43-4188-b268-1358af945048",
   "metadata": {
    "id": "fd4a8068-5e43-4188-b268-1358af945048"
   },
   "source": [
    "Looks like we're handling a high total transaction volume. Let's run the same query on the GPU.\n",
    "\n",
    "To use a GPU, we just need to tell Polars to use the GPU engine when we call `collect` by passing `engine=\"gpu\"` as a parameter.\n",
    "\n",
    "\n",
    "```python\n",
    "transactions.select(pl.col(\"AMOUNT\").sum()).collect(engine=\"gpu\")\n",
    "```\n",
    "\n",
    "The default configuration is likely the right choice for most workloads, but sometimes we want more control. We can provide more detailed configuration options (such as which device to run on and a variety of other options) by passing a Polars `GPUEngine` object to the `engine` parameter instead.\n",
    "\n",
    "\n",
    "In this notebook, we'll use `pl.GPUEngine`. The default configuration has transparent CPU fallback for unsupported operations, so if we execute an unsupported query we don't get an error. To prove we're running on the GPU, we'll pass a configured engine object that will raise an error if we can't run the query.\n",
    "\n",
    "_If you're running with [jupyterlab-nvdashboard](https://developer.nvidia.com/blog/maximize-gpu-performance-with-near-real-time-usage-stats-on-nvdashboard-v0-10/) you should see the GPU Memory and Utilization tick up._"
   ]
  },
  {
   "cell_type": "code",
   "execution_count": 12,
   "id": "308471b8-1086-470c-ac32-95e8af55fc9a",
   "metadata": {
    "id": "308471b8-1086-470c-ac32-95e8af55fc9a"
   },
   "outputs": [],
   "source": [
    "gpu_engine = pl.GPUEngine(\n",
    "    device=0, # This is the default\n",
    "    raise_on_fail=True, # Fail loudly if we can't run on the GPU.\n",
    ")"
   ]
  },
  {
   "cell_type": "markdown",
   "id": "9b96dc10-65b0-4399-a09e-bf6e0c94438c",
   "metadata": {
    "id": "9b96dc10-65b0-4399-a09e-bf6e0c94438c"
   },
   "source": [
    "The very first collection on the GPU will take a couple of seconds. The GPU engine is lazy-loaded so that even if the necessary packages are installed, Polars' fast import times are not affected. Consequently, when we trigger GPU execution for the first time, we load a number of additional packages, and initialize GPU-specific data structures and contexts."
   ]
  },
  {
   "cell_type": "code",
   "execution_count": 13,
   "id": "986c74e0-94b7-48e4-9921-fb2a17a252f5",
   "metadata": {
    "colab": {
     "base_uri": "https://localhost:8080/",
     "height": 129
    },
    "id": "986c74e0-94b7-48e4-9921-fb2a17a252f5",
    "outputId": "e8762f10-f4fa-465d-fea5-06230df0ba6f"
   },
   "outputs": [
    {
     "data": {
      "text/html": [
       "<div><style>\n",
       ".dataframe > thead > tr,\n",
       ".dataframe > tbody > tr {\n",
       "  text-align: right;\n",
       "  white-space: pre-wrap;\n",
       "}\n",
       "</style>\n",
       "<small>shape: (1, 1)</small><table border=\"1\" class=\"dataframe\"><thead><tr><th>AMOUNT</th></tr><tr><td>f64</td></tr></thead><tbody><tr><td>2.1367e10</td></tr></tbody></table></div>"
      ],
      "text/plain": [
       "shape: (1, 1)\n",
       "┌───────────┐\n",
       "│ AMOUNT    │\n",
       "│ ---       │\n",
       "│ f64       │\n",
       "╞═══════════╡\n",
       "│ 2.1367e10 │\n",
       "└───────────┘"
      ]
     },
     "execution_count": 13,
     "metadata": {},
     "output_type": "execute_result"
    }
   ],
   "source": [
    "transactions.select(pl.col(\"AMOUNT\").sum()).collect(engine=gpu_engine)"
   ]
  },
  {
   "cell_type": "markdown",
   "id": "e87175dd-e11c-4146-92ae-4afd3417071b",
   "metadata": {
    "id": "e87175dd-e11c-4146-92ae-4afd3417071b"
   },
   "source": [
    "We probably don't need a GPU for such a simple operation on this dataset. But when we start doing more complex analysis, the high-bandwidth memory and compute power of GPUs will make things much more interactive."
   ]
  },
  {
   "cell_type": "markdown",
   "id": "30466c12-ab87-4800-9bbb-5207197bb444",
   "metadata": {
    "id": "30466c12-ab87-4800-9bbb-5207197bb444"
   },
   "source": [
    "# More Complex Analysis"
   ]
  },
  {
   "cell_type": "markdown",
   "id": "c715ceee-36ea-4b0f-a826-882afaddf23c",
   "metadata": {
    "id": "c715ceee-36ea-4b0f-a826-882afaddf23c"
   },
   "source": [
    "While the data is synthetic, it's representative of the kinds of datasets that come up in financial services, retail/e-commerce, consumer internet, and other industries.\n",
    "\n",
    "With this data, we can see how using GPU-accelerated Polars provides a significant productivity boosts by exploring common business questions like:\n",
    "\n",
    "1. Which customers have the largest total transctions?\n",
    "2. What's the per-month transaction amount for each spending category over time?\n",
    "3. How does weather effect the transactions for each category?\n",
    "\n",
    "Because this data is synthentic, the results won't be meaningful in terms of business conclusions. Rather, we are motivating _why_ using this GPU engine is useful in terms of perfomance and cost reduction. We'll prove that the CPU and GPU engine get the same results in the first example, but as we move throughout the notebook we'll take this for granted and focus on CPU and GPU timings.\n",
    "\n",
    "Let's start with our first question."
   ]
  },
  {
   "cell_type": "markdown",
   "id": "d0ff0679-e562-437c-b5e8-882c88e04393",
   "metadata": {
    "id": "d0ff0679-e562-437c-b5e8-882c88e04393"
   },
   "source": [
    "## Which customers have the largest total transactions?"
   ]
  },
  {
   "cell_type": "code",
   "execution_count": 14,
   "id": "7ac30d66-a58b-4b72-83d6-99c0646b9e3c",
   "metadata": {
    "colab": {
     "base_uri": "https://localhost:8080/",
     "height": 290
    },
    "id": "7ac30d66-a58b-4b72-83d6-99c0646b9e3c",
    "outputId": "00a7c90b-d229-4cc2-a684-9185bb5e3ba2"
   },
   "outputs": [
    {
     "name": "stdout",
     "output_type": "stream",
     "text": [
      "CPU times: user 2min 3s, sys: 51.9 s, total: 2min 55s\n",
      "Wall time: 9.17 s\n"
     ]
    },
    {
     "data": {
      "text/html": [
       "<div><style>\n",
       ".dataframe > thead > tr,\n",
       ".dataframe > tbody > tr {\n",
       "  text-align: right;\n",
       "  white-space: pre-wrap;\n",
       "}\n",
       "</style>\n",
       "<small>shape: (5, 2)</small><table border=\"1\" class=\"dataframe\"><thead><tr><th>CUST_ID</th><th>AMOUNT</th></tr><tr><td>str</td><td>f64</td></tr></thead><tbody><tr><td>&quot;CP2KXQSX9I&quot;</td><td>2.3108e6</td></tr><tr><td>&quot;CGOKEO2EH4&quot;</td><td>2.2721e6</td></tr><tr><td>&quot;CZ1KK7E2PK&quot;</td><td>2.2409e6</td></tr><tr><td>&quot;CXYJF3GWQU&quot;</td><td>2.2389e6</td></tr><tr><td>&quot;CZ0G7ZK6HA&quot;</td><td>2.2119e6</td></tr></tbody></table></div>"
      ],
      "text/plain": [
       "shape: (5, 2)\n",
       "┌────────────┬──────────┐\n",
       "│ CUST_ID    ┆ AMOUNT   │\n",
       "│ ---        ┆ ---      │\n",
       "│ str        ┆ f64      │\n",
       "╞════════════╪══════════╡\n",
       "│ CP2KXQSX9I ┆ 2.3108e6 │\n",
       "│ CGOKEO2EH4 ┆ 2.2721e6 │\n",
       "│ CZ1KK7E2PK ┆ 2.2409e6 │\n",
       "│ CXYJF3GWQU ┆ 2.2389e6 │\n",
       "│ CZ0G7ZK6HA ┆ 2.2119e6 │\n",
       "└────────────┴──────────┘"
      ]
     },
     "execution_count": 14,
     "metadata": {},
     "output_type": "execute_result"
    }
   ],
   "source": [
    "%%time\n",
    "\n",
    "res_cpu = (\n",
    "    transactions\n",
    "    .group_by(\"CUST_ID\")\n",
    "    .agg(pl.col(\"AMOUNT\").sum())\n",
    "    .sort(by=\"AMOUNT\", descending=True)\n",
    "    .head()\n",
    "    .collect()\n",
    ")\n",
    "res_cpu"
   ]
  },
  {
   "cell_type": "code",
   "execution_count": 15,
   "id": "3c67acfc-531f-49a2-8485-b665d33468a7",
   "metadata": {
    "colab": {
     "base_uri": "https://localhost:8080/",
     "height": 290
    },
    "id": "3c67acfc-531f-49a2-8485-b665d33468a7",
    "outputId": "6b38aab4-f071-4efa-fe28-746a3902090a"
   },
   "outputs": [
    {
     "name": "stdout",
     "output_type": "stream",
     "text": [
      "CPU times: user 501 ms, sys: 443 ms, total: 944 ms\n",
      "Wall time: 499 ms\n"
     ]
    },
    {
     "data": {
      "text/html": [
       "<div><style>\n",
       ".dataframe > thead > tr,\n",
       ".dataframe > tbody > tr {\n",
       "  text-align: right;\n",
       "  white-space: pre-wrap;\n",
       "}\n",
       "</style>\n",
       "<small>shape: (5, 2)</small><table border=\"1\" class=\"dataframe\"><thead><tr><th>CUST_ID</th><th>AMOUNT</th></tr><tr><td>str</td><td>f64</td></tr></thead><tbody><tr><td>&quot;CP2KXQSX9I&quot;</td><td>2.3108e6</td></tr><tr><td>&quot;CGOKEO2EH4&quot;</td><td>2.2721e6</td></tr><tr><td>&quot;CZ1KK7E2PK&quot;</td><td>2.2409e6</td></tr><tr><td>&quot;CXYJF3GWQU&quot;</td><td>2.2389e6</td></tr><tr><td>&quot;CZ0G7ZK6HA&quot;</td><td>2.2119e6</td></tr></tbody></table></div>"
      ],
      "text/plain": [
       "shape: (5, 2)\n",
       "┌────────────┬──────────┐\n",
       "│ CUST_ID    ┆ AMOUNT   │\n",
       "│ ---        ┆ ---      │\n",
       "│ str        ┆ f64      │\n",
       "╞════════════╪══════════╡\n",
       "│ CP2KXQSX9I ┆ 2.3108e6 │\n",
       "│ CGOKEO2EH4 ┆ 2.2721e6 │\n",
       "│ CZ1KK7E2PK ┆ 2.2409e6 │\n",
       "│ CXYJF3GWQU ┆ 2.2389e6 │\n",
       "│ CZ0G7ZK6HA ┆ 2.2119e6 │\n",
       "└────────────┴──────────┘"
      ]
     },
     "execution_count": 15,
     "metadata": {},
     "output_type": "execute_result"
    }
   ],
   "source": [
    "%%time\n",
    "\n",
    "res_gpu = (\n",
    "    transactions\n",
    "    .group_by(\"CUST_ID\")\n",
    "    .agg(pl.col(\"AMOUNT\").sum())\n",
    "    .sort(by=\"AMOUNT\", descending=True)\n",
    "    .head()\n",
    "    .collect(engine=gpu_engine)\n",
    ")\n",
    "res_gpu"
   ]
  },
  {
   "cell_type": "code",
   "execution_count": 16,
   "id": "03c876f1-495b-4cf9-ad4c-0a16ed53ce32",
   "metadata": {
    "id": "03c876f1-495b-4cf9-ad4c-0a16ed53ce32"
   },
   "outputs": [],
   "source": [
    "assert_frame_equal(res_cpu, res_gpu)"
   ]
  },
  {
   "cell_type": "markdown",
   "id": "3ec2e276-6ed2-47f2-b968-85586896a854",
   "metadata": {
    "id": "3ec2e276-6ed2-47f2-b968-85586896a854"
   },
   "source": [
    "Great! We see a nice performance gain when using the GPU engine and we've confirmed the results are equal."
   ]
  },
  {
   "cell_type": "markdown",
   "id": "4acabf65-ee3f-4e88-9d05-206c776bcb3d",
   "metadata": {
    "id": "4acabf65-ee3f-4e88-9d05-206c776bcb3d"
   },
   "source": [
    "In addition to the Dataframe interface, Polars also has an SQL interface. We can also use this with the GPU engine, since Polars translates both the DataFrame and SQL interfaces into a query execution plan."
   ]
  },
  {
   "cell_type": "code",
   "execution_count": 17,
   "id": "5b9a25d0-f777-4bb9-9c74-e15690675938",
   "metadata": {
    "colab": {
     "base_uri": "https://localhost:8080/",
     "height": 324
    },
    "id": "5b9a25d0-f777-4bb9-9c74-e15690675938",
    "outputId": "5d2de432-9bf0-48dc-9837-d10fb0eb831b"
   },
   "outputs": [
    {
     "name": "stdout",
     "output_type": "stream",
     "text": [
      "CPU times: user 2min 6s, sys: 48.3 s, total: 2min 54s\n",
      "Wall time: 9.3 s\n",
      "CPU times: user 460 ms, sys: 463 ms, total: 923 ms\n",
      "Wall time: 375 ms\n"
     ]
    },
    {
     "data": {
      "text/html": [
       "<div><style>\n",
       ".dataframe > thead > tr,\n",
       ".dataframe > tbody > tr {\n",
       "  text-align: right;\n",
       "  white-space: pre-wrap;\n",
       "}\n",
       "</style>\n",
       "<small>shape: (5, 2)</small><table border=\"1\" class=\"dataframe\"><thead><tr><th>CUST_ID</th><th>sum_amt</th></tr><tr><td>str</td><td>f64</td></tr></thead><tbody><tr><td>&quot;CP2KXQSX9I&quot;</td><td>2.3108e6</td></tr><tr><td>&quot;CGOKEO2EH4&quot;</td><td>2.2721e6</td></tr><tr><td>&quot;CZ1KK7E2PK&quot;</td><td>2.2409e6</td></tr><tr><td>&quot;CXYJF3GWQU&quot;</td><td>2.2389e6</td></tr><tr><td>&quot;CZ0G7ZK6HA&quot;</td><td>2.2119e6</td></tr></tbody></table></div>"
      ],
      "text/plain": [
       "shape: (5, 2)\n",
       "┌────────────┬──────────┐\n",
       "│ CUST_ID    ┆ sum_amt  │\n",
       "│ ---        ┆ ---      │\n",
       "│ str        ┆ f64      │\n",
       "╞════════════╪══════════╡\n",
       "│ CP2KXQSX9I ┆ 2.3108e6 │\n",
       "│ CGOKEO2EH4 ┆ 2.2721e6 │\n",
       "│ CZ1KK7E2PK ┆ 2.2409e6 │\n",
       "│ CXYJF3GWQU ┆ 2.2389e6 │\n",
       "│ CZ0G7ZK6HA ┆ 2.2119e6 │\n",
       "└────────────┴──────────┘"
      ]
     },
     "execution_count": 17,
     "metadata": {},
     "output_type": "execute_result"
    }
   ],
   "source": [
    "query = \"\"\"\n",
    "SELECT CUST_ID, SUM(AMOUNT) as sum_amt\n",
    "FROM transactions\n",
    "GROUP BY CUST_ID\n",
    "ORDER BY sum_amt desc\n",
    "LIMIT 5\n",
    "\"\"\"\n",
    "\n",
    "%time pl.sql(query).collect()\n",
    "%time pl.sql(query).collect(engine=gpu_engine)"
   ]
  },
  {
   "cell_type": "markdown",
   "id": "27c9efa0-1c69-4039-8a7b-7a55cb1ecf78",
   "metadata": {
    "id": "27c9efa0-1c69-4039-8a7b-7a55cb1ecf78"
   },
   "source": [
    "## Which customers have the largest single transaction?\n",
    "\n",
    "Customer `CP2KXQSX9I` had the largest total transactions over time (on the full dataset), but they might not have the largest single transaction. Let's find the top customers by single transaction amount."
   ]
  },
  {
   "cell_type": "code",
   "execution_count": 18,
   "id": "b26080e3-9b35-45cc-8a7e-c78926467ae8",
   "metadata": {
    "colab": {
     "base_uri": "https://localhost:8080/",
     "height": 290
    },
    "id": "b26080e3-9b35-45cc-8a7e-c78926467ae8",
    "outputId": "44138b1a-fd93-4aab-ee14-3ca5a894c229"
   },
   "outputs": [
    {
     "name": "stdout",
     "output_type": "stream",
     "text": [
      "CPU times: user 2min 14s, sys: 1min 5s, total: 3min 19s\n",
      "Wall time: 9.47 s\n"
     ]
    },
    {
     "data": {
      "text/html": [
       "<div><style>\n",
       ".dataframe > thead > tr,\n",
       ".dataframe > tbody > tr {\n",
       "  text-align: right;\n",
       "  white-space: pre-wrap;\n",
       "}\n",
       "</style>\n",
       "<small>shape: (5, 2)</small><table border=\"1\" class=\"dataframe\"><thead><tr><th>CUST_ID</th><th>max_amount</th></tr><tr><td>str</td><td>f64</td></tr></thead><tbody><tr><td>&quot;CN8B3RIGIR&quot;</td><td>6519.61</td></tr><tr><td>&quot;CTEC3WBHJW&quot;</td><td>6516.54</td></tr><tr><td>&quot;C2JMNNNTQQ&quot;</td><td>6515.89</td></tr><tr><td>&quot;CZ0G7ZK6HA&quot;</td><td>6515.43</td></tr><tr><td>&quot;CAPBVURSHP&quot;</td><td>6513.99</td></tr></tbody></table></div>"
      ],
      "text/plain": [
       "shape: (5, 2)\n",
       "┌────────────┬────────────┐\n",
       "│ CUST_ID    ┆ max_amount │\n",
       "│ ---        ┆ ---        │\n",
       "│ str        ┆ f64        │\n",
       "╞════════════╪════════════╡\n",
       "│ CN8B3RIGIR ┆ 6519.61    │\n",
       "│ CTEC3WBHJW ┆ 6516.54    │\n",
       "│ C2JMNNNTQQ ┆ 6515.89    │\n",
       "│ CZ0G7ZK6HA ┆ 6515.43    │\n",
       "│ CAPBVURSHP ┆ 6513.99    │\n",
       "└────────────┴────────────┘"
      ]
     },
     "execution_count": 18,
     "metadata": {},
     "output_type": "execute_result"
    }
   ],
   "source": [
    "%%time\n",
    "\n",
    "(\n",
    "    transactions\n",
    "    .group_by(\"CUST_ID\")\n",
    "    .agg(pl.col(\"AMOUNT\").max().alias(\"max_amount\"))\n",
    "    .sort(by=\"max_amount\", descending=True)\n",
    "    .head()\n",
    "    .collect()\n",
    ")"
   ]
  },
  {
   "cell_type": "code",
   "execution_count": 19,
   "id": "c696b693-fb50-4336-b06e-ca137ffb8897",
   "metadata": {
    "colab": {
     "base_uri": "https://localhost:8080/",
     "height": 290
    },
    "id": "c696b693-fb50-4336-b06e-ca137ffb8897",
    "outputId": "f1ad7126-66f8-4da2-b5d7-7b72ab6652b8"
   },
   "outputs": [
    {
     "name": "stdout",
     "output_type": "stream",
     "text": [
      "CPU times: user 503 ms, sys: 288 ms, total: 791 ms\n",
      "Wall time: 400 ms\n"
     ]
    },
    {
     "data": {
      "text/html": [
       "<div><style>\n",
       ".dataframe > thead > tr,\n",
       ".dataframe > tbody > tr {\n",
       "  text-align: right;\n",
       "  white-space: pre-wrap;\n",
       "}\n",
       "</style>\n",
       "<small>shape: (5, 2)</small><table border=\"1\" class=\"dataframe\"><thead><tr><th>CUST_ID</th><th>max_amount</th></tr><tr><td>str</td><td>f64</td></tr></thead><tbody><tr><td>&quot;CN8B3RIGIR&quot;</td><td>6519.61</td></tr><tr><td>&quot;CTEC3WBHJW&quot;</td><td>6516.54</td></tr><tr><td>&quot;C2JMNNNTQQ&quot;</td><td>6515.89</td></tr><tr><td>&quot;CZ0G7ZK6HA&quot;</td><td>6515.43</td></tr><tr><td>&quot;CAPBVURSHP&quot;</td><td>6513.99</td></tr></tbody></table></div>"
      ],
      "text/plain": [
       "shape: (5, 2)\n",
       "┌────────────┬────────────┐\n",
       "│ CUST_ID    ┆ max_amount │\n",
       "│ ---        ┆ ---        │\n",
       "│ str        ┆ f64        │\n",
       "╞════════════╪════════════╡\n",
       "│ CN8B3RIGIR ┆ 6519.61    │\n",
       "│ CTEC3WBHJW ┆ 6516.54    │\n",
       "│ C2JMNNNTQQ ┆ 6515.89    │\n",
       "│ CZ0G7ZK6HA ┆ 6515.43    │\n",
       "│ CAPBVURSHP ┆ 6513.99    │\n",
       "└────────────┴────────────┘"
      ]
     },
     "execution_count": 19,
     "metadata": {},
     "output_type": "execute_result"
    }
   ],
   "source": [
    "%%time\n",
    "\n",
    "(\n",
    "    transactions\n",
    "    .group_by(\"CUST_ID\")\n",
    "    .agg(pl.col(\"AMOUNT\").max().alias(\"max_amount\"))\n",
    "    .sort(by=\"max_amount\", descending=True)\n",
    "    .head()\n",
    "    .collect(engine=gpu_engine)\n",
    ")"
   ]
  },
  {
   "cell_type": "markdown",
   "id": "7080def6-d4e5-408c-8c8b-83a0895b0c3b",
   "metadata": {
    "id": "7080def6-d4e5-408c-8c8b-83a0895b0c3b"
   },
   "source": [
    "Again, we see a nice speedup using the GPU engine."
   ]
  },
  {
   "cell_type": "markdown",
   "id": "d0f33dad-b5f3-446d-a63e-95d907ab1cc8",
   "metadata": {
    "id": "d0f33dad-b5f3-446d-a63e-95d907ab1cc8"
   },
   "source": [
    "## Investigating a specific customer\n",
    "\n",
    "Let's explore the transactions of a single customer now. What was `CIP0I11MG2`'s largest transaction?"
   ]
  },
  {
   "cell_type": "code",
   "execution_count": 20,
   "id": "048e08be-5e30-41fa-a344-e2eb46e0085c",
   "metadata": {
    "colab": {
     "base_uri": "https://localhost:8080/",
     "height": 164
    },
    "id": "048e08be-5e30-41fa-a344-e2eb46e0085c",
    "outputId": "b9559089-e7dc-4c08-d4bf-cca9bba5ff5d"
   },
   "outputs": [
    {
     "name": "stdout",
     "output_type": "stream",
     "text": [
      "CPU times: user 5.27 s, sys: 203 ms, total: 5.48 s\n",
      "Wall time: 80.5 ms\n"
     ]
    },
    {
     "data": {
      "text/html": [
       "<div><style>\n",
       ".dataframe > thead > tr,\n",
       ".dataframe > tbody > tr {\n",
       "  text-align: right;\n",
       "  white-space: pre-wrap;\n",
       "}\n",
       "</style>\n",
       "<small>shape: (1, 1)</small><table border=\"1\" class=\"dataframe\"><thead><tr><th>AMOUNT</th></tr><tr><td>f64</td></tr></thead><tbody><tr><td>6201.45</td></tr></tbody></table></div>"
      ],
      "text/plain": [
       "shape: (1, 1)\n",
       "┌─────────┐\n",
       "│ AMOUNT  │\n",
       "│ ---     │\n",
       "│ f64     │\n",
       "╞═════════╡\n",
       "│ 6201.45 │\n",
       "└─────────┘"
      ]
     },
     "execution_count": 20,
     "metadata": {},
     "output_type": "execute_result"
    }
   ],
   "source": [
    "%%time\n",
    "\n",
    "(\n",
    "    transactions\n",
    "    .filter(pl.col(\"CUST_ID\") == \"CIP0I11MG2\")\n",
    "    .select(pl.col(\"AMOUNT\").max())\n",
    "    .collect()\n",
    ")"
   ]
  },
  {
   "cell_type": "code",
   "execution_count": 21,
   "id": "95a01a3d-f400-4439-b30b-09860439058a",
   "metadata": {
    "colab": {
     "base_uri": "https://localhost:8080/",
     "height": 164
    },
    "id": "95a01a3d-f400-4439-b30b-09860439058a",
    "outputId": "feac9e75-feb0-4c97-90f9-6fad6a500093"
   },
   "outputs": [
    {
     "name": "stdout",
     "output_type": "stream",
     "text": [
      "CPU times: user 442 ms, sys: 333 ms, total: 775 ms\n",
      "Wall time: 341 ms\n"
     ]
    },
    {
     "data": {
      "text/html": [
       "<div><style>\n",
       ".dataframe > thead > tr,\n",
       ".dataframe > tbody > tr {\n",
       "  text-align: right;\n",
       "  white-space: pre-wrap;\n",
       "}\n",
       "</style>\n",
       "<small>shape: (1, 1)</small><table border=\"1\" class=\"dataframe\"><thead><tr><th>AMOUNT</th></tr><tr><td>f64</td></tr></thead><tbody><tr><td>6201.45</td></tr></tbody></table></div>"
      ],
      "text/plain": [
       "shape: (1, 1)\n",
       "┌─────────┐\n",
       "│ AMOUNT  │\n",
       "│ ---     │\n",
       "│ f64     │\n",
       "╞═════════╡\n",
       "│ 6201.45 │\n",
       "└─────────┘"
      ]
     },
     "execution_count": 21,
     "metadata": {},
     "output_type": "execute_result"
    }
   ],
   "source": [
    "%%time\n",
    "\n",
    "(\n",
    "    transactions\n",
    "    .filter(pl.col(\"CUST_ID\") == \"CIP0I11MG2\")\n",
    "    .select(pl.col(\"AMOUNT\").max())\n",
    "    .collect(engine=gpu_engine)\n",
    ")"
   ]
  },
  {
   "cell_type": "markdown",
   "id": "fc6b01b0-13ec-4dcc-bd8e-26f193a54d21",
   "metadata": {
    "id": "fc6b01b0-13ec-4dcc-bd8e-26f193a54d21"
   },
   "source": [
    "### Sidebar: Why was performance using the CPU and GPU engines similar for this query?"
   ]
  },
  {
   "cell_type": "markdown",
   "id": "b1a705fe-bb1e-440e-ad5a-829e68971298",
   "metadata": {
    "id": "b1a705fe-bb1e-440e-ad5a-829e68971298"
   },
   "source": [
    "What we've seen so far is that, for many common queries, we see significant performance increases when we use the GPU. But for this last one, things were more similar.\n",
    "\n",
    "Using Polars on a GPU isn't **always** a surefire winner in terms of speed compared to Polars on a CPU. For simple queries that aren't computationally heavy, like the last query, we're often limited by the speed that we can read results from disk.\n",
    "\n",
    "Let's confirm this by profiling."
   ]
  },
  {
   "cell_type": "code",
   "execution_count": 22,
   "id": "85acb8c5-4965-4b3d-bda6-cc484bae765a",
   "metadata": {
    "colab": {
     "base_uri": "https://localhost:8080/",
     "height": 192
    },
    "id": "85acb8c5-4965-4b3d-bda6-cc484bae765a",
    "outputId": "5f610f40-4e70-47aa-fed9-c51a686850fb"
   },
   "outputs": [
    {
     "data": {
      "text/html": [
       "<div><style>\n",
       ".dataframe > thead > tr,\n",
       ".dataframe > tbody > tr {\n",
       "  text-align: right;\n",
       "  white-space: pre-wrap;\n",
       "}\n",
       "</style>\n",
       "<small>shape: (3, 4)</small><table border=\"1\" class=\"dataframe\"><thead><tr><th>node</th><th>start</th><th>end</th><th>pct_time_spent</th></tr><tr><td>str</td><td>u64</td><td>u64</td><td>f64</td></tr></thead><tbody><tr><td>&quot;optimization&quot;</td><td>0</td><td>5</td><td>0.006546</td></tr><tr><td>&quot;parquet(./data/financials/tran…</td><td>5</td><td>76365</td><td>99.963345</td></tr><tr><td>&quot;select(AMOUNT)&quot;</td><td>76372</td><td>76388</td><td>0.020946</td></tr></tbody></table></div>"
      ],
      "text/plain": [
       "shape: (3, 4)\n",
       "┌─────────────────────────────────┬───────┬───────┬────────────────┐\n",
       "│ node                            ┆ start ┆ end   ┆ pct_time_spent │\n",
       "│ ---                             ┆ ---   ┆ ---   ┆ ---            │\n",
       "│ str                             ┆ u64   ┆ u64   ┆ f64            │\n",
       "╞═════════════════════════════════╪═══════╪═══════╪════════════════╡\n",
       "│ optimization                    ┆ 0     ┆ 5     ┆ 0.006546       │\n",
       "│ parquet(./data/financials/tran… ┆ 5     ┆ 76365 ┆ 99.963345      │\n",
       "│ select(AMOUNT)                  ┆ 76372 ┆ 76388 ┆ 0.020946       │\n",
       "└─────────────────────────────────┴───────┴───────┴────────────────┘"
      ]
     },
     "execution_count": 22,
     "metadata": {},
     "output_type": "execute_result"
    }
   ],
   "source": [
    "res, prof = (\n",
    "    transactions\n",
    "    .filter(pl.col(\"CUST_ID\") == \"CIP0I11MG2\")\n",
    "    .select(pl.col(\"AMOUNT\").max())\n",
    "    .profile()\n",
    ")\n",
    "\n",
    "prof.with_columns(\n",
    "    ((pl.col(\"end\") - pl.col(\"start\")) / pl.col(\"end\").max() * 100)\n",
    "    .alias(\"pct_time_spent\")\n",
    ")"
   ]
  },
  {
   "cell_type": "markdown",
   "id": "920ecf53-726a-467b-9493-c86cfab66e74",
   "metadata": {
    "id": "920ecf53-726a-467b-9493-c86cfab66e74"
   },
   "source": [
    "We spent 99.9%+ of the time just reading the data. Polars can use the GPU-accelerated Parquet reader to read this data, but ultimately when we're **IO bound** like this, there's less opportunity for GPU-acceleration.\n",
    "\n",
    "Let's try an even more computationally intense query."
   ]
  },
  {
   "cell_type": "markdown",
   "id": "3967525b-00da-488f-beba-6c14b74371de",
   "metadata": {
    "id": "3967525b-00da-488f-beba-6c14b74371de"
   },
   "source": [
    "## What's the per-month transaction amount for each category over time?\n",
    "\n",
    "For this query, we'll group and sort down to the individual month, which takes more work."
   ]
  },
  {
   "cell_type": "code",
   "execution_count": 23,
   "id": "c40ca24a-abfd-4652-afe6-2d709f07d038",
   "metadata": {
    "colab": {
     "base_uri": "https://localhost:8080/"
    },
    "id": "c40ca24a-abfd-4652-afe6-2d709f07d038",
    "outputId": "beaca9d7-4d27-4330-a179-2f4511285c66"
   },
   "outputs": [
    {
     "name": "stdout",
     "output_type": "stream",
     "text": [
      "CPU times: user 3min 4s, sys: 2min 36s, total: 5min 41s\n",
      "Wall time: 11.9 s\n"
     ]
    }
   ],
   "source": [
    "%%time\n",
    "\n",
    "res = (\n",
    "    transactions\n",
    "    .group_by([\"EXP_TYPE\", \"YEAR\", \"MONTH\"])\n",
    "    .agg(pl.mean(\"AMOUNT\"))\n",
    "    .sort([\"EXP_TYPE\", \"YEAR\", \"MONTH\"])\n",
    "    .collect()\n",
    ")"
   ]
  },
  {
   "cell_type": "code",
   "execution_count": 24,
   "id": "a4810ebe-41b1-46f3-b3a6-9b4ffd9ad4f3",
   "metadata": {
    "colab": {
     "base_uri": "https://localhost:8080/"
    },
    "id": "a4810ebe-41b1-46f3-b3a6-9b4ffd9ad4f3",
    "outputId": "746d93b6-9069-4175-d2cf-fcf201c28614"
   },
   "outputs": [
    {
     "name": "stdout",
     "output_type": "stream",
     "text": [
      "CPU times: user 738 ms, sys: 400 ms, total: 1.14 s\n",
      "Wall time: 520 ms\n"
     ]
    }
   ],
   "source": [
    "%%time\n",
    "\n",
    "res = (\n",
    "    transactions\n",
    "    .group_by([\"EXP_TYPE\", \"YEAR\", \"MONTH\"])\n",
    "    .agg(pl.mean(\"AMOUNT\"))\n",
    "    .sort([\"EXP_TYPE\", \"YEAR\", \"MONTH\"])\n",
    "    .collect(engine=gpu_engine)\n",
    ")"
   ]
  },
  {
   "cell_type": "markdown",
   "id": "9f5c9e6e-de8f-4b62-8799-e39dfc9ce61e",
   "metadata": {
    "id": "9f5c9e6e-de8f-4b62-8799-e39dfc9ce61e"
   },
   "source": [
    "Again, since this query does more work we see strong performance benefits on the GPU."
   ]
  },
  {
   "cell_type": "markdown",
   "id": "a50c5318-0aa7-46be-b0e0-e98f7306ead4",
   "metadata": {
    "id": "a50c5318-0aa7-46be-b0e0-e98f7306ead4"
   },
   "source": [
    "## Interoperability\n",
    "\n",
    "As mentioned in the introduction, all results will be materialized as standard CPU Polars DataFrames.\n",
    "\n",
    "That means that any results from GPU-accelerated queries interoperate seamlessly with the rest of the polars ecosystem. For example, we can use Polars' built-in plotting functionality on the result we created from the GPU engine.\n",
    "\n",
    "**Colab Note**: Using HoloViews/Bokeh in Colab is not fully supported, so plots may not render correctly."
   ]
  },
  {
   "cell_type": "code",
   "execution_count": 25,
   "id": "27802e3a-0fe8-4642-a7fd-9b00f709181d",
   "metadata": {
    "colab": {
     "base_uri": "https://localhost:8080/",
     "height": 327
    },
    "id": "27802e3a-0fe8-4642-a7fd-9b00f709181d",
    "outputId": "21e58c3e-5f6c-48f7-9ed9-745434632cd5"
   },
   "outputs": [
    {
     "data": {},
     "metadata": {},
     "output_type": "display_data"
    },
    {
     "data": {
      "application/vnd.holoviews_exec.v0+json": "",
      "text/html": [
       "<div id='851a52ec-2371-463d-a5b1-d96b92acdb55'>\n",
       "  <div id=\"b0e4f0ff-c4eb-4097-9c0c-f95b322dade4\" data-root-id=\"851a52ec-2371-463d-a5b1-d96b92acdb55\" style=\"display: contents;\"></div>\n",
       "</div>\n",
       "<script type=\"application/javascript\">(function(root) {\n",
       "  var docs_json = {\"313bb01b-1b1a-47d4-b507-b8d4455e5eca\":{\"version\":\"3.6.3\",\"title\":\"Bokeh Application\",\"roots\":[{\"type\":\"object\",\"name\":\"Row\",\"id\":\"851a52ec-2371-463d-a5b1-d96b92acdb55\",\"attributes\":{\"name\":\"Row00351\",\"tags\":[\"embedded\"],\"stylesheets\":[\"\\n:host(.pn-loading):before, .pn-loading:before {\\n  background-color: #c3c3c3;\\n  mask-size: auto calc(min(50%, 400px));\\n  -webkit-mask-size: auto calc(min(50%, 400px));\\n}\",{\"type\":\"object\",\"name\":\"ImportedStyleSheet\",\"id\":\"1850f855-51fd-4287-888e-c0f334d6148f\",\"attributes\":{\"url\":\"https://cdn.holoviz.org/panel/1.6.2/dist/css/loading.css\"}},{\"type\":\"object\",\"name\":\"ImportedStyleSheet\",\"id\":\"c84aa8ff-b357-4438-a239-44f5b20d5898\",\"attributes\":{\"url\":\"https://cdn.holoviz.org/panel/1.6.2/dist/css/listpanel.css\"}},{\"type\":\"object\",\"name\":\"ImportedStyleSheet\",\"id\":\"1c2c89c6-898f-4396-9c92-30eba564892a\",\"attributes\":{\"url\":\"https://cdn.holoviz.org/panel/1.6.2/dist/bundled/theme/default.css\"}},{\"type\":\"object\",\"name\":\"ImportedStyleSheet\",\"id\":\"a76df433-8350-4905-b03d-10799174f6ba\",\"attributes\":{\"url\":\"https://cdn.holoviz.org/panel/1.6.2/dist/bundled/theme/native.css\"}}],\"min_width\":700,\"margin\":0,\"sizing_mode\":\"stretch_width\",\"align\":\"start\",\"children\":[{\"type\":\"object\",\"name\":\"Spacer\",\"id\":\"21915242-7051-41cf-be9d-fcf5455eadd9\",\"attributes\":{\"name\":\"HSpacer00355\",\"stylesheets\":[\"\\n:host(.pn-loading):before, .pn-loading:before {\\n  background-color: #c3c3c3;\\n  mask-size: auto calc(min(50%, 400px));\\n  -webkit-mask-size: auto calc(min(50%, 400px));\\n}\",{\"id\":\"1850f855-51fd-4287-888e-c0f334d6148f\"},{\"id\":\"1c2c89c6-898f-4396-9c92-30eba564892a\"},{\"id\":\"a76df433-8350-4905-b03d-10799174f6ba\"}],\"margin\":0,\"sizing_mode\":\"stretch_width\",\"align\":\"start\"}},{\"type\":\"object\",\"name\":\"Figure\",\"id\":\"75d48eb7-c9e0-401b-bb45-a415538c104b\",\"attributes\":{\"width\":700,\"height\":300,\"margin\":[5,10],\"sizing_mode\":\"fixed\",\"align\":\"start\",\"x_range\":{\"type\":\"object\",\"name\":\"Range1d\",\"id\":\"cab1f26e-c3dc-4947-8208-6311bf3866ed\",\"attributes\":{\"name\":\"year-mon\",\"tags\":[[[\"year-mon\",null]],[]],\"start\":1247540708571.4287,\"end\":1621544091428.5713,\"reset_start\":1247540708571.4287,\"reset_end\":1621544091428.5713}},\"y_range\":{\"type\":\"object\",\"name\":\"Range1d\",\"id\":\"93beaa84-bcfb-4bb8-b26b-c1ffe1c3fd50\",\"attributes\":{\"name\":\"AMOUNT\",\"tags\":[[[\"AMOUNT\",null]],{\"type\":\"map\",\"entries\":[[\"invert_yaxis\",false],[\"autorange\",false]]}],\"start\":-166.79400060870296,\"end\":2066.91051220298,\"reset_start\":-166.79400060870296,\"reset_end\":2066.91051220298}},\"x_scale\":{\"type\":\"object\",\"name\":\"LinearScale\",\"id\":\"9ddc467c-a3c7-4649-af10-4d55bb7e5b8d\"},\"y_scale\":{\"type\":\"object\",\"name\":\"LinearScale\",\"id\":\"e99d7cc3-d188-4859-86f7-77d04a3047e5\"},\"title\":{\"type\":\"object\",\"name\":\"Title\",\"id\":\"4b3ec647-cdc1-4b2f-bd62-15895324eeb9\",\"attributes\":{\"text_color\":\"black\",\"text_font_size\":\"12pt\"}},\"renderers\":[{\"type\":\"object\",\"name\":\"GlyphRenderer\",\"id\":\"3300e1b0-388a-49db-aa4c-9fe55cb89f3c\",\"attributes\":{\"name\":\"Bills and Utilities\",\"data_source\":{\"type\":\"object\",\"name\":\"ColumnDataSource\",\"id\":\"dd9f49d9-dfeb-464b-b185-8666825d149d\",\"attributes\":{\"selected\":{\"type\":\"object\",\"name\":\"Selection\",\"id\":\"99f4bb50-b31e-44c2-b55a-471dc7638637\",\"attributes\":{\"indices\":[],\"line_indices\":[]}},\"selection_policy\":{\"type\":\"object\",\"name\":\"UnionRenderers\",\"id\":\"4a3b6448-0365-4981-8c74-820e93a3be09\"},\"data\":{\"type\":\"map\",\"entries\":[[\"year-mon\",{\"type\":\"ndarray\",\"array\":{\"type\":\"bytes\",\"data\":\"AACA53JeckIAAMA5bWhyQgAAwFpwcXJCAAAArWp7ckIAAICZEoVyQgAAwOsMj3JCAABA2LSYckIAAIAqr6JyQgAAwHyprHJCAABAaVG2ckIAAIC7S8ByQgAAAKjzyXJCAABA+u3TckIAAIBM6N1yQgAAgG3r5nJCAADAv+XwckIAAECsjfpyQgAAgP6HBHNCAAAA6y8Oc0IAAEA9KhhzQgAAgI8kInNCAAAAfMwrc0IAAEDOxjVzQgAAwLpuP3NCAAAADWlJc0IAAEBfY1NzQgAAAOa4XHNCAABAOLNmc0IAAMAkW3BzQgAAAHdVenNCAACAY/2Dc0IAAMC1941zQgAAAAjyl3NCAACA9Jmhc0IAAMBGlKtzQgAAQDM8tXNCAACAhTa/c0IAAMDXMMlzQgAAwPgz0nNCAAAASy7cc0IAAIA31uVzQgAAwInQ73NCAABAdnj5c0IAAIDIcgN0QgAAwBptDXRCAABABxUXdEIAAIBZDyF0QgAAAEa3KnRCAABAmLE0dEIAAIDqqz50QgAAgAuvR3RCAADAXalRdEIAAEBKUVt0QgAAgJxLZXRCAAAAifNudEIAAEDb7Xh0QgAAgC3ognRCAAAAGpCMdEIAAEBsipZ0QgAAwFgyoHRCAAAAqyyqdEIAAED9JrR0QgAAQB4qvXRCAACAcCTHdEIAAABdzNB0QgAAQK/G2nRCAADAm27kdEIAAADuaO50QgAAQEBj+HRCAADALAsCdUIAAAB/BQx1QgAAgGutFXVCAADAvacfdUIAAAAQoil1QgAAwJb3MnVCAAAA6fE8dUIAAIDVmUZ1QgAAwCeUUHVCAABAFDxadUIAAIBmNmR1QgAAwLgwbnVCAABApdh3dUIAAID30oF1QgAAAOR6i3VCAABANnWVdUIAAICIb591QgAAgKlyqHVCAADA+2yydUIAAEDoFLx1QgAAgDoPxnVCAAAAJ7fPdUIAAEB5sdl1QgAAgMur43VCAAAAuFPtdUIAAEAKTvd1QgAAwPb1AHZCAAAASfAKdkIAAECb6hR2QgAAQLztHXZCAACADugndkIAAAD7jzF2QgAAQE2KO3ZCAADAOTJFdkIAAACMLE92QgAAQN4mWXZCAADAys5idkIAAAAdyWx2QgAAgAlxdnZCAADAW2uAdkIAAACuZYp2QgAAAM9ok3ZCAABAIWOddkIAAMANC6d2QgAAAGAFsXZCAACATK26dkIAAMCep8R2QgAAAPGhznZCAACA3UnYdkIAAMAvROJ2QgAAQBzs63ZCAACAbub1dkIAAMDA4P92QgAAgEc2CXdCAADAmTATd0IAAECG2Bx3QgAAgNjSJndCAAAAxXowd0IAAEAXdTp3QgAAgGlvRHdCAAAAVhdOd0IAAECoEVh3QgAAwJS5YXdC\"},\"shape\":[132],\"dtype\":\"float64\",\"order\":\"little\"}],[\"AMOUNT\",{\"type\":\"ndarray\",\"array\":{\"type\":\"bytes\",\"data\":\"VJ8czbDPZUAvdNQ3Cd5lQIdkRl2SimZAtIuea2DBZkCOFR4BUwtnQPcN9P7w6WZAibYlaSv0ZkAC1D8WfvFmQFkojnwoKGdAISFzuNliZ0AKJ3Ng60hnQKUgN5BKYWdAXLjmyu9lZ0BCGFhifVRnQJDg6T0LWmdA8gPayc9oZ0CyNSG7C2JnQKrWSoTZc2dAFrKmMK6EZ0DC8Kbnd3FnQFFued8OqmdAUrz7rWWtZ0Bs4VOXUMhnQLODNAzQ2GdARrTlHRzmZ0DRlq3dxw5oQLsnU4cu+mdAlQcMYA8LaEDg5QS18gFoQKqZAM8VAmhAsYim+AoWaEAyIRjpVgxoQCo480JQEmhApY1PF6AfaEBdtgl4fC9oQNDW5D7iG2hAgyDj9tEXaEAsvf42cypoQPRqvbAiQ2hAb/fFZjk/aEAJ5ei4L0xoQHeq9e7jRWhA0tK2HmVeaECY8g1opnBoQApy+nGkmWhAZC0UcBaHaECFJxCP1IxoQECDTsEyhGhAODXh7FqnaECrLmW9ZLVoQP/54R9ixGhARvBI4QPTaEAQA1Dy89poQAa/umDx6WhANafu1C/waEDYHxn+FAlpQFUorx15CWlA2wNollMUaUCgL8Bw7R5pQMLHH9sTP2lAfUQbtnxPaUDbCE8EbVppQPauPMahb2lAFNl8M69xaUDrmuKoV2hpQFDYMDFTbmlABkfaSKd4aUA7Tv+eZ4dpQD6Ds09zmmlA4/xfNCKUaUDSXkbzTKNpQM0Z7kwRwmlAXYRLo0bNaUAiNtiU+NJpQPXvUgy1ymlA69D5ey3laUCcFHFzY+tpQD11DnzU/WlAXsCB92kLakBqla8HAAxqQBHONQH9CmpAHtpFyK8fakCHpkYkwiRqQJCNfeKvK2pAwENnZRw7akC7vTGxSDxqQHNFvsI0NmpAdwQNP1plakAHkF5VmltqQORwLqAwU2pAsduVGaVfakAbf9Cz7WBqQDk/fcPSempAMus4gvl8akDjmnPX9pVqQIMK+4z7j2pAQzuvRs+ZakBP9ScSBqpqQCrIfCTHwWpABt9N9afSakBBjAfuGtZqQEZqbgul1GpASTAhKvfTakBImVdWRt9qQOciATeL6WpABI6xb4vtakDHs5F+9/JqQEe9Jj3PEWtAZsZtDNwQa0CGhicCvSxrQOKytv2VQWtA5Uy4AOpIa0CXmQvgqFNrQI2GjyEuXmtAwMMOCaVla0Bgg27FPnprQB+eFWKPgWtAhSM2mbuXa0DTaK50/Z1rQLjCR1mMp2tAF1h6A1G3a0AX7bzu87lrQPTvZVHoyGtA6b00CFfLa0AFqoIQe+drQLghjWnK+WtANj0qRXDra0CZWRj4DvVrQJC8+fDc9WtAosy7yAsObEAfwIue+CVsQHqBG8/WD2xA\"},\"shape\":[132],\"dtype\":\"float64\",\"order\":\"little\"}],[\"year_hyphen_minus_mon\",{\"type\":\"ndarray\",\"array\":{\"type\":\"bytes\",\"data\":\"AACA53JeckIAAMA5bWhyQgAAwFpwcXJCAAAArWp7ckIAAICZEoVyQgAAwOsMj3JCAABA2LSYckIAAIAqr6JyQgAAwHyprHJCAABAaVG2ckIAAIC7S8ByQgAAAKjzyXJCAABA+u3TckIAAIBM6N1yQgAAgG3r5nJCAADAv+XwckIAAECsjfpyQgAAgP6HBHNCAAAA6y8Oc0IAAEA9KhhzQgAAgI8kInNCAAAAfMwrc0IAAEDOxjVzQgAAwLpuP3NCAAAADWlJc0IAAEBfY1NzQgAAAOa4XHNCAABAOLNmc0IAAMAkW3BzQgAAAHdVenNCAACAY/2Dc0IAAMC1941zQgAAAAjyl3NCAACA9Jmhc0IAAMBGlKtzQgAAQDM8tXNCAACAhTa/c0IAAMDXMMlzQgAAwPgz0nNCAAAASy7cc0IAAIA31uVzQgAAwInQ73NCAABAdnj5c0IAAIDIcgN0QgAAwBptDXRCAABABxUXdEIAAIBZDyF0QgAAAEa3KnRCAABAmLE0dEIAAIDqqz50QgAAgAuvR3RCAADAXalRdEIAAEBKUVt0QgAAgJxLZXRCAAAAifNudEIAAEDb7Xh0QgAAgC3ognRCAAAAGpCMdEIAAEBsipZ0QgAAwFgyoHRCAAAAqyyqdEIAAED9JrR0QgAAQB4qvXRCAACAcCTHdEIAAABdzNB0QgAAQK/G2nRCAADAm27kdEIAAADuaO50QgAAQEBj+HRCAADALAsCdUIAAAB/BQx1QgAAgGutFXVCAADAvacfdUIAAAAQoil1QgAAwJb3MnVCAAAA6fE8dUIAAIDVmUZ1QgAAwCeUUHVCAABAFDxadUIAAIBmNmR1QgAAwLgwbnVCAABApdh3dUIAAID30oF1QgAAAOR6i3VCAABANnWVdUIAAICIb591QgAAgKlyqHVCAADA+2yydUIAAEDoFLx1QgAAgDoPxnVCAAAAJ7fPdUIAAEB5sdl1QgAAgMur43VCAAAAuFPtdUIAAEAKTvd1QgAAwPb1AHZCAAAASfAKdkIAAECb6hR2QgAAQLztHXZCAACADugndkIAAAD7jzF2QgAAQE2KO3ZCAADAOTJFdkIAAACMLE92QgAAQN4mWXZCAADAys5idkIAAAAdyWx2QgAAgAlxdnZCAADAW2uAdkIAAACuZYp2QgAAAM9ok3ZCAABAIWOddkIAAMANC6d2QgAAAGAFsXZCAACATK26dkIAAMCep8R2QgAAAPGhznZCAACA3UnYdkIAAMAvROJ2QgAAQBzs63ZCAACAbub1dkIAAMDA4P92QgAAgEc2CXdCAADAmTATd0IAAECG2Bx3QgAAgNjSJndCAAAAxXowd0IAAEAXdTp3QgAAgGlvRHdCAAAAVhdOd0IAAECoEVh3QgAAwJS5YXdC\"},\"shape\":[132],\"dtype\":\"float64\",\"order\":\"little\"}],[\"EXP_TYPE\",[\"Bills and Utilities\",\"Bills and Utilities\",\"Bills and Utilities\",\"Bills and Utilities\",\"Bills and Utilities\",\"Bills and Utilities\",\"Bills and Utilities\",\"Bills and Utilities\",\"Bills and Utilities\",\"Bills and Utilities\",\"Bills and Utilities\",\"Bills and Utilities\",\"Bills and Utilities\",\"Bills and Utilities\",\"Bills and Utilities\",\"Bills and Utilities\",\"Bills and Utilities\",\"Bills and Utilities\",\"Bills and Utilities\",\"Bills and Utilities\",\"Bills and Utilities\",\"Bills and Utilities\",\"Bills and Utilities\",\"Bills and Utilities\",\"Bills and Utilities\",\"Bills and Utilities\",\"Bills and Utilities\",\"Bills and Utilities\",\"Bills and Utilities\",\"Bills and Utilities\",\"Bills and Utilities\",\"Bills and Utilities\",\"Bills and Utilities\",\"Bills and Utilities\",\"Bills and Utilities\",\"Bills and Utilities\",\"Bills and Utilities\",\"Bills and Utilities\",\"Bills and Utilities\",\"Bills and Utilities\",\"Bills and Utilities\",\"Bills and Utilities\",\"Bills and Utilities\",\"Bills and Utilities\",\"Bills and Utilities\",\"Bills and Utilities\",\"Bills and Utilities\",\"Bills and Utilities\",\"Bills and Utilities\",\"Bills and Utilities\",\"Bills and Utilities\",\"Bills and Utilities\",\"Bills and Utilities\",\"Bills and Utilities\",\"Bills and Utilities\",\"Bills and Utilities\",\"Bills and Utilities\",\"Bills and Utilities\",\"Bills and Utilities\",\"Bills and Utilities\",\"Bills and Utilities\",\"Bills and Utilities\",\"Bills and Utilities\",\"Bills and Utilities\",\"Bills and Utilities\",\"Bills and Utilities\",\"Bills and Utilities\",\"Bills and Utilities\",\"Bills and Utilities\",\"Bills and Utilities\",\"Bills and Utilities\",\"Bills and Utilities\",\"Bills and Utilities\",\"Bills and Utilities\",\"Bills and Utilities\",\"Bills and Utilities\",\"Bills and Utilities\",\"Bills and Utilities\",\"Bills and Utilities\",\"Bills and Utilities\",\"Bills and Utilities\",\"Bills and Utilities\",\"Bills and Utilities\",\"Bills and Utilities\",\"Bills and Utilities\",\"Bills and Utilities\",\"Bills and Utilities\",\"Bills and Utilities\",\"Bills and Utilities\",\"Bills and Utilities\",\"Bills and Utilities\",\"Bills and Utilities\",\"Bills and Utilities\",\"Bills and Utilities\",\"Bills and Utilities\",\"Bills and Utilities\",\"Bills and Utilities\",\"Bills and Utilities\",\"Bills and Utilities\",\"Bills and Utilities\",\"Bills and Utilities\",\"Bills and Utilities\",\"Bills and Utilities\",\"Bills and Utilities\",\"Bills and Utilities\",\"Bills and Utilities\",\"Bills and Utilities\",\"Bills and Utilities\",\"Bills and Utilities\",\"Bills and Utilities\",\"Bills and Utilities\",\"Bills and Utilities\",\"Bills and Utilities\",\"Bills and Utilities\",\"Bills and Utilities\",\"Bills and Utilities\",\"Bills and Utilities\",\"Bills and Utilities\",\"Bills and Utilities\",\"Bills and Utilities\",\"Bills and Utilities\",\"Bills and Utilities\",\"Bills and Utilities\",\"Bills and Utilities\",\"Bills and Utilities\",\"Bills and Utilities\",\"Bills and Utilities\",\"Bills and Utilities\",\"Bills and Utilities\",\"Bills and Utilities\",\"Bills and Utilities\",\"Bills and Utilities\"]]]}}},\"view\":{\"type\":\"object\",\"name\":\"CDSView\",\"id\":\"a5cb1773-4012-40c2-abca-9b50413dfd46\",\"attributes\":{\"filter\":{\"type\":\"object\",\"name\":\"AllIndices\",\"id\":\"059e5e58-8bd4-495e-aabc-ab9d6a5de4e5\"}}},\"glyph\":{\"type\":\"object\",\"name\":\"Scatter\",\"id\":\"9f0eb315-6fad-4572-a0ba-5786b654e209\",\"attributes\":{\"tags\":[\"apply_ranges\"],\"x\":{\"type\":\"field\",\"field\":\"year-mon\"},\"y\":{\"type\":\"field\",\"field\":\"AMOUNT\"},\"size\":{\"type\":\"value\",\"value\":5.477225575051661},\"line_color\":{\"type\":\"value\",\"value\":\"#30a2da\"},\"fill_color\":{\"type\":\"value\",\"value\":\"#30a2da\"},\"hatch_color\":{\"type\":\"value\",\"value\":\"#30a2da\"}}},\"selection_glyph\":{\"type\":\"object\",\"name\":\"Scatter\",\"id\":\"c762c0e2-0aae-4477-b27d-db5e262e1a62\",\"attributes\":{\"tags\":[\"apply_ranges\"],\"x\":{\"type\":\"field\",\"field\":\"year-mon\"},\"y\":{\"type\":\"field\",\"field\":\"AMOUNT\"},\"size\":{\"type\":\"value\",\"value\":5.477225575051661},\"angle\":{\"type\":\"value\",\"value\":0.0},\"line_color\":{\"type\":\"value\",\"value\":\"#30a2da\"},\"line_alpha\":{\"type\":\"value\",\"value\":1.0},\"line_width\":{\"type\":\"value\",\"value\":1},\"line_join\":{\"type\":\"value\",\"value\":\"bevel\"},\"line_cap\":{\"type\":\"value\",\"value\":\"butt\"},\"line_dash\":{\"type\":\"value\",\"value\":[]},\"line_dash_offset\":{\"type\":\"value\",\"value\":0},\"fill_color\":{\"type\":\"value\",\"value\":\"#30a2da\"},\"fill_alpha\":{\"type\":\"value\",\"value\":1.0},\"hatch_color\":{\"type\":\"value\",\"value\":\"#30a2da\"},\"hatch_alpha\":{\"type\":\"value\",\"value\":1.0},\"hatch_scale\":{\"type\":\"value\",\"value\":12.0},\"hatch_pattern\":{\"type\":\"value\",\"value\":null},\"hatch_weight\":{\"type\":\"value\",\"value\":1.0},\"marker\":{\"type\":\"value\",\"value\":\"circle\"}}},\"nonselection_glyph\":{\"type\":\"object\",\"name\":\"Scatter\",\"id\":\"8b2bec39-773b-40a2-9785-df5154ef8253\",\"attributes\":{\"tags\":[\"apply_ranges\"],\"x\":{\"type\":\"field\",\"field\":\"year-mon\"},\"y\":{\"type\":\"field\",\"field\":\"AMOUNT\"},\"size\":{\"type\":\"value\",\"value\":5.477225575051661},\"line_color\":{\"type\":\"value\",\"value\":\"#30a2da\"},\"line_alpha\":{\"type\":\"value\",\"value\":0.1},\"fill_color\":{\"type\":\"value\",\"value\":\"#30a2da\"},\"fill_alpha\":{\"type\":\"value\",\"value\":0.1},\"hatch_color\":{\"type\":\"value\",\"value\":\"#30a2da\"},\"hatch_alpha\":{\"type\":\"value\",\"value\":0.1}}},\"muted_glyph\":{\"type\":\"object\",\"name\":\"Scatter\",\"id\":\"c4085ca3-961d-4770-8904-36d6ef3ae467\",\"attributes\":{\"tags\":[\"apply_ranges\"],\"x\":{\"type\":\"field\",\"field\":\"year-mon\"},\"y\":{\"type\":\"field\",\"field\":\"AMOUNT\"},\"size\":{\"type\":\"value\",\"value\":5.477225575051661},\"line_color\":{\"type\":\"value\",\"value\":\"#30a2da\"},\"line_alpha\":{\"type\":\"value\",\"value\":0.2},\"fill_color\":{\"type\":\"value\",\"value\":\"#30a2da\"},\"fill_alpha\":{\"type\":\"value\",\"value\":0.2},\"hatch_color\":{\"type\":\"value\",\"value\":\"#30a2da\"},\"hatch_alpha\":{\"type\":\"value\",\"value\":0.2}}}}},{\"type\":\"object\",\"name\":\"GlyphRenderer\",\"id\":\"d9f20693-967f-43e7-84fb-008ae26ab7c2\",\"attributes\":{\"name\":\"Tax\",\"data_source\":{\"type\":\"object\",\"name\":\"ColumnDataSource\",\"id\":\"19c56917-5c4e-4c8d-9a4b-12bcf0b33d5b\",\"attributes\":{\"selected\":{\"type\":\"object\",\"name\":\"Selection\",\"id\":\"34785d40-7ddd-4fac-a9a0-9421b46a61a3\",\"attributes\":{\"indices\":[],\"line_indices\":[]}},\"selection_policy\":{\"type\":\"object\",\"name\":\"UnionRenderers\",\"id\":\"744e8d01-b52a-4223-95d1-11af1b3f56e0\"},\"data\":{\"type\":\"map\",\"entries\":[[\"year-mon\",{\"type\":\"ndarray\",\"array\":{\"type\":\"bytes\",\"data\":\"AACA53JeckIAAMA5bWhyQgAAwFpwcXJCAAAArWp7ckIAAICZEoVyQgAAwOsMj3JCAABA2LSYckIAAIAqr6JyQgAAwHyprHJCAABAaVG2ckIAAIC7S8ByQgAAAKjzyXJCAABA+u3TckIAAIBM6N1yQgAAgG3r5nJCAADAv+XwckIAAECsjfpyQgAAgP6HBHNCAAAA6y8Oc0IAAEA9KhhzQgAAgI8kInNCAAAAfMwrc0IAAEDOxjVzQgAAwLpuP3NCAAAADWlJc0IAAEBfY1NzQgAAAOa4XHNCAABAOLNmc0IAAMAkW3BzQgAAAHdVenNCAACAY/2Dc0IAAMC1941zQgAAAAjyl3NCAACA9Jmhc0IAAMBGlKtzQgAAQDM8tXNCAACAhTa/c0IAAMDXMMlzQgAAwPgz0nNCAAAASy7cc0IAAIA31uVzQgAAwInQ73NCAABAdnj5c0IAAIDIcgN0QgAAwBptDXRCAABABxUXdEIAAIBZDyF0QgAAAEa3KnRCAABAmLE0dEIAAIDqqz50QgAAgAuvR3RCAADAXalRdEIAAEBKUVt0QgAAgJxLZXRCAAAAifNudEIAAEDb7Xh0QgAAgC3ognRCAAAAGpCMdEIAAEBsipZ0QgAAwFgyoHRCAAAAqyyqdEIAAED9JrR0QgAAQB4qvXRCAACAcCTHdEIAAABdzNB0QgAAQK/G2nRCAADAm27kdEIAAADuaO50QgAAQEBj+HRCAADALAsCdUIAAAB/BQx1QgAAgGutFXVCAADAvacfdUIAAAAQoil1QgAAwJb3MnVCAAAA6fE8dUIAAIDVmUZ1QgAAwCeUUHVCAABAFDxadUIAAIBmNmR1QgAAwLgwbnVCAABApdh3dUIAAID30oF1QgAAAOR6i3VCAABANnWVdUIAAICIb591QgAAgKlyqHVCAADA+2yydUIAAEDoFLx1QgAAgDoPxnVCAAAAJ7fPdUIAAEB5sdl1QgAAgMur43VCAAAAuFPtdUIAAEAKTvd1QgAAwPb1AHZCAAAASfAKdkIAAECb6hR2QgAAQLztHXZCAACADugndkIAAAD7jzF2QgAAQE2KO3ZCAADAOTJFdkIAAACMLE92QgAAQN4mWXZCAADAys5idkIAAAAdyWx2QgAAgAlxdnZCAADAW2uAdkIAAACuZYp2QgAAAM9ok3ZCAABAIWOddkIAAMANC6d2QgAAAGAFsXZCAACATK26dkIAAMCep8R2QgAAAPGhznZCAACA3UnYdkIAAMAvROJ2QgAAQBzs63ZCAACAbub1dkIAAMDA4P92QgAAgEc2CXdCAADAmTATd0IAAECG2Bx3QgAAgNjSJndCAAAAxXowd0IAAEAXdTp3QgAAgGlvRHdCAAAAVhdOd0IAAECoEVh3QgAAwJS5YXdC\"},\"shape\":[132],\"dtype\":\"float64\",\"order\":\"little\"}],[\"AMOUNT\",{\"type\":\"ndarray\",\"array\":{\"type\":\"bytes\",\"data\":\"maXrkwp/eUD8Cm86qth5QDuAJbu7MnpAi0e4BruWekC9VQJLWJB6QOYuAsjOaHpAh54hp8pdekBG8sWvxGF6QJMTU1YBP3pAjNH8IO1WekBg/pWesDt6QLLf1PRdUnpAoEdBjqZAekD+ZdKVBiV6QHd5QzjvKnpAxeldnfsjekDWRPWFciJ6QHF9hXcHIXpAVqJ8VZwWekCcPqX71gh6QJ9Q9tq7K3pA+p6vlaEeekC8TqYW5SV6QB3Si78bK3pAqfgXf7IxekD+gQzKvzt6QBM8juyxNXpAAQ4mgEknekDsbOPqlRt6QJnUCrgWFXpA3q4YfIkHekABDq9sxQF6QHZ3PVIY+nlAQsoxz7PqeUAL7U7mBut5QNLskMXD4nlA9yGTfXXieUAMsAMr2Op5QCViyfc36XlALXVd5UjneUCLOh1Evdx5QJFy2Q+I1nlA2TeN0ZrceUAAudczDtd5QCzy66ln23lAqK806n3WeUD33EEYe9B5QIXOQ203yXlAU7hwWnfQeUDAhtwlzdV5QPzGC7FB0XlAU1nkJajReUCeuZREidB5QBcYJpOL0XlAdJfgc7bTeUCdQh2wSdB5QBcP7RtUxXlAVxITMvnJeUB3yvOLXdx5QJ1+JeMi2nlArS+h9NDfeUAZ6FFo5N95QF+PS2vM43lAXqD6VtzoeUCSbAOYW9p5QHxoMBdU1nlALj554WLWeUBMjAJ1wdV5QD5vEF501nlAJpFDmLHYeUB5LEPNiOB5QCAez1ET3nlAE+rlBf3ZeUBVCYNQ1Np5QDDrxd1I1HlAVVCyF2XWeUC2zriwPdF5QHSdKV4p2XlAuqfeHTjTeUAedPdhDsl5QMMRLA2pyXlAG4uPyQrMeUDkkOXsN8R5QGOFZDeCynlAvP8+A5HNeUATgt09fsV5QPkWAqlHwnlAaEpiciTEeUAPUiKh67J5QHC+60gcsXlAQnGtXI+seUBESU4llat5QNCbLTodsnlAMVH9FJyseUAduNFNWrF5QAlHAAd9tHlAfZK43Gm2eUBElKq4N7l5QBbMcwG+xHlAxGPa0wvIeUAqL8502Ll5QPv7EvOts3lAaVSqisazeUCx52ig8ah5QGC6UwhkpXlAKCwxqaCaeUB9M20vLaR5QJBAJxeMsHlA50SXmt28eUAo5Z0rAbt5QI/9iu1Wu3lAi85nNzm+eUBUl1uazcB5QAtkGY24vHlA59BsKt24eUBSgWtnFrh5QJzqVW0pu3lAAv2IfEbFeUDrY3JGc8R5QLybtj1fvnlAbCl07K69eUABdgsW9L15QEBk4mFDv3lA7SKz2zG4eUA3f157rrt5QC5bHzvUvnlAVvk2pmS3eUDMJi36hLd5QMV0D4uIu3lAnJIxveK4eUBts6w/J755QMpwsGnit3lA\"},\"shape\":[132],\"dtype\":\"float64\",\"order\":\"little\"}],[\"year_hyphen_minus_mon\",{\"type\":\"ndarray\",\"array\":{\"type\":\"bytes\",\"data\":\"AACA53JeckIAAMA5bWhyQgAAwFpwcXJCAAAArWp7ckIAAICZEoVyQgAAwOsMj3JCAABA2LSYckIAAIAqr6JyQgAAwHyprHJCAABAaVG2ckIAAIC7S8ByQgAAAKjzyXJCAABA+u3TckIAAIBM6N1yQgAAgG3r5nJCAADAv+XwckIAAECsjfpyQgAAgP6HBHNCAAAA6y8Oc0IAAEA9KhhzQgAAgI8kInNCAAAAfMwrc0IAAEDOxjVzQgAAwLpuP3NCAAAADWlJc0IAAEBfY1NzQgAAAOa4XHNCAABAOLNmc0IAAMAkW3BzQgAAAHdVenNCAACAY/2Dc0IAAMC1941zQgAAAAjyl3NCAACA9Jmhc0IAAMBGlKtzQgAAQDM8tXNCAACAhTa/c0IAAMDXMMlzQgAAwPgz0nNCAAAASy7cc0IAAIA31uVzQgAAwInQ73NCAABAdnj5c0IAAIDIcgN0QgAAwBptDXRCAABABxUXdEIAAIBZDyF0QgAAAEa3KnRCAABAmLE0dEIAAIDqqz50QgAAgAuvR3RCAADAXalRdEIAAEBKUVt0QgAAgJxLZXRCAAAAifNudEIAAEDb7Xh0QgAAgC3ognRCAAAAGpCMdEIAAEBsipZ0QgAAwFgyoHRCAAAAqyyqdEIAAED9JrR0QgAAQB4qvXRCAACAcCTHdEIAAABdzNB0QgAAQK/G2nRCAADAm27kdEIAAADuaO50QgAAQEBj+HRCAADALAsCdUIAAAB/BQx1QgAAgGutFXVCAADAvacfdUIAAAAQoil1QgAAwJb3MnVCAAAA6fE8dUIAAIDVmUZ1QgAAwCeUUHVCAABAFDxadUIAAIBmNmR1QgAAwLgwbnVCAABApdh3dUIAAID30oF1QgAAAOR6i3VCAABANnWVdUIAAICIb591QgAAgKlyqHVCAADA+2yydUIAAEDoFLx1QgAAgDoPxnVCAAAAJ7fPdUIAAEB5sdl1QgAAgMur43VCAAAAuFPtdUIAAEAKTvd1QgAAwPb1AHZCAAAASfAKdkIAAECb6hR2QgAAQLztHXZCAACADugndkIAAAD7jzF2QgAAQE2KO3ZCAADAOTJFdkIAAACMLE92QgAAQN4mWXZCAADAys5idkIAAAAdyWx2QgAAgAlxdnZCAADAW2uAdkIAAACuZYp2QgAAAM9ok3ZCAABAIWOddkIAAMANC6d2QgAAAGAFsXZCAACATK26dkIAAMCep8R2QgAAAPGhznZCAACA3UnYdkIAAMAvROJ2QgAAQBzs63ZCAACAbub1dkIAAMDA4P92QgAAgEc2CXdCAADAmTATd0IAAECG2Bx3QgAAgNjSJndCAAAAxXowd0IAAEAXdTp3QgAAgGlvRHdCAAAAVhdOd0IAAECoEVh3QgAAwJS5YXdC\"},\"shape\":[132],\"dtype\":\"float64\",\"order\":\"little\"}],[\"EXP_TYPE\",[\"Tax\",\"Tax\",\"Tax\",\"Tax\",\"Tax\",\"Tax\",\"Tax\",\"Tax\",\"Tax\",\"Tax\",\"Tax\",\"Tax\",\"Tax\",\"Tax\",\"Tax\",\"Tax\",\"Tax\",\"Tax\",\"Tax\",\"Tax\",\"Tax\",\"Tax\",\"Tax\",\"Tax\",\"Tax\",\"Tax\",\"Tax\",\"Tax\",\"Tax\",\"Tax\",\"Tax\",\"Tax\",\"Tax\",\"Tax\",\"Tax\",\"Tax\",\"Tax\",\"Tax\",\"Tax\",\"Tax\",\"Tax\",\"Tax\",\"Tax\",\"Tax\",\"Tax\",\"Tax\",\"Tax\",\"Tax\",\"Tax\",\"Tax\",\"Tax\",\"Tax\",\"Tax\",\"Tax\",\"Tax\",\"Tax\",\"Tax\",\"Tax\",\"Tax\",\"Tax\",\"Tax\",\"Tax\",\"Tax\",\"Tax\",\"Tax\",\"Tax\",\"Tax\",\"Tax\",\"Tax\",\"Tax\",\"Tax\",\"Tax\",\"Tax\",\"Tax\",\"Tax\",\"Tax\",\"Tax\",\"Tax\",\"Tax\",\"Tax\",\"Tax\",\"Tax\",\"Tax\",\"Tax\",\"Tax\",\"Tax\",\"Tax\",\"Tax\",\"Tax\",\"Tax\",\"Tax\",\"Tax\",\"Tax\",\"Tax\",\"Tax\",\"Tax\",\"Tax\",\"Tax\",\"Tax\",\"Tax\",\"Tax\",\"Tax\",\"Tax\",\"Tax\",\"Tax\",\"Tax\",\"Tax\",\"Tax\",\"Tax\",\"Tax\",\"Tax\",\"Tax\",\"Tax\",\"Tax\",\"Tax\",\"Tax\",\"Tax\",\"Tax\",\"Tax\",\"Tax\",\"Tax\",\"Tax\",\"Tax\",\"Tax\",\"Tax\",\"Tax\",\"Tax\",\"Tax\",\"Tax\",\"Tax\",\"Tax\",\"Tax\"]]]}}},\"view\":{\"type\":\"object\",\"name\":\"CDSView\",\"id\":\"9aef4f88-2024-4535-b183-a65e69687092\",\"attributes\":{\"filter\":{\"type\":\"object\",\"name\":\"AllIndices\",\"id\":\"d7b241db-6abf-4e2e-b84f-2f96bb768309\"}}},\"glyph\":{\"type\":\"object\",\"name\":\"Scatter\",\"id\":\"709173bc-a299-4b2c-b6a7-4922669a70ef\",\"attributes\":{\"tags\":[\"apply_ranges\"],\"x\":{\"type\":\"field\",\"field\":\"year-mon\"},\"y\":{\"type\":\"field\",\"field\":\"AMOUNT\"},\"size\":{\"type\":\"value\",\"value\":5.477225575051661},\"line_color\":{\"type\":\"value\",\"value\":\"#fc4f30\"},\"fill_color\":{\"type\":\"value\",\"value\":\"#fc4f30\"},\"hatch_color\":{\"type\":\"value\",\"value\":\"#fc4f30\"}}},\"selection_glyph\":{\"type\":\"object\",\"name\":\"Scatter\",\"id\":\"90175002-b55d-490c-83d3-d5dc2def0013\",\"attributes\":{\"tags\":[\"apply_ranges\"],\"x\":{\"type\":\"field\",\"field\":\"year-mon\"},\"y\":{\"type\":\"field\",\"field\":\"AMOUNT\"},\"size\":{\"type\":\"value\",\"value\":5.477225575051661},\"angle\":{\"type\":\"value\",\"value\":0.0},\"line_color\":{\"type\":\"value\",\"value\":\"#fc4f30\"},\"line_alpha\":{\"type\":\"value\",\"value\":1.0},\"line_width\":{\"type\":\"value\",\"value\":1},\"line_join\":{\"type\":\"value\",\"value\":\"bevel\"},\"line_cap\":{\"type\":\"value\",\"value\":\"butt\"},\"line_dash\":{\"type\":\"value\",\"value\":[]},\"line_dash_offset\":{\"type\":\"value\",\"value\":0},\"fill_color\":{\"type\":\"value\",\"value\":\"#fc4f30\"},\"fill_alpha\":{\"type\":\"value\",\"value\":1.0},\"hatch_color\":{\"type\":\"value\",\"value\":\"#fc4f30\"},\"hatch_alpha\":{\"type\":\"value\",\"value\":1.0},\"hatch_scale\":{\"type\":\"value\",\"value\":12.0},\"hatch_pattern\":{\"type\":\"value\",\"value\":null},\"hatch_weight\":{\"type\":\"value\",\"value\":1.0},\"marker\":{\"type\":\"value\",\"value\":\"circle\"}}},\"nonselection_glyph\":{\"type\":\"object\",\"name\":\"Scatter\",\"id\":\"f1f5a7e3-13ab-46fc-a2c6-9f1764072c19\",\"attributes\":{\"tags\":[\"apply_ranges\"],\"x\":{\"type\":\"field\",\"field\":\"year-mon\"},\"y\":{\"type\":\"field\",\"field\":\"AMOUNT\"},\"size\":{\"type\":\"value\",\"value\":5.477225575051661},\"line_color\":{\"type\":\"value\",\"value\":\"#fc4f30\"},\"line_alpha\":{\"type\":\"value\",\"value\":0.1},\"fill_color\":{\"type\":\"value\",\"value\":\"#fc4f30\"},\"fill_alpha\":{\"type\":\"value\",\"value\":0.1},\"hatch_color\":{\"type\":\"value\",\"value\":\"#fc4f30\"},\"hatch_alpha\":{\"type\":\"value\",\"value\":0.1}}},\"muted_glyph\":{\"type\":\"object\",\"name\":\"Scatter\",\"id\":\"743b4d88-41ec-4ba5-b6f9-8accb1b0e026\",\"attributes\":{\"tags\":[\"apply_ranges\"],\"x\":{\"type\":\"field\",\"field\":\"year-mon\"},\"y\":{\"type\":\"field\",\"field\":\"AMOUNT\"},\"size\":{\"type\":\"value\",\"value\":5.477225575051661},\"line_color\":{\"type\":\"value\",\"value\":\"#fc4f30\"},\"line_alpha\":{\"type\":\"value\",\"value\":0.2},\"fill_color\":{\"type\":\"value\",\"value\":\"#fc4f30\"},\"fill_alpha\":{\"type\":\"value\",\"value\":0.2},\"hatch_color\":{\"type\":\"value\",\"value\":\"#fc4f30\"},\"hatch_alpha\":{\"type\":\"value\",\"value\":0.2}}}}},{\"type\":\"object\",\"name\":\"GlyphRenderer\",\"id\":\"b920c48f-dee9-4ea5-9be7-991dc4a15053\",\"attributes\":{\"name\":\"Health\",\"data_source\":{\"type\":\"object\",\"name\":\"ColumnDataSource\",\"id\":\"229af6b9-b67c-4b3e-b6c0-216974d64dd0\",\"attributes\":{\"selected\":{\"type\":\"object\",\"name\":\"Selection\",\"id\":\"aa598b45-6f1f-40ff-bd76-e2a9bca0ec7c\",\"attributes\":{\"indices\":[],\"line_indices\":[]}},\"selection_policy\":{\"type\":\"object\",\"name\":\"UnionRenderers\",\"id\":\"2066a215-2c08-4987-9923-e67f6b6d2739\"},\"data\":{\"type\":\"map\",\"entries\":[[\"year-mon\",{\"type\":\"ndarray\",\"array\":{\"type\":\"bytes\",\"data\":\"AACA53JeckIAAMA5bWhyQgAAwFpwcXJCAAAArWp7ckIAAICZEoVyQgAAwOsMj3JCAABA2LSYckIAAIAqr6JyQgAAwHyprHJCAABAaVG2ckIAAIC7S8ByQgAAAKjzyXJCAABA+u3TckIAAIBM6N1yQgAAgG3r5nJCAADAv+XwckIAAECsjfpyQgAAgP6HBHNCAAAA6y8Oc0IAAEA9KhhzQgAAgI8kInNCAAAAfMwrc0IAAEDOxjVzQgAAwLpuP3NCAAAADWlJc0IAAEBfY1NzQgAAAOa4XHNCAABAOLNmc0IAAMAkW3BzQgAAAHdVenNCAACAY/2Dc0IAAMC1941zQgAAAAjyl3NCAACA9Jmhc0IAAMBGlKtzQgAAQDM8tXNCAACAhTa/c0IAAMDXMMlzQgAAwPgz0nNCAAAASy7cc0IAAIA31uVzQgAAwInQ73NCAABAdnj5c0IAAIDIcgN0QgAAwBptDXRCAABABxUXdEIAAIBZDyF0QgAAAEa3KnRCAABAmLE0dEIAAIDqqz50QgAAgAuvR3RCAADAXalRdEIAAEBKUVt0QgAAgJxLZXRCAAAAifNudEIAAEDb7Xh0QgAAgC3ognRCAAAAGpCMdEIAAEBsipZ0QgAAwFgyoHRCAAAAqyyqdEIAAED9JrR0QgAAQB4qvXRCAACAcCTHdEIAAABdzNB0QgAAQK/G2nRCAADAm27kdEIAAADuaO50QgAAQEBj+HRCAADALAsCdUIAAAB/BQx1QgAAgGutFXVCAADAvacfdUIAAAAQoil1QgAAwJb3MnVCAAAA6fE8dUIAAIDVmUZ1QgAAwCeUUHVCAABAFDxadUIAAIBmNmR1QgAAwLgwbnVCAABApdh3dUIAAID30oF1QgAAAOR6i3VCAABANnWVdUIAAICIb591QgAAgKlyqHVCAADA+2yydUIAAEDoFLx1QgAAgDoPxnVCAAAAJ7fPdUIAAEB5sdl1QgAAgMur43VCAAAAuFPtdUIAAEAKTvd1QgAAwPb1AHZCAAAASfAKdkIAAECb6hR2QgAAQLztHXZCAACADugndkIAAAD7jzF2QgAAQE2KO3ZCAADAOTJFdkIAAACMLE92QgAAQN4mWXZCAADAys5idkIAAAAdyWx2QgAAgAlxdnZCAADAW2uAdkIAAACuZYp2QgAAAM9ok3ZCAABAIWOddkIAAMANC6d2QgAAAGAFsXZCAACATK26dkIAAMCep8R2QgAAAPGhznZCAACA3UnYdkIAAMAvROJ2QgAAQBzs63ZCAACAbub1dkIAAMDA4P92QgAAgEc2CXdCAADAmTATd0IAAECG2Bx3QgAAgNjSJndCAAAAxXowd0IAAEAXdTp3QgAAgGlvRHdCAAAAVhdOd0IAAECoEVh3QgAAwJS5YXdC\"},\"shape\":[132],\"dtype\":\"float64\",\"order\":\"little\"}],[\"AMOUNT\",{\"type\":\"ndarray\",\"array\":{\"type\":\"bytes\",\"data\":\"gNVe97seW0ALJSEnnkNbQJ30UhWvMlxAYQHiRKxjXEA8NhN9lh1dQBYWaA2aTlxAdrY5Q61kXEDChkUWpeBcQCsOztn8lV1AiUfLisP6XUDMbGHHYZJdQBmDffi7Ml5AME99qcjDXUB/N9hPN9BdQAsos+l1BF5AqqU/C5muXkDTlwsnykBeQFWAC/FyF15AiP6cUlIvXkBQHMmFvQ1fQP339Pkhs15AvINb2SpyXkD0JtvvrwBfQChcPVoj/V5Afe4ep9m1X0AtE1fZMnNfQNBW3Vu6CWBAz3agL4/bX0CvscKMgBJgQNBvt3C0BGBAuekUaV4kYEDwJR7vgyhgQPBbde7+B2BAnpJ3/Q4uYEB9TEQGA1FgQDgf3wVQGWBAPWJeL9drYEBQ/vC2JnRgQJB2Z/AvnmBA6ZkNQiWjYEC41psq6KZgQIZPYfG7AmFABA/ApibNYEChepiMOgdhQI+yZiK1AmFAQ3G0RgUHYUAJXwyW4VRhQNjXyeIlJ2FAzL/yofJ2YUDkLTvjgHhhQKwiwMTTl2FA0Oupbb2mYUCehqQS2aNhQOipgoi43mFABiN3e1LUYUAKngTwgM1hQM5IAGq3AWJAKJF3oqMSYkA9Cho7cCpiQPkLdyOsPGJA9UiLRfk7YkAdR/JkOVxiQJjTa7+7gGJAag1mP+yMYkAKXtHK9dtiQCJx5b0rnWJAmawxIHSOYkAqfP+l3tBiQGX8p40S4mJA9gBAMkXvYkDL2ESlkOJiQMbLBNZT/WJAtFZ1ZJ0MY0AUyQ1gbV9jQLqV2wlaaGNAnOvM6Fd/Y0CTlrdCtnpjQBiZaQ/cnmNAb+6mS5+lY0ASg6MJbbVjQHU5AOf1sWNApJXwxEHzY0Bf+XejIQ5kQN3z2pw1H2RAgk6udDkNZECusdgSVRRkQLHOq9VNE2RADrSarMpIZEDjziGlLWBkQEneFzDxkWRAOQ638VN7ZEC2WgvhR7ZkQDyMtWdoo2RAXhVi1fLFZECBdiV7L9xkQEZoQW899WRA5KZERDBKZUAF+YKlyfZkQPs/IN4sO2VA/UlXmoxqZUBbp53/KoRlQHDdoJi2iGVAi/6Orc2BZUAJ9FVXrKJlQIG0bqEUwGVAc/j64GjIZUCSBMDA7c9lQHDfR6ZU/2VASKFH1LwNZkBnRs5Pr01mQNBzeglFLWZAt62d51pHZkCh+PWEnJlmQHxdhArWaWZA1JRhZ/imZkA9Cnf2z4xmQK4oziTr82ZA41tAgx78ZkAeyWi9XfJmQOP8/ItiEmdARgEK5XEeZ0CxXVhZyT9nQLimJeizgGdAMqwW9blzZ0DYh4cwvYpnQIF4ZBgAbWdA7QI4Giq3Z0BC1CZYocRnQAbywHMfC2hAJc/ahcf+Z0AdegL+5jhoQDGArcg4J2hA\"},\"shape\":[132],\"dtype\":\"float64\",\"order\":\"little\"}],[\"year_hyphen_minus_mon\",{\"type\":\"ndarray\",\"array\":{\"type\":\"bytes\",\"data\":\"AACA53JeckIAAMA5bWhyQgAAwFpwcXJCAAAArWp7ckIAAICZEoVyQgAAwOsMj3JCAABA2LSYckIAAIAqr6JyQgAAwHyprHJCAABAaVG2ckIAAIC7S8ByQgAAAKjzyXJCAABA+u3TckIAAIBM6N1yQgAAgG3r5nJCAADAv+XwckIAAECsjfpyQgAAgP6HBHNCAAAA6y8Oc0IAAEA9KhhzQgAAgI8kInNCAAAAfMwrc0IAAEDOxjVzQgAAwLpuP3NCAAAADWlJc0IAAEBfY1NzQgAAAOa4XHNCAABAOLNmc0IAAMAkW3BzQgAAAHdVenNCAACAY/2Dc0IAAMC1941zQgAAAAjyl3NCAACA9Jmhc0IAAMBGlKtzQgAAQDM8tXNCAACAhTa/c0IAAMDXMMlzQgAAwPgz0nNCAAAASy7cc0IAAIA31uVzQgAAwInQ73NCAABAdnj5c0IAAIDIcgN0QgAAwBptDXRCAABABxUXdEIAAIBZDyF0QgAAAEa3KnRCAABAmLE0dEIAAIDqqz50QgAAgAuvR3RCAADAXalRdEIAAEBKUVt0QgAAgJxLZXRCAAAAifNudEIAAEDb7Xh0QgAAgC3ognRCAAAAGpCMdEIAAEBsipZ0QgAAwFgyoHRCAAAAqyyqdEIAAED9JrR0QgAAQB4qvXRCAACAcCTHdEIAAABdzNB0QgAAQK/G2nRCAADAm27kdEIAAADuaO50QgAAQEBj+HRCAADALAsCdUIAAAB/BQx1QgAAgGutFXVCAADAvacfdUIAAAAQoil1QgAAwJb3MnVCAAAA6fE8dUIAAIDVmUZ1QgAAwCeUUHVCAABAFDxadUIAAIBmNmR1QgAAwLgwbnVCAABApdh3dUIAAID30oF1QgAAAOR6i3VCAABANnWVdUIAAICIb591QgAAgKlyqHVCAADA+2yydUIAAEDoFLx1QgAAgDoPxnVCAAAAJ7fPdUIAAEB5sdl1QgAAgMur43VCAAAAuFPtdUIAAEAKTvd1QgAAwPb1AHZCAAAASfAKdkIAAECb6hR2QgAAQLztHXZCAACADugndkIAAAD7jzF2QgAAQE2KO3ZCAADAOTJFdkIAAACMLE92QgAAQN4mWXZCAADAys5idkIAAAAdyWx2QgAAgAlxdnZCAADAW2uAdkIAAACuZYp2QgAAAM9ok3ZCAABAIWOddkIAAMANC6d2QgAAAGAFsXZCAACATK26dkIAAMCep8R2QgAAAPGhznZCAACA3UnYdkIAAMAvROJ2QgAAQBzs63ZCAACAbub1dkIAAMDA4P92QgAAgEc2CXdCAADAmTATd0IAAECG2Bx3QgAAgNjSJndCAAAAxXowd0IAAEAXdTp3QgAAgGlvRHdCAAAAVhdOd0IAAECoEVh3QgAAwJS5YXdC\"},\"shape\":[132],\"dtype\":\"float64\",\"order\":\"little\"}],[\"EXP_TYPE\",[\"Health\",\"Health\",\"Health\",\"Health\",\"Health\",\"Health\",\"Health\",\"Health\",\"Health\",\"Health\",\"Health\",\"Health\",\"Health\",\"Health\",\"Health\",\"Health\",\"Health\",\"Health\",\"Health\",\"Health\",\"Health\",\"Health\",\"Health\",\"Health\",\"Health\",\"Health\",\"Health\",\"Health\",\"Health\",\"Health\",\"Health\",\"Health\",\"Health\",\"Health\",\"Health\",\"Health\",\"Health\",\"Health\",\"Health\",\"Health\",\"Health\",\"Health\",\"Health\",\"Health\",\"Health\",\"Health\",\"Health\",\"Health\",\"Health\",\"Health\",\"Health\",\"Health\",\"Health\",\"Health\",\"Health\",\"Health\",\"Health\",\"Health\",\"Health\",\"Health\",\"Health\",\"Health\",\"Health\",\"Health\",\"Health\",\"Health\",\"Health\",\"Health\",\"Health\",\"Health\",\"Health\",\"Health\",\"Health\",\"Health\",\"Health\",\"Health\",\"Health\",\"Health\",\"Health\",\"Health\",\"Health\",\"Health\",\"Health\",\"Health\",\"Health\",\"Health\",\"Health\",\"Health\",\"Health\",\"Health\",\"Health\",\"Health\",\"Health\",\"Health\",\"Health\",\"Health\",\"Health\",\"Health\",\"Health\",\"Health\",\"Health\",\"Health\",\"Health\",\"Health\",\"Health\",\"Health\",\"Health\",\"Health\",\"Health\",\"Health\",\"Health\",\"Health\",\"Health\",\"Health\",\"Health\",\"Health\",\"Health\",\"Health\",\"Health\",\"Health\",\"Health\",\"Health\",\"Health\",\"Health\",\"Health\",\"Health\",\"Health\",\"Health\",\"Health\",\"Health\",\"Health\",\"Health\"]]]}}},\"view\":{\"type\":\"object\",\"name\":\"CDSView\",\"id\":\"2406163a-c970-4c89-845a-1397fcecb631\",\"attributes\":{\"filter\":{\"type\":\"object\",\"name\":\"AllIndices\",\"id\":\"932381fa-9ad9-4afd-8999-9dd7b7c515d2\"}}},\"glyph\":{\"type\":\"object\",\"name\":\"Scatter\",\"id\":\"c4b2b502-fa36-4e0c-b325-742f832107cc\",\"attributes\":{\"tags\":[\"apply_ranges\"],\"x\":{\"type\":\"field\",\"field\":\"year-mon\"},\"y\":{\"type\":\"field\",\"field\":\"AMOUNT\"},\"size\":{\"type\":\"value\",\"value\":5.477225575051661},\"line_color\":{\"type\":\"value\",\"value\":\"#e5ae38\"},\"fill_color\":{\"type\":\"value\",\"value\":\"#e5ae38\"},\"hatch_color\":{\"type\":\"value\",\"value\":\"#e5ae38\"}}},\"selection_glyph\":{\"type\":\"object\",\"name\":\"Scatter\",\"id\":\"191749eb-b600-410a-9754-c488c8753b00\",\"attributes\":{\"tags\":[\"apply_ranges\"],\"x\":{\"type\":\"field\",\"field\":\"year-mon\"},\"y\":{\"type\":\"field\",\"field\":\"AMOUNT\"},\"size\":{\"type\":\"value\",\"value\":5.477225575051661},\"angle\":{\"type\":\"value\",\"value\":0.0},\"line_color\":{\"type\":\"value\",\"value\":\"#e5ae38\"},\"line_alpha\":{\"type\":\"value\",\"value\":1.0},\"line_width\":{\"type\":\"value\",\"value\":1},\"line_join\":{\"type\":\"value\",\"value\":\"bevel\"},\"line_cap\":{\"type\":\"value\",\"value\":\"butt\"},\"line_dash\":{\"type\":\"value\",\"value\":[]},\"line_dash_offset\":{\"type\":\"value\",\"value\":0},\"fill_color\":{\"type\":\"value\",\"value\":\"#e5ae38\"},\"fill_alpha\":{\"type\":\"value\",\"value\":1.0},\"hatch_color\":{\"type\":\"value\",\"value\":\"#e5ae38\"},\"hatch_alpha\":{\"type\":\"value\",\"value\":1.0},\"hatch_scale\":{\"type\":\"value\",\"value\":12.0},\"hatch_pattern\":{\"type\":\"value\",\"value\":null},\"hatch_weight\":{\"type\":\"value\",\"value\":1.0},\"marker\":{\"type\":\"value\",\"value\":\"circle\"}}},\"nonselection_glyph\":{\"type\":\"object\",\"name\":\"Scatter\",\"id\":\"70550a8b-8049-43f5-a73a-905de921d25b\",\"attributes\":{\"tags\":[\"apply_ranges\"],\"x\":{\"type\":\"field\",\"field\":\"year-mon\"},\"y\":{\"type\":\"field\",\"field\":\"AMOUNT\"},\"size\":{\"type\":\"value\",\"value\":5.477225575051661},\"line_color\":{\"type\":\"value\",\"value\":\"#e5ae38\"},\"line_alpha\":{\"type\":\"value\",\"value\":0.1},\"fill_color\":{\"type\":\"value\",\"value\":\"#e5ae38\"},\"fill_alpha\":{\"type\":\"value\",\"value\":0.1},\"hatch_color\":{\"type\":\"value\",\"value\":\"#e5ae38\"},\"hatch_alpha\":{\"type\":\"value\",\"value\":0.1}}},\"muted_glyph\":{\"type\":\"object\",\"name\":\"Scatter\",\"id\":\"e337b430-e748-47cf-8f34-170363b21137\",\"attributes\":{\"tags\":[\"apply_ranges\"],\"x\":{\"type\":\"field\",\"field\":\"year-mon\"},\"y\":{\"type\":\"field\",\"field\":\"AMOUNT\"},\"size\":{\"type\":\"value\",\"value\":5.477225575051661},\"line_color\":{\"type\":\"value\",\"value\":\"#e5ae38\"},\"line_alpha\":{\"type\":\"value\",\"value\":0.2},\"fill_color\":{\"type\":\"value\",\"value\":\"#e5ae38\"},\"fill_alpha\":{\"type\":\"value\",\"value\":0.2},\"hatch_color\":{\"type\":\"value\",\"value\":\"#e5ae38\"},\"hatch_alpha\":{\"type\":\"value\",\"value\":0.2}}}}},{\"type\":\"object\",\"name\":\"GlyphRenderer\",\"id\":\"f7d22cfa-7ca7-4748-9514-2226741896ea\",\"attributes\":{\"name\":\"Fines\",\"data_source\":{\"type\":\"object\",\"name\":\"ColumnDataSource\",\"id\":\"ba0abe1b-7d35-4364-9d9b-2feb32616523\",\"attributes\":{\"selected\":{\"type\":\"object\",\"name\":\"Selection\",\"id\":\"cb1290af-840c-4ee1-80d3-43f18bfa3c2e\",\"attributes\":{\"indices\":[],\"line_indices\":[]}},\"selection_policy\":{\"type\":\"object\",\"name\":\"UnionRenderers\",\"id\":\"a2c1b6d0-efb3-4d0c-bc53-fab55dce0c45\"},\"data\":{\"type\":\"map\",\"entries\":[[\"year-mon\",{\"type\":\"ndarray\",\"array\":{\"type\":\"bytes\",\"data\":\"AACA53JeckIAAMA5bWhyQgAAwFpwcXJCAAAArWp7ckIAAICZEoVyQgAAwOsMj3JCAABA2LSYckIAAIAqr6JyQgAAwHyprHJCAABAaVG2ckIAAIC7S8ByQgAAAKjzyXJCAABA+u3TckIAAIBM6N1yQgAAgG3r5nJCAADAv+XwckIAAECsjfpyQgAAgP6HBHNCAAAA6y8Oc0IAAEA9KhhzQgAAgI8kInNCAAAAfMwrc0IAAEDOxjVzQgAAwLpuP3NCAAAADWlJc0IAAEBfY1NzQgAAAOa4XHNCAABAOLNmc0IAAMAkW3BzQgAAAHdVenNCAACAY/2Dc0IAAMC1941zQgAAAAjyl3NCAACA9Jmhc0IAAMBGlKtzQgAAQDM8tXNCAACAhTa/c0IAAMDXMMlzQgAAwPgz0nNCAAAASy7cc0IAAIA31uVzQgAAwInQ73NCAABAdnj5c0IAAIDIcgN0QgAAwBptDXRCAABABxUXdEIAAIBZDyF0QgAAAEa3KnRCAABAmLE0dEIAAIDqqz50QgAAgAuvR3RCAADAXalRdEIAAEBKUVt0QgAAgJxLZXRCAAAAifNudEIAAEDb7Xh0QgAAgC3ognRCAAAAGpCMdEIAAEBsipZ0QgAAwFgyoHRCAAAAqyyqdEIAAED9JrR0QgAAQB4qvXRCAACAcCTHdEIAAABdzNB0QgAAQK/G2nRCAADAm27kdEIAAADuaO50QgAAQEBj+HRCAADALAsCdUIAAAB/BQx1QgAAgGutFXVCAADAvacfdUIAAAAQoil1QgAAwJb3MnVCAAAA6fE8dUIAAIDVmUZ1QgAAwCeUUHVCAABAFDxadUIAAIBmNmR1QgAAwLgwbnVCAABApdh3dUIAAID30oF1QgAAAOR6i3VCAABANnWVdUIAAICIb591QgAAgKlyqHVCAADA+2yydUIAAEDoFLx1QgAAgDoPxnVCAAAAJ7fPdUIAAEB5sdl1QgAAgMur43VCAAAAuFPtdUIAAEAKTvd1QgAAwPb1AHZCAAAASfAKdkIAAECb6hR2QgAAQLztHXZCAACADugndkIAAAD7jzF2QgAAQE2KO3ZCAADAOTJFdkIAAACMLE92QgAAQN4mWXZCAADAys5idkIAAAAdyWx2QgAAgAlxdnZCAADAW2uAdkIAAACuZYp2QgAAAM9ok3ZCAABAIWOddkIAAMANC6d2QgAAAGAFsXZCAACATK26dkIAAMCep8R2QgAAAPGhznZCAACA3UnYdkIAAMAvROJ2QgAAQBzs63ZCAACAbub1dkIAAMDA4P92QgAAgEc2CXdCAADAmTATd0IAAECG2Bx3QgAAgNjSJndCAAAAxXowd0IAAEAXdTp3QgAAgGlvRHdCAAAAVhdOd0IAAECoEVh3QgAAwJS5YXdC\"},\"shape\":[132],\"dtype\":\"float64\",\"order\":\"little\"}],[\"AMOUNT\",{\"type\":\"ndarray\",\"array\":{\"type\":\"bytes\",\"data\":\"yS+W/GIVaEAqXI/C9fNXQDXqLaPeEmtA5xdLfrFUZEC5HoXrUT9sQJIkSZIkgWFA6mypzpZ6X0CCyxIJFtpjQDjSawWfAGJA+cWSX6xiYEBgDnqNsg1oQC06/5NKYmVAQR3UQZ3DYkCe6WqIeu5kQG4VV3EVB2NAVeIDoVipZkA7OmWz+zxmQN3qv63+KWRAItuWUg4KZ0BB6wdixlliQKg/Ydzk/2FARb1Vw8d/YkALqre9FcNlQM1ouVvd6GJAMlqhQ/dOZUC66t4h0RdhQN5vzcdC/WRAJ9AX+XOoZEAVvXVcvltjQGRk9msaz2RAMEJkX/IZZUC9OU78QwVkQOOgA7UNqmZAbMuRVPV2YkBNByarllBiQDcH1KDt2WRAH+b+Ye43Y0DSmBDyEj1jQCvNwQurz2NAyVG/pD9jYkBRjK17RshjQKbjcg9fpmNAKpCEUdeAY0AtTOWb9cdkQM1FfkcnmmNA16hkgrk1ZUDepI3xtPNiQOOHp9PNR2NAPXyQ1BX+ZUD0GyBw071lQOQ3iFpM5mRA6EoAve5CZEBCNv1KArBlQHsz6r79wWVABWYXIovaYkAMdVAHdZBkQKYgjSzebmNAruvLK/ibY0BX59QyOkZiQJ5sOQbTZmRASHejyN+2Y0DQ2gWbNsVkQASm0wdowWJAeA9UgLT3YkAKDw1XN09lQAm9GT/MkmFA2SRoE6aeZUBdvjFTvA5kQLkwwFEaZ2RA7UCPL/bMZEBoiqzO8LpjQJEk1Lj9EGVAC3NJsdB8YkA9ZATe5zdkQMtgpSIIv2VAtmBd2Rl9ZUALd2Bse9dkQD0NTUGvBmVA3B0JaS25ZEBwLF2fVChjQA3NH269OmNAwpe2KIKXZEAN8wMCwxtlQJUHF9B8LWNAc2iUtTueYkDkUA12WLxlQKDu0yEHxWNA0KBL6tMvY0AcLMvjUBpkQH35z8jq12JAw5s/sO1jYkBvzTOawPtiQJ0foMoRwmJASyp9A+iEY0CfdqeB8X5kQOvL5a7MQWNA8FIWk7fVY0CG9Onnc41jQDavJp4VnWVACEtBUqhqYkDFEAFW1xJjQMu/DH9+iGVAQ0SdH2F8ZEDlcYysqHZjQEB+VDSm2GNA96XdQCVWYUCizkCYLapiQFLLaVYtc2NAvtYq2IfiY0DWmzFyhC9jQFc2/4xpWmRAG4LoTnXqY0Bxmru9hZBjQKZB23QOMGNAyPHeN7n9Y0AAER76HBVjQEeQJOwjiWNAxyx+iz5iZEAfISEhYdliQNWHCqP/nGNAJVyPwtHGY0AwlvxiiYNkQHO8YGJyhmRAZB20cuI8Y0DyLogcYh9jQJZn2Ym3j2RAJisvMbJSY0CfibDh6XljQC4IgzEPzGNAZJHtfP/KZECNK4jJFdRkQGR9fdpfrmJA\"},\"shape\":[132],\"dtype\":\"float64\",\"order\":\"little\"}],[\"year_hyphen_minus_mon\",{\"type\":\"ndarray\",\"array\":{\"type\":\"bytes\",\"data\":\"AACA53JeckIAAMA5bWhyQgAAwFpwcXJCAAAArWp7ckIAAICZEoVyQgAAwOsMj3JCAABA2LSYckIAAIAqr6JyQgAAwHyprHJCAABAaVG2ckIAAIC7S8ByQgAAAKjzyXJCAABA+u3TckIAAIBM6N1yQgAAgG3r5nJCAADAv+XwckIAAECsjfpyQgAAgP6HBHNCAAAA6y8Oc0IAAEA9KhhzQgAAgI8kInNCAAAAfMwrc0IAAEDOxjVzQgAAwLpuP3NCAAAADWlJc0IAAEBfY1NzQgAAAOa4XHNCAABAOLNmc0IAAMAkW3BzQgAAAHdVenNCAACAY/2Dc0IAAMC1941zQgAAAAjyl3NCAACA9Jmhc0IAAMBGlKtzQgAAQDM8tXNCAACAhTa/c0IAAMDXMMlzQgAAwPgz0nNCAAAASy7cc0IAAIA31uVzQgAAwInQ73NCAABAdnj5c0IAAIDIcgN0QgAAwBptDXRCAABABxUXdEIAAIBZDyF0QgAAAEa3KnRCAABAmLE0dEIAAIDqqz50QgAAgAuvR3RCAADAXalRdEIAAEBKUVt0QgAAgJxLZXRCAAAAifNudEIAAEDb7Xh0QgAAgC3ognRCAAAAGpCMdEIAAEBsipZ0QgAAwFgyoHRCAAAAqyyqdEIAAED9JrR0QgAAQB4qvXRCAACAcCTHdEIAAABdzNB0QgAAQK/G2nRCAADAm27kdEIAAADuaO50QgAAQEBj+HRCAADALAsCdUIAAAB/BQx1QgAAgGutFXVCAADAvacfdUIAAAAQoil1QgAAwJb3MnVCAAAA6fE8dUIAAIDVmUZ1QgAAwCeUUHVCAABAFDxadUIAAIBmNmR1QgAAwLgwbnVCAABApdh3dUIAAID30oF1QgAAAOR6i3VCAABANnWVdUIAAICIb591QgAAgKlyqHVCAADA+2yydUIAAEDoFLx1QgAAgDoPxnVCAAAAJ7fPdUIAAEB5sdl1QgAAgMur43VCAAAAuFPtdUIAAEAKTvd1QgAAwPb1AHZCAAAASfAKdkIAAECb6hR2QgAAQLztHXZCAACADugndkIAAAD7jzF2QgAAQE2KO3ZCAADAOTJFdkIAAACMLE92QgAAQN4mWXZCAADAys5idkIAAAAdyWx2QgAAgAlxdnZCAADAW2uAdkIAAACuZYp2QgAAAM9ok3ZCAABAIWOddkIAAMANC6d2QgAAAGAFsXZCAACATK26dkIAAMCep8R2QgAAAPGhznZCAACA3UnYdkIAAMAvROJ2QgAAQBzs63ZCAACAbub1dkIAAMDA4P92QgAAgEc2CXdCAADAmTATd0IAAECG2Bx3QgAAgNjSJndCAAAAxXowd0IAAEAXdTp3QgAAgGlvRHdCAAAAVhdOd0IAAECoEVh3QgAAwJS5YXdC\"},\"shape\":[132],\"dtype\":\"float64\",\"order\":\"little\"}],[\"EXP_TYPE\",[\"Fines\",\"Fines\",\"Fines\",\"Fines\",\"Fines\",\"Fines\",\"Fines\",\"Fines\",\"Fines\",\"Fines\",\"Fines\",\"Fines\",\"Fines\",\"Fines\",\"Fines\",\"Fines\",\"Fines\",\"Fines\",\"Fines\",\"Fines\",\"Fines\",\"Fines\",\"Fines\",\"Fines\",\"Fines\",\"Fines\",\"Fines\",\"Fines\",\"Fines\",\"Fines\",\"Fines\",\"Fines\",\"Fines\",\"Fines\",\"Fines\",\"Fines\",\"Fines\",\"Fines\",\"Fines\",\"Fines\",\"Fines\",\"Fines\",\"Fines\",\"Fines\",\"Fines\",\"Fines\",\"Fines\",\"Fines\",\"Fines\",\"Fines\",\"Fines\",\"Fines\",\"Fines\",\"Fines\",\"Fines\",\"Fines\",\"Fines\",\"Fines\",\"Fines\",\"Fines\",\"Fines\",\"Fines\",\"Fines\",\"Fines\",\"Fines\",\"Fines\",\"Fines\",\"Fines\",\"Fines\",\"Fines\",\"Fines\",\"Fines\",\"Fines\",\"Fines\",\"Fines\",\"Fines\",\"Fines\",\"Fines\",\"Fines\",\"Fines\",\"Fines\",\"Fines\",\"Fines\",\"Fines\",\"Fines\",\"Fines\",\"Fines\",\"Fines\",\"Fines\",\"Fines\",\"Fines\",\"Fines\",\"Fines\",\"Fines\",\"Fines\",\"Fines\",\"Fines\",\"Fines\",\"Fines\",\"Fines\",\"Fines\",\"Fines\",\"Fines\",\"Fines\",\"Fines\",\"Fines\",\"Fines\",\"Fines\",\"Fines\",\"Fines\",\"Fines\",\"Fines\",\"Fines\",\"Fines\",\"Fines\",\"Fines\",\"Fines\",\"Fines\",\"Fines\",\"Fines\",\"Fines\",\"Fines\",\"Fines\",\"Fines\",\"Fines\",\"Fines\",\"Fines\",\"Fines\",\"Fines\",\"Fines\",\"Fines\",\"Fines\"]]]}}},\"view\":{\"type\":\"object\",\"name\":\"CDSView\",\"id\":\"1904f0c1-1fce-40bf-bce0-7c1beaa58994\",\"attributes\":{\"filter\":{\"type\":\"object\",\"name\":\"AllIndices\",\"id\":\"4b6c1f93-1fa6-4890-9c1a-175e9cc4074f\"}}},\"glyph\":{\"type\":\"object\",\"name\":\"Scatter\",\"id\":\"a2dd69f0-8be6-4d8d-9b4f-5666a6c91d21\",\"attributes\":{\"tags\":[\"apply_ranges\"],\"x\":{\"type\":\"field\",\"field\":\"year-mon\"},\"y\":{\"type\":\"field\",\"field\":\"AMOUNT\"},\"size\":{\"type\":\"value\",\"value\":5.477225575051661},\"line_color\":{\"type\":\"value\",\"value\":\"#6d904f\"},\"fill_color\":{\"type\":\"value\",\"value\":\"#6d904f\"},\"hatch_color\":{\"type\":\"value\",\"value\":\"#6d904f\"}}},\"selection_glyph\":{\"type\":\"object\",\"name\":\"Scatter\",\"id\":\"8bbb0dbc-bb38-4c0c-b64b-2178836f8c56\",\"attributes\":{\"tags\":[\"apply_ranges\"],\"x\":{\"type\":\"field\",\"field\":\"year-mon\"},\"y\":{\"type\":\"field\",\"field\":\"AMOUNT\"},\"size\":{\"type\":\"value\",\"value\":5.477225575051661},\"angle\":{\"type\":\"value\",\"value\":0.0},\"line_color\":{\"type\":\"value\",\"value\":\"#6d904f\"},\"line_alpha\":{\"type\":\"value\",\"value\":1.0},\"line_width\":{\"type\":\"value\",\"value\":1},\"line_join\":{\"type\":\"value\",\"value\":\"bevel\"},\"line_cap\":{\"type\":\"value\",\"value\":\"butt\"},\"line_dash\":{\"type\":\"value\",\"value\":[]},\"line_dash_offset\":{\"type\":\"value\",\"value\":0},\"fill_color\":{\"type\":\"value\",\"value\":\"#6d904f\"},\"fill_alpha\":{\"type\":\"value\",\"value\":1.0},\"hatch_color\":{\"type\":\"value\",\"value\":\"#6d904f\"},\"hatch_alpha\":{\"type\":\"value\",\"value\":1.0},\"hatch_scale\":{\"type\":\"value\",\"value\":12.0},\"hatch_pattern\":{\"type\":\"value\",\"value\":null},\"hatch_weight\":{\"type\":\"value\",\"value\":1.0},\"marker\":{\"type\":\"value\",\"value\":\"circle\"}}},\"nonselection_glyph\":{\"type\":\"object\",\"name\":\"Scatter\",\"id\":\"950206d4-6187-4641-be5d-47d102e81971\",\"attributes\":{\"tags\":[\"apply_ranges\"],\"x\":{\"type\":\"field\",\"field\":\"year-mon\"},\"y\":{\"type\":\"field\",\"field\":\"AMOUNT\"},\"size\":{\"type\":\"value\",\"value\":5.477225575051661},\"line_color\":{\"type\":\"value\",\"value\":\"#6d904f\"},\"line_alpha\":{\"type\":\"value\",\"value\":0.1},\"fill_color\":{\"type\":\"value\",\"value\":\"#6d904f\"},\"fill_alpha\":{\"type\":\"value\",\"value\":0.1},\"hatch_color\":{\"type\":\"value\",\"value\":\"#6d904f\"},\"hatch_alpha\":{\"type\":\"value\",\"value\":0.1}}},\"muted_glyph\":{\"type\":\"object\",\"name\":\"Scatter\",\"id\":\"41b96ff9-59b9-4211-8c63-618a79c1024d\",\"attributes\":{\"tags\":[\"apply_ranges\"],\"x\":{\"type\":\"field\",\"field\":\"year-mon\"},\"y\":{\"type\":\"field\",\"field\":\"AMOUNT\"},\"size\":{\"type\":\"value\",\"value\":5.477225575051661},\"line_color\":{\"type\":\"value\",\"value\":\"#6d904f\"},\"line_alpha\":{\"type\":\"value\",\"value\":0.2},\"fill_color\":{\"type\":\"value\",\"value\":\"#6d904f\"},\"fill_alpha\":{\"type\":\"value\",\"value\":0.2},\"hatch_color\":{\"type\":\"value\",\"value\":\"#6d904f\"},\"hatch_alpha\":{\"type\":\"value\",\"value\":0.2}}}}},{\"type\":\"object\",\"name\":\"GlyphRenderer\",\"id\":\"07cb6c56-d873-4515-9e2a-e0cac7a447f9\",\"attributes\":{\"name\":\"Clothing\",\"data_source\":{\"type\":\"object\",\"name\":\"ColumnDataSource\",\"id\":\"89495ada-242a-49e6-a607-703a537dddb0\",\"attributes\":{\"selected\":{\"type\":\"object\",\"name\":\"Selection\",\"id\":\"830021fa-c1ff-4ade-a1ca-f0b5136f4c34\",\"attributes\":{\"indices\":[],\"line_indices\":[]}},\"selection_policy\":{\"type\":\"object\",\"name\":\"UnionRenderers\",\"id\":\"df10ce57-5013-4106-9390-a45c69fdf989\"},\"data\":{\"type\":\"map\",\"entries\":[[\"year-mon\",{\"type\":\"ndarray\",\"array\":{\"type\":\"bytes\",\"data\":\"AACA53JeckIAAMA5bWhyQgAAwFpwcXJCAAAArWp7ckIAAICZEoVyQgAAwOsMj3JCAABA2LSYckIAAIAqr6JyQgAAwHyprHJCAABAaVG2ckIAAIC7S8ByQgAAAKjzyXJCAABA+u3TckIAAIBM6N1yQgAAgG3r5nJCAADAv+XwckIAAECsjfpyQgAAgP6HBHNCAAAA6y8Oc0IAAEA9KhhzQgAAgI8kInNCAAAAfMwrc0IAAEDOxjVzQgAAwLpuP3NCAAAADWlJc0IAAEBfY1NzQgAAAOa4XHNCAABAOLNmc0IAAMAkW3BzQgAAAHdVenNCAACAY/2Dc0IAAMC1941zQgAAAAjyl3NCAACA9Jmhc0IAAMBGlKtzQgAAQDM8tXNCAACAhTa/c0IAAMDXMMlzQgAAwPgz0nNCAAAASy7cc0IAAIA31uVzQgAAwInQ73NCAABAdnj5c0IAAIDIcgN0QgAAwBptDXRCAABABxUXdEIAAIBZDyF0QgAAAEa3KnRCAABAmLE0dEIAAIDqqz50QgAAgAuvR3RCAADAXalRdEIAAEBKUVt0QgAAgJxLZXRCAAAAifNudEIAAEDb7Xh0QgAAgC3ognRCAAAAGpCMdEIAAEBsipZ0QgAAwFgyoHRCAAAAqyyqdEIAAED9JrR0QgAAQB4qvXRCAACAcCTHdEIAAABdzNB0QgAAQK/G2nRCAADAm27kdEIAAADuaO50QgAAQEBj+HRCAADALAsCdUIAAAB/BQx1QgAAgGutFXVCAADAvacfdUIAAAAQoil1QgAAwJb3MnVCAAAA6fE8dUIAAIDVmUZ1QgAAwCeUUHVCAABAFDxadUIAAIBmNmR1QgAAwLgwbnVCAABApdh3dUIAAID30oF1QgAAAOR6i3VCAABANnWVdUIAAICIb591QgAAgKlyqHVCAADA+2yydUIAAEDoFLx1QgAAgDoPxnVCAAAAJ7fPdUIAAEB5sdl1QgAAgMur43VCAAAAuFPtdUIAAEAKTvd1QgAAwPb1AHZCAAAASfAKdkIAAECb6hR2QgAAQLztHXZCAACADugndkIAAAD7jzF2QgAAQE2KO3ZCAADAOTJFdkIAAACMLE92QgAAQN4mWXZCAADAys5idkIAAAAdyWx2QgAAgAlxdnZCAADAW2uAdkIAAACuZYp2QgAAAM9ok3ZCAABAIWOddkIAAMANC6d2QgAAAGAFsXZCAACATK26dkIAAMCep8R2QgAAAPGhznZCAACA3UnYdkIAAMAvROJ2QgAAQBzs63ZCAACAbub1dkIAAMDA4P92QgAAgEc2CXdCAADAmTATd0IAAECG2Bx3QgAAgNjSJndCAAAAxXowd0IAAEAXdTp3QgAAgGlvRHdCAAAAVhdOd0IAAECoEVh3QgAAwJS5YXdC\"},\"shape\":[132],\"dtype\":\"float64\",\"order\":\"little\"}],[\"AMOUNT\",{\"type\":\"ndarray\",\"array\":{\"type\":\"bytes\",\"data\":\"bUKxTIigWEBUqiKQ0C9ZQMAJqdpm11lA56MfRAfmWUDZ03yo18paQAqldnK29FlABNBd0jXVWUAJCaYH+5VaQPPU4+Mm51pA+6GdQXm1XUDeJ29byp1gQPjedwkcy2FAJH96Ii9sW0C4GNeqVLNbQEJ2DsqVZVtAmalvQvIEXEDxB2jZE/9bQDZctEQacFxA0cLodEFtXEDeSxNR6uFbQNudEJ5rp1xAmZqKAdv3X0CE6I+/yn5hQOBISvUkKWNAmzijjAqRXUC2FIDaFP1dQI/atqv7TV5A+Yl4/0S+XUD+as1N9ydeQCOkRqDmVV5Ar+rQ9xg0XkC+SlYzyGpeQNxASC0s+15ARZVTbPMMYUDveTrRQNViQCATb2TnZGRAqVynm2b+X0DbxU28OO5fQP8HRN7HCGBA4k3ZmA8bYEC46x451ypgQFVOn3K0TGBA1Ek1FiZ+YECQhc3MQ3dgQLnz+ABptmBAbFH+/OFyYkBYBumSGExkQHDPv1omFWZARv3ea+q9YECDfyA4ZEphQFKg6ZCaOWFAz5xxHR9oYUDzNdIHyI1hQDXyUY9MfWFAZ9dOFeXTYUCmaKqUzehhQIh5vd370GFAhBNiz7L3Y0ASGntbFd1lQAds6SnTlWdA4dnoP+B4YkAj/WV81q5iQJH0GlFo62JAbY5aDEt5YkB+H5gqKtBiQOBF1y3T2GJAv/uSmpjuYkBIdOWNjQ9jQKIjaIYodmNA+wXDktZZZUCJvqTiSXFnQCZBkCAiuGlANox2BaOeY0BPItOJft9jQL3fLI/zK2RABrSKJWk2ZEAKvTTCNzFkQMCGTDPKNGRAM326fYGqZEBvJZ9U7KVkQEdBcxLV2GRAgyzKkXT+ZkDEjb86BkFpQM2CMWfA2WtAikcv8k02ZUA3CiW2ZpZlQGN7IKGm1GVA4BU5Pp7EZUDQgY5wmdplQNXNQE6eRGZALkstmjUkZkAZ2VXbIkdmQIvHO1kSK2ZAPmFnf+wVaUAtvMZCwTlrQNuSK66f2m1AtZnchWkLZ0B03indgyVnQKLzNxE2dmdA/nutbQRkZ0BThG3iqdtnQH7zhEkEumdAFqiT6RnxZ0DQvZucsvZnQIaOA6H9QGhABtLeSgG7akCxqz6kFlFtQEpNGITj529A5/L5XtbWaEB0EkR6/SVpQDJYMEauVWlAygYDV4NkaUBjwt9G3p5pQAtYqY4W1WlAszXlPirTaUC7Jc8CsvZpQDkVzl2FJmpArzkQQA3/bECkqXPzT8FvQBm6xcB2dXFANGBKLhi6akCXO2KKZOtqQAH/fndILWtALDaRpQu7a0BEtl1Pf8ZrQCHk1zWqgGtA2AzSE/Pfa0DgE2VeMNFrQJOoPP54KmxAPPHe4FMeb0CKTHlqVCFxQAhQbhcksXJA\"},\"shape\":[132],\"dtype\":\"float64\",\"order\":\"little\"}],[\"year_hyphen_minus_mon\",{\"type\":\"ndarray\",\"array\":{\"type\":\"bytes\",\"data\":\"AACA53JeckIAAMA5bWhyQgAAwFpwcXJCAAAArWp7ckIAAICZEoVyQgAAwOsMj3JCAABA2LSYckIAAIAqr6JyQgAAwHyprHJCAABAaVG2ckIAAIC7S8ByQgAAAKjzyXJCAABA+u3TckIAAIBM6N1yQgAAgG3r5nJCAADAv+XwckIAAECsjfpyQgAAgP6HBHNCAAAA6y8Oc0IAAEA9KhhzQgAAgI8kInNCAAAAfMwrc0IAAEDOxjVzQgAAwLpuP3NCAAAADWlJc0IAAEBfY1NzQgAAAOa4XHNCAABAOLNmc0IAAMAkW3BzQgAAAHdVenNCAACAY/2Dc0IAAMC1941zQgAAAAjyl3NCAACA9Jmhc0IAAMBGlKtzQgAAQDM8tXNCAACAhTa/c0IAAMDXMMlzQgAAwPgz0nNCAAAASy7cc0IAAIA31uVzQgAAwInQ73NCAABAdnj5c0IAAIDIcgN0QgAAwBptDXRCAABABxUXdEIAAIBZDyF0QgAAAEa3KnRCAABAmLE0dEIAAIDqqz50QgAAgAuvR3RCAADAXalRdEIAAEBKUVt0QgAAgJxLZXRCAAAAifNudEIAAEDb7Xh0QgAAgC3ognRCAAAAGpCMdEIAAEBsipZ0QgAAwFgyoHRCAAAAqyyqdEIAAED9JrR0QgAAQB4qvXRCAACAcCTHdEIAAABdzNB0QgAAQK/G2nRCAADAm27kdEIAAADuaO50QgAAQEBj+HRCAADALAsCdUIAAAB/BQx1QgAAgGutFXVCAADAvacfdUIAAAAQoil1QgAAwJb3MnVCAAAA6fE8dUIAAIDVmUZ1QgAAwCeUUHVCAABAFDxadUIAAIBmNmR1QgAAwLgwbnVCAABApdh3dUIAAID30oF1QgAAAOR6i3VCAABANnWVdUIAAICIb591QgAAgKlyqHVCAADA+2yydUIAAEDoFLx1QgAAgDoPxnVCAAAAJ7fPdUIAAEB5sdl1QgAAgMur43VCAAAAuFPtdUIAAEAKTvd1QgAAwPb1AHZCAAAASfAKdkIAAECb6hR2QgAAQLztHXZCAACADugndkIAAAD7jzF2QgAAQE2KO3ZCAADAOTJFdkIAAACMLE92QgAAQN4mWXZCAADAys5idkIAAAAdyWx2QgAAgAlxdnZCAADAW2uAdkIAAACuZYp2QgAAAM9ok3ZCAABAIWOddkIAAMANC6d2QgAAAGAFsXZCAACATK26dkIAAMCep8R2QgAAAPGhznZCAACA3UnYdkIAAMAvROJ2QgAAQBzs63ZCAACAbub1dkIAAMDA4P92QgAAgEc2CXdCAADAmTATd0IAAECG2Bx3QgAAgNjSJndCAAAAxXowd0IAAEAXdTp3QgAAgGlvRHdCAAAAVhdOd0IAAECoEVh3QgAAwJS5YXdC\"},\"shape\":[132],\"dtype\":\"float64\",\"order\":\"little\"}],[\"EXP_TYPE\",[\"Clothing\",\"Clothing\",\"Clothing\",\"Clothing\",\"Clothing\",\"Clothing\",\"Clothing\",\"Clothing\",\"Clothing\",\"Clothing\",\"Clothing\",\"Clothing\",\"Clothing\",\"Clothing\",\"Clothing\",\"Clothing\",\"Clothing\",\"Clothing\",\"Clothing\",\"Clothing\",\"Clothing\",\"Clothing\",\"Clothing\",\"Clothing\",\"Clothing\",\"Clothing\",\"Clothing\",\"Clothing\",\"Clothing\",\"Clothing\",\"Clothing\",\"Clothing\",\"Clothing\",\"Clothing\",\"Clothing\",\"Clothing\",\"Clothing\",\"Clothing\",\"Clothing\",\"Clothing\",\"Clothing\",\"Clothing\",\"Clothing\",\"Clothing\",\"Clothing\",\"Clothing\",\"Clothing\",\"Clothing\",\"Clothing\",\"Clothing\",\"Clothing\",\"Clothing\",\"Clothing\",\"Clothing\",\"Clothing\",\"Clothing\",\"Clothing\",\"Clothing\",\"Clothing\",\"Clothing\",\"Clothing\",\"Clothing\",\"Clothing\",\"Clothing\",\"Clothing\",\"Clothing\",\"Clothing\",\"Clothing\",\"Clothing\",\"Clothing\",\"Clothing\",\"Clothing\",\"Clothing\",\"Clothing\",\"Clothing\",\"Clothing\",\"Clothing\",\"Clothing\",\"Clothing\",\"Clothing\",\"Clothing\",\"Clothing\",\"Clothing\",\"Clothing\",\"Clothing\",\"Clothing\",\"Clothing\",\"Clothing\",\"Clothing\",\"Clothing\",\"Clothing\",\"Clothing\",\"Clothing\",\"Clothing\",\"Clothing\",\"Clothing\",\"Clothing\",\"Clothing\",\"Clothing\",\"Clothing\",\"Clothing\",\"Clothing\",\"Clothing\",\"Clothing\",\"Clothing\",\"Clothing\",\"Clothing\",\"Clothing\",\"Clothing\",\"Clothing\",\"Clothing\",\"Clothing\",\"Clothing\",\"Clothing\",\"Clothing\",\"Clothing\",\"Clothing\",\"Clothing\",\"Clothing\",\"Clothing\",\"Clothing\",\"Clothing\",\"Clothing\",\"Clothing\",\"Clothing\",\"Clothing\",\"Clothing\",\"Clothing\",\"Clothing\",\"Clothing\",\"Clothing\",\"Clothing\"]]]}}},\"view\":{\"type\":\"object\",\"name\":\"CDSView\",\"id\":\"dbdbb566-9768-4bff-895d-c07825fb1ea5\",\"attributes\":{\"filter\":{\"type\":\"object\",\"name\":\"AllIndices\",\"id\":\"3f13d391-d52f-4c90-a6c5-49b02ec1904a\"}}},\"glyph\":{\"type\":\"object\",\"name\":\"Scatter\",\"id\":\"b68a5277-abc2-46dd-9874-570a26d1932c\",\"attributes\":{\"tags\":[\"apply_ranges\"],\"x\":{\"type\":\"field\",\"field\":\"year-mon\"},\"y\":{\"type\":\"field\",\"field\":\"AMOUNT\"},\"size\":{\"type\":\"value\",\"value\":5.477225575051661},\"line_color\":{\"type\":\"value\",\"value\":\"#8b8b8b\"},\"fill_color\":{\"type\":\"value\",\"value\":\"#8b8b8b\"},\"hatch_color\":{\"type\":\"value\",\"value\":\"#8b8b8b\"}}},\"selection_glyph\":{\"type\":\"object\",\"name\":\"Scatter\",\"id\":\"d93ba322-7128-43dc-8df6-8f162ed84b42\",\"attributes\":{\"tags\":[\"apply_ranges\"],\"x\":{\"type\":\"field\",\"field\":\"year-mon\"},\"y\":{\"type\":\"field\",\"field\":\"AMOUNT\"},\"size\":{\"type\":\"value\",\"value\":5.477225575051661},\"angle\":{\"type\":\"value\",\"value\":0.0},\"line_color\":{\"type\":\"value\",\"value\":\"#8b8b8b\"},\"line_alpha\":{\"type\":\"value\",\"value\":1.0},\"line_width\":{\"type\":\"value\",\"value\":1},\"line_join\":{\"type\":\"value\",\"value\":\"bevel\"},\"line_cap\":{\"type\":\"value\",\"value\":\"butt\"},\"line_dash\":{\"type\":\"value\",\"value\":[]},\"line_dash_offset\":{\"type\":\"value\",\"value\":0},\"fill_color\":{\"type\":\"value\",\"value\":\"#8b8b8b\"},\"fill_alpha\":{\"type\":\"value\",\"value\":1.0},\"hatch_color\":{\"type\":\"value\",\"value\":\"#8b8b8b\"},\"hatch_alpha\":{\"type\":\"value\",\"value\":1.0},\"hatch_scale\":{\"type\":\"value\",\"value\":12.0},\"hatch_pattern\":{\"type\":\"value\",\"value\":null},\"hatch_weight\":{\"type\":\"value\",\"value\":1.0},\"marker\":{\"type\":\"value\",\"value\":\"circle\"}}},\"nonselection_glyph\":{\"type\":\"object\",\"name\":\"Scatter\",\"id\":\"3ca6d9f4-93f0-46e0-912a-81bf9780de9c\",\"attributes\":{\"tags\":[\"apply_ranges\"],\"x\":{\"type\":\"field\",\"field\":\"year-mon\"},\"y\":{\"type\":\"field\",\"field\":\"AMOUNT\"},\"size\":{\"type\":\"value\",\"value\":5.477225575051661},\"line_color\":{\"type\":\"value\",\"value\":\"#8b8b8b\"},\"line_alpha\":{\"type\":\"value\",\"value\":0.1},\"fill_color\":{\"type\":\"value\",\"value\":\"#8b8b8b\"},\"fill_alpha\":{\"type\":\"value\",\"value\":0.1},\"hatch_color\":{\"type\":\"value\",\"value\":\"#8b8b8b\"},\"hatch_alpha\":{\"type\":\"value\",\"value\":0.1}}},\"muted_glyph\":{\"type\":\"object\",\"name\":\"Scatter\",\"id\":\"d4d98ea2-7334-4687-b15b-c39da54b13fa\",\"attributes\":{\"tags\":[\"apply_ranges\"],\"x\":{\"type\":\"field\",\"field\":\"year-mon\"},\"y\":{\"type\":\"field\",\"field\":\"AMOUNT\"},\"size\":{\"type\":\"value\",\"value\":5.477225575051661},\"line_color\":{\"type\":\"value\",\"value\":\"#8b8b8b\"},\"line_alpha\":{\"type\":\"value\",\"value\":0.2},\"fill_color\":{\"type\":\"value\",\"value\":\"#8b8b8b\"},\"fill_alpha\":{\"type\":\"value\",\"value\":0.2},\"hatch_color\":{\"type\":\"value\",\"value\":\"#8b8b8b\"},\"hatch_alpha\":{\"type\":\"value\",\"value\":0.2}}}}},{\"type\":\"object\",\"name\":\"GlyphRenderer\",\"id\":\"0e36f8ce-febb-496d-8df5-ea727f1cc88e\",\"attributes\":{\"name\":\"Gambling\",\"data_source\":{\"type\":\"object\",\"name\":\"ColumnDataSource\",\"id\":\"f56b7fd7-7a2b-452c-bb95-08bb70ed11dc\",\"attributes\":{\"selected\":{\"type\":\"object\",\"name\":\"Selection\",\"id\":\"961926e5-6400-467e-b20f-d18332900fe8\",\"attributes\":{\"indices\":[],\"line_indices\":[]}},\"selection_policy\":{\"type\":\"object\",\"name\":\"UnionRenderers\",\"id\":\"d888a68f-4556-40c3-a289-1626856cdaa8\"},\"data\":{\"type\":\"map\",\"entries\":[[\"year-mon\",{\"type\":\"ndarray\",\"array\":{\"type\":\"bytes\",\"data\":\"AACA53JeckIAAMA5bWhyQgAAwFpwcXJCAAAArWp7ckIAAICZEoVyQgAAwOsMj3JCAABA2LSYckIAAIAqr6JyQgAAwHyprHJCAABAaVG2ckIAAIC7S8ByQgAAAKjzyXJCAABA+u3TckIAAIBM6N1yQgAAgG3r5nJCAADAv+XwckIAAECsjfpyQgAAgP6HBHNCAAAA6y8Oc0IAAEA9KhhzQgAAgI8kInNCAAAAfMwrc0IAAEDOxjVzQgAAwLpuP3NCAAAADWlJc0IAAEBfY1NzQgAAAOa4XHNCAABAOLNmc0IAAMAkW3BzQgAAAHdVenNCAACAY/2Dc0IAAMC1941zQgAAAAjyl3NCAACA9Jmhc0IAAMBGlKtzQgAAQDM8tXNCAACAhTa/c0IAAMDXMMlzQgAAwPgz0nNCAAAASy7cc0IAAIA31uVzQgAAwInQ73NCAABAdnj5c0IAAIDIcgN0QgAAwBptDXRCAABABxUXdEIAAIBZDyF0QgAAAEa3KnRCAABAmLE0dEIAAIDqqz50QgAAgAuvR3RCAADAXalRdEIAAEBKUVt0QgAAgJxLZXRCAAAAifNudEIAAEDb7Xh0QgAAgC3ognRCAAAAGpCMdEIAAEBsipZ0QgAAwFgyoHRCAAAAqyyqdEIAAED9JrR0QgAAQB4qvXRCAACAcCTHdEIAAABdzNB0QgAAQK/G2nRCAADAm27kdEIAAADuaO50QgAAQEBj+HRCAADALAsCdUIAAAB/BQx1QgAAgGutFXVCAADAvacfdUIAAAAQoil1QgAAwJb3MnVCAAAA6fE8dUIAAIDVmUZ1QgAAwCeUUHVCAABAFDxadUIAAIBmNmR1QgAAwLgwbnVCAABApdh3dUIAAID30oF1QgAAAOR6i3VCAABANnWVdUIAAICIb591QgAAgKlyqHVCAADA+2yydUIAAEDoFLx1QgAAgDoPxnVCAAAAJ7fPdUIAAEB5sdl1QgAAgMur43VCAAAAuFPtdUIAAEAKTvd1QgAAwPb1AHZCAAAASfAKdkIAAECb6hR2QgAAQLztHXZCAACADugndkIAAAD7jzF2QgAAQE2KO3ZCAADAOTJFdkIAAACMLE92QgAAQN4mWXZCAADAys5idkIAAAAdyWx2QgAAgAlxdnZCAADAW2uAdkIAAACuZYp2QgAAAM9ok3ZCAABAIWOddkIAAMANC6d2QgAAAGAFsXZCAACATK26dkIAAMCep8R2QgAAAPGhznZCAACA3UnYdkIAAMAvROJ2QgAAQBzs63ZCAACAbub1dkIAAMDA4P92QgAAgEc2CXdCAADAmTATd0IAAECG2Bx3QgAAgNjSJndCAAAAxXowd0IAAEAXdTp3QgAAgGlvRHdCAAAAVhdOd0IAAECoEVh3QgAAwJS5YXdC\"},\"shape\":[132],\"dtype\":\"float64\",\"order\":\"little\"}],[\"AMOUNT\",{\"type\":\"ndarray\",\"array\":{\"type\":\"bytes\",\"data\":\"JW6TiRPIUUC4lZ+XAdJRQPNbDFsP2FFA3QF31vTvUkAXEt1C3IZSQCg/84bfmlJAIRgownDdUkDvYeSIoItSQHXKgTj/M1JApmfcE+YoVUBAK21uuTFWQMijnqtlXFhAaPEOszLiUkDp95Kt+f1SQLHzSn0ExVJA7X/XHNvaUkAJas08tyhTQBO6bDBfM1NAIhwEkz0tU0AUOXQD+XpTQNZP1aQy21NAof2BGEOlVUA9RNGMmbFXQGRBivPqL1pAnP0zTKwBVEBxnnqPsDZUQDI5dahQRFRAhMlvJ+9EVEBhXt7pYHNUQClAcFcYb1RAKBuAh5RTVEATMDf8LYpUQFWnnqoacFRAgIsxd2nmVkBW5J3Wu9NYQHFPRKzrDVtAebRdVc3sVEAGFBh3it9UQA3Xyj3BOFVAZOFI9SE0VUBE1MArMjBVQFYTdvFBjFVATyDBay16VUDF3RQBh7ZVQIq9jYTNlVVALvtTqmX6V0C5PeMVRWtaQAiFmRnuSVxAaKNJffsbVkCD6XCDmzBWQKm/IqiL+FVAG5fJVyM7VkAB3CtVUDtWQJ92W6/UX1ZAh7o1niV1VkBhW8W6joZWQKiJG6J+n1ZAhi40T7vEWED3ZwmKXgpbQJ/vz3imdV1AxXnDUTLTVkB4N7srpu9WQJfGODUeEVdAR3iXvxEfV0AoPZAu3xZXQKkNGZZwY1dAHo1WKQB/V0CR/R+qvX9XQBZfO84BgVdAyCs3dic3WkBlINzULVtcQACxjTr3+l5Am6Vh/Af0V0ChSIbjW+BXQEI0jcVjCVhAC4fgT/IZWECp/a0kMVhYQK5jXdSvRlhAGQAjbiquWEC17UHZqExYQCsERvxKs1hA5PO+iwftWkBdwsKYZc1dQLyMeHyPFmBALFGTOKjvWECRjboLqx1ZQPireNVDGllAfXRnkhcdWUAeZ+tdhDZZQPkltN8TbllAaaUdDTiYWUC21T1d75BZQH8VsjQ+tFlABWYYoHNoXECRDSjgGBtfQFPlxfde6GBA06BEqsYtWkA940EY21taQN3uVZmSaFpAnCj2IEFZWkAk6Kf7yZlaQLX3QApdwFpAv87dyTLpWkAXewn1VctaQN6vX6zGGFtA29YSFjAFXkD8rNhN6FxgQBRzaIaAt2FAqE/9XiSbW0ADGB8Kkq5bQC/QcteA4ltAh8SFMxTUW0DyI5r70C5cQEf567Y4M1xAIbXyf1UsXEA3S896RGlcQP7qMo2xmlxA7iycqQKLX0BBIE/pFDFhQLWCS2v+22JADqAvLZHqXEAbmjVJszZdQHhkE700WF1A3AZ/KpODXUAhFcGkIW5dQDO85h4lg11AU6v4iSiKXUAafSQIvXtdQCr3VGbcw11AQAcLXOSHYEBSmfAwhx5iQH7mG3XBoGNA\"},\"shape\":[132],\"dtype\":\"float64\",\"order\":\"little\"}],[\"year_hyphen_minus_mon\",{\"type\":\"ndarray\",\"array\":{\"type\":\"bytes\",\"data\":\"AACA53JeckIAAMA5bWhyQgAAwFpwcXJCAAAArWp7ckIAAICZEoVyQgAAwOsMj3JCAABA2LSYckIAAIAqr6JyQgAAwHyprHJCAABAaVG2ckIAAIC7S8ByQgAAAKjzyXJCAABA+u3TckIAAIBM6N1yQgAAgG3r5nJCAADAv+XwckIAAECsjfpyQgAAgP6HBHNCAAAA6y8Oc0IAAEA9KhhzQgAAgI8kInNCAAAAfMwrc0IAAEDOxjVzQgAAwLpuP3NCAAAADWlJc0IAAEBfY1NzQgAAAOa4XHNCAABAOLNmc0IAAMAkW3BzQgAAAHdVenNCAACAY/2Dc0IAAMC1941zQgAAAAjyl3NCAACA9Jmhc0IAAMBGlKtzQgAAQDM8tXNCAACAhTa/c0IAAMDXMMlzQgAAwPgz0nNCAAAASy7cc0IAAIA31uVzQgAAwInQ73NCAABAdnj5c0IAAIDIcgN0QgAAwBptDXRCAABABxUXdEIAAIBZDyF0QgAAAEa3KnRCAABAmLE0dEIAAIDqqz50QgAAgAuvR3RCAADAXalRdEIAAEBKUVt0QgAAgJxLZXRCAAAAifNudEIAAEDb7Xh0QgAAgC3ognRCAAAAGpCMdEIAAEBsipZ0QgAAwFgyoHRCAAAAqyyqdEIAAED9JrR0QgAAQB4qvXRCAACAcCTHdEIAAABdzNB0QgAAQK/G2nRCAADAm27kdEIAAADuaO50QgAAQEBj+HRCAADALAsCdUIAAAB/BQx1QgAAgGutFXVCAADAvacfdUIAAAAQoil1QgAAwJb3MnVCAAAA6fE8dUIAAIDVmUZ1QgAAwCeUUHVCAABAFDxadUIAAIBmNmR1QgAAwLgwbnVCAABApdh3dUIAAID30oF1QgAAAOR6i3VCAABANnWVdUIAAICIb591QgAAgKlyqHVCAADA+2yydUIAAEDoFLx1QgAAgDoPxnVCAAAAJ7fPdUIAAEB5sdl1QgAAgMur43VCAAAAuFPtdUIAAEAKTvd1QgAAwPb1AHZCAAAASfAKdkIAAECb6hR2QgAAQLztHXZCAACADugndkIAAAD7jzF2QgAAQE2KO3ZCAADAOTJFdkIAAACMLE92QgAAQN4mWXZCAADAys5idkIAAAAdyWx2QgAAgAlxdnZCAADAW2uAdkIAAACuZYp2QgAAAM9ok3ZCAABAIWOddkIAAMANC6d2QgAAAGAFsXZCAACATK26dkIAAMCep8R2QgAAAPGhznZCAACA3UnYdkIAAMAvROJ2QgAAQBzs63ZCAACAbub1dkIAAMDA4P92QgAAgEc2CXdCAADAmTATd0IAAECG2Bx3QgAAgNjSJndCAAAAxXowd0IAAEAXdTp3QgAAgGlvRHdCAAAAVhdOd0IAAECoEVh3QgAAwJS5YXdC\"},\"shape\":[132],\"dtype\":\"float64\",\"order\":\"little\"}],[\"EXP_TYPE\",[\"Gambling\",\"Gambling\",\"Gambling\",\"Gambling\",\"Gambling\",\"Gambling\",\"Gambling\",\"Gambling\",\"Gambling\",\"Gambling\",\"Gambling\",\"Gambling\",\"Gambling\",\"Gambling\",\"Gambling\",\"Gambling\",\"Gambling\",\"Gambling\",\"Gambling\",\"Gambling\",\"Gambling\",\"Gambling\",\"Gambling\",\"Gambling\",\"Gambling\",\"Gambling\",\"Gambling\",\"Gambling\",\"Gambling\",\"Gambling\",\"Gambling\",\"Gambling\",\"Gambling\",\"Gambling\",\"Gambling\",\"Gambling\",\"Gambling\",\"Gambling\",\"Gambling\",\"Gambling\",\"Gambling\",\"Gambling\",\"Gambling\",\"Gambling\",\"Gambling\",\"Gambling\",\"Gambling\",\"Gambling\",\"Gambling\",\"Gambling\",\"Gambling\",\"Gambling\",\"Gambling\",\"Gambling\",\"Gambling\",\"Gambling\",\"Gambling\",\"Gambling\",\"Gambling\",\"Gambling\",\"Gambling\",\"Gambling\",\"Gambling\",\"Gambling\",\"Gambling\",\"Gambling\",\"Gambling\",\"Gambling\",\"Gambling\",\"Gambling\",\"Gambling\",\"Gambling\",\"Gambling\",\"Gambling\",\"Gambling\",\"Gambling\",\"Gambling\",\"Gambling\",\"Gambling\",\"Gambling\",\"Gambling\",\"Gambling\",\"Gambling\",\"Gambling\",\"Gambling\",\"Gambling\",\"Gambling\",\"Gambling\",\"Gambling\",\"Gambling\",\"Gambling\",\"Gambling\",\"Gambling\",\"Gambling\",\"Gambling\",\"Gambling\",\"Gambling\",\"Gambling\",\"Gambling\",\"Gambling\",\"Gambling\",\"Gambling\",\"Gambling\",\"Gambling\",\"Gambling\",\"Gambling\",\"Gambling\",\"Gambling\",\"Gambling\",\"Gambling\",\"Gambling\",\"Gambling\",\"Gambling\",\"Gambling\",\"Gambling\",\"Gambling\",\"Gambling\",\"Gambling\",\"Gambling\",\"Gambling\",\"Gambling\",\"Gambling\",\"Gambling\",\"Gambling\",\"Gambling\",\"Gambling\",\"Gambling\",\"Gambling\",\"Gambling\",\"Gambling\",\"Gambling\",\"Gambling\"]]]}}},\"view\":{\"type\":\"object\",\"name\":\"CDSView\",\"id\":\"a369310c-828e-475e-ae1c-bedb56f392f8\",\"attributes\":{\"filter\":{\"type\":\"object\",\"name\":\"AllIndices\",\"id\":\"82f8d5c2-3c5e-4956-bce3-66c7b2b0b2ab\"}}},\"glyph\":{\"type\":\"object\",\"name\":\"Scatter\",\"id\":\"92fcfd21-0c08-443b-bc05-0c056f5fec50\",\"attributes\":{\"tags\":[\"apply_ranges\"],\"x\":{\"type\":\"field\",\"field\":\"year-mon\"},\"y\":{\"type\":\"field\",\"field\":\"AMOUNT\"},\"size\":{\"type\":\"value\",\"value\":5.477225575051661},\"line_color\":{\"type\":\"value\",\"value\":\"#17becf\"},\"fill_color\":{\"type\":\"value\",\"value\":\"#17becf\"},\"hatch_color\":{\"type\":\"value\",\"value\":\"#17becf\"}}},\"selection_glyph\":{\"type\":\"object\",\"name\":\"Scatter\",\"id\":\"e3028380-0065-4919-bc24-44751712193d\",\"attributes\":{\"tags\":[\"apply_ranges\"],\"x\":{\"type\":\"field\",\"field\":\"year-mon\"},\"y\":{\"type\":\"field\",\"field\":\"AMOUNT\"},\"size\":{\"type\":\"value\",\"value\":5.477225575051661},\"angle\":{\"type\":\"value\",\"value\":0.0},\"line_color\":{\"type\":\"value\",\"value\":\"#17becf\"},\"line_alpha\":{\"type\":\"value\",\"value\":1.0},\"line_width\":{\"type\":\"value\",\"value\":1},\"line_join\":{\"type\":\"value\",\"value\":\"bevel\"},\"line_cap\":{\"type\":\"value\",\"value\":\"butt\"},\"line_dash\":{\"type\":\"value\",\"value\":[]},\"line_dash_offset\":{\"type\":\"value\",\"value\":0},\"fill_color\":{\"type\":\"value\",\"value\":\"#17becf\"},\"fill_alpha\":{\"type\":\"value\",\"value\":1.0},\"hatch_color\":{\"type\":\"value\",\"value\":\"#17becf\"},\"hatch_alpha\":{\"type\":\"value\",\"value\":1.0},\"hatch_scale\":{\"type\":\"value\",\"value\":12.0},\"hatch_pattern\":{\"type\":\"value\",\"value\":null},\"hatch_weight\":{\"type\":\"value\",\"value\":1.0},\"marker\":{\"type\":\"value\",\"value\":\"circle\"}}},\"nonselection_glyph\":{\"type\":\"object\",\"name\":\"Scatter\",\"id\":\"734afe11-4a4e-413b-9b5c-402e40d16495\",\"attributes\":{\"tags\":[\"apply_ranges\"],\"x\":{\"type\":\"field\",\"field\":\"year-mon\"},\"y\":{\"type\":\"field\",\"field\":\"AMOUNT\"},\"size\":{\"type\":\"value\",\"value\":5.477225575051661},\"line_color\":{\"type\":\"value\",\"value\":\"#17becf\"},\"line_alpha\":{\"type\":\"value\",\"value\":0.1},\"fill_color\":{\"type\":\"value\",\"value\":\"#17becf\"},\"fill_alpha\":{\"type\":\"value\",\"value\":0.1},\"hatch_color\":{\"type\":\"value\",\"value\":\"#17becf\"},\"hatch_alpha\":{\"type\":\"value\",\"value\":0.1}}},\"muted_glyph\":{\"type\":\"object\",\"name\":\"Scatter\",\"id\":\"b60b10d8-25a9-49ce-a7d6-0933cad93274\",\"attributes\":{\"tags\":[\"apply_ranges\"],\"x\":{\"type\":\"field\",\"field\":\"year-mon\"},\"y\":{\"type\":\"field\",\"field\":\"AMOUNT\"},\"size\":{\"type\":\"value\",\"value\":5.477225575051661},\"line_color\":{\"type\":\"value\",\"value\":\"#17becf\"},\"line_alpha\":{\"type\":\"value\",\"value\":0.2},\"fill_color\":{\"type\":\"value\",\"value\":\"#17becf\"},\"fill_alpha\":{\"type\":\"value\",\"value\":0.2},\"hatch_color\":{\"type\":\"value\",\"value\":\"#17becf\"},\"hatch_alpha\":{\"type\":\"value\",\"value\":0.2}}}}},{\"type\":\"object\",\"name\":\"GlyphRenderer\",\"id\":\"ce92bbc4-0cad-4035-94b5-6a6c371a8174\",\"attributes\":{\"name\":\"Education\",\"data_source\":{\"type\":\"object\",\"name\":\"ColumnDataSource\",\"id\":\"240b88b5-c1dd-401e-91f9-2b61f6cc9b0f\",\"attributes\":{\"selected\":{\"type\":\"object\",\"name\":\"Selection\",\"id\":\"d293efe8-b534-4adc-8ccb-074939a5a168\",\"attributes\":{\"indices\":[],\"line_indices\":[]}},\"selection_policy\":{\"type\":\"object\",\"name\":\"UnionRenderers\",\"id\":\"2cab74b3-5840-4781-99ff-4b2ab269e35e\"},\"data\":{\"type\":\"map\",\"entries\":[[\"year-mon\",{\"type\":\"ndarray\",\"array\":{\"type\":\"bytes\",\"data\":\"AACA53JeckIAAMA5bWhyQgAAwFpwcXJCAAAArWp7ckIAAICZEoVyQgAAwOsMj3JCAABA2LSYckIAAIAqr6JyQgAAwHyprHJCAABAaVG2ckIAAIC7S8ByQgAAAKjzyXJCAABA+u3TckIAAIBM6N1yQgAAgG3r5nJCAADAv+XwckIAAECsjfpyQgAAgP6HBHNCAAAA6y8Oc0IAAEA9KhhzQgAAgI8kInNCAAAAfMwrc0IAAEDOxjVzQgAAwLpuP3NCAAAADWlJc0IAAEBfY1NzQgAAAOa4XHNCAABAOLNmc0IAAMAkW3BzQgAAAHdVenNCAACAY/2Dc0IAAMC1941zQgAAAAjyl3NCAACA9Jmhc0IAAMBGlKtzQgAAQDM8tXNCAACAhTa/c0IAAMDXMMlzQgAAwPgz0nNCAAAASy7cc0IAAIA31uVzQgAAwInQ73NCAABAdnj5c0IAAIDIcgN0QgAAwBptDXRCAABABxUXdEIAAIBZDyF0QgAAAEa3KnRCAABAmLE0dEIAAIDqqz50QgAAgAuvR3RCAADAXalRdEIAAEBKUVt0QgAAgJxLZXRCAAAAifNudEIAAEDb7Xh0QgAAgC3ognRCAAAAGpCMdEIAAEBsipZ0QgAAwFgyoHRCAAAAqyyqdEIAAED9JrR0QgAAQB4qvXRCAACAcCTHdEIAAABdzNB0QgAAQK/G2nRCAADAm27kdEIAAADuaO50QgAAQEBj+HRCAADALAsCdUIAAAB/BQx1QgAAgGutFXVCAADAvacfdUIAAAAQoil1QgAAwJb3MnVCAAAA6fE8dUIAAIDVmUZ1QgAAwCeUUHVCAABAFDxadUIAAIBmNmR1QgAAwLgwbnVCAABApdh3dUIAAID30oF1QgAAAOR6i3VCAABANnWVdUIAAICIb591QgAAgKlyqHVCAADA+2yydUIAAEDoFLx1QgAAgDoPxnVCAAAAJ7fPdUIAAEB5sdl1QgAAgMur43VCAAAAuFPtdUIAAEAKTvd1QgAAwPb1AHZCAAAASfAKdkIAAECb6hR2QgAAQLztHXZCAACADugndkIAAAD7jzF2QgAAQE2KO3ZCAADAOTJFdkIAAACMLE92QgAAQN4mWXZCAADAys5idkIAAAAdyWx2QgAAgAlxdnZCAADAW2uAdkIAAACuZYp2QgAAAM9ok3ZCAABAIWOddkIAAMANC6d2QgAAAGAFsXZCAACATK26dkIAAMCep8R2QgAAAPGhznZCAACA3UnYdkIAAMAvROJ2QgAAQBzs63ZCAACAbub1dkIAAMDA4P92QgAAgEc2CXdCAADAmTATd0IAAECG2Bx3QgAAgNjSJndCAAAAxXowd0IAAEAXdTp3QgAAgGlvRHdCAAAAVhdOd0IAAECoEVh3QgAAwJS5YXdC\"},\"shape\":[132],\"dtype\":\"float64\",\"order\":\"little\"}],[\"AMOUNT\",{\"type\":\"ndarray\",\"array\":{\"type\":\"bytes\",\"data\":\"ndfJJrjBbkBaj4chCUluQFHC1FlZRW1AQ3w1M4jQbUA9UK+NOE1uQGrTEksaoG5AtETTPedvbkAiwYhjYFNuQIBckT/H2m5AcfuLSzXbbkDXMtSewMluQHGn3ALn2W5APPE8M4HVbkD2vYgyscduQCw6+svZ225AIFf31DT9bkDQBcITK9ZuQAYfnY/fwW5ADDeZnCTXbkDi7dc58StvQP4pUQHiFW9A+jadc2w+b0DRNuYMvZ5vQKFRmFjhYm9ArqN0yhWRb0BTJIiiR91vQJiRNU4U/m9A1YhOvpHeb0Cga9+Rl8lvQAUuG2CWAnBAz8H3O+rUb0CWu6KildFvQLG8z+9Ix29AFuVvoBL3b0C5Wgun7gxwQDqqKHGLH3BAIzShI1wWcEBg87im0ydwQAb2ubhvPnBAPk5kJm4zcEB6WsZIZzxwQImFNFIPT3BAB5/stIticEBNhIWsg4VwQOk3KVsIinBAVM31Vz6jcEBslSsR55VwQFJS8IVmmnBAmGjJTb6kcEDSLpBj6qNwQKl2u3SZnXBALmVnXFuwcEDCw93MW6xwQKQQr1ehynBAxPF+L8PNcEA1TUS9eOZwQHyHiwy/3HBAkyUOve7pcECS0OQZFv1wQIikUTBQEnFAc5DyCMAbcUBgyhrbHiVxQN6ZjgGEMnFA7r05G9otcUChJiuj3R5xQL9DWQgsLnFA6mOMvpsvcUAyUsyFZzJxQBOuuNHySXFALy97LiZZcUBiYJ3oPldxQHvbM10SV3FAVtIGoYFdcUDdlw0xIlJxQC2DeIBaV3FAWlXBLA5gcUBF1Xfjp3ZxQMmziAO1g3FAi4AjqumFcUC02O/aWI9xQPGTrDHxiHFAJbD5VsCOcUBVgAv7bJVxQMZ+ymJAnXFAQeaJUMKvcUArC0xVlLhxQKPLap3fwnFAuHzdM1racUDbF4E8AcFxQKYaN7fH4HFAu5aG41/icUCP+C5QW+FxQP8gyTR24nFAC2q6c1nycUBEKdPIWf1xQDRkChLXAnJA8dsJmvUPckBVJ+2NtCNyQK72M/iGKXJAMR0AY3s2ckAh+0R/kThyQEXtRjNoRXJAj+Iesn08ckBR/fli4k1yQLHDHB2oUXJAUPwM4wJXckA2poh62lhyQFKxiDZ5aXJA2sKFY/1ickBMq11tV3tyQAgi28/AgnJAst9ysr18ckBwX41ftpVyQL1cSZAig3JAOpFF0e2YckCS3ImFoJtyQN98rsFimnJAOXQvKmCvckCG11TrgqpyQEXYj4Tqs3JAKQeTpJnCckD3n1b9A9ByQOV7R1M02HJAjwpE2v3bckB3/rSJwO9yQIfsx35sC3NAZzHi6uDxckBEruMzKPhyQBwO8uZmC3NAD4i/xqYKc0DUn79AKAlzQMGNPY2BInNA\"},\"shape\":[132],\"dtype\":\"float64\",\"order\":\"little\"}],[\"year_hyphen_minus_mon\",{\"type\":\"ndarray\",\"array\":{\"type\":\"bytes\",\"data\":\"AACA53JeckIAAMA5bWhyQgAAwFpwcXJCAAAArWp7ckIAAICZEoVyQgAAwOsMj3JCAABA2LSYckIAAIAqr6JyQgAAwHyprHJCAABAaVG2ckIAAIC7S8ByQgAAAKjzyXJCAABA+u3TckIAAIBM6N1yQgAAgG3r5nJCAADAv+XwckIAAECsjfpyQgAAgP6HBHNCAAAA6y8Oc0IAAEA9KhhzQgAAgI8kInNCAAAAfMwrc0IAAEDOxjVzQgAAwLpuP3NCAAAADWlJc0IAAEBfY1NzQgAAAOa4XHNCAABAOLNmc0IAAMAkW3BzQgAAAHdVenNCAACAY/2Dc0IAAMC1941zQgAAAAjyl3NCAACA9Jmhc0IAAMBGlKtzQgAAQDM8tXNCAACAhTa/c0IAAMDXMMlzQgAAwPgz0nNCAAAASy7cc0IAAIA31uVzQgAAwInQ73NCAABAdnj5c0IAAIDIcgN0QgAAwBptDXRCAABABxUXdEIAAIBZDyF0QgAAAEa3KnRCAABAmLE0dEIAAIDqqz50QgAAgAuvR3RCAADAXalRdEIAAEBKUVt0QgAAgJxLZXRCAAAAifNudEIAAEDb7Xh0QgAAgC3ognRCAAAAGpCMdEIAAEBsipZ0QgAAwFgyoHRCAAAAqyyqdEIAAED9JrR0QgAAQB4qvXRCAACAcCTHdEIAAABdzNB0QgAAQK/G2nRCAADAm27kdEIAAADuaO50QgAAQEBj+HRCAADALAsCdUIAAAB/BQx1QgAAgGutFXVCAADAvacfdUIAAAAQoil1QgAAwJb3MnVCAAAA6fE8dUIAAIDVmUZ1QgAAwCeUUHVCAABAFDxadUIAAIBmNmR1QgAAwLgwbnVCAABApdh3dUIAAID30oF1QgAAAOR6i3VCAABANnWVdUIAAICIb591QgAAgKlyqHVCAADA+2yydUIAAEDoFLx1QgAAgDoPxnVCAAAAJ7fPdUIAAEB5sdl1QgAAgMur43VCAAAAuFPtdUIAAEAKTvd1QgAAwPb1AHZCAAAASfAKdkIAAECb6hR2QgAAQLztHXZCAACADugndkIAAAD7jzF2QgAAQE2KO3ZCAADAOTJFdkIAAACMLE92QgAAQN4mWXZCAADAys5idkIAAAAdyWx2QgAAgAlxdnZCAADAW2uAdkIAAACuZYp2QgAAAM9ok3ZCAABAIWOddkIAAMANC6d2QgAAAGAFsXZCAACATK26dkIAAMCep8R2QgAAAPGhznZCAACA3UnYdkIAAMAvROJ2QgAAQBzs63ZCAACAbub1dkIAAMDA4P92QgAAgEc2CXdCAADAmTATd0IAAECG2Bx3QgAAgNjSJndCAAAAxXowd0IAAEAXdTp3QgAAgGlvRHdCAAAAVhdOd0IAAECoEVh3QgAAwJS5YXdC\"},\"shape\":[132],\"dtype\":\"float64\",\"order\":\"little\"}],[\"EXP_TYPE\",[\"Education\",\"Education\",\"Education\",\"Education\",\"Education\",\"Education\",\"Education\",\"Education\",\"Education\",\"Education\",\"Education\",\"Education\",\"Education\",\"Education\",\"Education\",\"Education\",\"Education\",\"Education\",\"Education\",\"Education\",\"Education\",\"Education\",\"Education\",\"Education\",\"Education\",\"Education\",\"Education\",\"Education\",\"Education\",\"Education\",\"Education\",\"Education\",\"Education\",\"Education\",\"Education\",\"Education\",\"Education\",\"Education\",\"Education\",\"Education\",\"Education\",\"Education\",\"Education\",\"Education\",\"Education\",\"Education\",\"Education\",\"Education\",\"Education\",\"Education\",\"Education\",\"Education\",\"Education\",\"Education\",\"Education\",\"Education\",\"Education\",\"Education\",\"Education\",\"Education\",\"Education\",\"Education\",\"Education\",\"Education\",\"Education\",\"Education\",\"Education\",\"Education\",\"Education\",\"Education\",\"Education\",\"Education\",\"Education\",\"Education\",\"Education\",\"Education\",\"Education\",\"Education\",\"Education\",\"Education\",\"Education\",\"Education\",\"Education\",\"Education\",\"Education\",\"Education\",\"Education\",\"Education\",\"Education\",\"Education\",\"Education\",\"Education\",\"Education\",\"Education\",\"Education\",\"Education\",\"Education\",\"Education\",\"Education\",\"Education\",\"Education\",\"Education\",\"Education\",\"Education\",\"Education\",\"Education\",\"Education\",\"Education\",\"Education\",\"Education\",\"Education\",\"Education\",\"Education\",\"Education\",\"Education\",\"Education\",\"Education\",\"Education\",\"Education\",\"Education\",\"Education\",\"Education\",\"Education\",\"Education\",\"Education\",\"Education\",\"Education\",\"Education\",\"Education\",\"Education\",\"Education\",\"Education\"]]]}}},\"view\":{\"type\":\"object\",\"name\":\"CDSView\",\"id\":\"2c91f466-4066-45df-a6cf-c79963328f5f\",\"attributes\":{\"filter\":{\"type\":\"object\",\"name\":\"AllIndices\",\"id\":\"e59d2228-4b34-44d5-8a9d-16b08eaed12f\"}}},\"glyph\":{\"type\":\"object\",\"name\":\"Scatter\",\"id\":\"8638441e-6d83-43db-aa42-6df14624d110\",\"attributes\":{\"tags\":[\"apply_ranges\"],\"x\":{\"type\":\"field\",\"field\":\"year-mon\"},\"y\":{\"type\":\"field\",\"field\":\"AMOUNT\"},\"size\":{\"type\":\"value\",\"value\":5.477225575051661},\"line_color\":{\"type\":\"value\",\"value\":\"#9467bd\"},\"fill_color\":{\"type\":\"value\",\"value\":\"#9467bd\"},\"hatch_color\":{\"type\":\"value\",\"value\":\"#9467bd\"}}},\"selection_glyph\":{\"type\":\"object\",\"name\":\"Scatter\",\"id\":\"d5034c25-76e5-4a45-ae27-3b2aa2091896\",\"attributes\":{\"tags\":[\"apply_ranges\"],\"x\":{\"type\":\"field\",\"field\":\"year-mon\"},\"y\":{\"type\":\"field\",\"field\":\"AMOUNT\"},\"size\":{\"type\":\"value\",\"value\":5.477225575051661},\"angle\":{\"type\":\"value\",\"value\":0.0},\"line_color\":{\"type\":\"value\",\"value\":\"#9467bd\"},\"line_alpha\":{\"type\":\"value\",\"value\":1.0},\"line_width\":{\"type\":\"value\",\"value\":1},\"line_join\":{\"type\":\"value\",\"value\":\"bevel\"},\"line_cap\":{\"type\":\"value\",\"value\":\"butt\"},\"line_dash\":{\"type\":\"value\",\"value\":[]},\"line_dash_offset\":{\"type\":\"value\",\"value\":0},\"fill_color\":{\"type\":\"value\",\"value\":\"#9467bd\"},\"fill_alpha\":{\"type\":\"value\",\"value\":1.0},\"hatch_color\":{\"type\":\"value\",\"value\":\"#9467bd\"},\"hatch_alpha\":{\"type\":\"value\",\"value\":1.0},\"hatch_scale\":{\"type\":\"value\",\"value\":12.0},\"hatch_pattern\":{\"type\":\"value\",\"value\":null},\"hatch_weight\":{\"type\":\"value\",\"value\":1.0},\"marker\":{\"type\":\"value\",\"value\":\"circle\"}}},\"nonselection_glyph\":{\"type\":\"object\",\"name\":\"Scatter\",\"id\":\"eeff6f28-932d-4d69-bf5d-877fbb53cee9\",\"attributes\":{\"tags\":[\"apply_ranges\"],\"x\":{\"type\":\"field\",\"field\":\"year-mon\"},\"y\":{\"type\":\"field\",\"field\":\"AMOUNT\"},\"size\":{\"type\":\"value\",\"value\":5.477225575051661},\"line_color\":{\"type\":\"value\",\"value\":\"#9467bd\"},\"line_alpha\":{\"type\":\"value\",\"value\":0.1},\"fill_color\":{\"type\":\"value\",\"value\":\"#9467bd\"},\"fill_alpha\":{\"type\":\"value\",\"value\":0.1},\"hatch_color\":{\"type\":\"value\",\"value\":\"#9467bd\"},\"hatch_alpha\":{\"type\":\"value\",\"value\":0.1}}},\"muted_glyph\":{\"type\":\"object\",\"name\":\"Scatter\",\"id\":\"b28b9b29-1b4f-46f3-adf0-960c92d00b74\",\"attributes\":{\"tags\":[\"apply_ranges\"],\"x\":{\"type\":\"field\",\"field\":\"year-mon\"},\"y\":{\"type\":\"field\",\"field\":\"AMOUNT\"},\"size\":{\"type\":\"value\",\"value\":5.477225575051661},\"line_color\":{\"type\":\"value\",\"value\":\"#9467bd\"},\"line_alpha\":{\"type\":\"value\",\"value\":0.2},\"fill_color\":{\"type\":\"value\",\"value\":\"#9467bd\"},\"fill_alpha\":{\"type\":\"value\",\"value\":0.2},\"hatch_color\":{\"type\":\"value\",\"value\":\"#9467bd\"},\"hatch_alpha\":{\"type\":\"value\",\"value\":0.2}}}}},{\"type\":\"object\",\"name\":\"GlyphRenderer\",\"id\":\"6ddaa74f-db67-4a70-8128-7e80ff2de122\",\"attributes\":{\"name\":\"Motor/Travel\",\"data_source\":{\"type\":\"object\",\"name\":\"ColumnDataSource\",\"id\":\"27492732-6da8-47a4-ab82-9641a9035c3f\",\"attributes\":{\"selected\":{\"type\":\"object\",\"name\":\"Selection\",\"id\":\"14e873fc-e3f2-4533-bea8-1cfd82ef75ff\",\"attributes\":{\"indices\":[],\"line_indices\":[]}},\"selection_policy\":{\"type\":\"object\",\"name\":\"UnionRenderers\",\"id\":\"9328a6fa-d90c-4a77-ba59-f90d00cc93a6\"},\"data\":{\"type\":\"map\",\"entries\":[[\"year-mon\",{\"type\":\"ndarray\",\"array\":{\"type\":\"bytes\",\"data\":\"AACA53JeckIAAMA5bWhyQgAAwFpwcXJCAAAArWp7ckIAAICZEoVyQgAAwOsMj3JCAABA2LSYckIAAIAqr6JyQgAAwHyprHJCAABAaVG2ckIAAIC7S8ByQgAAAKjzyXJCAABA+u3TckIAAIBM6N1yQgAAgG3r5nJCAADAv+XwckIAAECsjfpyQgAAgP6HBHNCAAAA6y8Oc0IAAEA9KhhzQgAAgI8kInNCAAAAfMwrc0IAAEDOxjVzQgAAwLpuP3NCAAAADWlJc0IAAEBfY1NzQgAAAOa4XHNCAABAOLNmc0IAAMAkW3BzQgAAAHdVenNCAACAY/2Dc0IAAMC1941zQgAAAAjyl3NCAACA9Jmhc0IAAMBGlKtzQgAAQDM8tXNCAACAhTa/c0IAAMDXMMlzQgAAwPgz0nNCAAAASy7cc0IAAIA31uVzQgAAwInQ73NCAABAdnj5c0IAAIDIcgN0QgAAwBptDXRCAABABxUXdEIAAIBZDyF0QgAAAEa3KnRCAABAmLE0dEIAAIDqqz50QgAAgAuvR3RCAADAXalRdEIAAEBKUVt0QgAAgJxLZXRCAAAAifNudEIAAEDb7Xh0QgAAgC3ognRCAAAAGpCMdEIAAEBsipZ0QgAAwFgyoHRCAAAAqyyqdEIAAED9JrR0QgAAQB4qvXRCAACAcCTHdEIAAABdzNB0QgAAQK/G2nRCAADAm27kdEIAAADuaO50QgAAQEBj+HRCAADALAsCdUIAAAB/BQx1QgAAgGutFXVCAADAvacfdUIAAAAQoil1QgAAwJb3MnVCAAAA6fE8dUIAAIDVmUZ1QgAAwCeUUHVCAABAFDxadUIAAIBmNmR1QgAAwLgwbnVCAABApdh3dUIAAID30oF1QgAAAOR6i3VCAABANnWVdUIAAICIb591QgAAgKlyqHVCAADA+2yydUIAAEDoFLx1QgAAgDoPxnVCAAAAJ7fPdUIAAEB5sdl1QgAAgMur43VCAAAAuFPtdUIAAEAKTvd1QgAAwPb1AHZCAAAASfAKdkIAAECb6hR2QgAAQLztHXZCAACADugndkIAAAD7jzF2QgAAQE2KO3ZCAADAOTJFdkIAAACMLE92QgAAQN4mWXZCAADAys5idkIAAAAdyWx2QgAAgAlxdnZCAADAW2uAdkIAAACuZYp2QgAAAM9ok3ZCAABAIWOddkIAAMANC6d2QgAAAGAFsXZCAACATK26dkIAAMCep8R2QgAAAPGhznZCAACA3UnYdkIAAMAvROJ2QgAAQBzs63ZCAACAbub1dkIAAMDA4P92QgAAgEc2CXdCAADAmTATd0IAAECG2Bx3QgAAgNjSJndCAAAAxXowd0IAAEAXdTp3QgAAgGlvRHdCAAAAVhdOd0IAAECoEVh3QgAAwJS5YXdC\"},\"shape\":[132],\"dtype\":\"float64\",\"order\":\"little\"}],[\"AMOUNT\",{\"type\":\"ndarray\",\"array\":{\"type\":\"bytes\",\"data\":\"kVyWo4+HQECOyCWcG31AQIPOe1LiMUFAnqnZGh55QUBLnv6abfNBQAR65OfScEJAlka0cXjXQkBTzAS6EbRCQIGP8322M0NAjok0MzkdRUD3R0cFCsZHQBBMdRVD1ElAkvf17ChmREAdkcmHPYZEQBmwvr7IGkVAh70FhCBsRUCQjc0H4bdFQF9eKmsw20VAiatqZclNRkDrkJPiMHZGQMoJrEVaBkdAvblv/oWWSUCnHdw8dGVMQBJPuHS8Dk9ASzFi8N2ASECNc2t3JolIQCkAzht1DklAUXlRCx1uSUCXkx0LY91JQN6t2kkhKUpApOFGcfVdSkAhy57YU/pKQB5eYAlbTktAqYM7yupkTkCnjT5qouNQQN+cRkVHgVJAKFlmsZ7fTEBo7awY82lNQIBX0SAZzU1Axk1WNgJJTkAuBLDHu7tOQCXOM5OlQU9AAQFuTKcEUEAX+bl7rSNQQDuogiYSaFBA/DSn4ao+UkDEEukAWFRUQFaeFFykQVZAw1AKC/uPUUBiM4aRHr9RQCxHRhZ4+FFAhbZWFRweUkCFxLAMy4VSQERV0damoFJAPvobj2InU0CL3Xo8lGxTQO3BjAugsFNA7j6WLcH0VUCyqHMYnTlYQJV5azNBylpAGTRxEYLcVEB1lEyJoyRVQOtnHfD1lFVA73+zpd7mVUDTDWjK+TxWQC73j4mbclZAOyQ06e7wVkAwh7WVVzVXQE+hOBnekVdACUWOIZlfWkAlmQuFgDddQLofwv1ICmBAGdt1Kov7WEDkjInCaolZQAanWTmXu1lAzOTUYlo6WkDTbM4ZrqNaQM0vU1uHPFtAJS12wCBvW0DyA40j3/tbQGAbCUXkQVxAxf2Nqg5vX0AtNskf7ZRhQCA/YYm0T2NAtQRUCRzuXUDnisPY5KleQAkltAd++V5AorWAd0hpX0AuiZ9jy7tfQJ5lsP9WEmBAHx0yeIuCYED8hJiz0JxgQJr87WJAAGFAMujAclTvYkBFinpP2uJkQGTEboaDJGdAKJ9EJasLYkCDdUrdbk5iQAKhBgIuoWJAo2uvLxPtYkDyVy0Atw9jQLcMPrjNgmNAMEzV1TynY0A5FTJ/e/djQH1/I6e4UWRAJM4zYCGiZkCSBLpYzRtpQKzfHIZ6hWtAO53W4Se9ZUAWmBYpXdJlQNqwK9wrUWZAInXWdxF6ZkDYNOkpGQVnQIEk6BgvbGdA+X8UWbutZ0BoGfAprTdoQFeD01p+l2hAO8+pbzgpa0AJte4tuh5uQP63NKOulHBAsbHtv7HPaUAVK2re/lhqQFJWr9xjxWpASUkUwCEZa0AiGkA8vIFrQDhAKeTOKmxAPus6UkdTbECQcewPadFsQOXIq3MJV21AwYEnGLFicECWT1TiJANyQBz0ajZa3XNA\"},\"shape\":[132],\"dtype\":\"float64\",\"order\":\"little\"}],[\"year_hyphen_minus_mon\",{\"type\":\"ndarray\",\"array\":{\"type\":\"bytes\",\"data\":\"AACA53JeckIAAMA5bWhyQgAAwFpwcXJCAAAArWp7ckIAAICZEoVyQgAAwOsMj3JCAABA2LSYckIAAIAqr6JyQgAAwHyprHJCAABAaVG2ckIAAIC7S8ByQgAAAKjzyXJCAABA+u3TckIAAIBM6N1yQgAAgG3r5nJCAADAv+XwckIAAECsjfpyQgAAgP6HBHNCAAAA6y8Oc0IAAEA9KhhzQgAAgI8kInNCAAAAfMwrc0IAAEDOxjVzQgAAwLpuP3NCAAAADWlJc0IAAEBfY1NzQgAAAOa4XHNCAABAOLNmc0IAAMAkW3BzQgAAAHdVenNCAACAY/2Dc0IAAMC1941zQgAAAAjyl3NCAACA9Jmhc0IAAMBGlKtzQgAAQDM8tXNCAACAhTa/c0IAAMDXMMlzQgAAwPgz0nNCAAAASy7cc0IAAIA31uVzQgAAwInQ73NCAABAdnj5c0IAAIDIcgN0QgAAwBptDXRCAABABxUXdEIAAIBZDyF0QgAAAEa3KnRCAABAmLE0dEIAAIDqqz50QgAAgAuvR3RCAADAXalRdEIAAEBKUVt0QgAAgJxLZXRCAAAAifNudEIAAEDb7Xh0QgAAgC3ognRCAAAAGpCMdEIAAEBsipZ0QgAAwFgyoHRCAAAAqyyqdEIAAED9JrR0QgAAQB4qvXRCAACAcCTHdEIAAABdzNB0QgAAQK/G2nRCAADAm27kdEIAAADuaO50QgAAQEBj+HRCAADALAsCdUIAAAB/BQx1QgAAgGutFXVCAADAvacfdUIAAAAQoil1QgAAwJb3MnVCAAAA6fE8dUIAAIDVmUZ1QgAAwCeUUHVCAABAFDxadUIAAIBmNmR1QgAAwLgwbnVCAABApdh3dUIAAID30oF1QgAAAOR6i3VCAABANnWVdUIAAICIb591QgAAgKlyqHVCAADA+2yydUIAAEDoFLx1QgAAgDoPxnVCAAAAJ7fPdUIAAEB5sdl1QgAAgMur43VCAAAAuFPtdUIAAEAKTvd1QgAAwPb1AHZCAAAASfAKdkIAAECb6hR2QgAAQLztHXZCAACADugndkIAAAD7jzF2QgAAQE2KO3ZCAADAOTJFdkIAAACMLE92QgAAQN4mWXZCAADAys5idkIAAAAdyWx2QgAAgAlxdnZCAADAW2uAdkIAAACuZYp2QgAAAM9ok3ZCAABAIWOddkIAAMANC6d2QgAAAGAFsXZCAACATK26dkIAAMCep8R2QgAAAPGhznZCAACA3UnYdkIAAMAvROJ2QgAAQBzs63ZCAACAbub1dkIAAMDA4P92QgAAgEc2CXdCAADAmTATd0IAAECG2Bx3QgAAgNjSJndCAAAAxXowd0IAAEAXdTp3QgAAgGlvRHdCAAAAVhdOd0IAAECoEVh3QgAAwJS5YXdC\"},\"shape\":[132],\"dtype\":\"float64\",\"order\":\"little\"}],[\"EXP_TYPE\",[\"Motor/Travel\",\"Motor/Travel\",\"Motor/Travel\",\"Motor/Travel\",\"Motor/Travel\",\"Motor/Travel\",\"Motor/Travel\",\"Motor/Travel\",\"Motor/Travel\",\"Motor/Travel\",\"Motor/Travel\",\"Motor/Travel\",\"Motor/Travel\",\"Motor/Travel\",\"Motor/Travel\",\"Motor/Travel\",\"Motor/Travel\",\"Motor/Travel\",\"Motor/Travel\",\"Motor/Travel\",\"Motor/Travel\",\"Motor/Travel\",\"Motor/Travel\",\"Motor/Travel\",\"Motor/Travel\",\"Motor/Travel\",\"Motor/Travel\",\"Motor/Travel\",\"Motor/Travel\",\"Motor/Travel\",\"Motor/Travel\",\"Motor/Travel\",\"Motor/Travel\",\"Motor/Travel\",\"Motor/Travel\",\"Motor/Travel\",\"Motor/Travel\",\"Motor/Travel\",\"Motor/Travel\",\"Motor/Travel\",\"Motor/Travel\",\"Motor/Travel\",\"Motor/Travel\",\"Motor/Travel\",\"Motor/Travel\",\"Motor/Travel\",\"Motor/Travel\",\"Motor/Travel\",\"Motor/Travel\",\"Motor/Travel\",\"Motor/Travel\",\"Motor/Travel\",\"Motor/Travel\",\"Motor/Travel\",\"Motor/Travel\",\"Motor/Travel\",\"Motor/Travel\",\"Motor/Travel\",\"Motor/Travel\",\"Motor/Travel\",\"Motor/Travel\",\"Motor/Travel\",\"Motor/Travel\",\"Motor/Travel\",\"Motor/Travel\",\"Motor/Travel\",\"Motor/Travel\",\"Motor/Travel\",\"Motor/Travel\",\"Motor/Travel\",\"Motor/Travel\",\"Motor/Travel\",\"Motor/Travel\",\"Motor/Travel\",\"Motor/Travel\",\"Motor/Travel\",\"Motor/Travel\",\"Motor/Travel\",\"Motor/Travel\",\"Motor/Travel\",\"Motor/Travel\",\"Motor/Travel\",\"Motor/Travel\",\"Motor/Travel\",\"Motor/Travel\",\"Motor/Travel\",\"Motor/Travel\",\"Motor/Travel\",\"Motor/Travel\",\"Motor/Travel\",\"Motor/Travel\",\"Motor/Travel\",\"Motor/Travel\",\"Motor/Travel\",\"Motor/Travel\",\"Motor/Travel\",\"Motor/Travel\",\"Motor/Travel\",\"Motor/Travel\",\"Motor/Travel\",\"Motor/Travel\",\"Motor/Travel\",\"Motor/Travel\",\"Motor/Travel\",\"Motor/Travel\",\"Motor/Travel\",\"Motor/Travel\",\"Motor/Travel\",\"Motor/Travel\",\"Motor/Travel\",\"Motor/Travel\",\"Motor/Travel\",\"Motor/Travel\",\"Motor/Travel\",\"Motor/Travel\",\"Motor/Travel\",\"Motor/Travel\",\"Motor/Travel\",\"Motor/Travel\",\"Motor/Travel\",\"Motor/Travel\",\"Motor/Travel\",\"Motor/Travel\",\"Motor/Travel\",\"Motor/Travel\",\"Motor/Travel\",\"Motor/Travel\",\"Motor/Travel\",\"Motor/Travel\",\"Motor/Travel\",\"Motor/Travel\",\"Motor/Travel\"]]]}}},\"view\":{\"type\":\"object\",\"name\":\"CDSView\",\"id\":\"c8e9130f-e158-4140-91a9-155c79970fa5\",\"attributes\":{\"filter\":{\"type\":\"object\",\"name\":\"AllIndices\",\"id\":\"eb209bea-6f9c-4274-b7d8-55eda3c0c331\"}}},\"glyph\":{\"type\":\"object\",\"name\":\"Scatter\",\"id\":\"1e976a14-4b80-4dad-ada2-a5ab7b1ab8bf\",\"attributes\":{\"tags\":[\"apply_ranges\"],\"x\":{\"type\":\"field\",\"field\":\"year-mon\"},\"y\":{\"type\":\"field\",\"field\":\"AMOUNT\"},\"size\":{\"type\":\"value\",\"value\":5.477225575051661},\"line_color\":{\"type\":\"value\",\"value\":\"#d62728\"},\"fill_color\":{\"type\":\"value\",\"value\":\"#d62728\"},\"hatch_color\":{\"type\":\"value\",\"value\":\"#d62728\"}}},\"selection_glyph\":{\"type\":\"object\",\"name\":\"Scatter\",\"id\":\"ed745ac3-e351-4f1f-8cbc-d5a1907f8fa0\",\"attributes\":{\"tags\":[\"apply_ranges\"],\"x\":{\"type\":\"field\",\"field\":\"year-mon\"},\"y\":{\"type\":\"field\",\"field\":\"AMOUNT\"},\"size\":{\"type\":\"value\",\"value\":5.477225575051661},\"angle\":{\"type\":\"value\",\"value\":0.0},\"line_color\":{\"type\":\"value\",\"value\":\"#d62728\"},\"line_alpha\":{\"type\":\"value\",\"value\":1.0},\"line_width\":{\"type\":\"value\",\"value\":1},\"line_join\":{\"type\":\"value\",\"value\":\"bevel\"},\"line_cap\":{\"type\":\"value\",\"value\":\"butt\"},\"line_dash\":{\"type\":\"value\",\"value\":[]},\"line_dash_offset\":{\"type\":\"value\",\"value\":0},\"fill_color\":{\"type\":\"value\",\"value\":\"#d62728\"},\"fill_alpha\":{\"type\":\"value\",\"value\":1.0},\"hatch_color\":{\"type\":\"value\",\"value\":\"#d62728\"},\"hatch_alpha\":{\"type\":\"value\",\"value\":1.0},\"hatch_scale\":{\"type\":\"value\",\"value\":12.0},\"hatch_pattern\":{\"type\":\"value\",\"value\":null},\"hatch_weight\":{\"type\":\"value\",\"value\":1.0},\"marker\":{\"type\":\"value\",\"value\":\"circle\"}}},\"nonselection_glyph\":{\"type\":\"object\",\"name\":\"Scatter\",\"id\":\"6b1a6dd8-b533-442d-88e9-4a7d5d1b4846\",\"attributes\":{\"tags\":[\"apply_ranges\"],\"x\":{\"type\":\"field\",\"field\":\"year-mon\"},\"y\":{\"type\":\"field\",\"field\":\"AMOUNT\"},\"size\":{\"type\":\"value\",\"value\":5.477225575051661},\"line_color\":{\"type\":\"value\",\"value\":\"#d62728\"},\"line_alpha\":{\"type\":\"value\",\"value\":0.1},\"fill_color\":{\"type\":\"value\",\"value\":\"#d62728\"},\"fill_alpha\":{\"type\":\"value\",\"value\":0.1},\"hatch_color\":{\"type\":\"value\",\"value\":\"#d62728\"},\"hatch_alpha\":{\"type\":\"value\",\"value\":0.1}}},\"muted_glyph\":{\"type\":\"object\",\"name\":\"Scatter\",\"id\":\"7321e1c2-c3e2-446e-a378-b46439a454a9\",\"attributes\":{\"tags\":[\"apply_ranges\"],\"x\":{\"type\":\"field\",\"field\":\"year-mon\"},\"y\":{\"type\":\"field\",\"field\":\"AMOUNT\"},\"size\":{\"type\":\"value\",\"value\":5.477225575051661},\"line_color\":{\"type\":\"value\",\"value\":\"#d62728\"},\"line_alpha\":{\"type\":\"value\",\"value\":0.2},\"fill_color\":{\"type\":\"value\",\"value\":\"#d62728\"},\"fill_alpha\":{\"type\":\"value\",\"value\":0.2},\"hatch_color\":{\"type\":\"value\",\"value\":\"#d62728\"},\"hatch_alpha\":{\"type\":\"value\",\"value\":0.2}}}}},{\"type\":\"object\",\"name\":\"GlyphRenderer\",\"id\":\"308ba074-cc1a-4cd8-a8aa-2b0e4405b338\",\"attributes\":{\"name\":\"Groceries\",\"data_source\":{\"type\":\"object\",\"name\":\"ColumnDataSource\",\"id\":\"1f697499-5635-4ac5-a5ec-5e643281ce85\",\"attributes\":{\"selected\":{\"type\":\"object\",\"name\":\"Selection\",\"id\":\"373f0466-e45a-44b1-8820-00c37a6c4535\",\"attributes\":{\"indices\":[],\"line_indices\":[]}},\"selection_policy\":{\"type\":\"object\",\"name\":\"UnionRenderers\",\"id\":\"9dc76025-eaa5-43eb-9526-1ffb48edf5cf\"},\"data\":{\"type\":\"map\",\"entries\":[[\"year-mon\",{\"type\":\"ndarray\",\"array\":{\"type\":\"bytes\",\"data\":\"AACA53JeckIAAMA5bWhyQgAAwFpwcXJCAAAArWp7ckIAAICZEoVyQgAAwOsMj3JCAABA2LSYckIAAIAqr6JyQgAAwHyprHJCAABAaVG2ckIAAIC7S8ByQgAAAKjzyXJCAABA+u3TckIAAIBM6N1yQgAAgG3r5nJCAADAv+XwckIAAECsjfpyQgAAgP6HBHNCAAAA6y8Oc0IAAEA9KhhzQgAAgI8kInNCAAAAfMwrc0IAAEDOxjVzQgAAwLpuP3NCAAAADWlJc0IAAEBfY1NzQgAAAOa4XHNCAABAOLNmc0IAAMAkW3BzQgAAAHdVenNCAACAY/2Dc0IAAMC1941zQgAAAAjyl3NCAACA9Jmhc0IAAMBGlKtzQgAAQDM8tXNCAACAhTa/c0IAAMDXMMlzQgAAwPgz0nNCAAAASy7cc0IAAIA31uVzQgAAwInQ73NCAABAdnj5c0IAAIDIcgN0QgAAwBptDXRCAABABxUXdEIAAIBZDyF0QgAAAEa3KnRCAABAmLE0dEIAAIDqqz50QgAAgAuvR3RCAADAXalRdEIAAEBKUVt0QgAAgJxLZXRCAAAAifNudEIAAEDb7Xh0QgAAgC3ognRCAAAAGpCMdEIAAEBsipZ0QgAAwFgyoHRCAAAAqyyqdEIAAED9JrR0QgAAQB4qvXRCAACAcCTHdEIAAABdzNB0QgAAQK/G2nRCAADAm27kdEIAAADuaO50QgAAQEBj+HRCAADALAsCdUIAAAB/BQx1QgAAgGutFXVCAADAvacfdUIAAAAQoil1QgAAwJb3MnVCAAAA6fE8dUIAAIDVmUZ1QgAAwCeUUHVCAABAFDxadUIAAIBmNmR1QgAAwLgwbnVCAABApdh3dUIAAID30oF1QgAAAOR6i3VCAABANnWVdUIAAICIb591QgAAgKlyqHVCAADA+2yydUIAAEDoFLx1QgAAgDoPxnVCAAAAJ7fPdUIAAEB5sdl1QgAAgMur43VCAAAAuFPtdUIAAEAKTvd1QgAAwPb1AHZCAAAASfAKdkIAAECb6hR2QgAAQLztHXZCAACADugndkIAAAD7jzF2QgAAQE2KO3ZCAADAOTJFdkIAAACMLE92QgAAQN4mWXZCAADAys5idkIAAAAdyWx2QgAAgAlxdnZCAADAW2uAdkIAAACuZYp2QgAAAM9ok3ZCAABAIWOddkIAAMANC6d2QgAAAGAFsXZCAACATK26dkIAAMCep8R2QgAAAPGhznZCAACA3UnYdkIAAMAvROJ2QgAAQBzs63ZCAACAbub1dkIAAMDA4P92QgAAgEc2CXdCAADAmTATd0IAAECG2Bx3QgAAgNjSJndCAAAAxXowd0IAAEAXdTp3QgAAgGlvRHdCAAAAVhdOd0IAAECoEVh3QgAAwJS5YXdC\"},\"shape\":[132],\"dtype\":\"float64\",\"order\":\"little\"}],[\"AMOUNT\",{\"type\":\"ndarray\",\"array\":{\"type\":\"bytes\",\"data\":\"IxahQk1ERUCNNXrr9U1FQCfs5zE5xkVAi0NCA8+RRkDUzym8p9VGQHy2Qi1g70ZAUMdV/51CR0DQW4eMOE5HQBm6qJ9fl0dAmdAK3s49SkArmSfwbKJMQBvsePidQ09ALm8iKqpiSEBMZJ/woWlIQNMWCJJ3UEhAgKVDOgOoSECcw0RlgKlIQFoXKrG/CUlAY73r3UToSEBtMpH3VDVJQCscAqz5cklAxmeFUe8VTEBx9XazIdVOQOnQIgRD8FBAxPqlYukqSkCQxpuJw21KQOceaQgjmUpAj4aol824SkB4k7lWS95KQE/YNTUjC0tAsgMUb50YS0AHPgzCKU1LQGA9h/0RZ0tApzuY0MiYTkAMHHBCuMJQQBskTJHePVJATBZ3p8ciTEDJu9flhUhMQIek8v1YjkxAlUs3EuLFTED6nO8sV+9MQFyA+AiVGU1AwBUbpfxmTUAyyHsRYqtNQPcZYzgz2E1AQeDo3tFzUECcztnHGuxRQNBqDzMGoFNALazFyZqATkDMNJsl9sZOQLoM4cpZ5U5ATBAobyPwTkD6dCH9zC9PQAAjbux+Zk9A8c9g1pXCT0AvMve9SOJPQHZTQXl6HVBALAsQx83QUUCtL4Gwb6BTQCP47y7pX1VAXzmT72KOUEDqg7yTL5lQQBaYwBnhy1BADoSlURPFUEBycJTCDfRQQG7+2UYyBlFAX77HXxggUUDwr+DV6j9RQPVU9D+3X1FAEeI4cBg6U0BGc8G+WhVVQC4vpeRqFFdAFhG5P33aUUBcwy9WRd1RQByjME7QClJAqwNXQ/AdUkByhE2z3DhSQJ90ejSdZVJAJBzyfDl6UkD9MDx0TpFSQIrxsgGmyFJAgt9qi7HDVEBg5WD1g7JWQF1Jje1G7FhAU3ZkY8QlU0DpQO9T5kpTQOjtFLubbVNA6wA7rGeZU0CTf5ehAZRTQGvbqVPOwlNAMxFTY7PzU0CtDBJT0PlTQIm4uG+RM1RAQ7g9zhVTVkAdM1g3IYdYQEzzH0VPtVpA5TgGTY6qVEAEGR8w7tBUQGbsso/U8FRAGD4ibO8vVUD6ap34cSBVQD5fTHMDRFVA4EzDsEpwVUBLBB8xM4BVQESsYehFnlVAfu3Yzob8V0CnaJdiAU1aQF8Dm/PJrlxAxlef8SBIVkDyA3x671RWQHtmsX7uelZAp68uuT6yVkCym2EqyNhWQNfq1LMK81ZAemQFNAQlV0CfJspW9TpXQO2G66c0dVdA5nJSJ1L4WUArtaINqXZcQMMIAs10/V5AUZUUbokBWEAlJCEXbD1YQDlW5AIEX1hARsOshTmQWEBHIAFyV5xYQOrEh/qs0lhAflx3KdP7WECgHigNjSdZQIcCznr2NVlAfQpODfHIW0CH+XvX9oleQMe4uWfMuGBA\"},\"shape\":[132],\"dtype\":\"float64\",\"order\":\"little\"}],[\"year_hyphen_minus_mon\",{\"type\":\"ndarray\",\"array\":{\"type\":\"bytes\",\"data\":\"AACA53JeckIAAMA5bWhyQgAAwFpwcXJCAAAArWp7ckIAAICZEoVyQgAAwOsMj3JCAABA2LSYckIAAIAqr6JyQgAAwHyprHJCAABAaVG2ckIAAIC7S8ByQgAAAKjzyXJCAABA+u3TckIAAIBM6N1yQgAAgG3r5nJCAADAv+XwckIAAECsjfpyQgAAgP6HBHNCAAAA6y8Oc0IAAEA9KhhzQgAAgI8kInNCAAAAfMwrc0IAAEDOxjVzQgAAwLpuP3NCAAAADWlJc0IAAEBfY1NzQgAAAOa4XHNCAABAOLNmc0IAAMAkW3BzQgAAAHdVenNCAACAY/2Dc0IAAMC1941zQgAAAAjyl3NCAACA9Jmhc0IAAMBGlKtzQgAAQDM8tXNCAACAhTa/c0IAAMDXMMlzQgAAwPgz0nNCAAAASy7cc0IAAIA31uVzQgAAwInQ73NCAABAdnj5c0IAAIDIcgN0QgAAwBptDXRCAABABxUXdEIAAIBZDyF0QgAAAEa3KnRCAABAmLE0dEIAAIDqqz50QgAAgAuvR3RCAADAXalRdEIAAEBKUVt0QgAAgJxLZXRCAAAAifNudEIAAEDb7Xh0QgAAgC3ognRCAAAAGpCMdEIAAEBsipZ0QgAAwFgyoHRCAAAAqyyqdEIAAED9JrR0QgAAQB4qvXRCAACAcCTHdEIAAABdzNB0QgAAQK/G2nRCAADAm27kdEIAAADuaO50QgAAQEBj+HRCAADALAsCdUIAAAB/BQx1QgAAgGutFXVCAADAvacfdUIAAAAQoil1QgAAwJb3MnVCAAAA6fE8dUIAAIDVmUZ1QgAAwCeUUHVCAABAFDxadUIAAIBmNmR1QgAAwLgwbnVCAABApdh3dUIAAID30oF1QgAAAOR6i3VCAABANnWVdUIAAICIb591QgAAgKlyqHVCAADA+2yydUIAAEDoFLx1QgAAgDoPxnVCAAAAJ7fPdUIAAEB5sdl1QgAAgMur43VCAAAAuFPtdUIAAEAKTvd1QgAAwPb1AHZCAAAASfAKdkIAAECb6hR2QgAAQLztHXZCAACADugndkIAAAD7jzF2QgAAQE2KO3ZCAADAOTJFdkIAAACMLE92QgAAQN4mWXZCAADAys5idkIAAAAdyWx2QgAAgAlxdnZCAADAW2uAdkIAAACuZYp2QgAAAM9ok3ZCAABAIWOddkIAAMANC6d2QgAAAGAFsXZCAACATK26dkIAAMCep8R2QgAAAPGhznZCAACA3UnYdkIAAMAvROJ2QgAAQBzs63ZCAACAbub1dkIAAMDA4P92QgAAgEc2CXdCAADAmTATd0IAAECG2Bx3QgAAgNjSJndCAAAAxXowd0IAAEAXdTp3QgAAgGlvRHdCAAAAVhdOd0IAAECoEVh3QgAAwJS5YXdC\"},\"shape\":[132],\"dtype\":\"float64\",\"order\":\"little\"}],[\"EXP_TYPE\",[\"Groceries\",\"Groceries\",\"Groceries\",\"Groceries\",\"Groceries\",\"Groceries\",\"Groceries\",\"Groceries\",\"Groceries\",\"Groceries\",\"Groceries\",\"Groceries\",\"Groceries\",\"Groceries\",\"Groceries\",\"Groceries\",\"Groceries\",\"Groceries\",\"Groceries\",\"Groceries\",\"Groceries\",\"Groceries\",\"Groceries\",\"Groceries\",\"Groceries\",\"Groceries\",\"Groceries\",\"Groceries\",\"Groceries\",\"Groceries\",\"Groceries\",\"Groceries\",\"Groceries\",\"Groceries\",\"Groceries\",\"Groceries\",\"Groceries\",\"Groceries\",\"Groceries\",\"Groceries\",\"Groceries\",\"Groceries\",\"Groceries\",\"Groceries\",\"Groceries\",\"Groceries\",\"Groceries\",\"Groceries\",\"Groceries\",\"Groceries\",\"Groceries\",\"Groceries\",\"Groceries\",\"Groceries\",\"Groceries\",\"Groceries\",\"Groceries\",\"Groceries\",\"Groceries\",\"Groceries\",\"Groceries\",\"Groceries\",\"Groceries\",\"Groceries\",\"Groceries\",\"Groceries\",\"Groceries\",\"Groceries\",\"Groceries\",\"Groceries\",\"Groceries\",\"Groceries\",\"Groceries\",\"Groceries\",\"Groceries\",\"Groceries\",\"Groceries\",\"Groceries\",\"Groceries\",\"Groceries\",\"Groceries\",\"Groceries\",\"Groceries\",\"Groceries\",\"Groceries\",\"Groceries\",\"Groceries\",\"Groceries\",\"Groceries\",\"Groceries\",\"Groceries\",\"Groceries\",\"Groceries\",\"Groceries\",\"Groceries\",\"Groceries\",\"Groceries\",\"Groceries\",\"Groceries\",\"Groceries\",\"Groceries\",\"Groceries\",\"Groceries\",\"Groceries\",\"Groceries\",\"Groceries\",\"Groceries\",\"Groceries\",\"Groceries\",\"Groceries\",\"Groceries\",\"Groceries\",\"Groceries\",\"Groceries\",\"Groceries\",\"Groceries\",\"Groceries\",\"Groceries\",\"Groceries\",\"Groceries\",\"Groceries\",\"Groceries\",\"Groceries\",\"Groceries\",\"Groceries\",\"Groceries\",\"Groceries\",\"Groceries\",\"Groceries\",\"Groceries\",\"Groceries\",\"Groceries\"]]]}}},\"view\":{\"type\":\"object\",\"name\":\"CDSView\",\"id\":\"7a232fa3-32b1-4a0c-a2b7-7584a362ee14\",\"attributes\":{\"filter\":{\"type\":\"object\",\"name\":\"AllIndices\",\"id\":\"4ef7196c-7f17-46ab-acd3-5aca23af16a9\"}}},\"glyph\":{\"type\":\"object\",\"name\":\"Scatter\",\"id\":\"9dc0cd97-c20a-4141-ae3c-83f6758a25ee\",\"attributes\":{\"tags\":[\"apply_ranges\"],\"x\":{\"type\":\"field\",\"field\":\"year-mon\"},\"y\":{\"type\":\"field\",\"field\":\"AMOUNT\"},\"size\":{\"type\":\"value\",\"value\":5.477225575051661},\"line_color\":{\"type\":\"value\",\"value\":\"#1f77b4\"},\"fill_color\":{\"type\":\"value\",\"value\":\"#1f77b4\"},\"hatch_color\":{\"type\":\"value\",\"value\":\"#1f77b4\"}}},\"selection_glyph\":{\"type\":\"object\",\"name\":\"Scatter\",\"id\":\"476f0623-1b04-4153-b323-8fe6ec64b5a9\",\"attributes\":{\"tags\":[\"apply_ranges\"],\"x\":{\"type\":\"field\",\"field\":\"year-mon\"},\"y\":{\"type\":\"field\",\"field\":\"AMOUNT\"},\"size\":{\"type\":\"value\",\"value\":5.477225575051661},\"angle\":{\"type\":\"value\",\"value\":0.0},\"line_color\":{\"type\":\"value\",\"value\":\"#1f77b4\"},\"line_alpha\":{\"type\":\"value\",\"value\":1.0},\"line_width\":{\"type\":\"value\",\"value\":1},\"line_join\":{\"type\":\"value\",\"value\":\"bevel\"},\"line_cap\":{\"type\":\"value\",\"value\":\"butt\"},\"line_dash\":{\"type\":\"value\",\"value\":[]},\"line_dash_offset\":{\"type\":\"value\",\"value\":0},\"fill_color\":{\"type\":\"value\",\"value\":\"#1f77b4\"},\"fill_alpha\":{\"type\":\"value\",\"value\":1.0},\"hatch_color\":{\"type\":\"value\",\"value\":\"#1f77b4\"},\"hatch_alpha\":{\"type\":\"value\",\"value\":1.0},\"hatch_scale\":{\"type\":\"value\",\"value\":12.0},\"hatch_pattern\":{\"type\":\"value\",\"value\":null},\"hatch_weight\":{\"type\":\"value\",\"value\":1.0},\"marker\":{\"type\":\"value\",\"value\":\"circle\"}}},\"nonselection_glyph\":{\"type\":\"object\",\"name\":\"Scatter\",\"id\":\"6f8bcd13-1c92-4b4d-ac39-7a7cc5bd2007\",\"attributes\":{\"tags\":[\"apply_ranges\"],\"x\":{\"type\":\"field\",\"field\":\"year-mon\"},\"y\":{\"type\":\"field\",\"field\":\"AMOUNT\"},\"size\":{\"type\":\"value\",\"value\":5.477225575051661},\"line_color\":{\"type\":\"value\",\"value\":\"#1f77b4\"},\"line_alpha\":{\"type\":\"value\",\"value\":0.1},\"fill_color\":{\"type\":\"value\",\"value\":\"#1f77b4\"},\"fill_alpha\":{\"type\":\"value\",\"value\":0.1},\"hatch_color\":{\"type\":\"value\",\"value\":\"#1f77b4\"},\"hatch_alpha\":{\"type\":\"value\",\"value\":0.1}}},\"muted_glyph\":{\"type\":\"object\",\"name\":\"Scatter\",\"id\":\"5bd84837-d006-4b6f-8908-f428f73b357f\",\"attributes\":{\"tags\":[\"apply_ranges\"],\"x\":{\"type\":\"field\",\"field\":\"year-mon\"},\"y\":{\"type\":\"field\",\"field\":\"AMOUNT\"},\"size\":{\"type\":\"value\",\"value\":5.477225575051661},\"line_color\":{\"type\":\"value\",\"value\":\"#1f77b4\"},\"line_alpha\":{\"type\":\"value\",\"value\":0.2},\"fill_color\":{\"type\":\"value\",\"value\":\"#1f77b4\"},\"fill_alpha\":{\"type\":\"value\",\"value\":0.2},\"hatch_color\":{\"type\":\"value\",\"value\":\"#1f77b4\"},\"hatch_alpha\":{\"type\":\"value\",\"value\":0.2}}}}},{\"type\":\"object\",\"name\":\"GlyphRenderer\",\"id\":\"a98a7961-2b57-410a-9eb5-239c9b2df117\",\"attributes\":{\"name\":\"Housing\",\"data_source\":{\"type\":\"object\",\"name\":\"ColumnDataSource\",\"id\":\"a2f7bd7e-38ff-41af-bcc0-281c1165540b\",\"attributes\":{\"selected\":{\"type\":\"object\",\"name\":\"Selection\",\"id\":\"fba72f45-08a0-4985-a925-df8bb83666c4\",\"attributes\":{\"indices\":[],\"line_indices\":[]}},\"selection_policy\":{\"type\":\"object\",\"name\":\"UnionRenderers\",\"id\":\"de0d77a7-bac8-4ab3-8033-f6ee436fad3f\"},\"data\":{\"type\":\"map\",\"entries\":[[\"year-mon\",{\"type\":\"ndarray\",\"array\":{\"type\":\"bytes\",\"data\":\"AACA53JeckIAAMA5bWhyQgAAwFpwcXJCAAAArWp7ckIAAICZEoVyQgAAwOsMj3JCAABA2LSYckIAAIAqr6JyQgAAwHyprHJCAABAaVG2ckIAAIC7S8ByQgAAAKjzyXJCAABA+u3TckIAAIBM6N1yQgAAgG3r5nJCAADAv+XwckIAAECsjfpyQgAAgP6HBHNCAAAA6y8Oc0IAAEA9KhhzQgAAgI8kInNCAAAAfMwrc0IAAEDOxjVzQgAAwLpuP3NCAAAADWlJc0IAAEBfY1NzQgAAAOa4XHNCAABAOLNmc0IAAMAkW3BzQgAAAHdVenNCAACAY/2Dc0IAAMC1941zQgAAAAjyl3NCAACA9Jmhc0IAAMBGlKtzQgAAQDM8tXNCAACAhTa/c0IAAMDXMMlzQgAAwPgz0nNCAAAASy7cc0IAAIA31uVzQgAAwInQ73NCAABAdnj5c0IAAIDIcgN0QgAAwBptDXRCAABABxUXdEIAAIBZDyF0QgAAAEa3KnRCAABAmLE0dEIAAIDqqz50QgAAgAuvR3RCAADAXalRdEIAAEBKUVt0QgAAgJxLZXRCAAAAifNudEIAAEDb7Xh0QgAAgC3ognRCAAAAGpCMdEIAAEBsipZ0QgAAwFgyoHRCAAAAqyyqdEIAAED9JrR0QgAAQB4qvXRCAACAcCTHdEIAAABdzNB0QgAAQK/G2nRCAADAm27kdEIAAADuaO50QgAAQEBj+HRCAADALAsCdUIAAAB/BQx1QgAAgGutFXVCAADAvacfdUIAAAAQoil1QgAAwJb3MnVCAAAA6fE8dUIAAIDVmUZ1QgAAwCeUUHVCAABAFDxadUIAAIBmNmR1QgAAwLgwbnVCAABApdh3dUIAAID30oF1QgAAAOR6i3VCAABANnWVdUIAAICIb591QgAAgKlyqHVCAADA+2yydUIAAEDoFLx1QgAAgDoPxnVCAAAAJ7fPdUIAAEB5sdl1QgAAgMur43VCAAAAuFPtdUIAAEAKTvd1QgAAwPb1AHZCAAAASfAKdkIAAECb6hR2QgAAQLztHXZCAACADugndkIAAAD7jzF2QgAAQE2KO3ZCAADAOTJFdkIAAACMLE92QgAAQN4mWXZCAADAys5idkIAAAAdyWx2QgAAgAlxdnZCAADAW2uAdkIAAACuZYp2QgAAAM9ok3ZCAABAIWOddkIAAMANC6d2QgAAAGAFsXZCAACATK26dkIAAMCep8R2QgAAAPGhznZCAACA3UnYdkIAAMAvROJ2QgAAQBzs63ZCAACAbub1dkIAAMDA4P92QgAAgEc2CXdCAADAmTATd0IAAECG2Bx3QgAAgNjSJndCAAAAxXowd0IAAEAXdTp3QgAAgGlvRHdCAAAAVhdOd0IAAECoEVh3QgAAwJS5YXdC\"},\"shape\":[132],\"dtype\":\"float64\",\"order\":\"little\"}],[\"AMOUNT\",{\"type\":\"ndarray\",\"array\":{\"type\":\"bytes\",\"data\":\"HSjkHp4BkEBVn/NmVpqQQJPAu9gqIJFABVFCjTxZkUDjPbkmcs6RQB+2+KrB6ZFAyZ+sgTDukUDUVlWWlvCRQKLKpVvrH5JA0+7a/0IskkCyV/fRKzSSQCaKDRj/VpJA2bImcs5QkkD42JaW8WeSQMWQjVlwZpJAJ6Q1xnSNkkCy60oYja6SQP6tb/N2tZJAFpWCHYi9kkDdkG0lZtWSQIB23a5T85JAZlK51RP+kkCqNmUmyxiTQMdtrrpkKZNAxmkn/QpMk0AcVYZIgmqTQNnHNdX2gZNAcTOUo+Kck0C8CPZMF6mTQJ7NJ+gvtpNAvgrqS0bEk0BW93m5SNaTQG2pXz+t85NAOhpieoMGlEAKEceH/BWUQGcX43tuKZRAkjyPOnwnlEAAeWCSPzmUQLw5CzHKSJRA+d2fHpRYlEAbkcEK2nSUQAu+b0XshZRAIQhMUvKplECVX/rmm8eUQPra+T3H75RAY7GBcXv5lECAivtulQ6VQIAaySowG5VAxsYIYPI5lUAnvaAvA1aVQPn6+kZodJVAwLtboVaRlUBD5vp8HquVQFjO/obKxJVAb336FibflUCpGqwMbO2VQIzsGrQUBJZAO02PCksglkBVMegp9kmWQFaIIEYdY5ZAk4KAkxJ+lkCn0G6RU5GWQD/5WTj5n5ZAk/FkqBa+lkDdgXiY39KWQK8K5/iE65ZAW3nwjXQGl0AYNIHNLxqXQOTshK2iMZdACZmwl/BFl0BTtZGHplyXQA+ta7EeepdAyNq2ngWTl0CRwiDimrCXQBTDKC3oxZdAkKEO+OXal0DiM1M8X/OXQCIAaMmjEphAaaghQPIrmEDFBmuvjjmYQMVS6nB0UphA2MsdYD1pmEBreeet73WYQEhCUzOHkphACgUzsvyqmED/0qOEx8OYQJdBCFp215hA0V63p/v+mEBMt1SoWAaZQLbAXvNcHZlAyPn+czM1mUDelYD/mlKZQAGxZU2Db5lA8noz6oeCmUDjBnqkCZeZQHhliVDJq5lAawAlG7rEmUD8YepdteOZQPnR9C1Z/plAjb+KT8kZmkArptqOdi+aQFi9+zOXR5pAyooB281fmkBDaf3MunCaQNJFVNc7gppA9JAAUQ+SmkBNfsKNAqeaQOeA6YfYxppA5Xgjcu3dmkBW8v+6b/aaQHJcTUudEptAj+KqJEUsm0AAF+NGGUmbQD55rlEIWJtAY3u+vlF0m0A2mNVhgZabQHwxU/JmvZtAZ5t48erXm0C83qhhH/abQIdyM3MdGZxALK6GS1I5nECZEOj7Z12cQOXmE5E2cZxAYm8vFvCPnEAgSsI4mbKcQDqKKqNu25xANwF3N6frnEBk7PgRcficQJZMzevXHJ1Aw5akqfIxnUCbpTV3TlGdQLQPqekSY51A\"},\"shape\":[132],\"dtype\":\"float64\",\"order\":\"little\"}],[\"year_hyphen_minus_mon\",{\"type\":\"ndarray\",\"array\":{\"type\":\"bytes\",\"data\":\"AACA53JeckIAAMA5bWhyQgAAwFpwcXJCAAAArWp7ckIAAICZEoVyQgAAwOsMj3JCAABA2LSYckIAAIAqr6JyQgAAwHyprHJCAABAaVG2ckIAAIC7S8ByQgAAAKjzyXJCAABA+u3TckIAAIBM6N1yQgAAgG3r5nJCAADAv+XwckIAAECsjfpyQgAAgP6HBHNCAAAA6y8Oc0IAAEA9KhhzQgAAgI8kInNCAAAAfMwrc0IAAEDOxjVzQgAAwLpuP3NCAAAADWlJc0IAAEBfY1NzQgAAAOa4XHNCAABAOLNmc0IAAMAkW3BzQgAAAHdVenNCAACAY/2Dc0IAAMC1941zQgAAAAjyl3NCAACA9Jmhc0IAAMBGlKtzQgAAQDM8tXNCAACAhTa/c0IAAMDXMMlzQgAAwPgz0nNCAAAASy7cc0IAAIA31uVzQgAAwInQ73NCAABAdnj5c0IAAIDIcgN0QgAAwBptDXRCAABABxUXdEIAAIBZDyF0QgAAAEa3KnRCAABAmLE0dEIAAIDqqz50QgAAgAuvR3RCAADAXalRdEIAAEBKUVt0QgAAgJxLZXRCAAAAifNudEIAAEDb7Xh0QgAAgC3ognRCAAAAGpCMdEIAAEBsipZ0QgAAwFgyoHRCAAAAqyyqdEIAAED9JrR0QgAAQB4qvXRCAACAcCTHdEIAAABdzNB0QgAAQK/G2nRCAADAm27kdEIAAADuaO50QgAAQEBj+HRCAADALAsCdUIAAAB/BQx1QgAAgGutFXVCAADAvacfdUIAAAAQoil1QgAAwJb3MnVCAAAA6fE8dUIAAIDVmUZ1QgAAwCeUUHVCAABAFDxadUIAAIBmNmR1QgAAwLgwbnVCAABApdh3dUIAAID30oF1QgAAAOR6i3VCAABANnWVdUIAAICIb591QgAAgKlyqHVCAADA+2yydUIAAEDoFLx1QgAAgDoPxnVCAAAAJ7fPdUIAAEB5sdl1QgAAgMur43VCAAAAuFPtdUIAAEAKTvd1QgAAwPb1AHZCAAAASfAKdkIAAECb6hR2QgAAQLztHXZCAACADugndkIAAAD7jzF2QgAAQE2KO3ZCAADAOTJFdkIAAACMLE92QgAAQN4mWXZCAADAys5idkIAAAAdyWx2QgAAgAlxdnZCAADAW2uAdkIAAACuZYp2QgAAAM9ok3ZCAABAIWOddkIAAMANC6d2QgAAAGAFsXZCAACATK26dkIAAMCep8R2QgAAAPGhznZCAACA3UnYdkIAAMAvROJ2QgAAQBzs63ZCAACAbub1dkIAAMDA4P92QgAAgEc2CXdCAADAmTATd0IAAECG2Bx3QgAAgNjSJndCAAAAxXowd0IAAEAXdTp3QgAAgGlvRHdCAAAAVhdOd0IAAECoEVh3QgAAwJS5YXdC\"},\"shape\":[132],\"dtype\":\"float64\",\"order\":\"little\"}],[\"EXP_TYPE\",[\"Housing\",\"Housing\",\"Housing\",\"Housing\",\"Housing\",\"Housing\",\"Housing\",\"Housing\",\"Housing\",\"Housing\",\"Housing\",\"Housing\",\"Housing\",\"Housing\",\"Housing\",\"Housing\",\"Housing\",\"Housing\",\"Housing\",\"Housing\",\"Housing\",\"Housing\",\"Housing\",\"Housing\",\"Housing\",\"Housing\",\"Housing\",\"Housing\",\"Housing\",\"Housing\",\"Housing\",\"Housing\",\"Housing\",\"Housing\",\"Housing\",\"Housing\",\"Housing\",\"Housing\",\"Housing\",\"Housing\",\"Housing\",\"Housing\",\"Housing\",\"Housing\",\"Housing\",\"Housing\",\"Housing\",\"Housing\",\"Housing\",\"Housing\",\"Housing\",\"Housing\",\"Housing\",\"Housing\",\"Housing\",\"Housing\",\"Housing\",\"Housing\",\"Housing\",\"Housing\",\"Housing\",\"Housing\",\"Housing\",\"Housing\",\"Housing\",\"Housing\",\"Housing\",\"Housing\",\"Housing\",\"Housing\",\"Housing\",\"Housing\",\"Housing\",\"Housing\",\"Housing\",\"Housing\",\"Housing\",\"Housing\",\"Housing\",\"Housing\",\"Housing\",\"Housing\",\"Housing\",\"Housing\",\"Housing\",\"Housing\",\"Housing\",\"Housing\",\"Housing\",\"Housing\",\"Housing\",\"Housing\",\"Housing\",\"Housing\",\"Housing\",\"Housing\",\"Housing\",\"Housing\",\"Housing\",\"Housing\",\"Housing\",\"Housing\",\"Housing\",\"Housing\",\"Housing\",\"Housing\",\"Housing\",\"Housing\",\"Housing\",\"Housing\",\"Housing\",\"Housing\",\"Housing\",\"Housing\",\"Housing\",\"Housing\",\"Housing\",\"Housing\",\"Housing\",\"Housing\",\"Housing\",\"Housing\",\"Housing\",\"Housing\",\"Housing\",\"Housing\",\"Housing\",\"Housing\",\"Housing\",\"Housing\",\"Housing\",\"Housing\"]]]}}},\"view\":{\"type\":\"object\",\"name\":\"CDSView\",\"id\":\"e6e08650-dcf9-48f2-ab9a-05073e0cba68\",\"attributes\":{\"filter\":{\"type\":\"object\",\"name\":\"AllIndices\",\"id\":\"6fba63a5-128a-4790-9c3d-196ab9701b32\"}}},\"glyph\":{\"type\":\"object\",\"name\":\"Scatter\",\"id\":\"04736358-2a21-4aad-80f6-c7a06d2639aa\",\"attributes\":{\"tags\":[\"apply_ranges\"],\"x\":{\"type\":\"field\",\"field\":\"year-mon\"},\"y\":{\"type\":\"field\",\"field\":\"AMOUNT\"},\"size\":{\"type\":\"value\",\"value\":5.477225575051661},\"line_color\":{\"type\":\"value\",\"value\":\"#e377c2\"},\"fill_color\":{\"type\":\"value\",\"value\":\"#e377c2\"},\"hatch_color\":{\"type\":\"value\",\"value\":\"#e377c2\"}}},\"selection_glyph\":{\"type\":\"object\",\"name\":\"Scatter\",\"id\":\"7e335b93-3ddd-4dc8-9d6d-902c711d1b9f\",\"attributes\":{\"tags\":[\"apply_ranges\"],\"x\":{\"type\":\"field\",\"field\":\"year-mon\"},\"y\":{\"type\":\"field\",\"field\":\"AMOUNT\"},\"size\":{\"type\":\"value\",\"value\":5.477225575051661},\"angle\":{\"type\":\"value\",\"value\":0.0},\"line_color\":{\"type\":\"value\",\"value\":\"#e377c2\"},\"line_alpha\":{\"type\":\"value\",\"value\":1.0},\"line_width\":{\"type\":\"value\",\"value\":1},\"line_join\":{\"type\":\"value\",\"value\":\"bevel\"},\"line_cap\":{\"type\":\"value\",\"value\":\"butt\"},\"line_dash\":{\"type\":\"value\",\"value\":[]},\"line_dash_offset\":{\"type\":\"value\",\"value\":0},\"fill_color\":{\"type\":\"value\",\"value\":\"#e377c2\"},\"fill_alpha\":{\"type\":\"value\",\"value\":1.0},\"hatch_color\":{\"type\":\"value\",\"value\":\"#e377c2\"},\"hatch_alpha\":{\"type\":\"value\",\"value\":1.0},\"hatch_scale\":{\"type\":\"value\",\"value\":12.0},\"hatch_pattern\":{\"type\":\"value\",\"value\":null},\"hatch_weight\":{\"type\":\"value\",\"value\":1.0},\"marker\":{\"type\":\"value\",\"value\":\"circle\"}}},\"nonselection_glyph\":{\"type\":\"object\",\"name\":\"Scatter\",\"id\":\"3b6f0f7f-743c-4783-9d1b-a6a8d136f3ff\",\"attributes\":{\"tags\":[\"apply_ranges\"],\"x\":{\"type\":\"field\",\"field\":\"year-mon\"},\"y\":{\"type\":\"field\",\"field\":\"AMOUNT\"},\"size\":{\"type\":\"value\",\"value\":5.477225575051661},\"line_color\":{\"type\":\"value\",\"value\":\"#e377c2\"},\"line_alpha\":{\"type\":\"value\",\"value\":0.1},\"fill_color\":{\"type\":\"value\",\"value\":\"#e377c2\"},\"fill_alpha\":{\"type\":\"value\",\"value\":0.1},\"hatch_color\":{\"type\":\"value\",\"value\":\"#e377c2\"},\"hatch_alpha\":{\"type\":\"value\",\"value\":0.1}}},\"muted_glyph\":{\"type\":\"object\",\"name\":\"Scatter\",\"id\":\"a3b8e544-054f-4e12-bd77-36372845d8cb\",\"attributes\":{\"tags\":[\"apply_ranges\"],\"x\":{\"type\":\"field\",\"field\":\"year-mon\"},\"y\":{\"type\":\"field\",\"field\":\"AMOUNT\"},\"size\":{\"type\":\"value\",\"value\":5.477225575051661},\"line_color\":{\"type\":\"value\",\"value\":\"#e377c2\"},\"line_alpha\":{\"type\":\"value\",\"value\":0.2},\"fill_color\":{\"type\":\"value\",\"value\":\"#e377c2\"},\"fill_alpha\":{\"type\":\"value\",\"value\":0.2},\"hatch_color\":{\"type\":\"value\",\"value\":\"#e377c2\"},\"hatch_alpha\":{\"type\":\"value\",\"value\":0.2}}}}},{\"type\":\"object\",\"name\":\"GlyphRenderer\",\"id\":\"cd63112a-bb75-43cb-ae25-55aaded61f1a\",\"attributes\":{\"name\":\"Entertainment\",\"data_source\":{\"type\":\"object\",\"name\":\"ColumnDataSource\",\"id\":\"c443515f-6acb-4fd0-a6b9-4217af6d27db\",\"attributes\":{\"selected\":{\"type\":\"object\",\"name\":\"Selection\",\"id\":\"212dbdf5-f643-4989-a3ac-2dd4539e8d9c\",\"attributes\":{\"indices\":[],\"line_indices\":[]}},\"selection_policy\":{\"type\":\"object\",\"name\":\"UnionRenderers\",\"id\":\"df090d41-7c22-4046-81c1-6c915a45a6f9\"},\"data\":{\"type\":\"map\",\"entries\":[[\"year-mon\",{\"type\":\"ndarray\",\"array\":{\"type\":\"bytes\",\"data\":\"AACA53JeckIAAMA5bWhyQgAAwFpwcXJCAAAArWp7ckIAAICZEoVyQgAAwOsMj3JCAABA2LSYckIAAIAqr6JyQgAAwHyprHJCAABAaVG2ckIAAIC7S8ByQgAAAKjzyXJCAABA+u3TckIAAIBM6N1yQgAAgG3r5nJCAADAv+XwckIAAECsjfpyQgAAgP6HBHNCAAAA6y8Oc0IAAEA9KhhzQgAAgI8kInNCAAAAfMwrc0IAAEDOxjVzQgAAwLpuP3NCAAAADWlJc0IAAEBfY1NzQgAAAOa4XHNCAABAOLNmc0IAAMAkW3BzQgAAAHdVenNCAACAY/2Dc0IAAMC1941zQgAAAAjyl3NCAACA9Jmhc0IAAMBGlKtzQgAAQDM8tXNCAACAhTa/c0IAAMDXMMlzQgAAwPgz0nNCAAAASy7cc0IAAIA31uVzQgAAwInQ73NCAABAdnj5c0IAAIDIcgN0QgAAwBptDXRCAABABxUXdEIAAIBZDyF0QgAAAEa3KnRCAABAmLE0dEIAAIDqqz50QgAAgAuvR3RCAADAXalRdEIAAEBKUVt0QgAAgJxLZXRCAAAAifNudEIAAEDb7Xh0QgAAgC3ognRCAAAAGpCMdEIAAEBsipZ0QgAAwFgyoHRCAAAAqyyqdEIAAED9JrR0QgAAQB4qvXRCAACAcCTHdEIAAABdzNB0QgAAQK/G2nRCAADAm27kdEIAAADuaO50QgAAQEBj+HRCAADALAsCdUIAAAB/BQx1QgAAgGutFXVCAADAvacfdUIAAAAQoil1QgAAwJb3MnVCAAAA6fE8dUIAAIDVmUZ1QgAAwCeUUHVCAABAFDxadUIAAIBmNmR1QgAAwLgwbnVCAABApdh3dUIAAID30oF1QgAAAOR6i3VCAABANnWVdUIAAICIb591QgAAgKlyqHVCAADA+2yydUIAAEDoFLx1QgAAgDoPxnVCAAAAJ7fPdUIAAEB5sdl1QgAAgMur43VCAAAAuFPtdUIAAEAKTvd1QgAAwPb1AHZCAAAASfAKdkIAAECb6hR2QgAAQLztHXZCAACADugndkIAAAD7jzF2QgAAQE2KO3ZCAADAOTJFdkIAAACMLE92QgAAQN4mWXZCAADAys5idkIAAAAdyWx2QgAAgAlxdnZCAADAW2uAdkIAAACuZYp2QgAAAM9ok3ZCAABAIWOddkIAAMANC6d2QgAAAGAFsXZCAACATK26dkIAAMCep8R2QgAAAPGhznZCAACA3UnYdkIAAMAvROJ2QgAAQBzs63ZCAACAbub1dkIAAMDA4P92QgAAgEc2CXdCAADAmTATd0IAAECG2Bx3QgAAgNjSJndCAAAAxXowd0IAAEAXdTp3QgAAgGlvRHdCAAAAVhdOd0IAAECoEVh3QgAAwJS5YXdC\"},\"shape\":[132],\"dtype\":\"float64\",\"order\":\"little\"}],[\"AMOUNT\",{\"type\":\"ndarray\",\"array\":{\"type\":\"bytes\",\"data\":\"EAUPp2sXNEBvGetJGVkzQHDCk5wunzRAJ0I08DRiNEC9N6dKHPU0QC+rLbMkmDRAUEWtLVy/NECIdjvoebU0QPinY8x2azRANDve6xTRNkCc5S9qv+k4QIAzUMTpDjtAMfTQJRFnNEATJ4Fnu5w0QJfis4Y/3zRA0ebg9125NECwaG+2z/g0QEFOXlxGxTRAUtCBiWacNEAdsufZKdo0QM5o+oDN7TRAVJryxzQBN0CQiFJiNSk5QJHhq1jWWjtA2Watn2H8NEC+2Y7YQNM0QJVau7oACTVA6ifgbEv+NEDB1XsXGhs1QB8y50Q1DDVAhnQXrok5NUCHe9bEuBg1QDyvL0lUKDVAcyORqlR6N0CDNn9FBVI5QHVZuyYcjztA8gNu8+ggNUCu7GKofUw1QDxqNnHKYjVAPoTIUSxaNUAzA4yJRWE1QOzLcHG1ZTVAxBx/S0GoNUDsqF6/ZJg1QJBB3DuFgzVA8+Yc8BXZN0C78/p+TQI6QA8HcambQTxA3F8uXM6PNUA0xcHHyL41QP7PKBQruzVAWeYRDALJNUDc3AtkeqY1QJBT6S3l2DVADIAhJJfvNUBYaWKHo9c1QODNzMRH5zVAdFZtGAk+OECatm7XS4c6QE13XsdCqzxA6U4CpAvuNUBS3+YWiig2QGyy3FvgODZAuNrzZu9SNkA7ortpuTQ2QLg/Am2hSTZAK8LU/W5VNkCc2U2gn2M2QCjKSR2PbzZAGbbt51CZOEAP8tMxcOs6QMWouQnpSj1AXtQOlWehNkBd50PxJZA2QDX6Nq91pTZA6VkvJlaiNkAzwdwiBZ42QK6t3MDyujZA7RIcTgHPNkA5mYhIRdg2QK8IHagszjZAZpnQE40hOUAqyVbuCoE7QDyfOA2A3z1ACK32xz0IN0CMfSvkiQM3QIbtmJ6L+jZAde0+Kz0WN0A8jCW2hAY3QN0ysVUoFDdAomSiOWcaN0BIrl+ibw83QN7y48uTTzdAaH7U1fyUOUALWe+NOOw7QD4/l52WVT5A3wiXIl5WN0CtOSZNDWo3QNfNBlKiXjdAoxJx7oSJN0A9Qo699J03QFBn4AOufjdAG+bw/WODN0CNpCK8/I43QPhDdhkGtjdAzZnB8pfoOUAXQFlZR2A8QBsNe4/z4z5A5hf98pvcN0C5zlYQwOc3QDVwD7pnvDdAxjGJoY3kN0COv5kAcuY3QIRjESvy+TdA/8+/Ioj9N0CIK+N92hQ4QJ8aglVu9jdAOT3XatuuOkDpGgVOHQU9QFWYE78UjT9AoxNnoRJJOEDuPor5IVI4QFVlti/QUThAJewz0Mc9OEAfKDmf1Xk4QIr+BXzQaThAlEQxRjxiOECjmbKlMHc4QFlL2u8XozhAUbiX9AIlO0DtgxstGrY9QGMJviVFAUBA\"},\"shape\":[132],\"dtype\":\"float64\",\"order\":\"little\"}],[\"year_hyphen_minus_mon\",{\"type\":\"ndarray\",\"array\":{\"type\":\"bytes\",\"data\":\"AACA53JeckIAAMA5bWhyQgAAwFpwcXJCAAAArWp7ckIAAICZEoVyQgAAwOsMj3JCAABA2LSYckIAAIAqr6JyQgAAwHyprHJCAABAaVG2ckIAAIC7S8ByQgAAAKjzyXJCAABA+u3TckIAAIBM6N1yQgAAgG3r5nJCAADAv+XwckIAAECsjfpyQgAAgP6HBHNCAAAA6y8Oc0IAAEA9KhhzQgAAgI8kInNCAAAAfMwrc0IAAEDOxjVzQgAAwLpuP3NCAAAADWlJc0IAAEBfY1NzQgAAAOa4XHNCAABAOLNmc0IAAMAkW3BzQgAAAHdVenNCAACAY/2Dc0IAAMC1941zQgAAAAjyl3NCAACA9Jmhc0IAAMBGlKtzQgAAQDM8tXNCAACAhTa/c0IAAMDXMMlzQgAAwPgz0nNCAAAASy7cc0IAAIA31uVzQgAAwInQ73NCAABAdnj5c0IAAIDIcgN0QgAAwBptDXRCAABABxUXdEIAAIBZDyF0QgAAAEa3KnRCAABAmLE0dEIAAIDqqz50QgAAgAuvR3RCAADAXalRdEIAAEBKUVt0QgAAgJxLZXRCAAAAifNudEIAAEDb7Xh0QgAAgC3ognRCAAAAGpCMdEIAAEBsipZ0QgAAwFgyoHRCAAAAqyyqdEIAAED9JrR0QgAAQB4qvXRCAACAcCTHdEIAAABdzNB0QgAAQK/G2nRCAADAm27kdEIAAADuaO50QgAAQEBj+HRCAADALAsCdUIAAAB/BQx1QgAAgGutFXVCAADAvacfdUIAAAAQoil1QgAAwJb3MnVCAAAA6fE8dUIAAIDVmUZ1QgAAwCeUUHVCAABAFDxadUIAAIBmNmR1QgAAwLgwbnVCAABApdh3dUIAAID30oF1QgAAAOR6i3VCAABANnWVdUIAAICIb591QgAAgKlyqHVCAADA+2yydUIAAEDoFLx1QgAAgDoPxnVCAAAAJ7fPdUIAAEB5sdl1QgAAgMur43VCAAAAuFPtdUIAAEAKTvd1QgAAwPb1AHZCAAAASfAKdkIAAECb6hR2QgAAQLztHXZCAACADugndkIAAAD7jzF2QgAAQE2KO3ZCAADAOTJFdkIAAACMLE92QgAAQN4mWXZCAADAys5idkIAAAAdyWx2QgAAgAlxdnZCAADAW2uAdkIAAACuZYp2QgAAAM9ok3ZCAABAIWOddkIAAMANC6d2QgAAAGAFsXZCAACATK26dkIAAMCep8R2QgAAAPGhznZCAACA3UnYdkIAAMAvROJ2QgAAQBzs63ZCAACAbub1dkIAAMDA4P92QgAAgEc2CXdCAADAmTATd0IAAECG2Bx3QgAAgNjSJndCAAAAxXowd0IAAEAXdTp3QgAAgGlvRHdCAAAAVhdOd0IAAECoEVh3QgAAwJS5YXdC\"},\"shape\":[132],\"dtype\":\"float64\",\"order\":\"little\"}],[\"EXP_TYPE\",[\"Entertainment\",\"Entertainment\",\"Entertainment\",\"Entertainment\",\"Entertainment\",\"Entertainment\",\"Entertainment\",\"Entertainment\",\"Entertainment\",\"Entertainment\",\"Entertainment\",\"Entertainment\",\"Entertainment\",\"Entertainment\",\"Entertainment\",\"Entertainment\",\"Entertainment\",\"Entertainment\",\"Entertainment\",\"Entertainment\",\"Entertainment\",\"Entertainment\",\"Entertainment\",\"Entertainment\",\"Entertainment\",\"Entertainment\",\"Entertainment\",\"Entertainment\",\"Entertainment\",\"Entertainment\",\"Entertainment\",\"Entertainment\",\"Entertainment\",\"Entertainment\",\"Entertainment\",\"Entertainment\",\"Entertainment\",\"Entertainment\",\"Entertainment\",\"Entertainment\",\"Entertainment\",\"Entertainment\",\"Entertainment\",\"Entertainment\",\"Entertainment\",\"Entertainment\",\"Entertainment\",\"Entertainment\",\"Entertainment\",\"Entertainment\",\"Entertainment\",\"Entertainment\",\"Entertainment\",\"Entertainment\",\"Entertainment\",\"Entertainment\",\"Entertainment\",\"Entertainment\",\"Entertainment\",\"Entertainment\",\"Entertainment\",\"Entertainment\",\"Entertainment\",\"Entertainment\",\"Entertainment\",\"Entertainment\",\"Entertainment\",\"Entertainment\",\"Entertainment\",\"Entertainment\",\"Entertainment\",\"Entertainment\",\"Entertainment\",\"Entertainment\",\"Entertainment\",\"Entertainment\",\"Entertainment\",\"Entertainment\",\"Entertainment\",\"Entertainment\",\"Entertainment\",\"Entertainment\",\"Entertainment\",\"Entertainment\",\"Entertainment\",\"Entertainment\",\"Entertainment\",\"Entertainment\",\"Entertainment\",\"Entertainment\",\"Entertainment\",\"Entertainment\",\"Entertainment\",\"Entertainment\",\"Entertainment\",\"Entertainment\",\"Entertainment\",\"Entertainment\",\"Entertainment\",\"Entertainment\",\"Entertainment\",\"Entertainment\",\"Entertainment\",\"Entertainment\",\"Entertainment\",\"Entertainment\",\"Entertainment\",\"Entertainment\",\"Entertainment\",\"Entertainment\",\"Entertainment\",\"Entertainment\",\"Entertainment\",\"Entertainment\",\"Entertainment\",\"Entertainment\",\"Entertainment\",\"Entertainment\",\"Entertainment\",\"Entertainment\",\"Entertainment\",\"Entertainment\",\"Entertainment\",\"Entertainment\",\"Entertainment\",\"Entertainment\",\"Entertainment\",\"Entertainment\",\"Entertainment\",\"Entertainment\",\"Entertainment\",\"Entertainment\"]]]}}},\"view\":{\"type\":\"object\",\"name\":\"CDSView\",\"id\":\"6ba7e65a-70fe-439e-bc51-7b3594985e96\",\"attributes\":{\"filter\":{\"type\":\"object\",\"name\":\"AllIndices\",\"id\":\"a65c6e19-e872-490c-8ad1-da6034db2d71\"}}},\"glyph\":{\"type\":\"object\",\"name\":\"Scatter\",\"id\":\"cd2073c5-e32c-4998-a787-5894a7ec262f\",\"attributes\":{\"tags\":[\"apply_ranges\"],\"x\":{\"type\":\"field\",\"field\":\"year-mon\"},\"y\":{\"type\":\"field\",\"field\":\"AMOUNT\"},\"size\":{\"type\":\"value\",\"value\":5.477225575051661},\"line_color\":{\"type\":\"value\",\"value\":\"#8c564b\"},\"fill_color\":{\"type\":\"value\",\"value\":\"#8c564b\"},\"hatch_color\":{\"type\":\"value\",\"value\":\"#8c564b\"}}},\"selection_glyph\":{\"type\":\"object\",\"name\":\"Scatter\",\"id\":\"75816680-d7ab-456f-af17-297b660a2e03\",\"attributes\":{\"tags\":[\"apply_ranges\"],\"x\":{\"type\":\"field\",\"field\":\"year-mon\"},\"y\":{\"type\":\"field\",\"field\":\"AMOUNT\"},\"size\":{\"type\":\"value\",\"value\":5.477225575051661},\"angle\":{\"type\":\"value\",\"value\":0.0},\"line_color\":{\"type\":\"value\",\"value\":\"#8c564b\"},\"line_alpha\":{\"type\":\"value\",\"value\":1.0},\"line_width\":{\"type\":\"value\",\"value\":1},\"line_join\":{\"type\":\"value\",\"value\":\"bevel\"},\"line_cap\":{\"type\":\"value\",\"value\":\"butt\"},\"line_dash\":{\"type\":\"value\",\"value\":[]},\"line_dash_offset\":{\"type\":\"value\",\"value\":0},\"fill_color\":{\"type\":\"value\",\"value\":\"#8c564b\"},\"fill_alpha\":{\"type\":\"value\",\"value\":1.0},\"hatch_color\":{\"type\":\"value\",\"value\":\"#8c564b\"},\"hatch_alpha\":{\"type\":\"value\",\"value\":1.0},\"hatch_scale\":{\"type\":\"value\",\"value\":12.0},\"hatch_pattern\":{\"type\":\"value\",\"value\":null},\"hatch_weight\":{\"type\":\"value\",\"value\":1.0},\"marker\":{\"type\":\"value\",\"value\":\"circle\"}}},\"nonselection_glyph\":{\"type\":\"object\",\"name\":\"Scatter\",\"id\":\"97a8ec6f-7af8-4fc0-8161-71efdf0682ad\",\"attributes\":{\"tags\":[\"apply_ranges\"],\"x\":{\"type\":\"field\",\"field\":\"year-mon\"},\"y\":{\"type\":\"field\",\"field\":\"AMOUNT\"},\"size\":{\"type\":\"value\",\"value\":5.477225575051661},\"line_color\":{\"type\":\"value\",\"value\":\"#8c564b\"},\"line_alpha\":{\"type\":\"value\",\"value\":0.1},\"fill_color\":{\"type\":\"value\",\"value\":\"#8c564b\"},\"fill_alpha\":{\"type\":\"value\",\"value\":0.1},\"hatch_color\":{\"type\":\"value\",\"value\":\"#8c564b\"},\"hatch_alpha\":{\"type\":\"value\",\"value\":0.1}}},\"muted_glyph\":{\"type\":\"object\",\"name\":\"Scatter\",\"id\":\"daef7e90-8774-4f53-8ec9-bc0d9233944a\",\"attributes\":{\"tags\":[\"apply_ranges\"],\"x\":{\"type\":\"field\",\"field\":\"year-mon\"},\"y\":{\"type\":\"field\",\"field\":\"AMOUNT\"},\"size\":{\"type\":\"value\",\"value\":5.477225575051661},\"line_color\":{\"type\":\"value\",\"value\":\"#8c564b\"},\"line_alpha\":{\"type\":\"value\",\"value\":0.2},\"fill_color\":{\"type\":\"value\",\"value\":\"#8c564b\"},\"fill_alpha\":{\"type\":\"value\",\"value\":0.2},\"hatch_color\":{\"type\":\"value\",\"value\":\"#8c564b\"},\"hatch_alpha\":{\"type\":\"value\",\"value\":0.2}}}}},{\"type\":\"object\",\"name\":\"GlyphRenderer\",\"id\":\"8cfe0025-3d20-4d5c-8907-4a22fad9e8d8\",\"attributes\":{\"name\":\"Savings\",\"data_source\":{\"type\":\"object\",\"name\":\"ColumnDataSource\",\"id\":\"84020f53-9f3f-4180-a6d5-c241947a7fc6\",\"attributes\":{\"selected\":{\"type\":\"object\",\"name\":\"Selection\",\"id\":\"98a4e4fd-83ac-424b-a05b-9803b7567db4\",\"attributes\":{\"indices\":[],\"line_indices\":[]}},\"selection_policy\":{\"type\":\"object\",\"name\":\"UnionRenderers\",\"id\":\"aa67bc96-295d-4c83-9514-22dd2dfb2e0a\"},\"data\":{\"type\":\"map\",\"entries\":[[\"year-mon\",{\"type\":\"ndarray\",\"array\":{\"type\":\"bytes\",\"data\":\"AACA53JeckIAAMA5bWhyQgAAwFpwcXJCAAAArWp7ckIAAICZEoVyQgAAwOsMj3JCAABA2LSYckIAAIAqr6JyQgAAwHyprHJCAABAaVG2ckIAAIC7S8ByQgAAAKjzyXJCAABA+u3TckIAAIBM6N1yQgAAgG3r5nJCAADAv+XwckIAAECsjfpyQgAAgP6HBHNCAAAA6y8Oc0IAAEA9KhhzQgAAgI8kInNCAAAAfMwrc0IAAEDOxjVzQgAAwLpuP3NCAAAADWlJc0IAAEBfY1NzQgAAAOa4XHNCAABAOLNmc0IAAMAkW3BzQgAAAHdVenNCAACAY/2Dc0IAAMC1941zQgAAAAjyl3NCAACA9Jmhc0IAAMBGlKtzQgAAQDM8tXNCAACAhTa/c0IAAMDXMMlzQgAAwPgz0nNCAAAASy7cc0IAAIA31uVzQgAAwInQ73NCAABAdnj5c0IAAIDIcgN0QgAAwBptDXRCAABABxUXdEIAAIBZDyF0QgAAAEa3KnRCAABAmLE0dEIAAIDqqz50QgAAgAuvR3RCAADAXalRdEIAAEBKUVt0QgAAgJxLZXRCAAAAifNudEIAAEDb7Xh0QgAAgC3ognRCAAAAGpCMdEIAAEBsipZ0QgAAwFgyoHRCAAAAqyyqdEIAAED9JrR0QgAAQB4qvXRCAACAcCTHdEIAAABdzNB0QgAAQK/G2nRCAADAm27kdEIAAADuaO50QgAAQEBj+HRCAADALAsCdUIAAAB/BQx1QgAAgGutFXVCAADAvacfdUIAAAAQoil1QgAAwJb3MnVCAAAA6fE8dUIAAIDVmUZ1QgAAwCeUUHVCAABAFDxadUIAAIBmNmR1QgAAwLgwbnVCAABApdh3dUIAAID30oF1QgAAAOR6i3VCAABANnWVdUIAAICIb591QgAAgKlyqHVCAADA+2yydUIAAEDoFLx1QgAAgDoPxnVCAAAAJ7fPdUIAAEB5sdl1QgAAgMur43VCAAAAuFPtdUIAAEAKTvd1QgAAwPb1AHZCAAAASfAKdkIAAECb6hR2QgAAQLztHXZCAACADugndkIAAAD7jzF2QgAAQE2KO3ZCAADAOTJFdkIAAACMLE92QgAAQN4mWXZCAADAys5idkIAAAAdyWx2QgAAgAlxdnZCAADAW2uAdkIAAACuZYp2QgAAAM9ok3ZCAABAIWOddkIAAMANC6d2QgAAAGAFsXZCAACATK26dkIAAMCep8R2QgAAAPGhznZCAACA3UnYdkIAAMAvROJ2QgAAQBzs63ZCAACAbub1dkIAAMDA4P92QgAAgEc2CXdCAADAmTATd0IAAECG2Bx3QgAAgNjSJndCAAAAxXowd0IAAEAXdTp3QgAAgGlvRHdCAAAAVhdOd0IAAECoEVh3QgAAwJS5YXdC\"},\"shape\":[132],\"dtype\":\"float64\",\"order\":\"little\"}],[\"AMOUNT\",{\"type\":\"ndarray\",\"array\":{\"type\":\"bytes\",\"data\":\"wjx+0M5oa0AHxOovstlqQCx6qyp+zWtA0C8ETrHLbEAanER98B9uQMCXvAByXW1AiiFQ3AMkbEDM0It4QvJrQLJ+rc1DEWxAJfKVvwvya0At8Xm4mJtsQLGwEPwN1WxAJsky2l9ebEDsWoL5CMtrQHExaRWTAGxAzLzTyRvta0DYNnT5imRsQIqnbTxZomxApac0aPMYbECCrV2eAYprQJvEy0ARMWxACv5J4C+7a0DGaCAXtQJsQLdTBXLrWmxAJJQ67khibEAyPE5g8q1rQO9CJoikBWxASE3tfJbGa0Af+VmFtNZrQHTxNjoWvmtAbKPKy7Kba0D3NfutyqRrQLh8F/m5tmtA2C8PSDmqa0D27Q48iWhrQCyUsUrxpWtAyAPE6jpza0BRIavrdQ1sQKkH0V8/+WtA/dZ0c8fLa0B9MJzBj5trQIIY2Ifb82tAaZzj9c0gbEAHIYpZZ85rQFULyIDIzmtAlrtTHUeba0Aeo89RY7trQNe5gN142mtAtBGnrOi9a0AvwFv+XeprQOWKLmEYx2tA8u/YIR/La0DlgEkloftrQDSr13eV5mtACuppX8Dya0DcZjK4hQNsQDnqNBk8BGxA1faAFbbva0BMcmeOQ+1rQN+Q9cs5AWxAkdZSodLua0CjeqtTd/5rQPbQu1ZZ6mtABirRASc1bEAWa4vx5StsQE5iKWvxHWxA8bcLyRofbEBrB6lsPM1rQLf+8xFM/2tAt7P5m0Pqa0BUJI/vyu5rQIepd4md9mtAT7DgN+Tia0DmD+TS1zRsQGwC2ihuAGxAvk5AE2ELbEDJTFNe7BdsQNQLb2zqG2xAYfGKi3Tya0D7DWH3hSBsQCOUvKaK2WtAofFOgXFPbEB0+P3xv0ZsQBHVSVm5J2xAuxiFR7YKbEDdpAEqThxsQMz0p8yAEGxAL7vsaKT6a0B3u/FKohNsQCXZwh9+M2xALPhA5KQPbEA/cshJHQlsQIiY/tXWF2xAs/Vcci/Ya0AGQmrLn/RrQE4SPqTd92tAD5T8GPkRbEA37eBKlAxsQGFbctWHF2xAWkzoTNkgbECq2n+D9tNrQEdSHfO9FmxAonRf4+bda0AUZjfgm+VrQDi1zPFf02tAPYLHkZ24a0DOQzaK0s9rQNOLTUam3WtABkN94jrza0Db8vFhY65rQMm/WIz11GtA8jH1WIa5a0Bk/LAMAqlrQPAdueVj32tA1tIBwRkJbEDwQjmyKaxrQLtAgKebxGtAxvwaKh3Sa0CrH6LBbbhrQH+BM3Mwo2tAp1Muxxb+a0CbPAkhXL5rQO+ac+V7q2tALQUvkt6za0Cu1/02ksRrQLdul8hF2GtAw6gfbXqta0BjOzBwWLBrQLq0dV/A1mtAbnJ8WjeRa0Dx12T8UMJrQNf0o2S3umtA\"},\"shape\":[132],\"dtype\":\"float64\",\"order\":\"little\"}],[\"year_hyphen_minus_mon\",{\"type\":\"ndarray\",\"array\":{\"type\":\"bytes\",\"data\":\"AACA53JeckIAAMA5bWhyQgAAwFpwcXJCAAAArWp7ckIAAICZEoVyQgAAwOsMj3JCAABA2LSYckIAAIAqr6JyQgAAwHyprHJCAABAaVG2ckIAAIC7S8ByQgAAAKjzyXJCAABA+u3TckIAAIBM6N1yQgAAgG3r5nJCAADAv+XwckIAAECsjfpyQgAAgP6HBHNCAAAA6y8Oc0IAAEA9KhhzQgAAgI8kInNCAAAAfMwrc0IAAEDOxjVzQgAAwLpuP3NCAAAADWlJc0IAAEBfY1NzQgAAAOa4XHNCAABAOLNmc0IAAMAkW3BzQgAAAHdVenNCAACAY/2Dc0IAAMC1941zQgAAAAjyl3NCAACA9Jmhc0IAAMBGlKtzQgAAQDM8tXNCAACAhTa/c0IAAMDXMMlzQgAAwPgz0nNCAAAASy7cc0IAAIA31uVzQgAAwInQ73NCAABAdnj5c0IAAIDIcgN0QgAAwBptDXRCAABABxUXdEIAAIBZDyF0QgAAAEa3KnRCAABAmLE0dEIAAIDqqz50QgAAgAuvR3RCAADAXalRdEIAAEBKUVt0QgAAgJxLZXRCAAAAifNudEIAAEDb7Xh0QgAAgC3ognRCAAAAGpCMdEIAAEBsipZ0QgAAwFgyoHRCAAAAqyyqdEIAAED9JrR0QgAAQB4qvXRCAACAcCTHdEIAAABdzNB0QgAAQK/G2nRCAADAm27kdEIAAADuaO50QgAAQEBj+HRCAADALAsCdUIAAAB/BQx1QgAAgGutFXVCAADAvacfdUIAAAAQoil1QgAAwJb3MnVCAAAA6fE8dUIAAIDVmUZ1QgAAwCeUUHVCAABAFDxadUIAAIBmNmR1QgAAwLgwbnVCAABApdh3dUIAAID30oF1QgAAAOR6i3VCAABANnWVdUIAAICIb591QgAAgKlyqHVCAADA+2yydUIAAEDoFLx1QgAAgDoPxnVCAAAAJ7fPdUIAAEB5sdl1QgAAgMur43VCAAAAuFPtdUIAAEAKTvd1QgAAwPb1AHZCAAAASfAKdkIAAECb6hR2QgAAQLztHXZCAACADugndkIAAAD7jzF2QgAAQE2KO3ZCAADAOTJFdkIAAACMLE92QgAAQN4mWXZCAADAys5idkIAAAAdyWx2QgAAgAlxdnZCAADAW2uAdkIAAACuZYp2QgAAAM9ok3ZCAABAIWOddkIAAMANC6d2QgAAAGAFsXZCAACATK26dkIAAMCep8R2QgAAAPGhznZCAACA3UnYdkIAAMAvROJ2QgAAQBzs63ZCAACAbub1dkIAAMDA4P92QgAAgEc2CXdCAADAmTATd0IAAECG2Bx3QgAAgNjSJndCAAAAxXowd0IAAEAXdTp3QgAAgGlvRHdCAAAAVhdOd0IAAECoEVh3QgAAwJS5YXdC\"},\"shape\":[132],\"dtype\":\"float64\",\"order\":\"little\"}],[\"EXP_TYPE\",[\"Savings\",\"Savings\",\"Savings\",\"Savings\",\"Savings\",\"Savings\",\"Savings\",\"Savings\",\"Savings\",\"Savings\",\"Savings\",\"Savings\",\"Savings\",\"Savings\",\"Savings\",\"Savings\",\"Savings\",\"Savings\",\"Savings\",\"Savings\",\"Savings\",\"Savings\",\"Savings\",\"Savings\",\"Savings\",\"Savings\",\"Savings\",\"Savings\",\"Savings\",\"Savings\",\"Savings\",\"Savings\",\"Savings\",\"Savings\",\"Savings\",\"Savings\",\"Savings\",\"Savings\",\"Savings\",\"Savings\",\"Savings\",\"Savings\",\"Savings\",\"Savings\",\"Savings\",\"Savings\",\"Savings\",\"Savings\",\"Savings\",\"Savings\",\"Savings\",\"Savings\",\"Savings\",\"Savings\",\"Savings\",\"Savings\",\"Savings\",\"Savings\",\"Savings\",\"Savings\",\"Savings\",\"Savings\",\"Savings\",\"Savings\",\"Savings\",\"Savings\",\"Savings\",\"Savings\",\"Savings\",\"Savings\",\"Savings\",\"Savings\",\"Savings\",\"Savings\",\"Savings\",\"Savings\",\"Savings\",\"Savings\",\"Savings\",\"Savings\",\"Savings\",\"Savings\",\"Savings\",\"Savings\",\"Savings\",\"Savings\",\"Savings\",\"Savings\",\"Savings\",\"Savings\",\"Savings\",\"Savings\",\"Savings\",\"Savings\",\"Savings\",\"Savings\",\"Savings\",\"Savings\",\"Savings\",\"Savings\",\"Savings\",\"Savings\",\"Savings\",\"Savings\",\"Savings\",\"Savings\",\"Savings\",\"Savings\",\"Savings\",\"Savings\",\"Savings\",\"Savings\",\"Savings\",\"Savings\",\"Savings\",\"Savings\",\"Savings\",\"Savings\",\"Savings\",\"Savings\",\"Savings\",\"Savings\",\"Savings\",\"Savings\",\"Savings\",\"Savings\",\"Savings\",\"Savings\",\"Savings\",\"Savings\",\"Savings\",\"Savings\"]]]}}},\"view\":{\"type\":\"object\",\"name\":\"CDSView\",\"id\":\"ce1a7c2a-c45c-4e36-b075-7dce117f58a6\",\"attributes\":{\"filter\":{\"type\":\"object\",\"name\":\"AllIndices\",\"id\":\"ffa04d18-8a90-4bed-b595-1a75ce087341\"}}},\"glyph\":{\"type\":\"object\",\"name\":\"Scatter\",\"id\":\"278bbf15-d8ca-4ec9-a3f0-02713bff7959\",\"attributes\":{\"tags\":[\"apply_ranges\"],\"x\":{\"type\":\"field\",\"field\":\"year-mon\"},\"y\":{\"type\":\"field\",\"field\":\"AMOUNT\"},\"size\":{\"type\":\"value\",\"value\":5.477225575051661},\"line_color\":{\"type\":\"value\",\"value\":\"#bcbd22\"},\"fill_color\":{\"type\":\"value\",\"value\":\"#bcbd22\"},\"hatch_color\":{\"type\":\"value\",\"value\":\"#bcbd22\"}}},\"selection_glyph\":{\"type\":\"object\",\"name\":\"Scatter\",\"id\":\"104a04ee-4ea8-4ea2-8a43-b81984dcc620\",\"attributes\":{\"tags\":[\"apply_ranges\"],\"x\":{\"type\":\"field\",\"field\":\"year-mon\"},\"y\":{\"type\":\"field\",\"field\":\"AMOUNT\"},\"size\":{\"type\":\"value\",\"value\":5.477225575051661},\"angle\":{\"type\":\"value\",\"value\":0.0},\"line_color\":{\"type\":\"value\",\"value\":\"#bcbd22\"},\"line_alpha\":{\"type\":\"value\",\"value\":1.0},\"line_width\":{\"type\":\"value\",\"value\":1},\"line_join\":{\"type\":\"value\",\"value\":\"bevel\"},\"line_cap\":{\"type\":\"value\",\"value\":\"butt\"},\"line_dash\":{\"type\":\"value\",\"value\":[]},\"line_dash_offset\":{\"type\":\"value\",\"value\":0},\"fill_color\":{\"type\":\"value\",\"value\":\"#bcbd22\"},\"fill_alpha\":{\"type\":\"value\",\"value\":1.0},\"hatch_color\":{\"type\":\"value\",\"value\":\"#bcbd22\"},\"hatch_alpha\":{\"type\":\"value\",\"value\":1.0},\"hatch_scale\":{\"type\":\"value\",\"value\":12.0},\"hatch_pattern\":{\"type\":\"value\",\"value\":null},\"hatch_weight\":{\"type\":\"value\",\"value\":1.0},\"marker\":{\"type\":\"value\",\"value\":\"circle\"}}},\"nonselection_glyph\":{\"type\":\"object\",\"name\":\"Scatter\",\"id\":\"a195fc45-4131-486e-a7d2-355e46e59ab3\",\"attributes\":{\"tags\":[\"apply_ranges\"],\"x\":{\"type\":\"field\",\"field\":\"year-mon\"},\"y\":{\"type\":\"field\",\"field\":\"AMOUNT\"},\"size\":{\"type\":\"value\",\"value\":5.477225575051661},\"line_color\":{\"type\":\"value\",\"value\":\"#bcbd22\"},\"line_alpha\":{\"type\":\"value\",\"value\":0.1},\"fill_color\":{\"type\":\"value\",\"value\":\"#bcbd22\"},\"fill_alpha\":{\"type\":\"value\",\"value\":0.1},\"hatch_color\":{\"type\":\"value\",\"value\":\"#bcbd22\"},\"hatch_alpha\":{\"type\":\"value\",\"value\":0.1}}},\"muted_glyph\":{\"type\":\"object\",\"name\":\"Scatter\",\"id\":\"5c726b0d-92ad-4b81-821a-110c9f0bb17f\",\"attributes\":{\"tags\":[\"apply_ranges\"],\"x\":{\"type\":\"field\",\"field\":\"year-mon\"},\"y\":{\"type\":\"field\",\"field\":\"AMOUNT\"},\"size\":{\"type\":\"value\",\"value\":5.477225575051661},\"line_color\":{\"type\":\"value\",\"value\":\"#bcbd22\"},\"line_alpha\":{\"type\":\"value\",\"value\":0.2},\"fill_color\":{\"type\":\"value\",\"value\":\"#bcbd22\"},\"fill_alpha\":{\"type\":\"value\",\"value\":0.2},\"hatch_color\":{\"type\":\"value\",\"value\":\"#bcbd22\"},\"hatch_alpha\":{\"type\":\"value\",\"value\":0.2}}}}}],\"toolbar\":{\"type\":\"object\",\"name\":\"Toolbar\",\"id\":\"b82b4a52-907a-435a-ac7f-5adc192db2e9\",\"attributes\":{\"tools\":[{\"type\":\"object\",\"name\":\"WheelZoomTool\",\"id\":\"dc1d97c0-be66-46e5-a667-cd65cc1aaa4d\",\"attributes\":{\"tags\":[\"hv_created\"],\"renderers\":\"auto\",\"zoom_together\":\"none\"}},{\"type\":\"object\",\"name\":\"HoverTool\",\"id\":\"705ecd04-956c-4e6d-88fc-764d876946c0\",\"attributes\":{\"tags\":[\"hv_created\"],\"renderers\":[{\"id\":\"3300e1b0-388a-49db-aa4c-9fe55cb89f3c\"},{\"id\":\"d9f20693-967f-43e7-84fb-008ae26ab7c2\"},{\"id\":\"b920c48f-dee9-4ea5-9be7-991dc4a15053\"},{\"id\":\"f7d22cfa-7ca7-4748-9514-2226741896ea\"},{\"id\":\"07cb6c56-d873-4515-9e2a-e0cac7a447f9\"},{\"id\":\"0e36f8ce-febb-496d-8df5-ea727f1cc88e\"},{\"id\":\"ce92bbc4-0cad-4035-94b5-6a6c371a8174\"},{\"id\":\"6ddaa74f-db67-4a70-8128-7e80ff2de122\"},{\"id\":\"308ba074-cc1a-4cd8-a8aa-2b0e4405b338\"},{\"id\":\"a98a7961-2b57-410a-9eb5-239c9b2df117\"},{\"id\":\"cd63112a-bb75-43cb-ae25-55aaded61f1a\"},{\"id\":\"8cfe0025-3d20-4d5c-8907-4a22fad9e8d8\"}],\"tooltips\":[[\"EXP_TYPE\",\"@{EXP_TYPE}\"],[\"year-mon\",\"@{year_hyphen_minus_mon}{%F %T}\"],[\"AMOUNT\",\"@{AMOUNT}\"]],\"formatters\":{\"type\":\"map\",\"entries\":[[\"@{year-mon}\",\"datetime\"],[\"@{year_hyphen_minus_mon}\",\"datetime\"]]}}},{\"type\":\"object\",\"name\":\"SaveTool\",\"id\":\"04565b90-66d0-4f73-a99e-e81a48d7b398\"},{\"type\":\"object\",\"name\":\"PanTool\",\"id\":\"5e1d39e0-bef2-4776-b4dc-0b1bdfbe82e3\"},{\"type\":\"object\",\"name\":\"BoxZoomTool\",\"id\":\"820d3d2b-737a-4167-b2c1-33c45b9527eb\",\"attributes\":{\"overlay\":{\"type\":\"object\",\"name\":\"BoxAnnotation\",\"id\":\"74955c4d-371c-439d-8702-fcfa357667ec\",\"attributes\":{\"syncable\":false,\"line_color\":\"black\",\"line_alpha\":1.0,\"line_width\":2,\"line_dash\":[4,4],\"fill_color\":\"lightgrey\",\"fill_alpha\":0.5,\"level\":\"overlay\",\"visible\":false,\"left\":{\"type\":\"number\",\"value\":\"nan\"},\"right\":{\"type\":\"number\",\"value\":\"nan\"},\"top\":{\"type\":\"number\",\"value\":\"nan\"},\"bottom\":{\"type\":\"number\",\"value\":\"nan\"},\"left_units\":\"canvas\",\"right_units\":\"canvas\",\"top_units\":\"canvas\",\"bottom_units\":\"canvas\",\"handles\":{\"type\":\"object\",\"name\":\"BoxInteractionHandles\",\"id\":\"54538062-3dc0-4d28-9217-4c6bf3f48d91\",\"attributes\":{\"all\":{\"type\":\"object\",\"name\":\"AreaVisuals\",\"id\":\"033b5971-736b-4456-99ac-ce3421513b01\",\"attributes\":{\"fill_color\":\"white\",\"hover_fill_color\":\"lightgray\"}}}}}}}},{\"type\":\"object\",\"name\":\"ResetTool\",\"id\":\"a672a70d-61f0-479e-917f-c5b846835cf9\"}],\"active_drag\":{\"id\":\"5e1d39e0-bef2-4776-b4dc-0b1bdfbe82e3\"},\"active_scroll\":{\"id\":\"dc1d97c0-be66-46e5-a667-cd65cc1aaa4d\"}}},\"left\":[{\"type\":\"object\",\"name\":\"LinearAxis\",\"id\":\"0a8f214b-8742-4f35-a00b-f5792b53922f\",\"attributes\":{\"ticker\":{\"type\":\"object\",\"name\":\"BasicTicker\",\"id\":\"633269b1-0f45-42f6-a174-ccd28fdb3f18\",\"attributes\":{\"mantissas\":[1,2,5]}},\"formatter\":{\"type\":\"object\",\"name\":\"BasicTickFormatter\",\"id\":\"5c7a2237-c720-499b-a65e-a26199d43509\"},\"axis_label\":\"AMOUNT\",\"major_label_policy\":{\"type\":\"object\",\"name\":\"AllLabels\",\"id\":\"4639bd6d-ff7f-4323-90a0-c15f95aca724\"}}}],\"right\":[{\"type\":\"object\",\"name\":\"Legend\",\"id\":\"66602436-6c86-4e80-80fe-24b90d6832c9\",\"attributes\":{\"location\":[0,0],\"title\":\"EXP_TYPE\",\"click_policy\":\"mute\",\"items\":[{\"type\":\"object\",\"name\":\"LegendItem\",\"id\":\"4283fc06-5441-42fd-bfc6-04f037561268\",\"attributes\":{\"label\":{\"type\":\"value\",\"value\":\"Bills and Utilities\"},\"renderers\":[{\"id\":\"3300e1b0-388a-49db-aa4c-9fe55cb89f3c\"}]}},{\"type\":\"object\",\"name\":\"LegendItem\",\"id\":\"14f6459c-271e-4efd-8446-505daf59e6ad\",\"attributes\":{\"label\":{\"type\":\"value\",\"value\":\"Tax\"},\"renderers\":[{\"id\":\"d9f20693-967f-43e7-84fb-008ae26ab7c2\"}]}},{\"type\":\"object\",\"name\":\"LegendItem\",\"id\":\"d158e1cf-d3a2-41e3-893b-ebdc223b6386\",\"attributes\":{\"label\":{\"type\":\"value\",\"value\":\"Health\"},\"renderers\":[{\"id\":\"b920c48f-dee9-4ea5-9be7-991dc4a15053\"}]}},{\"type\":\"object\",\"name\":\"LegendItem\",\"id\":\"55304425-7462-4419-af19-200a132efb28\",\"attributes\":{\"label\":{\"type\":\"value\",\"value\":\"Fines\"},\"renderers\":[{\"id\":\"f7d22cfa-7ca7-4748-9514-2226741896ea\"}]}},{\"type\":\"object\",\"name\":\"LegendItem\",\"id\":\"9cae24b2-7f7d-4039-b520-0ea26bfd7b76\",\"attributes\":{\"label\":{\"type\":\"value\",\"value\":\"Clothing\"},\"renderers\":[{\"id\":\"07cb6c56-d873-4515-9e2a-e0cac7a447f9\"}]}},{\"type\":\"object\",\"name\":\"LegendItem\",\"id\":\"44d754f4-5cd8-417e-a431-40d948eeb846\",\"attributes\":{\"label\":{\"type\":\"value\",\"value\":\"Gambling\"},\"renderers\":[{\"id\":\"0e36f8ce-febb-496d-8df5-ea727f1cc88e\"}]}},{\"type\":\"object\",\"name\":\"LegendItem\",\"id\":\"fc04a2c6-c759-42a4-a69d-5fb5827fdfb1\",\"attributes\":{\"label\":{\"type\":\"value\",\"value\":\"Education\"},\"renderers\":[{\"id\":\"ce92bbc4-0cad-4035-94b5-6a6c371a8174\"}]}},{\"type\":\"object\",\"name\":\"LegendItem\",\"id\":\"1a6e96a8-55e1-4c4a-a218-80d9f4c0b1b0\",\"attributes\":{\"label\":{\"type\":\"value\",\"value\":\"Motor/Travel\"},\"renderers\":[{\"id\":\"6ddaa74f-db67-4a70-8128-7e80ff2de122\"}]}},{\"type\":\"object\",\"name\":\"LegendItem\",\"id\":\"f42471a4-4be1-4448-b506-a3bd9462ee77\",\"attributes\":{\"label\":{\"type\":\"value\",\"value\":\"Groceries\"},\"renderers\":[{\"id\":\"308ba074-cc1a-4cd8-a8aa-2b0e4405b338\"}]}},{\"type\":\"object\",\"name\":\"LegendItem\",\"id\":\"f72faecd-b18f-4a53-9b58-80a5e8041b2b\",\"attributes\":{\"label\":{\"type\":\"value\",\"value\":\"Housing\"},\"renderers\":[{\"id\":\"a98a7961-2b57-410a-9eb5-239c9b2df117\"}]}},{\"type\":\"object\",\"name\":\"LegendItem\",\"id\":\"14d0fb89-fd70-4a6e-9b42-a9c022071e13\",\"attributes\":{\"label\":{\"type\":\"value\",\"value\":\"Entertainment\"},\"renderers\":[{\"id\":\"cd63112a-bb75-43cb-ae25-55aaded61f1a\"}]}},{\"type\":\"object\",\"name\":\"LegendItem\",\"id\":\"b071db14-9b74-4d09-b3a0-66eacd957ebe\",\"attributes\":{\"label\":{\"type\":\"value\",\"value\":\"Savings\"},\"renderers\":[{\"id\":\"8cfe0025-3d20-4d5c-8907-4a22fad9e8d8\"}]}}]}}],\"below\":[{\"type\":\"object\",\"name\":\"DatetimeAxis\",\"id\":\"f384f2be-455f-46e4-95a3-a5203c1ec599\",\"attributes\":{\"ticker\":{\"type\":\"object\",\"name\":\"DatetimeTicker\",\"id\":\"5375a2b1-4072-495c-92a4-62fcf82e6f56\",\"attributes\":{\"num_minor_ticks\":5,\"tickers\":[{\"type\":\"object\",\"name\":\"AdaptiveTicker\",\"id\":\"2d6926fe-96b8-4050-9ab5-0e8d48051950\",\"attributes\":{\"num_minor_ticks\":0,\"mantissas\":[1,2,5],\"max_interval\":500.0}},{\"type\":\"object\",\"name\":\"AdaptiveTicker\",\"id\":\"ca3c2f0c-5568-482d-8ed2-7b52b12d668a\",\"attributes\":{\"num_minor_ticks\":0,\"base\":60,\"mantissas\":[1,2,5,10,15,20,30],\"min_interval\":1000.0,\"max_interval\":1800000.0}},{\"type\":\"object\",\"name\":\"AdaptiveTicker\",\"id\":\"fc4f3c59-d7eb-4ba5-b9cd-93aae830a062\",\"attributes\":{\"num_minor_ticks\":0,\"base\":24,\"mantissas\":[1,2,4,6,8,12],\"min_interval\":3600000.0,\"max_interval\":43200000.0}},{\"type\":\"object\",\"name\":\"DaysTicker\",\"id\":\"0964127b-faa5-43f8-bae8-d32add9a1a67\",\"attributes\":{\"days\":[1,2,3,4,5,6,7,8,9,10,11,12,13,14,15,16,17,18,19,20,21,22,23,24,25,26,27,28,29,30,31]}},{\"type\":\"object\",\"name\":\"DaysTicker\",\"id\":\"57a69f36-6593-4826-b646-e65960e86a2e\",\"attributes\":{\"days\":[1,4,7,10,13,16,19,22,25,28]}},{\"type\":\"object\",\"name\":\"DaysTicker\",\"id\":\"581dc9c9-cf9d-4ec3-8caa-7be15c6dee14\",\"attributes\":{\"days\":[1,8,15,22]}},{\"type\":\"object\",\"name\":\"DaysTicker\",\"id\":\"2f9cfa26-5d6e-4221-b1f2-711ade28b04d\",\"attributes\":{\"days\":[1,15]}},{\"type\":\"object\",\"name\":\"MonthsTicker\",\"id\":\"d41f70af-d6a5-4d65-9723-209240822b77\",\"attributes\":{\"months\":[0,1,2,3,4,5,6,7,8,9,10,11]}},{\"type\":\"object\",\"name\":\"MonthsTicker\",\"id\":\"af81ee3b-bda9-423a-8be3-ef3fc41e9848\",\"attributes\":{\"months\":[0,2,4,6,8,10]}},{\"type\":\"object\",\"name\":\"MonthsTicker\",\"id\":\"770fb47f-f8c6-42b7-b844-3e8d743f6f07\",\"attributes\":{\"months\":[0,4,8]}},{\"type\":\"object\",\"name\":\"MonthsTicker\",\"id\":\"999f4d26-520f-4f3a-88c3-3c49af44653e\",\"attributes\":{\"months\":[0,6]}},{\"type\":\"object\",\"name\":\"YearsTicker\",\"id\":\"0443e58d-1bda-4022-bd47-c8186c2ac879\"}]}},\"formatter\":{\"type\":\"object\",\"name\":\"DatetimeTickFormatter\",\"id\":\"fd5a696e-a882-4a7b-8cca-6b62dd8cae1f\"},\"axis_label\":\"year-mon\",\"major_label_policy\":{\"type\":\"object\",\"name\":\"AllLabels\",\"id\":\"49140e64-44e8-47c7-9232-01ee94cbfb63\"}}}],\"center\":[{\"type\":\"object\",\"name\":\"Grid\",\"id\":\"86155d90-cff4-4643-a364-fcdc667500e4\",\"attributes\":{\"axis\":{\"id\":\"f384f2be-455f-46e4-95a3-a5203c1ec599\"},\"grid_line_color\":null}},{\"type\":\"object\",\"name\":\"Grid\",\"id\":\"a0389075-5d1b-4f50-a515-b5d64b4524d0\",\"attributes\":{\"dimension\":1,\"axis\":{\"id\":\"0a8f214b-8742-4f35-a00b-f5792b53922f\"},\"grid_line_color\":null}}],\"min_border_top\":10,\"min_border_bottom\":10,\"min_border_left\":10,\"min_border_right\":10,\"output_backend\":\"webgl\"}},{\"type\":\"object\",\"name\":\"Spacer\",\"id\":\"276dd56b-d424-44e1-b2d9-f634073e1482\",\"attributes\":{\"name\":\"HSpacer00356\",\"stylesheets\":[\"\\n:host(.pn-loading):before, .pn-loading:before {\\n  background-color: #c3c3c3;\\n  mask-size: auto calc(min(50%, 400px));\\n  -webkit-mask-size: auto calc(min(50%, 400px));\\n}\",{\"id\":\"1850f855-51fd-4287-888e-c0f334d6148f\"},{\"id\":\"1c2c89c6-898f-4396-9c92-30eba564892a\"},{\"id\":\"a76df433-8350-4905-b03d-10799174f6ba\"}],\"margin\":0,\"sizing_mode\":\"stretch_width\",\"align\":\"start\"}}]}}],\"defs\":[{\"type\":\"model\",\"name\":\"ReactiveHTML1\"},{\"type\":\"model\",\"name\":\"FlexBox1\",\"properties\":[{\"name\":\"align_content\",\"kind\":\"Any\",\"default\":\"flex-start\"},{\"name\":\"align_items\",\"kind\":\"Any\",\"default\":\"flex-start\"},{\"name\":\"flex_direction\",\"kind\":\"Any\",\"default\":\"row\"},{\"name\":\"flex_wrap\",\"kind\":\"Any\",\"default\":\"wrap\"},{\"name\":\"gap\",\"kind\":\"Any\",\"default\":\"\"},{\"name\":\"justify_content\",\"kind\":\"Any\",\"default\":\"flex-start\"}]},{\"type\":\"model\",\"name\":\"FloatPanel1\",\"properties\":[{\"name\":\"config\",\"kind\":\"Any\",\"default\":{\"type\":\"map\"}},{\"name\":\"contained\",\"kind\":\"Any\",\"default\":true},{\"name\":\"position\",\"kind\":\"Any\",\"default\":\"right-top\"},{\"name\":\"offsetx\",\"kind\":\"Any\",\"default\":null},{\"name\":\"offsety\",\"kind\":\"Any\",\"default\":null},{\"name\":\"theme\",\"kind\":\"Any\",\"default\":\"primary\"},{\"name\":\"status\",\"kind\":\"Any\",\"default\":\"normalized\"}]},{\"type\":\"model\",\"name\":\"GridStack1\",\"properties\":[{\"name\":\"ncols\",\"kind\":\"Any\",\"default\":null},{\"name\":\"nrows\",\"kind\":\"Any\",\"default\":null},{\"name\":\"allow_resize\",\"kind\":\"Any\",\"default\":true},{\"name\":\"allow_drag\",\"kind\":\"Any\",\"default\":true},{\"name\":\"state\",\"kind\":\"Any\",\"default\":[]}]},{\"type\":\"model\",\"name\":\"drag1\",\"properties\":[{\"name\":\"slider_width\",\"kind\":\"Any\",\"default\":5},{\"name\":\"slider_color\",\"kind\":\"Any\",\"default\":\"black\"},{\"name\":\"value\",\"kind\":\"Any\",\"default\":50}]},{\"type\":\"model\",\"name\":\"click1\",\"properties\":[{\"name\":\"terminal_output\",\"kind\":\"Any\",\"default\":\"\"},{\"name\":\"debug_name\",\"kind\":\"Any\",\"default\":\"\"},{\"name\":\"clears\",\"kind\":\"Any\",\"default\":0}]},{\"type\":\"model\",\"name\":\"FastWrapper1\",\"properties\":[{\"name\":\"object\",\"kind\":\"Any\",\"default\":null},{\"name\":\"style\",\"kind\":\"Any\",\"default\":null}]},{\"type\":\"model\",\"name\":\"NotificationArea1\",\"properties\":[{\"name\":\"js_events\",\"kind\":\"Any\",\"default\":{\"type\":\"map\"}},{\"name\":\"max_notifications\",\"kind\":\"Any\",\"default\":5},{\"name\":\"notifications\",\"kind\":\"Any\",\"default\":[]},{\"name\":\"position\",\"kind\":\"Any\",\"default\":\"bottom-right\"},{\"name\":\"_clear\",\"kind\":\"Any\",\"default\":0},{\"name\":\"types\",\"kind\":\"Any\",\"default\":[{\"type\":\"map\",\"entries\":[[\"type\",\"warning\"],[\"background\",\"#ffc107\"],[\"icon\",{\"type\":\"map\",\"entries\":[[\"className\",\"fas fa-exclamation-triangle\"],[\"tagName\",\"i\"],[\"color\",\"white\"]]}]]},{\"type\":\"map\",\"entries\":[[\"type\",\"info\"],[\"background\",\"#007bff\"],[\"icon\",{\"type\":\"map\",\"entries\":[[\"className\",\"fas fa-info-circle\"],[\"tagName\",\"i\"],[\"color\",\"white\"]]}]]}]}]},{\"type\":\"model\",\"name\":\"Notification\",\"properties\":[{\"name\":\"background\",\"kind\":\"Any\",\"default\":null},{\"name\":\"duration\",\"kind\":\"Any\",\"default\":3000},{\"name\":\"icon\",\"kind\":\"Any\",\"default\":null},{\"name\":\"message\",\"kind\":\"Any\",\"default\":\"\"},{\"name\":\"notification_type\",\"kind\":\"Any\",\"default\":null},{\"name\":\"_rendered\",\"kind\":\"Any\",\"default\":false},{\"name\":\"_destroyed\",\"kind\":\"Any\",\"default\":false}]},{\"type\":\"model\",\"name\":\"TemplateActions1\",\"properties\":[{\"name\":\"open_modal\",\"kind\":\"Any\",\"default\":0},{\"name\":\"close_modal\",\"kind\":\"Any\",\"default\":0}]},{\"type\":\"model\",\"name\":\"BootstrapTemplateActions1\",\"properties\":[{\"name\":\"open_modal\",\"kind\":\"Any\",\"default\":0},{\"name\":\"close_modal\",\"kind\":\"Any\",\"default\":0}]},{\"type\":\"model\",\"name\":\"TemplateEditor1\",\"properties\":[{\"name\":\"layout\",\"kind\":\"Any\",\"default\":[]}]},{\"type\":\"model\",\"name\":\"MaterialTemplateActions1\",\"properties\":[{\"name\":\"open_modal\",\"kind\":\"Any\",\"default\":0},{\"name\":\"close_modal\",\"kind\":\"Any\",\"default\":0}]},{\"type\":\"model\",\"name\":\"ReactiveESM1\",\"properties\":[{\"name\":\"esm_constants\",\"kind\":\"Any\",\"default\":{\"type\":\"map\"}}]},{\"type\":\"model\",\"name\":\"JSComponent1\",\"properties\":[{\"name\":\"esm_constants\",\"kind\":\"Any\",\"default\":{\"type\":\"map\"}}]},{\"type\":\"model\",\"name\":\"ReactComponent1\",\"properties\":[{\"name\":\"esm_constants\",\"kind\":\"Any\",\"default\":{\"type\":\"map\"}}]},{\"type\":\"model\",\"name\":\"AnyWidgetComponent1\",\"properties\":[{\"name\":\"esm_constants\",\"kind\":\"Any\",\"default\":{\"type\":\"map\"}}]},{\"type\":\"model\",\"name\":\"request_value1\",\"properties\":[{\"name\":\"fill\",\"kind\":\"Any\",\"default\":\"none\"},{\"name\":\"_synced\",\"kind\":\"Any\",\"default\":null},{\"name\":\"_request_sync\",\"kind\":\"Any\",\"default\":0}]}]}};\n",
       "  var render_items = [{\"docid\":\"313bb01b-1b1a-47d4-b507-b8d4455e5eca\",\"roots\":{\"851a52ec-2371-463d-a5b1-d96b92acdb55\":\"b0e4f0ff-c4eb-4097-9c0c-f95b322dade4\"},\"root_ids\":[\"851a52ec-2371-463d-a5b1-d96b92acdb55\"]}];\n",
       "  var docs = Object.values(docs_json)\n",
       "  if (!docs) {\n",
       "    return\n",
       "  }\n",
       "  const py_version = docs[0].version.replace('rc', '-rc.').replace('.dev', '-dev.')\n",
       "  async function embed_document(root) {\n",
       "    var Bokeh = get_bokeh(root)\n",
       "    await Bokeh.embed.embed_items_notebook(docs_json, render_items);\n",
       "    for (const render_item of render_items) {\n",
       "      for (const root_id of render_item.root_ids) {\n",
       "\tconst id_el = document.getElementById(root_id)\n",
       "\tif (id_el.children.length && id_el.children[0].hasAttribute('data-root-id')) {\n",
       "\t  const root_el = id_el.children[0]\n",
       "\t  root_el.id = root_el.id + '-rendered'\n",
       "\t  for (const child of root_el.children) {\n",
       "            // Ensure JupyterLab does not capture keyboard shortcuts\n",
       "            // see: https://jupyterlab.readthedocs.io/en/4.1.x/extension/notebook.html#keyboard-interaction-model\n",
       "\t    child.setAttribute('data-lm-suppress-shortcuts', 'true')\n",
       "\t  }\n",
       "\t}\n",
       "      }\n",
       "    }\n",
       "  }\n",
       "  function get_bokeh(root) {\n",
       "    if (root.Bokeh === undefined) {\n",
       "      return null\n",
       "    } else if (root.Bokeh.version !== py_version) {\n",
       "      if (root.Bokeh.versions === undefined || !root.Bokeh.versions.has(py_version)) {\n",
       "\treturn null\n",
       "      }\n",
       "      return root.Bokeh.versions.get(py_version);\n",
       "    } else if (root.Bokeh.version === py_version) {\n",
       "      return root.Bokeh\n",
       "    }\n",
       "    return null\n",
       "  }\n",
       "  function is_loaded(root) {\n",
       "    var Bokeh = get_bokeh(root)\n",
       "    return (Bokeh != null && Bokeh.Panel !== undefined)\n",
       "  }\n",
       "  if (is_loaded(root)) {\n",
       "    embed_document(root);\n",
       "  } else {\n",
       "    var attempts = 0;\n",
       "    var timer = setInterval(function(root) {\n",
       "      if (is_loaded(root)) {\n",
       "        clearInterval(timer);\n",
       "        embed_document(root);\n",
       "      } else if (document.readyState == \"complete\") {\n",
       "        attempts++;\n",
       "        if (attempts > 200) {\n",
       "          clearInterval(timer);\n",
       "\t  var Bokeh = get_bokeh(root)\n",
       "\t  if (Bokeh == null || Bokeh.Panel == null) {\n",
       "            console.warn(\"Panel: ERROR: Unable to run Panel code because Bokeh or Panel library is missing\");\n",
       "\t  } else {\n",
       "\t    console.warn(\"Panel: WARNING: Attempting to render but not all required libraries could be resolved.\")\n",
       "\t    embed_document(root)\n",
       "\t  }\n",
       "        }\n",
       "      }\n",
       "    }, 25, root)\n",
       "  }\n",
       "})(window);</script>"
      ],
      "text/plain": [
       ":NdOverlay   [EXP_TYPE]\n",
       "   :Scatter   [year-mon]   (AMOUNT)"
      ]
     },
     "execution_count": 25,
     "metadata": {
      "application/vnd.holoviews_exec.v0+json": {
       "id": "851a52ec-2371-463d-a5b1-d96b92acdb55"
      }
     },
     "output_type": "execute_result"
    }
   ],
   "source": [
    "res = res.with_columns(\n",
    "    pl.datetime(pl.col(\"YEAR\"), pl.col(\"MONTH\"), day=1)\n",
    "    .alias(\"year-mon\")\n",
    ")\n",
    "\n",
    "res.hvplot.scatter(x=\"year-mon\", y=\"AMOUNT\", by=\"EXP_TYPE\")"
   ]
  },
  {
   "cell_type": "code",
   "execution_count": 26,
   "id": "ZbOWHP_YY3Am",
   "metadata": {
    "colab": {
     "base_uri": "https://localhost:8080/",
     "height": 443
    },
    "id": "ZbOWHP_YY3Am",
    "outputId": "c971d620-af38-41bf-d837-8e2297d6ee17"
   },
   "outputs": [
    {
     "data": {
      "text/html": [
       "<div><style>\n",
       ".dataframe > thead > tr,\n",
       ".dataframe > tbody > tr {\n",
       "  text-align: right;\n",
       "  white-space: pre-wrap;\n",
       "}\n",
       "</style>\n",
       "<small>shape: (1_584, 5)</small><table border=\"1\" class=\"dataframe\"><thead><tr><th>EXP_TYPE</th><th>YEAR</th><th>MONTH</th><th>AMOUNT</th><th>year-mon</th></tr><tr><td>str</td><td>i64</td><td>i64</td><td>f64</td><td>datetime[μs]</td></tr></thead><tbody><tr><td>&quot;Bills and Utilities&quot;</td><td>2010</td><td>1</td><td>174.490332</td><td>2010-01-01 00:00:00</td></tr><tr><td>&quot;Bills and Utilities&quot;</td><td>2010</td><td>2</td><td>174.938625</td><td>2010-02-01 00:00:00</td></tr><tr><td>&quot;Bills and Utilities&quot;</td><td>2010</td><td>3</td><td>180.330367</td><td>2010-03-01 00:00:00</td></tr><tr><td>&quot;Bills and Utilities&quot;</td><td>2010</td><td>4</td><td>182.04302</td><td>2010-04-01 00:00:00</td></tr><tr><td>&quot;Bills and Utilities&quot;</td><td>2010</td><td>5</td><td>184.353882</td><td>2010-05-01 00:00:00</td></tr><tr><td>&hellip;</td><td>&hellip;</td><td>&hellip;</td><td>&hellip;</td><td>&hellip;</td></tr><tr><td>&quot;Tax&quot;</td><td>2020</td><td>8</td><td>411.469965</td><td>2020-08-01 00:00:00</td></tr><tr><td>&quot;Tax&quot;</td><td>2020</td><td>9</td><td>411.720836</td><td>2020-09-01 00:00:00</td></tr><tr><td>&quot;Tax&quot;</td><td>2020</td><td>10</td><td>411.555356</td><td>2020-10-01 00:00:00</td></tr><tr><td>&quot;Tax&quot;</td><td>2020</td><td>11</td><td>411.884582</td><td>2020-11-01 00:00:00</td></tr><tr><td>&quot;Tax&quot;</td><td>2020</td><td>12</td><td>411.492777</td><td>2020-12-01 00:00:00</td></tr></tbody></table></div>"
      ],
      "text/plain": [
       "shape: (1_584, 5)\n",
       "┌─────────────────────┬──────┬───────┬────────────┬─────────────────────┐\n",
       "│ EXP_TYPE            ┆ YEAR ┆ MONTH ┆ AMOUNT     ┆ year-mon            │\n",
       "│ ---                 ┆ ---  ┆ ---   ┆ ---        ┆ ---                 │\n",
       "│ str                 ┆ i64  ┆ i64   ┆ f64        ┆ datetime[μs]        │\n",
       "╞═════════════════════╪══════╪═══════╪════════════╪═════════════════════╡\n",
       "│ Bills and Utilities ┆ 2010 ┆ 1     ┆ 174.490332 ┆ 2010-01-01 00:00:00 │\n",
       "│ Bills and Utilities ┆ 2010 ┆ 2     ┆ 174.938625 ┆ 2010-02-01 00:00:00 │\n",
       "│ Bills and Utilities ┆ 2010 ┆ 3     ┆ 180.330367 ┆ 2010-03-01 00:00:00 │\n",
       "│ Bills and Utilities ┆ 2010 ┆ 4     ┆ 182.04302  ┆ 2010-04-01 00:00:00 │\n",
       "│ Bills and Utilities ┆ 2010 ┆ 5     ┆ 184.353882 ┆ 2010-05-01 00:00:00 │\n",
       "│ …                   ┆ …    ┆ …     ┆ …          ┆ …                   │\n",
       "│ Tax                 ┆ 2020 ┆ 8     ┆ 411.469965 ┆ 2020-08-01 00:00:00 │\n",
       "│ Tax                 ┆ 2020 ┆ 9     ┆ 411.720836 ┆ 2020-09-01 00:00:00 │\n",
       "│ Tax                 ┆ 2020 ┆ 10    ┆ 411.555356 ┆ 2020-10-01 00:00:00 │\n",
       "│ Tax                 ┆ 2020 ┆ 11    ┆ 411.884582 ┆ 2020-11-01 00:00:00 │\n",
       "│ Tax                 ┆ 2020 ┆ 12    ┆ 411.492777 ┆ 2020-12-01 00:00:00 │\n",
       "└─────────────────────┴──────┴───────┴────────────┴─────────────────────┘"
      ]
     },
     "execution_count": 26,
     "metadata": {},
     "output_type": "execute_result"
    }
   ],
   "source": [
    "res"
   ]
  },
  {
   "cell_type": "markdown",
   "id": "649143e3-cd2c-4f4b-9fb0-120c395beb41",
   "metadata": {
    "id": "649143e3-cd2c-4f4b-9fb0-120c395beb41"
   },
   "source": [
    "Interoperability goes in the other direction, too. We can use materialized CPU DataFrames in downstream operations on the GPU. Polars will handle any necessary CPU/GPU conversions for us, which we'll see shortly."
   ]
  },
  {
   "cell_type": "markdown",
   "id": "6adda121-d709-4f4d-abc2-66e8f056873e",
   "metadata": {
    "id": "6adda121-d709-4f4d-abc2-66e8f056873e"
   },
   "source": [
    "# Moving Beyond Our Single Dataset\n",
    "\n",
    "Let's bring in some weather data to evaluate if transactions are impacted by weather. For example, spending behavior for certain categories could be influenced by whether it's raining or even _how much_ it's raining.\n",
    "\n",
    "Like our transactions dataset, here we'll use a simulated rainfall dataset."
   ]
  },
  {
   "cell_type": "markdown",
   "id": "cba0ded1-05bd-4bc4-9e87-70db2231fe92",
   "metadata": {
    "id": "cba0ded1-05bd-4bc4-9e87-70db2231fe92"
   },
   "source": [
    "## Is more rain related to more transactions across specific categories?\n",
    "\n",
    "Our rainfall dataset is a CSV file, so we'll use the CSV reader here and take a look at a few rows.\n",
    "\n",
    "In this case, we'll load the data using the CPU to highlight how smoothly Polars handles mixing CPU and GPU objects."
   ]
  },
  {
   "cell_type": "code",
   "execution_count": 27,
   "id": "8756b895-59fb-42b6-8d85-2c38a69c06a0",
   "metadata": {
    "colab": {
     "base_uri": "https://localhost:8080/",
     "height": 255
    },
    "id": "8756b895-59fb-42b6-8d85-2c38a69c06a0",
    "outputId": "650a11ec-4fee-4c6c-963d-9ecd3b47bea8"
   },
   "outputs": [
    {
     "data": {
      "text/html": [
       "<div><style>\n",
       ".dataframe > thead > tr,\n",
       ".dataframe > tbody > tr {\n",
       "  text-align: right;\n",
       "  white-space: pre-wrap;\n",
       "}\n",
       "</style>\n",
       "<small>shape: (5, 6)</small><table border=\"1\" class=\"dataframe\"><thead><tr><th>Location</th><th>Rainfall (inches)</th><th>Date</th><th>YEAR</th><th>MONTH</th><th>DAY</th></tr><tr><td>str</td><td>f64</td><td>i64</td><td>i64</td><td>i64</td><td>i64</td></tr></thead><tbody><tr><td>&quot;Tatooine&quot;</td><td>0.33</td><td>20100101</td><td>2010</td><td>1</td><td>1</td></tr><tr><td>&quot;Tatooine&quot;</td><td>0.0</td><td>20100102</td><td>2010</td><td>1</td><td>2</td></tr><tr><td>&quot;Tatooine&quot;</td><td>0.28</td><td>20100103</td><td>2010</td><td>1</td><td>3</td></tr><tr><td>&quot;Tatooine&quot;</td><td>0.26</td><td>20100104</td><td>2010</td><td>1</td><td>4</td></tr><tr><td>&quot;Tatooine&quot;</td><td>0.39</td><td>20100105</td><td>2010</td><td>1</td><td>5</td></tr></tbody></table></div>"
      ],
      "text/plain": [
       "shape: (5, 6)\n",
       "┌──────────┬───────────────────┬──────────┬──────┬───────┬─────┐\n",
       "│ Location ┆ Rainfall (inches) ┆ Date     ┆ YEAR ┆ MONTH ┆ DAY │\n",
       "│ ---      ┆ ---               ┆ ---      ┆ ---  ┆ ---   ┆ --- │\n",
       "│ str      ┆ f64               ┆ i64      ┆ i64  ┆ i64   ┆ i64 │\n",
       "╞══════════╪═══════════════════╪══════════╪══════╪═══════╪═════╡\n",
       "│ Tatooine ┆ 0.33              ┆ 20100101 ┆ 2010 ┆ 1     ┆ 1   │\n",
       "│ Tatooine ┆ 0.0               ┆ 20100102 ┆ 2010 ┆ 1     ┆ 2   │\n",
       "│ Tatooine ┆ 0.28              ┆ 20100103 ┆ 2010 ┆ 1     ┆ 3   │\n",
       "│ Tatooine ┆ 0.26              ┆ 20100104 ┆ 2010 ┆ 1     ┆ 4   │\n",
       "│ Tatooine ┆ 0.39              ┆ 20100105 ┆ 2010 ┆ 1     ┆ 5   │\n",
       "└──────────┴───────────────────┴──────────┴──────┴───────┴─────┘"
      ]
     },
     "execution_count": 27,
     "metadata": {},
     "output_type": "execute_result"
    }
   ],
   "source": [
    "names = ['Location', 'Rainfall (inches)', 'Date', 'YEAR', 'MONTH', 'DAY']\n",
    "\n",
    "weather = pl.scan_csv(data_dir+rd, new_columns=names) # \"./data/financials/rainfall_data_2010_2020.csv\"\n",
    "weather.head().collect()"
   ]
  },
  {
   "cell_type": "markdown",
   "id": "412ce849-c518-4e70-a236-fb6077b0010a",
   "metadata": {
    "id": "412ce849-c518-4e70-a236-fb6077b0010a"
   },
   "source": [
    "Data is often messy. We've got dates in this CSV file, but they weren't parsed as dates by the CSV reader due to the format. We can easily clean this up by typecasting, after which we'll materialize the DataFrame in CPU memory."
   ]
  },
  {
   "cell_type": "code",
   "execution_count": 28,
   "id": "fc9f8525-d80c-430d-8baa-6bde0f1d7753",
   "metadata": {
    "id": "fc9f8525-d80c-430d-8baa-6bde0f1d7753"
   },
   "outputs": [],
   "source": [
    "weather_cleaned = (\n",
    "    weather\n",
    "    .with_columns(pl.col(\"Date\").cast(pl.Utf8).str.strptime(pl.Date(), \"%Y%m%d\"))\n",
    "    .collect()\n",
    ")"
   ]
  },
  {
   "cell_type": "markdown",
   "id": "e0e84402-6b5d-4a2b-878e-cd72a0613fb1",
   "metadata": {
    "id": "e0e84402-6b5d-4a2b-878e-cd72a0613fb1"
   },
   "source": [
    "To answer the original question about rainfall and spending, we need to join these datasets together.\n",
    "\n",
    "We can pass this CPU in-memory DataFrame to a Polars Lazy API query by calling `.lazy()`."
   ]
  },
  {
   "cell_type": "code",
   "execution_count": 29,
   "id": "899d0901-a4f5-4f08-87dc-90464c15796f",
   "metadata": {
    "colab": {
     "base_uri": "https://localhost:8080/",
     "height": 290
    },
    "id": "899d0901-a4f5-4f08-87dc-90464c15796f",
    "outputId": "7fd4d025-afaa-415d-f19d-e02d1c494525"
   },
   "outputs": [
    {
     "name": "stdout",
     "output_type": "stream",
     "text": [
      "CPU times: user 2min 24s, sys: 1min 22s, total: 3min 47s\n",
      "Wall time: 8.93 s\n"
     ]
    },
    {
     "data": {
      "text/html": [
       "<div><style>\n",
       ".dataframe > thead > tr,\n",
       ".dataframe > tbody > tr {\n",
       "  text-align: right;\n",
       "  white-space: pre-wrap;\n",
       "}\n",
       "</style>\n",
       "<small>shape: (5, 3)</small><table border=\"1\" class=\"dataframe\"><thead><tr><th>EXP_TYPE</th><th>DATE</th><th>Rainfall (inches)</th></tr><tr><td>str</td><td>date</td><td>f64</td></tr></thead><tbody><tr><td>&quot;Bills and Utilities&quot;</td><td>2010-01-01</td><td>0.33</td></tr><tr><td>&quot;Clothing&quot;</td><td>2010-01-01</td><td>0.33</td></tr><tr><td>&quot;Education&quot;</td><td>2010-01-01</td><td>0.33</td></tr><tr><td>&quot;Entertainment&quot;</td><td>2010-01-01</td><td>0.33</td></tr><tr><td>&quot;Fines&quot;</td><td>2010-01-01</td><td>0.33</td></tr></tbody></table></div>"
      ],
      "text/plain": [
       "shape: (5, 3)\n",
       "┌─────────────────────┬────────────┬───────────────────┐\n",
       "│ EXP_TYPE            ┆ DATE       ┆ Rainfall (inches) │\n",
       "│ ---                 ┆ ---        ┆ ---               │\n",
       "│ str                 ┆ date       ┆ f64               │\n",
       "╞═════════════════════╪════════════╪═══════════════════╡\n",
       "│ Bills and Utilities ┆ 2010-01-01 ┆ 0.33              │\n",
       "│ Clothing            ┆ 2010-01-01 ┆ 0.33              │\n",
       "│ Education           ┆ 2010-01-01 ┆ 0.33              │\n",
       "│ Entertainment       ┆ 2010-01-01 ┆ 0.33              │\n",
       "│ Fines               ┆ 2010-01-01 ┆ 0.33              │\n",
       "└─────────────────────┴────────────┴───────────────────┘"
      ]
     },
     "execution_count": 29,
     "metadata": {},
     "output_type": "execute_result"
    }
   ],
   "source": [
    "%%time\n",
    "\n",
    "(\n",
    "    transactions\n",
    "    .join(\n",
    "        other=weather_cleaned.lazy(),\n",
    "        left_on=\"DATE\",\n",
    "        right_on=\"Date\",\n",
    "        how=\"inner\"\n",
    "    )\n",
    "    .group_by([\"EXP_TYPE\", \"DATE\"])\n",
    "    .agg(pl.mean(\"Rainfall (inches)\"))\n",
    "    .sort([\"DATE\", \"EXP_TYPE\", \"Rainfall (inches)\"])\n",
    "    .head()\n",
    "    .collect()\n",
    ")"
   ]
  },
  {
   "cell_type": "markdown",
   "id": "8d45dbf4-cc57-4b4a-a8bd-4877c9044c64",
   "metadata": {
    "id": "8d45dbf4-cc57-4b4a-a8bd-4877c9044c64"
   },
   "source": [
    "When we run the same query on the GPU, Polars handles the CPU / GPU transfers for us under the hood."
   ]
  },
  {
   "cell_type": "code",
   "execution_count": 30,
   "id": "1d959209-4803-4c31-8f22-1fda809ca1d0",
   "metadata": {
    "colab": {
     "base_uri": "https://localhost:8080/",
     "height": 290
    },
    "id": "1d959209-4803-4c31-8f22-1fda809ca1d0",
    "outputId": "6723d087-adf7-4142-ce92-d0c2635813ae"
   },
   "outputs": [
    {
     "name": "stdout",
     "output_type": "stream",
     "text": [
      "CPU times: user 536 ms, sys: 297 ms, total: 833 ms\n",
      "Wall time: 512 ms\n"
     ]
    },
    {
     "data": {
      "text/html": [
       "<div><style>\n",
       ".dataframe > thead > tr,\n",
       ".dataframe > tbody > tr {\n",
       "  text-align: right;\n",
       "  white-space: pre-wrap;\n",
       "}\n",
       "</style>\n",
       "<small>shape: (5, 3)</small><table border=\"1\" class=\"dataframe\"><thead><tr><th>EXP_TYPE</th><th>DATE</th><th>Rainfall (inches)</th></tr><tr><td>str</td><td>date</td><td>f64</td></tr></thead><tbody><tr><td>&quot;Bills and Utilities&quot;</td><td>2010-01-01</td><td>0.33</td></tr><tr><td>&quot;Clothing&quot;</td><td>2010-01-01</td><td>0.33</td></tr><tr><td>&quot;Education&quot;</td><td>2010-01-01</td><td>0.33</td></tr><tr><td>&quot;Entertainment&quot;</td><td>2010-01-01</td><td>0.33</td></tr><tr><td>&quot;Fines&quot;</td><td>2010-01-01</td><td>0.33</td></tr></tbody></table></div>"
      ],
      "text/plain": [
       "shape: (5, 3)\n",
       "┌─────────────────────┬────────────┬───────────────────┐\n",
       "│ EXP_TYPE            ┆ DATE       ┆ Rainfall (inches) │\n",
       "│ ---                 ┆ ---        ┆ ---               │\n",
       "│ str                 ┆ date       ┆ f64               │\n",
       "╞═════════════════════╪════════════╪═══════════════════╡\n",
       "│ Bills and Utilities ┆ 2010-01-01 ┆ 0.33              │\n",
       "│ Clothing            ┆ 2010-01-01 ┆ 0.33              │\n",
       "│ Education           ┆ 2010-01-01 ┆ 0.33              │\n",
       "│ Entertainment       ┆ 2010-01-01 ┆ 0.33              │\n",
       "│ Fines               ┆ 2010-01-01 ┆ 0.33              │\n",
       "└─────────────────────┴────────────┴───────────────────┘"
      ]
     },
     "execution_count": 30,
     "metadata": {},
     "output_type": "execute_result"
    }
   ],
   "source": [
    "%%time\n",
    "\n",
    "(\n",
    "    transactions\n",
    "    .join(\n",
    "        other=weather_cleaned.lazy(),\n",
    "        left_on=\"DATE\",\n",
    "        right_on=\"Date\",\n",
    "        how=\"inner\"\n",
    "    )\n",
    "    .group_by([\"EXP_TYPE\", \"DATE\"])\n",
    "    .agg(pl.mean(\"Rainfall (inches)\"))\n",
    "    .sort([\"DATE\", \"EXP_TYPE\", \"Rainfall (inches)\"])\n",
    "    .head()\n",
    "    .collect(engine=gpu_engine)\n",
    ")"
   ]
  },
  {
   "cell_type": "markdown",
   "id": "4a91bde7-5366-4843-9103-1a8067605d97",
   "metadata": {
    "id": "4a91bde7-5366-4843-9103-1a8067605d97"
   },
   "source": [
    "Let's demonstrate some more of the native plotting facilities in Polars by answering the question in more holistic fashion.\n",
    "\n",
    "We'll make a plot of total rainfall and total amount spent per month for each year and each type of expenditure."
   ]
  },
  {
   "cell_type": "code",
   "execution_count": 31,
   "id": "96d4bdd5-1513-4ab9-8706-8efe69697c89",
   "metadata": {
    "colab": {
     "base_uri": "https://localhost:8080/",
     "height": 443
    },
    "id": "96d4bdd5-1513-4ab9-8706-8efe69697c89",
    "outputId": "b6c64927-cbbb-478c-860d-7e4e73fd69f6"
   },
   "outputs": [
    {
     "data": {
      "text/html": [
       "<div><style>\n",
       ".dataframe > thead > tr,\n",
       ".dataframe > tbody > tr {\n",
       "  text-align: right;\n",
       "  white-space: pre-wrap;\n",
       "}\n",
       "</style>\n",
       "<small>shape: (1_584, 5)</small><table border=\"1\" class=\"dataframe\"><thead><tr><th>EXP_TYPE</th><th>YEAR</th><th>MONTH</th><th>Rainfall (inches)</th><th>AMOUNT</th></tr><tr><td>str</td><td>i64</td><td>i64</td><td>f64</td><td>f64</td></tr></thead><tbody><tr><td>&quot;Health&quot;</td><td>2010</td><td>1</td><td>273.21</td><td>146231.34</td></tr><tr><td>&quot;Groceries&quot;</td><td>2010</td><td>1</td><td>1546.64</td><td>320788.47</td></tr><tr><td>&quot;Bills and Utilities&quot;</td><td>2010</td><td>1</td><td>268.31</td><td>252138.53</td></tr><tr><td>&quot;Tax&quot;</td><td>2010</td><td>1</td><td>67.27</td><td>197850.94</td></tr><tr><td>&quot;Education&quot;</td><td>2010</td><td>1</td><td>105.28</td><td>134591.39</td></tr><tr><td>&hellip;</td><td>&hellip;</td><td>&hellip;</td><td>&hellip;</td><td>&hellip;</td></tr><tr><td>&quot;Health&quot;</td><td>2020</td><td>12</td><td>1994.91</td><td>1.3169e7</td></tr><tr><td>&quot;Education&quot;</td><td>2020</td><td>12</td><td>779.8</td><td>9.2533e6</td></tr><tr><td>&quot;Bills and Utilities&quot;</td><td>2020</td><td>12</td><td>1967.79</td><td>1.7078e7</td></tr><tr><td>&quot;Clothing&quot;</td><td>2020</td><td>12</td><td>2067.78</td><td>2.0352e7</td></tr><tr><td>&quot;Motor/Travel&quot;</td><td>2020</td><td>12</td><td>7653.7</td><td>8.1520e7</td></tr></tbody></table></div>"
      ],
      "text/plain": [
       "shape: (1_584, 5)\n",
       "┌─────────────────────┬──────┬───────┬───────────────────┬───────────┐\n",
       "│ EXP_TYPE            ┆ YEAR ┆ MONTH ┆ Rainfall (inches) ┆ AMOUNT    │\n",
       "│ ---                 ┆ ---  ┆ ---   ┆ ---               ┆ ---       │\n",
       "│ str                 ┆ i64  ┆ i64   ┆ f64               ┆ f64       │\n",
       "╞═════════════════════╪══════╪═══════╪═══════════════════╪═══════════╡\n",
       "│ Health              ┆ 2010 ┆ 1     ┆ 273.21            ┆ 146231.34 │\n",
       "│ Groceries           ┆ 2010 ┆ 1     ┆ 1546.64           ┆ 320788.47 │\n",
       "│ Bills and Utilities ┆ 2010 ┆ 1     ┆ 268.31            ┆ 252138.53 │\n",
       "│ Tax                 ┆ 2010 ┆ 1     ┆ 67.27             ┆ 197850.94 │\n",
       "│ Education           ┆ 2010 ┆ 1     ┆ 105.28            ┆ 134591.39 │\n",
       "│ …                   ┆ …    ┆ …     ┆ …                 ┆ …         │\n",
       "│ Health              ┆ 2020 ┆ 12    ┆ 1994.91           ┆ 1.3169e7  │\n",
       "│ Education           ┆ 2020 ┆ 12    ┆ 779.8             ┆ 9.2533e6  │\n",
       "│ Bills and Utilities ┆ 2020 ┆ 12    ┆ 1967.79           ┆ 1.7078e7  │\n",
       "│ Clothing            ┆ 2020 ┆ 12    ┆ 2067.78           ┆ 2.0352e7  │\n",
       "│ Motor/Travel        ┆ 2020 ┆ 12    ┆ 7653.7            ┆ 8.1520e7  │\n",
       "└─────────────────────┴──────┴───────┴───────────────────┴───────────┘"
      ]
     },
     "execution_count": 31,
     "metadata": {},
     "output_type": "execute_result"
    }
   ],
   "source": [
    "res = (\n",
    "    transactions\n",
    "    .join(\n",
    "        other=weather_cleaned.lazy(),\n",
    "        left_on=\"DATE\",\n",
    "        right_on=\"Date\",\n",
    "        how=\"inner\"\n",
    "    )\n",
    "    .group_by([\"EXP_TYPE\", \"YEAR\", \"MONTH\"])\n",
    "    .agg(pl.sum(\"Rainfall (inches)\"), pl.sum(\"AMOUNT\"))\n",
    "    .sort([\"YEAR\", \"MONTH\"])\n",
    "    .collect(engine=gpu_engine)\n",
    ")\n",
    "\n",
    "res"
   ]
  },
  {
   "cell_type": "code",
   "execution_count": 32,
   "id": "af3df206-7379-409d-b0c1-e03b04c09a4c",
   "metadata": {
    "colab": {
     "base_uri": "https://localhost:8080/",
     "height": 327
    },
    "id": "af3df206-7379-409d-b0c1-e03b04c09a4c",
    "outputId": "d69e89d8-63bf-4be2-983e-70db8d3c8b40"
   },
   "outputs": [
    {
     "data": {},
     "metadata": {},
     "output_type": "display_data"
    },
    {
     "data": {
      "application/vnd.holoviews_exec.v0+json": "",
      "text/html": [
       "<div id='095bfbd4-346f-45d6-b5aa-03f404d3ab94'>\n",
       "  <div id=\"f609d381-22a5-4ea4-b04a-f2feff8f575b\" data-root-id=\"095bfbd4-346f-45d6-b5aa-03f404d3ab94\" style=\"display: contents;\"></div>\n",
       "</div>\n",
       "<script type=\"application/javascript\">(function(root) {\n",
       "  var docs_json = {\"706ed71b-d172-4377-9304-28ad54b4b4f0\":{\"version\":\"3.6.3\",\"title\":\"Bokeh Application\",\"roots\":[{\"type\":\"object\",\"name\":\"Row\",\"id\":\"095bfbd4-346f-45d6-b5aa-03f404d3ab94\",\"attributes\":{\"name\":\"Row00525\",\"tags\":[\"embedded\"],\"stylesheets\":[\"\\n:host(.pn-loading):before, .pn-loading:before {\\n  background-color: #c3c3c3;\\n  mask-size: auto calc(min(50%, 400px));\\n  -webkit-mask-size: auto calc(min(50%, 400px));\\n}\",{\"type\":\"object\",\"name\":\"ImportedStyleSheet\",\"id\":\"6cee0f42-4c68-4cd8-b892-8bd6091c1f8b\",\"attributes\":{\"url\":\"https://cdn.holoviz.org/panel/1.6.2/dist/css/loading.css\"}},{\"type\":\"object\",\"name\":\"ImportedStyleSheet\",\"id\":\"92d3cb19-04cf-4a19-ab88-2b2b453b1049\",\"attributes\":{\"url\":\"https://cdn.holoviz.org/panel/1.6.2/dist/css/listpanel.css\"}},{\"type\":\"object\",\"name\":\"ImportedStyleSheet\",\"id\":\"c5720d02-f9ec-4c61-9a74-2d8b1d05d218\",\"attributes\":{\"url\":\"https://cdn.holoviz.org/panel/1.6.2/dist/bundled/theme/default.css\"}},{\"type\":\"object\",\"name\":\"ImportedStyleSheet\",\"id\":\"a68200c4-7c4b-4725-a211-03f3230e37da\",\"attributes\":{\"url\":\"https://cdn.holoviz.org/panel/1.6.2/dist/bundled/theme/native.css\"}}],\"min_width\":700,\"margin\":0,\"sizing_mode\":\"stretch_width\",\"align\":\"start\",\"children\":[{\"type\":\"object\",\"name\":\"Spacer\",\"id\":\"c83d0865-00fc-4219-881c-7b94b475ea23\",\"attributes\":{\"name\":\"HSpacer00529\",\"stylesheets\":[\"\\n:host(.pn-loading):before, .pn-loading:before {\\n  background-color: #c3c3c3;\\n  mask-size: auto calc(min(50%, 400px));\\n  -webkit-mask-size: auto calc(min(50%, 400px));\\n}\",{\"id\":\"6cee0f42-4c68-4cd8-b892-8bd6091c1f8b\"},{\"id\":\"c5720d02-f9ec-4c61-9a74-2d8b1d05d218\"},{\"id\":\"a68200c4-7c4b-4725-a211-03f3230e37da\"}],\"margin\":0,\"sizing_mode\":\"stretch_width\",\"align\":\"start\"}},{\"type\":\"object\",\"name\":\"Figure\",\"id\":\"5f0a43c9-a851-4d99-941f-8b9cf493a248\",\"attributes\":{\"width\":700,\"height\":300,\"margin\":[5,10],\"sizing_mode\":\"fixed\",\"align\":\"start\",\"x_range\":{\"type\":\"object\",\"name\":\"Range1d\",\"id\":\"005a8a11-6338-4715-9420-13190189b0b2\",\"attributes\":{\"name\":\"date-month\",\"tags\":[[[\"date-month\",null]],[]],\"start\":1262304000000.0,\"end\":1606780800000.0,\"reset_start\":1262304000000.0,\"reset_end\":1606780800000.0}},\"y_range\":{\"type\":\"object\",\"name\":\"Range1d\",\"id\":\"250416a1-27c5-47e0-a730-2c2a2b7f8600\",\"attributes\":{\"name\":\"AMOUNT\",\"tags\":[[[\"value\",null]],{\"type\":\"map\",\"entries\":[[\"invert_yaxis\",false],[\"autorange\",false]]}],\"start\":-8368104.138000115,\"end\":92050537.51800126,\"reset_start\":-8368104.138000115,\"reset_end\":92050537.51800126}},\"x_scale\":{\"type\":\"object\",\"name\":\"LinearScale\",\"id\":\"ef473eee-7d42-40d3-8710-c73a1bae5247\"},\"y_scale\":{\"type\":\"object\",\"name\":\"LinearScale\",\"id\":\"51274bf9-108a-45a1-8c9f-1c762287ea91\"},\"title\":{\"type\":\"object\",\"name\":\"Title\",\"id\":\"526287e4-ba86-4211-898e-2579fdf428ba\",\"attributes\":{\"text_color\":\"black\",\"text_font_size\":\"12pt\"}},\"renderers\":[{\"type\":\"object\",\"name\":\"GlyphRenderer\",\"id\":\"70ed2400-c904-4c5d-96d7-61a79e98828c\",\"attributes\":{\"name\":\"AMOUNT\",\"data_source\":{\"type\":\"object\",\"name\":\"ColumnDataSource\",\"id\":\"dae31d39-b40b-49dd-af58-3ad5de1eb950\",\"attributes\":{\"selected\":{\"type\":\"object\",\"name\":\"Selection\",\"id\":\"a1906273-38e5-41da-8d9a-fc0b791584f8\",\"attributes\":{\"indices\":[],\"line_indices\":[]}},\"selection_policy\":{\"type\":\"object\",\"name\":\"UnionRenderers\",\"id\":\"433c7b0c-3e09-46bf-9b8d-0baa912fb2e3\"},\"data\":{\"type\":\"map\",\"entries\":[[\"date-month\",{\"type\":\"ndarray\",\"array\":{\"type\":\"bytes\",\"data\":\"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\"},\"shape\":[1584],\"dtype\":\"float64\",\"order\":\"little\"}],[\"AMOUNT\",{\"type\":\"ndarray\",\"array\":{\"type\":\"bytes\",\"data\":\"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\"},\"shape\":[1584],\"dtype\":\"float64\",\"order\":\"little\"}],[\"date_hyphen_minus_month\",{\"type\":\"ndarray\",\"array\":{\"type\":\"bytes\",\"data\":\"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\"},\"shape\":[1584],\"dtype\":\"float64\",\"order\":\"little\"}],[\"Variable\",[\"AMOUNT\",\"AMOUNT\",\"AMOUNT\",\"AMOUNT\",\"AMOUNT\",\"AMOUNT\",\"AMOUNT\",\"AMOUNT\",\"AMOUNT\",\"AMOUNT\",\"AMOUNT\",\"AMOUNT\",\"AMOUNT\",\"AMOUNT\",\"AMOUNT\",\"AMOUNT\",\"AMOUNT\",\"AMOUNT\",\"AMOUNT\",\"AMOUNT\",\"AMOUNT\",\"AMOUNT\",\"AMOUNT\",\"AMOUNT\",\"AMOUNT\",\"AMOUNT\",\"AMOUNT\",\"AMOUNT\",\"AMOUNT\",\"AMOUNT\",\"AMOUNT\",\"AMOUNT\",\"AMOUNT\",\"AMOUNT\",\"AMOUNT\",\"AMOUNT\",\"AMOUNT\",\"AMOUNT\",\"AMOUNT\",\"AMOUNT\",\"AMOUNT\",\"AMOUNT\",\"AMOUNT\",\"AMOUNT\",\"AMOUNT\",\"AMOUNT\",\"AMOUNT\",\"AMOUNT\",\"AMOUNT\",\"AMOUNT\",\"AMOUNT\",\"AMOUNT\",\"AMOUNT\",\"AMOUNT\",\"AMOUNT\",\"AMOUNT\",\"AMOUNT\",\"AMOUNT\",\"AMOUNT\",\"AMOUNT\",\"AMOUNT\",\"AMOUNT\",\"AMOUNT\",\"AMOUNT\",\"AMOUNT\",\"AMOUNT\",\"AMOUNT\",\"AMOUNT\",\"AMOUNT\",\"AMOUNT\",\"AMOUNT\",\"AMOUNT\",\"AMOUNT\",\"AMOUNT\",\"AMOUNT\",\"AMOUNT\",\"AMOUNT\",\"AMOUNT\",\"AMOUNT\",\"AMOUNT\",\"AMOUNT\",\"AMOUNT\",\"AMOUNT\",\"AMOUNT\",\"AMOUNT\",\"AMOUNT\",\"AMOUNT\",\"AMOUNT\",\"AMOUNT\",\"AMOUNT\",\"AMOUNT\",\"AMOUNT\",\"AMOUNT\",\"AMOUNT\",\"AMOUNT\",\"AMOUNT\",\"AMOUNT\",\"AMOUNT\",\"AMOUNT\",\"AMOUNT\",\"AMOUNT\",\"AMOUNT\",\"AMOUNT\",\"AMOUNT\",\"AMOUNT\",\"AMOUNT\",\"AMOUNT\",\"AMOUNT\",\"AMOUNT\",\"AMOUNT\",\"AMOUNT\",\"AMOUNT\",\"AMOUNT\",\"AMOUNT\",\"AMOUNT\",\"AMOUNT\",\"AMOUNT\",\"AMOUNT\",\"AMOUNT\",\"AMOUNT\",\"AMOUNT\",\"AMOUNT\",\"AMOUNT\",\"AMOUNT\",\"AMOUNT\",\"AMOUNT\",\"AMOUNT\",\"AMOUNT\",\"AMOUNT\",\"AMOUNT\",\"AMOUNT\",\"AMOUNT\",\"AMOUNT\",\"AMOUNT\",\"AMOUNT\",\"AMOUNT\",\"AMOUNT\",\"AMOUNT\",\"AMOUNT\",\"AMOUNT\",\"AMOUNT\",\"AMOUNT\",\"AMOUNT\",\"AMOUNT\",\"AMOUNT\",\"AMOUNT\",\"AMOUNT\",\"AMOUNT\",\"AMOUNT\",\"AMOUNT\",\"AMOUNT\",\"AMOUNT\",\"AMOUNT\",\"AMOUNT\",\"AMOUNT\",\"AMOUNT\",\"AMOUNT\",\"AMOUNT\",\"AMOUNT\",\"AMOUNT\",\"AMOUNT\",\"AMOUNT\",\"AMOUNT\",\"AMOUNT\",\"AMOUNT\",\"AMOUNT\",\"AMOUNT\",\"AMOUNT\",\"AMOUNT\",\"AMOUNT\",\"AMOUNT\",\"AMOUNT\",\"AMOUNT\",\"AMOUNT\",\"AMOUNT\",\"AMOUNT\",\"AMOUNT\",\"AMOUNT\",\"AMOUNT\",\"AMOUNT\",\"AMOUNT\",\"AMOUNT\",\"AMOUNT\",\"AMOUNT\",\"AMOUNT\",\"AMOUNT\",\"AMOUNT\",\"AMOUNT\",\"AMOUNT\",\"AMOUNT\",\"AMOUNT\",\"AMOUNT\",\"AMOUNT\",\"AMOUNT\",\"AMOUNT\",\"AMOUNT\",\"AMOUNT\",\"AMOUNT\",\"AMOUNT\",\"AMOUNT\",\"AMOUNT\",\"AMOUNT\",\"AMOUNT\",\"AMOUNT\",\"AMOUNT\",\"AMOUNT\",\"AMOUNT\",\"AMOUNT\",\"AMOUNT\",\"AMOUNT\",\"AMOUNT\",\"AMOUNT\",\"AMOUNT\",\"AMOUNT\",\"AMOUNT\",\"AMOUNT\",\"AMOUNT\",\"AMOUNT\",\"AMOUNT\",\"AMOUNT\",\"AMOUNT\",\"AMOUNT\",\"AMOUNT\",\"AMOUNT\",\"AMOUNT\",\"AMOUNT\",\"AMOUNT\",\"AMOUNT\",\"AMOUNT\",\"AMOUNT\",\"AMOUNT\",\"AMOUNT\",\"AMOUNT\",\"AMOUNT\",\"AMOUNT\",\"AMOUNT\",\"AMOUNT\",\"AMOUNT\",\"AMOUNT\",\"AMOUNT\",\"AMOUNT\",\"AMOUNT\",\"AMOUNT\",\"AMOUNT\",\"AMOUNT\",\"AMOUNT\",\"AMOUNT\",\"AMOUNT\",\"AMOUNT\",\"AMOUNT\",\"AMOUNT\",\"AMOUNT\",\"AMOUNT\",\"AMOUNT\",\"AMOUNT\",\"AMOUNT\",\"AMOUNT\",\"AMOUNT\",\"AMOUNT\",\"AMOUNT\",\"AMOUNT\",\"AMOUNT\",\"AMOUNT\",\"AMOUNT\",\"AMOUNT\",\"AMOUNT\",\"AMOUNT\",\"AMOUNT\",\"AMOUNT\",\"AMOUNT\",\"AMOUNT\",\"AMOUNT\",\"AMOUNT\",\"AMOUNT\",\"AMOUNT\",\"AMOUNT\",\"AMOUNT\",\"AMOUNT\",\"AMOUNT\",\"AMOUNT\",\"AMOUNT\",\"AMOUNT\",\"AMOUNT\",\"AMOUNT\",\"AMOUNT\",\"AMOUNT\",\"AMOUNT\",\"AMOUNT\",\"AMOUNT\",\"AMOUNT\",\"AMOUNT\",\"AMOUNT\",\"AMOUNT\",\"AMOUNT\",\"AMOUNT\",\"AMOUNT\",\"AMOUNT\",\"AMOUNT\",\"AMOUNT\",\"AMOUNT\",\"AMOUNT\",\"AMOUNT\",\"AMOUNT\",\"AMOUNT\",\"AMOUNT\",\"AMOUNT\",\"AMOUNT\",\"AMOUNT\",\"AMOUNT\",\"AMOUNT\",\"AMOUNT\",\"AMOUNT\",\"AMOUNT\",\"AMOUNT\",\"AMOUNT\",\"AMOUNT\",\"AMOUNT\",\"AMOUNT\",\"AMOUNT\",\"AMOUNT\",\"AMOUNT\",\"AMOUNT\",\"AMOUNT\",\"AMOUNT\",\"AMOUNT\",\"AMOUNT\",\"AMOUNT\",\"AMOUNT\",\"AMOUNT\",\"AMOUNT\",\"AMOUNT\",\"AMOUNT\",\"AMOUNT\",\"AMOUNT\",\"AMOUNT\",\"AMOUNT\",\"AMOUNT\",\"AMOUNT\",\"AMOUNT\",\"AMOUNT\",\"AMOUNT\",\"AMOUNT\",\"AMOUNT\",\"AMOUNT\",\"AMOUNT\",\"AMOUNT\",\"AMOUNT\",\"AMOUNT\",\"AMOUNT\",\"AMOUNT\",\"AMOUNT\",\"AMOUNT\",\"AMOUNT\",\"AMOUNT\",\"AMOUNT\",\"AMOUNT\",\"AMOUNT\",\"AMOUNT\",\"AMOUNT\",\"AMOUNT\",\"AMOUNT\",\"AMOUNT\",\"AMOUNT\",\"AMOUNT\",\"AMOUNT\",\"AMOUNT\",\"AMOUNT\",\"AMOUNT\",\"AMOUNT\",\"AMOUNT\",\"AMOUNT\",\"AMOUNT\",\"AMOUNT\",\"AMOUNT\",\"AMOUNT\",\"AMOUNT\",\"AMOUNT\",\"AMOUNT\",\"AMOUNT\",\"AMOUNT\",\"AMOUNT\",\"AMOUNT\",\"AMOUNT\",\"AMOUNT\",\"AMOUNT\",\"AMOUNT\",\"AMOUNT\",\"AMOUNT\",\"AMOUNT\",\"AMOUNT\",\"AMOUNT\",\"AMOUNT\",\"AMOUNT\",\"AMOUNT\",\"AMOUNT\",\"AMOUNT\",\"AMOUNT\",\"AMOUNT\",\"AMOUNT\",\"AMOUNT\",\"AMOUNT\",\"AMOUNT\",\"AMOUNT\",\"AMOUNT\",\"AMOUNT\",\"AMOUNT\",\"AMOUNT\",\"AMOUNT\",\"AMOUNT\",\"AMOUNT\",\"AMOUNT\",\"AMOUNT\",\"AMOUNT\",\"AMOUNT\",\"AMOUNT\",\"AMOUNT\",\"AMOUNT\",\"AMOUNT\",\"AMOUNT\",\"AMOUNT\",\"AMOUNT\",\"AMOUNT\",\"AMOUNT\",\"AMOUNT\",\"AMOUNT\",\"AMOUNT\",\"AMOUNT\",\"AMOUNT\",\"AMOUNT\",\"AMOUNT\",\"AMOUNT\",\"AMOUNT\",\"AMOUNT\",\"AMOUNT\",\"AMOUNT\",\"AMOUNT\",\"AMOUNT\",\"AMOUNT\",\"AMOUNT\",\"AMOUNT\",\"AMOUNT\",\"AMOUNT\",\"AMOUNT\",\"AMOUNT\",\"AMOUNT\",\"AMOUNT\",\"AMOUNT\",\"AMOUNT\",\"AMOUNT\",\"AMOUNT\",\"AMOUNT\",\"AMOUNT\",\"AMOUNT\",\"AMOUNT\",\"AMOUNT\",\"AMOUNT\",\"AMOUNT\",\"AMOUNT\",\"AMOUNT\",\"AMOUNT\",\"AMOUNT\",\"AMOUNT\",\"AMOUNT\",\"AMOUNT\",\"AMOUNT\",\"AMOUNT\",\"AMOUNT\",\"AMOUNT\",\"AMOUNT\",\"AMOUNT\",\"AMOUNT\",\"AMOUNT\",\"AMOUNT\",\"AMOUNT\",\"AMOUNT\",\"AMOUNT\",\"AMOUNT\",\"AMOUNT\",\"AMOUNT\",\"AMOUNT\",\"AMOUNT\",\"AMOUNT\",\"AMOUNT\",\"AMOUNT\",\"AMOUNT\",\"AMOUNT\",\"AMOUNT\",\"AMOUNT\",\"AMOUNT\",\"AMOUNT\",\"AMOUNT\",\"AMOUNT\",\"AMOUNT\",\"AMOUNT\",\"AMOUNT\",\"AMOUNT\",\"AMOUNT\",\"AMOUNT\",\"AMOUNT\",\"AMOUNT\",\"AMOUNT\",\"AMOUNT\",\"AMOUNT\",\"AMOUNT\",\"AMOUNT\",\"AMOUNT\",\"AMOUNT\",\"AMOUNT\",\"AMOUNT\",\"AMOUNT\",\"AMOUNT\",\"AMOUNT\",\"AMOUNT\",\"AMOUNT\",\"AMOUNT\",\"AMOUNT\",\"AMOUNT\",\"AMOUNT\",\"AMOUNT\",\"AMOUNT\",\"AMOUNT\",\"AMOUNT\",\"AMOUNT\",\"AMOUNT\",\"AMOUNT\",\"AMOUNT\",\"AMOUNT\",\"AMOUNT\",\"AMOUNT\",\"AMOUNT\",\"AMOUNT\",\"AMOUNT\",\"AMOUNT\",\"AMOUNT\",\"AMOUNT\",\"AMOUNT\",\"AMOUNT\",\"AMOUNT\",\"AMOUNT\",\"AMOUNT\",\"AMOUNT\",\"AMOUNT\",\"AMOUNT\",\"AMOUNT\",\"AMOUNT\",\"AMOUNT\",\"AMOUNT\",\"AMOUNT\",\"AMOUNT\",\"AMOUNT\",\"AMOUNT\",\"AMOUNT\",\"AMOUNT\",\"AMOUNT\",\"AMOUNT\",\"AMOUNT\",\"AMOUNT\",\"AMOUNT\",\"AMOUNT\",\"AMOUNT\",\"AMOUNT\",\"AMOUNT\",\"AMOUNT\",\"AMOUNT\",\"AMOUNT\",\"AMOUNT\",\"AMOUNT\",\"AMOUNT\",\"AMOUNT\",\"AMOUNT\",\"AMOUNT\",\"AMOUNT\",\"AMOUNT\",\"AMOUNT\",\"AMOUNT\",\"AMOUNT\",\"AMOUNT\",\"AMOUNT\",\"AMOUNT\",\"AMOUNT\",\"AMOUNT\",\"AMOUNT\",\"AMOUNT\",\"AMOUNT\",\"AMOUNT\",\"AMOUNT\",\"AMOUNT\",\"AMOUNT\",\"AMOUNT\",\"AMOUNT\",\"AMOUNT\",\"AMOUNT\",\"AMOUNT\",\"AMOUNT\",\"AMOUNT\",\"AMOUNT\",\"AMOUNT\",\"AMOUNT\",\"AMOUNT\",\"AMOUNT\",\"AMOUNT\",\"AMOUNT\",\"AMOUNT\",\"AMOUNT\",\"AMOUNT\",\"AMOUNT\",\"AMOUNT\",\"AMOUNT\",\"AMOUNT\",\"AMOUNT\",\"AMOUNT\",\"AMOUNT\",\"AMOUNT\",\"AMOUNT\",\"AMOUNT\",\"AMOUNT\",\"AMOUNT\",\"AMOUNT\",\"AMOUNT\",\"AMOUNT\",\"AMOUNT\",\"AMOUNT\",\"AMOUNT\",\"AMOUNT\",\"AMOUNT\",\"AMOUNT\",\"AMOUNT\",\"AMOUNT\",\"AMOUNT\",\"AMOUNT\",\"AMOUNT\",\"AMOUNT\",\"AMOUNT\",\"AMOUNT\",\"AMOUNT\",\"AMOUNT\",\"AMOUNT\",\"AMOUNT\",\"AMOUNT\",\"AMOUNT\",\"AMOUNT\",\"AMOUNT\",\"AMOUNT\",\"AMOUNT\",\"AMOUNT\",\"AMOUNT\",\"AMOUNT\",\"AMOUNT\",\"AMOUNT\",\"AMOUNT\",\"AMOUNT\",\"AMOUNT\",\"AMOUNT\",\"AMOUNT\",\"AMOUNT\",\"AMOUNT\",\"AMOUNT\",\"AMOUNT\",\"AMOUNT\",\"AMOUNT\",\"AMOUNT\",\"AMOUNT\",\"AMOUNT\",\"AMOUNT\",\"AMOUNT\",\"AMOUNT\",\"AMOUNT\",\"AMOUNT\",\"AMOUNT\",\"AMOUNT\",\"AMOUNT\",\"AMOUNT\",\"AMOUNT\",\"AMOUNT\",\"AMOUNT\",\"AMOUNT\",\"AMOUNT\",\"AMOUNT\",\"AMOUNT\",\"AMOUNT\",\"AMOUNT\",\"AMOUNT\",\"AMOUNT\",\"AMOUNT\",\"AMOUNT\",\"AMOUNT\",\"AMOUNT\",\"AMOUNT\",\"AMOUNT\",\"AMOUNT\",\"AMOUNT\",\"AMOUNT\",\"AMOUNT\",\"AMOUNT\",\"AMOUNT\",\"AMOUNT\",\"AMOUNT\",\"AMOUNT\",\"AMOUNT\",\"AMOUNT\",\"AMOUNT\",\"AMOUNT\",\"AMOUNT\",\"AMOUNT\",\"AMOUNT\",\"AMOUNT\",\"AMOUNT\",\"AMOUNT\",\"AMOUNT\",\"AMOUNT\",\"AMOUNT\",\"AMOUNT\",\"AMOUNT\",\"AMOUNT\",\"AMOUNT\",\"AMOUNT\",\"AMOUNT\",\"AMOUNT\",\"AMOUNT\",\"AMOUNT\",\"AMOUNT\",\"AMOUNT\",\"AMOUNT\",\"AMOUNT\",\"AMOUNT\",\"AMOUNT\",\"AMOUNT\",\"AMOUNT\",\"AMOUNT\",\"AMOUNT\",\"AMOUNT\",\"AMOUNT\",\"AMOUNT\",\"AMOUNT\",\"AMOUNT\",\"AMOUNT\",\"AMOUNT\",\"AMOUNT\",\"AMOUNT\",\"AMOUNT\",\"AMOUNT\",\"AMOUNT\",\"AMOUNT\",\"AMOUNT\",\"AMOUNT\",\"AMOUNT\",\"AMOUNT\",\"AMOUNT\",\"AMOUNT\",\"AMOUNT\",\"AMOUNT\",\"AMOUNT\",\"AMOUNT\",\"AMOUNT\",\"AMOUNT\",\"AMOUNT\",\"AMOUNT\",\"AMOUNT\",\"AMOUNT\",\"AMOUNT\",\"AMOUNT\",\"AMOUNT\",\"AMOUNT\",\"AMOUNT\",\"AMOUNT\",\"AMOUNT\",\"AMOUNT\",\"AMOUNT\",\"AMOUNT\",\"AMOUNT\",\"AMOUNT\",\"AMOUNT\",\"AMOUNT\",\"AMOUNT\",\"AMOUNT\",\"AMOUNT\",\"AMOUNT\",\"AMOUNT\",\"AMOUNT\",\"AMOUNT\",\"AMOUNT\",\"AMOUNT\",\"AMOUNT\",\"AMOUNT\",\"AMOUNT\",\"AMOUNT\",\"AMOUNT\",\"AMOUNT\",\"AMOUNT\",\"AMOUNT\",\"AMOUNT\",\"AMOUNT\",\"AMOUNT\",\"AMOUNT\",\"AMOUNT\",\"AMOUNT\",\"AMOUNT\",\"AMOUNT\",\"AMOUNT\",\"AMOUNT\",\"AMOUNT\",\"AMOUNT\",\"AMOUNT\",\"AMOUNT\",\"AMOUNT\",\"AMOUNT\",\"AMOUNT\",\"AMOUNT\",\"AMOUNT\",\"AMOUNT\",\"AMOUNT\",\"AMOUNT\",\"AMOUNT\",\"AMOUNT\",\"AMOUNT\",\"AMOUNT\",\"AMOUNT\",\"AMOUNT\",\"AMOUNT\",\"AMOUNT\",\"AMOUNT\",\"AMOUNT\",\"AMOUNT\",\"AMOUNT\",\"AMOUNT\",\"AMOUNT\",\"AMOUNT\",\"AMOUNT\",\"AMOUNT\",\"AMOUNT\",\"AMOUNT\",\"AMOUNT\",\"AMOUNT\",\"AMOUNT\",\"AMOUNT\",\"AMOUNT\",\"AMOUNT\",\"AMOUNT\",\"AMOUNT\",\"AMOUNT\",\"AMOUNT\",\"AMOUNT\",\"AMOUNT\",\"AMOUNT\",\"AMOUNT\",\"AMOUNT\",\"AMOUNT\",\"AMOUNT\",\"AMOUNT\",\"AMOUNT\",\"AMOUNT\",\"AMOUNT\",\"AMOUNT\",\"AMOUNT\",\"AMOUNT\",\"AMOUNT\",\"AMOUNT\",\"AMOUNT\",\"AMOUNT\",\"AMOUNT\",\"AMOUNT\",\"AMOUNT\",\"AMOUNT\",\"AMOUNT\",\"AMOUNT\",\"AMOUNT\",\"AMOUNT\",\"AMOUNT\",\"AMOUNT\",\"AMOUNT\",\"AMOUNT\",\"AMOUNT\",\"AMOUNT\",\"AMOUNT\",\"AMOUNT\",\"AMOUNT\",\"AMOUNT\",\"AMOUNT\",\"AMOUNT\",\"AMOUNT\",\"AMOUNT\",\"AMOUNT\",\"AMOUNT\",\"AMOUNT\",\"AMOUNT\",\"AMOUNT\",\"AMOUNT\",\"AMOUNT\",\"AMOUNT\",\"AMOUNT\",\"AMOUNT\",\"AMOUNT\",\"AMOUNT\",\"AMOUNT\",\"AMOUNT\",\"AMOUNT\",\"AMOUNT\",\"AMOUNT\",\"AMOUNT\",\"AMOUNT\",\"AMOUNT\",\"AMOUNT\",\"AMOUNT\",\"AMOUNT\",\"AMOUNT\",\"AMOUNT\",\"AMOUNT\",\"AMOUNT\",\"AMOUNT\",\"AMOUNT\",\"AMOUNT\",\"AMOUNT\",\"AMOUNT\",\"AMOUNT\",\"AMOUNT\",\"AMOUNT\",\"AMOUNT\",\"AMOUNT\",\"AMOUNT\",\"AMOUNT\",\"AMOUNT\",\"AMOUNT\",\"AMOUNT\",\"AMOUNT\",\"AMOUNT\",\"AMOUNT\",\"AMOUNT\",\"AMOUNT\",\"AMOUNT\",\"AMOUNT\",\"AMOUNT\",\"AMOUNT\",\"AMOUNT\",\"AMOUNT\",\"AMOUNT\",\"AMOUNT\",\"AMOUNT\",\"AMOUNT\",\"AMOUNT\",\"AMOUNT\",\"AMOUNT\",\"AMOUNT\",\"AMOUNT\",\"AMOUNT\",\"AMOUNT\",\"AMOUNT\",\"AMOUNT\",\"AMOUNT\",\"AMOUNT\",\"AMOUNT\",\"AMOUNT\",\"AMOUNT\",\"AMOUNT\",\"AMOUNT\",\"AMOUNT\",\"AMOUNT\",\"AMOUNT\",\"AMOUNT\",\"AMOUNT\",\"AMOUNT\",\"AMOUNT\",\"AMOUNT\",\"AMOUNT\",\"AMOUNT\",\"AMOUNT\",\"AMOUNT\",\"AMOUNT\",\"AMOUNT\",\"AMOUNT\",\"AMOUNT\",\"AMOUNT\",\"AMOUNT\",\"AMOUNT\",\"AMOUNT\",\"AMOUNT\",\"AMOUNT\",\"AMOUNT\",\"AMOUNT\",\"AMOUNT\",\"AMOUNT\",\"AMOUNT\",\"AMOUNT\",\"AMOUNT\",\"AMOUNT\",\"AMOUNT\",\"AMOUNT\",\"AMOUNT\",\"AMOUNT\",\"AMOUNT\",\"AMOUNT\",\"AMOUNT\",\"AMOUNT\",\"AMOUNT\",\"AMOUNT\",\"AMOUNT\",\"AMOUNT\",\"AMOUNT\",\"AMOUNT\",\"AMOUNT\",\"AMOUNT\",\"AMOUNT\",\"AMOUNT\",\"AMOUNT\",\"AMOUNT\",\"AMOUNT\",\"AMOUNT\",\"AMOUNT\",\"AMOUNT\",\"AMOUNT\",\"AMOUNT\",\"AMOUNT\",\"AMOUNT\",\"AMOUNT\",\"AMOUNT\",\"AMOUNT\",\"AMOUNT\",\"AMOUNT\",\"AMOUNT\",\"AMOUNT\",\"AMOUNT\",\"AMOUNT\",\"AMOUNT\",\"AMOUNT\",\"AMOUNT\",\"AMOUNT\",\"AMOUNT\",\"AMOUNT\",\"AMOUNT\",\"AMOUNT\",\"AMOUNT\",\"AMOUNT\",\"AMOUNT\",\"AMOUNT\",\"AMOUNT\",\"AMOUNT\",\"AMOUNT\",\"AMOUNT\",\"AMOUNT\",\"AMOUNT\",\"AMOUNT\",\"AMOUNT\",\"AMOUNT\",\"AMOUNT\",\"AMOUNT\",\"AMOUNT\",\"AMOUNT\",\"AMOUNT\",\"AMOUNT\",\"AMOUNT\",\"AMOUNT\",\"AMOUNT\",\"AMOUNT\",\"AMOUNT\",\"AMOUNT\",\"AMOUNT\",\"AMOUNT\",\"AMOUNT\",\"AMOUNT\",\"AMOUNT\",\"AMOUNT\",\"AMOUNT\",\"AMOUNT\",\"AMOUNT\",\"AMOUNT\",\"AMOUNT\",\"AMOUNT\",\"AMOUNT\",\"AMOUNT\",\"AMOUNT\",\"AMOUNT\",\"AMOUNT\",\"AMOUNT\",\"AMOUNT\",\"AMOUNT\",\"AMOUNT\",\"AMOUNT\",\"AMOUNT\",\"AMOUNT\",\"AMOUNT\",\"AMOUNT\",\"AMOUNT\",\"AMOUNT\",\"AMOUNT\",\"AMOUNT\",\"AMOUNT\",\"AMOUNT\",\"AMOUNT\",\"AMOUNT\",\"AMOUNT\",\"AMOUNT\",\"AMOUNT\",\"AMOUNT\",\"AMOUNT\",\"AMOUNT\",\"AMOUNT\",\"AMOUNT\",\"AMOUNT\",\"AMOUNT\",\"AMOUNT\",\"AMOUNT\",\"AMOUNT\",\"AMOUNT\",\"AMOUNT\",\"AMOUNT\",\"AMOUNT\",\"AMOUNT\",\"AMOUNT\",\"AMOUNT\",\"AMOUNT\",\"AMOUNT\",\"AMOUNT\",\"AMOUNT\",\"AMOUNT\",\"AMOUNT\",\"AMOUNT\",\"AMOUNT\",\"AMOUNT\",\"AMOUNT\",\"AMOUNT\",\"AMOUNT\",\"AMOUNT\",\"AMOUNT\",\"AMOUNT\",\"AMOUNT\",\"AMOUNT\",\"AMOUNT\",\"AMOUNT\",\"AMOUNT\",\"AMOUNT\",\"AMOUNT\",\"AMOUNT\",\"AMOUNT\",\"AMOUNT\",\"AMOUNT\",\"AMOUNT\",\"AMOUNT\",\"AMOUNT\",\"AMOUNT\",\"AMOUNT\",\"AMOUNT\",\"AMOUNT\",\"AMOUNT\",\"AMOUNT\",\"AMOUNT\",\"AMOUNT\",\"AMOUNT\",\"AMOUNT\",\"AMOUNT\",\"AMOUNT\",\"AMOUNT\",\"AMOUNT\",\"AMOUNT\",\"AMOUNT\",\"AMOUNT\",\"AMOUNT\",\"AMOUNT\",\"AMOUNT\",\"AMOUNT\",\"AMOUNT\",\"AMOUNT\",\"AMOUNT\",\"AMOUNT\",\"AMOUNT\",\"AMOUNT\",\"AMOUNT\",\"AMOUNT\",\"AMOUNT\",\"AMOUNT\",\"AMOUNT\",\"AMOUNT\",\"AMOUNT\",\"AMOUNT\",\"AMOUNT\",\"AMOUNT\",\"AMOUNT\",\"AMOUNT\",\"AMOUNT\",\"AMOUNT\",\"AMOUNT\",\"AMOUNT\",\"AMOUNT\",\"AMOUNT\",\"AMOUNT\",\"AMOUNT\",\"AMOUNT\",\"AMOUNT\",\"AMOUNT\",\"AMOUNT\",\"AMOUNT\",\"AMOUNT\",\"AMOUNT\",\"AMOUNT\",\"AMOUNT\",\"AMOUNT\",\"AMOUNT\",\"AMOUNT\",\"AMOUNT\",\"AMOUNT\",\"AMOUNT\",\"AMOUNT\",\"AMOUNT\",\"AMOUNT\",\"AMOUNT\",\"AMOUNT\",\"AMOUNT\",\"AMOUNT\",\"AMOUNT\",\"AMOUNT\",\"AMOUNT\",\"AMOUNT\",\"AMOUNT\",\"AMOUNT\",\"AMOUNT\",\"AMOUNT\",\"AMOUNT\",\"AMOUNT\",\"AMOUNT\",\"AMOUNT\",\"AMOUNT\",\"AMOUNT\",\"AMOUNT\",\"AMOUNT\",\"AMOUNT\",\"AMOUNT\",\"AMOUNT\",\"AMOUNT\",\"AMOUNT\",\"AMOUNT\",\"AMOUNT\",\"AMOUNT\",\"AMOUNT\",\"AMOUNT\",\"AMOUNT\",\"AMOUNT\",\"AMOUNT\",\"AMOUNT\",\"AMOUNT\",\"AMOUNT\",\"AMOUNT\",\"AMOUNT\",\"AMOUNT\",\"AMOUNT\",\"AMOUNT\",\"AMOUNT\",\"AMOUNT\",\"AMOUNT\",\"AMOUNT\",\"AMOUNT\",\"AMOUNT\",\"AMOUNT\",\"AMOUNT\",\"AMOUNT\",\"AMOUNT\",\"AMOUNT\",\"AMOUNT\",\"AMOUNT\",\"AMOUNT\",\"AMOUNT\",\"AMOUNT\",\"AMOUNT\",\"AMOUNT\",\"AMOUNT\",\"AMOUNT\",\"AMOUNT\",\"AMOUNT\",\"AMOUNT\",\"AMOUNT\",\"AMOUNT\",\"AMOUNT\",\"AMOUNT\",\"AMOUNT\",\"AMOUNT\",\"AMOUNT\",\"AMOUNT\",\"AMOUNT\",\"AMOUNT\",\"AMOUNT\",\"AMOUNT\",\"AMOUNT\",\"AMOUNT\",\"AMOUNT\",\"AMOUNT\",\"AMOUNT\",\"AMOUNT\",\"AMOUNT\",\"AMOUNT\",\"AMOUNT\",\"AMOUNT\",\"AMOUNT\",\"AMOUNT\",\"AMOUNT\",\"AMOUNT\",\"AMOUNT\",\"AMOUNT\",\"AMOUNT\",\"AMOUNT\",\"AMOUNT\",\"AMOUNT\",\"AMOUNT\",\"AMOUNT\",\"AMOUNT\",\"AMOUNT\",\"AMOUNT\",\"AMOUNT\",\"AMOUNT\",\"AMOUNT\",\"AMOUNT\",\"AMOUNT\",\"AMOUNT\",\"AMOUNT\",\"AMOUNT\",\"AMOUNT\",\"AMOUNT\",\"AMOUNT\",\"AMOUNT\",\"AMOUNT\",\"AMOUNT\",\"AMOUNT\",\"AMOUNT\",\"AMOUNT\",\"AMOUNT\",\"AMOUNT\",\"AMOUNT\",\"AMOUNT\",\"AMOUNT\",\"AMOUNT\",\"AMOUNT\",\"AMOUNT\",\"AMOUNT\",\"AMOUNT\",\"AMOUNT\",\"AMOUNT\",\"AMOUNT\",\"AMOUNT\",\"AMOUNT\",\"AMOUNT\",\"AMOUNT\",\"AMOUNT\",\"AMOUNT\",\"AMOUNT\",\"AMOUNT\",\"AMOUNT\",\"AMOUNT\",\"AMOUNT\",\"AMOUNT\",\"AMOUNT\",\"AMOUNT\",\"AMOUNT\",\"AMOUNT\",\"AMOUNT\",\"AMOUNT\",\"AMOUNT\",\"AMOUNT\",\"AMOUNT\",\"AMOUNT\",\"AMOUNT\",\"AMOUNT\",\"AMOUNT\",\"AMOUNT\",\"AMOUNT\",\"AMOUNT\",\"AMOUNT\",\"AMOUNT\",\"AMOUNT\",\"AMOUNT\",\"AMOUNT\",\"AMOUNT\",\"AMOUNT\",\"AMOUNT\",\"AMOUNT\",\"AMOUNT\",\"AMOUNT\",\"AMOUNT\",\"AMOUNT\",\"AMOUNT\",\"AMOUNT\",\"AMOUNT\",\"AMOUNT\",\"AMOUNT\",\"AMOUNT\",\"AMOUNT\",\"AMOUNT\",\"AMOUNT\",\"AMOUNT\",\"AMOUNT\",\"AMOUNT\",\"AMOUNT\",\"AMOUNT\",\"AMOUNT\",\"AMOUNT\",\"AMOUNT\",\"AMOUNT\",\"AMOUNT\",\"AMOUNT\",\"AMOUNT\",\"AMOUNT\",\"AMOUNT\",\"AMOUNT\",\"AMOUNT\",\"AMOUNT\",\"AMOUNT\",\"AMOUNT\",\"AMOUNT\",\"AMOUNT\",\"AMOUNT\",\"AMOUNT\",\"AMOUNT\",\"AMOUNT\",\"AMOUNT\",\"AMOUNT\",\"AMOUNT\",\"AMOUNT\",\"AMOUNT\",\"AMOUNT\",\"AMOUNT\",\"AMOUNT\",\"AMOUNT\",\"AMOUNT\",\"AMOUNT\",\"AMOUNT\",\"AMOUNT\",\"AMOUNT\",\"AMOUNT\",\"AMOUNT\",\"AMOUNT\",\"AMOUNT\",\"AMOUNT\",\"AMOUNT\",\"AMOUNT\",\"AMOUNT\",\"AMOUNT\",\"AMOUNT\",\"AMOUNT\",\"AMOUNT\",\"AMOUNT\",\"AMOUNT\",\"AMOUNT\",\"AMOUNT\",\"AMOUNT\",\"AMOUNT\",\"AMOUNT\",\"AMOUNT\",\"AMOUNT\",\"AMOUNT\",\"AMOUNT\",\"AMOUNT\",\"AMOUNT\",\"AMOUNT\",\"AMOUNT\",\"AMOUNT\",\"AMOUNT\",\"AMOUNT\",\"AMOUNT\",\"AMOUNT\",\"AMOUNT\",\"AMOUNT\",\"AMOUNT\",\"AMOUNT\",\"AMOUNT\",\"AMOUNT\",\"AMOUNT\",\"AMOUNT\",\"AMOUNT\",\"AMOUNT\",\"AMOUNT\",\"AMOUNT\",\"AMOUNT\",\"AMOUNT\",\"AMOUNT\",\"AMOUNT\",\"AMOUNT\",\"AMOUNT\",\"AMOUNT\",\"AMOUNT\",\"AMOUNT\",\"AMOUNT\",\"AMOUNT\",\"AMOUNT\",\"AMOUNT\",\"AMOUNT\",\"AMOUNT\",\"AMOUNT\",\"AMOUNT\",\"AMOUNT\",\"AMOUNT\",\"AMOUNT\",\"AMOUNT\",\"AMOUNT\",\"AMOUNT\",\"AMOUNT\",\"AMOUNT\",\"AMOUNT\",\"AMOUNT\",\"AMOUNT\",\"AMOUNT\",\"AMOUNT\",\"AMOUNT\",\"AMOUNT\",\"AMOUNT\",\"AMOUNT\",\"AMOUNT\",\"AMOUNT\",\"AMOUNT\",\"AMOUNT\",\"AMOUNT\",\"AMOUNT\",\"AMOUNT\",\"AMOUNT\",\"AMOUNT\",\"AMOUNT\",\"AMOUNT\",\"AMOUNT\",\"AMOUNT\",\"AMOUNT\",\"AMOUNT\",\"AMOUNT\",\"AMOUNT\",\"AMOUNT\",\"AMOUNT\",\"AMOUNT\",\"AMOUNT\",\"AMOUNT\",\"AMOUNT\",\"AMOUNT\",\"AMOUNT\",\"AMOUNT\",\"AMOUNT\",\"AMOUNT\",\"AMOUNT\",\"AMOUNT\",\"AMOUNT\",\"AMOUNT\",\"AMOUNT\",\"AMOUNT\",\"AMOUNT\",\"AMOUNT\",\"AMOUNT\",\"AMOUNT\",\"AMOUNT\",\"AMOUNT\",\"AMOUNT\",\"AMOUNT\",\"AMOUNT\",\"AMOUNT\",\"AMOUNT\",\"AMOUNT\",\"AMOUNT\",\"AMOUNT\",\"AMOUNT\",\"AMOUNT\",\"AMOUNT\",\"AMOUNT\",\"AMOUNT\",\"AMOUNT\",\"AMOUNT\",\"AMOUNT\",\"AMOUNT\",\"AMOUNT\",\"AMOUNT\",\"AMOUNT\",\"AMOUNT\",\"AMOUNT\",\"AMOUNT\",\"AMOUNT\",\"AMOUNT\",\"AMOUNT\",\"AMOUNT\",\"AMOUNT\",\"AMOUNT\",\"AMOUNT\",\"AMOUNT\",\"AMOUNT\",\"AMOUNT\",\"AMOUNT\",\"AMOUNT\",\"AMOUNT\",\"AMOUNT\",\"AMOUNT\",\"AMOUNT\",\"AMOUNT\",\"AMOUNT\",\"AMOUNT\",\"AMOUNT\",\"AMOUNT\"]]]}}},\"view\":{\"type\":\"object\",\"name\":\"CDSView\",\"id\":\"e2c6e3b8-ba0e-4ebb-aecd-c8c139f7cfae\",\"attributes\":{\"filter\":{\"type\":\"object\",\"name\":\"AllIndices\",\"id\":\"e91c9458-a61e-4074-87e1-7184a263ccee\"}}},\"glyph\":{\"type\":\"object\",\"name\":\"Line\",\"id\":\"56ba6f0c-f4ef-446c-8784-591c9b1d9c0b\",\"attributes\":{\"tags\":[\"apply_ranges\"],\"x\":{\"type\":\"field\",\"field\":\"date-month\"},\"y\":{\"type\":\"field\",\"field\":\"AMOUNT\"},\"line_color\":\"#30a2da\",\"line_width\":2}},\"selection_glyph\":{\"type\":\"object\",\"name\":\"Line\",\"id\":\"ac5fb309-8361-440e-ac09-a6bf1702a094\",\"attributes\":{\"tags\":[\"apply_ranges\"],\"x\":{\"type\":\"field\",\"field\":\"date-month\"},\"y\":{\"type\":\"field\",\"field\":\"AMOUNT\"},\"line_color\":\"#30a2da\",\"line_width\":2}},\"nonselection_glyph\":{\"type\":\"object\",\"name\":\"Line\",\"id\":\"b43f5efe-0275-411f-9f82-a70f0e559f0c\",\"attributes\":{\"tags\":[\"apply_ranges\"],\"x\":{\"type\":\"field\",\"field\":\"date-month\"},\"y\":{\"type\":\"field\",\"field\":\"AMOUNT\"},\"line_color\":\"#30a2da\",\"line_alpha\":0.1,\"line_width\":2}},\"muted_glyph\":{\"type\":\"object\",\"name\":\"Line\",\"id\":\"d62bbfc8-aa9f-49df-98bc-c29bd6068072\",\"attributes\":{\"tags\":[\"apply_ranges\"],\"x\":{\"type\":\"field\",\"field\":\"date-month\"},\"y\":{\"type\":\"field\",\"field\":\"AMOUNT\"},\"line_color\":\"#30a2da\",\"line_alpha\":0.2,\"line_width\":2}}}},{\"type\":\"object\",\"name\":\"GlyphRenderer\",\"id\":\"58638a5d-bfe4-4e25-821a-0c0a393d69da\",\"attributes\":{\"name\":\"Rainfall (inches)\",\"data_source\":{\"type\":\"object\",\"name\":\"ColumnDataSource\",\"id\":\"831800a4-9990-423e-9781-b6754a13a074\",\"attributes\":{\"selected\":{\"type\":\"object\",\"name\":\"Selection\",\"id\":\"aaa69b8c-6aef-48f2-aaad-78609a67bbe9\",\"attributes\":{\"indices\":[],\"line_indices\":[]}},\"selection_policy\":{\"type\":\"object\",\"name\":\"UnionRenderers\",\"id\":\"1a37b597-9a9e-492e-ab21-406a69d77c4a\"},\"data\":{\"type\":\"map\",\"entries\":[[\"date-month\",{\"type\":\"ndarray\",\"array\":{\"type\":\"bytes\",\"data\":\"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\"},\"shape\":[1584],\"dtype\":\"float64\",\"order\":\"little\"}],[\"Rainfall (inches)\",{\"type\":\"ndarray\",\"array\":{\"type\":\"bytes\",\"data\":\"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\"},\"shape\":[1584],\"dtype\":\"float64\",\"order\":\"little\"}],[\"date_hyphen_minus_month\",{\"type\":\"ndarray\",\"array\":{\"type\":\"bytes\",\"data\":\"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\"},\"shape\":[1584],\"dtype\":\"float64\",\"order\":\"little\"}],[\"Rainfall_left_parenthesis_inches_right_parenthesis\",{\"type\":\"ndarray\",\"array\":{\"type\":\"bytes\",\"data\":\"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\"},\"shape\":[1584],\"dtype\":\"float64\",\"order\":\"little\"}],[\"Variable\",[\"Rainfall (inches)\",\"Rainfall (inches)\",\"Rainfall (inches)\",\"Rainfall (inches)\",\"Rainfall (inches)\",\"Rainfall (inches)\",\"Rainfall (inches)\",\"Rainfall (inches)\",\"Rainfall (inches)\",\"Rainfall (inches)\",\"Rainfall (inches)\",\"Rainfall (inches)\",\"Rainfall (inches)\",\"Rainfall (inches)\",\"Rainfall (inches)\",\"Rainfall (inches)\",\"Rainfall (inches)\",\"Rainfall (inches)\",\"Rainfall (inches)\",\"Rainfall (inches)\",\"Rainfall (inches)\",\"Rainfall (inches)\",\"Rainfall (inches)\",\"Rainfall (inches)\",\"Rainfall (inches)\",\"Rainfall (inches)\",\"Rainfall (inches)\",\"Rainfall (inches)\",\"Rainfall (inches)\",\"Rainfall (inches)\",\"Rainfall (inches)\",\"Rainfall (inches)\",\"Rainfall (inches)\",\"Rainfall (inches)\",\"Rainfall (inches)\",\"Rainfall (inches)\",\"Rainfall (inches)\",\"Rainfall (inches)\",\"Rainfall (inches)\",\"Rainfall (inches)\",\"Rainfall (inches)\",\"Rainfall (inches)\",\"Rainfall (inches)\",\"Rainfall (inches)\",\"Rainfall (inches)\",\"Rainfall (inches)\",\"Rainfall (inches)\",\"Rainfall (inches)\",\"Rainfall (inches)\",\"Rainfall (inches)\",\"Rainfall (inches)\",\"Rainfall (inches)\",\"Rainfall (inches)\",\"Rainfall (inches)\",\"Rainfall (inches)\",\"Rainfall (inches)\",\"Rainfall (inches)\",\"Rainfall (inches)\",\"Rainfall (inches)\",\"Rainfall (inches)\",\"Rainfall (inches)\",\"Rainfall (inches)\",\"Rainfall (inches)\",\"Rainfall (inches)\",\"Rainfall (inches)\",\"Rainfall (inches)\",\"Rainfall (inches)\",\"Rainfall (inches)\",\"Rainfall (inches)\",\"Rainfall (inches)\",\"Rainfall (inches)\",\"Rainfall (inches)\",\"Rainfall (inches)\",\"Rainfall (inches)\",\"Rainfall (inches)\",\"Rainfall (inches)\",\"Rainfall (inches)\",\"Rainfall (inches)\",\"Rainfall (inches)\",\"Rainfall (inches)\",\"Rainfall (inches)\",\"Rainfall (inches)\",\"Rainfall (inches)\",\"Rainfall (inches)\",\"Rainfall (inches)\",\"Rainfall (inches)\",\"Rainfall (inches)\",\"Rainfall (inches)\",\"Rainfall (inches)\",\"Rainfall (inches)\",\"Rainfall (inches)\",\"Rainfall (inches)\",\"Rainfall (inches)\",\"Rainfall (inches)\",\"Rainfall (inches)\",\"Rainfall (inches)\",\"Rainfall (inches)\",\"Rainfall (inches)\",\"Rainfall (inches)\",\"Rainfall (inches)\",\"Rainfall (inches)\",\"Rainfall (inches)\",\"Rainfall (inches)\",\"Rainfall (inches)\",\"Rainfall (inches)\",\"Rainfall (inches)\",\"Rainfall (inches)\",\"Rainfall (inches)\",\"Rainfall (inches)\",\"Rainfall (inches)\",\"Rainfall (inches)\",\"Rainfall (inches)\",\"Rainfall (inches)\",\"Rainfall (inches)\",\"Rainfall (inches)\",\"Rainfall (inches)\",\"Rainfall (inches)\",\"Rainfall (inches)\",\"Rainfall (inches)\",\"Rainfall (inches)\",\"Rainfall (inches)\",\"Rainfall (inches)\",\"Rainfall (inches)\",\"Rainfall (inches)\",\"Rainfall (inches)\",\"Rainfall (inches)\",\"Rainfall (inches)\",\"Rainfall (inches)\",\"Rainfall (inches)\",\"Rainfall (inches)\",\"Rainfall (inches)\",\"Rainfall (inches)\",\"Rainfall (inches)\",\"Rainfall (inches)\",\"Rainfall (inches)\",\"Rainfall (inches)\",\"Rainfall (inches)\",\"Rainfall (inches)\",\"Rainfall (inches)\",\"Rainfall (inches)\",\"Rainfall (inches)\",\"Rainfall (inches)\",\"Rainfall (inches)\",\"Rainfall (inches)\",\"Rainfall (inches)\",\"Rainfall (inches)\",\"Rainfall (inches)\",\"Rainfall (inches)\",\"Rainfall (inches)\",\"Rainfall (inches)\",\"Rainfall (inches)\",\"Rainfall (inches)\",\"Rainfall (inches)\",\"Rainfall (inches)\",\"Rainfall (inches)\",\"Rainfall (inches)\",\"Rainfall (inches)\",\"Rainfall (inches)\",\"Rainfall (inches)\",\"Rainfall (inches)\",\"Rainfall (inches)\",\"Rainfall (inches)\",\"Rainfall (inches)\",\"Rainfall (inches)\",\"Rainfall (inches)\",\"Rainfall (inches)\",\"Rainfall (inches)\",\"Rainfall (inches)\",\"Rainfall (inches)\",\"Rainfall (inches)\",\"Rainfall (inches)\",\"Rainfall (inches)\",\"Rainfall (inches)\",\"Rainfall (inches)\",\"Rainfall (inches)\",\"Rainfall (inches)\",\"Rainfall (inches)\",\"Rainfall (inches)\",\"Rainfall (inches)\",\"Rainfall (inches)\",\"Rainfall (inches)\",\"Rainfall (inches)\",\"Rainfall (inches)\",\"Rainfall (inches)\",\"Rainfall (inches)\",\"Rainfall (inches)\",\"Rainfall (inches)\",\"Rainfall (inches)\",\"Rainfall (inches)\",\"Rainfall (inches)\",\"Rainfall (inches)\",\"Rainfall (inches)\",\"Rainfall (inches)\",\"Rainfall (inches)\",\"Rainfall (inches)\",\"Rainfall (inches)\",\"Rainfall (inches)\",\"Rainfall (inches)\",\"Rainfall (inches)\",\"Rainfall (inches)\",\"Rainfall (inches)\",\"Rainfall (inches)\",\"Rainfall (inches)\",\"Rainfall (inches)\",\"Rainfall (inches)\",\"Rainfall (inches)\",\"Rainfall (inches)\",\"Rainfall (inches)\",\"Rainfall (inches)\",\"Rainfall (inches)\",\"Rainfall (inches)\",\"Rainfall (inches)\",\"Rainfall (inches)\",\"Rainfall (inches)\",\"Rainfall (inches)\",\"Rainfall (inches)\",\"Rainfall (inches)\",\"Rainfall (inches)\",\"Rainfall (inches)\",\"Rainfall (inches)\",\"Rainfall (inches)\",\"Rainfall (inches)\",\"Rainfall (inches)\",\"Rainfall (inches)\",\"Rainfall (inches)\",\"Rainfall (inches)\",\"Rainfall (inches)\",\"Rainfall (inches)\",\"Rainfall (inches)\",\"Rainfall (inches)\",\"Rainfall (inches)\",\"Rainfall (inches)\",\"Rainfall (inches)\",\"Rainfall (inches)\",\"Rainfall (inches)\",\"Rainfall (inches)\",\"Rainfall (inches)\",\"Rainfall (inches)\",\"Rainfall (inches)\",\"Rainfall (inches)\",\"Rainfall (inches)\",\"Rainfall (inches)\",\"Rainfall (inches)\",\"Rainfall (inches)\",\"Rainfall (inches)\",\"Rainfall (inches)\",\"Rainfall (inches)\",\"Rainfall (inches)\",\"Rainfall (inches)\",\"Rainfall (inches)\",\"Rainfall (inches)\",\"Rainfall (inches)\",\"Rainfall (inches)\",\"Rainfall (inches)\",\"Rainfall (inches)\",\"Rainfall (inches)\",\"Rainfall (inches)\",\"Rainfall (inches)\",\"Rainfall (inches)\",\"Rainfall (inches)\",\"Rainfall (inches)\",\"Rainfall (inches)\",\"Rainfall (inches)\",\"Rainfall (inches)\",\"Rainfall (inches)\",\"Rainfall (inches)\",\"Rainfall (inches)\",\"Rainfall (inches)\",\"Rainfall (inches)\",\"Rainfall (inches)\",\"Rainfall (inches)\",\"Rainfall (inches)\",\"Rainfall (inches)\",\"Rainfall (inches)\",\"Rainfall (inches)\",\"Rainfall (inches)\",\"Rainfall (inches)\",\"Rainfall (inches)\",\"Rainfall (inches)\",\"Rainfall (inches)\",\"Rainfall (inches)\",\"Rainfall (inches)\",\"Rainfall (inches)\",\"Rainfall (inches)\",\"Rainfall (inches)\",\"Rainfall (inches)\",\"Rainfall (inches)\",\"Rainfall (inches)\",\"Rainfall (inches)\",\"Rainfall (inches)\",\"Rainfall (inches)\",\"Rainfall (inches)\",\"Rainfall (inches)\",\"Rainfall (inches)\",\"Rainfall (inches)\",\"Rainfall (inches)\",\"Rainfall (inches)\",\"Rainfall (inches)\",\"Rainfall (inches)\",\"Rainfall (inches)\",\"Rainfall (inches)\",\"Rainfall (inches)\",\"Rainfall (inches)\",\"Rainfall (inches)\",\"Rainfall (inches)\",\"Rainfall (inches)\",\"Rainfall (inches)\",\"Rainfall (inches)\",\"Rainfall (inches)\",\"Rainfall (inches)\",\"Rainfall (inches)\",\"Rainfall (inches)\",\"Rainfall (inches)\",\"Rainfall (inches)\",\"Rainfall (inches)\",\"Rainfall (inches)\",\"Rainfall (inches)\",\"Rainfall (inches)\",\"Rainfall (inches)\",\"Rainfall (inches)\",\"Rainfall (inches)\",\"Rainfall (inches)\",\"Rainfall (inches)\",\"Rainfall (inches)\",\"Rainfall (inches)\",\"Rainfall (inches)\",\"Rainfall (inches)\",\"Rainfall (inches)\",\"Rainfall (inches)\",\"Rainfall (inches)\",\"Rainfall (inches)\",\"Rainfall (inches)\",\"Rainfall (inches)\",\"Rainfall (inches)\",\"Rainfall (inches)\",\"Rainfall (inches)\",\"Rainfall (inches)\",\"Rainfall (inches)\",\"Rainfall (inches)\",\"Rainfall (inches)\",\"Rainfall (inches)\",\"Rainfall (inches)\",\"Rainfall (inches)\",\"Rainfall (inches)\",\"Rainfall (inches)\",\"Rainfall (inches)\",\"Rainfall (inches)\",\"Rainfall (inches)\",\"Rainfall (inches)\",\"Rainfall (inches)\",\"Rainfall (inches)\",\"Rainfall (inches)\",\"Rainfall (inches)\",\"Rainfall (inches)\",\"Rainfall (inches)\",\"Rainfall (inches)\",\"Rainfall (inches)\",\"Rainfall (inches)\",\"Rainfall (inches)\",\"Rainfall (inches)\",\"Rainfall (inches)\",\"Rainfall (inches)\",\"Rainfall (inches)\",\"Rainfall (inches)\",\"Rainfall (inches)\",\"Rainfall (inches)\",\"Rainfall (inches)\",\"Rainfall (inches)\",\"Rainfall (inches)\",\"Rainfall (inches)\",\"Rainfall (inches)\",\"Rainfall (inches)\",\"Rainfall (inches)\",\"Rainfall (inches)\",\"Rainfall (inches)\",\"Rainfall (inches)\",\"Rainfall (inches)\",\"Rainfall (inches)\",\"Rainfall (inches)\",\"Rainfall (inches)\",\"Rainfall (inches)\",\"Rainfall (inches)\",\"Rainfall (inches)\",\"Rainfall (inches)\",\"Rainfall (inches)\",\"Rainfall (inches)\",\"Rainfall (inches)\",\"Rainfall (inches)\",\"Rainfall (inches)\",\"Rainfall (inches)\",\"Rainfall (inches)\",\"Rainfall (inches)\",\"Rainfall (inches)\",\"Rainfall (inches)\",\"Rainfall (inches)\",\"Rainfall (inches)\",\"Rainfall (inches)\",\"Rainfall (inches)\",\"Rainfall (inches)\",\"Rainfall (inches)\",\"Rainfall (inches)\",\"Rainfall (inches)\",\"Rainfall (inches)\",\"Rainfall (inches)\",\"Rainfall (inches)\",\"Rainfall (inches)\",\"Rainfall (inches)\",\"Rainfall (inches)\",\"Rainfall (inches)\",\"Rainfall (inches)\",\"Rainfall (inches)\",\"Rainfall (inches)\",\"Rainfall (inches)\",\"Rainfall (inches)\",\"Rainfall (inches)\",\"Rainfall (inches)\",\"Rainfall (inches)\",\"Rainfall (inches)\",\"Rainfall (inches)\",\"Rainfall (inches)\",\"Rainfall (inches)\",\"Rainfall (inches)\",\"Rainfall (inches)\",\"Rainfall (inches)\",\"Rainfall (inches)\",\"Rainfall (inches)\",\"Rainfall (inches)\",\"Rainfall (inches)\",\"Rainfall (inches)\",\"Rainfall (inches)\",\"Rainfall (inches)\",\"Rainfall (inches)\",\"Rainfall (inches)\",\"Rainfall (inches)\",\"Rainfall (inches)\",\"Rainfall (inches)\",\"Rainfall (inches)\",\"Rainfall (inches)\",\"Rainfall (inches)\",\"Rainfall (inches)\",\"Rainfall (inches)\",\"Rainfall (inches)\",\"Rainfall (inches)\",\"Rainfall (inches)\",\"Rainfall (inches)\",\"Rainfall (inches)\",\"Rainfall (inches)\",\"Rainfall (inches)\",\"Rainfall (inches)\",\"Rainfall (inches)\",\"Rainfall (inches)\",\"Rainfall (inches)\",\"Rainfall (inches)\",\"Rainfall (inches)\",\"Rainfall (inches)\",\"Rainfall (inches)\",\"Rainfall (inches)\",\"Rainfall (inches)\",\"Rainfall (inches)\",\"Rainfall (inches)\",\"Rainfall (inches)\",\"Rainfall (inches)\",\"Rainfall (inches)\",\"Rainfall (inches)\",\"Rainfall (inches)\",\"Rainfall (inches)\",\"Rainfall (inches)\",\"Rainfall (inches)\",\"Rainfall (inches)\",\"Rainfall (inches)\",\"Rainfall (inches)\",\"Rainfall (inches)\",\"Rainfall (inches)\",\"Rainfall (inches)\",\"Rainfall (inches)\",\"Rainfall (inches)\",\"Rainfall (inches)\",\"Rainfall (inches)\",\"Rainfall (inches)\",\"Rainfall (inches)\",\"Rainfall (inches)\",\"Rainfall (inches)\",\"Rainfall (inches)\",\"Rainfall (inches)\",\"Rainfall (inches)\",\"Rainfall (inches)\",\"Rainfall (inches)\",\"Rainfall (inches)\",\"Rainfall (inches)\",\"Rainfall (inches)\",\"Rainfall (inches)\",\"Rainfall (inches)\",\"Rainfall (inches)\",\"Rainfall (inches)\",\"Rainfall (inches)\",\"Rainfall (inches)\",\"Rainfall (inches)\",\"Rainfall (inches)\",\"Rainfall (inches)\",\"Rainfall (inches)\",\"Rainfall (inches)\",\"Rainfall (inches)\",\"Rainfall (inches)\",\"Rainfall (inches)\",\"Rainfall (inches)\",\"Rainfall (inches)\",\"Rainfall (inches)\",\"Rainfall (inches)\",\"Rainfall (inches)\",\"Rainfall (inches)\",\"Rainfall (inches)\",\"Rainfall (inches)\",\"Rainfall (inches)\",\"Rainfall (inches)\",\"Rainfall (inches)\",\"Rainfall (inches)\",\"Rainfall (inches)\",\"Rainfall (inches)\",\"Rainfall (inches)\",\"Rainfall (inches)\",\"Rainfall (inches)\",\"Rainfall (inches)\",\"Rainfall (inches)\",\"Rainfall (inches)\",\"Rainfall (inches)\",\"Rainfall (inches)\",\"Rainfall (inches)\",\"Rainfall (inches)\",\"Rainfall (inches)\",\"Rainfall (inches)\",\"Rainfall (inches)\",\"Rainfall (inches)\",\"Rainfall (inches)\",\"Rainfall (inches)\",\"Rainfall (inches)\",\"Rainfall (inches)\",\"Rainfall (inches)\",\"Rainfall (inches)\",\"Rainfall (inches)\",\"Rainfall (inches)\",\"Rainfall (inches)\",\"Rainfall (inches)\",\"Rainfall (inches)\",\"Rainfall (inches)\",\"Rainfall (inches)\",\"Rainfall (inches)\",\"Rainfall (inches)\",\"Rainfall (inches)\",\"Rainfall (inches)\",\"Rainfall (inches)\",\"Rainfall (inches)\",\"Rainfall (inches)\",\"Rainfall (inches)\",\"Rainfall (inches)\",\"Rainfall (inches)\",\"Rainfall (inches)\",\"Rainfall (inches)\",\"Rainfall (inches)\",\"Rainfall (inches)\",\"Rainfall (inches)\",\"Rainfall (inches)\",\"Rainfall (inches)\",\"Rainfall (inches)\",\"Rainfall (inches)\",\"Rainfall (inches)\",\"Rainfall (inches)\",\"Rainfall (inches)\",\"Rainfall (inches)\",\"Rainfall (inches)\",\"Rainfall (inches)\",\"Rainfall (inches)\",\"Rainfall (inches)\",\"Rainfall (inches)\",\"Rainfall (inches)\",\"Rainfall (inches)\",\"Rainfall (inches)\",\"Rainfall (inches)\",\"Rainfall (inches)\",\"Rainfall (inches)\",\"Rainfall (inches)\",\"Rainfall (inches)\",\"Rainfall (inches)\",\"Rainfall (inches)\",\"Rainfall (inches)\",\"Rainfall (inches)\",\"Rainfall (inches)\",\"Rainfall (inches)\",\"Rainfall (inches)\",\"Rainfall (inches)\",\"Rainfall (inches)\",\"Rainfall (inches)\",\"Rainfall (inches)\",\"Rainfall (inches)\",\"Rainfall (inches)\",\"Rainfall (inches)\",\"Rainfall (inches)\",\"Rainfall (inches)\",\"Rainfall (inches)\",\"Rainfall (inches)\",\"Rainfall (inches)\",\"Rainfall (inches)\",\"Rainfall (inches)\",\"Rainfall (inches)\",\"Rainfall (inches)\",\"Rainfall (inches)\",\"Rainfall (inches)\",\"Rainfall (inches)\",\"Rainfall (inches)\",\"Rainfall (inches)\",\"Rainfall (inches)\",\"Rainfall (inches)\",\"Rainfall (inches)\",\"Rainfall (inches)\",\"Rainfall (inches)\",\"Rainfall (inches)\",\"Rainfall (inches)\",\"Rainfall (inches)\",\"Rainfall (inches)\",\"Rainfall (inches)\",\"Rainfall (inches)\",\"Rainfall (inches)\",\"Rainfall (inches)\",\"Rainfall (inches)\",\"Rainfall (inches)\",\"Rainfall (inches)\",\"Rainfall (inches)\",\"Rainfall (inches)\",\"Rainfall (inches)\",\"Rainfall (inches)\",\"Rainfall (inches)\",\"Rainfall (inches)\",\"Rainfall (inches)\",\"Rainfall (inches)\",\"Rainfall (inches)\",\"Rainfall (inches)\",\"Rainfall (inches)\",\"Rainfall (inches)\",\"Rainfall (inches)\",\"Rainfall (inches)\",\"Rainfall (inches)\",\"Rainfall (inches)\",\"Rainfall (inches)\",\"Rainfall (inches)\",\"Rainfall (inches)\",\"Rainfall (inches)\",\"Rainfall (inches)\",\"Rainfall (inches)\",\"Rainfall (inches)\",\"Rainfall (inches)\",\"Rainfall (inches)\",\"Rainfall (inches)\",\"Rainfall (inches)\",\"Rainfall (inches)\",\"Rainfall (inches)\",\"Rainfall (inches)\",\"Rainfall (inches)\",\"Rainfall (inches)\",\"Rainfall (inches)\",\"Rainfall (inches)\",\"Rainfall (inches)\",\"Rainfall (inches)\",\"Rainfall (inches)\",\"Rainfall (inches)\",\"Rainfall (inches)\",\"Rainfall (inches)\",\"Rainfall (inches)\",\"Rainfall (inches)\",\"Rainfall (inches)\",\"Rainfall (inches)\",\"Rainfall (inches)\",\"Rainfall (inches)\",\"Rainfall (inches)\",\"Rainfall (inches)\",\"Rainfall (inches)\",\"Rainfall (inches)\",\"Rainfall (inches)\",\"Rainfall (inches)\",\"Rainfall (inches)\",\"Rainfall (inches)\",\"Rainfall (inches)\",\"Rainfall (inches)\",\"Rainfall (inches)\",\"Rainfall (inches)\",\"Rainfall (inches)\",\"Rainfall (inches)\",\"Rainfall (inches)\",\"Rainfall (inches)\",\"Rainfall (inches)\",\"Rainfall (inches)\",\"Rainfall (inches)\",\"Rainfall (inches)\",\"Rainfall (inches)\",\"Rainfall (inches)\",\"Rainfall (inches)\",\"Rainfall (inches)\",\"Rainfall (inches)\",\"Rainfall (inches)\",\"Rainfall (inches)\",\"Rainfall (inches)\",\"Rainfall (inches)\",\"Rainfall (inches)\",\"Rainfall (inches)\",\"Rainfall (inches)\",\"Rainfall (inches)\",\"Rainfall (inches)\",\"Rainfall (inches)\",\"Rainfall (inches)\",\"Rainfall (inches)\",\"Rainfall (inches)\",\"Rainfall (inches)\",\"Rainfall (inches)\",\"Rainfall (inches)\",\"Rainfall (inches)\",\"Rainfall (inches)\",\"Rainfall (inches)\",\"Rainfall (inches)\",\"Rainfall (inches)\",\"Rainfall (inches)\",\"Rainfall (inches)\",\"Rainfall (inches)\",\"Rainfall (inches)\",\"Rainfall (inches)\",\"Rainfall (inches)\",\"Rainfall (inches)\",\"Rainfall (inches)\",\"Rainfall (inches)\",\"Rainfall (inches)\",\"Rainfall (inches)\",\"Rainfall (inches)\",\"Rainfall (inches)\",\"Rainfall (inches)\",\"Rainfall (inches)\",\"Rainfall (inches)\",\"Rainfall (inches)\",\"Rainfall (inches)\",\"Rainfall (inches)\",\"Rainfall (inches)\",\"Rainfall (inches)\",\"Rainfall (inches)\",\"Rainfall (inches)\",\"Rainfall (inches)\",\"Rainfall (inches)\",\"Rainfall (inches)\",\"Rainfall (inches)\",\"Rainfall (inches)\",\"Rainfall (inches)\",\"Rainfall (inches)\",\"Rainfall (inches)\",\"Rainfall (inches)\",\"Rainfall (inches)\",\"Rainfall (inches)\",\"Rainfall (inches)\",\"Rainfall (inches)\",\"Rainfall (inches)\",\"Rainfall (inches)\",\"Rainfall (inches)\",\"Rainfall (inches)\",\"Rainfall (inches)\",\"Rainfall (inches)\",\"Rainfall (inches)\",\"Rainfall (inches)\",\"Rainfall (inches)\",\"Rainfall (inches)\",\"Rainfall (inches)\",\"Rainfall (inches)\",\"Rainfall (inches)\",\"Rainfall (inches)\",\"Rainfall (inches)\",\"Rainfall (inches)\",\"Rainfall (inches)\",\"Rainfall (inches)\",\"Rainfall (inches)\",\"Rainfall (inches)\",\"Rainfall (inches)\",\"Rainfall (inches)\",\"Rainfall (inches)\",\"Rainfall (inches)\",\"Rainfall (inches)\",\"Rainfall (inches)\",\"Rainfall (inches)\",\"Rainfall (inches)\",\"Rainfall (inches)\",\"Rainfall (inches)\",\"Rainfall (inches)\",\"Rainfall (inches)\",\"Rainfall (inches)\",\"Rainfall (inches)\",\"Rainfall (inches)\",\"Rainfall (inches)\",\"Rainfall (inches)\",\"Rainfall (inches)\",\"Rainfall (inches)\",\"Rainfall (inches)\",\"Rainfall (inches)\",\"Rainfall (inches)\",\"Rainfall (inches)\",\"Rainfall (inches)\",\"Rainfall (inches)\",\"Rainfall (inches)\",\"Rainfall (inches)\",\"Rainfall (inches)\",\"Rainfall (inches)\",\"Rainfall (inches)\",\"Rainfall (inches)\",\"Rainfall (inches)\",\"Rainfall (inches)\",\"Rainfall (inches)\",\"Rainfall (inches)\",\"Rainfall (inches)\",\"Rainfall (inches)\",\"Rainfall (inches)\",\"Rainfall (inches)\",\"Rainfall (inches)\",\"Rainfall (inches)\",\"Rainfall (inches)\",\"Rainfall (inches)\",\"Rainfall (inches)\",\"Rainfall (inches)\",\"Rainfall (inches)\",\"Rainfall (inches)\",\"Rainfall (inches)\",\"Rainfall (inches)\",\"Rainfall (inches)\",\"Rainfall (inches)\",\"Rainfall (inches)\",\"Rainfall (inches)\",\"Rainfall (inches)\",\"Rainfall (inches)\",\"Rainfall (inches)\",\"Rainfall (inches)\",\"Rainfall (inches)\",\"Rainfall (inches)\",\"Rainfall (inches)\",\"Rainfall (inches)\",\"Rainfall (inches)\",\"Rainfall (inches)\",\"Rainfall (inches)\",\"Rainfall (inches)\",\"Rainfall (inches)\",\"Rainfall (inches)\",\"Rainfall (inches)\",\"Rainfall (inches)\",\"Rainfall (inches)\",\"Rainfall (inches)\",\"Rainfall (inches)\",\"Rainfall (inches)\",\"Rainfall (inches)\",\"Rainfall (inches)\",\"Rainfall (inches)\",\"Rainfall (inches)\",\"Rainfall (inches)\",\"Rainfall (inches)\",\"Rainfall (inches)\",\"Rainfall (inches)\",\"Rainfall (inches)\",\"Rainfall (inches)\",\"Rainfall (inches)\",\"Rainfall (inches)\",\"Rainfall (inches)\",\"Rainfall (inches)\",\"Rainfall (inches)\",\"Rainfall (inches)\",\"Rainfall (inches)\",\"Rainfall (inches)\",\"Rainfall (inches)\",\"Rainfall (inches)\",\"Rainfall (inches)\",\"Rainfall (inches)\",\"Rainfall (inches)\",\"Rainfall (inches)\",\"Rainfall (inches)\",\"Rainfall (inches)\",\"Rainfall (inches)\",\"Rainfall (inches)\",\"Rainfall (inches)\",\"Rainfall (inches)\",\"Rainfall (inches)\",\"Rainfall (inches)\",\"Rainfall (inches)\",\"Rainfall (inches)\",\"Rainfall (inches)\",\"Rainfall (inches)\",\"Rainfall (inches)\",\"Rainfall (inches)\",\"Rainfall (inches)\",\"Rainfall (inches)\",\"Rainfall (inches)\",\"Rainfall (inches)\",\"Rainfall (inches)\",\"Rainfall (inches)\",\"Rainfall (inches)\",\"Rainfall (inches)\",\"Rainfall (inches)\",\"Rainfall (inches)\",\"Rainfall (inches)\",\"Rainfall (inches)\",\"Rainfall (inches)\",\"Rainfall (inches)\",\"Rainfall (inches)\",\"Rainfall (inches)\",\"Rainfall (inches)\",\"Rainfall (inches)\",\"Rainfall (inches)\",\"Rainfall (inches)\",\"Rainfall (inches)\",\"Rainfall (inches)\",\"Rainfall (inches)\",\"Rainfall (inches)\",\"Rainfall (inches)\",\"Rainfall (inches)\",\"Rainfall (inches)\",\"Rainfall (inches)\",\"Rainfall (inches)\",\"Rainfall (inches)\",\"Rainfall (inches)\",\"Rainfall (inches)\",\"Rainfall (inches)\",\"Rainfall (inches)\",\"Rainfall (inches)\",\"Rainfall (inches)\",\"Rainfall (inches)\",\"Rainfall (inches)\",\"Rainfall (inches)\",\"Rainfall (inches)\",\"Rainfall (inches)\",\"Rainfall (inches)\",\"Rainfall (inches)\",\"Rainfall (inches)\",\"Rainfall (inches)\",\"Rainfall (inches)\",\"Rainfall (inches)\",\"Rainfall (inches)\",\"Rainfall (inches)\",\"Rainfall (inches)\",\"Rainfall (inches)\",\"Rainfall (inches)\",\"Rainfall (inches)\",\"Rainfall (inches)\",\"Rainfall (inches)\",\"Rainfall (inches)\",\"Rainfall (inches)\",\"Rainfall (inches)\",\"Rainfall (inches)\",\"Rainfall (inches)\",\"Rainfall (inches)\",\"Rainfall (inches)\",\"Rainfall (inches)\",\"Rainfall (inches)\",\"Rainfall (inches)\",\"Rainfall (inches)\",\"Rainfall (inches)\",\"Rainfall (inches)\",\"Rainfall (inches)\",\"Rainfall (inches)\",\"Rainfall (inches)\",\"Rainfall (inches)\",\"Rainfall (inches)\",\"Rainfall (inches)\",\"Rainfall (inches)\",\"Rainfall (inches)\",\"Rainfall (inches)\",\"Rainfall (inches)\",\"Rainfall (inches)\",\"Rainfall (inches)\",\"Rainfall (inches)\",\"Rainfall (inches)\",\"Rainfall (inches)\",\"Rainfall (inches)\",\"Rainfall (inches)\",\"Rainfall (inches)\",\"Rainfall (inches)\",\"Rainfall (inches)\",\"Rainfall (inches)\",\"Rainfall (inches)\",\"Rainfall (inches)\",\"Rainfall (inches)\",\"Rainfall (inches)\",\"Rainfall (inches)\",\"Rainfall (inches)\",\"Rainfall (inches)\",\"Rainfall (inches)\",\"Rainfall (inches)\",\"Rainfall (inches)\",\"Rainfall (inches)\",\"Rainfall (inches)\",\"Rainfall (inches)\",\"Rainfall (inches)\",\"Rainfall (inches)\",\"Rainfall (inches)\",\"Rainfall (inches)\",\"Rainfall (inches)\",\"Rainfall (inches)\",\"Rainfall (inches)\",\"Rainfall (inches)\",\"Rainfall (inches)\",\"Rainfall (inches)\",\"Rainfall (inches)\",\"Rainfall (inches)\",\"Rainfall (inches)\",\"Rainfall (inches)\",\"Rainfall (inches)\",\"Rainfall (inches)\",\"Rainfall (inches)\",\"Rainfall (inches)\",\"Rainfall (inches)\",\"Rainfall (inches)\",\"Rainfall (inches)\",\"Rainfall (inches)\",\"Rainfall (inches)\",\"Rainfall (inches)\",\"Rainfall (inches)\",\"Rainfall (inches)\",\"Rainfall (inches)\",\"Rainfall (inches)\",\"Rainfall (inches)\",\"Rainfall (inches)\",\"Rainfall (inches)\",\"Rainfall (inches)\",\"Rainfall (inches)\",\"Rainfall (inches)\",\"Rainfall (inches)\",\"Rainfall (inches)\",\"Rainfall (inches)\",\"Rainfall (inches)\",\"Rainfall (inches)\",\"Rainfall (inches)\",\"Rainfall (inches)\",\"Rainfall (inches)\",\"Rainfall (inches)\",\"Rainfall (inches)\",\"Rainfall (inches)\",\"Rainfall (inches)\",\"Rainfall (inches)\",\"Rainfall (inches)\",\"Rainfall (inches)\",\"Rainfall (inches)\",\"Rainfall (inches)\",\"Rainfall (inches)\",\"Rainfall (inches)\",\"Rainfall (inches)\",\"Rainfall (inches)\",\"Rainfall (inches)\",\"Rainfall (inches)\",\"Rainfall (inches)\",\"Rainfall (inches)\",\"Rainfall (inches)\",\"Rainfall (inches)\",\"Rainfall (inches)\",\"Rainfall (inches)\",\"Rainfall (inches)\",\"Rainfall (inches)\",\"Rainfall (inches)\",\"Rainfall (inches)\",\"Rainfall (inches)\",\"Rainfall (inches)\",\"Rainfall (inches)\",\"Rainfall (inches)\",\"Rainfall (inches)\",\"Rainfall (inches)\",\"Rainfall (inches)\",\"Rainfall (inches)\",\"Rainfall (inches)\",\"Rainfall (inches)\",\"Rainfall (inches)\",\"Rainfall (inches)\",\"Rainfall (inches)\",\"Rainfall (inches)\",\"Rainfall (inches)\",\"Rainfall (inches)\",\"Rainfall (inches)\",\"Rainfall (inches)\",\"Rainfall (inches)\",\"Rainfall (inches)\",\"Rainfall (inches)\",\"Rainfall (inches)\",\"Rainfall (inches)\",\"Rainfall (inches)\",\"Rainfall (inches)\",\"Rainfall (inches)\",\"Rainfall (inches)\",\"Rainfall (inches)\",\"Rainfall (inches)\",\"Rainfall (inches)\",\"Rainfall (inches)\",\"Rainfall (inches)\",\"Rainfall (inches)\",\"Rainfall (inches)\",\"Rainfall (inches)\",\"Rainfall (inches)\",\"Rainfall (inches)\",\"Rainfall (inches)\",\"Rainfall (inches)\",\"Rainfall (inches)\",\"Rainfall (inches)\",\"Rainfall (inches)\",\"Rainfall (inches)\",\"Rainfall (inches)\",\"Rainfall (inches)\",\"Rainfall (inches)\",\"Rainfall (inches)\",\"Rainfall (inches)\",\"Rainfall (inches)\",\"Rainfall (inches)\",\"Rainfall (inches)\",\"Rainfall (inches)\",\"Rainfall (inches)\",\"Rainfall (inches)\",\"Rainfall (inches)\",\"Rainfall (inches)\",\"Rainfall (inches)\",\"Rainfall (inches)\",\"Rainfall (inches)\",\"Rainfall (inches)\",\"Rainfall (inches)\",\"Rainfall (inches)\",\"Rainfall (inches)\",\"Rainfall (inches)\",\"Rainfall (inches)\",\"Rainfall (inches)\",\"Rainfall (inches)\",\"Rainfall (inches)\",\"Rainfall (inches)\",\"Rainfall (inches)\",\"Rainfall (inches)\",\"Rainfall (inches)\",\"Rainfall (inches)\",\"Rainfall (inches)\",\"Rainfall (inches)\",\"Rainfall (inches)\",\"Rainfall (inches)\",\"Rainfall (inches)\",\"Rainfall (inches)\",\"Rainfall (inches)\",\"Rainfall (inches)\",\"Rainfall (inches)\",\"Rainfall (inches)\",\"Rainfall (inches)\",\"Rainfall (inches)\",\"Rainfall (inches)\",\"Rainfall (inches)\",\"Rainfall (inches)\",\"Rainfall (inches)\",\"Rainfall (inches)\",\"Rainfall (inches)\",\"Rainfall (inches)\",\"Rainfall (inches)\",\"Rainfall (inches)\",\"Rainfall (inches)\",\"Rainfall (inches)\",\"Rainfall (inches)\",\"Rainfall (inches)\",\"Rainfall (inches)\",\"Rainfall (inches)\",\"Rainfall (inches)\",\"Rainfall (inches)\",\"Rainfall (inches)\",\"Rainfall (inches)\",\"Rainfall (inches)\",\"Rainfall (inches)\",\"Rainfall (inches)\",\"Rainfall (inches)\",\"Rainfall (inches)\",\"Rainfall (inches)\",\"Rainfall (inches)\",\"Rainfall (inches)\",\"Rainfall (inches)\",\"Rainfall (inches)\",\"Rainfall (inches)\",\"Rainfall (inches)\",\"Rainfall (inches)\",\"Rainfall (inches)\",\"Rainfall (inches)\",\"Rainfall (inches)\",\"Rainfall (inches)\",\"Rainfall (inches)\",\"Rainfall (inches)\",\"Rainfall (inches)\",\"Rainfall (inches)\",\"Rainfall (inches)\",\"Rainfall (inches)\",\"Rainfall (inches)\",\"Rainfall (inches)\",\"Rainfall (inches)\",\"Rainfall (inches)\",\"Rainfall (inches)\",\"Rainfall (inches)\",\"Rainfall (inches)\",\"Rainfall (inches)\",\"Rainfall (inches)\",\"Rainfall (inches)\",\"Rainfall (inches)\",\"Rainfall (inches)\",\"Rainfall (inches)\",\"Rainfall (inches)\",\"Rainfall (inches)\",\"Rainfall (inches)\",\"Rainfall (inches)\",\"Rainfall (inches)\",\"Rainfall (inches)\",\"Rainfall (inches)\",\"Rainfall (inches)\",\"Rainfall (inches)\",\"Rainfall (inches)\",\"Rainfall (inches)\",\"Rainfall (inches)\",\"Rainfall (inches)\",\"Rainfall (inches)\",\"Rainfall (inches)\",\"Rainfall (inches)\",\"Rainfall (inches)\",\"Rainfall (inches)\",\"Rainfall (inches)\",\"Rainfall (inches)\",\"Rainfall (inches)\",\"Rainfall (inches)\",\"Rainfall (inches)\",\"Rainfall (inches)\",\"Rainfall (inches)\",\"Rainfall (inches)\",\"Rainfall (inches)\",\"Rainfall (inches)\",\"Rainfall (inches)\",\"Rainfall (inches)\",\"Rainfall (inches)\",\"Rainfall (inches)\",\"Rainfall (inches)\",\"Rainfall (inches)\",\"Rainfall (inches)\",\"Rainfall (inches)\",\"Rainfall (inches)\",\"Rainfall (inches)\",\"Rainfall (inches)\",\"Rainfall (inches)\",\"Rainfall (inches)\",\"Rainfall (inches)\",\"Rainfall (inches)\",\"Rainfall (inches)\",\"Rainfall (inches)\",\"Rainfall (inches)\",\"Rainfall (inches)\",\"Rainfall (inches)\",\"Rainfall (inches)\",\"Rainfall (inches)\",\"Rainfall (inches)\",\"Rainfall (inches)\",\"Rainfall (inches)\",\"Rainfall (inches)\",\"Rainfall (inches)\",\"Rainfall (inches)\",\"Rainfall (inches)\",\"Rainfall (inches)\",\"Rainfall (inches)\",\"Rainfall (inches)\",\"Rainfall (inches)\",\"Rainfall (inches)\",\"Rainfall (inches)\",\"Rainfall (inches)\",\"Rainfall (inches)\",\"Rainfall (inches)\",\"Rainfall (inches)\",\"Rainfall (inches)\",\"Rainfall (inches)\",\"Rainfall (inches)\",\"Rainfall (inches)\",\"Rainfall (inches)\",\"Rainfall (inches)\",\"Rainfall (inches)\",\"Rainfall (inches)\",\"Rainfall (inches)\",\"Rainfall (inches)\",\"Rainfall (inches)\",\"Rainfall (inches)\",\"Rainfall (inches)\",\"Rainfall (inches)\",\"Rainfall (inches)\",\"Rainfall (inches)\",\"Rainfall (inches)\",\"Rainfall (inches)\",\"Rainfall (inches)\",\"Rainfall (inches)\",\"Rainfall (inches)\",\"Rainfall (inches)\",\"Rainfall (inches)\",\"Rainfall (inches)\",\"Rainfall (inches)\",\"Rainfall (inches)\",\"Rainfall (inches)\",\"Rainfall (inches)\",\"Rainfall (inches)\",\"Rainfall (inches)\",\"Rainfall (inches)\",\"Rainfall (inches)\",\"Rainfall (inches)\",\"Rainfall (inches)\",\"Rainfall (inches)\",\"Rainfall (inches)\",\"Rainfall (inches)\",\"Rainfall (inches)\",\"Rainfall (inches)\",\"Rainfall (inches)\",\"Rainfall (inches)\",\"Rainfall (inches)\",\"Rainfall (inches)\",\"Rainfall (inches)\",\"Rainfall (inches)\",\"Rainfall (inches)\",\"Rainfall (inches)\",\"Rainfall (inches)\",\"Rainfall (inches)\",\"Rainfall (inches)\",\"Rainfall (inches)\",\"Rainfall (inches)\",\"Rainfall (inches)\",\"Rainfall (inches)\",\"Rainfall (inches)\",\"Rainfall (inches)\",\"Rainfall (inches)\",\"Rainfall (inches)\",\"Rainfall (inches)\",\"Rainfall (inches)\",\"Rainfall (inches)\",\"Rainfall (inches)\",\"Rainfall (inches)\",\"Rainfall (inches)\",\"Rainfall (inches)\",\"Rainfall (inches)\",\"Rainfall (inches)\",\"Rainfall (inches)\",\"Rainfall (inches)\",\"Rainfall (inches)\",\"Rainfall (inches)\",\"Rainfall (inches)\",\"Rainfall (inches)\",\"Rainfall (inches)\",\"Rainfall (inches)\",\"Rainfall (inches)\",\"Rainfall (inches)\",\"Rainfall (inches)\",\"Rainfall (inches)\",\"Rainfall (inches)\",\"Rainfall (inches)\",\"Rainfall (inches)\",\"Rainfall (inches)\",\"Rainfall (inches)\",\"Rainfall (inches)\",\"Rainfall (inches)\",\"Rainfall (inches)\",\"Rainfall (inches)\",\"Rainfall (inches)\",\"Rainfall (inches)\",\"Rainfall (inches)\",\"Rainfall (inches)\",\"Rainfall (inches)\",\"Rainfall (inches)\",\"Rainfall (inches)\",\"Rainfall (inches)\",\"Rainfall (inches)\",\"Rainfall (inches)\",\"Rainfall (inches)\",\"Rainfall (inches)\",\"Rainfall (inches)\",\"Rainfall (inches)\",\"Rainfall (inches)\",\"Rainfall (inches)\",\"Rainfall (inches)\",\"Rainfall (inches)\",\"Rainfall (inches)\",\"Rainfall (inches)\",\"Rainfall (inches)\",\"Rainfall (inches)\",\"Rainfall (inches)\",\"Rainfall (inches)\",\"Rainfall (inches)\",\"Rainfall (inches)\",\"Rainfall (inches)\",\"Rainfall (inches)\",\"Rainfall (inches)\",\"Rainfall (inches)\",\"Rainfall (inches)\",\"Rainfall (inches)\",\"Rainfall (inches)\",\"Rainfall (inches)\",\"Rainfall (inches)\",\"Rainfall (inches)\",\"Rainfall (inches)\",\"Rainfall (inches)\",\"Rainfall (inches)\",\"Rainfall (inches)\",\"Rainfall (inches)\",\"Rainfall (inches)\",\"Rainfall (inches)\",\"Rainfall (inches)\",\"Rainfall (inches)\",\"Rainfall (inches)\",\"Rainfall (inches)\",\"Rainfall (inches)\",\"Rainfall (inches)\",\"Rainfall (inches)\",\"Rainfall (inches)\",\"Rainfall (inches)\",\"Rainfall (inches)\",\"Rainfall (inches)\",\"Rainfall (inches)\",\"Rainfall (inches)\",\"Rainfall (inches)\",\"Rainfall (inches)\",\"Rainfall (inches)\",\"Rainfall (inches)\",\"Rainfall (inches)\",\"Rainfall (inches)\",\"Rainfall (inches)\",\"Rainfall (inches)\",\"Rainfall (inches)\",\"Rainfall (inches)\",\"Rainfall (inches)\",\"Rainfall (inches)\",\"Rainfall (inches)\",\"Rainfall (inches)\",\"Rainfall (inches)\",\"Rainfall (inches)\",\"Rainfall (inches)\",\"Rainfall (inches)\",\"Rainfall (inches)\",\"Rainfall (inches)\",\"Rainfall (inches)\",\"Rainfall (inches)\",\"Rainfall (inches)\",\"Rainfall (inches)\",\"Rainfall (inches)\",\"Rainfall (inches)\",\"Rainfall (inches)\",\"Rainfall (inches)\",\"Rainfall (inches)\",\"Rainfall (inches)\",\"Rainfall (inches)\",\"Rainfall (inches)\",\"Rainfall (inches)\",\"Rainfall (inches)\",\"Rainfall (inches)\",\"Rainfall (inches)\",\"Rainfall (inches)\",\"Rainfall (inches)\",\"Rainfall (inches)\",\"Rainfall (inches)\",\"Rainfall (inches)\",\"Rainfall (inches)\",\"Rainfall (inches)\",\"Rainfall (inches)\",\"Rainfall (inches)\",\"Rainfall (inches)\",\"Rainfall (inches)\",\"Rainfall (inches)\",\"Rainfall (inches)\",\"Rainfall (inches)\",\"Rainfall (inches)\",\"Rainfall (inches)\",\"Rainfall (inches)\",\"Rainfall (inches)\",\"Rainfall (inches)\",\"Rainfall (inches)\",\"Rainfall (inches)\",\"Rainfall (inches)\",\"Rainfall (inches)\",\"Rainfall (inches)\",\"Rainfall (inches)\",\"Rainfall (inches)\",\"Rainfall (inches)\",\"Rainfall (inches)\",\"Rainfall (inches)\",\"Rainfall (inches)\",\"Rainfall (inches)\",\"Rainfall (inches)\",\"Rainfall (inches)\",\"Rainfall (inches)\",\"Rainfall (inches)\",\"Rainfall (inches)\",\"Rainfall (inches)\",\"Rainfall (inches)\",\"Rainfall (inches)\",\"Rainfall (inches)\",\"Rainfall (inches)\",\"Rainfall (inches)\",\"Rainfall (inches)\",\"Rainfall (inches)\",\"Rainfall (inches)\",\"Rainfall (inches)\",\"Rainfall (inches)\",\"Rainfall (inches)\",\"Rainfall (inches)\",\"Rainfall (inches)\",\"Rainfall (inches)\",\"Rainfall (inches)\",\"Rainfall (inches)\",\"Rainfall (inches)\",\"Rainfall (inches)\",\"Rainfall (inches)\",\"Rainfall (inches)\",\"Rainfall (inches)\",\"Rainfall (inches)\",\"Rainfall (inches)\",\"Rainfall (inches)\",\"Rainfall (inches)\",\"Rainfall (inches)\",\"Rainfall (inches)\",\"Rainfall (inches)\",\"Rainfall (inches)\",\"Rainfall (inches)\",\"Rainfall (inches)\",\"Rainfall (inches)\",\"Rainfall (inches)\",\"Rainfall (inches)\",\"Rainfall (inches)\",\"Rainfall (inches)\",\"Rainfall (inches)\",\"Rainfall (inches)\",\"Rainfall (inches)\",\"Rainfall (inches)\",\"Rainfall (inches)\",\"Rainfall (inches)\",\"Rainfall (inches)\",\"Rainfall (inches)\",\"Rainfall (inches)\",\"Rainfall (inches)\",\"Rainfall (inches)\",\"Rainfall (inches)\",\"Rainfall (inches)\",\"Rainfall (inches)\",\"Rainfall (inches)\",\"Rainfall (inches)\",\"Rainfall (inches)\",\"Rainfall (inches)\",\"Rainfall (inches)\",\"Rainfall (inches)\",\"Rainfall (inches)\",\"Rainfall (inches)\",\"Rainfall (inches)\",\"Rainfall (inches)\",\"Rainfall (inches)\",\"Rainfall (inches)\",\"Rainfall (inches)\",\"Rainfall (inches)\",\"Rainfall (inches)\",\"Rainfall (inches)\",\"Rainfall (inches)\",\"Rainfall (inches)\",\"Rainfall (inches)\",\"Rainfall (inches)\",\"Rainfall (inches)\",\"Rainfall (inches)\",\"Rainfall (inches)\",\"Rainfall (inches)\",\"Rainfall (inches)\",\"Rainfall (inches)\",\"Rainfall (inches)\",\"Rainfall (inches)\",\"Rainfall (inches)\",\"Rainfall (inches)\",\"Rainfall (inches)\",\"Rainfall (inches)\",\"Rainfall (inches)\",\"Rainfall (inches)\",\"Rainfall (inches)\",\"Rainfall (inches)\",\"Rainfall (inches)\",\"Rainfall (inches)\",\"Rainfall (inches)\",\"Rainfall (inches)\",\"Rainfall (inches)\",\"Rainfall (inches)\",\"Rainfall (inches)\",\"Rainfall (inches)\",\"Rainfall (inches)\",\"Rainfall (inches)\",\"Rainfall (inches)\",\"Rainfall (inches)\",\"Rainfall (inches)\",\"Rainfall (inches)\",\"Rainfall (inches)\",\"Rainfall (inches)\",\"Rainfall (inches)\",\"Rainfall (inches)\",\"Rainfall (inches)\",\"Rainfall (inches)\",\"Rainfall (inches)\"]]]}}},\"view\":{\"type\":\"object\",\"name\":\"CDSView\",\"id\":\"3081b3f6-413d-4313-bbd2-85f198ba94b3\",\"attributes\":{\"filter\":{\"type\":\"object\",\"name\":\"AllIndices\",\"id\":\"8752d601-3399-40dc-b932-3da9fffdfda3\"}}},\"glyph\":{\"type\":\"object\",\"name\":\"Line\",\"id\":\"b16ba285-648f-45f6-a68e-8147887e0249\",\"attributes\":{\"tags\":[\"apply_ranges\"],\"x\":{\"type\":\"field\",\"field\":\"date-month\"},\"y\":{\"type\":\"field\",\"field\":\"Rainfall (inches)\"},\"line_color\":\"#fc4f30\",\"line_width\":2}},\"selection_glyph\":{\"type\":\"object\",\"name\":\"Line\",\"id\":\"76b54431-d0c7-4aec-aa8b-7631eb4f8f3d\",\"attributes\":{\"tags\":[\"apply_ranges\"],\"x\":{\"type\":\"field\",\"field\":\"date-month\"},\"y\":{\"type\":\"field\",\"field\":\"Rainfall (inches)\"},\"line_color\":\"#fc4f30\",\"line_width\":2}},\"nonselection_glyph\":{\"type\":\"object\",\"name\":\"Line\",\"id\":\"723a5802-9303-4375-a8fe-2b9154edc076\",\"attributes\":{\"tags\":[\"apply_ranges\"],\"x\":{\"type\":\"field\",\"field\":\"date-month\"},\"y\":{\"type\":\"field\",\"field\":\"Rainfall (inches)\"},\"line_color\":\"#fc4f30\",\"line_alpha\":0.1,\"line_width\":2}},\"muted_glyph\":{\"type\":\"object\",\"name\":\"Line\",\"id\":\"b1a0ecd4-b387-4b92-83dd-bbe3429d32e3\",\"attributes\":{\"tags\":[\"apply_ranges\"],\"x\":{\"type\":\"field\",\"field\":\"date-month\"},\"y\":{\"type\":\"field\",\"field\":\"Rainfall (inches)\"},\"line_color\":\"#fc4f30\",\"line_alpha\":0.2,\"line_width\":2}}}}],\"toolbar\":{\"type\":\"object\",\"name\":\"Toolbar\",\"id\":\"7a4dfe7c-7efc-46e7-90e7-0d3ec41c46d3\",\"attributes\":{\"tools\":[{\"type\":\"object\",\"name\":\"WheelZoomTool\",\"id\":\"f09a18c5-25e2-4796-88b9-228896d48db6\",\"attributes\":{\"tags\":[\"hv_created\"],\"renderers\":\"auto\",\"zoom_together\":\"none\"}},{\"type\":\"object\",\"name\":\"HoverTool\",\"id\":\"b7910acd-192e-4545-92e5-2b055585f6c9\",\"attributes\":{\"tags\":[\"hv_created\"],\"renderers\":[{\"id\":\"70ed2400-c904-4c5d-96d7-61a79e98828c\"}],\"tooltips\":[[\"Variable\",\"@{Variable}\"],[\"date-month\",\"@{date_hyphen_minus_month}{%F %T}\"],[\"value\",\"@{AMOUNT}\"]],\"formatters\":{\"type\":\"map\",\"entries\":[[\"@{date-month}\",\"datetime\"],[\"@{date_hyphen_minus_month}\",\"datetime\"]]}}},{\"type\":\"object\",\"name\":\"HoverTool\",\"id\":\"d29eda20-61f1-4ab8-a57f-ef975d1ff2eb\",\"attributes\":{\"tags\":[\"hv_created\"],\"renderers\":[{\"id\":\"58638a5d-bfe4-4e25-821a-0c0a393d69da\"}],\"tooltips\":[[\"Variable\",\"@{Variable}\"],[\"date-month\",\"@{date_hyphen_minus_month}{%F %T}\"],[\"value\",\"@{Rainfall_left_parenthesis_inches_right_parenthesis}\"]],\"formatters\":{\"type\":\"map\",\"entries\":[[\"@{date-month}\",\"datetime\"],[\"@{date_hyphen_minus_month}\",\"datetime\"]]}}},{\"type\":\"object\",\"name\":\"SaveTool\",\"id\":\"d5727056-cb89-4b9c-8c4b-8e59e71c1f58\"},{\"type\":\"object\",\"name\":\"PanTool\",\"id\":\"da1e1012-06b2-4710-b650-ec6a4fbf9b22\"},{\"type\":\"object\",\"name\":\"BoxZoomTool\",\"id\":\"bd086b6d-d261-4026-b981-38d314916bd6\",\"attributes\":{\"overlay\":{\"type\":\"object\",\"name\":\"BoxAnnotation\",\"id\":\"b00f37ca-5fa6-4295-b489-6baf4e3c7c62\",\"attributes\":{\"syncable\":false,\"line_color\":\"black\",\"line_alpha\":1.0,\"line_width\":2,\"line_dash\":[4,4],\"fill_color\":\"lightgrey\",\"fill_alpha\":0.5,\"level\":\"overlay\",\"visible\":false,\"left\":{\"type\":\"number\",\"value\":\"nan\"},\"right\":{\"type\":\"number\",\"value\":\"nan\"},\"top\":{\"type\":\"number\",\"value\":\"nan\"},\"bottom\":{\"type\":\"number\",\"value\":\"nan\"},\"left_units\":\"canvas\",\"right_units\":\"canvas\",\"top_units\":\"canvas\",\"bottom_units\":\"canvas\",\"handles\":{\"type\":\"object\",\"name\":\"BoxInteractionHandles\",\"id\":\"e914de3c-144b-422d-8e48-5f57531046c6\",\"attributes\":{\"all\":{\"type\":\"object\",\"name\":\"AreaVisuals\",\"id\":\"af2ace76-1e21-4f88-8dbb-0ce28dc9dfe5\",\"attributes\":{\"fill_color\":\"white\",\"hover_fill_color\":\"lightgray\"}}}}}}}},{\"type\":\"object\",\"name\":\"ResetTool\",\"id\":\"cbcba6ed-107b-4693-b23a-7107d0602abc\"}],\"active_drag\":{\"id\":\"da1e1012-06b2-4710-b650-ec6a4fbf9b22\"},\"active_scroll\":{\"id\":\"f09a18c5-25e2-4796-88b9-228896d48db6\"}}},\"left\":[{\"type\":\"object\",\"name\":\"LinearAxis\",\"id\":\"e71209ae-bb20-4e62-b92d-041857739e9a\",\"attributes\":{\"ticker\":{\"type\":\"object\",\"name\":\"BasicTicker\",\"id\":\"dff4ef9b-2bcc-45e2-91a0-8ea772a458c4\",\"attributes\":{\"mantissas\":[1,2,5]}},\"formatter\":{\"type\":\"object\",\"name\":\"BasicTickFormatter\",\"id\":\"e4e141cb-dea8-49dc-80f7-7e5cf6b8d7a4\"},\"axis_label\":\"\",\"major_label_policy\":{\"type\":\"object\",\"name\":\"AllLabels\",\"id\":\"23b59300-6bb8-4342-9c10-9b43a0833583\"}}}],\"right\":[{\"type\":\"object\",\"name\":\"Legend\",\"id\":\"a14affa9-f535-478e-9692-800d6cdca156\",\"attributes\":{\"location\":[0,0],\"title\":\"Variable\",\"click_policy\":\"mute\",\"items\":[{\"type\":\"object\",\"name\":\"LegendItem\",\"id\":\"22b23468-c3fd-4717-b94c-0ffbaac53d94\",\"attributes\":{\"label\":{\"type\":\"value\",\"value\":\"AMOUNT\"},\"renderers\":[{\"id\":\"70ed2400-c904-4c5d-96d7-61a79e98828c\"}]}},{\"type\":\"object\",\"name\":\"LegendItem\",\"id\":\"113aaab8-dbc7-4097-b127-8cb83c903935\",\"attributes\":{\"label\":{\"type\":\"value\",\"value\":\"Rainfall (inches)\"},\"renderers\":[{\"id\":\"58638a5d-bfe4-4e25-821a-0c0a393d69da\"}]}}]}}],\"below\":[{\"type\":\"object\",\"name\":\"DatetimeAxis\",\"id\":\"e75f3c03-9596-47c5-9be9-53d1199bbafd\",\"attributes\":{\"ticker\":{\"type\":\"object\",\"name\":\"DatetimeTicker\",\"id\":\"f16d1a63-95ec-4ec6-a4c1-a66285a0d796\",\"attributes\":{\"num_minor_ticks\":5,\"tickers\":[{\"type\":\"object\",\"name\":\"AdaptiveTicker\",\"id\":\"9e95dbc7-37b4-455a-982a-62e0965f0151\",\"attributes\":{\"num_minor_ticks\":0,\"mantissas\":[1,2,5],\"max_interval\":500.0}},{\"type\":\"object\",\"name\":\"AdaptiveTicker\",\"id\":\"d3108f1a-6df5-4d96-860b-3c93cb3b6119\",\"attributes\":{\"num_minor_ticks\":0,\"base\":60,\"mantissas\":[1,2,5,10,15,20,30],\"min_interval\":1000.0,\"max_interval\":1800000.0}},{\"type\":\"object\",\"name\":\"AdaptiveTicker\",\"id\":\"237abb39-09d2-4acb-878f-fdfe9bc01dbb\",\"attributes\":{\"num_minor_ticks\":0,\"base\":24,\"mantissas\":[1,2,4,6,8,12],\"min_interval\":3600000.0,\"max_interval\":43200000.0}},{\"type\":\"object\",\"name\":\"DaysTicker\",\"id\":\"2212d4a8-3eca-4d07-83c2-abeb44109acc\",\"attributes\":{\"days\":[1,2,3,4,5,6,7,8,9,10,11,12,13,14,15,16,17,18,19,20,21,22,23,24,25,26,27,28,29,30,31]}},{\"type\":\"object\",\"name\":\"DaysTicker\",\"id\":\"1ec9d20b-80ae-48dc-b139-799318735261\",\"attributes\":{\"days\":[1,4,7,10,13,16,19,22,25,28]}},{\"type\":\"object\",\"name\":\"DaysTicker\",\"id\":\"c4dade47-da68-40ee-afac-866173fe5c29\",\"attributes\":{\"days\":[1,8,15,22]}},{\"type\":\"object\",\"name\":\"DaysTicker\",\"id\":\"c178a28e-0ecf-4201-8928-26da3dbca6d5\",\"attributes\":{\"days\":[1,15]}},{\"type\":\"object\",\"name\":\"MonthsTicker\",\"id\":\"9b995223-9d15-4e17-83e4-da7c02b75db5\",\"attributes\":{\"months\":[0,1,2,3,4,5,6,7,8,9,10,11]}},{\"type\":\"object\",\"name\":\"MonthsTicker\",\"id\":\"1b873340-e4b8-4edb-bf0e-ab3a6562c62d\",\"attributes\":{\"months\":[0,2,4,6,8,10]}},{\"type\":\"object\",\"name\":\"MonthsTicker\",\"id\":\"2237263a-fa5c-4ca3-a4dd-e8a55c258e45\",\"attributes\":{\"months\":[0,4,8]}},{\"type\":\"object\",\"name\":\"MonthsTicker\",\"id\":\"8b1893cc-5f9f-446a-8aed-aab069f4ddb0\",\"attributes\":{\"months\":[0,6]}},{\"type\":\"object\",\"name\":\"YearsTicker\",\"id\":\"bb12d364-fdcb-4636-aff5-3a08f5e51eee\"}]}},\"formatter\":{\"type\":\"object\",\"name\":\"DatetimeTickFormatter\",\"id\":\"9fa36f91-71bb-4234-826b-844cf72ed64c\"},\"axis_label\":\"date-month\",\"major_label_orientation\":0.7853981633974483,\"major_label_policy\":{\"type\":\"object\",\"name\":\"AllLabels\",\"id\":\"12fbab1f-8a3b-4c88-8daa-2d08c893435a\"}}}],\"center\":[{\"type\":\"object\",\"name\":\"Grid\",\"id\":\"ed4e0411-fbab-446e-b783-317388b6328f\",\"attributes\":{\"axis\":{\"id\":\"e75f3c03-9596-47c5-9be9-53d1199bbafd\"},\"grid_line_color\":null}},{\"type\":\"object\",\"name\":\"Grid\",\"id\":\"a8823473-170a-4fff-8d0a-a723571e6b94\",\"attributes\":{\"dimension\":1,\"axis\":{\"id\":\"e71209ae-bb20-4e62-b92d-041857739e9a\"},\"grid_line_color\":null}}],\"min_border_top\":10,\"min_border_bottom\":10,\"min_border_left\":10,\"min_border_right\":10,\"output_backend\":\"webgl\"}},{\"type\":\"object\",\"name\":\"Spacer\",\"id\":\"c2136df9-6088-44c7-a29b-3c3915e235d5\",\"attributes\":{\"name\":\"HSpacer00530\",\"stylesheets\":[\"\\n:host(.pn-loading):before, .pn-loading:before {\\n  background-color: #c3c3c3;\\n  mask-size: auto calc(min(50%, 400px));\\n  -webkit-mask-size: auto calc(min(50%, 400px));\\n}\",{\"id\":\"6cee0f42-4c68-4cd8-b892-8bd6091c1f8b\"},{\"id\":\"c5720d02-f9ec-4c61-9a74-2d8b1d05d218\"},{\"id\":\"a68200c4-7c4b-4725-a211-03f3230e37da\"}],\"margin\":0,\"sizing_mode\":\"stretch_width\",\"align\":\"start\"}}]}}],\"defs\":[{\"type\":\"model\",\"name\":\"ReactiveHTML1\"},{\"type\":\"model\",\"name\":\"FlexBox1\",\"properties\":[{\"name\":\"align_content\",\"kind\":\"Any\",\"default\":\"flex-start\"},{\"name\":\"align_items\",\"kind\":\"Any\",\"default\":\"flex-start\"},{\"name\":\"flex_direction\",\"kind\":\"Any\",\"default\":\"row\"},{\"name\":\"flex_wrap\",\"kind\":\"Any\",\"default\":\"wrap\"},{\"name\":\"gap\",\"kind\":\"Any\",\"default\":\"\"},{\"name\":\"justify_content\",\"kind\":\"Any\",\"default\":\"flex-start\"}]},{\"type\":\"model\",\"name\":\"FloatPanel1\",\"properties\":[{\"name\":\"config\",\"kind\":\"Any\",\"default\":{\"type\":\"map\"}},{\"name\":\"contained\",\"kind\":\"Any\",\"default\":true},{\"name\":\"position\",\"kind\":\"Any\",\"default\":\"right-top\"},{\"name\":\"offsetx\",\"kind\":\"Any\",\"default\":null},{\"name\":\"offsety\",\"kind\":\"Any\",\"default\":null},{\"name\":\"theme\",\"kind\":\"Any\",\"default\":\"primary\"},{\"name\":\"status\",\"kind\":\"Any\",\"default\":\"normalized\"}]},{\"type\":\"model\",\"name\":\"GridStack1\",\"properties\":[{\"name\":\"ncols\",\"kind\":\"Any\",\"default\":null},{\"name\":\"nrows\",\"kind\":\"Any\",\"default\":null},{\"name\":\"allow_resize\",\"kind\":\"Any\",\"default\":true},{\"name\":\"allow_drag\",\"kind\":\"Any\",\"default\":true},{\"name\":\"state\",\"kind\":\"Any\",\"default\":[]}]},{\"type\":\"model\",\"name\":\"drag1\",\"properties\":[{\"name\":\"slider_width\",\"kind\":\"Any\",\"default\":5},{\"name\":\"slider_color\",\"kind\":\"Any\",\"default\":\"black\"},{\"name\":\"value\",\"kind\":\"Any\",\"default\":50}]},{\"type\":\"model\",\"name\":\"click1\",\"properties\":[{\"name\":\"terminal_output\",\"kind\":\"Any\",\"default\":\"\"},{\"name\":\"debug_name\",\"kind\":\"Any\",\"default\":\"\"},{\"name\":\"clears\",\"kind\":\"Any\",\"default\":0}]},{\"type\":\"model\",\"name\":\"FastWrapper1\",\"properties\":[{\"name\":\"object\",\"kind\":\"Any\",\"default\":null},{\"name\":\"style\",\"kind\":\"Any\",\"default\":null}]},{\"type\":\"model\",\"name\":\"NotificationArea1\",\"properties\":[{\"name\":\"js_events\",\"kind\":\"Any\",\"default\":{\"type\":\"map\"}},{\"name\":\"max_notifications\",\"kind\":\"Any\",\"default\":5},{\"name\":\"notifications\",\"kind\":\"Any\",\"default\":[]},{\"name\":\"position\",\"kind\":\"Any\",\"default\":\"bottom-right\"},{\"name\":\"_clear\",\"kind\":\"Any\",\"default\":0},{\"name\":\"types\",\"kind\":\"Any\",\"default\":[{\"type\":\"map\",\"entries\":[[\"type\",\"warning\"],[\"background\",\"#ffc107\"],[\"icon\",{\"type\":\"map\",\"entries\":[[\"className\",\"fas fa-exclamation-triangle\"],[\"tagName\",\"i\"],[\"color\",\"white\"]]}]]},{\"type\":\"map\",\"entries\":[[\"type\",\"info\"],[\"background\",\"#007bff\"],[\"icon\",{\"type\":\"map\",\"entries\":[[\"className\",\"fas fa-info-circle\"],[\"tagName\",\"i\"],[\"color\",\"white\"]]}]]}]}]},{\"type\":\"model\",\"name\":\"Notification\",\"properties\":[{\"name\":\"background\",\"kind\":\"Any\",\"default\":null},{\"name\":\"duration\",\"kind\":\"Any\",\"default\":3000},{\"name\":\"icon\",\"kind\":\"Any\",\"default\":null},{\"name\":\"message\",\"kind\":\"Any\",\"default\":\"\"},{\"name\":\"notification_type\",\"kind\":\"Any\",\"default\":null},{\"name\":\"_rendered\",\"kind\":\"Any\",\"default\":false},{\"name\":\"_destroyed\",\"kind\":\"Any\",\"default\":false}]},{\"type\":\"model\",\"name\":\"TemplateActions1\",\"properties\":[{\"name\":\"open_modal\",\"kind\":\"Any\",\"default\":0},{\"name\":\"close_modal\",\"kind\":\"Any\",\"default\":0}]},{\"type\":\"model\",\"name\":\"BootstrapTemplateActions1\",\"properties\":[{\"name\":\"open_modal\",\"kind\":\"Any\",\"default\":0},{\"name\":\"close_modal\",\"kind\":\"Any\",\"default\":0}]},{\"type\":\"model\",\"name\":\"TemplateEditor1\",\"properties\":[{\"name\":\"layout\",\"kind\":\"Any\",\"default\":[]}]},{\"type\":\"model\",\"name\":\"MaterialTemplateActions1\",\"properties\":[{\"name\":\"open_modal\",\"kind\":\"Any\",\"default\":0},{\"name\":\"close_modal\",\"kind\":\"Any\",\"default\":0}]},{\"type\":\"model\",\"name\":\"ReactiveESM1\",\"properties\":[{\"name\":\"esm_constants\",\"kind\":\"Any\",\"default\":{\"type\":\"map\"}}]},{\"type\":\"model\",\"name\":\"JSComponent1\",\"properties\":[{\"name\":\"esm_constants\",\"kind\":\"Any\",\"default\":{\"type\":\"map\"}}]},{\"type\":\"model\",\"name\":\"ReactComponent1\",\"properties\":[{\"name\":\"esm_constants\",\"kind\":\"Any\",\"default\":{\"type\":\"map\"}}]},{\"type\":\"model\",\"name\":\"AnyWidgetComponent1\",\"properties\":[{\"name\":\"esm_constants\",\"kind\":\"Any\",\"default\":{\"type\":\"map\"}}]},{\"type\":\"model\",\"name\":\"request_value1\",\"properties\":[{\"name\":\"fill\",\"kind\":\"Any\",\"default\":\"none\"},{\"name\":\"_synced\",\"kind\":\"Any\",\"default\":null},{\"name\":\"_request_sync\",\"kind\":\"Any\",\"default\":0}]}]}};\n",
       "  var render_items = [{\"docid\":\"706ed71b-d172-4377-9304-28ad54b4b4f0\",\"roots\":{\"095bfbd4-346f-45d6-b5aa-03f404d3ab94\":\"f609d381-22a5-4ea4-b04a-f2feff8f575b\"},\"root_ids\":[\"095bfbd4-346f-45d6-b5aa-03f404d3ab94\"]}];\n",
       "  var docs = Object.values(docs_json)\n",
       "  if (!docs) {\n",
       "    return\n",
       "  }\n",
       "  const py_version = docs[0].version.replace('rc', '-rc.').replace('.dev', '-dev.')\n",
       "  async function embed_document(root) {\n",
       "    var Bokeh = get_bokeh(root)\n",
       "    await Bokeh.embed.embed_items_notebook(docs_json, render_items);\n",
       "    for (const render_item of render_items) {\n",
       "      for (const root_id of render_item.root_ids) {\n",
       "\tconst id_el = document.getElementById(root_id)\n",
       "\tif (id_el.children.length && id_el.children[0].hasAttribute('data-root-id')) {\n",
       "\t  const root_el = id_el.children[0]\n",
       "\t  root_el.id = root_el.id + '-rendered'\n",
       "\t  for (const child of root_el.children) {\n",
       "            // Ensure JupyterLab does not capture keyboard shortcuts\n",
       "            // see: https://jupyterlab.readthedocs.io/en/4.1.x/extension/notebook.html#keyboard-interaction-model\n",
       "\t    child.setAttribute('data-lm-suppress-shortcuts', 'true')\n",
       "\t  }\n",
       "\t}\n",
       "      }\n",
       "    }\n",
       "  }\n",
       "  function get_bokeh(root) {\n",
       "    if (root.Bokeh === undefined) {\n",
       "      return null\n",
       "    } else if (root.Bokeh.version !== py_version) {\n",
       "      if (root.Bokeh.versions === undefined || !root.Bokeh.versions.has(py_version)) {\n",
       "\treturn null\n",
       "      }\n",
       "      return root.Bokeh.versions.get(py_version);\n",
       "    } else if (root.Bokeh.version === py_version) {\n",
       "      return root.Bokeh\n",
       "    }\n",
       "    return null\n",
       "  }\n",
       "  function is_loaded(root) {\n",
       "    var Bokeh = get_bokeh(root)\n",
       "    return (Bokeh != null && Bokeh.Panel !== undefined)\n",
       "  }\n",
       "  if (is_loaded(root)) {\n",
       "    embed_document(root);\n",
       "  } else {\n",
       "    var attempts = 0;\n",
       "    var timer = setInterval(function(root) {\n",
       "      if (is_loaded(root)) {\n",
       "        clearInterval(timer);\n",
       "        embed_document(root);\n",
       "      } else if (document.readyState == \"complete\") {\n",
       "        attempts++;\n",
       "        if (attempts > 200) {\n",
       "          clearInterval(timer);\n",
       "\t  var Bokeh = get_bokeh(root)\n",
       "\t  if (Bokeh == null || Bokeh.Panel == null) {\n",
       "            console.warn(\"Panel: ERROR: Unable to run Panel code because Bokeh or Panel library is missing\");\n",
       "\t  } else {\n",
       "\t    console.warn(\"Panel: WARNING: Attempting to render but not all required libraries could be resolved.\")\n",
       "\t    embed_document(root)\n",
       "\t  }\n",
       "        }\n",
       "      }\n",
       "    }, 25, root)\n",
       "  }\n",
       "})(window);</script>"
      ],
      "text/plain": [
       ":NdOverlay   [Variable]\n",
       "   :Curve   [date-month]   (value)"
      ]
     },
     "execution_count": 32,
     "metadata": {
      "application/vnd.holoviews_exec.v0+json": {
       "id": "095bfbd4-346f-45d6-b5aa-03f404d3ab94"
      }
     },
     "output_type": "execute_result"
    }
   ],
   "source": [
    "(\n",
    "    res\n",
    "    .with_columns(\n",
    "        pl.date(pl.col(\"YEAR\"), pl.col(\"MONTH\"), 1).alias(\"date-month\"),\n",
    "        pl.col(\"Rainfall (inches)\")*100,\n",
    "    )\n",
    "    .hvplot.line(\n",
    "        x=\"date-month\", y=[\"AMOUNT\", \"Rainfall (inches)\"],\n",
    "        by=['EXP_TYPE'],\n",
    "        rot=45,\n",
    "    )\n",
    ")"
   ]
  },
  {
   "cell_type": "markdown",
   "id": "1bf4c85a-c0d6-449a-afc0-9ddfa972a6f8",
   "metadata": {
    "id": "1bf4c85a-c0d6-449a-afc0-9ddfa972a6f8"
   },
   "source": [
    "We intially constructed the GPU engine with `raise_on_fail=True` to demonstrate the breadth of GPU support. Now, we'll demonstrate how a not yet GPU supported feature is handled gracefully when we set `raise_on_fail=False` (the default behavior for `engine=\"gpu\"`).\n",
    "\n",
    "When we use `rolling_mean`, our query smoothly falls back to the CPU to continue running rather than failing."
   ]
  },
  {
   "cell_type": "code",
   "execution_count": 33,
   "id": "d981aadf-240e-4b42-bd07-923b36c2f74a",
   "metadata": {
    "id": "d981aadf-240e-4b42-bd07-923b36c2f74a"
   },
   "outputs": [],
   "source": [
    "engine_with_fallback = pl.GPUEngine(\n",
    "    device=0, # This is the default\n",
    "    raise_on_fail=False, # Fallback to CPU if we can't run on the GPU (this is the default)\n",
    ")"
   ]
  },
  {
   "cell_type": "code",
   "execution_count": 34,
   "id": "242bd5cc-9aa3-4e9a-8095-c7c46cea5075",
   "metadata": {
    "colab": {
     "base_uri": "https://localhost:8080/",
     "height": 290
    },
    "id": "242bd5cc-9aa3-4e9a-8095-c7c46cea5075",
    "outputId": "8927b257-7962-4c65-d230-44f4e9e22b4b"
   },
   "outputs": [
    {
     "name": "stdout",
     "output_type": "stream",
     "text": [
      "CPU times: user 21.3 s, sys: 1min 27s, total: 1min 48s\n",
      "Wall time: 6.8 s\n"
     ]
    },
    {
     "data": {
      "text/html": [
       "<div><style>\n",
       ".dataframe > thead > tr,\n",
       ".dataframe > tbody > tr {\n",
       "  text-align: right;\n",
       "  white-space: pre-wrap;\n",
       "}\n",
       "</style>\n",
       "<small>shape: (5, 11)</small><table border=\"1\" class=\"dataframe\"><thead><tr><th>CUST_ID</th><th>START_DATE</th><th>END_DATE</th><th>TRANS_ID</th><th>DATE</th><th>YEAR</th><th>MONTH</th><th>DAY</th><th>EXP_TYPE</th><th>AMOUNT</th><th>rolling_avg</th></tr><tr><td>str</td><td>date</td><td>date</td><td>str</td><td>date</td><td>i64</td><td>i64</td><td>i64</td><td>str</td><td>f64</td><td>f64</td></tr></thead><tbody><tr><td>&quot;CI6XLYUMQK&quot;</td><td>2015-05-01</td><td>null</td><td>&quot;T8I9ZB5A6X90UG8&quot;</td><td>2015-09-11</td><td>2015</td><td>9</td><td>11</td><td>&quot;Motor/Travel&quot;</td><td>20.27</td><td>null</td></tr><tr><td>&quot;CI6XLYUMQK&quot;</td><td>2015-05-01</td><td>null</td><td>&quot;TZ4JSLS7SC7FO9H&quot;</td><td>2017-02-08</td><td>2017</td><td>2</td><td>8</td><td>&quot;Motor/Travel&quot;</td><td>12.85</td><td>null</td></tr><tr><td>&quot;CI6XLYUMQK&quot;</td><td>2015-05-01</td><td>null</td><td>&quot;TTUKRDDJ6B6F42H&quot;</td><td>2015-08-01</td><td>2015</td><td>8</td><td>1</td><td>&quot;Housing&quot;</td><td>383.8</td><td>null</td></tr><tr><td>&quot;CI6XLYUMQK&quot;</td><td>2015-05-01</td><td>null</td><td>&quot;TDUHFRUKGPPI6HD&quot;</td><td>2019-03-16</td><td>2019</td><td>3</td><td>16</td><td>&quot;Entertainment&quot;</td><td>5.72</td><td>null</td></tr><tr><td>&quot;CI6XLYUMQK&quot;</td><td>2015-05-01</td><td>null</td><td>&quot;T0JBZHBMSVRFMMD&quot;</td><td>2015-05-15</td><td>2015</td><td>5</td><td>15</td><td>&quot;Entertainment&quot;</td><td>11.06</td><td>null</td></tr></tbody></table></div>"
      ],
      "text/plain": [
       "shape: (5, 11)\n",
       "┌────────────┬────────────┬──────────┬──────────────┬───┬─────┬─────────────┬────────┬─────────────┐\n",
       "│ CUST_ID    ┆ START_DATE ┆ END_DATE ┆ TRANS_ID     ┆ … ┆ DAY ┆ EXP_TYPE    ┆ AMOUNT ┆ rolling_avg │\n",
       "│ ---        ┆ ---        ┆ ---      ┆ ---          ┆   ┆ --- ┆ ---         ┆ ---    ┆ ---         │\n",
       "│ str        ┆ date       ┆ date     ┆ str          ┆   ┆ i64 ┆ str         ┆ f64    ┆ f64         │\n",
       "╞════════════╪════════════╪══════════╪══════════════╪═══╪═════╪═════════════╪════════╪═════════════╡\n",
       "│ CI6XLYUMQK ┆ 2015-05-01 ┆ null     ┆ T8I9ZB5A6X90 ┆ … ┆ 11  ┆ Motor/Trave ┆ 20.27  ┆ null        │\n",
       "│            ┆            ┆          ┆ UG8          ┆   ┆     ┆ l           ┆        ┆             │\n",
       "│ CI6XLYUMQK ┆ 2015-05-01 ┆ null     ┆ TZ4JSLS7SC7F ┆ … ┆ 8   ┆ Motor/Trave ┆ 12.85  ┆ null        │\n",
       "│            ┆            ┆          ┆ O9H          ┆   ┆     ┆ l           ┆        ┆             │\n",
       "│ CI6XLYUMQK ┆ 2015-05-01 ┆ null     ┆ TTUKRDDJ6B6F ┆ … ┆ 1   ┆ Housing     ┆ 383.8  ┆ null        │\n",
       "│            ┆            ┆          ┆ 42H          ┆   ┆     ┆             ┆        ┆             │\n",
       "│ CI6XLYUMQK ┆ 2015-05-01 ┆ null     ┆ TDUHFRUKGPPI ┆ … ┆ 16  ┆ Entertainme ┆ 5.72   ┆ null        │\n",
       "│            ┆            ┆          ┆ 6HD          ┆   ┆     ┆ nt          ┆        ┆             │\n",
       "│ CI6XLYUMQK ┆ 2015-05-01 ┆ null     ┆ T0JBZHBMSVRF ┆ … ┆ 15  ┆ Entertainme ┆ 11.06  ┆ null        │\n",
       "│            ┆            ┆          ┆ MMD          ┆   ┆     ┆ nt          ┆        ┆             │\n",
       "└────────────┴────────────┴──────────┴──────────────┴───┴─────┴─────────────┴────────┴─────────────┘"
      ]
     },
     "execution_count": 34,
     "metadata": {},
     "output_type": "execute_result"
    }
   ],
   "source": [
    "%%time\n",
    "\n",
    "result = transactions.with_columns(\n",
    "    pl.col('AMOUNT').rolling_mean(\n",
    "        window_size=7\n",
    "    )\n",
    "     .alias('rolling_avg')\n",
    ").collect(engine=engine_with_fallback)\n",
    "\n",
    "result.head()"
   ]
  },
  {
   "cell_type": "markdown",
   "id": "0f1117ca-8667-49d7-a97e-1e01d9b2aa4b",
   "metadata": {
    "id": "0f1117ca-8667-49d7-a97e-1e01d9b2aa4b"
   },
   "source": [
    "# Conclusion\n",
    "\n",
    "With the new Polars GPU engine powered by cuDF, you can potentially get significant performance gains and lower costs for workflows processing 10-100+ GB of data.\n",
    "\n",
    "To learn more, we encourage you to visit the Polars GPU Support documentation or visit rapids.ai/cudf-polars."
   ]
  }
 ],
 "metadata": {
  "accelerator": "GPU",
  "colab": {
   "gpuType": "T4",
   "include_colab_link": true,
   "provenance": []
  },
  "kernelspec": {
   "display_name": "Python 3 (ipykernel)",
   "language": "python",
   "name": "python3"
  },
  "language_info": {
   "codemirror_mode": {
    "name": "ipython",
    "version": 3
   },
   "file_extension": ".py",
   "mimetype": "text/x-python",
   "name": "python",
   "nbconvert_exporter": "python",
   "pygments_lexer": "ipython3",
   "version": "3.12.9"
  }
 },
 "nbformat": 4,
 "nbformat_minor": 5
}
